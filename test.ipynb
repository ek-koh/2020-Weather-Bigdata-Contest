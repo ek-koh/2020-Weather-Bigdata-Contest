{
 "cells": [
  {
   "cell_type": "code",
   "execution_count": 49,
   "metadata": {
    "ExecuteTime": {
     "end_time": "2020-06-16T02:26:22.271954Z",
     "start_time": "2020-06-16T02:26:22.183155Z"
    }
   },
   "outputs": [],
   "source": [
    "import pandas as pd\n",
    "import missingno\n",
    "import matplotlib.pyplot as plt\n",
    "import seaborn as sns\n",
    "import numpy as np\n",
    "plant1 = pd.read_csv(\"data/11.rawdata_plant/plant1_train.csv\", encoding=\"utf-8\")"
   ]
  },
  {
   "cell_type": "code",
   "execution_count": 2,
   "metadata": {
    "ExecuteTime": {
     "end_time": "2020-06-16T02:11:25.509532Z",
     "start_time": "2020-06-16T02:11:25.504547Z"
    }
   },
   "outputs": [],
   "source": [
    "def upperData(data):\n",
    "    if data == \"plant_test\":\n",
    "        data = data.iloc[:,1:].copy()\n",
    "        data.columns = data.columns.str.replace(str(data)+\"_test\", \"\")\n",
    "        data.columns = data.columns.str.upper()\n",
    "        return data\n",
    "    else:\n",
    "        data = data.iloc[:,1:].copy()\n",
    "        data.columns = data.columns.str.replace(str(data)+\"_train\", \"\")\n",
    "        data.columns = data.columns.str.upper()\n",
    "        return data"
   ]
  },
  {
   "cell_type": "code",
   "execution_count": 3,
   "metadata": {
    "ExecuteTime": {
     "end_time": "2020-06-16T02:11:25.515517Z",
     "start_time": "2020-06-16T02:11:25.511528Z"
    }
   },
   "outputs": [],
   "source": [
    "def upperData(data):\n",
    "    data = data.iloc[:,1:].copy()\n",
    "    data.columns = data.columns.str.replace(str(data)+\"_train\", \"\")\n",
    "    data.columns = data.columns.str.upper()\n",
    "    return data\n"
   ]
  },
  {
   "cell_type": "code",
   "execution_count": 4,
   "metadata": {
    "ExecuteTime": {
     "end_time": "2020-06-16T02:11:25.571368Z",
     "start_time": "2020-06-16T02:11:25.517512Z"
    }
   },
   "outputs": [],
   "source": [
    "plant1 = upperData(plant1)"
   ]
  },
  {
   "cell_type": "code",
   "execution_count": 5,
   "metadata": {
    "ExecuteTime": {
     "end_time": "2020-06-16T02:11:25.598295Z",
     "start_time": "2020-06-16T02:11:25.572365Z"
    }
   },
   "outputs": [
    {
     "data": {
      "text/html": [
       "<div>\n",
       "<style scoped>\n",
       "    .dataframe tbody tr th:only-of-type {\n",
       "        vertical-align: middle;\n",
       "    }\n",
       "\n",
       "    .dataframe tbody tr th {\n",
       "        vertical-align: top;\n",
       "    }\n",
       "\n",
       "    .dataframe thead th {\n",
       "        text-align: right;\n",
       "    }\n",
       "</style>\n",
       "<table border=\"1\" class=\"dataframe\">\n",
       "  <thead>\n",
       "    <tr style=\"text-align: right;\">\n",
       "      <th></th>\n",
       "      <th>PLANT1_TRAIN.MEA_DDHR</th>\n",
       "      <th>PLANT1_TRAIN.TEM_IN_LOC1</th>\n",
       "      <th>PLANT1_TRAIN.HUM_IN_LOC1</th>\n",
       "      <th>PLANT1_TRAIN.TEM_COIL_LOC1</th>\n",
       "      <th>PLANT1_TRAIN.TEM_IN_LOC2</th>\n",
       "      <th>PLANT1_TRAIN.HUM_IN_LOC2</th>\n",
       "      <th>PLANT1_TRAIN.TEM_COIL_LOC2</th>\n",
       "      <th>PLANT1_TRAIN.TEM_IN_LOC3</th>\n",
       "      <th>PLANT1_TRAIN.HUM_IN_LOC3</th>\n",
       "      <th>PLANT1_TRAIN.TEM_COIL_LOC3</th>\n",
       "      <th>PLANT1_TRAIN.TEM_OUT_LOC1</th>\n",
       "      <th>PLANT1_TRAIN.HUM_OUT_LOC1</th>\n",
       "      <th>PLANT1_TRAIN.COND_LOC1</th>\n",
       "      <th>PLANT1_TRAIN.COND_LOC2</th>\n",
       "      <th>PLANT1_TRAIN.COND_LOC3</th>\n",
       "    </tr>\n",
       "  </thead>\n",
       "  <tbody>\n",
       "    <tr>\n",
       "      <td>0</td>\n",
       "      <td>2016-04-01 0:00</td>\n",
       "      <td>16.00</td>\n",
       "      <td>24.00</td>\n",
       "      <td>11.00</td>\n",
       "      <td>14.00</td>\n",
       "      <td>23.00</td>\n",
       "      <td>11.00</td>\n",
       "      <td>13.00</td>\n",
       "      <td>32.00</td>\n",
       "      <td>10.00</td>\n",
       "      <td>9.00</td>\n",
       "      <td>42.00</td>\n",
       "      <td>0.0</td>\n",
       "      <td>0.0</td>\n",
       "      <td>0.0</td>\n",
       "    </tr>\n",
       "    <tr>\n",
       "      <td>1</td>\n",
       "      <td>2016-04-01 3:00</td>\n",
       "      <td>14.00</td>\n",
       "      <td>28.00</td>\n",
       "      <td>10.00</td>\n",
       "      <td>12.00</td>\n",
       "      <td>32.00</td>\n",
       "      <td>9.00</td>\n",
       "      <td>11.00</td>\n",
       "      <td>42.00</td>\n",
       "      <td>7.00</td>\n",
       "      <td>7.00</td>\n",
       "      <td>59.00</td>\n",
       "      <td>0.0</td>\n",
       "      <td>0.0</td>\n",
       "      <td>0.0</td>\n",
       "    </tr>\n",
       "    <tr>\n",
       "      <td>2</td>\n",
       "      <td>2016-04-01 6:00</td>\n",
       "      <td>13.00</td>\n",
       "      <td>33.00</td>\n",
       "      <td>10.00</td>\n",
       "      <td>11.00</td>\n",
       "      <td>37.00</td>\n",
       "      <td>9.00</td>\n",
       "      <td>10.00</td>\n",
       "      <td>44.00</td>\n",
       "      <td>7.00</td>\n",
       "      <td>6.00</td>\n",
       "      <td>56.00</td>\n",
       "      <td>0.0</td>\n",
       "      <td>0.0</td>\n",
       "      <td>0.0</td>\n",
       "    </tr>\n",
       "    <tr>\n",
       "      <td>3</td>\n",
       "      <td>2016-04-01 9:00</td>\n",
       "      <td>13.00</td>\n",
       "      <td>33.00</td>\n",
       "      <td>10.00</td>\n",
       "      <td>11.00</td>\n",
       "      <td>35.00</td>\n",
       "      <td>9.00</td>\n",
       "      <td>10.00</td>\n",
       "      <td>41.00</td>\n",
       "      <td>8.00</td>\n",
       "      <td>18.00</td>\n",
       "      <td>30.00</td>\n",
       "      <td>0.0</td>\n",
       "      <td>0.0</td>\n",
       "      <td>0.0</td>\n",
       "    </tr>\n",
       "    <tr>\n",
       "      <td>4</td>\n",
       "      <td>2016-04-01 12:00</td>\n",
       "      <td>16.00</td>\n",
       "      <td>28.00</td>\n",
       "      <td>10.00</td>\n",
       "      <td>15.00</td>\n",
       "      <td>27.00</td>\n",
       "      <td>11.00</td>\n",
       "      <td>14.00</td>\n",
       "      <td>30.00</td>\n",
       "      <td>9.00</td>\n",
       "      <td>18.00</td>\n",
       "      <td>20.00</td>\n",
       "      <td>0.0</td>\n",
       "      <td>0.0</td>\n",
       "      <td>0.0</td>\n",
       "    </tr>\n",
       "    <tr>\n",
       "      <td>...</td>\n",
       "      <td>...</td>\n",
       "      <td>...</td>\n",
       "      <td>...</td>\n",
       "      <td>...</td>\n",
       "      <td>...</td>\n",
       "      <td>...</td>\n",
       "      <td>...</td>\n",
       "      <td>...</td>\n",
       "      <td>...</td>\n",
       "      <td>...</td>\n",
       "      <td>...</td>\n",
       "      <td>...</td>\n",
       "      <td>...</td>\n",
       "      <td>...</td>\n",
       "      <td>...</td>\n",
       "    </tr>\n",
       "    <tr>\n",
       "      <td>58744</td>\n",
       "      <td>2019-03-31 23:10</td>\n",
       "      <td>10.52</td>\n",
       "      <td>36.39</td>\n",
       "      <td>10.52</td>\n",
       "      <td>10.55</td>\n",
       "      <td>35.20</td>\n",
       "      <td>11.17</td>\n",
       "      <td>9.85</td>\n",
       "      <td>37.88</td>\n",
       "      <td>9.79</td>\n",
       "      <td>6.40</td>\n",
       "      <td>43.86</td>\n",
       "      <td>0.0</td>\n",
       "      <td>0.0</td>\n",
       "      <td>0.0</td>\n",
       "    </tr>\n",
       "    <tr>\n",
       "      <td>58745</td>\n",
       "      <td>2019-03-31 23:20</td>\n",
       "      <td>10.52</td>\n",
       "      <td>37.09</td>\n",
       "      <td>10.44</td>\n",
       "      <td>10.55</td>\n",
       "      <td>35.53</td>\n",
       "      <td>11.09</td>\n",
       "      <td>9.88</td>\n",
       "      <td>38.40</td>\n",
       "      <td>9.72</td>\n",
       "      <td>6.34</td>\n",
       "      <td>44.02</td>\n",
       "      <td>0.0</td>\n",
       "      <td>0.0</td>\n",
       "      <td>0.0</td>\n",
       "    </tr>\n",
       "    <tr>\n",
       "      <td>58746</td>\n",
       "      <td>2019-03-31 23:30</td>\n",
       "      <td>10.43</td>\n",
       "      <td>37.18</td>\n",
       "      <td>10.56</td>\n",
       "      <td>10.49</td>\n",
       "      <td>35.65</td>\n",
       "      <td>11.21</td>\n",
       "      <td>9.85</td>\n",
       "      <td>38.22</td>\n",
       "      <td>9.91</td>\n",
       "      <td>6.40</td>\n",
       "      <td>43.04</td>\n",
       "      <td>0.0</td>\n",
       "      <td>0.0</td>\n",
       "      <td>0.0</td>\n",
       "    </tr>\n",
       "    <tr>\n",
       "      <td>58747</td>\n",
       "      <td>2019-03-31 23:40</td>\n",
       "      <td>10.49</td>\n",
       "      <td>38.00</td>\n",
       "      <td>10.56</td>\n",
       "      <td>10.55</td>\n",
       "      <td>36.08</td>\n",
       "      <td>11.21</td>\n",
       "      <td>9.82</td>\n",
       "      <td>38.95</td>\n",
       "      <td>9.83</td>\n",
       "      <td>6.31</td>\n",
       "      <td>45.33</td>\n",
       "      <td>0.0</td>\n",
       "      <td>0.0</td>\n",
       "      <td>0.0</td>\n",
       "    </tr>\n",
       "    <tr>\n",
       "      <td>58748</td>\n",
       "      <td>2019-03-31 23:50</td>\n",
       "      <td>10.49</td>\n",
       "      <td>38.74</td>\n",
       "      <td>10.52</td>\n",
       "      <td>10.55</td>\n",
       "      <td>36.69</td>\n",
       "      <td>11.01</td>\n",
       "      <td>9.82</td>\n",
       "      <td>39.35</td>\n",
       "      <td>9.83</td>\n",
       "      <td>6.34</td>\n",
       "      <td>45.94</td>\n",
       "      <td>0.0</td>\n",
       "      <td>0.0</td>\n",
       "      <td>0.0</td>\n",
       "    </tr>\n",
       "  </tbody>\n",
       "</table>\n",
       "<p>58749 rows × 15 columns</p>\n",
       "</div>"
      ],
      "text/plain": [
       "      PLANT1_TRAIN.MEA_DDHR  PLANT1_TRAIN.TEM_IN_LOC1  \\\n",
       "0           2016-04-01 0:00                     16.00   \n",
       "1           2016-04-01 3:00                     14.00   \n",
       "2           2016-04-01 6:00                     13.00   \n",
       "3           2016-04-01 9:00                     13.00   \n",
       "4          2016-04-01 12:00                     16.00   \n",
       "...                     ...                       ...   \n",
       "58744      2019-03-31 23:10                     10.52   \n",
       "58745      2019-03-31 23:20                     10.52   \n",
       "58746      2019-03-31 23:30                     10.43   \n",
       "58747      2019-03-31 23:40                     10.49   \n",
       "58748      2019-03-31 23:50                     10.49   \n",
       "\n",
       "       PLANT1_TRAIN.HUM_IN_LOC1  PLANT1_TRAIN.TEM_COIL_LOC1  \\\n",
       "0                         24.00                       11.00   \n",
       "1                         28.00                       10.00   \n",
       "2                         33.00                       10.00   \n",
       "3                         33.00                       10.00   \n",
       "4                         28.00                       10.00   \n",
       "...                         ...                         ...   \n",
       "58744                     36.39                       10.52   \n",
       "58745                     37.09                       10.44   \n",
       "58746                     37.18                       10.56   \n",
       "58747                     38.00                       10.56   \n",
       "58748                     38.74                       10.52   \n",
       "\n",
       "       PLANT1_TRAIN.TEM_IN_LOC2  PLANT1_TRAIN.HUM_IN_LOC2  \\\n",
       "0                         14.00                     23.00   \n",
       "1                         12.00                     32.00   \n",
       "2                         11.00                     37.00   \n",
       "3                         11.00                     35.00   \n",
       "4                         15.00                     27.00   \n",
       "...                         ...                       ...   \n",
       "58744                     10.55                     35.20   \n",
       "58745                     10.55                     35.53   \n",
       "58746                     10.49                     35.65   \n",
       "58747                     10.55                     36.08   \n",
       "58748                     10.55                     36.69   \n",
       "\n",
       "       PLANT1_TRAIN.TEM_COIL_LOC2  PLANT1_TRAIN.TEM_IN_LOC3  \\\n",
       "0                           11.00                     13.00   \n",
       "1                            9.00                     11.00   \n",
       "2                            9.00                     10.00   \n",
       "3                            9.00                     10.00   \n",
       "4                           11.00                     14.00   \n",
       "...                           ...                       ...   \n",
       "58744                       11.17                      9.85   \n",
       "58745                       11.09                      9.88   \n",
       "58746                       11.21                      9.85   \n",
       "58747                       11.21                      9.82   \n",
       "58748                       11.01                      9.82   \n",
       "\n",
       "       PLANT1_TRAIN.HUM_IN_LOC3  PLANT1_TRAIN.TEM_COIL_LOC3  \\\n",
       "0                         32.00                       10.00   \n",
       "1                         42.00                        7.00   \n",
       "2                         44.00                        7.00   \n",
       "3                         41.00                        8.00   \n",
       "4                         30.00                        9.00   \n",
       "...                         ...                         ...   \n",
       "58744                     37.88                        9.79   \n",
       "58745                     38.40                        9.72   \n",
       "58746                     38.22                        9.91   \n",
       "58747                     38.95                        9.83   \n",
       "58748                     39.35                        9.83   \n",
       "\n",
       "       PLANT1_TRAIN.TEM_OUT_LOC1  PLANT1_TRAIN.HUM_OUT_LOC1  \\\n",
       "0                           9.00                      42.00   \n",
       "1                           7.00                      59.00   \n",
       "2                           6.00                      56.00   \n",
       "3                          18.00                      30.00   \n",
       "4                          18.00                      20.00   \n",
       "...                          ...                        ...   \n",
       "58744                       6.40                      43.86   \n",
       "58745                       6.34                      44.02   \n",
       "58746                       6.40                      43.04   \n",
       "58747                       6.31                      45.33   \n",
       "58748                       6.34                      45.94   \n",
       "\n",
       "       PLANT1_TRAIN.COND_LOC1  PLANT1_TRAIN.COND_LOC2  PLANT1_TRAIN.COND_LOC3  \n",
       "0                         0.0                     0.0                     0.0  \n",
       "1                         0.0                     0.0                     0.0  \n",
       "2                         0.0                     0.0                     0.0  \n",
       "3                         0.0                     0.0                     0.0  \n",
       "4                         0.0                     0.0                     0.0  \n",
       "...                       ...                     ...                     ...  \n",
       "58744                     0.0                     0.0                     0.0  \n",
       "58745                     0.0                     0.0                     0.0  \n",
       "58746                     0.0                     0.0                     0.0  \n",
       "58747                     0.0                     0.0                     0.0  \n",
       "58748                     0.0                     0.0                     0.0  \n",
       "\n",
       "[58749 rows x 15 columns]"
      ]
     },
     "execution_count": 5,
     "metadata": {},
     "output_type": "execute_result"
    }
   ],
   "source": [
    "plant1"
   ]
  },
  {
   "cell_type": "code",
   "execution_count": 6,
   "metadata": {
    "ExecuteTime": {
     "end_time": "2020-06-16T02:11:25.605278Z",
     "start_time": "2020-06-16T02:11:25.599292Z"
    }
   },
   "outputs": [],
   "source": [
    "import os\n",
    "from datetime import datetime as dt\n",
    "def save_validation_csv():\n",
    "    save_path = \"data/41.validation/rforest/\"+str(dt.today().strftime(\"%Y%m%d-%H:%M:%S\"))\n",
    "    if not os.path.isdir(save_path):\n",
    "        os.mkdir(save_path)"
   ]
  },
  {
   "cell_type": "code",
   "execution_count": 7,
   "metadata": {
    "ExecuteTime": {
     "end_time": "2020-06-16T02:11:25.723958Z",
     "start_time": "2020-06-16T02:11:25.607272Z"
    }
   },
   "outputs": [
    {
     "ename": "OSError",
     "evalue": "[WinError 123] 파일 이름, 디렉터리 이름 또는 볼륨 레이블 구문이 잘못되었습니다: 'data/41.validation/rforest/20200616-11:11:25'",
     "output_type": "error",
     "traceback": [
      "\u001b[1;31m---------------------------------------------------------------------------\u001b[0m",
      "\u001b[1;31mOSError\u001b[0m                                   Traceback (most recent call last)",
      "\u001b[1;32m<ipython-input-7-cedb13752a51>\u001b[0m in \u001b[0;36m<module>\u001b[1;34m\u001b[0m\n\u001b[0;32m      1\u001b[0m \u001b[0mrforest\u001b[0m\u001b[1;33m=\u001b[0m \u001b[1;34m\"rforest\"\u001b[0m\u001b[1;33m\u001b[0m\u001b[1;33m\u001b[0m\u001b[0m\n\u001b[1;32m----> 2\u001b[1;33m \u001b[0msave_validation_csv\u001b[0m\u001b[1;33m(\u001b[0m\u001b[1;33m)\u001b[0m\u001b[1;33m\u001b[0m\u001b[1;33m\u001b[0m\u001b[0m\n\u001b[0m",
      "\u001b[1;32m<ipython-input-6-3ce3c2b39336>\u001b[0m in \u001b[0;36msave_validation_csv\u001b[1;34m()\u001b[0m\n\u001b[0;32m      4\u001b[0m     \u001b[0msave_path\u001b[0m \u001b[1;33m=\u001b[0m \u001b[1;34m\"data/41.validation/rforest/\"\u001b[0m\u001b[1;33m+\u001b[0m\u001b[0mstr\u001b[0m\u001b[1;33m(\u001b[0m\u001b[0mdt\u001b[0m\u001b[1;33m.\u001b[0m\u001b[0mtoday\u001b[0m\u001b[1;33m(\u001b[0m\u001b[1;33m)\u001b[0m\u001b[1;33m.\u001b[0m\u001b[0mstrftime\u001b[0m\u001b[1;33m(\u001b[0m\u001b[1;34m\"%Y%m%d-%H:%M:%S\"\u001b[0m\u001b[1;33m)\u001b[0m\u001b[1;33m)\u001b[0m\u001b[1;33m\u001b[0m\u001b[1;33m\u001b[0m\u001b[0m\n\u001b[0;32m      5\u001b[0m     \u001b[1;32mif\u001b[0m \u001b[1;32mnot\u001b[0m \u001b[0mos\u001b[0m\u001b[1;33m.\u001b[0m\u001b[0mpath\u001b[0m\u001b[1;33m.\u001b[0m\u001b[0misdir\u001b[0m\u001b[1;33m(\u001b[0m\u001b[0msave_path\u001b[0m\u001b[1;33m)\u001b[0m\u001b[1;33m:\u001b[0m\u001b[1;33m\u001b[0m\u001b[1;33m\u001b[0m\u001b[0m\n\u001b[1;32m----> 6\u001b[1;33m         \u001b[0mos\u001b[0m\u001b[1;33m.\u001b[0m\u001b[0mmkdir\u001b[0m\u001b[1;33m(\u001b[0m\u001b[0msave_path\u001b[0m\u001b[1;33m)\u001b[0m\u001b[1;33m\u001b[0m\u001b[1;33m\u001b[0m\u001b[0m\n\u001b[0m",
      "\u001b[1;31mOSError\u001b[0m: [WinError 123] 파일 이름, 디렉터리 이름 또는 볼륨 레이블 구문이 잘못되었습니다: 'data/41.validation/rforest/20200616-11:11:25'"
     ]
    }
   ],
   "source": [
    "rforest= \"rforest\"\n",
    "save_validation_csv()"
   ]
  },
  {
   "cell_type": "code",
   "execution_count": null,
   "metadata": {
    "ExecuteTime": {
     "end_time": "2020-06-16T02:11:25.725953Z",
     "start_time": "2020-06-16T02:11:22.865Z"
    }
   },
   "outputs": [],
   "source": [
    "save_path = \"data/41.validation/rforest/\"+str(dt.today().strftime(\"%Y%m%d%H%M%S\"))\n",
    "if not os.path.isdir(save_path):\n",
    "    os.mkdir(save_path)"
   ]
  },
  {
   "cell_type": "code",
   "execution_count": null,
   "metadata": {
    "ExecuteTime": {
     "end_time": "2020-06-16T02:11:25.726980Z",
     "start_time": "2020-06-16T02:11:22.867Z"
    }
   },
   "outputs": [],
   "source": [
    "import os\n",
    "from datetime import datetime as dt\n",
    "def save_validation_csv(data, model_name):\n",
    "    \"\"\"모델 별로 저장해주는 함수 data 값과 저장 모델 명을 넣으면 된다\"\"\"\n",
    "    print(model_name)\n",
    "    save_path = \"data/41.validation/\"+model_name+\"/\"+str(dt.today().strftime(\"%Y%m%d%H%M%S\"))\n",
    "    if not os.path.isdir(save_path):\n",
    "        os.mkdir(save_path)\n",
    "    data.to_csv(save_path+\"/203545.csv\",index=False)"
   ]
  },
  {
   "cell_type": "code",
   "execution_count": null,
   "metadata": {
    "ExecuteTime": {
     "end_time": "2020-06-16T02:11:25.728561Z",
     "start_time": "2020-06-16T02:11:22.868Z"
    }
   },
   "outputs": [],
   "source": [
    "datetime.today().strftime(\"%Y%m%d-%H:%M:%S\")"
   ]
  },
  {
   "cell_type": "code",
   "execution_count": null,
   "metadata": {
    "ExecuteTime": {
     "end_time": "2020-06-16T02:11:25.729558Z",
     "start_time": "2020-06-16T02:11:22.870Z"
    }
   },
   "outputs": [],
   "source": [
    "rforest= \"rforest\"\n",
    "save_validation_csv(plant1,\"rforest\")"
   ]
  },
  {
   "cell_type": "code",
   "execution_count": null,
   "metadata": {
    "ExecuteTime": {
     "end_time": "2020-06-16T02:11:25.730555Z",
     "start_time": "2020-06-16T02:11:22.871Z"
    }
   },
   "outputs": [],
   "source": [
    "\"rforest\""
   ]
  },
  {
   "cell_type": "code",
   "execution_count": null,
   "metadata": {
    "ExecuteTime": {
     "end_time": "2020-06-16T02:11:25.731553Z",
     "start_time": "2020-06-16T02:11:22.872Z"
    }
   },
   "outputs": [],
   "source": [
    "caling_category = ['TEM_IN', 'HUM_IN', \"TEM_COIL\", \"TEM_OUT_LOC1\", \"HUM_OUT_LOC1\", \"DEW_POINT_IN\"]"
   ]
  },
  {
   "cell_type": "code",
   "execution_count": null,
   "metadata": {
    "ExecuteTime": {
     "end_time": "2020-06-16T02:11:25.732550Z",
     "start_time": "2020-06-16T02:11:22.874Z"
    }
   },
   "outputs": [],
   "source": [
    "list = [\"time\"]"
   ]
  },
  {
   "cell_type": "code",
   "execution_count": null,
   "metadata": {
    "ExecuteTime": {
     "end_time": "2020-06-16T02:11:25.733548Z",
     "start_time": "2020-06-16T02:11:22.875Z"
    }
   },
   "outputs": [],
   "source": [
    "caling_category.extend(list)\n",
    "caling_category"
   ]
  },
  {
   "cell_type": "code",
   "execution_count": null,
   "metadata": {
    "ExecuteTime": {
     "end_time": "2020-06-16T02:11:25.734544Z",
     "start_time": "2020-06-16T02:11:22.876Z"
    }
   },
   "outputs": [],
   "source": [
    "caling_category"
   ]
  },
  {
   "cell_type": "code",
   "execution_count": 8,
   "metadata": {
    "ExecuteTime": {
     "end_time": "2020-06-16T02:11:31.275439Z",
     "start_time": "2020-06-16T02:11:31.190804Z"
    }
   },
   "outputs": [],
   "source": [
    "from sklearn.preprocessing import StandardScaler\n",
    "def preprosess(data):\n",
    "    # 파생변수를 스케줄링 해줌(표준화)\n",
    "    caling_category = ['TEM_IN', 'HUM_IN', \"TEM_COIL\", \"TEM_OUT_LOC1\", \"HUM_OUT_LOC1\", \"DEW_POINT_IN\"]\n",
    "    scaling_features = data[caling_category]\n",
    "    scaler = StandardScaler()\n",
    "    scaled_nd = scaler.fit_transform(scaling_features)\n",
    "    scaled_df = pd.DataFrame(scaled_nd, columns=scaling_features.columns)\n",
    "    data.drop(caling_category, axis=1, inplace=True)\n",
    "    data = pd.concat([data,scaled_df], axis=1)\n",
    "    # 원-핫 인코딩\n",
    "#     category = [\"PLANT\", \"LOC\", \"MONTH\", \"WEEK\",\"HOUR\"]\n",
    "    dummy_category = [\"PLANT\", \"LOC\"]\n",
    "    data = pd.get_dummies(data , columns=dummy_category)\n",
    "\n",
    "    return data"
   ]
  },
  {
   "cell_type": "code",
   "execution_count": 9,
   "metadata": {
    "ExecuteTime": {
     "end_time": "2020-06-16T02:11:31.650114Z",
     "start_time": "2020-06-16T02:11:31.647122Z"
    }
   },
   "outputs": [],
   "source": [
    "caling_category = ['TEM_IN', 'HUM_IN', \"TEM_COIL\", \"TEM_OUT_LOC1\", \"HUM_OUT_LOC1\", \"DEW_POINT_IN\"]"
   ]
  },
  {
   "cell_type": "code",
   "execution_count": 10,
   "metadata": {
    "ExecuteTime": {
     "end_time": "2020-06-16T02:11:32.027435Z",
     "start_time": "2020-06-16T02:11:32.024905Z"
    }
   },
   "outputs": [],
   "source": [
    "appendList = [\"a\", \"b\", \"c\"]"
   ]
  },
  {
   "cell_type": "code",
   "execution_count": 11,
   "metadata": {
    "ExecuteTime": {
     "end_time": "2020-06-16T02:11:32.413875Z",
     "start_time": "2020-06-16T02:11:32.410882Z"
    }
   },
   "outputs": [],
   "source": [
    "caling_category.extend(appendList)"
   ]
  },
  {
   "cell_type": "code",
   "execution_count": null,
   "metadata": {
    "ExecuteTime": {
     "end_time": "2020-06-16T02:11:25.741526Z",
     "start_time": "2020-06-16T02:11:22.885Z"
    }
   },
   "outputs": [],
   "source": [
    "caling_category.clear()\n",
    "caling_category.append()"
   ]
  },
  {
   "cell_type": "code",
   "execution_count": 14,
   "metadata": {
    "ExecuteTime": {
     "end_time": "2020-06-16T02:11:58.375843Z",
     "start_time": "2020-06-16T02:11:58.360189Z"
    }
   },
   "outputs": [],
   "source": [
    "caling_category = ['TEM_IN', 'HUM_IN', \"TEM_COIL\", \"TEM_OUT_LOC1\", \"HUM_OUT_LOC1\", \"DEW_POINT_IN\"]"
   ]
  },
  {
   "cell_type": "code",
   "execution_count": 15,
   "metadata": {
    "ExecuteTime": {
     "end_time": "2020-06-16T02:12:17.309711Z",
     "start_time": "2020-06-16T02:12:17.305751Z"
    }
   },
   "outputs": [],
   "source": [
    "caling_category.extend(appendList)"
   ]
  },
  {
   "cell_type": "code",
   "execution_count": 16,
   "metadata": {
    "ExecuteTime": {
     "end_time": "2020-06-16T02:12:20.606073Z",
     "start_time": "2020-06-16T02:12:20.601088Z"
    }
   },
   "outputs": [
    {
     "data": {
      "text/plain": [
       "['TEM_IN',\n",
       " 'HUM_IN',\n",
       " 'TEM_COIL',\n",
       " 'TEM_OUT_LOC1',\n",
       " 'HUM_OUT_LOC1',\n",
       " 'DEW_POINT_IN',\n",
       " 'a',\n",
       " 'b',\n",
       " 'c']"
      ]
     },
     "execution_count": 16,
     "metadata": {},
     "output_type": "execute_result"
    }
   ],
   "source": [
    "caling_category"
   ]
  },
  {
   "cell_type": "code",
   "execution_count": 38,
   "metadata": {
    "ExecuteTime": {
     "end_time": "2020-06-16T02:17:51.735613Z",
     "start_time": "2020-06-16T02:17:51.730626Z"
    }
   },
   "outputs": [],
   "source": [
    "basic_category = ['TEM_IN', 'HUM_IN', \"TEM_COIL\", \"TEM_OUT_LOC1\", \"HUM_OUT_LOC1\"]"
   ]
  },
  {
   "cell_type": "code",
   "execution_count": 39,
   "metadata": {
    "ExecuteTime": {
     "end_time": "2020-06-16T02:18:02.171782Z",
     "start_time": "2020-06-16T02:18:02.169193Z"
    }
   },
   "outputs": [],
   "source": [
    "caling_category =  basic_category.extend(appendList)"
   ]
  },
  {
   "cell_type": "code",
   "execution_count": 41,
   "metadata": {
    "ExecuteTime": {
     "end_time": "2020-06-16T02:18:13.517378Z",
     "start_time": "2020-06-16T02:18:13.513389Z"
    }
   },
   "outputs": [],
   "source": [
    "basic_category.extend(addList)"
   ]
  },
  {
   "cell_type": "code",
   "execution_count": 43,
   "metadata": {
    "ExecuteTime": {
     "end_time": "2020-06-16T02:18:37.408906Z",
     "start_time": "2020-06-16T02:18:37.406430Z"
    }
   },
   "outputs": [],
   "source": [
    "caling_category = basic_category.copy()"
   ]
  },
  {
   "cell_type": "code",
   "execution_count": 44,
   "metadata": {
    "ExecuteTime": {
     "end_time": "2020-06-16T02:18:42.854830Z",
     "start_time": "2020-06-16T02:18:42.850841Z"
    }
   },
   "outputs": [
    {
     "data": {
      "text/plain": [
       "['TEM_IN',\n",
       " 'HUM_IN',\n",
       " 'TEM_COIL',\n",
       " 'TEM_OUT_LOC1',\n",
       " 'HUM_OUT_LOC1',\n",
       " 'a',\n",
       " 'b',\n",
       " 'c',\n",
       " 'a',\n",
       " 'b',\n",
       " 'c']"
      ]
     },
     "execution_count": 44,
     "metadata": {},
     "output_type": "execute_result"
    }
   ],
   "source": [
    "# from sklearn.preprocessing import StandardScaler\n",
    "# def preprosess(data):\n",
    "#     # 파생변수를 스케줄링 해줌(표준화)\n",
    "#     caling_category = ['TEM_IN', 'HUM_IN', \"TEM_COIL\", \"TEM_OUT_LOC1\", \"HUM_OUT_LOC1\", \"DEW_POINT_IN\"]\n",
    "#     scaling_features = data[caling_category]\n",
    "#     scaler = StandardScaler()\n",
    "#     scaled_nd = scaler.fit_transform(scaling_features)\n",
    "#     scaled_df = pd.DataFrame(scaled_nd, columns=scaling_features.columns)\n",
    "#     data.drop(caling_category, axis=1, inplace=True)\n",
    "#     data = pd.concat([data,scaled_df], axis=1)\n",
    "#     # 원-핫 인코딩\n",
    "# #     category = [\"PLANT\", \"LOC\", \"MONTH\", \"WEEK\",\"HOUR\"]\n",
    "#     dummy_category = [\"PLANT\", \"LOC\"]\n",
    "#     data = pd.get_dummies(data , columns=dummy_category)\n",
    "\n",
    "#     return data"
   ]
  },
  {
   "cell_type": "code",
   "execution_count": 51,
   "metadata": {
    "ExecuteTime": {
     "end_time": "2020-06-16T02:26:44.745945Z",
     "start_time": "2020-06-16T02:26:44.114491Z"
    }
   },
   "outputs": [
    {
     "data": {
      "text/html": [
       "<div>\n",
       "<style scoped>\n",
       "    .dataframe tbody tr th:only-of-type {\n",
       "        vertical-align: middle;\n",
       "    }\n",
       "\n",
       "    .dataframe tbody tr th {\n",
       "        vertical-align: top;\n",
       "    }\n",
       "\n",
       "    .dataframe thead th {\n",
       "        text-align: right;\n",
       "    }\n",
       "</style>\n",
       "<table border=\"1\" class=\"dataframe\">\n",
       "  <thead>\n",
       "    <tr style=\"text-align: right;\">\n",
       "      <th></th>\n",
       "      <th>MEA_DDHR</th>\n",
       "      <th>PLANT</th>\n",
       "      <th>LOC</th>\n",
       "      <th>TEM_IN</th>\n",
       "      <th>HUM_IN</th>\n",
       "      <th>TEM_COIL</th>\n",
       "      <th>TEM_OUT_LOC1</th>\n",
       "      <th>HUM_OUT_LOC1</th>\n",
       "      <th>X24H_TMA</th>\n",
       "      <th>X24H_COND_LOC</th>\n",
       "      <th>X48H_TMA</th>\n",
       "      <th>X48H_COND_LOC</th>\n",
       "      <th>DEW_POINT_IN</th>\n",
       "    </tr>\n",
       "  </thead>\n",
       "  <tbody>\n",
       "    <tr>\n",
       "      <td>0</td>\n",
       "      <td>2016-04-01 00:00:00</td>\n",
       "      <td>1</td>\n",
       "      <td>1</td>\n",
       "      <td>16.00</td>\n",
       "      <td>24.00</td>\n",
       "      <td>11.00</td>\n",
       "      <td>9.00</td>\n",
       "      <td>42.00</td>\n",
       "      <td>2016-04-02 00:00:00</td>\n",
       "      <td>0.0</td>\n",
       "      <td>2016-04-03 00:00:00</td>\n",
       "      <td>0.0</td>\n",
       "      <td>-4.561169</td>\n",
       "    </tr>\n",
       "    <tr>\n",
       "      <td>1</td>\n",
       "      <td>2016-04-01 03:00:00</td>\n",
       "      <td>1</td>\n",
       "      <td>1</td>\n",
       "      <td>14.00</td>\n",
       "      <td>28.00</td>\n",
       "      <td>10.00</td>\n",
       "      <td>7.00</td>\n",
       "      <td>59.00</td>\n",
       "      <td>2016-04-02 03:00:00</td>\n",
       "      <td>0.0</td>\n",
       "      <td>2016-04-03 03:00:00</td>\n",
       "      <td>0.0</td>\n",
       "      <td>-4.222123</td>\n",
       "    </tr>\n",
       "    <tr>\n",
       "      <td>2</td>\n",
       "      <td>2016-04-01 06:00:00</td>\n",
       "      <td>1</td>\n",
       "      <td>1</td>\n",
       "      <td>13.00</td>\n",
       "      <td>33.00</td>\n",
       "      <td>10.00</td>\n",
       "      <td>6.00</td>\n",
       "      <td>56.00</td>\n",
       "      <td>2016-04-02 06:00:00</td>\n",
       "      <td>0.0</td>\n",
       "      <td>2016-04-03 06:00:00</td>\n",
       "      <td>0.0</td>\n",
       "      <td>-2.896847</td>\n",
       "    </tr>\n",
       "    <tr>\n",
       "      <td>3</td>\n",
       "      <td>2016-04-01 09:00:00</td>\n",
       "      <td>1</td>\n",
       "      <td>1</td>\n",
       "      <td>13.00</td>\n",
       "      <td>33.00</td>\n",
       "      <td>10.00</td>\n",
       "      <td>18.00</td>\n",
       "      <td>30.00</td>\n",
       "      <td>2016-04-02 09:00:00</td>\n",
       "      <td>0.0</td>\n",
       "      <td>2016-04-03 09:00:00</td>\n",
       "      <td>0.0</td>\n",
       "      <td>-2.896847</td>\n",
       "    </tr>\n",
       "    <tr>\n",
       "      <td>4</td>\n",
       "      <td>2016-04-01 12:00:00</td>\n",
       "      <td>1</td>\n",
       "      <td>1</td>\n",
       "      <td>16.00</td>\n",
       "      <td>28.00</td>\n",
       "      <td>10.00</td>\n",
       "      <td>18.00</td>\n",
       "      <td>20.00</td>\n",
       "      <td>2016-04-02 12:00:00</td>\n",
       "      <td>0.0</td>\n",
       "      <td>2016-04-03 12:00:00</td>\n",
       "      <td>0.0</td>\n",
       "      <td>-2.502215</td>\n",
       "    </tr>\n",
       "    <tr>\n",
       "      <td>...</td>\n",
       "      <td>...</td>\n",
       "      <td>...</td>\n",
       "      <td>...</td>\n",
       "      <td>...</td>\n",
       "      <td>...</td>\n",
       "      <td>...</td>\n",
       "      <td>...</td>\n",
       "      <td>...</td>\n",
       "      <td>...</td>\n",
       "      <td>...</td>\n",
       "      <td>...</td>\n",
       "      <td>...</td>\n",
       "      <td>...</td>\n",
       "    </tr>\n",
       "    <tr>\n",
       "      <td>349312</td>\n",
       "      <td>2019-03-31 23:00:00</td>\n",
       "      <td>2</td>\n",
       "      <td>3</td>\n",
       "      <td>8.29</td>\n",
       "      <td>37.82</td>\n",
       "      <td>9.53</td>\n",
       "      <td>4.72</td>\n",
       "      <td>50.98</td>\n",
       "      <td>2019-04-01 23:00:00</td>\n",
       "      <td>0.0</td>\n",
       "      <td>2019-04-02 23:00:00</td>\n",
       "      <td>0.0</td>\n",
       "      <td>-5.252838</td>\n",
       "    </tr>\n",
       "    <tr>\n",
       "      <td>349313</td>\n",
       "      <td>2019-03-31 23:10:00</td>\n",
       "      <td>2</td>\n",
       "      <td>3</td>\n",
       "      <td>8.26</td>\n",
       "      <td>38.34</td>\n",
       "      <td>9.57</td>\n",
       "      <td>4.72</td>\n",
       "      <td>52.11</td>\n",
       "      <td>2019-04-01 23:10:00</td>\n",
       "      <td>0.0</td>\n",
       "      <td>2019-04-02 23:10:00</td>\n",
       "      <td>0.0</td>\n",
       "      <td>-5.099800</td>\n",
       "    </tr>\n",
       "    <tr>\n",
       "      <td>349314</td>\n",
       "      <td>2019-03-31 23:20:00</td>\n",
       "      <td>2</td>\n",
       "      <td>3</td>\n",
       "      <td>8.29</td>\n",
       "      <td>38.92</td>\n",
       "      <td>9.60</td>\n",
       "      <td>4.66</td>\n",
       "      <td>51.01</td>\n",
       "      <td>2019-04-01 23:20:00</td>\n",
       "      <td>0.0</td>\n",
       "      <td>2019-04-02 23:20:00</td>\n",
       "      <td>0.0</td>\n",
       "      <td>-4.874884</td>\n",
       "    </tr>\n",
       "    <tr>\n",
       "      <td>349315</td>\n",
       "      <td>2019-03-31 23:30:00</td>\n",
       "      <td>2</td>\n",
       "      <td>3</td>\n",
       "      <td>8.32</td>\n",
       "      <td>39.13</td>\n",
       "      <td>9.49</td>\n",
       "      <td>4.57</td>\n",
       "      <td>51.47</td>\n",
       "      <td>2019-04-01 23:30:00</td>\n",
       "      <td>0.0</td>\n",
       "      <td>2019-04-02 23:30:00</td>\n",
       "      <td>0.0</td>\n",
       "      <td>-4.776917</td>\n",
       "    </tr>\n",
       "    <tr>\n",
       "      <td>349316</td>\n",
       "      <td>2019-03-31 23:40:00</td>\n",
       "      <td>2</td>\n",
       "      <td>3</td>\n",
       "      <td>8.26</td>\n",
       "      <td>39.62</td>\n",
       "      <td>9.57</td>\n",
       "      <td>4.47</td>\n",
       "      <td>53.14</td>\n",
       "      <td>2019-04-01 23:40:00</td>\n",
       "      <td>0.0</td>\n",
       "      <td>2019-04-02 23:40:00</td>\n",
       "      <td>0.0</td>\n",
       "      <td>-4.666200</td>\n",
       "    </tr>\n",
       "  </tbody>\n",
       "</table>\n",
       "<p>349317 rows × 13 columns</p>\n",
       "</div>"
      ],
      "text/plain": [
       "                   MEA_DDHR  PLANT  LOC  TEM_IN  HUM_IN  TEM_COIL  \\\n",
       "0       2016-04-01 00:00:00      1    1   16.00   24.00     11.00   \n",
       "1       2016-04-01 03:00:00      1    1   14.00   28.00     10.00   \n",
       "2       2016-04-01 06:00:00      1    1   13.00   33.00     10.00   \n",
       "3       2016-04-01 09:00:00      1    1   13.00   33.00     10.00   \n",
       "4       2016-04-01 12:00:00      1    1   16.00   28.00     10.00   \n",
       "...                     ...    ...  ...     ...     ...       ...   \n",
       "349312  2019-03-31 23:00:00      2    3    8.29   37.82      9.53   \n",
       "349313  2019-03-31 23:10:00      2    3    8.26   38.34      9.57   \n",
       "349314  2019-03-31 23:20:00      2    3    8.29   38.92      9.60   \n",
       "349315  2019-03-31 23:30:00      2    3    8.32   39.13      9.49   \n",
       "349316  2019-03-31 23:40:00      2    3    8.26   39.62      9.57   \n",
       "\n",
       "        TEM_OUT_LOC1  HUM_OUT_LOC1             X24H_TMA  X24H_COND_LOC  \\\n",
       "0               9.00         42.00  2016-04-02 00:00:00            0.0   \n",
       "1               7.00         59.00  2016-04-02 03:00:00            0.0   \n",
       "2               6.00         56.00  2016-04-02 06:00:00            0.0   \n",
       "3              18.00         30.00  2016-04-02 09:00:00            0.0   \n",
       "4              18.00         20.00  2016-04-02 12:00:00            0.0   \n",
       "...              ...           ...                  ...            ...   \n",
       "349312          4.72         50.98  2019-04-01 23:00:00            0.0   \n",
       "349313          4.72         52.11  2019-04-01 23:10:00            0.0   \n",
       "349314          4.66         51.01  2019-04-01 23:20:00            0.0   \n",
       "349315          4.57         51.47  2019-04-01 23:30:00            0.0   \n",
       "349316          4.47         53.14  2019-04-01 23:40:00            0.0   \n",
       "\n",
       "                   X48H_TMA  X48H_COND_LOC  DEW_POINT_IN  \n",
       "0       2016-04-03 00:00:00            0.0     -4.561169  \n",
       "1       2016-04-03 03:00:00            0.0     -4.222123  \n",
       "2       2016-04-03 06:00:00            0.0     -2.896847  \n",
       "3       2016-04-03 09:00:00            0.0     -2.896847  \n",
       "4       2016-04-03 12:00:00            0.0     -2.502215  \n",
       "...                     ...            ...           ...  \n",
       "349312  2019-04-02 23:00:00            0.0     -5.252838  \n",
       "349313  2019-04-02 23:10:00            0.0     -5.099800  \n",
       "349314  2019-04-02 23:20:00            0.0     -4.874884  \n",
       "349315  2019-04-02 23:30:00            0.0     -4.776917  \n",
       "349316  2019-04-02 23:40:00            0.0     -4.666200  \n",
       "\n",
       "[349317 rows x 13 columns]"
      ]
     },
     "execution_count": 51,
     "metadata": {},
     "output_type": "execute_result"
    }
   ],
   "source": [
    "plant = pd.read_csv(\"data/31.finaldata_plant/plant.csv\")\n",
    "plant"
   ]
  },
  {
   "cell_type": "code",
   "execution_count": 66,
   "metadata": {
    "ExecuteTime": {
     "end_time": "2020-06-16T02:43:10.044911Z",
     "start_time": "2020-06-16T02:43:10.039899Z"
    }
   },
   "outputs": [],
   "source": [
    "from sklearn.preprocessing import StandardScaler\n",
    "def preprosess(data,caling_list=[],dummy_list=[]):\n",
    "    \"\"\" 이 함수는 표준화와 원-핫 인코딩을 위한 코드\n",
    "        data= 데이터프레임값\n",
    "        caling_list = 스케줄링 해줄 변수들\n",
    "        dummy_list = 원- 핫 인코딩 해줄 변수\n",
    "    \"\"\"\n",
    "    # 파생변수를 스케줄링 해줌(표준화)\n",
    "    caling_category = ['TEM_IN', 'HUM_IN', \"TEM_COIL\", \"TEM_OUT_LOC1\", \"HUM_OUT_LOC1\"]\n",
    "    caling_category.extend(caling_list)\n",
    "    print(\"caling_category:\",caling_category)\n",
    "    scaling_features = data[caling_category]\n",
    "    scaler = StandardScaler()\n",
    "    scaled_nd = scaler.fit_transform(scaling_features)\n",
    "    scaled_df = pd.DataFrame(scaled_nd, columns=scaling_features.columns)\n",
    "    data.drop(caling_category, axis=1, inplace=True)\n",
    "    data = pd.concat([data,scaled_df], axis=1)\n",
    "    # 원-핫 인코딩\n",
    "#     category = [\"PLANT\", \"LOC\", \"MONTH\", \"WEEK\",\"HOUR\"]\n",
    "    dummy_category = [\"PLANT\", \"LOC\"]\n",
    "    dummy_category.extend(dummy_list)\n",
    "    data = pd.get_dummies(data , columns=dummy_category)\n",
    "\n",
    "    return data"
   ]
  },
  {
   "cell_type": "code",
   "execution_count": 67,
   "metadata": {
    "ExecuteTime": {
     "end_time": "2020-06-16T02:43:14.621894Z",
     "start_time": "2020-06-16T02:43:13.466294Z"
    }
   },
   "outputs": [
    {
     "name": "stdout",
     "output_type": "stream",
     "text": [
      "caling_category: ['TEM_IN', 'HUM_IN', 'TEM_COIL', 'TEM_OUT_LOC1', 'HUM_OUT_LOC1', 'DEW_POINT_IN']\n"
     ]
    },
    {
     "data": {
      "text/html": [
       "<div>\n",
       "<style scoped>\n",
       "    .dataframe tbody tr th:only-of-type {\n",
       "        vertical-align: middle;\n",
       "    }\n",
       "\n",
       "    .dataframe tbody tr th {\n",
       "        vertical-align: top;\n",
       "    }\n",
       "\n",
       "    .dataframe thead th {\n",
       "        text-align: right;\n",
       "    }\n",
       "</style>\n",
       "<table border=\"1\" class=\"dataframe\">\n",
       "  <thead>\n",
       "    <tr style=\"text-align: right;\">\n",
       "      <th></th>\n",
       "      <th>MEA_DDHR</th>\n",
       "      <th>X24H_TMA</th>\n",
       "      <th>X24H_COND_LOC</th>\n",
       "      <th>X48H_TMA</th>\n",
       "      <th>X48H_COND_LOC</th>\n",
       "      <th>TEM_IN</th>\n",
       "      <th>HUM_IN</th>\n",
       "      <th>TEM_COIL</th>\n",
       "      <th>TEM_OUT_LOC1</th>\n",
       "      <th>HUM_OUT_LOC1</th>\n",
       "      <th>...</th>\n",
       "      <th>HOUR_14</th>\n",
       "      <th>HOUR_15</th>\n",
       "      <th>HOUR_16</th>\n",
       "      <th>HOUR_17</th>\n",
       "      <th>HOUR_18</th>\n",
       "      <th>HOUR_19</th>\n",
       "      <th>HOUR_20</th>\n",
       "      <th>HOUR_21</th>\n",
       "      <th>HOUR_22</th>\n",
       "      <th>HOUR_23</th>\n",
       "    </tr>\n",
       "  </thead>\n",
       "  <tbody>\n",
       "    <tr>\n",
       "      <td>0</td>\n",
       "      <td>2016-04-01 00:00:00</td>\n",
       "      <td>2016-04-02 00:00:00</td>\n",
       "      <td>0.0</td>\n",
       "      <td>2016-04-03 00:00:00</td>\n",
       "      <td>0.0</td>\n",
       "      <td>-0.036700</td>\n",
       "      <td>-2.057425</td>\n",
       "      <td>-0.486644</td>\n",
       "      <td>-0.416944</td>\n",
       "      <td>-1.060988</td>\n",
       "      <td>...</td>\n",
       "      <td>0</td>\n",
       "      <td>0</td>\n",
       "      <td>0</td>\n",
       "      <td>0</td>\n",
       "      <td>0</td>\n",
       "      <td>0</td>\n",
       "      <td>0</td>\n",
       "      <td>0</td>\n",
       "      <td>0</td>\n",
       "      <td>0</td>\n",
       "    </tr>\n",
       "    <tr>\n",
       "      <td>1</td>\n",
       "      <td>2016-04-01 03:00:00</td>\n",
       "      <td>2016-04-02 03:00:00</td>\n",
       "      <td>0.0</td>\n",
       "      <td>2016-04-03 03:00:00</td>\n",
       "      <td>0.0</td>\n",
       "      <td>-0.237239</td>\n",
       "      <td>-1.768877</td>\n",
       "      <td>-0.585582</td>\n",
       "      <td>-0.597441</td>\n",
       "      <td>-0.155766</td>\n",
       "      <td>...</td>\n",
       "      <td>0</td>\n",
       "      <td>0</td>\n",
       "      <td>0</td>\n",
       "      <td>0</td>\n",
       "      <td>0</td>\n",
       "      <td>0</td>\n",
       "      <td>0</td>\n",
       "      <td>0</td>\n",
       "      <td>0</td>\n",
       "      <td>0</td>\n",
       "    </tr>\n",
       "    <tr>\n",
       "      <td>2</td>\n",
       "      <td>2016-04-01 06:00:00</td>\n",
       "      <td>2016-04-02 06:00:00</td>\n",
       "      <td>0.0</td>\n",
       "      <td>2016-04-03 06:00:00</td>\n",
       "      <td>0.0</td>\n",
       "      <td>-0.337508</td>\n",
       "      <td>-1.408192</td>\n",
       "      <td>-0.585582</td>\n",
       "      <td>-0.687689</td>\n",
       "      <td>-0.315511</td>\n",
       "      <td>...</td>\n",
       "      <td>0</td>\n",
       "      <td>0</td>\n",
       "      <td>0</td>\n",
       "      <td>0</td>\n",
       "      <td>0</td>\n",
       "      <td>0</td>\n",
       "      <td>0</td>\n",
       "      <td>0</td>\n",
       "      <td>0</td>\n",
       "      <td>0</td>\n",
       "    </tr>\n",
       "    <tr>\n",
       "      <td>3</td>\n",
       "      <td>2016-04-01 09:00:00</td>\n",
       "      <td>2016-04-02 09:00:00</td>\n",
       "      <td>0.0</td>\n",
       "      <td>2016-04-03 09:00:00</td>\n",
       "      <td>0.0</td>\n",
       "      <td>-0.337508</td>\n",
       "      <td>-1.408192</td>\n",
       "      <td>-0.585582</td>\n",
       "      <td>0.395291</td>\n",
       "      <td>-1.699968</td>\n",
       "      <td>...</td>\n",
       "      <td>0</td>\n",
       "      <td>0</td>\n",
       "      <td>0</td>\n",
       "      <td>0</td>\n",
       "      <td>0</td>\n",
       "      <td>0</td>\n",
       "      <td>0</td>\n",
       "      <td>0</td>\n",
       "      <td>0</td>\n",
       "      <td>0</td>\n",
       "    </tr>\n",
       "    <tr>\n",
       "      <td>4</td>\n",
       "      <td>2016-04-01 12:00:00</td>\n",
       "      <td>2016-04-02 12:00:00</td>\n",
       "      <td>0.0</td>\n",
       "      <td>2016-04-03 12:00:00</td>\n",
       "      <td>0.0</td>\n",
       "      <td>-0.036700</td>\n",
       "      <td>-1.768877</td>\n",
       "      <td>-0.585582</td>\n",
       "      <td>0.395291</td>\n",
       "      <td>-2.232452</td>\n",
       "      <td>...</td>\n",
       "      <td>0</td>\n",
       "      <td>0</td>\n",
       "      <td>0</td>\n",
       "      <td>0</td>\n",
       "      <td>0</td>\n",
       "      <td>0</td>\n",
       "      <td>0</td>\n",
       "      <td>0</td>\n",
       "      <td>0</td>\n",
       "      <td>0</td>\n",
       "    </tr>\n",
       "    <tr>\n",
       "      <td>...</td>\n",
       "      <td>...</td>\n",
       "      <td>...</td>\n",
       "      <td>...</td>\n",
       "      <td>...</td>\n",
       "      <td>...</td>\n",
       "      <td>...</td>\n",
       "      <td>...</td>\n",
       "      <td>...</td>\n",
       "      <td>...</td>\n",
       "      <td>...</td>\n",
       "      <td>...</td>\n",
       "      <td>...</td>\n",
       "      <td>...</td>\n",
       "      <td>...</td>\n",
       "      <td>...</td>\n",
       "      <td>...</td>\n",
       "      <td>...</td>\n",
       "      <td>...</td>\n",
       "      <td>...</td>\n",
       "      <td>...</td>\n",
       "      <td>...</td>\n",
       "    </tr>\n",
       "    <tr>\n",
       "      <td>349312</td>\n",
       "      <td>2019-03-31 23:00:00</td>\n",
       "      <td>2019-04-01 23:00:00</td>\n",
       "      <td>0.0</td>\n",
       "      <td>2019-04-02 23:00:00</td>\n",
       "      <td>0.0</td>\n",
       "      <td>-0.809775</td>\n",
       "      <td>-1.060492</td>\n",
       "      <td>-0.632083</td>\n",
       "      <td>-0.803207</td>\n",
       "      <td>-0.582818</td>\n",
       "      <td>...</td>\n",
       "      <td>0</td>\n",
       "      <td>0</td>\n",
       "      <td>0</td>\n",
       "      <td>0</td>\n",
       "      <td>0</td>\n",
       "      <td>0</td>\n",
       "      <td>0</td>\n",
       "      <td>0</td>\n",
       "      <td>0</td>\n",
       "      <td>1</td>\n",
       "    </tr>\n",
       "    <tr>\n",
       "      <td>349313</td>\n",
       "      <td>2019-03-31 23:10:00</td>\n",
       "      <td>2019-04-01 23:10:00</td>\n",
       "      <td>0.0</td>\n",
       "      <td>2019-04-02 23:10:00</td>\n",
       "      <td>0.0</td>\n",
       "      <td>-0.812784</td>\n",
       "      <td>-1.022981</td>\n",
       "      <td>-0.628125</td>\n",
       "      <td>-0.803207</td>\n",
       "      <td>-0.522647</td>\n",
       "      <td>...</td>\n",
       "      <td>0</td>\n",
       "      <td>0</td>\n",
       "      <td>0</td>\n",
       "      <td>0</td>\n",
       "      <td>0</td>\n",
       "      <td>0</td>\n",
       "      <td>0</td>\n",
       "      <td>0</td>\n",
       "      <td>0</td>\n",
       "      <td>1</td>\n",
       "    </tr>\n",
       "    <tr>\n",
       "      <td>349314</td>\n",
       "      <td>2019-03-31 23:20:00</td>\n",
       "      <td>2019-04-01 23:20:00</td>\n",
       "      <td>0.0</td>\n",
       "      <td>2019-04-02 23:20:00</td>\n",
       "      <td>0.0</td>\n",
       "      <td>-0.809775</td>\n",
       "      <td>-0.981142</td>\n",
       "      <td>-0.625157</td>\n",
       "      <td>-0.808622</td>\n",
       "      <td>-0.581220</td>\n",
       "      <td>...</td>\n",
       "      <td>0</td>\n",
       "      <td>0</td>\n",
       "      <td>0</td>\n",
       "      <td>0</td>\n",
       "      <td>0</td>\n",
       "      <td>0</td>\n",
       "      <td>0</td>\n",
       "      <td>0</td>\n",
       "      <td>0</td>\n",
       "      <td>1</td>\n",
       "    </tr>\n",
       "    <tr>\n",
       "      <td>349315</td>\n",
       "      <td>2019-03-31 23:30:00</td>\n",
       "      <td>2019-04-01 23:30:00</td>\n",
       "      <td>0.0</td>\n",
       "      <td>2019-04-02 23:30:00</td>\n",
       "      <td>0.0</td>\n",
       "      <td>-0.806767</td>\n",
       "      <td>-0.965993</td>\n",
       "      <td>-0.636040</td>\n",
       "      <td>-0.816744</td>\n",
       "      <td>-0.556726</td>\n",
       "      <td>...</td>\n",
       "      <td>0</td>\n",
       "      <td>0</td>\n",
       "      <td>0</td>\n",
       "      <td>0</td>\n",
       "      <td>0</td>\n",
       "      <td>0</td>\n",
       "      <td>0</td>\n",
       "      <td>0</td>\n",
       "      <td>0</td>\n",
       "      <td>1</td>\n",
       "    </tr>\n",
       "    <tr>\n",
       "      <td>349316</td>\n",
       "      <td>2019-03-31 23:40:00</td>\n",
       "      <td>2019-04-01 23:40:00</td>\n",
       "      <td>0.0</td>\n",
       "      <td>2019-04-02 23:40:00</td>\n",
       "      <td>0.0</td>\n",
       "      <td>-0.812784</td>\n",
       "      <td>-0.930646</td>\n",
       "      <td>-0.628125</td>\n",
       "      <td>-0.825769</td>\n",
       "      <td>-0.467801</td>\n",
       "      <td>...</td>\n",
       "      <td>0</td>\n",
       "      <td>0</td>\n",
       "      <td>0</td>\n",
       "      <td>0</td>\n",
       "      <td>0</td>\n",
       "      <td>0</td>\n",
       "      <td>0</td>\n",
       "      <td>0</td>\n",
       "      <td>0</td>\n",
       "      <td>1</td>\n",
       "    </tr>\n",
       "  </tbody>\n",
       "</table>\n",
       "<p>349317 rows × 104 columns</p>\n",
       "</div>"
      ],
      "text/plain": [
       "                   MEA_DDHR             X24H_TMA  X24H_COND_LOC  \\\n",
       "0       2016-04-01 00:00:00  2016-04-02 00:00:00            0.0   \n",
       "1       2016-04-01 03:00:00  2016-04-02 03:00:00            0.0   \n",
       "2       2016-04-01 06:00:00  2016-04-02 06:00:00            0.0   \n",
       "3       2016-04-01 09:00:00  2016-04-02 09:00:00            0.0   \n",
       "4       2016-04-01 12:00:00  2016-04-02 12:00:00            0.0   \n",
       "...                     ...                  ...            ...   \n",
       "349312  2019-03-31 23:00:00  2019-04-01 23:00:00            0.0   \n",
       "349313  2019-03-31 23:10:00  2019-04-01 23:10:00            0.0   \n",
       "349314  2019-03-31 23:20:00  2019-04-01 23:20:00            0.0   \n",
       "349315  2019-03-31 23:30:00  2019-04-01 23:30:00            0.0   \n",
       "349316  2019-03-31 23:40:00  2019-04-01 23:40:00            0.0   \n",
       "\n",
       "                   X48H_TMA  X48H_COND_LOC    TEM_IN    HUM_IN  TEM_COIL  \\\n",
       "0       2016-04-03 00:00:00            0.0 -0.036700 -2.057425 -0.486644   \n",
       "1       2016-04-03 03:00:00            0.0 -0.237239 -1.768877 -0.585582   \n",
       "2       2016-04-03 06:00:00            0.0 -0.337508 -1.408192 -0.585582   \n",
       "3       2016-04-03 09:00:00            0.0 -0.337508 -1.408192 -0.585582   \n",
       "4       2016-04-03 12:00:00            0.0 -0.036700 -1.768877 -0.585582   \n",
       "...                     ...            ...       ...       ...       ...   \n",
       "349312  2019-04-02 23:00:00            0.0 -0.809775 -1.060492 -0.632083   \n",
       "349313  2019-04-02 23:10:00            0.0 -0.812784 -1.022981 -0.628125   \n",
       "349314  2019-04-02 23:20:00            0.0 -0.809775 -0.981142 -0.625157   \n",
       "349315  2019-04-02 23:30:00            0.0 -0.806767 -0.965993 -0.636040   \n",
       "349316  2019-04-02 23:40:00            0.0 -0.812784 -0.930646 -0.628125   \n",
       "\n",
       "        TEM_OUT_LOC1  HUM_OUT_LOC1  ...  HOUR_14  HOUR_15  HOUR_16  HOUR_17  \\\n",
       "0          -0.416944     -1.060988  ...        0        0        0        0   \n",
       "1          -0.597441     -0.155766  ...        0        0        0        0   \n",
       "2          -0.687689     -0.315511  ...        0        0        0        0   \n",
       "3           0.395291     -1.699968  ...        0        0        0        0   \n",
       "4           0.395291     -2.232452  ...        0        0        0        0   \n",
       "...              ...           ...  ...      ...      ...      ...      ...   \n",
       "349312     -0.803207     -0.582818  ...        0        0        0        0   \n",
       "349313     -0.803207     -0.522647  ...        0        0        0        0   \n",
       "349314     -0.808622     -0.581220  ...        0        0        0        0   \n",
       "349315     -0.816744     -0.556726  ...        0        0        0        0   \n",
       "349316     -0.825769     -0.467801  ...        0        0        0        0   \n",
       "\n",
       "        HOUR_18  HOUR_19  HOUR_20  HOUR_21  HOUR_22  HOUR_23  \n",
       "0             0        0        0        0        0        0  \n",
       "1             0        0        0        0        0        0  \n",
       "2             0        0        0        0        0        0  \n",
       "3             0        0        0        0        0        0  \n",
       "4             0        0        0        0        0        0  \n",
       "...         ...      ...      ...      ...      ...      ...  \n",
       "349312        0        0        0        0        0        1  \n",
       "349313        0        0        0        0        0        1  \n",
       "349314        0        0        0        0        0        1  \n",
       "349315        0        0        0        0        0        1  \n",
       "349316        0        0        0        0        0        1  \n",
       "\n",
       "[349317 rows x 104 columns]"
      ]
     },
     "execution_count": 67,
     "metadata": {},
     "output_type": "execute_result"
    }
   ],
   "source": [
    "plant = pd.read_csv(\"data/31.finaldata_plant/plant.csv\")\n",
    "dummy_list = [\"MONTH\",\"WEEK\",\"HOUR\"]\n",
    "caling_list= [\"DEW_POINT_IN\"]\n",
    "plant = preprosess(plant,caling_list,dummy_list=dummy_list)\n",
    "plant"
   ]
  },
  {
   "cell_type": "code",
   "execution_count": null,
   "metadata": {},
   "outputs": [],
   "source": [
    "plant.to_csv()"
   ]
  }
 ],
 "metadata": {
  "hide_input": false,
  "kernelspec": {
   "display_name": "Python 3",
   "language": "python",
   "name": "python3"
  },
  "language_info": {
   "codemirror_mode": {
    "name": "ipython",
    "version": 3
   },
   "file_extension": ".py",
   "mimetype": "text/x-python",
   "name": "python",
   "nbconvert_exporter": "python",
   "pygments_lexer": "ipython3",
   "version": "3.7.4"
  },
  "toc": {
   "base_numbering": 1,
   "nav_menu": {},
   "number_sections": true,
   "sideBar": true,
   "skip_h1_title": false,
   "title_cell": "Table of Contents",
   "title_sidebar": "Contents",
   "toc_cell": false,
   "toc_position": {},
   "toc_section_display": true,
   "toc_window_display": false
  }
 },
 "nbformat": 4,
 "nbformat_minor": 2
}
