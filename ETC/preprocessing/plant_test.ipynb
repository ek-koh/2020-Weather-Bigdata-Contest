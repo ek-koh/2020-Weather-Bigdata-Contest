{
 "cells": [
  {
   "cell_type": "markdown",
   "metadata": {},
   "source": [
    "# 컬럼 정리"
   ]
  },
  {
   "cell_type": "code",
   "execution_count": 1,
   "metadata": {},
   "outputs": [],
   "source": [
    "import pandas as pd"
   ]
  },
  {
   "cell_type": "code",
   "execution_count": 13,
   "metadata": {},
   "outputs": [
    {
     "data": {
      "text/html": [
       "<div>\n",
       "<style scoped>\n",
       "    .dataframe tbody tr th:only-of-type {\n",
       "        vertical-align: middle;\n",
       "    }\n",
       "\n",
       "    .dataframe tbody tr th {\n",
       "        vertical-align: top;\n",
       "    }\n",
       "\n",
       "    .dataframe thead th {\n",
       "        text-align: right;\n",
       "    }\n",
       "</style>\n",
       "<table border=\"1\" class=\"dataframe\">\n",
       "  <thead>\n",
       "    <tr style=\"text-align: right;\">\n",
       "      <th></th>\n",
       "      <th>Unnamed: 0</th>\n",
       "      <th>mea_ddhr</th>\n",
       "      <th>plant</th>\n",
       "      <th>loc</th>\n",
       "      <th>tem_in</th>\n",
       "      <th>hum_in</th>\n",
       "      <th>tem_coil</th>\n",
       "      <th>tem_out_loc1</th>\n",
       "      <th>hum_out_loc1</th>\n",
       "      <th>x24h_tma</th>\n",
       "      <th>x24h_cond_loc</th>\n",
       "      <th>x48h_tma</th>\n",
       "      <th>x48h_cond_loc</th>\n",
       "    </tr>\n",
       "  </thead>\n",
       "  <tbody>\n",
       "    <tr>\n",
       "      <th>0</th>\n",
       "      <td>1</td>\n",
       "      <td>2019-04-01 0:00</td>\n",
       "      <td>2</td>\n",
       "      <td>3</td>\n",
       "      <td>8.17</td>\n",
       "      <td>40.42</td>\n",
       "      <td>10.10</td>\n",
       "      <td>4.20</td>\n",
       "      <td>54.82</td>\n",
       "      <td>2019-04-02 0:00</td>\n",
       "      <td>NaN</td>\n",
       "      <td>2019-04-03 0:00</td>\n",
       "      <td>NaN</td>\n",
       "    </tr>\n",
       "    <tr>\n",
       "      <th>1</th>\n",
       "      <td>2</td>\n",
       "      <td>2019-04-01 4:30</td>\n",
       "      <td>1</td>\n",
       "      <td>2</td>\n",
       "      <td>10.03</td>\n",
       "      <td>48.81</td>\n",
       "      <td>10.79</td>\n",
       "      <td>6.09</td>\n",
       "      <td>59.34</td>\n",
       "      <td>2019-04-02 4:30</td>\n",
       "      <td>NaN</td>\n",
       "      <td>2019-04-03 4:30</td>\n",
       "      <td>NaN</td>\n",
       "    </tr>\n",
       "    <tr>\n",
       "      <th>2</th>\n",
       "      <td>3</td>\n",
       "      <td>2019-04-01 10:30</td>\n",
       "      <td>2</td>\n",
       "      <td>3</td>\n",
       "      <td>9.45</td>\n",
       "      <td>40.93</td>\n",
       "      <td>9.07</td>\n",
       "      <td>12.26</td>\n",
       "      <td>32.14</td>\n",
       "      <td>2019-04-02 10:30</td>\n",
       "      <td>NaN</td>\n",
       "      <td>2019-04-03 10:30</td>\n",
       "      <td>NaN</td>\n",
       "    </tr>\n",
       "    <tr>\n",
       "      <th>3</th>\n",
       "      <td>4</td>\n",
       "      <td>2019-04-01 11:00</td>\n",
       "      <td>1</td>\n",
       "      <td>1</td>\n",
       "      <td>12.32</td>\n",
       "      <td>34.13</td>\n",
       "      <td>10.86</td>\n",
       "      <td>12.32</td>\n",
       "      <td>28.27</td>\n",
       "      <td>2019-04-02 11:00</td>\n",
       "      <td>NaN</td>\n",
       "      <td>2019-04-03 11:00</td>\n",
       "      <td>NaN</td>\n",
       "    </tr>\n",
       "    <tr>\n",
       "      <th>4</th>\n",
       "      <td>5</td>\n",
       "      <td>2019-04-01 13:30</td>\n",
       "      <td>2</td>\n",
       "      <td>1</td>\n",
       "      <td>11.28</td>\n",
       "      <td>22.65</td>\n",
       "      <td>8.76</td>\n",
       "      <td>12.01</td>\n",
       "      <td>19.84</td>\n",
       "      <td>2019-04-02 13:30</td>\n",
       "      <td>NaN</td>\n",
       "      <td>2019-04-03 13:30</td>\n",
       "      <td>NaN</td>\n",
       "    </tr>\n",
       "  </tbody>\n",
       "</table>\n",
       "</div>"
      ],
      "text/plain": [
       "   Unnamed: 0          mea_ddhr  plant  loc  tem_in  hum_in  tem_coil  \\\n",
       "0           1   2019-04-01 0:00      2    3    8.17   40.42     10.10   \n",
       "1           2   2019-04-01 4:30      1    2   10.03   48.81     10.79   \n",
       "2           3  2019-04-01 10:30      2    3    9.45   40.93      9.07   \n",
       "3           4  2019-04-01 11:00      1    1   12.32   34.13     10.86   \n",
       "4           5  2019-04-01 13:30      2    1   11.28   22.65      8.76   \n",
       "\n",
       "   tem_out_loc1  hum_out_loc1          x24h_tma  x24h_cond_loc  \\\n",
       "0          4.20         54.82   2019-04-02 0:00            NaN   \n",
       "1          6.09         59.34   2019-04-02 4:30            NaN   \n",
       "2         12.26         32.14  2019-04-02 10:30            NaN   \n",
       "3         12.32         28.27  2019-04-02 11:00            NaN   \n",
       "4         12.01         19.84  2019-04-02 13:30            NaN   \n",
       "\n",
       "           x48h_tma  x48h_cond_loc  \n",
       "0   2019-04-03 0:00            NaN  \n",
       "1   2019-04-03 4:30            NaN  \n",
       "2  2019-04-03 10:30            NaN  \n",
       "3  2019-04-03 11:00            NaN  \n",
       "4  2019-04-03 13:30            NaN  "
      ]
     },
     "execution_count": 13,
     "metadata": {},
     "output_type": "execute_result"
    }
   ],
   "source": [
    "test = pd.read_csv('../data/plant_test.csv')\n",
    "test.head()"
   ]
  },
  {
   "cell_type": "code",
   "execution_count": 14,
   "metadata": {},
   "outputs": [
    {
     "data": {
      "text/html": [
       "<div>\n",
       "<style scoped>\n",
       "    .dataframe tbody tr th:only-of-type {\n",
       "        vertical-align: middle;\n",
       "    }\n",
       "\n",
       "    .dataframe tbody tr th {\n",
       "        vertical-align: top;\n",
       "    }\n",
       "\n",
       "    .dataframe thead th {\n",
       "        text-align: right;\n",
       "    }\n",
       "</style>\n",
       "<table border=\"1\" class=\"dataframe\">\n",
       "  <thead>\n",
       "    <tr style=\"text-align: right;\">\n",
       "      <th></th>\n",
       "      <th>MEA_DDHR</th>\n",
       "      <th>PLANT</th>\n",
       "      <th>LOC</th>\n",
       "      <th>TEM_IN</th>\n",
       "      <th>HUM_IN</th>\n",
       "      <th>TEM_COIL</th>\n",
       "      <th>TEM_OUT_LOC1</th>\n",
       "      <th>HUM_OUT_LOC1</th>\n",
       "      <th>X24H_TMA</th>\n",
       "      <th>X24H_COND_LOC</th>\n",
       "      <th>X48H_TMA</th>\n",
       "      <th>X48H_COND_LOC</th>\n",
       "    </tr>\n",
       "  </thead>\n",
       "  <tbody>\n",
       "    <tr>\n",
       "      <th>0</th>\n",
       "      <td>2019-04-01 0:00</td>\n",
       "      <td>2</td>\n",
       "      <td>3</td>\n",
       "      <td>8.17</td>\n",
       "      <td>40.42</td>\n",
       "      <td>10.1</td>\n",
       "      <td>4.2</td>\n",
       "      <td>54.82</td>\n",
       "      <td>2019-04-02 0:00</td>\n",
       "      <td>NaN</td>\n",
       "      <td>2019-04-03 0:00</td>\n",
       "      <td>NaN</td>\n",
       "    </tr>\n",
       "  </tbody>\n",
       "</table>\n",
       "</div>"
      ],
      "text/plain": [
       "          MEA_DDHR  PLANT  LOC  TEM_IN  HUM_IN  TEM_COIL  TEM_OUT_LOC1  \\\n",
       "0  2019-04-01 0:00      2    3    8.17   40.42      10.1           4.2   \n",
       "\n",
       "   HUM_OUT_LOC1         X24H_TMA  X24H_COND_LOC         X48H_TMA  \\\n",
       "0         54.82  2019-04-02 0:00            NaN  2019-04-03 0:00   \n",
       "\n",
       "   X48H_COND_LOC  \n",
       "0            NaN  "
      ]
     },
     "execution_count": 14,
     "metadata": {},
     "output_type": "execute_result"
    }
   ],
   "source": [
    "test.columns = test.columns.str.upper()\n",
    "del test['UNNAMED: 0']\n",
    "test.head(1)"
   ]
  },
  {
   "cell_type": "markdown",
   "metadata": {},
   "source": [
    "# 결측치 처리"
   ]
  },
  {
   "cell_type": "code",
   "execution_count": 15,
   "metadata": {},
   "outputs": [
    {
     "data": {
      "text/plain": [
       "MEA_DDHR            0\n",
       "PLANT               0\n",
       "LOC                 0\n",
       "TEM_IN              0\n",
       "HUM_IN              0\n",
       "TEM_COIL            0\n",
       "TEM_OUT_LOC1        0\n",
       "HUM_OUT_LOC1        0\n",
       "X24H_TMA            0\n",
       "X24H_COND_LOC    3539\n",
       "X48H_TMA            0\n",
       "X48H_COND_LOC    3539\n",
       "dtype: int64"
      ]
     },
     "execution_count": 15,
     "metadata": {},
     "output_type": "execute_result"
    }
   ],
   "source": [
    "test.isnull().sum()"
   ]
  },
  {
   "cell_type": "code",
   "execution_count": 17,
   "metadata": {},
   "outputs": [
    {
     "data": {
      "text/plain": [
       "MEA_DDHR         0\n",
       "PLANT            0\n",
       "LOC              0\n",
       "TEM_IN           0\n",
       "HUM_IN           0\n",
       "TEM_COIL         0\n",
       "TEM_OUT_LOC1     0\n",
       "HUM_OUT_LOC1     0\n",
       "X24H_TMA         0\n",
       "X24H_COND_LOC    0\n",
       "X48H_TMA         0\n",
       "X48H_COND_LOC    0\n",
       "dtype: int64"
      ]
     },
     "execution_count": 17,
     "metadata": {},
     "output_type": "execute_result"
    }
   ],
   "source": [
    "test = test.fillna(2)\n",
    "test.isnull().sum()"
   ]
  },
  {
   "cell_type": "code",
   "execution_count": 19,
   "metadata": {},
   "outputs": [],
   "source": [
    "test.to_csv('../data/plant_test.csv', encoding='utf-8', index=False)"
   ]
  },
  {
   "cell_type": "code",
   "execution_count": null,
   "metadata": {},
   "outputs": [],
   "source": []
  }
 ],
 "metadata": {
  "kernelspec": {
   "display_name": "Python 3",
   "language": "python",
   "name": "python3"
  },
  "language_info": {
   "codemirror_mode": {
    "name": "ipython",
    "version": 3
   },
   "file_extension": ".py",
   "mimetype": "text/x-python",
   "name": "python",
   "nbconvert_exporter": "python",
   "pygments_lexer": "ipython3",
   "version": "3.7.6"
  },
  "toc": {
   "base_numbering": 1,
   "nav_menu": {},
   "number_sections": true,
   "sideBar": true,
   "skip_h1_title": false,
   "title_cell": "Table of Contents",
   "title_sidebar": "Contents",
   "toc_cell": false,
   "toc_position": {},
   "toc_section_display": true,
   "toc_window_display": true
  },
  "varInspector": {
   "cols": {
    "lenName": 16,
    "lenType": 16,
    "lenVar": 40
   },
   "kernels_config": {
    "python": {
     "delete_cmd_postfix": "",
     "delete_cmd_prefix": "del ",
     "library": "var_list.py",
     "varRefreshCmd": "print(var_dic_list())"
    },
    "r": {
     "delete_cmd_postfix": ") ",
     "delete_cmd_prefix": "rm(",
     "library": "var_list.r",
     "varRefreshCmd": "cat(var_dic_list()) "
    }
   },
   "types_to_exclude": [
    "module",
    "function",
    "builtin_function_or_method",
    "instance",
    "_Feature"
   ],
   "window_display": false
  }
 },
 "nbformat": 4,
 "nbformat_minor": 4
}
