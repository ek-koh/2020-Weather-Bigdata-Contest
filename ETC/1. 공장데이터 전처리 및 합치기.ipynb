{
 "cells": [
  {
   "cell_type": "markdown",
   "metadata": {},
   "source": [
    "# 결측치 처리\n",
    "## plant_1"
   ]
  },
  {
   "cell_type": "code",
   "execution_count": 493,
   "metadata": {
    "ExecuteTime": {
     "end_time": "2020-06-10T05:13:30.503108Z",
     "start_time": "2020-06-10T05:13:30.397630Z"
    }
   },
   "outputs": [],
   "source": [
    "import pandas as pd\n",
    "import matplotlib.pyplot as plt\n",
    "import seaborn as sns\n",
    "import missingno as msno\n",
    "plant1 = pd.read_csv('first_data/plant_1.csv')"
   ]
  },
  {
   "cell_type": "code",
   "execution_count": 494,
   "metadata": {
    "ExecuteTime": {
     "end_time": "2020-06-10T05:13:30.518041Z",
     "start_time": "2020-06-10T05:13:30.504080Z"
    }
   },
   "outputs": [
    {
     "data": {
      "text/html": [
       "<div>\n",
       "<style scoped>\n",
       "    .dataframe tbody tr th:only-of-type {\n",
       "        vertical-align: middle;\n",
       "    }\n",
       "\n",
       "    .dataframe tbody tr th {\n",
       "        vertical-align: top;\n",
       "    }\n",
       "\n",
       "    .dataframe thead th {\n",
       "        text-align: right;\n",
       "    }\n",
       "</style>\n",
       "<table border=\"1\" class=\"dataframe\">\n",
       "  <thead>\n",
       "    <tr style=\"text-align: right;\">\n",
       "      <th></th>\n",
       "      <th>MEA_DDHR</th>\n",
       "      <th>TEM_IN_LOC1</th>\n",
       "      <th>HUM_IN_LOC1</th>\n",
       "      <th>TEM_IN_LOC2</th>\n",
       "      <th>HUM_IN_LOC2</th>\n",
       "      <th>TEM_IN_LOC3</th>\n",
       "      <th>HUM_IN_LOC3</th>\n",
       "      <th>TEM_OUT_LOC1</th>\n",
       "      <th>HUM_OUT_LOC1</th>\n",
       "      <th>TEM_COIL_LOC1</th>\n",
       "      <th>TEM_COIL_LOC2</th>\n",
       "      <th>TEM_COIL_LOC3</th>\n",
       "      <th>COND_LOC1</th>\n",
       "      <th>COND_LOC2</th>\n",
       "      <th>COND_LOC3</th>\n",
       "    </tr>\n",
       "  </thead>\n",
       "  <tbody>\n",
       "    <tr>\n",
       "      <td>0</td>\n",
       "      <td>2016-04-01 0:00</td>\n",
       "      <td>16.0</td>\n",
       "      <td>24.0</td>\n",
       "      <td>11.0</td>\n",
       "      <td>14.0</td>\n",
       "      <td>23.0</td>\n",
       "      <td>11.0</td>\n",
       "      <td>13.0</td>\n",
       "      <td>32.0</td>\n",
       "      <td>10.0</td>\n",
       "      <td>9.0</td>\n",
       "      <td>42.0</td>\n",
       "      <td>0.0</td>\n",
       "      <td>0.0</td>\n",
       "      <td>0.0</td>\n",
       "    </tr>\n",
       "    <tr>\n",
       "      <td>1</td>\n",
       "      <td>2016-04-01 3:00</td>\n",
       "      <td>14.0</td>\n",
       "      <td>28.0</td>\n",
       "      <td>10.0</td>\n",
       "      <td>12.0</td>\n",
       "      <td>32.0</td>\n",
       "      <td>9.0</td>\n",
       "      <td>11.0</td>\n",
       "      <td>42.0</td>\n",
       "      <td>7.0</td>\n",
       "      <td>7.0</td>\n",
       "      <td>59.0</td>\n",
       "      <td>0.0</td>\n",
       "      <td>0.0</td>\n",
       "      <td>0.0</td>\n",
       "    </tr>\n",
       "    <tr>\n",
       "      <td>2</td>\n",
       "      <td>2016-04-01 6:00</td>\n",
       "      <td>13.0</td>\n",
       "      <td>33.0</td>\n",
       "      <td>10.0</td>\n",
       "      <td>11.0</td>\n",
       "      <td>37.0</td>\n",
       "      <td>9.0</td>\n",
       "      <td>10.0</td>\n",
       "      <td>44.0</td>\n",
       "      <td>7.0</td>\n",
       "      <td>6.0</td>\n",
       "      <td>56.0</td>\n",
       "      <td>0.0</td>\n",
       "      <td>0.0</td>\n",
       "      <td>0.0</td>\n",
       "    </tr>\n",
       "    <tr>\n",
       "      <td>3</td>\n",
       "      <td>2016-04-01 9:00</td>\n",
       "      <td>13.0</td>\n",
       "      <td>33.0</td>\n",
       "      <td>10.0</td>\n",
       "      <td>11.0</td>\n",
       "      <td>35.0</td>\n",
       "      <td>9.0</td>\n",
       "      <td>10.0</td>\n",
       "      <td>41.0</td>\n",
       "      <td>8.0</td>\n",
       "      <td>18.0</td>\n",
       "      <td>30.0</td>\n",
       "      <td>0.0</td>\n",
       "      <td>0.0</td>\n",
       "      <td>0.0</td>\n",
       "    </tr>\n",
       "    <tr>\n",
       "      <td>4</td>\n",
       "      <td>2016-04-01 12:00</td>\n",
       "      <td>16.0</td>\n",
       "      <td>28.0</td>\n",
       "      <td>10.0</td>\n",
       "      <td>15.0</td>\n",
       "      <td>27.0</td>\n",
       "      <td>11.0</td>\n",
       "      <td>14.0</td>\n",
       "      <td>30.0</td>\n",
       "      <td>9.0</td>\n",
       "      <td>18.0</td>\n",
       "      <td>20.0</td>\n",
       "      <td>0.0</td>\n",
       "      <td>0.0</td>\n",
       "      <td>0.0</td>\n",
       "    </tr>\n",
       "  </tbody>\n",
       "</table>\n",
       "</div>"
      ],
      "text/plain": [
       "           MEA_DDHR  TEM_IN_LOC1  HUM_IN_LOC1  TEM_IN_LOC2  HUM_IN_LOC2  \\\n",
       "0   2016-04-01 0:00         16.0         24.0         11.0         14.0   \n",
       "1   2016-04-01 3:00         14.0         28.0         10.0         12.0   \n",
       "2   2016-04-01 6:00         13.0         33.0         10.0         11.0   \n",
       "3   2016-04-01 9:00         13.0         33.0         10.0         11.0   \n",
       "4  2016-04-01 12:00         16.0         28.0         10.0         15.0   \n",
       "\n",
       "   TEM_IN_LOC3  HUM_IN_LOC3  TEM_OUT_LOC1  HUM_OUT_LOC1  TEM_COIL_LOC1  \\\n",
       "0         23.0         11.0          13.0          32.0           10.0   \n",
       "1         32.0          9.0          11.0          42.0            7.0   \n",
       "2         37.0          9.0          10.0          44.0            7.0   \n",
       "3         35.0          9.0          10.0          41.0            8.0   \n",
       "4         27.0         11.0          14.0          30.0            9.0   \n",
       "\n",
       "   TEM_COIL_LOC2  TEM_COIL_LOC3  COND_LOC1  COND_LOC2  COND_LOC3  \n",
       "0            9.0           42.0        0.0        0.0        0.0  \n",
       "1            7.0           59.0        0.0        0.0        0.0  \n",
       "2            6.0           56.0        0.0        0.0        0.0  \n",
       "3           18.0           30.0        0.0        0.0        0.0  \n",
       "4           18.0           20.0        0.0        0.0        0.0  "
      ]
     },
     "execution_count": 494,
     "metadata": {},
     "output_type": "execute_result"
    }
   ],
   "source": [
    "plant1.head()"
   ]
  },
  {
   "cell_type": "code",
   "execution_count": 495,
   "metadata": {
    "ExecuteTime": {
     "end_time": "2020-06-10T05:13:30.531030Z",
     "start_time": "2020-06-10T05:13:30.519040Z"
    }
   },
   "outputs": [
    {
     "name": "stdout",
     "output_type": "stream",
     "text": [
      "<class 'pandas.core.frame.DataFrame'>\n",
      "RangeIndex: 58749 entries, 0 to 58748\n",
      "Data columns (total 15 columns):\n",
      "MEA_DDHR         58749 non-null object\n",
      "TEM_IN_LOC1      57879 non-null float64\n",
      "HUM_IN_LOC1      57879 non-null float64\n",
      "TEM_IN_LOC2      57879 non-null float64\n",
      "HUM_IN_LOC2      58629 non-null float64\n",
      "TEM_IN_LOC3      58629 non-null float64\n",
      "HUM_IN_LOC3      58629 non-null float64\n",
      "TEM_OUT_LOC1     58604 non-null float64\n",
      "HUM_OUT_LOC1     58604 non-null float64\n",
      "TEM_COIL_LOC1    58629 non-null float64\n",
      "TEM_COIL_LOC2    58629 non-null float64\n",
      "TEM_COIL_LOC3    58629 non-null float64\n",
      "COND_LOC1        57879 non-null float64\n",
      "COND_LOC2        58629 non-null float64\n",
      "COND_LOC3        58604 non-null float64\n",
      "dtypes: float64(14), object(1)\n",
      "memory usage: 6.7+ MB\n"
     ]
    }
   ],
   "source": [
    "plant1.info()"
   ]
  },
  {
   "cell_type": "code",
   "execution_count": 496,
   "metadata": {
    "ExecuteTime": {
     "end_time": "2020-06-10T05:13:30.541005Z",
     "start_time": "2020-06-10T05:13:30.532006Z"
    }
   },
   "outputs": [
    {
     "data": {
      "text/plain": [
       "MEA_DDHR           0\n",
       "TEM_IN_LOC1      870\n",
       "HUM_IN_LOC1      870\n",
       "TEM_IN_LOC2      870\n",
       "HUM_IN_LOC2      120\n",
       "TEM_IN_LOC3      120\n",
       "HUM_IN_LOC3      120\n",
       "TEM_OUT_LOC1     145\n",
       "HUM_OUT_LOC1     145\n",
       "TEM_COIL_LOC1    120\n",
       "TEM_COIL_LOC2    120\n",
       "TEM_COIL_LOC3    120\n",
       "COND_LOC1        870\n",
       "COND_LOC2        120\n",
       "COND_LOC3        145\n",
       "dtype: int64"
      ]
     },
     "execution_count": 496,
     "metadata": {},
     "output_type": "execute_result"
    }
   ],
   "source": [
    "plant1.isnull().sum()"
   ]
  },
  {
   "cell_type": "code",
   "execution_count": 497,
   "metadata": {
    "ExecuteTime": {
     "end_time": "2020-06-10T05:13:30.698588Z",
     "start_time": "2020-06-10T05:13:30.541978Z"
    }
   },
   "outputs": [
    {
     "data": {
      "text/plain": [
       "<matplotlib.axes._subplots.AxesSubplot at 0x1ee2092a048>"
      ]
     },
     "execution_count": 497,
     "metadata": {},
     "output_type": "execute_result"
    },
    {
     "data": {
      "image/png": "[encoded data removed]",
      "text/plain": [
       "<Figure size 432x288 with 1 Axes>"
      ]
     },
     "metadata": {
      "needs_background": "light"
     },
     "output_type": "display_data"
    }
   ],
   "source": [
    "plant1.isnull().sum().plot.barh()"
   ]
  },
  {
   "cell_type": "code",
   "execution_count": 498,
   "metadata": {
    "ExecuteTime": {
     "end_time": "2020-06-10T05:13:30.716512Z",
     "start_time": "2020-06-10T05:13:30.699556Z"
    }
   },
   "outputs": [
    {
     "data": {
      "text/html": [
       "<div>\n",
       "<style scoped>\n",
       "    .dataframe tbody tr th:only-of-type {\n",
       "        vertical-align: middle;\n",
       "    }\n",
       "\n",
       "    .dataframe tbody tr th {\n",
       "        vertical-align: top;\n",
       "    }\n",
       "\n",
       "    .dataframe thead th {\n",
       "        text-align: right;\n",
       "    }\n",
       "</style>\n",
       "<table border=\"1\" class=\"dataframe\">\n",
       "  <thead>\n",
       "    <tr style=\"text-align: right;\">\n",
       "      <th></th>\n",
       "      <th>MEA_DDHR</th>\n",
       "      <th>TEM_IN_LOC1</th>\n",
       "      <th>HUM_IN_LOC1</th>\n",
       "      <th>TEM_IN_LOC2</th>\n",
       "      <th>HUM_IN_LOC2</th>\n",
       "      <th>TEM_IN_LOC3</th>\n",
       "      <th>HUM_IN_LOC3</th>\n",
       "      <th>TEM_OUT_LOC1</th>\n",
       "      <th>HUM_OUT_LOC1</th>\n",
       "      <th>TEM_COIL_LOC1</th>\n",
       "      <th>TEM_COIL_LOC2</th>\n",
       "      <th>TEM_COIL_LOC3</th>\n",
       "      <th>COND_LOC1</th>\n",
       "      <th>COND_LOC2</th>\n",
       "      <th>COND_LOC3</th>\n",
       "    </tr>\n",
       "  </thead>\n",
       "  <tbody>\n",
       "    <tr>\n",
       "      <td>768</td>\n",
       "      <td>2016-07-06 0:00</td>\n",
       "      <td>NaN</td>\n",
       "      <td>NaN</td>\n",
       "      <td>NaN</td>\n",
       "      <td>NaN</td>\n",
       "      <td>NaN</td>\n",
       "      <td>NaN</td>\n",
       "      <td>NaN</td>\n",
       "      <td>NaN</td>\n",
       "      <td>NaN</td>\n",
       "      <td>NaN</td>\n",
       "      <td>NaN</td>\n",
       "      <td>NaN</td>\n",
       "      <td>NaN</td>\n",
       "      <td>NaN</td>\n",
       "    </tr>\n",
       "    <tr>\n",
       "      <td>977</td>\n",
       "      <td>2016-08-01 3:00</td>\n",
       "      <td>NaN</td>\n",
       "      <td>NaN</td>\n",
       "      <td>NaN</td>\n",
       "      <td>NaN</td>\n",
       "      <td>NaN</td>\n",
       "      <td>NaN</td>\n",
       "      <td>NaN</td>\n",
       "      <td>NaN</td>\n",
       "      <td>NaN</td>\n",
       "      <td>NaN</td>\n",
       "      <td>NaN</td>\n",
       "      <td>NaN</td>\n",
       "      <td>NaN</td>\n",
       "      <td>NaN</td>\n",
       "    </tr>\n",
       "    <tr>\n",
       "      <td>978</td>\n",
       "      <td>2016-08-01 6:00</td>\n",
       "      <td>NaN</td>\n",
       "      <td>NaN</td>\n",
       "      <td>NaN</td>\n",
       "      <td>NaN</td>\n",
       "      <td>NaN</td>\n",
       "      <td>NaN</td>\n",
       "      <td>NaN</td>\n",
       "      <td>NaN</td>\n",
       "      <td>NaN</td>\n",
       "      <td>NaN</td>\n",
       "      <td>NaN</td>\n",
       "      <td>NaN</td>\n",
       "      <td>NaN</td>\n",
       "      <td>NaN</td>\n",
       "    </tr>\n",
       "    <tr>\n",
       "      <td>979</td>\n",
       "      <td>2016-08-01 9:00</td>\n",
       "      <td>NaN</td>\n",
       "      <td>NaN</td>\n",
       "      <td>NaN</td>\n",
       "      <td>NaN</td>\n",
       "      <td>NaN</td>\n",
       "      <td>NaN</td>\n",
       "      <td>NaN</td>\n",
       "      <td>NaN</td>\n",
       "      <td>NaN</td>\n",
       "      <td>NaN</td>\n",
       "      <td>NaN</td>\n",
       "      <td>NaN</td>\n",
       "      <td>NaN</td>\n",
       "      <td>NaN</td>\n",
       "    </tr>\n",
       "    <tr>\n",
       "      <td>1308</td>\n",
       "      <td>2016-09-11 12:00</td>\n",
       "      <td>NaN</td>\n",
       "      <td>NaN</td>\n",
       "      <td>NaN</td>\n",
       "      <td>NaN</td>\n",
       "      <td>NaN</td>\n",
       "      <td>NaN</td>\n",
       "      <td>NaN</td>\n",
       "      <td>NaN</td>\n",
       "      <td>NaN</td>\n",
       "      <td>NaN</td>\n",
       "      <td>NaN</td>\n",
       "      <td>NaN</td>\n",
       "      <td>NaN</td>\n",
       "      <td>NaN</td>\n",
       "    </tr>\n",
       "    <tr>\n",
       "      <td>...</td>\n",
       "      <td>...</td>\n",
       "      <td>...</td>\n",
       "      <td>...</td>\n",
       "      <td>...</td>\n",
       "      <td>...</td>\n",
       "      <td>...</td>\n",
       "      <td>...</td>\n",
       "      <td>...</td>\n",
       "      <td>...</td>\n",
       "      <td>...</td>\n",
       "      <td>...</td>\n",
       "      <td>...</td>\n",
       "      <td>...</td>\n",
       "      <td>...</td>\n",
       "      <td>...</td>\n",
       "    </tr>\n",
       "    <tr>\n",
       "      <td>48236</td>\n",
       "      <td>2019-01-17 23:50</td>\n",
       "      <td>NaN</td>\n",
       "      <td>NaN</td>\n",
       "      <td>NaN</td>\n",
       "      <td>NaN</td>\n",
       "      <td>NaN</td>\n",
       "      <td>NaN</td>\n",
       "      <td>NaN</td>\n",
       "      <td>NaN</td>\n",
       "      <td>NaN</td>\n",
       "      <td>NaN</td>\n",
       "      <td>NaN</td>\n",
       "      <td>NaN</td>\n",
       "      <td>NaN</td>\n",
       "      <td>NaN</td>\n",
       "    </tr>\n",
       "    <tr>\n",
       "      <td>48380</td>\n",
       "      <td>2019-01-18 23:50</td>\n",
       "      <td>NaN</td>\n",
       "      <td>NaN</td>\n",
       "      <td>NaN</td>\n",
       "      <td>NaN</td>\n",
       "      <td>NaN</td>\n",
       "      <td>NaN</td>\n",
       "      <td>NaN</td>\n",
       "      <td>NaN</td>\n",
       "      <td>NaN</td>\n",
       "      <td>NaN</td>\n",
       "      <td>NaN</td>\n",
       "      <td>NaN</td>\n",
       "      <td>NaN</td>\n",
       "      <td>NaN</td>\n",
       "    </tr>\n",
       "    <tr>\n",
       "      <td>48524</td>\n",
       "      <td>2019-01-19 23:50</td>\n",
       "      <td>NaN</td>\n",
       "      <td>NaN</td>\n",
       "      <td>NaN</td>\n",
       "      <td>NaN</td>\n",
       "      <td>NaN</td>\n",
       "      <td>NaN</td>\n",
       "      <td>NaN</td>\n",
       "      <td>NaN</td>\n",
       "      <td>NaN</td>\n",
       "      <td>NaN</td>\n",
       "      <td>NaN</td>\n",
       "      <td>NaN</td>\n",
       "      <td>NaN</td>\n",
       "      <td>NaN</td>\n",
       "    </tr>\n",
       "    <tr>\n",
       "      <td>48668</td>\n",
       "      <td>2019-01-20 23:50</td>\n",
       "      <td>NaN</td>\n",
       "      <td>NaN</td>\n",
       "      <td>NaN</td>\n",
       "      <td>NaN</td>\n",
       "      <td>NaN</td>\n",
       "      <td>NaN</td>\n",
       "      <td>NaN</td>\n",
       "      <td>NaN</td>\n",
       "      <td>NaN</td>\n",
       "      <td>NaN</td>\n",
       "      <td>NaN</td>\n",
       "      <td>NaN</td>\n",
       "      <td>NaN</td>\n",
       "      <td>NaN</td>\n",
       "    </tr>\n",
       "    <tr>\n",
       "      <td>48812</td>\n",
       "      <td>2019-01-21 23:50</td>\n",
       "      <td>NaN</td>\n",
       "      <td>NaN</td>\n",
       "      <td>NaN</td>\n",
       "      <td>NaN</td>\n",
       "      <td>NaN</td>\n",
       "      <td>NaN</td>\n",
       "      <td>NaN</td>\n",
       "      <td>NaN</td>\n",
       "      <td>NaN</td>\n",
       "      <td>NaN</td>\n",
       "      <td>NaN</td>\n",
       "      <td>NaN</td>\n",
       "      <td>NaN</td>\n",
       "      <td>NaN</td>\n",
       "    </tr>\n",
       "  </tbody>\n",
       "</table>\n",
       "<p>870 rows × 15 columns</p>\n",
       "</div>"
      ],
      "text/plain": [
       "               MEA_DDHR  TEM_IN_LOC1  HUM_IN_LOC1  TEM_IN_LOC2  HUM_IN_LOC2  \\\n",
       "768     2016-07-06 0:00          NaN          NaN          NaN          NaN   \n",
       "977     2016-08-01 3:00          NaN          NaN          NaN          NaN   \n",
       "978     2016-08-01 6:00          NaN          NaN          NaN          NaN   \n",
       "979     2016-08-01 9:00          NaN          NaN          NaN          NaN   \n",
       "1308   2016-09-11 12:00          NaN          NaN          NaN          NaN   \n",
       "...                 ...          ...          ...          ...          ...   \n",
       "48236  2019-01-17 23:50          NaN          NaN          NaN          NaN   \n",
       "48380  2019-01-18 23:50          NaN          NaN          NaN          NaN   \n",
       "48524  2019-01-19 23:50          NaN          NaN          NaN          NaN   \n",
       "48668  2019-01-20 23:50          NaN          NaN          NaN          NaN   \n",
       "48812  2019-01-21 23:50          NaN          NaN          NaN          NaN   \n",
       "\n",
       "       TEM_IN_LOC3  HUM_IN_LOC3  TEM_OUT_LOC1  HUM_OUT_LOC1  TEM_COIL_LOC1  \\\n",
       "768            NaN          NaN           NaN           NaN            NaN   \n",
       "977            NaN          NaN           NaN           NaN            NaN   \n",
       "978            NaN          NaN           NaN           NaN            NaN   \n",
       "979            NaN          NaN           NaN           NaN            NaN   \n",
       "1308           NaN          NaN           NaN           NaN            NaN   \n",
       "...            ...          ...           ...           ...            ...   \n",
       "48236          NaN          NaN           NaN           NaN            NaN   \n",
       "48380          NaN          NaN           NaN           NaN            NaN   \n",
       "48524          NaN          NaN           NaN           NaN            NaN   \n",
       "48668          NaN          NaN           NaN           NaN            NaN   \n",
       "48812          NaN          NaN           NaN           NaN            NaN   \n",
       "\n",
       "       TEM_COIL_LOC2  TEM_COIL_LOC3  COND_LOC1  COND_LOC2  COND_LOC3  \n",
       "768              NaN            NaN        NaN        NaN        NaN  \n",
       "977              NaN            NaN        NaN        NaN        NaN  \n",
       "978              NaN            NaN        NaN        NaN        NaN  \n",
       "979              NaN            NaN        NaN        NaN        NaN  \n",
       "1308             NaN            NaN        NaN        NaN        NaN  \n",
       "...              ...            ...        ...        ...        ...  \n",
       "48236            NaN            NaN        NaN        NaN        NaN  \n",
       "48380            NaN            NaN        NaN        NaN        NaN  \n",
       "48524            NaN            NaN        NaN        NaN        NaN  \n",
       "48668            NaN            NaN        NaN        NaN        NaN  \n",
       "48812            NaN            NaN        NaN        NaN        NaN  \n",
       "\n",
       "[870 rows x 15 columns]"
      ]
     },
     "execution_count": 498,
     "metadata": {},
     "output_type": "execute_result"
    }
   ],
   "source": [
    "plant1[plant1['TEM_IN_LOC1'].isnull()]"
   ]
  },
  {
   "cell_type": "code",
   "execution_count": 499,
   "metadata": {
    "ExecuteTime": {
     "end_time": "2020-06-10T05:13:32.042726Z",
     "start_time": "2020-06-10T05:13:30.717510Z"
    }
   },
   "outputs": [
    {
     "data": {
      "text/plain": [
       "<matplotlib.axes._subplots.AxesSubplot at 0x1ee3a5aa608>"
      ]
     },
     "execution_count": 499,
     "metadata": {},
     "output_type": "execute_result"
    },
    {
     "data": {
      "image/png": "[encoded data removed]",
      "text/plain": [
       "<Figure size 1080x288 with 2 Axes>"
      ]
     },
     "metadata": {
      "needs_background": "light"
     },
     "output_type": "display_data"
    }
   ],
   "source": [
    "plt.figure(figsize=(15,4))\n",
    "sns.heatmap(plant1.isnull(), cmap='Greys')"
   ]
  },
  {
   "cell_type": "code",
   "execution_count": 500,
   "metadata": {
    "ExecuteTime": {
     "end_time": "2020-06-10T05:13:32.050707Z",
     "start_time": "2020-06-10T05:13:32.044690Z"
    }
   },
   "outputs": [
    {
     "data": {
      "text/plain": [
       "Int64Index([  768,   977,   978,   979,  1308,  2502,  4043,  4044,  4045,\n",
       "             4046,\n",
       "            ...\n",
       "            47516, 47660, 47804, 47948, 48092, 48236, 48380, 48524, 48668,\n",
       "            48812],\n",
       "           dtype='int64', length=120)"
      ]
     },
     "execution_count": 500,
     "metadata": {},
     "output_type": "execute_result"
    }
   ],
   "source": [
    "null_index = plant1[plant1['HUM_IN_LOC2'].isnull()].index\n",
    "null_index"
   ]
  },
  {
   "cell_type": "code",
   "execution_count": 501,
   "metadata": {
    "ExecuteTime": {
     "end_time": "2020-06-10T05:13:32.081173Z",
     "start_time": "2020-06-10T05:13:32.052183Z"
    }
   },
   "outputs": [
    {
     "data": {
      "text/html": [
       "<div>\n",
       "<style scoped>\n",
       "    .dataframe tbody tr th:only-of-type {\n",
       "        vertical-align: middle;\n",
       "    }\n",
       "\n",
       "    .dataframe tbody tr th {\n",
       "        vertical-align: top;\n",
       "    }\n",
       "\n",
       "    .dataframe thead th {\n",
       "        text-align: right;\n",
       "    }\n",
       "</style>\n",
       "<table border=\"1\" class=\"dataframe\">\n",
       "  <thead>\n",
       "    <tr style=\"text-align: right;\">\n",
       "      <th></th>\n",
       "      <th>MEA_DDHR</th>\n",
       "      <th>TEM_IN_LOC1</th>\n",
       "      <th>HUM_IN_LOC1</th>\n",
       "      <th>TEM_IN_LOC2</th>\n",
       "      <th>HUM_IN_LOC2</th>\n",
       "      <th>TEM_IN_LOC3</th>\n",
       "      <th>HUM_IN_LOC3</th>\n",
       "      <th>TEM_OUT_LOC1</th>\n",
       "      <th>HUM_OUT_LOC1</th>\n",
       "      <th>TEM_COIL_LOC1</th>\n",
       "      <th>TEM_COIL_LOC2</th>\n",
       "      <th>TEM_COIL_LOC3</th>\n",
       "      <th>COND_LOC1</th>\n",
       "      <th>COND_LOC2</th>\n",
       "      <th>COND_LOC3</th>\n",
       "    </tr>\n",
       "  </thead>\n",
       "  <tbody>\n",
       "    <tr>\n",
       "      <td>0</td>\n",
       "      <td>2016-04-01 0:00</td>\n",
       "      <td>16.00</td>\n",
       "      <td>24.00</td>\n",
       "      <td>11.00</td>\n",
       "      <td>14.00</td>\n",
       "      <td>23.00</td>\n",
       "      <td>11.00</td>\n",
       "      <td>13.00</td>\n",
       "      <td>32.00</td>\n",
       "      <td>10.00</td>\n",
       "      <td>9.00</td>\n",
       "      <td>42.00</td>\n",
       "      <td>0.0</td>\n",
       "      <td>0.0</td>\n",
       "      <td>0.0</td>\n",
       "    </tr>\n",
       "    <tr>\n",
       "      <td>1</td>\n",
       "      <td>2016-04-01 3:00</td>\n",
       "      <td>14.00</td>\n",
       "      <td>28.00</td>\n",
       "      <td>10.00</td>\n",
       "      <td>12.00</td>\n",
       "      <td>32.00</td>\n",
       "      <td>9.00</td>\n",
       "      <td>11.00</td>\n",
       "      <td>42.00</td>\n",
       "      <td>7.00</td>\n",
       "      <td>7.00</td>\n",
       "      <td>59.00</td>\n",
       "      <td>0.0</td>\n",
       "      <td>0.0</td>\n",
       "      <td>0.0</td>\n",
       "    </tr>\n",
       "    <tr>\n",
       "      <td>2</td>\n",
       "      <td>2016-04-01 6:00</td>\n",
       "      <td>13.00</td>\n",
       "      <td>33.00</td>\n",
       "      <td>10.00</td>\n",
       "      <td>11.00</td>\n",
       "      <td>37.00</td>\n",
       "      <td>9.00</td>\n",
       "      <td>10.00</td>\n",
       "      <td>44.00</td>\n",
       "      <td>7.00</td>\n",
       "      <td>6.00</td>\n",
       "      <td>56.00</td>\n",
       "      <td>0.0</td>\n",
       "      <td>0.0</td>\n",
       "      <td>0.0</td>\n",
       "    </tr>\n",
       "    <tr>\n",
       "      <td>3</td>\n",
       "      <td>2016-04-01 9:00</td>\n",
       "      <td>13.00</td>\n",
       "      <td>33.00</td>\n",
       "      <td>10.00</td>\n",
       "      <td>11.00</td>\n",
       "      <td>35.00</td>\n",
       "      <td>9.00</td>\n",
       "      <td>10.00</td>\n",
       "      <td>41.00</td>\n",
       "      <td>8.00</td>\n",
       "      <td>18.00</td>\n",
       "      <td>30.00</td>\n",
       "      <td>0.0</td>\n",
       "      <td>0.0</td>\n",
       "      <td>0.0</td>\n",
       "    </tr>\n",
       "    <tr>\n",
       "      <td>4</td>\n",
       "      <td>2016-04-01 12:00</td>\n",
       "      <td>16.00</td>\n",
       "      <td>28.00</td>\n",
       "      <td>10.00</td>\n",
       "      <td>15.00</td>\n",
       "      <td>27.00</td>\n",
       "      <td>11.00</td>\n",
       "      <td>14.00</td>\n",
       "      <td>30.00</td>\n",
       "      <td>9.00</td>\n",
       "      <td>18.00</td>\n",
       "      <td>20.00</td>\n",
       "      <td>0.0</td>\n",
       "      <td>0.0</td>\n",
       "      <td>0.0</td>\n",
       "    </tr>\n",
       "    <tr>\n",
       "      <td>...</td>\n",
       "      <td>...</td>\n",
       "      <td>...</td>\n",
       "      <td>...</td>\n",
       "      <td>...</td>\n",
       "      <td>...</td>\n",
       "      <td>...</td>\n",
       "      <td>...</td>\n",
       "      <td>...</td>\n",
       "      <td>...</td>\n",
       "      <td>...</td>\n",
       "      <td>...</td>\n",
       "      <td>...</td>\n",
       "      <td>...</td>\n",
       "      <td>...</td>\n",
       "      <td>...</td>\n",
       "    </tr>\n",
       "    <tr>\n",
       "      <td>58744</td>\n",
       "      <td>2019-03-31 23:10</td>\n",
       "      <td>10.52</td>\n",
       "      <td>36.39</td>\n",
       "      <td>10.52</td>\n",
       "      <td>10.55</td>\n",
       "      <td>35.20</td>\n",
       "      <td>11.17</td>\n",
       "      <td>9.85</td>\n",
       "      <td>37.88</td>\n",
       "      <td>9.79</td>\n",
       "      <td>6.40</td>\n",
       "      <td>43.86</td>\n",
       "      <td>0.0</td>\n",
       "      <td>0.0</td>\n",
       "      <td>0.0</td>\n",
       "    </tr>\n",
       "    <tr>\n",
       "      <td>58745</td>\n",
       "      <td>2019-03-31 23:20</td>\n",
       "      <td>10.52</td>\n",
       "      <td>37.09</td>\n",
       "      <td>10.44</td>\n",
       "      <td>10.55</td>\n",
       "      <td>35.53</td>\n",
       "      <td>11.09</td>\n",
       "      <td>9.88</td>\n",
       "      <td>38.40</td>\n",
       "      <td>9.72</td>\n",
       "      <td>6.34</td>\n",
       "      <td>44.02</td>\n",
       "      <td>0.0</td>\n",
       "      <td>0.0</td>\n",
       "      <td>0.0</td>\n",
       "    </tr>\n",
       "    <tr>\n",
       "      <td>58746</td>\n",
       "      <td>2019-03-31 23:30</td>\n",
       "      <td>10.43</td>\n",
       "      <td>37.18</td>\n",
       "      <td>10.56</td>\n",
       "      <td>10.49</td>\n",
       "      <td>35.65</td>\n",
       "      <td>11.21</td>\n",
       "      <td>9.85</td>\n",
       "      <td>38.22</td>\n",
       "      <td>9.91</td>\n",
       "      <td>6.40</td>\n",
       "      <td>43.04</td>\n",
       "      <td>0.0</td>\n",
       "      <td>0.0</td>\n",
       "      <td>0.0</td>\n",
       "    </tr>\n",
       "    <tr>\n",
       "      <td>58747</td>\n",
       "      <td>2019-03-31 23:40</td>\n",
       "      <td>10.49</td>\n",
       "      <td>38.00</td>\n",
       "      <td>10.56</td>\n",
       "      <td>10.55</td>\n",
       "      <td>36.08</td>\n",
       "      <td>11.21</td>\n",
       "      <td>9.82</td>\n",
       "      <td>38.95</td>\n",
       "      <td>9.83</td>\n",
       "      <td>6.31</td>\n",
       "      <td>45.33</td>\n",
       "      <td>0.0</td>\n",
       "      <td>0.0</td>\n",
       "      <td>0.0</td>\n",
       "    </tr>\n",
       "    <tr>\n",
       "      <td>58748</td>\n",
       "      <td>2019-03-31 23:50</td>\n",
       "      <td>10.49</td>\n",
       "      <td>38.74</td>\n",
       "      <td>10.52</td>\n",
       "      <td>10.55</td>\n",
       "      <td>36.69</td>\n",
       "      <td>11.01</td>\n",
       "      <td>9.82</td>\n",
       "      <td>39.35</td>\n",
       "      <td>9.83</td>\n",
       "      <td>6.34</td>\n",
       "      <td>45.94</td>\n",
       "      <td>0.0</td>\n",
       "      <td>0.0</td>\n",
       "      <td>0.0</td>\n",
       "    </tr>\n",
       "  </tbody>\n",
       "</table>\n",
       "<p>58629 rows × 15 columns</p>\n",
       "</div>"
      ],
      "text/plain": [
       "               MEA_DDHR  TEM_IN_LOC1  HUM_IN_LOC1  TEM_IN_LOC2  HUM_IN_LOC2  \\\n",
       "0       2016-04-01 0:00        16.00        24.00        11.00        14.00   \n",
       "1       2016-04-01 3:00        14.00        28.00        10.00        12.00   \n",
       "2       2016-04-01 6:00        13.00        33.00        10.00        11.00   \n",
       "3       2016-04-01 9:00        13.00        33.00        10.00        11.00   \n",
       "4      2016-04-01 12:00        16.00        28.00        10.00        15.00   \n",
       "...                 ...          ...          ...          ...          ...   \n",
       "58744  2019-03-31 23:10        10.52        36.39        10.52        10.55   \n",
       "58745  2019-03-31 23:20        10.52        37.09        10.44        10.55   \n",
       "58746  2019-03-31 23:30        10.43        37.18        10.56        10.49   \n",
       "58747  2019-03-31 23:40        10.49        38.00        10.56        10.55   \n",
       "58748  2019-03-31 23:50        10.49        38.74        10.52        10.55   \n",
       "\n",
       "       TEM_IN_LOC3  HUM_IN_LOC3  TEM_OUT_LOC1  HUM_OUT_LOC1  TEM_COIL_LOC1  \\\n",
       "0            23.00        11.00         13.00         32.00          10.00   \n",
       "1            32.00         9.00         11.00         42.00           7.00   \n",
       "2            37.00         9.00         10.00         44.00           7.00   \n",
       "3            35.00         9.00         10.00         41.00           8.00   \n",
       "4            27.00        11.00         14.00         30.00           9.00   \n",
       "...            ...          ...           ...           ...            ...   \n",
       "58744        35.20        11.17          9.85         37.88           9.79   \n",
       "58745        35.53        11.09          9.88         38.40           9.72   \n",
       "58746        35.65        11.21          9.85         38.22           9.91   \n",
       "58747        36.08        11.21          9.82         38.95           9.83   \n",
       "58748        36.69        11.01          9.82         39.35           9.83   \n",
       "\n",
       "       TEM_COIL_LOC2  TEM_COIL_LOC3  COND_LOC1  COND_LOC2  COND_LOC3  \n",
       "0               9.00          42.00        0.0        0.0        0.0  \n",
       "1               7.00          59.00        0.0        0.0        0.0  \n",
       "2               6.00          56.00        0.0        0.0        0.0  \n",
       "3              18.00          30.00        0.0        0.0        0.0  \n",
       "4              18.00          20.00        0.0        0.0        0.0  \n",
       "...              ...            ...        ...        ...        ...  \n",
       "58744           6.40          43.86        0.0        0.0        0.0  \n",
       "58745           6.34          44.02        0.0        0.0        0.0  \n",
       "58746           6.40          43.04        0.0        0.0        0.0  \n",
       "58747           6.31          45.33        0.0        0.0        0.0  \n",
       "58748           6.34          45.94        0.0        0.0        0.0  \n",
       "\n",
       "[58629 rows x 15 columns]"
      ]
     },
     "execution_count": 501,
     "metadata": {},
     "output_type": "execute_result"
    }
   ],
   "source": [
    "plant1_notnull = plant1.drop(index=null_index)\n",
    "plant1_notnull"
   ]
  },
  {
   "cell_type": "code",
   "execution_count": 502,
   "metadata": {
    "ExecuteTime": {
     "end_time": "2020-06-10T05:13:32.086123Z",
     "start_time": "2020-06-10T05:13:32.082142Z"
    }
   },
   "outputs": [
    {
     "data": {
      "text/plain": [
       "(58749, 15)"
      ]
     },
     "execution_count": 502,
     "metadata": {},
     "output_type": "execute_result"
    }
   ],
   "source": [
    "plant1.shape"
   ]
  },
  {
   "cell_type": "code",
   "execution_count": 503,
   "metadata": {
    "ExecuteTime": {
     "end_time": "2020-06-10T05:13:32.097124Z",
     "start_time": "2020-06-10T05:13:32.087119Z"
    }
   },
   "outputs": [
    {
     "data": {
      "text/plain": [
       "MEA_DDHR           0\n",
       "TEM_IN_LOC1      750\n",
       "HUM_IN_LOC1      750\n",
       "TEM_IN_LOC2      750\n",
       "HUM_IN_LOC2        0\n",
       "TEM_IN_LOC3        0\n",
       "HUM_IN_LOC3        0\n",
       "TEM_OUT_LOC1      25\n",
       "HUM_OUT_LOC1      25\n",
       "TEM_COIL_LOC1      0\n",
       "TEM_COIL_LOC2      0\n",
       "TEM_COIL_LOC3      0\n",
       "COND_LOC1        750\n",
       "COND_LOC2          0\n",
       "COND_LOC3         25\n",
       "dtype: int64"
      ]
     },
     "execution_count": 503,
     "metadata": {},
     "output_type": "execute_result"
    }
   ],
   "source": [
    "plant1_notnull.isnull().sum()"
   ]
  },
  {
   "cell_type": "code",
   "execution_count": 504,
   "metadata": {
    "ExecuteTime": {
     "end_time": "2020-06-10T05:13:32.115044Z",
     "start_time": "2020-06-10T05:13:32.098092Z"
    }
   },
   "outputs": [
    {
     "data": {
      "text/html": [
       "<div>\n",
       "<style scoped>\n",
       "    .dataframe tbody tr th:only-of-type {\n",
       "        vertical-align: middle;\n",
       "    }\n",
       "\n",
       "    .dataframe tbody tr th {\n",
       "        vertical-align: top;\n",
       "    }\n",
       "\n",
       "    .dataframe thead th {\n",
       "        text-align: right;\n",
       "    }\n",
       "</style>\n",
       "<table border=\"1\" class=\"dataframe\">\n",
       "  <thead>\n",
       "    <tr style=\"text-align: right;\">\n",
       "      <th></th>\n",
       "      <th>MEA_DDHR</th>\n",
       "      <th>TEM_IN_LOC1</th>\n",
       "      <th>HUM_IN_LOC1</th>\n",
       "      <th>TEM_IN_LOC2</th>\n",
       "      <th>HUM_IN_LOC2</th>\n",
       "      <th>TEM_IN_LOC3</th>\n",
       "      <th>HUM_IN_LOC3</th>\n",
       "      <th>TEM_OUT_LOC1</th>\n",
       "      <th>HUM_OUT_LOC1</th>\n",
       "      <th>TEM_COIL_LOC1</th>\n",
       "      <th>TEM_COIL_LOC2</th>\n",
       "      <th>TEM_COIL_LOC3</th>\n",
       "      <th>COND_LOC1</th>\n",
       "      <th>COND_LOC2</th>\n",
       "      <th>COND_LOC3</th>\n",
       "    </tr>\n",
       "  </thead>\n",
       "  <tbody>\n",
       "    <tr>\n",
       "      <td>2091</td>\n",
       "      <td>2016-12-22 9:00</td>\n",
       "      <td>NaN</td>\n",
       "      <td>NaN</td>\n",
       "      <td>NaN</td>\n",
       "      <td>11.80</td>\n",
       "      <td>76.31</td>\n",
       "      <td>10.56</td>\n",
       "      <td>11.40</td>\n",
       "      <td>79.43</td>\n",
       "      <td>9.03</td>\n",
       "      <td>8.32</td>\n",
       "      <td>81.87</td>\n",
       "      <td>NaN</td>\n",
       "      <td>0.0</td>\n",
       "      <td>0.0</td>\n",
       "    </tr>\n",
       "    <tr>\n",
       "      <td>2092</td>\n",
       "      <td>2016-12-22 12:00</td>\n",
       "      <td>NaN</td>\n",
       "      <td>NaN</td>\n",
       "      <td>NaN</td>\n",
       "      <td>11.74</td>\n",
       "      <td>69.99</td>\n",
       "      <td>10.63</td>\n",
       "      <td>11.47</td>\n",
       "      <td>72.68</td>\n",
       "      <td>9.26</td>\n",
       "      <td>8.14</td>\n",
       "      <td>78.94</td>\n",
       "      <td>NaN</td>\n",
       "      <td>0.0</td>\n",
       "      <td>0.0</td>\n",
       "    </tr>\n",
       "    <tr>\n",
       "      <td>2093</td>\n",
       "      <td>2016-12-22 15:00</td>\n",
       "      <td>NaN</td>\n",
       "      <td>NaN</td>\n",
       "      <td>NaN</td>\n",
       "      <td>11.07</td>\n",
       "      <td>69.51</td>\n",
       "      <td>10.63</td>\n",
       "      <td>10.52</td>\n",
       "      <td>72.53</td>\n",
       "      <td>9.22</td>\n",
       "      <td>6.98</td>\n",
       "      <td>80.59</td>\n",
       "      <td>NaN</td>\n",
       "      <td>0.0</td>\n",
       "      <td>0.0</td>\n",
       "    </tr>\n",
       "    <tr>\n",
       "      <td>2094</td>\n",
       "      <td>2016-12-22 18:00</td>\n",
       "      <td>NaN</td>\n",
       "      <td>NaN</td>\n",
       "      <td>NaN</td>\n",
       "      <td>10.55</td>\n",
       "      <td>64.41</td>\n",
       "      <td>10.29</td>\n",
       "      <td>9.57</td>\n",
       "      <td>70.02</td>\n",
       "      <td>8.99</td>\n",
       "      <td>6.28</td>\n",
       "      <td>72.56</td>\n",
       "      <td>NaN</td>\n",
       "      <td>0.0</td>\n",
       "      <td>0.0</td>\n",
       "    </tr>\n",
       "    <tr>\n",
       "      <td>2095</td>\n",
       "      <td>2016-12-22 21:00</td>\n",
       "      <td>NaN</td>\n",
       "      <td>NaN</td>\n",
       "      <td>NaN</td>\n",
       "      <td>9.79</td>\n",
       "      <td>57.11</td>\n",
       "      <td>10.18</td>\n",
       "      <td>8.84</td>\n",
       "      <td>61.36</td>\n",
       "      <td>8.88</td>\n",
       "      <td>5.30</td>\n",
       "      <td>67.58</td>\n",
       "      <td>NaN</td>\n",
       "      <td>0.0</td>\n",
       "      <td>0.0</td>\n",
       "    </tr>\n",
       "    <tr>\n",
       "      <td>...</td>\n",
       "      <td>...</td>\n",
       "      <td>...</td>\n",
       "      <td>...</td>\n",
       "      <td>...</td>\n",
       "      <td>...</td>\n",
       "      <td>...</td>\n",
       "      <td>...</td>\n",
       "      <td>...</td>\n",
       "      <td>...</td>\n",
       "      <td>...</td>\n",
       "      <td>...</td>\n",
       "      <td>...</td>\n",
       "      <td>...</td>\n",
       "      <td>...</td>\n",
       "      <td>...</td>\n",
       "    </tr>\n",
       "    <tr>\n",
       "      <td>2837</td>\n",
       "      <td>2017-01-25 11:00</td>\n",
       "      <td>NaN</td>\n",
       "      <td>NaN</td>\n",
       "      <td>NaN</td>\n",
       "      <td>0.08</td>\n",
       "      <td>46.73</td>\n",
       "      <td>-0.70</td>\n",
       "      <td>-0.68</td>\n",
       "      <td>50.24</td>\n",
       "      <td>-1.35</td>\n",
       "      <td>2.86</td>\n",
       "      <td>30.92</td>\n",
       "      <td>NaN</td>\n",
       "      <td>0.0</td>\n",
       "      <td>0.0</td>\n",
       "    </tr>\n",
       "    <tr>\n",
       "      <td>2838</td>\n",
       "      <td>2017-01-25 12:00</td>\n",
       "      <td>NaN</td>\n",
       "      <td>NaN</td>\n",
       "      <td>NaN</td>\n",
       "      <td>1.18</td>\n",
       "      <td>43.89</td>\n",
       "      <td>-0.55</td>\n",
       "      <td>0.32</td>\n",
       "      <td>47.47</td>\n",
       "      <td>-1.16</td>\n",
       "      <td>0.57</td>\n",
       "      <td>39.16</td>\n",
       "      <td>NaN</td>\n",
       "      <td>0.0</td>\n",
       "      <td>0.0</td>\n",
       "    </tr>\n",
       "    <tr>\n",
       "      <td>2839</td>\n",
       "      <td>2017-01-25 13:00</td>\n",
       "      <td>NaN</td>\n",
       "      <td>NaN</td>\n",
       "      <td>NaN</td>\n",
       "      <td>2.03</td>\n",
       "      <td>39.44</td>\n",
       "      <td>-0.47</td>\n",
       "      <td>1.12</td>\n",
       "      <td>43.10</td>\n",
       "      <td>-1.16</td>\n",
       "      <td>0.02</td>\n",
       "      <td>37.48</td>\n",
       "      <td>NaN</td>\n",
       "      <td>0.0</td>\n",
       "      <td>0.0</td>\n",
       "    </tr>\n",
       "    <tr>\n",
       "      <td>2840</td>\n",
       "      <td>2017-01-25 14:00</td>\n",
       "      <td>NaN</td>\n",
       "      <td>NaN</td>\n",
       "      <td>NaN</td>\n",
       "      <td>2.77</td>\n",
       "      <td>37.06</td>\n",
       "      <td>-0.36</td>\n",
       "      <td>1.42</td>\n",
       "      <td>42.40</td>\n",
       "      <td>-0.93</td>\n",
       "      <td>-0.90</td>\n",
       "      <td>41.79</td>\n",
       "      <td>NaN</td>\n",
       "      <td>0.0</td>\n",
       "      <td>0.0</td>\n",
       "    </tr>\n",
       "    <tr>\n",
       "      <td>2841</td>\n",
       "      <td>2017-01-25 15:00</td>\n",
       "      <td>NaN</td>\n",
       "      <td>NaN</td>\n",
       "      <td>NaN</td>\n",
       "      <td>3.16</td>\n",
       "      <td>39.68</td>\n",
       "      <td>-0.28</td>\n",
       "      <td>1.82</td>\n",
       "      <td>45.27</td>\n",
       "      <td>-0.81</td>\n",
       "      <td>-0.47</td>\n",
       "      <td>47.74</td>\n",
       "      <td>NaN</td>\n",
       "      <td>0.0</td>\n",
       "      <td>0.0</td>\n",
       "    </tr>\n",
       "  </tbody>\n",
       "</table>\n",
       "<p>750 rows × 15 columns</p>\n",
       "</div>"
      ],
      "text/plain": [
       "              MEA_DDHR  TEM_IN_LOC1  HUM_IN_LOC1  TEM_IN_LOC2  HUM_IN_LOC2  \\\n",
       "2091   2016-12-22 9:00          NaN          NaN          NaN        11.80   \n",
       "2092  2016-12-22 12:00          NaN          NaN          NaN        11.74   \n",
       "2093  2016-12-22 15:00          NaN          NaN          NaN        11.07   \n",
       "2094  2016-12-22 18:00          NaN          NaN          NaN        10.55   \n",
       "2095  2016-12-22 21:00          NaN          NaN          NaN         9.79   \n",
       "...                ...          ...          ...          ...          ...   \n",
       "2837  2017-01-25 11:00          NaN          NaN          NaN         0.08   \n",
       "2838  2017-01-25 12:00          NaN          NaN          NaN         1.18   \n",
       "2839  2017-01-25 13:00          NaN          NaN          NaN         2.03   \n",
       "2840  2017-01-25 14:00          NaN          NaN          NaN         2.77   \n",
       "2841  2017-01-25 15:00          NaN          NaN          NaN         3.16   \n",
       "\n",
       "      TEM_IN_LOC3  HUM_IN_LOC3  TEM_OUT_LOC1  HUM_OUT_LOC1  TEM_COIL_LOC1  \\\n",
       "2091        76.31        10.56         11.40         79.43           9.03   \n",
       "2092        69.99        10.63         11.47         72.68           9.26   \n",
       "2093        69.51        10.63         10.52         72.53           9.22   \n",
       "2094        64.41        10.29          9.57         70.02           8.99   \n",
       "2095        57.11        10.18          8.84         61.36           8.88   \n",
       "...           ...          ...           ...           ...            ...   \n",
       "2837        46.73        -0.70         -0.68         50.24          -1.35   \n",
       "2838        43.89        -0.55          0.32         47.47          -1.16   \n",
       "2839        39.44        -0.47          1.12         43.10          -1.16   \n",
       "2840        37.06        -0.36          1.42         42.40          -0.93   \n",
       "2841        39.68        -0.28          1.82         45.27          -0.81   \n",
       "\n",
       "      TEM_COIL_LOC2  TEM_COIL_LOC3  COND_LOC1  COND_LOC2  COND_LOC3  \n",
       "2091           8.32          81.87        NaN        0.0        0.0  \n",
       "2092           8.14          78.94        NaN        0.0        0.0  \n",
       "2093           6.98          80.59        NaN        0.0        0.0  \n",
       "2094           6.28          72.56        NaN        0.0        0.0  \n",
       "2095           5.30          67.58        NaN        0.0        0.0  \n",
       "...             ...            ...        ...        ...        ...  \n",
       "2837           2.86          30.92        NaN        0.0        0.0  \n",
       "2838           0.57          39.16        NaN        0.0        0.0  \n",
       "2839           0.02          37.48        NaN        0.0        0.0  \n",
       "2840          -0.90          41.79        NaN        0.0        0.0  \n",
       "2841          -0.47          47.74        NaN        0.0        0.0  \n",
       "\n",
       "[750 rows x 15 columns]"
      ]
     },
     "execution_count": 504,
     "metadata": {},
     "output_type": "execute_result"
    }
   ],
   "source": [
    "plant1_notnull[plant1_notnull['TEM_IN_LOC1'].isnull()]"
   ]
  },
  {
   "cell_type": "code",
   "execution_count": 505,
   "metadata": {
    "ExecuteTime": {
     "end_time": "2020-06-10T05:13:32.128011Z",
     "start_time": "2020-06-10T05:13:32.116044Z"
    }
   },
   "outputs": [],
   "source": [
    "plant1_notnull_1 = plant1_notnull.fillna(method='ffill')"
   ]
  },
  {
   "cell_type": "code",
   "execution_count": 506,
   "metadata": {
    "ExecuteTime": {
     "end_time": "2020-06-10T05:13:32.141974Z",
     "start_time": "2020-06-10T05:13:32.129009Z"
    }
   },
   "outputs": [
    {
     "data": {
      "text/html": [
       "<div>\n",
       "<style scoped>\n",
       "    .dataframe tbody tr th:only-of-type {\n",
       "        vertical-align: middle;\n",
       "    }\n",
       "\n",
       "    .dataframe tbody tr th {\n",
       "        vertical-align: top;\n",
       "    }\n",
       "\n",
       "    .dataframe thead th {\n",
       "        text-align: right;\n",
       "    }\n",
       "</style>\n",
       "<table border=\"1\" class=\"dataframe\">\n",
       "  <thead>\n",
       "    <tr style=\"text-align: right;\">\n",
       "      <th></th>\n",
       "      <th>MEA_DDHR</th>\n",
       "      <th>TEM_IN_LOC1</th>\n",
       "      <th>HUM_IN_LOC1</th>\n",
       "      <th>TEM_IN_LOC2</th>\n",
       "      <th>HUM_IN_LOC2</th>\n",
       "      <th>TEM_IN_LOC3</th>\n",
       "      <th>HUM_IN_LOC3</th>\n",
       "      <th>TEM_OUT_LOC1</th>\n",
       "      <th>HUM_OUT_LOC1</th>\n",
       "      <th>TEM_COIL_LOC1</th>\n",
       "      <th>TEM_COIL_LOC2</th>\n",
       "      <th>TEM_COIL_LOC3</th>\n",
       "      <th>COND_LOC1</th>\n",
       "      <th>COND_LOC2</th>\n",
       "      <th>COND_LOC3</th>\n",
       "    </tr>\n",
       "  </thead>\n",
       "  <tbody>\n",
       "  </tbody>\n",
       "</table>\n",
       "</div>"
      ],
      "text/plain": [
       "Empty DataFrame\n",
       "Columns: [MEA_DDHR, TEM_IN_LOC1, HUM_IN_LOC1, TEM_IN_LOC2, HUM_IN_LOC2, TEM_IN_LOC3, HUM_IN_LOC3, TEM_OUT_LOC1, HUM_OUT_LOC1, TEM_COIL_LOC1, TEM_COIL_LOC2, TEM_COIL_LOC3, COND_LOC1, COND_LOC2, COND_LOC3]\n",
       "Index: []"
      ]
     },
     "execution_count": 506,
     "metadata": {},
     "output_type": "execute_result"
    }
   ],
   "source": [
    "plant1_notnull_1[plant1_notnull_1['TEM_IN_LOC1'].isnull()]"
   ]
  },
  {
   "cell_type": "code",
   "execution_count": 507,
   "metadata": {
    "ExecuteTime": {
     "end_time": "2020-06-10T05:13:32.794013Z",
     "start_time": "2020-06-10T05:13:32.142971Z"
    }
   },
   "outputs": [],
   "source": [
    "plant1_notnull_1.to_csv('save_data/plant1.csv', index=False, encoding='utf-8')"
   ]
  },
  {
   "cell_type": "markdown",
   "metadata": {},
   "source": [
    "## plant_2"
   ]
  },
  {
   "cell_type": "code",
   "execution_count": 508,
   "metadata": {
    "ExecuteTime": {
     "end_time": "2020-06-10T05:13:32.885359Z",
     "start_time": "2020-06-10T05:13:32.794013Z"
    }
   },
   "outputs": [],
   "source": [
    "plant2 = pd.read_csv('first_data/plant_2.csv')"
   ]
  },
  {
   "cell_type": "code",
   "execution_count": 509,
   "metadata": {
    "ExecuteTime": {
     "end_time": "2020-06-10T05:13:32.896367Z",
     "start_time": "2020-06-10T05:13:32.886359Z"
    }
   },
   "outputs": [
    {
     "data": {
      "text/plain": [
       "MEA_DDHR           0\n",
       "TEM_IN_LOC1      224\n",
       "HUM_IN_LOC1      224\n",
       "TEM_IN_LOC2      224\n",
       "HUM_IN_LOC2      224\n",
       "TEM_IN_LOC3      224\n",
       "HUM_IN_LOC3      224\n",
       "TEM_OUT_LOC1     224\n",
       "HUM_OUT_LOC1     224\n",
       "TEM_COIL_LOC1    224\n",
       "TEM_COIL_LOC2    224\n",
       "TEM_COIL_LOC3    224\n",
       "COND_LOC1        224\n",
       "COND_LOC2        224\n",
       "COND_LOC3        224\n",
       "dtype: int64"
      ]
     },
     "execution_count": 509,
     "metadata": {},
     "output_type": "execute_result"
    }
   ],
   "source": [
    "plant2.isnull().sum()"
   ]
  },
  {
   "cell_type": "code",
   "execution_count": 510,
   "metadata": {
    "ExecuteTime": {
     "end_time": "2020-06-10T05:13:34.679614Z",
     "start_time": "2020-06-10T05:13:32.897366Z"
    }
   },
   "outputs": [
    {
     "data": {
      "text/plain": [
       "<matplotlib.axes._subplots.AxesSubplot at 0x1edba37b548>"
      ]
     },
     "execution_count": 510,
     "metadata": {},
     "output_type": "execute_result"
    },
    {
     "data": {
      "image/png": "[encoded data removed]",
      "text/plain": [
       "<Figure size 1080x720 with 2 Axes>"
      ]
     },
     "metadata": {
      "needs_background": "light"
     },
     "output_type": "display_data"
    }
   ],
   "source": [
    "plt.figure(figsize=(15,10))\n",
    "\n",
    "sns.heatmap(plant2.isnull(), cmap=\"Greys\")"
   ]
  },
  {
   "cell_type": "code",
   "execution_count": 511,
   "metadata": {
    "ExecuteTime": {
     "end_time": "2020-06-10T05:13:34.686626Z",
     "start_time": "2020-06-10T05:13:34.680611Z"
    }
   },
   "outputs": [
    {
     "data": {
      "text/plain": [
       "Int64Index([   99,   100,   101,  3165,  3166,  3167,  3168,  3169,  3170,\n",
       "             3501,\n",
       "            ...\n",
       "            56617, 56761, 56905, 57049, 57193, 57337, 57481, 57625, 57769,\n",
       "            57913],\n",
       "           dtype='int64', length=224)"
      ]
     },
     "execution_count": 511,
     "metadata": {},
     "output_type": "execute_result"
    }
   ],
   "source": [
    "null_idx = plant2[plant2['TEM_IN_LOC1'].isnull()].index\n",
    "null_idx"
   ]
  },
  {
   "cell_type": "code",
   "execution_count": 512,
   "metadata": {
    "ExecuteTime": {
     "end_time": "2020-06-10T05:13:34.712070Z",
     "start_time": "2020-06-10T05:13:34.687592Z"
    }
   },
   "outputs": [
    {
     "data": {
      "text/plain": [
       "MEA_DDHR         0\n",
       "TEM_IN_LOC1      0\n",
       "HUM_IN_LOC1      0\n",
       "TEM_IN_LOC2      0\n",
       "HUM_IN_LOC2      0\n",
       "TEM_IN_LOC3      0\n",
       "HUM_IN_LOC3      0\n",
       "TEM_OUT_LOC1     0\n",
       "HUM_OUT_LOC1     0\n",
       "TEM_COIL_LOC1    0\n",
       "TEM_COIL_LOC2    0\n",
       "TEM_COIL_LOC3    0\n",
       "COND_LOC1        0\n",
       "COND_LOC2        0\n",
       "COND_LOC3        0\n",
       "dtype: int64"
      ]
     },
     "execution_count": 512,
     "metadata": {},
     "output_type": "execute_result"
    }
   ],
   "source": [
    "plant2_notnull = plant2.drop(index=null_idx)\n",
    "plant2_notnull.isnull().sum()"
   ]
  },
  {
   "cell_type": "code",
   "execution_count": 513,
   "metadata": {
    "ExecuteTime": {
     "end_time": "2020-06-10T05:13:35.352765Z",
     "start_time": "2020-06-10T05:13:34.713043Z"
    }
   },
   "outputs": [],
   "source": [
    "plant2_notnull.to_csv('save_data/plant2.csv', index=False, encoding='utf-8')"
   ]
  },
  {
   "cell_type": "markdown",
   "metadata": {},
   "source": [
    "# 이상치 확인\n",
    "## plant_1"
   ]
  },
  {
   "cell_type": "code",
   "execution_count": 514,
   "metadata": {
    "ExecuteTime": {
     "end_time": "2020-06-10T05:13:35.448749Z",
     "start_time": "2020-06-10T05:13:35.352765Z"
    }
   },
   "outputs": [],
   "source": [
    "plant1 = pd.read_csv('save_data/plant1.csv')"
   ]
  },
  {
   "cell_type": "code",
   "execution_count": 515,
   "metadata": {
    "ExecuteTime": {
     "end_time": "2020-06-10T05:13:35.460718Z",
     "start_time": "2020-06-10T05:13:35.451741Z"
    }
   },
   "outputs": [
    {
     "data": {
      "text/plain": [
       "MEA_DDHR         0\n",
       "TEM_IN_LOC1      0\n",
       "HUM_IN_LOC1      0\n",
       "TEM_IN_LOC2      0\n",
       "HUM_IN_LOC2      0\n",
       "TEM_IN_LOC3      0\n",
       "HUM_IN_LOC3      0\n",
       "TEM_OUT_LOC1     0\n",
       "HUM_OUT_LOC1     0\n",
       "TEM_COIL_LOC1    0\n",
       "TEM_COIL_LOC2    0\n",
       "TEM_COIL_LOC3    0\n",
       "COND_LOC1        0\n",
       "COND_LOC2        0\n",
       "COND_LOC3        0\n",
       "dtype: int64"
      ]
     },
     "execution_count": 515,
     "metadata": {},
     "output_type": "execute_result"
    }
   ],
   "source": [
    "plant1.isnull().sum()"
   ]
  },
  {
   "cell_type": "code",
   "execution_count": 516,
   "metadata": {
    "ExecuteTime": {
     "end_time": "2020-06-10T05:13:35.548482Z",
     "start_time": "2020-06-10T05:13:35.462712Z"
    }
   },
   "outputs": [
    {
     "data": {
      "text/plain": [
       "<matplotlib.axes._subplots.AxesSubplot at 0x1edba2d2d08>"
      ]
     },
     "execution_count": 516,
     "metadata": {},
     "output_type": "execute_result"
    },
    {
     "data": {
      "image/png": "[encoded data removed]",
      "text/plain": [
       "<Figure size 432x288 with 1 Axes>"
      ]
     },
     "metadata": {
      "needs_background": "light"
     },
     "output_type": "display_data"
    }
   ],
   "source": [
    "sns.boxplot(plant1.iloc[:,1])"
   ]
  },
  {
   "cell_type": "code",
   "execution_count": 517,
   "metadata": {
    "ExecuteTime": {
     "end_time": "2020-06-10T05:13:36.278379Z",
     "start_time": "2020-06-10T05:13:35.549481Z"
    }
   },
   "outputs": [
    {
     "data": {
      "image/png": "[encoded data removed]",
      "text/plain": [
       "<Figure size 1080x1080 with 11 Axes>"
      ]
     },
     "metadata": {
      "needs_background": "light"
     },
     "output_type": "display_data"
    }
   ],
   "source": [
    "plt.figure(figsize=(15,15))\n",
    "\n",
    "for i in range(11):\n",
    "    plt.subplot(4, 3, i+1)\n",
    "    sns.boxplot(plant1.iloc[:,i+1])"
   ]
  },
  {
   "cell_type": "code",
   "execution_count": 518,
   "metadata": {
    "ExecuteTime": {
     "end_time": "2020-06-10T05:13:36.800758Z",
     "start_time": "2020-06-10T05:13:36.279401Z"
    }
   },
   "outputs": [
    {
     "data": {
      "text/plain": [
       "<matplotlib.axes._subplots.AxesSubplot at 0x1ee2070ab08>"
      ]
     },
     "execution_count": 518,
     "metadata": {},
     "output_type": "execute_result"
    },
    {
     "data": {
      "image/png": "[encoded data removed]",
      "text/plain": [
       "<Figure size 720x720 with 2 Axes>"
      ]
     },
     "metadata": {
      "needs_background": "light"
     },
     "output_type": "display_data"
    }
   ],
   "source": [
    "import numpy as np\n",
    "plt.figure(figsize = (10,10))\n",
    "\n",
    "corr = plant1.corr()\n",
    "\n",
    "mask = np.zeros_like(corr, dtype=np.bool)\n",
    "mask[np.triu_indices_from(mask)] = True\n",
    "\n",
    "sns.heatmap(corr, cmap=\"Blues\", annot=True, mask=mask, linewidths=4)"
   ]
  },
  {
   "cell_type": "markdown",
   "metadata": {},
   "source": [
    "## plant_2"
   ]
  },
  {
   "cell_type": "code",
   "execution_count": 519,
   "metadata": {
    "ExecuteTime": {
     "end_time": "2020-06-10T05:13:36.901441Z",
     "start_time": "2020-06-10T05:13:36.800758Z"
    }
   },
   "outputs": [
    {
     "data": {
      "text/plain": [
       "MEA_DDHR         0\n",
       "TEM_IN_LOC1      0\n",
       "HUM_IN_LOC1      0\n",
       "TEM_IN_LOC2      0\n",
       "HUM_IN_LOC2      0\n",
       "TEM_IN_LOC3      0\n",
       "HUM_IN_LOC3      0\n",
       "TEM_OUT_LOC1     0\n",
       "HUM_OUT_LOC1     0\n",
       "TEM_COIL_LOC1    0\n",
       "TEM_COIL_LOC2    0\n",
       "TEM_COIL_LOC3    0\n",
       "COND_LOC1        0\n",
       "COND_LOC2        0\n",
       "COND_LOC3        0\n",
       "dtype: int64"
      ]
     },
     "execution_count": 519,
     "metadata": {},
     "output_type": "execute_result"
    }
   ],
   "source": [
    "plant2 = pd.read_csv('save_data/plant2.csv')\n",
    "plant2.isnull().sum()"
   ]
  },
  {
   "cell_type": "code",
   "execution_count": 520,
   "metadata": {
    "ExecuteTime": {
     "end_time": "2020-06-10T05:13:36.983227Z",
     "start_time": "2020-06-10T05:13:36.902407Z"
    }
   },
   "outputs": [
    {
     "data": {
      "text/plain": [
       "<matplotlib.axes._subplots.AxesSubplot at 0x1edfe799f48>"
      ]
     },
     "execution_count": 520,
     "metadata": {},
     "output_type": "execute_result"
    },
    {
     "data": {
      "image/png": "[encoded data removed]",
      "text/plain": [
       "<Figure size 432x288 with 1 Axes>"
      ]
     },
     "metadata": {
      "needs_background": "light"
     },
     "output_type": "display_data"
    }
   ],
   "source": [
    "sns.boxplot(plant2.iloc[:,1])"
   ]
  },
  {
   "cell_type": "code",
   "execution_count": 521,
   "metadata": {
    "ExecuteTime": {
     "end_time": "2020-06-10T05:13:37.696377Z",
     "start_time": "2020-06-10T05:13:36.984189Z"
    }
   },
   "outputs": [
    {
     "data": {
      "image/png": "[encoded data removed]",
      "text/plain": [
       "<Figure size 1080x1080 with 11 Axes>"
      ]
     },
     "metadata": {
      "needs_background": "light"
     },
     "output_type": "display_data"
    }
   ],
   "source": [
    "plt.figure(figsize=(15,15))\n",
    "\n",
    "for i in range(11):\n",
    "    plt.subplot(4, 3, i+1)\n",
    "    sns.boxplot(plant2.iloc[:,i+1])"
   ]
  },
  {
   "cell_type": "markdown",
   "metadata": {},
   "source": [
    "# plant1 + plant2 --> test_data 형식화 시키기\n",
    "##  PLANT, LOC 지역 별 나누기 "
   ]
  },
  {
   "cell_type": "code",
   "execution_count": 522,
   "metadata": {
    "ExecuteTime": {
     "end_time": "2020-06-10T05:13:37.713331Z",
     "start_time": "2020-06-10T05:13:37.697374Z"
    }
   },
   "outputs": [],
   "source": [
    "def divide_location(i,j):\n",
    "    \"\"\"train data 의 형식을 test데이터 형식으로 변환하기 \"\"\"\n",
    "    if(i == 1):\n",
    "        data = plant1.loc[:,[\"MEA_DDHR\",\"TEM_IN_LOC\"+str(j),\"HUM_IN_LOC\"+ str(j), \n",
    "                                \"TEM_COIL_LOC\"+str(j),\"TEM_OUT_LOC1\",\"HUM_OUT_LOC1\",\n",
    "                             \"COND_LOC\"+str(j)]]\n",
    "        data[\"LOC\"] = j\n",
    "        data[\"PLANT\"] = i\n",
    "        data.columns = [\"MEA_DDHR\", \"TEM_IN\", \"HUM_IN\", \"TEM_COIL\", \"TEM_OUT_LOC1\", \"HUM_OUT_LOC1\",\"COND\",\"LOC\", \"PLANT\"]\n",
    "        \n",
    "    elif(i == 2):\n",
    "        data = plant2.loc[:,[\"MEA_DDHR\",\"TEM_IN_LOC\"+str(j),\"HUM_IN_LOC\"+ str(j), \n",
    "                                \"TEM_COIL_LOC\"+str(j),\"TEM_OUT_LOC1\",\"HUM_OUT_LOC1\",\n",
    "                             \"COND_LOC\"+str(j)]]\n",
    "        data[\"LOC\"] = j\n",
    "        data[\"PLANT\"] = i\n",
    "        data.columns = [\"MEA_DDHR\", \"TEM_IN\", \"HUM_IN\", \"TEM_COIL\", \"TEM_OUT_LOC1\", \"HUM_OUT_LOC1\",\"COND\",\"LOC\",\"PLANT\"]\n",
    "    else:\n",
    "        print(\"i의 범위는 1~2까지 공장번호를 뜻함 j의 범위는 1~3 까지 LOCATION을 뜻함\")\n",
    "    return data"
   ]
  },
  {
   "cell_type": "markdown",
   "metadata": {},
   "source": [
    "## 날짜, 공장, 지역 정렬후 인덱스 초기화"
   ]
  },
  {
   "cell_type": "code",
   "execution_count": 523,
   "metadata": {
    "ExecuteTime": {
     "end_time": "2020-06-10T05:13:37.728404Z",
     "start_time": "2020-06-10T05:13:37.714328Z"
    }
   },
   "outputs": [],
   "source": [
    "def plantConcatAndSort():\n",
    "    \"\"\"1,2 번 공장 합친후 날짜,공장,지역 정렬후 인덱스 초기화 해주는 함수\"\"\"\n",
    "#   공장 1번 2번 합쳐주기\n",
    "    plant_all = pd.concat([divide_location(1,1), divide_location(1,2), divide_location(1,3),\n",
    "    divide_location(2,1), divide_location(2,2), divide_location(2,3)])\n",
    "#   공장 날짜, 공장,지역 정렬후 인덱스 초기화 시키기 \n",
    "    plant= plant_all.sort_values(by=['MEA_DDHR', 'PLANT', 'LOC'])\n",
    "    plant = plant_all.reset_index(drop=True)\n",
    "#     컬럼 순서 바꿔주기\n",
    "    plant = plant[['MEA_DDHR', 'PLANT', 'LOC', 'TEM_IN', 'HUM_IN', 'TEM_COIL', 'TEM_OUT_LOC1', 'HUM_OUT_LOC1', 'COND']]\n",
    "    return plant"
   ]
  },
  {
   "cell_type": "code",
   "execution_count": 524,
   "metadata": {
    "ExecuteTime": {
     "end_time": "2020-06-10T05:13:37.966465Z",
     "start_time": "2020-06-10T05:13:37.729401Z"
    }
   },
   "outputs": [],
   "source": [
    "plant = plantConcatAndSort()"
   ]
  },
  {
   "cell_type": "code",
   "execution_count": 525,
   "metadata": {
    "ExecuteTime": {
     "end_time": "2020-06-10T05:13:37.984417Z",
     "start_time": "2020-06-10T05:13:37.967463Z"
    }
   },
   "outputs": [
    {
     "data": {
      "text/html": [
       "<div>\n",
       "<style scoped>\n",
       "    .dataframe tbody tr th:only-of-type {\n",
       "        vertical-align: middle;\n",
       "    }\n",
       "\n",
       "    .dataframe tbody tr th {\n",
       "        vertical-align: top;\n",
       "    }\n",
       "\n",
       "    .dataframe thead th {\n",
       "        text-align: right;\n",
       "    }\n",
       "</style>\n",
       "<table border=\"1\" class=\"dataframe\">\n",
       "  <thead>\n",
       "    <tr style=\"text-align: right;\">\n",
       "      <th></th>\n",
       "      <th>MEA_DDHR</th>\n",
       "      <th>PLANT</th>\n",
       "      <th>LOC</th>\n",
       "      <th>TEM_IN</th>\n",
       "      <th>HUM_IN</th>\n",
       "      <th>TEM_COIL</th>\n",
       "      <th>TEM_OUT_LOC1</th>\n",
       "      <th>HUM_OUT_LOC1</th>\n",
       "      <th>COND</th>\n",
       "    </tr>\n",
       "  </thead>\n",
       "  <tbody>\n",
       "    <tr>\n",
       "      <td>0</td>\n",
       "      <td>2016-04-01 0:00</td>\n",
       "      <td>1</td>\n",
       "      <td>1</td>\n",
       "      <td>16.00</td>\n",
       "      <td>24.00</td>\n",
       "      <td>10.00</td>\n",
       "      <td>13.00</td>\n",
       "      <td>32.00</td>\n",
       "      <td>0.0</td>\n",
       "    </tr>\n",
       "    <tr>\n",
       "      <td>1</td>\n",
       "      <td>2016-04-01 3:00</td>\n",
       "      <td>1</td>\n",
       "      <td>1</td>\n",
       "      <td>14.00</td>\n",
       "      <td>28.00</td>\n",
       "      <td>7.00</td>\n",
       "      <td>11.00</td>\n",
       "      <td>42.00</td>\n",
       "      <td>0.0</td>\n",
       "    </tr>\n",
       "    <tr>\n",
       "      <td>2</td>\n",
       "      <td>2016-04-01 6:00</td>\n",
       "      <td>1</td>\n",
       "      <td>1</td>\n",
       "      <td>13.00</td>\n",
       "      <td>33.00</td>\n",
       "      <td>7.00</td>\n",
       "      <td>10.00</td>\n",
       "      <td>44.00</td>\n",
       "      <td>0.0</td>\n",
       "    </tr>\n",
       "    <tr>\n",
       "      <td>3</td>\n",
       "      <td>2016-04-01 9:00</td>\n",
       "      <td>1</td>\n",
       "      <td>1</td>\n",
       "      <td>13.00</td>\n",
       "      <td>33.00</td>\n",
       "      <td>8.00</td>\n",
       "      <td>10.00</td>\n",
       "      <td>41.00</td>\n",
       "      <td>0.0</td>\n",
       "    </tr>\n",
       "    <tr>\n",
       "      <td>4</td>\n",
       "      <td>2016-04-01 12:00</td>\n",
       "      <td>1</td>\n",
       "      <td>1</td>\n",
       "      <td>16.00</td>\n",
       "      <td>28.00</td>\n",
       "      <td>9.00</td>\n",
       "      <td>14.00</td>\n",
       "      <td>30.00</td>\n",
       "      <td>0.0</td>\n",
       "    </tr>\n",
       "    <tr>\n",
       "      <td>...</td>\n",
       "      <td>...</td>\n",
       "      <td>...</td>\n",
       "      <td>...</td>\n",
       "      <td>...</td>\n",
       "      <td>...</td>\n",
       "      <td>...</td>\n",
       "      <td>...</td>\n",
       "      <td>...</td>\n",
       "      <td>...</td>\n",
       "    </tr>\n",
       "    <tr>\n",
       "      <td>348952</td>\n",
       "      <td>2019-03-31 23:00</td>\n",
       "      <td>2</td>\n",
       "      <td>3</td>\n",
       "      <td>37.12</td>\n",
       "      <td>9.72</td>\n",
       "      <td>50.98</td>\n",
       "      <td>8.29</td>\n",
       "      <td>37.82</td>\n",
       "      <td>0.0</td>\n",
       "    </tr>\n",
       "    <tr>\n",
       "      <td>348953</td>\n",
       "      <td>2019-03-31 23:10</td>\n",
       "      <td>2</td>\n",
       "      <td>3</td>\n",
       "      <td>37.58</td>\n",
       "      <td>9.68</td>\n",
       "      <td>52.11</td>\n",
       "      <td>8.26</td>\n",
       "      <td>38.34</td>\n",
       "      <td>0.0</td>\n",
       "    </tr>\n",
       "    <tr>\n",
       "      <td>348954</td>\n",
       "      <td>2019-03-31 23:20</td>\n",
       "      <td>2</td>\n",
       "      <td>3</td>\n",
       "      <td>38.25</td>\n",
       "      <td>9.76</td>\n",
       "      <td>51.01</td>\n",
       "      <td>8.29</td>\n",
       "      <td>38.92</td>\n",
       "      <td>0.0</td>\n",
       "    </tr>\n",
       "    <tr>\n",
       "      <td>348955</td>\n",
       "      <td>2019-03-31 23:30</td>\n",
       "      <td>2</td>\n",
       "      <td>3</td>\n",
       "      <td>38.13</td>\n",
       "      <td>9.76</td>\n",
       "      <td>51.47</td>\n",
       "      <td>8.32</td>\n",
       "      <td>39.13</td>\n",
       "      <td>0.0</td>\n",
       "    </tr>\n",
       "    <tr>\n",
       "      <td>348956</td>\n",
       "      <td>2019-03-31 23:40</td>\n",
       "      <td>2</td>\n",
       "      <td>3</td>\n",
       "      <td>38.49</td>\n",
       "      <td>9.68</td>\n",
       "      <td>53.14</td>\n",
       "      <td>8.26</td>\n",
       "      <td>39.62</td>\n",
       "      <td>0.0</td>\n",
       "    </tr>\n",
       "  </tbody>\n",
       "</table>\n",
       "<p>348957 rows × 9 columns</p>\n",
       "</div>"
      ],
      "text/plain": [
       "                MEA_DDHR  PLANT  LOC  TEM_IN  HUM_IN  TEM_COIL  TEM_OUT_LOC1  \\\n",
       "0        2016-04-01 0:00      1    1   16.00   24.00     10.00         13.00   \n",
       "1        2016-04-01 3:00      1    1   14.00   28.00      7.00         11.00   \n",
       "2        2016-04-01 6:00      1    1   13.00   33.00      7.00         10.00   \n",
       "3        2016-04-01 9:00      1    1   13.00   33.00      8.00         10.00   \n",
       "4       2016-04-01 12:00      1    1   16.00   28.00      9.00         14.00   \n",
       "...                  ...    ...  ...     ...     ...       ...           ...   \n",
       "348952  2019-03-31 23:00      2    3   37.12    9.72     50.98          8.29   \n",
       "348953  2019-03-31 23:10      2    3   37.58    9.68     52.11          8.26   \n",
       "348954  2019-03-31 23:20      2    3   38.25    9.76     51.01          8.29   \n",
       "348955  2019-03-31 23:30      2    3   38.13    9.76     51.47          8.32   \n",
       "348956  2019-03-31 23:40      2    3   38.49    9.68     53.14          8.26   \n",
       "\n",
       "        HUM_OUT_LOC1  COND  \n",
       "0              32.00   0.0  \n",
       "1              42.00   0.0  \n",
       "2              44.00   0.0  \n",
       "3              41.00   0.0  \n",
       "4              30.00   0.0  \n",
       "...              ...   ...  \n",
       "348952         37.82   0.0  \n",
       "348953         38.34   0.0  \n",
       "348954         38.92   0.0  \n",
       "348955         39.13   0.0  \n",
       "348956         39.62   0.0  \n",
       "\n",
       "[348957 rows x 9 columns]"
      ]
     },
     "execution_count": 525,
     "metadata": {},
     "output_type": "execute_result"
    }
   ],
   "source": [
    "plant"
   ]
  },
  {
   "cell_type": "code",
   "execution_count": 526,
   "metadata": {
    "ExecuteTime": {
     "end_time": "2020-06-10T05:13:40.258376Z",
     "start_time": "2020-06-10T05:13:37.985922Z"
    }
   },
   "outputs": [],
   "source": [
    "plant.to_csv('save_data/plant.csv', encoding='utf-8', index=False)"
   ]
  },
  {
   "cell_type": "markdown",
   "metadata": {},
   "source": [
    "## 중복 확인하기"
   ]
  },
  {
   "cell_type": "code",
   "execution_count": 527,
   "metadata": {
    "ExecuteTime": {
     "end_time": "2020-06-10T05:13:40.436473Z",
     "start_time": "2020-06-10T05:13:40.258376Z"
    }
   },
   "outputs": [
    {
     "data": {
      "text/plain": [
       "(348957,)"
      ]
     },
     "execution_count": 527,
     "metadata": {},
     "output_type": "execute_result"
    }
   ],
   "source": [
    "grpby = plant.groupby(by=['MEA_DDHR', 'PLANT', 'LOC'])[\"COND\"].count()\n",
    "grpby.shape"
   ]
  },
  {
   "cell_type": "code",
   "execution_count": 528,
   "metadata": {
    "ExecuteTime": {
     "end_time": "2020-06-10T05:13:40.442458Z",
     "start_time": "2020-06-10T05:13:40.437471Z"
    }
   },
   "outputs": [
    {
     "data": {
      "text/plain": [
       "(348957, 9)"
      ]
     },
     "execution_count": 528,
     "metadata": {},
     "output_type": "execute_result"
    }
   ],
   "source": [
    "plant.shape"
   ]
  },
  {
   "cell_type": "code",
   "execution_count": 529,
   "metadata": {
    "ExecuteTime": {
     "end_time": "2020-06-10T05:13:40.512271Z",
     "start_time": "2020-06-10T05:13:40.443454Z"
    }
   },
   "outputs": [
    {
     "data": {
      "text/plain": [
       "{1}"
      ]
     },
     "execution_count": 529,
     "metadata": {},
     "output_type": "execute_result"
    }
   ],
   "source": [
    "array = grpby.values\n",
    "set_arr = set(array)\n",
    "set_arr"
   ]
  },
  {
   "cell_type": "code",
   "execution_count": 530,
   "metadata": {
    "ExecuteTime": {
     "end_time": "2020-06-10T05:13:40.682813Z",
     "start_time": "2020-06-10T05:13:40.513267Z"
    }
   },
   "outputs": [
    {
     "data": {
      "text/html": [
       "<div>\n",
       "<style scoped>\n",
       "    .dataframe tbody tr th:only-of-type {\n",
       "        vertical-align: middle;\n",
       "    }\n",
       "\n",
       "    .dataframe tbody tr th {\n",
       "        vertical-align: top;\n",
       "    }\n",
       "\n",
       "    .dataframe thead th {\n",
       "        text-align: right;\n",
       "    }\n",
       "</style>\n",
       "<table border=\"1\" class=\"dataframe\">\n",
       "  <thead>\n",
       "    <tr style=\"text-align: right;\">\n",
       "      <th></th>\n",
       "      <th>MEA_DDHR</th>\n",
       "      <th>PLANT</th>\n",
       "      <th>LOC</th>\n",
       "      <th>TEM_IN</th>\n",
       "      <th>HUM_IN</th>\n",
       "      <th>TEM_COIL</th>\n",
       "      <th>TEM_OUT_LOC1</th>\n",
       "      <th>HUM_OUT_LOC1</th>\n",
       "      <th>COND</th>\n",
       "    </tr>\n",
       "  </thead>\n",
       "  <tbody>\n",
       "  </tbody>\n",
       "</table>\n",
       "</div>"
      ],
      "text/plain": [
       "Empty DataFrame\n",
       "Columns: [MEA_DDHR, PLANT, LOC, TEM_IN, HUM_IN, TEM_COIL, TEM_OUT_LOC1, HUM_OUT_LOC1, COND]\n",
       "Index: []"
      ]
     },
     "execution_count": 530,
     "metadata": {},
     "output_type": "execute_result"
    }
   ],
   "source": [
    "plant[plant.duplicated()]"
   ]
  },
  {
   "cell_type": "markdown",
   "metadata": {},
   "source": [
    "# 24, 48시간 후 결로발생여부 추가\n",
    "## X24_TMA, X48_TMA 추가"
   ]
  },
  {
   "cell_type": "code",
   "execution_count": 531,
   "metadata": {
    "ExecuteTime": {
     "end_time": "2020-06-10T05:13:40.688797Z",
     "start_time": "2020-06-10T05:13:40.683811Z"
    }
   },
   "outputs": [
    {
     "data": {
      "text/plain": [
       "MEA_DDHR         object\n",
       "PLANT             int64\n",
       "LOC               int64\n",
       "TEM_IN          float64\n",
       "HUM_IN          float64\n",
       "TEM_COIL        float64\n",
       "TEM_OUT_LOC1    float64\n",
       "HUM_OUT_LOC1    float64\n",
       "COND            float64\n",
       "dtype: object"
      ]
     },
     "execution_count": 531,
     "metadata": {},
     "output_type": "execute_result"
    }
   ],
   "source": [
    "plant.dtypes"
   ]
  },
  {
   "cell_type": "code",
   "execution_count": 532,
   "metadata": {
    "ExecuteTime": {
     "end_time": "2020-06-10T05:13:41.130382Z",
     "start_time": "2020-06-10T05:13:40.689795Z"
    }
   },
   "outputs": [],
   "source": [
    "from datetime import datetime, timedelta\n",
    "plant['X24_TMA'] = pd.DatetimeIndex(plant['MEA_DDHR']) + timedelta(days=1)\n",
    "plant['X48_TMA'] = pd.DatetimeIndex(plant['MEA_DDHR']) + timedelta(days=2)"
   ]
  },
  {
   "cell_type": "code",
   "execution_count": 533,
   "metadata": {
    "ExecuteTime": {
     "end_time": "2020-06-10T05:13:41.144349Z",
     "start_time": "2020-06-10T05:13:41.131353Z"
    }
   },
   "outputs": [
    {
     "data": {
      "text/html": [
       "<div>\n",
       "<style scoped>\n",
       "    .dataframe tbody tr th:only-of-type {\n",
       "        vertical-align: middle;\n",
       "    }\n",
       "\n",
       "    .dataframe tbody tr th {\n",
       "        vertical-align: top;\n",
       "    }\n",
       "\n",
       "    .dataframe thead th {\n",
       "        text-align: right;\n",
       "    }\n",
       "</style>\n",
       "<table border=\"1\" class=\"dataframe\">\n",
       "  <thead>\n",
       "    <tr style=\"text-align: right;\">\n",
       "      <th></th>\n",
       "      <th>MEA_DDHR</th>\n",
       "      <th>PLANT</th>\n",
       "      <th>LOC</th>\n",
       "      <th>TEM_IN</th>\n",
       "      <th>HUM_IN</th>\n",
       "      <th>TEM_COIL</th>\n",
       "      <th>TEM_OUT_LOC1</th>\n",
       "      <th>HUM_OUT_LOC1</th>\n",
       "      <th>COND</th>\n",
       "      <th>X24_TMA</th>\n",
       "      <th>X48_TMA</th>\n",
       "    </tr>\n",
       "  </thead>\n",
       "  <tbody>\n",
       "    <tr>\n",
       "      <td>0</td>\n",
       "      <td>2016-04-01 0:00</td>\n",
       "      <td>1</td>\n",
       "      <td>1</td>\n",
       "      <td>16.0</td>\n",
       "      <td>24.0</td>\n",
       "      <td>10.0</td>\n",
       "      <td>13.0</td>\n",
       "      <td>32.0</td>\n",
       "      <td>0.0</td>\n",
       "      <td>2016-04-02 00:00:00</td>\n",
       "      <td>2016-04-03 00:00:00</td>\n",
       "    </tr>\n",
       "    <tr>\n",
       "      <td>1</td>\n",
       "      <td>2016-04-01 3:00</td>\n",
       "      <td>1</td>\n",
       "      <td>1</td>\n",
       "      <td>14.0</td>\n",
       "      <td>28.0</td>\n",
       "      <td>7.0</td>\n",
       "      <td>11.0</td>\n",
       "      <td>42.0</td>\n",
       "      <td>0.0</td>\n",
       "      <td>2016-04-02 03:00:00</td>\n",
       "      <td>2016-04-03 03:00:00</td>\n",
       "    </tr>\n",
       "    <tr>\n",
       "      <td>2</td>\n",
       "      <td>2016-04-01 6:00</td>\n",
       "      <td>1</td>\n",
       "      <td>1</td>\n",
       "      <td>13.0</td>\n",
       "      <td>33.0</td>\n",
       "      <td>7.0</td>\n",
       "      <td>10.0</td>\n",
       "      <td>44.0</td>\n",
       "      <td>0.0</td>\n",
       "      <td>2016-04-02 06:00:00</td>\n",
       "      <td>2016-04-03 06:00:00</td>\n",
       "    </tr>\n",
       "    <tr>\n",
       "      <td>3</td>\n",
       "      <td>2016-04-01 9:00</td>\n",
       "      <td>1</td>\n",
       "      <td>1</td>\n",
       "      <td>13.0</td>\n",
       "      <td>33.0</td>\n",
       "      <td>8.0</td>\n",
       "      <td>10.0</td>\n",
       "      <td>41.0</td>\n",
       "      <td>0.0</td>\n",
       "      <td>2016-04-02 09:00:00</td>\n",
       "      <td>2016-04-03 09:00:00</td>\n",
       "    </tr>\n",
       "    <tr>\n",
       "      <td>4</td>\n",
       "      <td>2016-04-01 12:00</td>\n",
       "      <td>1</td>\n",
       "      <td>1</td>\n",
       "      <td>16.0</td>\n",
       "      <td>28.0</td>\n",
       "      <td>9.0</td>\n",
       "      <td>14.0</td>\n",
       "      <td>30.0</td>\n",
       "      <td>0.0</td>\n",
       "      <td>2016-04-02 12:00:00</td>\n",
       "      <td>2016-04-03 12:00:00</td>\n",
       "    </tr>\n",
       "  </tbody>\n",
       "</table>\n",
       "</div>"
      ],
      "text/plain": [
       "           MEA_DDHR  PLANT  LOC  TEM_IN  HUM_IN  TEM_COIL  TEM_OUT_LOC1  \\\n",
       "0   2016-04-01 0:00      1    1    16.0    24.0      10.0          13.0   \n",
       "1   2016-04-01 3:00      1    1    14.0    28.0       7.0          11.0   \n",
       "2   2016-04-01 6:00      1    1    13.0    33.0       7.0          10.0   \n",
       "3   2016-04-01 9:00      1    1    13.0    33.0       8.0          10.0   \n",
       "4  2016-04-01 12:00      1    1    16.0    28.0       9.0          14.0   \n",
       "\n",
       "   HUM_OUT_LOC1  COND             X24_TMA             X48_TMA  \n",
       "0          32.0   0.0 2016-04-02 00:00:00 2016-04-03 00:00:00  \n",
       "1          42.0   0.0 2016-04-02 03:00:00 2016-04-03 03:00:00  \n",
       "2          44.0   0.0 2016-04-02 06:00:00 2016-04-03 06:00:00  \n",
       "3          41.0   0.0 2016-04-02 09:00:00 2016-04-03 09:00:00  \n",
       "4          30.0   0.0 2016-04-02 12:00:00 2016-04-03 12:00:00  "
      ]
     },
     "execution_count": 533,
     "metadata": {},
     "output_type": "execute_result"
    }
   ],
   "source": [
    "plant.head()"
   ]
  },
  {
   "cell_type": "markdown",
   "metadata": {},
   "source": [
    "## X24H_COND_LOC, X48H_COND_LOC 추가\n",
    "### 참조용 컬럼 생성"
   ]
  },
  {
   "cell_type": "code",
   "execution_count": 534,
   "metadata": {
    "ExecuteTime": {
     "end_time": "2020-06-10T05:13:41.373751Z",
     "start_time": "2020-06-10T05:13:41.145315Z"
    }
   },
   "outputs": [],
   "source": [
    "plant['MEA_DDHR'] = pd.to_datetime(plant['MEA_DDHR'])"
   ]
  },
  {
   "cell_type": "code",
   "execution_count": 535,
   "metadata": {
    "ExecuteTime": {
     "end_time": "2020-06-10T05:13:41.387767Z",
     "start_time": "2020-06-10T05:13:41.374718Z"
    }
   },
   "outputs": [
    {
     "data": {
      "text/plain": [
       "MEA_DDHR        datetime64[ns]\n",
       "PLANT                    int64\n",
       "LOC                      int64\n",
       "TEM_IN                 float64\n",
       "HUM_IN                 float64\n",
       "TEM_COIL               float64\n",
       "TEM_OUT_LOC1           float64\n",
       "HUM_OUT_LOC1           float64\n",
       "COND                   float64\n",
       "X24_TMA         datetime64[ns]\n",
       "X48_TMA         datetime64[ns]\n",
       "dtype: object"
      ]
     },
     "execution_count": 535,
     "metadata": {},
     "output_type": "execute_result"
    }
   ],
   "source": [
    "plant.dtypes"
   ]
  },
  {
   "cell_type": "code",
   "execution_count": 536,
   "metadata": {
    "ExecuteTime": {
     "end_time": "2020-06-10T05:13:43.119962Z",
     "start_time": "2020-06-10T05:13:41.389257Z"
    }
   },
   "outputs": [
    {
     "data": {
      "text/plain": [
       "MEA_DDHR         object\n",
       "PLANT            object\n",
       "LOC              object\n",
       "TEM_IN          float64\n",
       "HUM_IN          float64\n",
       "TEM_COIL        float64\n",
       "TEM_OUT_LOC1    float64\n",
       "HUM_OUT_LOC1    float64\n",
       "COND            float64\n",
       "X24_TMA          object\n",
       "X48_TMA          object\n",
       "dtype: object"
      ]
     },
     "execution_count": 536,
     "metadata": {},
     "output_type": "execute_result"
    }
   ],
   "source": [
    "plant['PLANT'] = plant['PLANT'].astype(str)\n",
    "plant['LOC'] = plant['LOC'].astype(str)\n",
    "\n",
    "plant['MEA_DDHR'] = plant['MEA_DDHR'].astype(str)\n",
    "plant['MEA_DDHR'] = plant['MEA_DDHR'].str.slice(start=0, stop=16)\n",
    "\n",
    "plant['X24_TMA'] = plant['X24_TMA'].astype(str)\n",
    "plant['X24_TMA'] = plant['X24_TMA'].str.slice(start=0, stop=16)\n",
    "\n",
    "plant['X48_TMA'] = plant['X48_TMA'].astype(str)\n",
    "plant['X48_TMA'] = plant['X48_TMA'].str.slice(start=0, stop=16)\n",
    "\n",
    "plant.dtypes"
   ]
  },
  {
   "cell_type": "code",
   "execution_count": 537,
   "metadata": {
    "ExecuteTime": {
     "end_time": "2020-06-10T05:13:43.132059Z",
     "start_time": "2020-06-10T05:13:43.120959Z"
    }
   },
   "outputs": [
    {
     "data": {
      "text/html": [
       "<div>\n",
       "<style scoped>\n",
       "    .dataframe tbody tr th:only-of-type {\n",
       "        vertical-align: middle;\n",
       "    }\n",
       "\n",
       "    .dataframe tbody tr th {\n",
       "        vertical-align: top;\n",
       "    }\n",
       "\n",
       "    .dataframe thead th {\n",
       "        text-align: right;\n",
       "    }\n",
       "</style>\n",
       "<table border=\"1\" class=\"dataframe\">\n",
       "  <thead>\n",
       "    <tr style=\"text-align: right;\">\n",
       "      <th></th>\n",
       "      <th>MEA_DDHR</th>\n",
       "      <th>PLANT</th>\n",
       "      <th>LOC</th>\n",
       "      <th>TEM_IN</th>\n",
       "      <th>HUM_IN</th>\n",
       "      <th>TEM_COIL</th>\n",
       "      <th>TEM_OUT_LOC1</th>\n",
       "      <th>HUM_OUT_LOC1</th>\n",
       "      <th>COND</th>\n",
       "      <th>X24_TMA</th>\n",
       "      <th>X48_TMA</th>\n",
       "    </tr>\n",
       "  </thead>\n",
       "  <tbody>\n",
       "    <tr>\n",
       "      <td>0</td>\n",
       "      <td>2016-04-01 00:00</td>\n",
       "      <td>1</td>\n",
       "      <td>1</td>\n",
       "      <td>16.0</td>\n",
       "      <td>24.0</td>\n",
       "      <td>10.0</td>\n",
       "      <td>13.0</td>\n",
       "      <td>32.0</td>\n",
       "      <td>0.0</td>\n",
       "      <td>2016-04-02 00:00</td>\n",
       "      <td>2016-04-03 00:00</td>\n",
       "    </tr>\n",
       "  </tbody>\n",
       "</table>\n",
       "</div>"
      ],
      "text/plain": [
       "           MEA_DDHR PLANT LOC  TEM_IN  HUM_IN  TEM_COIL  TEM_OUT_LOC1  \\\n",
       "0  2016-04-01 00:00     1   1    16.0    24.0      10.0          13.0   \n",
       "\n",
       "   HUM_OUT_LOC1  COND           X24_TMA           X48_TMA  \n",
       "0          32.0   0.0  2016-04-02 00:00  2016-04-03 00:00  "
      ]
     },
     "execution_count": 537,
     "metadata": {},
     "output_type": "execute_result"
    }
   ],
   "source": [
    "plant.head(1)"
   ]
  },
  {
   "cell_type": "code",
   "execution_count": 538,
   "metadata": {
    "ExecuteTime": {
     "end_time": "2020-06-10T05:13:43.229351Z",
     "start_time": "2020-06-10T05:13:43.133102Z"
    }
   },
   "outputs": [
    {
     "data": {
      "text/html": [
       "<div>\n",
       "<style scoped>\n",
       "    .dataframe tbody tr th:only-of-type {\n",
       "        vertical-align: middle;\n",
       "    }\n",
       "\n",
       "    .dataframe tbody tr th {\n",
       "        vertical-align: top;\n",
       "    }\n",
       "\n",
       "    .dataframe thead th {\n",
       "        text-align: right;\n",
       "    }\n",
       "</style>\n",
       "<table border=\"1\" class=\"dataframe\">\n",
       "  <thead>\n",
       "    <tr style=\"text-align: right;\">\n",
       "      <th></th>\n",
       "      <th>MEA_DDHR</th>\n",
       "      <th>PLANT</th>\n",
       "      <th>LOC</th>\n",
       "      <th>TEM_IN</th>\n",
       "      <th>HUM_IN</th>\n",
       "      <th>TEM_COIL</th>\n",
       "      <th>TEM_OUT_LOC1</th>\n",
       "      <th>HUM_OUT_LOC1</th>\n",
       "      <th>COND</th>\n",
       "      <th>X24_TMA</th>\n",
       "      <th>X48_TMA</th>\n",
       "      <th>MPL</th>\n",
       "    </tr>\n",
       "  </thead>\n",
       "  <tbody>\n",
       "    <tr>\n",
       "      <td>0</td>\n",
       "      <td>2016-04-01 00:00</td>\n",
       "      <td>1</td>\n",
       "      <td>1</td>\n",
       "      <td>16.0</td>\n",
       "      <td>24.0</td>\n",
       "      <td>10.0</td>\n",
       "      <td>13.0</td>\n",
       "      <td>32.0</td>\n",
       "      <td>0.0</td>\n",
       "      <td>2016-04-02 00:00</td>\n",
       "      <td>2016-04-03 00:00</td>\n",
       "      <td>11 2016-04-01 00:00</td>\n",
       "    </tr>\n",
       "    <tr>\n",
       "      <td>1</td>\n",
       "      <td>2016-04-01 03:00</td>\n",
       "      <td>1</td>\n",
       "      <td>1</td>\n",
       "      <td>14.0</td>\n",
       "      <td>28.0</td>\n",
       "      <td>7.0</td>\n",
       "      <td>11.0</td>\n",
       "      <td>42.0</td>\n",
       "      <td>0.0</td>\n",
       "      <td>2016-04-02 03:00</td>\n",
       "      <td>2016-04-03 03:00</td>\n",
       "      <td>11 2016-04-01 03:00</td>\n",
       "    </tr>\n",
       "    <tr>\n",
       "      <td>2</td>\n",
       "      <td>2016-04-01 06:00</td>\n",
       "      <td>1</td>\n",
       "      <td>1</td>\n",
       "      <td>13.0</td>\n",
       "      <td>33.0</td>\n",
       "      <td>7.0</td>\n",
       "      <td>10.0</td>\n",
       "      <td>44.0</td>\n",
       "      <td>0.0</td>\n",
       "      <td>2016-04-02 06:00</td>\n",
       "      <td>2016-04-03 06:00</td>\n",
       "      <td>11 2016-04-01 06:00</td>\n",
       "    </tr>\n",
       "    <tr>\n",
       "      <td>3</td>\n",
       "      <td>2016-04-01 09:00</td>\n",
       "      <td>1</td>\n",
       "      <td>1</td>\n",
       "      <td>13.0</td>\n",
       "      <td>33.0</td>\n",
       "      <td>8.0</td>\n",
       "      <td>10.0</td>\n",
       "      <td>41.0</td>\n",
       "      <td>0.0</td>\n",
       "      <td>2016-04-02 09:00</td>\n",
       "      <td>2016-04-03 09:00</td>\n",
       "      <td>11 2016-04-01 09:00</td>\n",
       "    </tr>\n",
       "    <tr>\n",
       "      <td>4</td>\n",
       "      <td>2016-04-01 12:00</td>\n",
       "      <td>1</td>\n",
       "      <td>1</td>\n",
       "      <td>16.0</td>\n",
       "      <td>28.0</td>\n",
       "      <td>9.0</td>\n",
       "      <td>14.0</td>\n",
       "      <td>30.0</td>\n",
       "      <td>0.0</td>\n",
       "      <td>2016-04-02 12:00</td>\n",
       "      <td>2016-04-03 12:00</td>\n",
       "      <td>11 2016-04-01 12:00</td>\n",
       "    </tr>\n",
       "  </tbody>\n",
       "</table>\n",
       "</div>"
      ],
      "text/plain": [
       "           MEA_DDHR PLANT LOC  TEM_IN  HUM_IN  TEM_COIL  TEM_OUT_LOC1  \\\n",
       "0  2016-04-01 00:00     1   1    16.0    24.0      10.0          13.0   \n",
       "1  2016-04-01 03:00     1   1    14.0    28.0       7.0          11.0   \n",
       "2  2016-04-01 06:00     1   1    13.0    33.0       7.0          10.0   \n",
       "3  2016-04-01 09:00     1   1    13.0    33.0       8.0          10.0   \n",
       "4  2016-04-01 12:00     1   1    16.0    28.0       9.0          14.0   \n",
       "\n",
       "   HUM_OUT_LOC1  COND           X24_TMA           X48_TMA                  MPL  \n",
       "0          32.0   0.0  2016-04-02 00:00  2016-04-03 00:00  11 2016-04-01 00:00  \n",
       "1          42.0   0.0  2016-04-02 03:00  2016-04-03 03:00  11 2016-04-01 03:00  \n",
       "2          44.0   0.0  2016-04-02 06:00  2016-04-03 06:00  11 2016-04-01 06:00  \n",
       "3          41.0   0.0  2016-04-02 09:00  2016-04-03 09:00  11 2016-04-01 09:00  \n",
       "4          30.0   0.0  2016-04-02 12:00  2016-04-03 12:00  11 2016-04-01 12:00  "
      ]
     },
     "execution_count": 538,
     "metadata": {},
     "output_type": "execute_result"
    }
   ],
   "source": [
    "plant['MPL'] = plant['PLANT'] + plant['LOC'] + ' ' + plant['MEA_DDHR']\n",
    "plant.head()"
   ]
  },
  {
   "cell_type": "code",
   "execution_count": 539,
   "metadata": {
    "ExecuteTime": {
     "end_time": "2020-06-10T05:13:43.403704Z",
     "start_time": "2020-06-10T05:13:43.230348Z"
    }
   },
   "outputs": [
    {
     "data": {
      "text/html": [
       "<div>\n",
       "<style scoped>\n",
       "    .dataframe tbody tr th:only-of-type {\n",
       "        vertical-align: middle;\n",
       "    }\n",
       "\n",
       "    .dataframe tbody tr th {\n",
       "        vertical-align: top;\n",
       "    }\n",
       "\n",
       "    .dataframe thead th {\n",
       "        text-align: right;\n",
       "    }\n",
       "</style>\n",
       "<table border=\"1\" class=\"dataframe\">\n",
       "  <thead>\n",
       "    <tr style=\"text-align: right;\">\n",
       "      <th></th>\n",
       "      <th>MEA_DDHR</th>\n",
       "      <th>PLANT</th>\n",
       "      <th>LOC</th>\n",
       "      <th>TEM_IN</th>\n",
       "      <th>HUM_IN</th>\n",
       "      <th>TEM_COIL</th>\n",
       "      <th>TEM_OUT_LOC1</th>\n",
       "      <th>HUM_OUT_LOC1</th>\n",
       "      <th>COND</th>\n",
       "      <th>X24_TMA</th>\n",
       "      <th>X48_TMA</th>\n",
       "      <th>MPL</th>\n",
       "      <th>X24PL</th>\n",
       "      <th>X48PL</th>\n",
       "    </tr>\n",
       "  </thead>\n",
       "  <tbody>\n",
       "    <tr>\n",
       "      <td>0</td>\n",
       "      <td>2016-04-01 00:00</td>\n",
       "      <td>1</td>\n",
       "      <td>1</td>\n",
       "      <td>16.0</td>\n",
       "      <td>24.0</td>\n",
       "      <td>10.0</td>\n",
       "      <td>13.0</td>\n",
       "      <td>32.0</td>\n",
       "      <td>0.0</td>\n",
       "      <td>2016-04-02 00:00</td>\n",
       "      <td>2016-04-03 00:00</td>\n",
       "      <td>11 2016-04-01 00:00</td>\n",
       "      <td>11 2016-04-02 00:00</td>\n",
       "      <td>11 2016-04-03 00:00</td>\n",
       "    </tr>\n",
       "    <tr>\n",
       "      <td>1</td>\n",
       "      <td>2016-04-01 03:00</td>\n",
       "      <td>1</td>\n",
       "      <td>1</td>\n",
       "      <td>14.0</td>\n",
       "      <td>28.0</td>\n",
       "      <td>7.0</td>\n",
       "      <td>11.0</td>\n",
       "      <td>42.0</td>\n",
       "      <td>0.0</td>\n",
       "      <td>2016-04-02 03:00</td>\n",
       "      <td>2016-04-03 03:00</td>\n",
       "      <td>11 2016-04-01 03:00</td>\n",
       "      <td>11 2016-04-02 03:00</td>\n",
       "      <td>11 2016-04-03 03:00</td>\n",
       "    </tr>\n",
       "    <tr>\n",
       "      <td>2</td>\n",
       "      <td>2016-04-01 06:00</td>\n",
       "      <td>1</td>\n",
       "      <td>1</td>\n",
       "      <td>13.0</td>\n",
       "      <td>33.0</td>\n",
       "      <td>7.0</td>\n",
       "      <td>10.0</td>\n",
       "      <td>44.0</td>\n",
       "      <td>0.0</td>\n",
       "      <td>2016-04-02 06:00</td>\n",
       "      <td>2016-04-03 06:00</td>\n",
       "      <td>11 2016-04-01 06:00</td>\n",
       "      <td>11 2016-04-02 06:00</td>\n",
       "      <td>11 2016-04-03 06:00</td>\n",
       "    </tr>\n",
       "    <tr>\n",
       "      <td>3</td>\n",
       "      <td>2016-04-01 09:00</td>\n",
       "      <td>1</td>\n",
       "      <td>1</td>\n",
       "      <td>13.0</td>\n",
       "      <td>33.0</td>\n",
       "      <td>8.0</td>\n",
       "      <td>10.0</td>\n",
       "      <td>41.0</td>\n",
       "      <td>0.0</td>\n",
       "      <td>2016-04-02 09:00</td>\n",
       "      <td>2016-04-03 09:00</td>\n",
       "      <td>11 2016-04-01 09:00</td>\n",
       "      <td>11 2016-04-02 09:00</td>\n",
       "      <td>11 2016-04-03 09:00</td>\n",
       "    </tr>\n",
       "    <tr>\n",
       "      <td>4</td>\n",
       "      <td>2016-04-01 12:00</td>\n",
       "      <td>1</td>\n",
       "      <td>1</td>\n",
       "      <td>16.0</td>\n",
       "      <td>28.0</td>\n",
       "      <td>9.0</td>\n",
       "      <td>14.0</td>\n",
       "      <td>30.0</td>\n",
       "      <td>0.0</td>\n",
       "      <td>2016-04-02 12:00</td>\n",
       "      <td>2016-04-03 12:00</td>\n",
       "      <td>11 2016-04-01 12:00</td>\n",
       "      <td>11 2016-04-02 12:00</td>\n",
       "      <td>11 2016-04-03 12:00</td>\n",
       "    </tr>\n",
       "  </tbody>\n",
       "</table>\n",
       "</div>"
      ],
      "text/plain": [
       "           MEA_DDHR PLANT LOC  TEM_IN  HUM_IN  TEM_COIL  TEM_OUT_LOC1  \\\n",
       "0  2016-04-01 00:00     1   1    16.0    24.0      10.0          13.0   \n",
       "1  2016-04-01 03:00     1   1    14.0    28.0       7.0          11.0   \n",
       "2  2016-04-01 06:00     1   1    13.0    33.0       7.0          10.0   \n",
       "3  2016-04-01 09:00     1   1    13.0    33.0       8.0          10.0   \n",
       "4  2016-04-01 12:00     1   1    16.0    28.0       9.0          14.0   \n",
       "\n",
       "   HUM_OUT_LOC1  COND           X24_TMA           X48_TMA  \\\n",
       "0          32.0   0.0  2016-04-02 00:00  2016-04-03 00:00   \n",
       "1          42.0   0.0  2016-04-02 03:00  2016-04-03 03:00   \n",
       "2          44.0   0.0  2016-04-02 06:00  2016-04-03 06:00   \n",
       "3          41.0   0.0  2016-04-02 09:00  2016-04-03 09:00   \n",
       "4          30.0   0.0  2016-04-02 12:00  2016-04-03 12:00   \n",
       "\n",
       "                   MPL                X24PL                X48PL  \n",
       "0  11 2016-04-01 00:00  11 2016-04-02 00:00  11 2016-04-03 00:00  \n",
       "1  11 2016-04-01 03:00  11 2016-04-02 03:00  11 2016-04-03 03:00  \n",
       "2  11 2016-04-01 06:00  11 2016-04-02 06:00  11 2016-04-03 06:00  \n",
       "3  11 2016-04-01 09:00  11 2016-04-02 09:00  11 2016-04-03 09:00  \n",
       "4  11 2016-04-01 12:00  11 2016-04-02 12:00  11 2016-04-03 12:00  "
      ]
     },
     "execution_count": 539,
     "metadata": {},
     "output_type": "execute_result"
    }
   ],
   "source": [
    "plant['X24PL'] = plant['PLANT'] + plant['LOC'] + ' ' + plant['X24_TMA']\n",
    "plant['X48PL'] = plant['PLANT'] + plant['LOC'] + ' ' + plant['X48_TMA']\n",
    "plant.head()"
   ]
  },
  {
   "cell_type": "code",
   "execution_count": 540,
   "metadata": {
    "ExecuteTime": {
     "end_time": "2020-06-10T05:13:43.569259Z",
     "start_time": "2020-06-10T05:13:43.404702Z"
    }
   },
   "outputs": [
    {
     "data": {
      "text/plain": [
       "MEA_DDHR        0\n",
       "PLANT           0\n",
       "LOC             0\n",
       "TEM_IN          0\n",
       "HUM_IN          0\n",
       "TEM_COIL        0\n",
       "TEM_OUT_LOC1    0\n",
       "HUM_OUT_LOC1    0\n",
       "COND            0\n",
       "X24_TMA         0\n",
       "X48_TMA         0\n",
       "MPL             0\n",
       "X24PL           0\n",
       "X48PL           0\n",
       "dtype: int64"
      ]
     },
     "execution_count": 540,
     "metadata": {},
     "output_type": "execute_result"
    }
   ],
   "source": [
    "plant.isnull().sum()"
   ]
  },
  {
   "cell_type": "markdown",
   "metadata": {
    "ExecuteTime": {
     "end_time": "2020-06-10T02:17:43.992256Z",
     "start_time": "2020-06-10T02:17:43.988267Z"
    }
   },
   "source": [
    "### 현시점, 24시간 후 , 48시간 후의 subset 생성"
   ]
  },
  {
   "cell_type": "code",
   "execution_count": 541,
   "metadata": {
    "ExecuteTime": {
     "end_time": "2020-06-10T05:13:43.623117Z",
     "start_time": "2020-06-10T05:13:43.570258Z"
    }
   },
   "outputs": [
    {
     "data": {
      "text/html": [
       "<div>\n",
       "<style scoped>\n",
       "    .dataframe tbody tr th:only-of-type {\n",
       "        vertical-align: middle;\n",
       "    }\n",
       "\n",
       "    .dataframe tbody tr th {\n",
       "        vertical-align: top;\n",
       "    }\n",
       "\n",
       "    .dataframe thead th {\n",
       "        text-align: right;\n",
       "    }\n",
       "</style>\n",
       "<table border=\"1\" class=\"dataframe\">\n",
       "  <thead>\n",
       "    <tr style=\"text-align: right;\">\n",
       "      <th></th>\n",
       "      <th>MPL</th>\n",
       "      <th>COND</th>\n",
       "    </tr>\n",
       "  </thead>\n",
       "  <tbody>\n",
       "    <tr>\n",
       "      <td>0</td>\n",
       "      <td>11 2016-04-01 00:00</td>\n",
       "      <td>0.0</td>\n",
       "    </tr>\n",
       "    <tr>\n",
       "      <td>1</td>\n",
       "      <td>11 2016-04-01 03:00</td>\n",
       "      <td>0.0</td>\n",
       "    </tr>\n",
       "    <tr>\n",
       "      <td>2</td>\n",
       "      <td>11 2016-04-01 06:00</td>\n",
       "      <td>0.0</td>\n",
       "    </tr>\n",
       "    <tr>\n",
       "      <td>3</td>\n",
       "      <td>11 2016-04-01 09:00</td>\n",
       "      <td>0.0</td>\n",
       "    </tr>\n",
       "    <tr>\n",
       "      <td>4</td>\n",
       "      <td>11 2016-04-01 12:00</td>\n",
       "      <td>0.0</td>\n",
       "    </tr>\n",
       "    <tr>\n",
       "      <td>5</td>\n",
       "      <td>11 2016-04-01 15:00</td>\n",
       "      <td>0.0</td>\n",
       "    </tr>\n",
       "    <tr>\n",
       "      <td>6</td>\n",
       "      <td>11 2016-04-01 18:00</td>\n",
       "      <td>0.0</td>\n",
       "    </tr>\n",
       "    <tr>\n",
       "      <td>7</td>\n",
       "      <td>11 2016-04-01 21:00</td>\n",
       "      <td>0.0</td>\n",
       "    </tr>\n",
       "    <tr>\n",
       "      <td>8</td>\n",
       "      <td>11 2016-04-02 00:00</td>\n",
       "      <td>0.0</td>\n",
       "    </tr>\n",
       "    <tr>\n",
       "      <td>9</td>\n",
       "      <td>11 2016-04-02 03:00</td>\n",
       "      <td>0.0</td>\n",
       "    </tr>\n",
       "  </tbody>\n",
       "</table>\n",
       "</div>"
      ],
      "text/plain": [
       "                   MPL  COND\n",
       "0  11 2016-04-01 00:00   0.0\n",
       "1  11 2016-04-01 03:00   0.0\n",
       "2  11 2016-04-01 06:00   0.0\n",
       "3  11 2016-04-01 09:00   0.0\n",
       "4  11 2016-04-01 12:00   0.0\n",
       "5  11 2016-04-01 15:00   0.0\n",
       "6  11 2016-04-01 18:00   0.0\n",
       "7  11 2016-04-01 21:00   0.0\n",
       "8  11 2016-04-02 00:00   0.0\n",
       "9  11 2016-04-02 03:00   0.0"
      ]
     },
     "execution_count": 541,
     "metadata": {},
     "output_type": "execute_result"
    }
   ],
   "source": [
    "time_0 = plant[['MPL', 'COND']].copy()\n",
    "time_24 = plant[['X24PL']].copy()\n",
    "time_48 = plant[['X48PL']].copy()\n",
    "time_0.head(10)"
   ]
  },
  {
   "cell_type": "markdown",
   "metadata": {},
   "source": [
    "### merge"
   ]
  },
  {
   "cell_type": "code",
   "execution_count": 542,
   "metadata": {
    "ExecuteTime": {
     "end_time": "2020-06-10T05:13:43.921318Z",
     "start_time": "2020-06-10T05:13:43.624114Z"
    }
   },
   "outputs": [
    {
     "data": {
      "text/html": [
       "<div>\n",
       "<style scoped>\n",
       "    .dataframe tbody tr th:only-of-type {\n",
       "        vertical-align: middle;\n",
       "    }\n",
       "\n",
       "    .dataframe tbody tr th {\n",
       "        vertical-align: top;\n",
       "    }\n",
       "\n",
       "    .dataframe thead th {\n",
       "        text-align: right;\n",
       "    }\n",
       "</style>\n",
       "<table border=\"1\" class=\"dataframe\">\n",
       "  <thead>\n",
       "    <tr style=\"text-align: right;\">\n",
       "      <th></th>\n",
       "      <th>X24PL</th>\n",
       "      <th>MPL</th>\n",
       "      <th>COND</th>\n",
       "    </tr>\n",
       "  </thead>\n",
       "  <tbody>\n",
       "    <tr>\n",
       "      <td>0</td>\n",
       "      <td>11 2016-04-02 00:00</td>\n",
       "      <td>11 2016-04-02 00:00</td>\n",
       "      <td>0.0</td>\n",
       "    </tr>\n",
       "    <tr>\n",
       "      <td>1</td>\n",
       "      <td>11 2016-04-02 03:00</td>\n",
       "      <td>11 2016-04-02 03:00</td>\n",
       "      <td>0.0</td>\n",
       "    </tr>\n",
       "    <tr>\n",
       "      <td>2</td>\n",
       "      <td>11 2016-04-02 06:00</td>\n",
       "      <td>11 2016-04-02 06:00</td>\n",
       "      <td>0.0</td>\n",
       "    </tr>\n",
       "    <tr>\n",
       "      <td>3</td>\n",
       "      <td>11 2016-04-02 09:00</td>\n",
       "      <td>11 2016-04-02 09:00</td>\n",
       "      <td>0.0</td>\n",
       "    </tr>\n",
       "    <tr>\n",
       "      <td>4</td>\n",
       "      <td>11 2016-04-02 12:00</td>\n",
       "      <td>11 2016-04-02 12:00</td>\n",
       "      <td>0.0</td>\n",
       "    </tr>\n",
       "  </tbody>\n",
       "</table>\n",
       "</div>"
      ],
      "text/plain": [
       "                 X24PL                  MPL  COND\n",
       "0  11 2016-04-02 00:00  11 2016-04-02 00:00   0.0\n",
       "1  11 2016-04-02 03:00  11 2016-04-02 03:00   0.0\n",
       "2  11 2016-04-02 06:00  11 2016-04-02 06:00   0.0\n",
       "3  11 2016-04-02 09:00  11 2016-04-02 09:00   0.0\n",
       "4  11 2016-04-02 12:00  11 2016-04-02 12:00   0.0"
      ]
     },
     "execution_count": 542,
     "metadata": {},
     "output_type": "execute_result"
    }
   ],
   "source": [
    "time_24_merge = time_24.merge(time_0, how='left', left_on='X24PL', right_on='MPL')\n",
    "time_24_merge.head()"
   ]
  },
  {
   "cell_type": "code",
   "execution_count": 543,
   "metadata": {
    "ExecuteTime": {
     "end_time": "2020-06-10T05:13:43.927302Z",
     "start_time": "2020-06-10T05:13:43.922315Z"
    }
   },
   "outputs": [
    {
     "data": {
      "text/plain": [
       "(348957, 14)"
      ]
     },
     "execution_count": 543,
     "metadata": {},
     "output_type": "execute_result"
    }
   ],
   "source": [
    "plant.shape"
   ]
  },
  {
   "cell_type": "code",
   "execution_count": 544,
   "metadata": {
    "ExecuteTime": {
     "end_time": "2020-06-10T05:13:43.933286Z",
     "start_time": "2020-06-10T05:13:43.928300Z"
    }
   },
   "outputs": [
    {
     "data": {
      "text/plain": [
       "(348957, 1)"
      ]
     },
     "execution_count": 544,
     "metadata": {},
     "output_type": "execute_result"
    }
   ],
   "source": [
    "time_24.shape"
   ]
  },
  {
   "cell_type": "code",
   "execution_count": 545,
   "metadata": {
    "ExecuteTime": {
     "end_time": "2020-06-10T05:13:44.233482Z",
     "start_time": "2020-06-10T05:13:43.934283Z"
    }
   },
   "outputs": [
    {
     "data": {
      "text/html": [
       "<div>\n",
       "<style scoped>\n",
       "    .dataframe tbody tr th:only-of-type {\n",
       "        vertical-align: middle;\n",
       "    }\n",
       "\n",
       "    .dataframe tbody tr th {\n",
       "        vertical-align: top;\n",
       "    }\n",
       "\n",
       "    .dataframe thead th {\n",
       "        text-align: right;\n",
       "    }\n",
       "</style>\n",
       "<table border=\"1\" class=\"dataframe\">\n",
       "  <thead>\n",
       "    <tr style=\"text-align: right;\">\n",
       "      <th></th>\n",
       "      <th>X48PL</th>\n",
       "      <th>MPL</th>\n",
       "      <th>COND</th>\n",
       "    </tr>\n",
       "  </thead>\n",
       "  <tbody>\n",
       "    <tr>\n",
       "      <td>0</td>\n",
       "      <td>11 2016-04-03 00:00</td>\n",
       "      <td>11 2016-04-03 00:00</td>\n",
       "      <td>0.0</td>\n",
       "    </tr>\n",
       "    <tr>\n",
       "      <td>1</td>\n",
       "      <td>11 2016-04-03 03:00</td>\n",
       "      <td>11 2016-04-03 03:00</td>\n",
       "      <td>0.0</td>\n",
       "    </tr>\n",
       "    <tr>\n",
       "      <td>2</td>\n",
       "      <td>11 2016-04-03 06:00</td>\n",
       "      <td>11 2016-04-03 06:00</td>\n",
       "      <td>0.0</td>\n",
       "    </tr>\n",
       "    <tr>\n",
       "      <td>3</td>\n",
       "      <td>11 2016-04-03 09:00</td>\n",
       "      <td>11 2016-04-03 09:00</td>\n",
       "      <td>0.0</td>\n",
       "    </tr>\n",
       "    <tr>\n",
       "      <td>4</td>\n",
       "      <td>11 2016-04-03 12:00</td>\n",
       "      <td>11 2016-04-03 12:00</td>\n",
       "      <td>0.0</td>\n",
       "    </tr>\n",
       "  </tbody>\n",
       "</table>\n",
       "</div>"
      ],
      "text/plain": [
       "                 X48PL                  MPL  COND\n",
       "0  11 2016-04-03 00:00  11 2016-04-03 00:00   0.0\n",
       "1  11 2016-04-03 03:00  11 2016-04-03 03:00   0.0\n",
       "2  11 2016-04-03 06:00  11 2016-04-03 06:00   0.0\n",
       "3  11 2016-04-03 09:00  11 2016-04-03 09:00   0.0\n",
       "4  11 2016-04-03 12:00  11 2016-04-03 12:00   0.0"
      ]
     },
     "execution_count": 545,
     "metadata": {},
     "output_type": "execute_result"
    }
   ],
   "source": [
    "time_48_merge = time_48.merge(time_0, how='left', left_on='X48PL', right_on='MPL')\n",
    "time_48_merge.head()"
   ]
  },
  {
   "cell_type": "code",
   "execution_count": 546,
   "metadata": {
    "ExecuteTime": {
     "end_time": "2020-06-10T05:13:44.287339Z",
     "start_time": "2020-06-10T05:13:44.234480Z"
    }
   },
   "outputs": [
    {
     "data": {
      "text/plain": [
       "X24PL       0\n",
       "MPL      2694\n",
       "COND     2694\n",
       "dtype: int64"
      ]
     },
     "execution_count": 546,
     "metadata": {},
     "output_type": "execute_result"
    }
   ],
   "source": [
    "time_24_merge.isnull().sum()"
   ]
  },
  {
   "cell_type": "code",
   "execution_count": 547,
   "metadata": {
    "ExecuteTime": {
     "end_time": "2020-06-10T05:13:44.347178Z",
     "start_time": "2020-06-10T05:13:44.288336Z"
    }
   },
   "outputs": [
    {
     "data": {
      "text/plain": [
       "X48PL       0\n",
       "MPL      3954\n",
       "COND     3954\n",
       "dtype: int64"
      ]
     },
     "execution_count": 547,
     "metadata": {},
     "output_type": "execute_result"
    }
   ],
   "source": [
    "time_48_merge.isnull().sum()"
   ]
  },
  {
   "cell_type": "code",
   "execution_count": 548,
   "metadata": {
    "ExecuteTime": {
     "end_time": "2020-06-10T05:13:44.445254Z",
     "start_time": "2020-06-10T05:13:44.348176Z"
    }
   },
   "outputs": [
    {
     "data": {
      "text/html": [
       "<div>\n",
       "<style scoped>\n",
       "    .dataframe tbody tr th:only-of-type {\n",
       "        vertical-align: middle;\n",
       "    }\n",
       "\n",
       "    .dataframe tbody tr th {\n",
       "        vertical-align: top;\n",
       "    }\n",
       "\n",
       "    .dataframe thead th {\n",
       "        text-align: right;\n",
       "    }\n",
       "</style>\n",
       "<table border=\"1\" class=\"dataframe\">\n",
       "  <thead>\n",
       "    <tr style=\"text-align: right;\">\n",
       "      <th></th>\n",
       "      <th>MEA_DDHR</th>\n",
       "      <th>PLANT</th>\n",
       "      <th>LOC</th>\n",
       "      <th>TEM_IN</th>\n",
       "      <th>HUM_IN</th>\n",
       "      <th>TEM_COIL</th>\n",
       "      <th>TEM_OUT_LOC1</th>\n",
       "      <th>HUM_OUT_LOC1</th>\n",
       "      <th>COND</th>\n",
       "      <th>X24_TMA</th>\n",
       "      <th>X48_TMA</th>\n",
       "      <th>MPL</th>\n",
       "      <th>X24PL</th>\n",
       "      <th>X48PL</th>\n",
       "      <th>COND</th>\n",
       "    </tr>\n",
       "  </thead>\n",
       "  <tbody>\n",
       "    <tr>\n",
       "      <td>0</td>\n",
       "      <td>2016-04-01 00:00</td>\n",
       "      <td>1</td>\n",
       "      <td>1</td>\n",
       "      <td>16.0</td>\n",
       "      <td>24.0</td>\n",
       "      <td>10.0</td>\n",
       "      <td>13.0</td>\n",
       "      <td>32.0</td>\n",
       "      <td>0.0</td>\n",
       "      <td>2016-04-02 00:00</td>\n",
       "      <td>2016-04-03 00:00</td>\n",
       "      <td>11 2016-04-01 00:00</td>\n",
       "      <td>11 2016-04-02 00:00</td>\n",
       "      <td>11 2016-04-03 00:00</td>\n",
       "      <td>0.0</td>\n",
       "    </tr>\n",
       "    <tr>\n",
       "      <td>1</td>\n",
       "      <td>2016-04-01 03:00</td>\n",
       "      <td>1</td>\n",
       "      <td>1</td>\n",
       "      <td>14.0</td>\n",
       "      <td>28.0</td>\n",
       "      <td>7.0</td>\n",
       "      <td>11.0</td>\n",
       "      <td>42.0</td>\n",
       "      <td>0.0</td>\n",
       "      <td>2016-04-02 03:00</td>\n",
       "      <td>2016-04-03 03:00</td>\n",
       "      <td>11 2016-04-01 03:00</td>\n",
       "      <td>11 2016-04-02 03:00</td>\n",
       "      <td>11 2016-04-03 03:00</td>\n",
       "      <td>0.0</td>\n",
       "    </tr>\n",
       "    <tr>\n",
       "      <td>2</td>\n",
       "      <td>2016-04-01 06:00</td>\n",
       "      <td>1</td>\n",
       "      <td>1</td>\n",
       "      <td>13.0</td>\n",
       "      <td>33.0</td>\n",
       "      <td>7.0</td>\n",
       "      <td>10.0</td>\n",
       "      <td>44.0</td>\n",
       "      <td>0.0</td>\n",
       "      <td>2016-04-02 06:00</td>\n",
       "      <td>2016-04-03 06:00</td>\n",
       "      <td>11 2016-04-01 06:00</td>\n",
       "      <td>11 2016-04-02 06:00</td>\n",
       "      <td>11 2016-04-03 06:00</td>\n",
       "      <td>0.0</td>\n",
       "    </tr>\n",
       "    <tr>\n",
       "      <td>3</td>\n",
       "      <td>2016-04-01 09:00</td>\n",
       "      <td>1</td>\n",
       "      <td>1</td>\n",
       "      <td>13.0</td>\n",
       "      <td>33.0</td>\n",
       "      <td>8.0</td>\n",
       "      <td>10.0</td>\n",
       "      <td>41.0</td>\n",
       "      <td>0.0</td>\n",
       "      <td>2016-04-02 09:00</td>\n",
       "      <td>2016-04-03 09:00</td>\n",
       "      <td>11 2016-04-01 09:00</td>\n",
       "      <td>11 2016-04-02 09:00</td>\n",
       "      <td>11 2016-04-03 09:00</td>\n",
       "      <td>0.0</td>\n",
       "    </tr>\n",
       "    <tr>\n",
       "      <td>4</td>\n",
       "      <td>2016-04-01 12:00</td>\n",
       "      <td>1</td>\n",
       "      <td>1</td>\n",
       "      <td>16.0</td>\n",
       "      <td>28.0</td>\n",
       "      <td>9.0</td>\n",
       "      <td>14.0</td>\n",
       "      <td>30.0</td>\n",
       "      <td>0.0</td>\n",
       "      <td>2016-04-02 12:00</td>\n",
       "      <td>2016-04-03 12:00</td>\n",
       "      <td>11 2016-04-01 12:00</td>\n",
       "      <td>11 2016-04-02 12:00</td>\n",
       "      <td>11 2016-04-03 12:00</td>\n",
       "      <td>0.0</td>\n",
       "    </tr>\n",
       "  </tbody>\n",
       "</table>\n",
       "</div>"
      ],
      "text/plain": [
       "           MEA_DDHR PLANT LOC  TEM_IN  HUM_IN  TEM_COIL  TEM_OUT_LOC1  \\\n",
       "0  2016-04-01 00:00     1   1    16.0    24.0      10.0          13.0   \n",
       "1  2016-04-01 03:00     1   1    14.0    28.0       7.0          11.0   \n",
       "2  2016-04-01 06:00     1   1    13.0    33.0       7.0          10.0   \n",
       "3  2016-04-01 09:00     1   1    13.0    33.0       8.0          10.0   \n",
       "4  2016-04-01 12:00     1   1    16.0    28.0       9.0          14.0   \n",
       "\n",
       "   HUM_OUT_LOC1  COND           X24_TMA           X48_TMA  \\\n",
       "0          32.0   0.0  2016-04-02 00:00  2016-04-03 00:00   \n",
       "1          42.0   0.0  2016-04-02 03:00  2016-04-03 03:00   \n",
       "2          44.0   0.0  2016-04-02 06:00  2016-04-03 06:00   \n",
       "3          41.0   0.0  2016-04-02 09:00  2016-04-03 09:00   \n",
       "4          30.0   0.0  2016-04-02 12:00  2016-04-03 12:00   \n",
       "\n",
       "                   MPL                X24PL                X48PL  COND  \n",
       "0  11 2016-04-01 00:00  11 2016-04-02 00:00  11 2016-04-03 00:00   0.0  \n",
       "1  11 2016-04-01 03:00  11 2016-04-02 03:00  11 2016-04-03 03:00   0.0  \n",
       "2  11 2016-04-01 06:00  11 2016-04-02 06:00  11 2016-04-03 06:00   0.0  \n",
       "3  11 2016-04-01 09:00  11 2016-04-02 09:00  11 2016-04-03 09:00   0.0  \n",
       "4  11 2016-04-01 12:00  11 2016-04-02 12:00  11 2016-04-03 12:00   0.0  "
      ]
     },
     "execution_count": 548,
     "metadata": {},
     "output_type": "execute_result"
    }
   ],
   "source": [
    "X24H_COND_LOC = time_24_merge['COND']\n",
    "plant_24plus = pd.concat([plant, X24H_COND_LOC], axis=1)\n",
    "plant_24plus.head()"
   ]
  },
  {
   "cell_type": "code",
   "execution_count": 549,
   "metadata": {
    "ExecuteTime": {
     "end_time": "2020-06-10T05:13:44.637752Z",
     "start_time": "2020-06-10T05:13:44.446250Z"
    }
   },
   "outputs": [
    {
     "data": {
      "text/html": [
       "<div>\n",
       "<style scoped>\n",
       "    .dataframe tbody tr th:only-of-type {\n",
       "        vertical-align: middle;\n",
       "    }\n",
       "\n",
       "    .dataframe tbody tr th {\n",
       "        vertical-align: top;\n",
       "    }\n",
       "\n",
       "    .dataframe thead th {\n",
       "        text-align: right;\n",
       "    }\n",
       "</style>\n",
       "<table border=\"1\" class=\"dataframe\">\n",
       "  <thead>\n",
       "    <tr style=\"text-align: right;\">\n",
       "      <th></th>\n",
       "      <th>MEA_DDHR</th>\n",
       "      <th>PLANT</th>\n",
       "      <th>LOC</th>\n",
       "      <th>TEM_IN</th>\n",
       "      <th>HUM_IN</th>\n",
       "      <th>TEM_COIL</th>\n",
       "      <th>TEM_OUT_LOC1</th>\n",
       "      <th>HUM_OUT_LOC1</th>\n",
       "      <th>COND</th>\n",
       "      <th>X24_TMA</th>\n",
       "      <th>X48_TMA</th>\n",
       "      <th>MPL</th>\n",
       "      <th>X24PL</th>\n",
       "      <th>X48PL</th>\n",
       "      <th>COND</th>\n",
       "      <th>COND</th>\n",
       "    </tr>\n",
       "  </thead>\n",
       "  <tbody>\n",
       "    <tr>\n",
       "      <td>0</td>\n",
       "      <td>2016-04-01 00:00</td>\n",
       "      <td>1</td>\n",
       "      <td>1</td>\n",
       "      <td>16.0</td>\n",
       "      <td>24.0</td>\n",
       "      <td>10.0</td>\n",
       "      <td>13.0</td>\n",
       "      <td>32.0</td>\n",
       "      <td>0.0</td>\n",
       "      <td>2016-04-02 00:00</td>\n",
       "      <td>2016-04-03 00:00</td>\n",
       "      <td>11 2016-04-01 00:00</td>\n",
       "      <td>11 2016-04-02 00:00</td>\n",
       "      <td>11 2016-04-03 00:00</td>\n",
       "      <td>0.0</td>\n",
       "      <td>0.0</td>\n",
       "    </tr>\n",
       "    <tr>\n",
       "      <td>1</td>\n",
       "      <td>2016-04-01 03:00</td>\n",
       "      <td>1</td>\n",
       "      <td>1</td>\n",
       "      <td>14.0</td>\n",
       "      <td>28.0</td>\n",
       "      <td>7.0</td>\n",
       "      <td>11.0</td>\n",
       "      <td>42.0</td>\n",
       "      <td>0.0</td>\n",
       "      <td>2016-04-02 03:00</td>\n",
       "      <td>2016-04-03 03:00</td>\n",
       "      <td>11 2016-04-01 03:00</td>\n",
       "      <td>11 2016-04-02 03:00</td>\n",
       "      <td>11 2016-04-03 03:00</td>\n",
       "      <td>0.0</td>\n",
       "      <td>0.0</td>\n",
       "    </tr>\n",
       "    <tr>\n",
       "      <td>2</td>\n",
       "      <td>2016-04-01 06:00</td>\n",
       "      <td>1</td>\n",
       "      <td>1</td>\n",
       "      <td>13.0</td>\n",
       "      <td>33.0</td>\n",
       "      <td>7.0</td>\n",
       "      <td>10.0</td>\n",
       "      <td>44.0</td>\n",
       "      <td>0.0</td>\n",
       "      <td>2016-04-02 06:00</td>\n",
       "      <td>2016-04-03 06:00</td>\n",
       "      <td>11 2016-04-01 06:00</td>\n",
       "      <td>11 2016-04-02 06:00</td>\n",
       "      <td>11 2016-04-03 06:00</td>\n",
       "      <td>0.0</td>\n",
       "      <td>0.0</td>\n",
       "    </tr>\n",
       "    <tr>\n",
       "      <td>3</td>\n",
       "      <td>2016-04-01 09:00</td>\n",
       "      <td>1</td>\n",
       "      <td>1</td>\n",
       "      <td>13.0</td>\n",
       "      <td>33.0</td>\n",
       "      <td>8.0</td>\n",
       "      <td>10.0</td>\n",
       "      <td>41.0</td>\n",
       "      <td>0.0</td>\n",
       "      <td>2016-04-02 09:00</td>\n",
       "      <td>2016-04-03 09:00</td>\n",
       "      <td>11 2016-04-01 09:00</td>\n",
       "      <td>11 2016-04-02 09:00</td>\n",
       "      <td>11 2016-04-03 09:00</td>\n",
       "      <td>0.0</td>\n",
       "      <td>0.0</td>\n",
       "    </tr>\n",
       "    <tr>\n",
       "      <td>4</td>\n",
       "      <td>2016-04-01 12:00</td>\n",
       "      <td>1</td>\n",
       "      <td>1</td>\n",
       "      <td>16.0</td>\n",
       "      <td>28.0</td>\n",
       "      <td>9.0</td>\n",
       "      <td>14.0</td>\n",
       "      <td>30.0</td>\n",
       "      <td>0.0</td>\n",
       "      <td>2016-04-02 12:00</td>\n",
       "      <td>2016-04-03 12:00</td>\n",
       "      <td>11 2016-04-01 12:00</td>\n",
       "      <td>11 2016-04-02 12:00</td>\n",
       "      <td>11 2016-04-03 12:00</td>\n",
       "      <td>0.0</td>\n",
       "      <td>0.0</td>\n",
       "    </tr>\n",
       "  </tbody>\n",
       "</table>\n",
       "</div>"
      ],
      "text/plain": [
       "           MEA_DDHR PLANT LOC  TEM_IN  HUM_IN  TEM_COIL  TEM_OUT_LOC1  \\\n",
       "0  2016-04-01 00:00     1   1    16.0    24.0      10.0          13.0   \n",
       "1  2016-04-01 03:00     1   1    14.0    28.0       7.0          11.0   \n",
       "2  2016-04-01 06:00     1   1    13.0    33.0       7.0          10.0   \n",
       "3  2016-04-01 09:00     1   1    13.0    33.0       8.0          10.0   \n",
       "4  2016-04-01 12:00     1   1    16.0    28.0       9.0          14.0   \n",
       "\n",
       "   HUM_OUT_LOC1  COND           X24_TMA           X48_TMA  \\\n",
       "0          32.0   0.0  2016-04-02 00:00  2016-04-03 00:00   \n",
       "1          42.0   0.0  2016-04-02 03:00  2016-04-03 03:00   \n",
       "2          44.0   0.0  2016-04-02 06:00  2016-04-03 06:00   \n",
       "3          41.0   0.0  2016-04-02 09:00  2016-04-03 09:00   \n",
       "4          30.0   0.0  2016-04-02 12:00  2016-04-03 12:00   \n",
       "\n",
       "                   MPL                X24PL                X48PL  COND  COND  \n",
       "0  11 2016-04-01 00:00  11 2016-04-02 00:00  11 2016-04-03 00:00   0.0   0.0  \n",
       "1  11 2016-04-01 03:00  11 2016-04-02 03:00  11 2016-04-03 03:00   0.0   0.0  \n",
       "2  11 2016-04-01 06:00  11 2016-04-02 06:00  11 2016-04-03 06:00   0.0   0.0  \n",
       "3  11 2016-04-01 09:00  11 2016-04-02 09:00  11 2016-04-03 09:00   0.0   0.0  \n",
       "4  11 2016-04-01 12:00  11 2016-04-02 12:00  11 2016-04-03 12:00   0.0   0.0  "
      ]
     },
     "execution_count": 549,
     "metadata": {},
     "output_type": "execute_result"
    }
   ],
   "source": [
    "X48H_COND_LOC = time_48_merge['COND']\n",
    "plant_48plus = pd.concat([plant_24plus, X48H_COND_LOC], axis=1)\n",
    "plant_48plus.head()"
   ]
  },
  {
   "cell_type": "code",
   "execution_count": 550,
   "metadata": {
    "ExecuteTime": {
     "end_time": "2020-06-10T05:13:44.778375Z",
     "start_time": "2020-06-10T05:13:44.638750Z"
    }
   },
   "outputs": [
    {
     "data": {
      "text/plain": [
       "Index(['MEA_DDHR', 'PLANT', 'LOC', 'TEM_IN', 'HUM_IN', 'TEM_COIL',\n",
       "       'TEM_OUT_LOC1', 'HUM_OUT_LOC1', 'COND', 'X24_TMA', 'X48_TMA', 'MPL',\n",
       "       'X24PL', 'X48PL', 'COND', 'COND'],\n",
       "      dtype='object')"
      ]
     },
     "execution_count": 550,
     "metadata": {},
     "output_type": "execute_result"
    }
   ],
   "source": [
    "plant = plant_48plus.copy()\n",
    "plant.columns"
   ]
  },
  {
   "cell_type": "code",
   "execution_count": 551,
   "metadata": {
    "ExecuteTime": {
     "end_time": "2020-06-10T05:13:44.852178Z",
     "start_time": "2020-06-10T05:13:44.779372Z"
    }
   },
   "outputs": [
    {
     "data": {
      "text/html": [
       "<div>\n",
       "<style scoped>\n",
       "    .dataframe tbody tr th:only-of-type {\n",
       "        vertical-align: middle;\n",
       "    }\n",
       "\n",
       "    .dataframe tbody tr th {\n",
       "        vertical-align: top;\n",
       "    }\n",
       "\n",
       "    .dataframe thead th {\n",
       "        text-align: right;\n",
       "    }\n",
       "</style>\n",
       "<table border=\"1\" class=\"dataframe\">\n",
       "  <thead>\n",
       "    <tr style=\"text-align: right;\">\n",
       "      <th></th>\n",
       "      <th>MEA_DDHR</th>\n",
       "      <th>PLANT</th>\n",
       "      <th>LOC</th>\n",
       "      <th>TEM_IN</th>\n",
       "      <th>HUM_IN</th>\n",
       "      <th>TEM_COIL</th>\n",
       "      <th>TEM_OUT_LOC1</th>\n",
       "      <th>HUM_OUT_LOC1</th>\n",
       "      <th>COND</th>\n",
       "      <th>X24_TMA</th>\n",
       "      <th>X48_TMA</th>\n",
       "      <th>X24H_COND_LOC</th>\n",
       "      <th>X48H_COND_LOC</th>\n",
       "    </tr>\n",
       "  </thead>\n",
       "  <tbody>\n",
       "    <tr>\n",
       "      <td>0</td>\n",
       "      <td>2016-04-01 00:00</td>\n",
       "      <td>1</td>\n",
       "      <td>1</td>\n",
       "      <td>16.0</td>\n",
       "      <td>24.0</td>\n",
       "      <td>10.0</td>\n",
       "      <td>13.0</td>\n",
       "      <td>32.0</td>\n",
       "      <td>0.0</td>\n",
       "      <td>2016-04-02 00:00</td>\n",
       "      <td>2016-04-03 00:00</td>\n",
       "      <td>0.0</td>\n",
       "      <td>0.0</td>\n",
       "    </tr>\n",
       "    <tr>\n",
       "      <td>1</td>\n",
       "      <td>2016-04-01 03:00</td>\n",
       "      <td>1</td>\n",
       "      <td>1</td>\n",
       "      <td>14.0</td>\n",
       "      <td>28.0</td>\n",
       "      <td>7.0</td>\n",
       "      <td>11.0</td>\n",
       "      <td>42.0</td>\n",
       "      <td>0.0</td>\n",
       "      <td>2016-04-02 03:00</td>\n",
       "      <td>2016-04-03 03:00</td>\n",
       "      <td>0.0</td>\n",
       "      <td>0.0</td>\n",
       "    </tr>\n",
       "    <tr>\n",
       "      <td>2</td>\n",
       "      <td>2016-04-01 06:00</td>\n",
       "      <td>1</td>\n",
       "      <td>1</td>\n",
       "      <td>13.0</td>\n",
       "      <td>33.0</td>\n",
       "      <td>7.0</td>\n",
       "      <td>10.0</td>\n",
       "      <td>44.0</td>\n",
       "      <td>0.0</td>\n",
       "      <td>2016-04-02 06:00</td>\n",
       "      <td>2016-04-03 06:00</td>\n",
       "      <td>0.0</td>\n",
       "      <td>0.0</td>\n",
       "    </tr>\n",
       "    <tr>\n",
       "      <td>3</td>\n",
       "      <td>2016-04-01 09:00</td>\n",
       "      <td>1</td>\n",
       "      <td>1</td>\n",
       "      <td>13.0</td>\n",
       "      <td>33.0</td>\n",
       "      <td>8.0</td>\n",
       "      <td>10.0</td>\n",
       "      <td>41.0</td>\n",
       "      <td>0.0</td>\n",
       "      <td>2016-04-02 09:00</td>\n",
       "      <td>2016-04-03 09:00</td>\n",
       "      <td>0.0</td>\n",
       "      <td>0.0</td>\n",
       "    </tr>\n",
       "    <tr>\n",
       "      <td>4</td>\n",
       "      <td>2016-04-01 12:00</td>\n",
       "      <td>1</td>\n",
       "      <td>1</td>\n",
       "      <td>16.0</td>\n",
       "      <td>28.0</td>\n",
       "      <td>9.0</td>\n",
       "      <td>14.0</td>\n",
       "      <td>30.0</td>\n",
       "      <td>0.0</td>\n",
       "      <td>2016-04-02 12:00</td>\n",
       "      <td>2016-04-03 12:00</td>\n",
       "      <td>0.0</td>\n",
       "      <td>0.0</td>\n",
       "    </tr>\n",
       "  </tbody>\n",
       "</table>\n",
       "</div>"
      ],
      "text/plain": [
       "           MEA_DDHR PLANT LOC  TEM_IN  HUM_IN  TEM_COIL  TEM_OUT_LOC1  \\\n",
       "0  2016-04-01 00:00     1   1    16.0    24.0      10.0          13.0   \n",
       "1  2016-04-01 03:00     1   1    14.0    28.0       7.0          11.0   \n",
       "2  2016-04-01 06:00     1   1    13.0    33.0       7.0          10.0   \n",
       "3  2016-04-01 09:00     1   1    13.0    33.0       8.0          10.0   \n",
       "4  2016-04-01 12:00     1   1    16.0    28.0       9.0          14.0   \n",
       "\n",
       "   HUM_OUT_LOC1  COND           X24_TMA           X48_TMA  X24H_COND_LOC  \\\n",
       "0          32.0   0.0  2016-04-02 00:00  2016-04-03 00:00            0.0   \n",
       "1          42.0   0.0  2016-04-02 03:00  2016-04-03 03:00            0.0   \n",
       "2          44.0   0.0  2016-04-02 06:00  2016-04-03 06:00            0.0   \n",
       "3          41.0   0.0  2016-04-02 09:00  2016-04-03 09:00            0.0   \n",
       "4          30.0   0.0  2016-04-02 12:00  2016-04-03 12:00            0.0   \n",
       "\n",
       "   X48H_COND_LOC  \n",
       "0            0.0  \n",
       "1            0.0  \n",
       "2            0.0  \n",
       "3            0.0  \n",
       "4            0.0  "
      ]
     },
     "execution_count": 551,
     "metadata": {},
     "output_type": "execute_result"
    }
   ],
   "source": [
    "plant.columns = ['MEA_DDHR', 'PLANT', 'LOC', 'TEM_IN', 'HUM_IN', 'TEM_COIL',\n",
    "       'TEM_OUT_LOC1', 'HUM_OUT_LOC1', 'COND', 'X24_TMA', 'X48_TMA', 'MPL',\n",
    "       'X24PL', 'X48PL', 'X24H_COND_LOC', 'X48H_COND_LOC']\n",
    "plant = plant.drop(columns=['MPL','X24PL', 'X48PL'])\n",
    "plant.head()"
   ]
  },
  {
   "cell_type": "code",
   "execution_count": 552,
   "metadata": {
    "ExecuteTime": {
     "end_time": "2020-06-10T05:13:44.921990Z",
     "start_time": "2020-06-10T05:13:44.853175Z"
    }
   },
   "outputs": [
    {
     "data": {
      "text/plain": [
       "MEA_DDHR            0\n",
       "PLANT               0\n",
       "LOC                 0\n",
       "TEM_IN              0\n",
       "HUM_IN              0\n",
       "TEM_COIL            0\n",
       "TEM_OUT_LOC1        0\n",
       "HUM_OUT_LOC1        0\n",
       "COND                0\n",
       "X24_TMA             0\n",
       "X48_TMA             0\n",
       "X24H_COND_LOC    2694\n",
       "X48H_COND_LOC    3954\n",
       "dtype: int64"
      ]
     },
     "execution_count": 552,
     "metadata": {},
     "output_type": "execute_result"
    }
   ],
   "source": [
    "plant.isnull().sum()"
   ]
  },
  {
   "cell_type": "markdown",
   "metadata": {
    "ExecuteTime": {
     "end_time": "2020-06-10T04:48:18.330947Z",
     "start_time": "2020-06-10T04:48:18.325962Z"
    }
   },
   "source": [
    "## 24, 48시간 후 결로발생여부 결측치 처리"
   ]
  },
  {
   "cell_type": "code",
   "execution_count": 553,
   "metadata": {
    "ExecuteTime": {
     "end_time": "2020-06-10T05:13:44.927975Z",
     "start_time": "2020-06-10T05:13:44.922987Z"
    }
   },
   "outputs": [
    {
     "data": {
      "text/plain": [
       "(348957, 13)"
      ]
     },
     "execution_count": 553,
     "metadata": {},
     "output_type": "execute_result"
    }
   ],
   "source": [
    "plant.shape"
   ]
  },
  {
   "cell_type": "code",
   "execution_count": 554,
   "metadata": {
    "ExecuteTime": {
     "end_time": "2020-06-10T05:13:44.939942Z",
     "start_time": "2020-06-10T05:13:44.928972Z"
    }
   },
   "outputs": [
    {
     "data": {
      "text/plain": [
       "0.0    344308\n",
       "1.0      1955\n",
       "Name: X24H_COND_LOC, dtype: int64"
      ]
     },
     "execution_count": 554,
     "metadata": {},
     "output_type": "execute_result"
    }
   ],
   "source": [
    "plant['X24H_COND_LOC'].value_counts()"
   ]
  },
  {
   "cell_type": "markdown",
   "metadata": {
    "ExecuteTime": {
     "end_time": "2020-06-10T04:46:37.635507Z",
     "start_time": "2020-06-10T04:46:23.689Z"
    }
   },
   "source": [
    "Null이 아닌 데이터의 99.44&가 '결로 미발생(0)'이므로 Null값은 0으로 대체"
   ]
  },
  {
   "cell_type": "code",
   "execution_count": 555,
   "metadata": {
    "ExecuteTime": {
     "end_time": "2020-06-10T05:13:44.951911Z",
     "start_time": "2020-06-10T05:13:44.940940Z"
    }
   },
   "outputs": [
    {
     "data": {
      "text/plain": [
       "0.0    343024\n",
       "1.0      1979\n",
       "Name: X48H_COND_LOC, dtype: int64"
      ]
     },
     "execution_count": 555,
     "metadata": {},
     "output_type": "execute_result"
    }
   ],
   "source": [
    "plant['X48H_COND_LOC'].value_counts()"
   ]
  },
  {
   "cell_type": "markdown",
   "metadata": {},
   "source": [
    "Null이 아닌 데이터의 99.43%가 '결로 미발생(0)'이므로 Null값은 0으로 대체"
   ]
  },
  {
   "cell_type": "code",
   "execution_count": 556,
   "metadata": {
    "ExecuteTime": {
     "end_time": "2020-06-10T05:13:49.811979Z",
     "start_time": "2020-06-10T05:13:44.952908Z"
    }
   },
   "outputs": [
    {
     "data": {
      "text/plain": [
       "<matplotlib.axes._subplots.AxesSubplot at 0x1eec1924bc8>"
      ]
     },
     "execution_count": 556,
     "metadata": {},
     "output_type": "execute_result"
    },
    {
     "data": {
      "image/png": "[encoded data removed]",
      "text/plain": [
       "<Figure size 432x288 with 2 Axes>"
      ]
     },
     "metadata": {
      "needs_background": "light"
     },
     "output_type": "display_data"
    }
   ],
   "source": [
    "sns.heatmap(plant.isnull(), cmap='Greys')"
   ]
  },
  {
   "cell_type": "code",
   "execution_count": 557,
   "metadata": {
    "ExecuteTime": {
     "end_time": "2020-06-10T05:13:50.002051Z",
     "start_time": "2020-06-10T05:13:49.812945Z"
    }
   },
   "outputs": [
    {
     "data": {
      "text/plain": [
       "MEA_DDHR         0\n",
       "PLANT            0\n",
       "LOC              0\n",
       "TEM_IN           0\n",
       "HUM_IN           0\n",
       "TEM_COIL         0\n",
       "TEM_OUT_LOC1     0\n",
       "HUM_OUT_LOC1     0\n",
       "COND             0\n",
       "X24_TMA          0\n",
       "X48_TMA          0\n",
       "X24H_COND_LOC    0\n",
       "X48H_COND_LOC    0\n",
       "dtype: int64"
      ]
     },
     "execution_count": 557,
     "metadata": {},
     "output_type": "execute_result"
    }
   ],
   "source": [
    "plant = plant.fillna(0)\n",
    "plant.isnull().sum()"
   ]
  },
  {
   "cell_type": "code",
   "execution_count": 558,
   "metadata": {
    "ExecuteTime": {
     "end_time": "2020-06-10T05:13:50.008035Z",
     "start_time": "2020-06-10T05:13:50.003048Z"
    }
   },
   "outputs": [
    {
     "data": {
      "text/plain": [
       "Index(['MEA_DDHR', 'PLANT', 'LOC', 'TEM_IN', 'HUM_IN', 'TEM_COIL',\n",
       "       'TEM_OUT_LOC1', 'HUM_OUT_LOC1', 'COND', 'X24_TMA', 'X48_TMA',\n",
       "       'X24H_COND_LOC', 'X48H_COND_LOC'],\n",
       "      dtype='object')"
      ]
     },
     "execution_count": 558,
     "metadata": {},
     "output_type": "execute_result"
    }
   ],
   "source": [
    "plant.columns"
   ]
  },
  {
   "cell_type": "code",
   "execution_count": 559,
   "metadata": {
    "ExecuteTime": {
     "end_time": "2020-06-10T05:13:50.059896Z",
     "start_time": "2020-06-10T05:13:50.010030Z"
    }
   },
   "outputs": [],
   "source": [
    "plant = plant[['MEA_DDHR', 'PLANT', 'LOC', 'TEM_IN', 'HUM_IN', 'TEM_COIL',\n",
    "       'TEM_OUT_LOC1', 'HUM_OUT_LOC1', 'COND', 'X24_TMA', 'X24H_COND_LOC', 'X48_TMA', 'X48H_COND_LOC']]"
   ]
  },
  {
   "cell_type": "code",
   "execution_count": 560,
   "metadata": {
    "ExecuteTime": {
     "end_time": "2020-06-10T05:13:52.718585Z",
     "start_time": "2020-06-10T05:13:50.065880Z"
    }
   },
   "outputs": [],
   "source": [
    "plant.to_csv('save_data/plant_train.csv', encoding='utf-8', index=False)"
   ]
  },
  {
   "cell_type": "code",
   "execution_count": 561,
   "metadata": {
    "ExecuteTime": {
     "end_time": "2020-06-10T05:13:53.530612Z",
     "start_time": "2020-06-10T05:13:52.718585Z"
    }
   },
   "outputs": [
    {
     "data": {
      "text/plain": [
       "MEA_DDHR         datetime64[ns]\n",
       "PLANT                     int32\n",
       "LOC                       int32\n",
       "TEM_IN                  float64\n",
       "HUM_IN                  float64\n",
       "TEM_COIL                float64\n",
       "TEM_OUT_LOC1            float64\n",
       "HUM_OUT_LOC1            float64\n",
       "COND                    float64\n",
       "X24_TMA          datetime64[ns]\n",
       "X24H_COND_LOC           float64\n",
       "X48_TMA          datetime64[ns]\n",
       "X48H_COND_LOC           float64\n",
       "dtype: object"
      ]
     },
     "execution_count": 561,
     "metadata": {},
     "output_type": "execute_result"
    }
   ],
   "source": [
    "plant['MEA_DDHR'] = pd.to_datetime(plant['MEA_DDHR'])\n",
    "plant['X24_TMA'] = pd.to_datetime(plant['X24_TMA'])\n",
    "plant['X48_TMA'] = pd.to_datetime(plant['X48_TMA'])\n",
    "\n",
    "plant['PLANT'] = plant['PLANT'].astype(int)\n",
    "plant['LOC'] = plant['LOC'].astype(int)\n",
    "\n",
    "plant.dtypes"
   ]
  },
  {
   "cell_type": "code",
   "execution_count": 562,
   "metadata": {
    "ExecuteTime": {
     "end_time": "2020-06-10T05:13:57.562633Z",
     "start_time": "2020-06-10T05:13:53.531610Z"
    }
   },
   "outputs": [],
   "source": [
    "plant.to_csv('save_data/plant_train.csv', encoding='utf-8', index=False)"
   ]
  },
  {
   "cell_type": "code",
   "execution_count": 563,
   "metadata": {
    "ExecuteTime": {
     "end_time": "2020-06-10T05:13:58.206181Z",
     "start_time": "2020-06-10T05:13:57.562633Z"
    }
   },
   "outputs": [
    {
     "data": {
      "text/html": [
       "<div>\n",
       "<style scoped>\n",
       "    .dataframe tbody tr th:only-of-type {\n",
       "        vertical-align: middle;\n",
       "    }\n",
       "\n",
       "    .dataframe tbody tr th {\n",
       "        vertical-align: top;\n",
       "    }\n",
       "\n",
       "    .dataframe thead th {\n",
       "        text-align: right;\n",
       "    }\n",
       "</style>\n",
       "<table border=\"1\" class=\"dataframe\">\n",
       "  <thead>\n",
       "    <tr style=\"text-align: right;\">\n",
       "      <th></th>\n",
       "      <th>MEA_DDHR</th>\n",
       "      <th>PLANT</th>\n",
       "      <th>LOC</th>\n",
       "      <th>TEM_IN</th>\n",
       "      <th>HUM_IN</th>\n",
       "      <th>TEM_COIL</th>\n",
       "      <th>TEM_OUT_LOC1</th>\n",
       "      <th>HUM_OUT_LOC1</th>\n",
       "      <th>COND</th>\n",
       "      <th>X24_TMA</th>\n",
       "      <th>X24H_COND_LOC</th>\n",
       "      <th>X48_TMA</th>\n",
       "      <th>X48H_COND_LOC</th>\n",
       "    </tr>\n",
       "  </thead>\n",
       "  <tbody>\n",
       "    <tr>\n",
       "      <td>0</td>\n",
       "      <td>2016-04-01 00:00:00</td>\n",
       "      <td>1</td>\n",
       "      <td>1</td>\n",
       "      <td>16.00</td>\n",
       "      <td>24.00</td>\n",
       "      <td>10.00</td>\n",
       "      <td>13.00</td>\n",
       "      <td>32.00</td>\n",
       "      <td>0.0</td>\n",
       "      <td>2016-04-02 00:00:00</td>\n",
       "      <td>0.0</td>\n",
       "      <td>2016-04-03 00:00:00</td>\n",
       "      <td>0.0</td>\n",
       "    </tr>\n",
       "    <tr>\n",
       "      <td>1</td>\n",
       "      <td>2016-04-01 03:00:00</td>\n",
       "      <td>1</td>\n",
       "      <td>1</td>\n",
       "      <td>14.00</td>\n",
       "      <td>28.00</td>\n",
       "      <td>7.00</td>\n",
       "      <td>11.00</td>\n",
       "      <td>42.00</td>\n",
       "      <td>0.0</td>\n",
       "      <td>2016-04-02 03:00:00</td>\n",
       "      <td>0.0</td>\n",
       "      <td>2016-04-03 03:00:00</td>\n",
       "      <td>0.0</td>\n",
       "    </tr>\n",
       "    <tr>\n",
       "      <td>2</td>\n",
       "      <td>2016-04-01 06:00:00</td>\n",
       "      <td>1</td>\n",
       "      <td>1</td>\n",
       "      <td>13.00</td>\n",
       "      <td>33.00</td>\n",
       "      <td>7.00</td>\n",
       "      <td>10.00</td>\n",
       "      <td>44.00</td>\n",
       "      <td>0.0</td>\n",
       "      <td>2016-04-02 06:00:00</td>\n",
       "      <td>0.0</td>\n",
       "      <td>2016-04-03 06:00:00</td>\n",
       "      <td>0.0</td>\n",
       "    </tr>\n",
       "    <tr>\n",
       "      <td>3</td>\n",
       "      <td>2016-04-01 09:00:00</td>\n",
       "      <td>1</td>\n",
       "      <td>1</td>\n",
       "      <td>13.00</td>\n",
       "      <td>33.00</td>\n",
       "      <td>8.00</td>\n",
       "      <td>10.00</td>\n",
       "      <td>41.00</td>\n",
       "      <td>0.0</td>\n",
       "      <td>2016-04-02 09:00:00</td>\n",
       "      <td>0.0</td>\n",
       "      <td>2016-04-03 09:00:00</td>\n",
       "      <td>0.0</td>\n",
       "    </tr>\n",
       "    <tr>\n",
       "      <td>4</td>\n",
       "      <td>2016-04-01 12:00:00</td>\n",
       "      <td>1</td>\n",
       "      <td>1</td>\n",
       "      <td>16.00</td>\n",
       "      <td>28.00</td>\n",
       "      <td>9.00</td>\n",
       "      <td>14.00</td>\n",
       "      <td>30.00</td>\n",
       "      <td>0.0</td>\n",
       "      <td>2016-04-02 12:00:00</td>\n",
       "      <td>0.0</td>\n",
       "      <td>2016-04-03 12:00:00</td>\n",
       "      <td>0.0</td>\n",
       "    </tr>\n",
       "    <tr>\n",
       "      <td>...</td>\n",
       "      <td>...</td>\n",
       "      <td>...</td>\n",
       "      <td>...</td>\n",
       "      <td>...</td>\n",
       "      <td>...</td>\n",
       "      <td>...</td>\n",
       "      <td>...</td>\n",
       "      <td>...</td>\n",
       "      <td>...</td>\n",
       "      <td>...</td>\n",
       "      <td>...</td>\n",
       "      <td>...</td>\n",
       "      <td>...</td>\n",
       "    </tr>\n",
       "    <tr>\n",
       "      <td>348952</td>\n",
       "      <td>2019-03-31 23:00:00</td>\n",
       "      <td>2</td>\n",
       "      <td>3</td>\n",
       "      <td>37.12</td>\n",
       "      <td>9.72</td>\n",
       "      <td>50.98</td>\n",
       "      <td>8.29</td>\n",
       "      <td>37.82</td>\n",
       "      <td>0.0</td>\n",
       "      <td>2019-04-01 23:00:00</td>\n",
       "      <td>0.0</td>\n",
       "      <td>2019-04-02 23:00:00</td>\n",
       "      <td>0.0</td>\n",
       "    </tr>\n",
       "    <tr>\n",
       "      <td>348953</td>\n",
       "      <td>2019-03-31 23:10:00</td>\n",
       "      <td>2</td>\n",
       "      <td>3</td>\n",
       "      <td>37.58</td>\n",
       "      <td>9.68</td>\n",
       "      <td>52.11</td>\n",
       "      <td>8.26</td>\n",
       "      <td>38.34</td>\n",
       "      <td>0.0</td>\n",
       "      <td>2019-04-01 23:10:00</td>\n",
       "      <td>0.0</td>\n",
       "      <td>2019-04-02 23:10:00</td>\n",
       "      <td>0.0</td>\n",
       "    </tr>\n",
       "    <tr>\n",
       "      <td>348954</td>\n",
       "      <td>2019-03-31 23:20:00</td>\n",
       "      <td>2</td>\n",
       "      <td>3</td>\n",
       "      <td>38.25</td>\n",
       "      <td>9.76</td>\n",
       "      <td>51.01</td>\n",
       "      <td>8.29</td>\n",
       "      <td>38.92</td>\n",
       "      <td>0.0</td>\n",
       "      <td>2019-04-01 23:20:00</td>\n",
       "      <td>0.0</td>\n",
       "      <td>2019-04-02 23:20:00</td>\n",
       "      <td>0.0</td>\n",
       "    </tr>\n",
       "    <tr>\n",
       "      <td>348955</td>\n",
       "      <td>2019-03-31 23:30:00</td>\n",
       "      <td>2</td>\n",
       "      <td>3</td>\n",
       "      <td>38.13</td>\n",
       "      <td>9.76</td>\n",
       "      <td>51.47</td>\n",
       "      <td>8.32</td>\n",
       "      <td>39.13</td>\n",
       "      <td>0.0</td>\n",
       "      <td>2019-04-01 23:30:00</td>\n",
       "      <td>0.0</td>\n",
       "      <td>2019-04-02 23:30:00</td>\n",
       "      <td>0.0</td>\n",
       "    </tr>\n",
       "    <tr>\n",
       "      <td>348956</td>\n",
       "      <td>2019-03-31 23:40:00</td>\n",
       "      <td>2</td>\n",
       "      <td>3</td>\n",
       "      <td>38.49</td>\n",
       "      <td>9.68</td>\n",
       "      <td>53.14</td>\n",
       "      <td>8.26</td>\n",
       "      <td>39.62</td>\n",
       "      <td>0.0</td>\n",
       "      <td>2019-04-01 23:40:00</td>\n",
       "      <td>0.0</td>\n",
       "      <td>2019-04-02 23:40:00</td>\n",
       "      <td>0.0</td>\n",
       "    </tr>\n",
       "  </tbody>\n",
       "</table>\n",
       "<p>348957 rows × 13 columns</p>\n",
       "</div>"
      ],
      "text/plain": [
       "                   MEA_DDHR  PLANT  LOC  TEM_IN  HUM_IN  TEM_COIL  \\\n",
       "0       2016-04-01 00:00:00      1    1   16.00   24.00     10.00   \n",
       "1       2016-04-01 03:00:00      1    1   14.00   28.00      7.00   \n",
       "2       2016-04-01 06:00:00      1    1   13.00   33.00      7.00   \n",
       "3       2016-04-01 09:00:00      1    1   13.00   33.00      8.00   \n",
       "4       2016-04-01 12:00:00      1    1   16.00   28.00      9.00   \n",
       "...                     ...    ...  ...     ...     ...       ...   \n",
       "348952  2019-03-31 23:00:00      2    3   37.12    9.72     50.98   \n",
       "348953  2019-03-31 23:10:00      2    3   37.58    9.68     52.11   \n",
       "348954  2019-03-31 23:20:00      2    3   38.25    9.76     51.01   \n",
       "348955  2019-03-31 23:30:00      2    3   38.13    9.76     51.47   \n",
       "348956  2019-03-31 23:40:00      2    3   38.49    9.68     53.14   \n",
       "\n",
       "        TEM_OUT_LOC1  HUM_OUT_LOC1  COND              X24_TMA  X24H_COND_LOC  \\\n",
       "0              13.00         32.00   0.0  2016-04-02 00:00:00            0.0   \n",
       "1              11.00         42.00   0.0  2016-04-02 03:00:00            0.0   \n",
       "2              10.00         44.00   0.0  2016-04-02 06:00:00            0.0   \n",
       "3              10.00         41.00   0.0  2016-04-02 09:00:00            0.0   \n",
       "4              14.00         30.00   0.0  2016-04-02 12:00:00            0.0   \n",
       "...              ...           ...   ...                  ...            ...   \n",
       "348952          8.29         37.82   0.0  2019-04-01 23:00:00            0.0   \n",
       "348953          8.26         38.34   0.0  2019-04-01 23:10:00            0.0   \n",
       "348954          8.29         38.92   0.0  2019-04-01 23:20:00            0.0   \n",
       "348955          8.32         39.13   0.0  2019-04-01 23:30:00            0.0   \n",
       "348956          8.26         39.62   0.0  2019-04-01 23:40:00            0.0   \n",
       "\n",
       "                    X48_TMA  X48H_COND_LOC  \n",
       "0       2016-04-03 00:00:00            0.0  \n",
       "1       2016-04-03 03:00:00            0.0  \n",
       "2       2016-04-03 06:00:00            0.0  \n",
       "3       2016-04-03 09:00:00            0.0  \n",
       "4       2016-04-03 12:00:00            0.0  \n",
       "...                     ...            ...  \n",
       "348952  2019-04-02 23:00:00            0.0  \n",
       "348953  2019-04-02 23:10:00            0.0  \n",
       "348954  2019-04-02 23:20:00            0.0  \n",
       "348955  2019-04-02 23:30:00            0.0  \n",
       "348956  2019-04-02 23:40:00            0.0  \n",
       "\n",
       "[348957 rows x 13 columns]"
      ]
     },
     "execution_count": 563,
     "metadata": {},
     "output_type": "execute_result"
    }
   ],
   "source": [
    "plant = pd.read_csv('save_data/plant_train.csv')\n",
    "plant"
   ]
  },
  {
   "cell_type": "markdown",
   "metadata": {},
   "source": [
    "# 정규화 (원핫 인코딩 + 정규화)"
   ]
  },
  {
   "cell_type": "code",
   "execution_count": 564,
   "metadata": {
    "ExecuteTime": {
     "end_time": "2020-06-10T05:13:58.867529Z",
     "start_time": "2020-06-10T05:13:58.207179Z"
    }
   },
   "outputs": [
    {
     "data": {
      "text/html": [
       "<div>\n",
       "<style scoped>\n",
       "    .dataframe tbody tr th:only-of-type {\n",
       "        vertical-align: middle;\n",
       "    }\n",
       "\n",
       "    .dataframe tbody tr th {\n",
       "        vertical-align: top;\n",
       "    }\n",
       "\n",
       "    .dataframe thead th {\n",
       "        text-align: right;\n",
       "    }\n",
       "</style>\n",
       "<table border=\"1\" class=\"dataframe\">\n",
       "  <thead>\n",
       "    <tr style=\"text-align: right;\">\n",
       "      <th></th>\n",
       "      <th>MEA_DDHR</th>\n",
       "      <th>PLANT</th>\n",
       "      <th>LOC</th>\n",
       "      <th>TEM_IN</th>\n",
       "      <th>HUM_IN</th>\n",
       "      <th>TEM_COIL</th>\n",
       "      <th>TEM_OUT_LOC1</th>\n",
       "      <th>HUM_OUT_LOC1</th>\n",
       "      <th>COND</th>\n",
       "      <th>X24_TMA</th>\n",
       "      <th>X24H_COND_LOC</th>\n",
       "      <th>X48_TMA</th>\n",
       "      <th>X48H_COND_LOC</th>\n",
       "    </tr>\n",
       "  </thead>\n",
       "  <tbody>\n",
       "    <tr>\n",
       "      <td>0</td>\n",
       "      <td>2016-04-01 00:00:00</td>\n",
       "      <td>1</td>\n",
       "      <td>1</td>\n",
       "      <td>16.00</td>\n",
       "      <td>24.00</td>\n",
       "      <td>10.00</td>\n",
       "      <td>13.00</td>\n",
       "      <td>32.00</td>\n",
       "      <td>0.0</td>\n",
       "      <td>2016-04-02 00:00:00</td>\n",
       "      <td>0.0</td>\n",
       "      <td>2016-04-03 00:00:00</td>\n",
       "      <td>0.0</td>\n",
       "    </tr>\n",
       "    <tr>\n",
       "      <td>1</td>\n",
       "      <td>2016-04-01 03:00:00</td>\n",
       "      <td>1</td>\n",
       "      <td>1</td>\n",
       "      <td>14.00</td>\n",
       "      <td>28.00</td>\n",
       "      <td>7.00</td>\n",
       "      <td>11.00</td>\n",
       "      <td>42.00</td>\n",
       "      <td>0.0</td>\n",
       "      <td>2016-04-02 03:00:00</td>\n",
       "      <td>0.0</td>\n",
       "      <td>2016-04-03 03:00:00</td>\n",
       "      <td>0.0</td>\n",
       "    </tr>\n",
       "    <tr>\n",
       "      <td>2</td>\n",
       "      <td>2016-04-01 06:00:00</td>\n",
       "      <td>1</td>\n",
       "      <td>1</td>\n",
       "      <td>13.00</td>\n",
       "      <td>33.00</td>\n",
       "      <td>7.00</td>\n",
       "      <td>10.00</td>\n",
       "      <td>44.00</td>\n",
       "      <td>0.0</td>\n",
       "      <td>2016-04-02 06:00:00</td>\n",
       "      <td>0.0</td>\n",
       "      <td>2016-04-03 06:00:00</td>\n",
       "      <td>0.0</td>\n",
       "    </tr>\n",
       "    <tr>\n",
       "      <td>3</td>\n",
       "      <td>2016-04-01 09:00:00</td>\n",
       "      <td>1</td>\n",
       "      <td>1</td>\n",
       "      <td>13.00</td>\n",
       "      <td>33.00</td>\n",
       "      <td>8.00</td>\n",
       "      <td>10.00</td>\n",
       "      <td>41.00</td>\n",
       "      <td>0.0</td>\n",
       "      <td>2016-04-02 09:00:00</td>\n",
       "      <td>0.0</td>\n",
       "      <td>2016-04-03 09:00:00</td>\n",
       "      <td>0.0</td>\n",
       "    </tr>\n",
       "    <tr>\n",
       "      <td>4</td>\n",
       "      <td>2016-04-01 12:00:00</td>\n",
       "      <td>1</td>\n",
       "      <td>1</td>\n",
       "      <td>16.00</td>\n",
       "      <td>28.00</td>\n",
       "      <td>9.00</td>\n",
       "      <td>14.00</td>\n",
       "      <td>30.00</td>\n",
       "      <td>0.0</td>\n",
       "      <td>2016-04-02 12:00:00</td>\n",
       "      <td>0.0</td>\n",
       "      <td>2016-04-03 12:00:00</td>\n",
       "      <td>0.0</td>\n",
       "    </tr>\n",
       "    <tr>\n",
       "      <td>...</td>\n",
       "      <td>...</td>\n",
       "      <td>...</td>\n",
       "      <td>...</td>\n",
       "      <td>...</td>\n",
       "      <td>...</td>\n",
       "      <td>...</td>\n",
       "      <td>...</td>\n",
       "      <td>...</td>\n",
       "      <td>...</td>\n",
       "      <td>...</td>\n",
       "      <td>...</td>\n",
       "      <td>...</td>\n",
       "      <td>...</td>\n",
       "    </tr>\n",
       "    <tr>\n",
       "      <td>348952</td>\n",
       "      <td>2019-03-31 23:00:00</td>\n",
       "      <td>2</td>\n",
       "      <td>3</td>\n",
       "      <td>37.12</td>\n",
       "      <td>9.72</td>\n",
       "      <td>50.98</td>\n",
       "      <td>8.29</td>\n",
       "      <td>37.82</td>\n",
       "      <td>0.0</td>\n",
       "      <td>2019-04-01 23:00:00</td>\n",
       "      <td>0.0</td>\n",
       "      <td>2019-04-02 23:00:00</td>\n",
       "      <td>0.0</td>\n",
       "    </tr>\n",
       "    <tr>\n",
       "      <td>348953</td>\n",
       "      <td>2019-03-31 23:10:00</td>\n",
       "      <td>2</td>\n",
       "      <td>3</td>\n",
       "      <td>37.58</td>\n",
       "      <td>9.68</td>\n",
       "      <td>52.11</td>\n",
       "      <td>8.26</td>\n",
       "      <td>38.34</td>\n",
       "      <td>0.0</td>\n",
       "      <td>2019-04-01 23:10:00</td>\n",
       "      <td>0.0</td>\n",
       "      <td>2019-04-02 23:10:00</td>\n",
       "      <td>0.0</td>\n",
       "    </tr>\n",
       "    <tr>\n",
       "      <td>348954</td>\n",
       "      <td>2019-03-31 23:20:00</td>\n",
       "      <td>2</td>\n",
       "      <td>3</td>\n",
       "      <td>38.25</td>\n",
       "      <td>9.76</td>\n",
       "      <td>51.01</td>\n",
       "      <td>8.29</td>\n",
       "      <td>38.92</td>\n",
       "      <td>0.0</td>\n",
       "      <td>2019-04-01 23:20:00</td>\n",
       "      <td>0.0</td>\n",
       "      <td>2019-04-02 23:20:00</td>\n",
       "      <td>0.0</td>\n",
       "    </tr>\n",
       "    <tr>\n",
       "      <td>348955</td>\n",
       "      <td>2019-03-31 23:30:00</td>\n",
       "      <td>2</td>\n",
       "      <td>3</td>\n",
       "      <td>38.13</td>\n",
       "      <td>9.76</td>\n",
       "      <td>51.47</td>\n",
       "      <td>8.32</td>\n",
       "      <td>39.13</td>\n",
       "      <td>0.0</td>\n",
       "      <td>2019-04-01 23:30:00</td>\n",
       "      <td>0.0</td>\n",
       "      <td>2019-04-02 23:30:00</td>\n",
       "      <td>0.0</td>\n",
       "    </tr>\n",
       "    <tr>\n",
       "      <td>348956</td>\n",
       "      <td>2019-03-31 23:40:00</td>\n",
       "      <td>2</td>\n",
       "      <td>3</td>\n",
       "      <td>38.49</td>\n",
       "      <td>9.68</td>\n",
       "      <td>53.14</td>\n",
       "      <td>8.26</td>\n",
       "      <td>39.62</td>\n",
       "      <td>0.0</td>\n",
       "      <td>2019-04-01 23:40:00</td>\n",
       "      <td>0.0</td>\n",
       "      <td>2019-04-02 23:40:00</td>\n",
       "      <td>0.0</td>\n",
       "    </tr>\n",
       "  </tbody>\n",
       "</table>\n",
       "<p>348957 rows × 13 columns</p>\n",
       "</div>"
      ],
      "text/plain": [
       "                   MEA_DDHR  PLANT  LOC  TEM_IN  HUM_IN  TEM_COIL  \\\n",
       "0       2016-04-01 00:00:00      1    1   16.00   24.00     10.00   \n",
       "1       2016-04-01 03:00:00      1    1   14.00   28.00      7.00   \n",
       "2       2016-04-01 06:00:00      1    1   13.00   33.00      7.00   \n",
       "3       2016-04-01 09:00:00      1    1   13.00   33.00      8.00   \n",
       "4       2016-04-01 12:00:00      1    1   16.00   28.00      9.00   \n",
       "...                     ...    ...  ...     ...     ...       ...   \n",
       "348952  2019-03-31 23:00:00      2    3   37.12    9.72     50.98   \n",
       "348953  2019-03-31 23:10:00      2    3   37.58    9.68     52.11   \n",
       "348954  2019-03-31 23:20:00      2    3   38.25    9.76     51.01   \n",
       "348955  2019-03-31 23:30:00      2    3   38.13    9.76     51.47   \n",
       "348956  2019-03-31 23:40:00      2    3   38.49    9.68     53.14   \n",
       "\n",
       "        TEM_OUT_LOC1  HUM_OUT_LOC1  COND              X24_TMA  X24H_COND_LOC  \\\n",
       "0              13.00         32.00   0.0  2016-04-02 00:00:00            0.0   \n",
       "1              11.00         42.00   0.0  2016-04-02 03:00:00            0.0   \n",
       "2              10.00         44.00   0.0  2016-04-02 06:00:00            0.0   \n",
       "3              10.00         41.00   0.0  2016-04-02 09:00:00            0.0   \n",
       "4              14.00         30.00   0.0  2016-04-02 12:00:00            0.0   \n",
       "...              ...           ...   ...                  ...            ...   \n",
       "348952          8.29         37.82   0.0  2019-04-01 23:00:00            0.0   \n",
       "348953          8.26         38.34   0.0  2019-04-01 23:10:00            0.0   \n",
       "348954          8.29         38.92   0.0  2019-04-01 23:20:00            0.0   \n",
       "348955          8.32         39.13   0.0  2019-04-01 23:30:00            0.0   \n",
       "348956          8.26         39.62   0.0  2019-04-01 23:40:00            0.0   \n",
       "\n",
       "                    X48_TMA  X48H_COND_LOC  \n",
       "0       2016-04-03 00:00:00            0.0  \n",
       "1       2016-04-03 03:00:00            0.0  \n",
       "2       2016-04-03 06:00:00            0.0  \n",
       "3       2016-04-03 09:00:00            0.0  \n",
       "4       2016-04-03 12:00:00            0.0  \n",
       "...                     ...            ...  \n",
       "348952  2019-04-02 23:00:00            0.0  \n",
       "348953  2019-04-02 23:10:00            0.0  \n",
       "348954  2019-04-02 23:20:00            0.0  \n",
       "348955  2019-04-02 23:30:00            0.0  \n",
       "348956  2019-04-02 23:40:00            0.0  \n",
       "\n",
       "[348957 rows x 13 columns]"
      ]
     },
     "execution_count": 564,
     "metadata": {},
     "output_type": "execute_result"
    }
   ],
   "source": [
    "train = pd.read_csv('save_data/plant_train.csv')\n",
    "train"
   ]
  },
  {
   "cell_type": "code",
   "execution_count": 565,
   "metadata": {
    "ExecuteTime": {
     "end_time": "2020-06-10T05:13:58.875510Z",
     "start_time": "2020-06-10T05:13:58.868529Z"
    }
   },
   "outputs": [],
   "source": [
    "from sklearn.preprocessing import StandardScaler\n",
    "def preprosess(data):\n",
    "    scaling_features = data[['TEM_IN', 'HUM_IN', \"TEM_COIL\", \"TEM_OUT_LOC1\", \"HUM_OUT_LOC1\"]]\n",
    "    scaler = StandardScaler()\n",
    "    scaled_nd = scaler.fit_transform(scaling_features)\n",
    "    scaled_df = pd.DataFrame(scaled_nd, columns=scaling_features.columns)\n",
    "    data.drop(['TEM_IN', 'HUM_IN', \"TEM_COIL\", \"TEM_OUT_LOC1\", \"HUM_OUT_LOC1\"], axis=1, inplace=True)\n",
    "    data = pd.concat([data,scaled_df ], axis=1)\n",
    "    category = [\"PLANT\", \"LOC\"]\n",
    "    data = pd.get_dummies(data , columns=category)\n",
    "\n",
    "    return data\n",
    "    \n",
    "\n"
   ]
  },
  {
   "cell_type": "code",
   "execution_count": 566,
   "metadata": {
    "ExecuteTime": {
     "end_time": "2020-06-10T05:13:59.142286Z",
     "start_time": "2020-06-10T05:13:58.877505Z"
    }
   },
   "outputs": [
    {
     "data": {
      "text/html": [
       "<div>\n",
       "<style scoped>\n",
       "    .dataframe tbody tr th:only-of-type {\n",
       "        vertical-align: middle;\n",
       "    }\n",
       "\n",
       "    .dataframe tbody tr th {\n",
       "        vertical-align: top;\n",
       "    }\n",
       "\n",
       "    .dataframe thead th {\n",
       "        text-align: right;\n",
       "    }\n",
       "</style>\n",
       "<table border=\"1\" class=\"dataframe\">\n",
       "  <thead>\n",
       "    <tr style=\"text-align: right;\">\n",
       "      <th></th>\n",
       "      <th>MEA_DDHR</th>\n",
       "      <th>COND</th>\n",
       "      <th>X24_TMA</th>\n",
       "      <th>X24H_COND_LOC</th>\n",
       "      <th>X48_TMA</th>\n",
       "      <th>X48H_COND_LOC</th>\n",
       "      <th>TEM_IN</th>\n",
       "      <th>HUM_IN</th>\n",
       "      <th>TEM_COIL</th>\n",
       "      <th>TEM_OUT_LOC1</th>\n",
       "      <th>HUM_OUT_LOC1</th>\n",
       "      <th>PLANT_1</th>\n",
       "      <th>PLANT_2</th>\n",
       "      <th>LOC_1</th>\n",
       "      <th>LOC_2</th>\n",
       "      <th>LOC_3</th>\n",
       "    </tr>\n",
       "  </thead>\n",
       "  <tbody>\n",
       "    <tr>\n",
       "      <td>0</td>\n",
       "      <td>2016-04-01 00:00:00</td>\n",
       "      <td>0.0</td>\n",
       "      <td>2016-04-02 00:00:00</td>\n",
       "      <td>0.0</td>\n",
       "      <td>2016-04-03 00:00:00</td>\n",
       "      <td>0.0</td>\n",
       "      <td>-0.601172</td>\n",
       "      <td>-0.199821</td>\n",
       "      <td>-0.782821</td>\n",
       "      <td>-0.299991</td>\n",
       "      <td>-1.549754</td>\n",
       "      <td>1</td>\n",
       "      <td>0</td>\n",
       "      <td>1</td>\n",
       "      <td>0</td>\n",
       "      <td>0</td>\n",
       "    </tr>\n",
       "    <tr>\n",
       "      <td>1</td>\n",
       "      <td>2016-04-01 03:00:00</td>\n",
       "      <td>0.0</td>\n",
       "      <td>2016-04-02 03:00:00</td>\n",
       "      <td>0.0</td>\n",
       "      <td>2016-04-03 03:00:00</td>\n",
       "      <td>0.0</td>\n",
       "      <td>-0.699051</td>\n",
       "      <td>-0.003572</td>\n",
       "      <td>-0.897224</td>\n",
       "      <td>-0.498609</td>\n",
       "      <td>-0.829165</td>\n",
       "      <td>1</td>\n",
       "      <td>0</td>\n",
       "      <td>1</td>\n",
       "      <td>0</td>\n",
       "      <td>0</td>\n",
       "    </tr>\n",
       "    <tr>\n",
       "      <td>2</td>\n",
       "      <td>2016-04-01 06:00:00</td>\n",
       "      <td>0.0</td>\n",
       "      <td>2016-04-02 06:00:00</td>\n",
       "      <td>0.0</td>\n",
       "      <td>2016-04-03 06:00:00</td>\n",
       "      <td>0.0</td>\n",
       "      <td>-0.747990</td>\n",
       "      <td>0.241739</td>\n",
       "      <td>-0.897224</td>\n",
       "      <td>-0.597919</td>\n",
       "      <td>-0.685048</td>\n",
       "      <td>1</td>\n",
       "      <td>0</td>\n",
       "      <td>1</td>\n",
       "      <td>0</td>\n",
       "      <td>0</td>\n",
       "    </tr>\n",
       "    <tr>\n",
       "      <td>3</td>\n",
       "      <td>2016-04-01 09:00:00</td>\n",
       "      <td>0.0</td>\n",
       "      <td>2016-04-02 09:00:00</td>\n",
       "      <td>0.0</td>\n",
       "      <td>2016-04-03 09:00:00</td>\n",
       "      <td>0.0</td>\n",
       "      <td>-0.747990</td>\n",
       "      <td>0.241739</td>\n",
       "      <td>-0.859090</td>\n",
       "      <td>-0.597919</td>\n",
       "      <td>-0.901224</td>\n",
       "      <td>1</td>\n",
       "      <td>0</td>\n",
       "      <td>1</td>\n",
       "      <td>0</td>\n",
       "      <td>0</td>\n",
       "    </tr>\n",
       "    <tr>\n",
       "      <td>4</td>\n",
       "      <td>2016-04-01 12:00:00</td>\n",
       "      <td>0.0</td>\n",
       "      <td>2016-04-02 12:00:00</td>\n",
       "      <td>0.0</td>\n",
       "      <td>2016-04-03 12:00:00</td>\n",
       "      <td>0.0</td>\n",
       "      <td>-0.601172</td>\n",
       "      <td>-0.003572</td>\n",
       "      <td>-0.820955</td>\n",
       "      <td>-0.200681</td>\n",
       "      <td>-1.693872</td>\n",
       "      <td>1</td>\n",
       "      <td>0</td>\n",
       "      <td>1</td>\n",
       "      <td>0</td>\n",
       "      <td>0</td>\n",
       "    </tr>\n",
       "    <tr>\n",
       "      <td>...</td>\n",
       "      <td>...</td>\n",
       "      <td>...</td>\n",
       "      <td>...</td>\n",
       "      <td>...</td>\n",
       "      <td>...</td>\n",
       "      <td>...</td>\n",
       "      <td>...</td>\n",
       "      <td>...</td>\n",
       "      <td>...</td>\n",
       "      <td>...</td>\n",
       "      <td>...</td>\n",
       "      <td>...</td>\n",
       "      <td>...</td>\n",
       "      <td>...</td>\n",
       "      <td>...</td>\n",
       "      <td>...</td>\n",
       "    </tr>\n",
       "    <tr>\n",
       "      <td>348952</td>\n",
       "      <td>2019-03-31 23:00:00</td>\n",
       "      <td>0.0</td>\n",
       "      <td>2019-04-01 23:00:00</td>\n",
       "      <td>0.0</td>\n",
       "      <td>2019-04-02 23:00:00</td>\n",
       "      <td>0.0</td>\n",
       "      <td>0.432425</td>\n",
       "      <td>-0.900429</td>\n",
       "      <td>0.779930</td>\n",
       "      <td>-0.767737</td>\n",
       "      <td>-1.130371</td>\n",
       "      <td>0</td>\n",
       "      <td>1</td>\n",
       "      <td>0</td>\n",
       "      <td>0</td>\n",
       "      <td>1</td>\n",
       "    </tr>\n",
       "    <tr>\n",
       "      <td>348953</td>\n",
       "      <td>2019-03-31 23:10:00</td>\n",
       "      <td>0.0</td>\n",
       "      <td>2019-04-01 23:10:00</td>\n",
       "      <td>0.0</td>\n",
       "      <td>2019-04-02 23:10:00</td>\n",
       "      <td>0.0</td>\n",
       "      <td>0.454937</td>\n",
       "      <td>-0.902392</td>\n",
       "      <td>0.823021</td>\n",
       "      <td>-0.770717</td>\n",
       "      <td>-1.092901</td>\n",
       "      <td>0</td>\n",
       "      <td>1</td>\n",
       "      <td>0</td>\n",
       "      <td>0</td>\n",
       "      <td>1</td>\n",
       "    </tr>\n",
       "    <tr>\n",
       "      <td>348954</td>\n",
       "      <td>2019-03-31 23:20:00</td>\n",
       "      <td>0.0</td>\n",
       "      <td>2019-04-01 23:20:00</td>\n",
       "      <td>0.0</td>\n",
       "      <td>2019-04-02 23:20:00</td>\n",
       "      <td>0.0</td>\n",
       "      <td>0.487726</td>\n",
       "      <td>-0.898467</td>\n",
       "      <td>0.781074</td>\n",
       "      <td>-0.767737</td>\n",
       "      <td>-1.051107</td>\n",
       "      <td>0</td>\n",
       "      <td>1</td>\n",
       "      <td>0</td>\n",
       "      <td>0</td>\n",
       "      <td>1</td>\n",
       "    </tr>\n",
       "    <tr>\n",
       "      <td>348955</td>\n",
       "      <td>2019-03-31 23:30:00</td>\n",
       "      <td>0.0</td>\n",
       "      <td>2019-04-01 23:30:00</td>\n",
       "      <td>0.0</td>\n",
       "      <td>2019-04-02 23:30:00</td>\n",
       "      <td>0.0</td>\n",
       "      <td>0.481853</td>\n",
       "      <td>-0.898467</td>\n",
       "      <td>0.798615</td>\n",
       "      <td>-0.764758</td>\n",
       "      <td>-1.035974</td>\n",
       "      <td>0</td>\n",
       "      <td>1</td>\n",
       "      <td>0</td>\n",
       "      <td>0</td>\n",
       "      <td>1</td>\n",
       "    </tr>\n",
       "    <tr>\n",
       "      <td>348956</td>\n",
       "      <td>2019-03-31 23:40:00</td>\n",
       "      <td>0.0</td>\n",
       "      <td>2019-04-01 23:40:00</td>\n",
       "      <td>0.0</td>\n",
       "      <td>2019-04-02 23:40:00</td>\n",
       "      <td>0.0</td>\n",
       "      <td>0.499472</td>\n",
       "      <td>-0.902392</td>\n",
       "      <td>0.862300</td>\n",
       "      <td>-0.770717</td>\n",
       "      <td>-1.000665</td>\n",
       "      <td>0</td>\n",
       "      <td>1</td>\n",
       "      <td>0</td>\n",
       "      <td>0</td>\n",
       "      <td>1</td>\n",
       "    </tr>\n",
       "  </tbody>\n",
       "</table>\n",
       "<p>348957 rows × 16 columns</p>\n",
       "</div>"
      ],
      "text/plain": [
       "                   MEA_DDHR  COND              X24_TMA  X24H_COND_LOC  \\\n",
       "0       2016-04-01 00:00:00   0.0  2016-04-02 00:00:00            0.0   \n",
       "1       2016-04-01 03:00:00   0.0  2016-04-02 03:00:00            0.0   \n",
       "2       2016-04-01 06:00:00   0.0  2016-04-02 06:00:00            0.0   \n",
       "3       2016-04-01 09:00:00   0.0  2016-04-02 09:00:00            0.0   \n",
       "4       2016-04-01 12:00:00   0.0  2016-04-02 12:00:00            0.0   \n",
       "...                     ...   ...                  ...            ...   \n",
       "348952  2019-03-31 23:00:00   0.0  2019-04-01 23:00:00            0.0   \n",
       "348953  2019-03-31 23:10:00   0.0  2019-04-01 23:10:00            0.0   \n",
       "348954  2019-03-31 23:20:00   0.0  2019-04-01 23:20:00            0.0   \n",
       "348955  2019-03-31 23:30:00   0.0  2019-04-01 23:30:00            0.0   \n",
       "348956  2019-03-31 23:40:00   0.0  2019-04-01 23:40:00            0.0   \n",
       "\n",
       "                    X48_TMA  X48H_COND_LOC    TEM_IN    HUM_IN  TEM_COIL  \\\n",
       "0       2016-04-03 00:00:00            0.0 -0.601172 -0.199821 -0.782821   \n",
       "1       2016-04-03 03:00:00            0.0 -0.699051 -0.003572 -0.897224   \n",
       "2       2016-04-03 06:00:00            0.0 -0.747990  0.241739 -0.897224   \n",
       "3       2016-04-03 09:00:00            0.0 -0.747990  0.241739 -0.859090   \n",
       "4       2016-04-03 12:00:00            0.0 -0.601172 -0.003572 -0.820955   \n",
       "...                     ...            ...       ...       ...       ...   \n",
       "348952  2019-04-02 23:00:00            0.0  0.432425 -0.900429  0.779930   \n",
       "348953  2019-04-02 23:10:00            0.0  0.454937 -0.902392  0.823021   \n",
       "348954  2019-04-02 23:20:00            0.0  0.487726 -0.898467  0.781074   \n",
       "348955  2019-04-02 23:30:00            0.0  0.481853 -0.898467  0.798615   \n",
       "348956  2019-04-02 23:40:00            0.0  0.499472 -0.902392  0.862300   \n",
       "\n",
       "        TEM_OUT_LOC1  HUM_OUT_LOC1  PLANT_1  PLANT_2  LOC_1  LOC_2  LOC_3  \n",
       "0          -0.299991     -1.549754        1        0      1      0      0  \n",
       "1          -0.498609     -0.829165        1        0      1      0      0  \n",
       "2          -0.597919     -0.685048        1        0      1      0      0  \n",
       "3          -0.597919     -0.901224        1        0      1      0      0  \n",
       "4          -0.200681     -1.693872        1        0      1      0      0  \n",
       "...              ...           ...      ...      ...    ...    ...    ...  \n",
       "348952     -0.767737     -1.130371        0        1      0      0      1  \n",
       "348953     -0.770717     -1.092901        0        1      0      0      1  \n",
       "348954     -0.767737     -1.051107        0        1      0      0      1  \n",
       "348955     -0.764758     -1.035974        0        1      0      0      1  \n",
       "348956     -0.770717     -1.000665        0        1      0      0      1  \n",
       "\n",
       "[348957 rows x 16 columns]"
      ]
     },
     "execution_count": 566,
     "metadata": {},
     "output_type": "execute_result"
    }
   ],
   "source": [
    "train = preprosess(train)\n",
    "train"
   ]
  },
  {
   "cell_type": "code",
   "execution_count": 567,
   "metadata": {
    "ExecuteTime": {
     "end_time": "2020-06-10T05:13:59.178035Z",
     "start_time": "2020-06-10T05:13:59.143284Z"
    }
   },
   "outputs": [
    {
     "data": {
      "text/html": [
       "<div>\n",
       "<style scoped>\n",
       "    .dataframe tbody tr th:only-of-type {\n",
       "        vertical-align: middle;\n",
       "    }\n",
       "\n",
       "    .dataframe tbody tr th {\n",
       "        vertical-align: top;\n",
       "    }\n",
       "\n",
       "    .dataframe thead th {\n",
       "        text-align: right;\n",
       "    }\n",
       "</style>\n",
       "<table border=\"1\" class=\"dataframe\">\n",
       "  <thead>\n",
       "    <tr style=\"text-align: right;\">\n",
       "      <th></th>\n",
       "      <th>MEA_DDHR</th>\n",
       "      <th>PLANT</th>\n",
       "      <th>LOC</th>\n",
       "      <th>TEM_IN</th>\n",
       "      <th>HUM_IN</th>\n",
       "      <th>TEM_COIL</th>\n",
       "      <th>TEM_OUT_LOC1</th>\n",
       "      <th>HUM_OUT_LOC1</th>\n",
       "      <th>X24H_TMA</th>\n",
       "      <th>X24H_COND_LOC</th>\n",
       "      <th>X48H_TMA</th>\n",
       "      <th>X48H_COND_LOC</th>\n",
       "    </tr>\n",
       "  </thead>\n",
       "  <tbody>\n",
       "    <tr>\n",
       "      <td>0</td>\n",
       "      <td>2019-04-01 0:00</td>\n",
       "      <td>2</td>\n",
       "      <td>3</td>\n",
       "      <td>8.17</td>\n",
       "      <td>40.42</td>\n",
       "      <td>10.10</td>\n",
       "      <td>4.20</td>\n",
       "      <td>54.82</td>\n",
       "      <td>2019-04-02 0:00</td>\n",
       "      <td>2.0</td>\n",
       "      <td>2019-04-03 0:00</td>\n",
       "      <td>2.0</td>\n",
       "    </tr>\n",
       "    <tr>\n",
       "      <td>1</td>\n",
       "      <td>2019-04-01 4:30</td>\n",
       "      <td>1</td>\n",
       "      <td>2</td>\n",
       "      <td>10.03</td>\n",
       "      <td>48.81</td>\n",
       "      <td>10.79</td>\n",
       "      <td>6.09</td>\n",
       "      <td>59.34</td>\n",
       "      <td>2019-04-02 4:30</td>\n",
       "      <td>2.0</td>\n",
       "      <td>2019-04-03 4:30</td>\n",
       "      <td>2.0</td>\n",
       "    </tr>\n",
       "    <tr>\n",
       "      <td>2</td>\n",
       "      <td>2019-04-01 10:30</td>\n",
       "      <td>2</td>\n",
       "      <td>3</td>\n",
       "      <td>9.45</td>\n",
       "      <td>40.93</td>\n",
       "      <td>9.07</td>\n",
       "      <td>12.26</td>\n",
       "      <td>32.14</td>\n",
       "      <td>2019-04-02 10:30</td>\n",
       "      <td>2.0</td>\n",
       "      <td>2019-04-03 10:30</td>\n",
       "      <td>2.0</td>\n",
       "    </tr>\n",
       "    <tr>\n",
       "      <td>3</td>\n",
       "      <td>2019-04-01 11:00</td>\n",
       "      <td>1</td>\n",
       "      <td>1</td>\n",
       "      <td>12.32</td>\n",
       "      <td>34.13</td>\n",
       "      <td>10.86</td>\n",
       "      <td>12.32</td>\n",
       "      <td>28.27</td>\n",
       "      <td>2019-04-02 11:00</td>\n",
       "      <td>2.0</td>\n",
       "      <td>2019-04-03 11:00</td>\n",
       "      <td>2.0</td>\n",
       "    </tr>\n",
       "    <tr>\n",
       "      <td>4</td>\n",
       "      <td>2019-04-01 13:30</td>\n",
       "      <td>2</td>\n",
       "      <td>1</td>\n",
       "      <td>11.28</td>\n",
       "      <td>22.65</td>\n",
       "      <td>8.76</td>\n",
       "      <td>12.01</td>\n",
       "      <td>19.84</td>\n",
       "      <td>2019-04-02 13:30</td>\n",
       "      <td>2.0</td>\n",
       "      <td>2019-04-03 13:30</td>\n",
       "      <td>2.0</td>\n",
       "    </tr>\n",
       "    <tr>\n",
       "      <td>...</td>\n",
       "      <td>...</td>\n",
       "      <td>...</td>\n",
       "      <td>...</td>\n",
       "      <td>...</td>\n",
       "      <td>...</td>\n",
       "      <td>...</td>\n",
       "      <td>...</td>\n",
       "      <td>...</td>\n",
       "      <td>...</td>\n",
       "      <td>...</td>\n",
       "      <td>...</td>\n",
       "      <td>...</td>\n",
       "    </tr>\n",
       "    <tr>\n",
       "      <td>3534</td>\n",
       "      <td>2020-03-29 3:00</td>\n",
       "      <td>1</td>\n",
       "      <td>2</td>\n",
       "      <td>10.73</td>\n",
       "      <td>33.36</td>\n",
       "      <td>13.30</td>\n",
       "      <td>6.28</td>\n",
       "      <td>46.37</td>\n",
       "      <td>2020-03-30 3:00</td>\n",
       "      <td>2.0</td>\n",
       "      <td>2020-03-31 3:00</td>\n",
       "      <td>2.0</td>\n",
       "    </tr>\n",
       "    <tr>\n",
       "      <td>3535</td>\n",
       "      <td>2020-03-29 5:00</td>\n",
       "      <td>2</td>\n",
       "      <td>3</td>\n",
       "      <td>9.15</td>\n",
       "      <td>38.86</td>\n",
       "      <td>11.70</td>\n",
       "      <td>1.39</td>\n",
       "      <td>74.33</td>\n",
       "      <td>2020-03-30 5:00</td>\n",
       "      <td>2.0</td>\n",
       "      <td>2020-03-31 5:00</td>\n",
       "      <td>2.0</td>\n",
       "    </tr>\n",
       "    <tr>\n",
       "      <td>3536</td>\n",
       "      <td>2020-03-29 7:00</td>\n",
       "      <td>2</td>\n",
       "      <td>1</td>\n",
       "      <td>7.10</td>\n",
       "      <td>44.87</td>\n",
       "      <td>9.03</td>\n",
       "      <td>4.26</td>\n",
       "      <td>58.06</td>\n",
       "      <td>2020-03-30 7:00</td>\n",
       "      <td>2.0</td>\n",
       "      <td>2020-03-31 7:00</td>\n",
       "      <td>2.0</td>\n",
       "    </tr>\n",
       "    <tr>\n",
       "      <td>3537</td>\n",
       "      <td>2020-03-29 11:30</td>\n",
       "      <td>1</td>\n",
       "      <td>1</td>\n",
       "      <td>13.54</td>\n",
       "      <td>33.49</td>\n",
       "      <td>12.20</td>\n",
       "      <td>12.90</td>\n",
       "      <td>33.67</td>\n",
       "      <td>2020-03-30 11:30</td>\n",
       "      <td>2.0</td>\n",
       "      <td>2020-03-31 11:30</td>\n",
       "      <td>2.0</td>\n",
       "    </tr>\n",
       "    <tr>\n",
       "      <td>3538</td>\n",
       "      <td>2020-03-29 19:30</td>\n",
       "      <td>1</td>\n",
       "      <td>1</td>\n",
       "      <td>14.21</td>\n",
       "      <td>34.43</td>\n",
       "      <td>12.77</td>\n",
       "      <td>9.88</td>\n",
       "      <td>43.96</td>\n",
       "      <td>2020-03-30 19:30</td>\n",
       "      <td>2.0</td>\n",
       "      <td>2020-03-31 19:30</td>\n",
       "      <td>2.0</td>\n",
       "    </tr>\n",
       "  </tbody>\n",
       "</table>\n",
       "<p>3539 rows × 12 columns</p>\n",
       "</div>"
      ],
      "text/plain": [
       "              MEA_DDHR  PLANT  LOC  TEM_IN  HUM_IN  TEM_COIL  TEM_OUT_LOC1  \\\n",
       "0      2019-04-01 0:00      2    3    8.17   40.42     10.10          4.20   \n",
       "1      2019-04-01 4:30      1    2   10.03   48.81     10.79          6.09   \n",
       "2     2019-04-01 10:30      2    3    9.45   40.93      9.07         12.26   \n",
       "3     2019-04-01 11:00      1    1   12.32   34.13     10.86         12.32   \n",
       "4     2019-04-01 13:30      2    1   11.28   22.65      8.76         12.01   \n",
       "...                ...    ...  ...     ...     ...       ...           ...   \n",
       "3534   2020-03-29 3:00      1    2   10.73   33.36     13.30          6.28   \n",
       "3535   2020-03-29 5:00      2    3    9.15   38.86     11.70          1.39   \n",
       "3536   2020-03-29 7:00      2    1    7.10   44.87      9.03          4.26   \n",
       "3537  2020-03-29 11:30      1    1   13.54   33.49     12.20         12.90   \n",
       "3538  2020-03-29 19:30      1    1   14.21   34.43     12.77          9.88   \n",
       "\n",
       "      HUM_OUT_LOC1          X24H_TMA  X24H_COND_LOC          X48H_TMA  \\\n",
       "0            54.82   2019-04-02 0:00            2.0   2019-04-03 0:00   \n",
       "1            59.34   2019-04-02 4:30            2.0   2019-04-03 4:30   \n",
       "2            32.14  2019-04-02 10:30            2.0  2019-04-03 10:30   \n",
       "3            28.27  2019-04-02 11:00            2.0  2019-04-03 11:00   \n",
       "4            19.84  2019-04-02 13:30            2.0  2019-04-03 13:30   \n",
       "...            ...               ...            ...               ...   \n",
       "3534         46.37   2020-03-30 3:00            2.0   2020-03-31 3:00   \n",
       "3535         74.33   2020-03-30 5:00            2.0   2020-03-31 5:00   \n",
       "3536         58.06   2020-03-30 7:00            2.0   2020-03-31 7:00   \n",
       "3537         33.67  2020-03-30 11:30            2.0  2020-03-31 11:30   \n",
       "3538         43.96  2020-03-30 19:30            2.0  2020-03-31 19:30   \n",
       "\n",
       "      X48H_COND_LOC  \n",
       "0               2.0  \n",
       "1               2.0  \n",
       "2               2.0  \n",
       "3               2.0  \n",
       "4               2.0  \n",
       "...             ...  \n",
       "3534            2.0  \n",
       "3535            2.0  \n",
       "3536            2.0  \n",
       "3537            2.0  \n",
       "3538            2.0  \n",
       "\n",
       "[3539 rows x 12 columns]"
      ]
     },
     "execution_count": 567,
     "metadata": {},
     "output_type": "execute_result"
    }
   ],
   "source": [
    "test_data = pd.read_csv(\"save_data/plant_test.csv\")\n",
    "test_data"
   ]
  },
  {
   "cell_type": "code",
   "execution_count": 568,
   "metadata": {
    "ExecuteTime": {
     "end_time": "2020-06-10T05:13:59.191997Z",
     "start_time": "2020-06-10T05:13:59.179032Z"
    }
   },
   "outputs": [],
   "source": [
    "test = preprosess(test_data)"
   ]
  },
  {
   "cell_type": "code",
   "execution_count": 569,
   "metadata": {
    "ExecuteTime": {
     "end_time": "2020-06-10T05:13:59.220092Z",
     "start_time": "2020-06-10T05:13:59.192995Z"
    }
   },
   "outputs": [
    {
     "data": {
      "text/html": [
       "<div>\n",
       "<style scoped>\n",
       "    .dataframe tbody tr th:only-of-type {\n",
       "        vertical-align: middle;\n",
       "    }\n",
       "\n",
       "    .dataframe tbody tr th {\n",
       "        vertical-align: top;\n",
       "    }\n",
       "\n",
       "    .dataframe thead th {\n",
       "        text-align: right;\n",
       "    }\n",
       "</style>\n",
       "<table border=\"1\" class=\"dataframe\">\n",
       "  <thead>\n",
       "    <tr style=\"text-align: right;\">\n",
       "      <th></th>\n",
       "      <th>MEA_DDHR</th>\n",
       "      <th>X24H_TMA</th>\n",
       "      <th>X24H_COND_LOC</th>\n",
       "      <th>X48H_TMA</th>\n",
       "      <th>X48H_COND_LOC</th>\n",
       "      <th>TEM_IN</th>\n",
       "      <th>HUM_IN</th>\n",
       "      <th>TEM_COIL</th>\n",
       "      <th>TEM_OUT_LOC1</th>\n",
       "      <th>HUM_OUT_LOC1</th>\n",
       "      <th>PLANT_1</th>\n",
       "      <th>PLANT_2</th>\n",
       "      <th>LOC_1</th>\n",
       "      <th>LOC_2</th>\n",
       "      <th>LOC_3</th>\n",
       "    </tr>\n",
       "  </thead>\n",
       "  <tbody>\n",
       "    <tr>\n",
       "      <td>0</td>\n",
       "      <td>2019-04-01 0:00</td>\n",
       "      <td>2019-04-02 0:00</td>\n",
       "      <td>2.0</td>\n",
       "      <td>2019-04-03 0:00</td>\n",
       "      <td>2.0</td>\n",
       "      <td>-0.936761</td>\n",
       "      <td>-1.054636</td>\n",
       "      <td>-0.641253</td>\n",
       "      <td>-1.016510</td>\n",
       "      <td>-0.547359</td>\n",
       "      <td>0</td>\n",
       "      <td>1</td>\n",
       "      <td>0</td>\n",
       "      <td>0</td>\n",
       "      <td>1</td>\n",
       "    </tr>\n",
       "    <tr>\n",
       "      <td>1</td>\n",
       "      <td>2019-04-01 4:30</td>\n",
       "      <td>2019-04-02 4:30</td>\n",
       "      <td>2.0</td>\n",
       "      <td>2019-04-03 4:30</td>\n",
       "      <td>2.0</td>\n",
       "      <td>-0.720865</td>\n",
       "      <td>-0.449353</td>\n",
       "      <td>-0.562858</td>\n",
       "      <td>-0.817131</td>\n",
       "      <td>-0.319514</td>\n",
       "      <td>1</td>\n",
       "      <td>0</td>\n",
       "      <td>0</td>\n",
       "      <td>1</td>\n",
       "      <td>0</td>\n",
       "    </tr>\n",
       "    <tr>\n",
       "      <td>2</td>\n",
       "      <td>2019-04-01 10:30</td>\n",
       "      <td>2019-04-02 10:30</td>\n",
       "      <td>2.0</td>\n",
       "      <td>2019-04-03 10:30</td>\n",
       "      <td>2.0</td>\n",
       "      <td>-0.788188</td>\n",
       "      <td>-1.017843</td>\n",
       "      <td>-0.758277</td>\n",
       "      <td>-0.166248</td>\n",
       "      <td>-1.690616</td>\n",
       "      <td>0</td>\n",
       "      <td>1</td>\n",
       "      <td>0</td>\n",
       "      <td>0</td>\n",
       "      <td>1</td>\n",
       "    </tr>\n",
       "    <tr>\n",
       "      <td>3</td>\n",
       "      <td>2019-04-01 11:00</td>\n",
       "      <td>2019-04-02 11:00</td>\n",
       "      <td>2.0</td>\n",
       "      <td>2019-04-03 11:00</td>\n",
       "      <td>2.0</td>\n",
       "      <td>-0.455058</td>\n",
       "      <td>-1.508418</td>\n",
       "      <td>-0.554905</td>\n",
       "      <td>-0.159918</td>\n",
       "      <td>-1.885695</td>\n",
       "      <td>1</td>\n",
       "      <td>0</td>\n",
       "      <td>1</td>\n",
       "      <td>0</td>\n",
       "      <td>0</td>\n",
       "    </tr>\n",
       "    <tr>\n",
       "      <td>4</td>\n",
       "      <td>2019-04-01 13:30</td>\n",
       "      <td>2019-04-02 13:30</td>\n",
       "      <td>2.0</td>\n",
       "      <td>2019-04-03 13:30</td>\n",
       "      <td>2.0</td>\n",
       "      <td>-0.575774</td>\n",
       "      <td>-2.336624</td>\n",
       "      <td>-0.793497</td>\n",
       "      <td>-0.192621</td>\n",
       "      <td>-2.310636</td>\n",
       "      <td>0</td>\n",
       "      <td>1</td>\n",
       "      <td>1</td>\n",
       "      <td>0</td>\n",
       "      <td>0</td>\n",
       "    </tr>\n",
       "    <tr>\n",
       "      <td>...</td>\n",
       "      <td>...</td>\n",
       "      <td>...</td>\n",
       "      <td>...</td>\n",
       "      <td>...</td>\n",
       "      <td>...</td>\n",
       "      <td>...</td>\n",
       "      <td>...</td>\n",
       "      <td>...</td>\n",
       "      <td>...</td>\n",
       "      <td>...</td>\n",
       "      <td>...</td>\n",
       "      <td>...</td>\n",
       "      <td>...</td>\n",
       "      <td>...</td>\n",
       "      <td>...</td>\n",
       "    </tr>\n",
       "    <tr>\n",
       "      <td>3534</td>\n",
       "      <td>2020-03-29 3:00</td>\n",
       "      <td>2020-03-30 3:00</td>\n",
       "      <td>2.0</td>\n",
       "      <td>2020-03-31 3:00</td>\n",
       "      <td>2.0</td>\n",
       "      <td>-0.639614</td>\n",
       "      <td>-1.563968</td>\n",
       "      <td>-0.277684</td>\n",
       "      <td>-0.797087</td>\n",
       "      <td>-0.973308</td>\n",
       "      <td>1</td>\n",
       "      <td>0</td>\n",
       "      <td>0</td>\n",
       "      <td>1</td>\n",
       "      <td>0</td>\n",
       "    </tr>\n",
       "    <tr>\n",
       "      <td>3535</td>\n",
       "      <td>2020-03-29 5:00</td>\n",
       "      <td>2020-03-30 5:00</td>\n",
       "      <td>2.0</td>\n",
       "      <td>2020-03-31 5:00</td>\n",
       "      <td>2.0</td>\n",
       "      <td>-0.823010</td>\n",
       "      <td>-1.167179</td>\n",
       "      <td>-0.459468</td>\n",
       "      <td>-1.312941</td>\n",
       "      <td>0.436104</td>\n",
       "      <td>0</td>\n",
       "      <td>1</td>\n",
       "      <td>0</td>\n",
       "      <td>0</td>\n",
       "      <td>1</td>\n",
       "    </tr>\n",
       "    <tr>\n",
       "      <td>3536</td>\n",
       "      <td>2020-03-29 7:00</td>\n",
       "      <td>2020-03-30 7:00</td>\n",
       "      <td>2.0</td>\n",
       "      <td>2020-03-31 7:00</td>\n",
       "      <td>2.0</td>\n",
       "      <td>-1.060959</td>\n",
       "      <td>-0.733598</td>\n",
       "      <td>-0.762821</td>\n",
       "      <td>-1.010180</td>\n",
       "      <td>-0.384036</td>\n",
       "      <td>0</td>\n",
       "      <td>1</td>\n",
       "      <td>1</td>\n",
       "      <td>0</td>\n",
       "      <td>0</td>\n",
       "    </tr>\n",
       "    <tr>\n",
       "      <td>3537</td>\n",
       "      <td>2020-03-29 11:30</td>\n",
       "      <td>2020-03-30 11:30</td>\n",
       "      <td>2.0</td>\n",
       "      <td>2020-03-31 11:30</td>\n",
       "      <td>2.0</td>\n",
       "      <td>-0.313449</td>\n",
       "      <td>-1.554590</td>\n",
       "      <td>-0.402661</td>\n",
       "      <td>-0.098733</td>\n",
       "      <td>-1.613491</td>\n",
       "      <td>1</td>\n",
       "      <td>0</td>\n",
       "      <td>1</td>\n",
       "      <td>0</td>\n",
       "      <td>0</td>\n",
       "    </tr>\n",
       "    <tr>\n",
       "      <td>3538</td>\n",
       "      <td>2020-03-29 19:30</td>\n",
       "      <td>2020-03-30 19:30</td>\n",
       "      <td>2.0</td>\n",
       "      <td>2020-03-31 19:30</td>\n",
       "      <td>2.0</td>\n",
       "      <td>-0.235681</td>\n",
       "      <td>-1.486775</td>\n",
       "      <td>-0.337900</td>\n",
       "      <td>-0.417318</td>\n",
       "      <td>-1.094791</td>\n",
       "      <td>1</td>\n",
       "      <td>0</td>\n",
       "      <td>1</td>\n",
       "      <td>0</td>\n",
       "      <td>0</td>\n",
       "    </tr>\n",
       "  </tbody>\n",
       "</table>\n",
       "<p>3539 rows × 15 columns</p>\n",
       "</div>"
      ],
      "text/plain": [
       "              MEA_DDHR          X24H_TMA  X24H_COND_LOC          X48H_TMA  \\\n",
       "0      2019-04-01 0:00   2019-04-02 0:00            2.0   2019-04-03 0:00   \n",
       "1      2019-04-01 4:30   2019-04-02 4:30            2.0   2019-04-03 4:30   \n",
       "2     2019-04-01 10:30  2019-04-02 10:30            2.0  2019-04-03 10:30   \n",
       "3     2019-04-01 11:00  2019-04-02 11:00            2.0  2019-04-03 11:00   \n",
       "4     2019-04-01 13:30  2019-04-02 13:30            2.0  2019-04-03 13:30   \n",
       "...                ...               ...            ...               ...   \n",
       "3534   2020-03-29 3:00   2020-03-30 3:00            2.0   2020-03-31 3:00   \n",
       "3535   2020-03-29 5:00   2020-03-30 5:00            2.0   2020-03-31 5:00   \n",
       "3536   2020-03-29 7:00   2020-03-30 7:00            2.0   2020-03-31 7:00   \n",
       "3537  2020-03-29 11:30  2020-03-30 11:30            2.0  2020-03-31 11:30   \n",
       "3538  2020-03-29 19:30  2020-03-30 19:30            2.0  2020-03-31 19:30   \n",
       "\n",
       "      X48H_COND_LOC    TEM_IN    HUM_IN  TEM_COIL  TEM_OUT_LOC1  HUM_OUT_LOC1  \\\n",
       "0               2.0 -0.936761 -1.054636 -0.641253     -1.016510     -0.547359   \n",
       "1               2.0 -0.720865 -0.449353 -0.562858     -0.817131     -0.319514   \n",
       "2               2.0 -0.788188 -1.017843 -0.758277     -0.166248     -1.690616   \n",
       "3               2.0 -0.455058 -1.508418 -0.554905     -0.159918     -1.885695   \n",
       "4               2.0 -0.575774 -2.336624 -0.793497     -0.192621     -2.310636   \n",
       "...             ...       ...       ...       ...           ...           ...   \n",
       "3534            2.0 -0.639614 -1.563968 -0.277684     -0.797087     -0.973308   \n",
       "3535            2.0 -0.823010 -1.167179 -0.459468     -1.312941      0.436104   \n",
       "3536            2.0 -1.060959 -0.733598 -0.762821     -1.010180     -0.384036   \n",
       "3537            2.0 -0.313449 -1.554590 -0.402661     -0.098733     -1.613491   \n",
       "3538            2.0 -0.235681 -1.486775 -0.337900     -0.417318     -1.094791   \n",
       "\n",
       "      PLANT_1  PLANT_2  LOC_1  LOC_2  LOC_3  \n",
       "0           0        1      0      0      1  \n",
       "1           1        0      0      1      0  \n",
       "2           0        1      0      0      1  \n",
       "3           1        0      1      0      0  \n",
       "4           0        1      1      0      0  \n",
       "...       ...      ...    ...    ...    ...  \n",
       "3534        1        0      0      1      0  \n",
       "3535        0        1      0      0      1  \n",
       "3536        0        1      1      0      0  \n",
       "3537        1        0      1      0      0  \n",
       "3538        1        0      1      0      0  \n",
       "\n",
       "[3539 rows x 15 columns]"
      ]
     },
     "execution_count": 569,
     "metadata": {},
     "output_type": "execute_result"
    }
   ],
   "source": [
    "test"
   ]
  },
  {
   "cell_type": "code",
   "execution_count": 570,
   "metadata": {
    "ExecuteTime": {
     "end_time": "2020-06-10T05:13:59.283920Z",
     "start_time": "2020-06-10T05:13:59.221089Z"
    }
   },
   "outputs": [],
   "source": [
    "train_X = train.drop(['COND','X24_TMA','X24H_COND_LOC', 'X48_TMA','X48H_COND_LOC', \"MEA_DDHR\", \"X48_TMA\"],axis=1)\n",
    "train_y = train.loc[:,['X24H_COND_LOC', 'X48H_COND_LOC']]"
   ]
  },
  {
   "cell_type": "code",
   "execution_count": 571,
   "metadata": {
    "ExecuteTime": {
     "end_time": "2020-06-10T05:13:59.304864Z",
     "start_time": "2020-06-10T05:13:59.284919Z"
    }
   },
   "outputs": [
    {
     "data": {
      "text/html": [
       "<div>\n",
       "<style scoped>\n",
       "    .dataframe tbody tr th:only-of-type {\n",
       "        vertical-align: middle;\n",
       "    }\n",
       "\n",
       "    .dataframe tbody tr th {\n",
       "        vertical-align: top;\n",
       "    }\n",
       "\n",
       "    .dataframe thead th {\n",
       "        text-align: right;\n",
       "    }\n",
       "</style>\n",
       "<table border=\"1\" class=\"dataframe\">\n",
       "  <thead>\n",
       "    <tr style=\"text-align: right;\">\n",
       "      <th></th>\n",
       "      <th>MEA_DDHR</th>\n",
       "      <th>TEM_IN</th>\n",
       "      <th>HUM_IN</th>\n",
       "      <th>TEM_COIL</th>\n",
       "      <th>TEM_OUT_LOC1</th>\n",
       "      <th>HUM_OUT_LOC1</th>\n",
       "      <th>PLANT_1</th>\n",
       "      <th>PLANT_2</th>\n",
       "      <th>LOC_1</th>\n",
       "      <th>LOC_2</th>\n",
       "      <th>LOC_3</th>\n",
       "    </tr>\n",
       "  </thead>\n",
       "  <tbody>\n",
       "    <tr>\n",
       "      <td>0</td>\n",
       "      <td>2019-04-01 0:00</td>\n",
       "      <td>-0.936761</td>\n",
       "      <td>-1.054636</td>\n",
       "      <td>-0.641253</td>\n",
       "      <td>-1.016510</td>\n",
       "      <td>-0.547359</td>\n",
       "      <td>0</td>\n",
       "      <td>1</td>\n",
       "      <td>0</td>\n",
       "      <td>0</td>\n",
       "      <td>1</td>\n",
       "    </tr>\n",
       "    <tr>\n",
       "      <td>1</td>\n",
       "      <td>2019-04-01 4:30</td>\n",
       "      <td>-0.720865</td>\n",
       "      <td>-0.449353</td>\n",
       "      <td>-0.562858</td>\n",
       "      <td>-0.817131</td>\n",
       "      <td>-0.319514</td>\n",
       "      <td>1</td>\n",
       "      <td>0</td>\n",
       "      <td>0</td>\n",
       "      <td>1</td>\n",
       "      <td>0</td>\n",
       "    </tr>\n",
       "    <tr>\n",
       "      <td>2</td>\n",
       "      <td>2019-04-01 10:30</td>\n",
       "      <td>-0.788188</td>\n",
       "      <td>-1.017843</td>\n",
       "      <td>-0.758277</td>\n",
       "      <td>-0.166248</td>\n",
       "      <td>-1.690616</td>\n",
       "      <td>0</td>\n",
       "      <td>1</td>\n",
       "      <td>0</td>\n",
       "      <td>0</td>\n",
       "      <td>1</td>\n",
       "    </tr>\n",
       "    <tr>\n",
       "      <td>3</td>\n",
       "      <td>2019-04-01 11:00</td>\n",
       "      <td>-0.455058</td>\n",
       "      <td>-1.508418</td>\n",
       "      <td>-0.554905</td>\n",
       "      <td>-0.159918</td>\n",
       "      <td>-1.885695</td>\n",
       "      <td>1</td>\n",
       "      <td>0</td>\n",
       "      <td>1</td>\n",
       "      <td>0</td>\n",
       "      <td>0</td>\n",
       "    </tr>\n",
       "    <tr>\n",
       "      <td>4</td>\n",
       "      <td>2019-04-01 13:30</td>\n",
       "      <td>-0.575774</td>\n",
       "      <td>-2.336624</td>\n",
       "      <td>-0.793497</td>\n",
       "      <td>-0.192621</td>\n",
       "      <td>-2.310636</td>\n",
       "      <td>0</td>\n",
       "      <td>1</td>\n",
       "      <td>1</td>\n",
       "      <td>0</td>\n",
       "      <td>0</td>\n",
       "    </tr>\n",
       "    <tr>\n",
       "      <td>...</td>\n",
       "      <td>...</td>\n",
       "      <td>...</td>\n",
       "      <td>...</td>\n",
       "      <td>...</td>\n",
       "      <td>...</td>\n",
       "      <td>...</td>\n",
       "      <td>...</td>\n",
       "      <td>...</td>\n",
       "      <td>...</td>\n",
       "      <td>...</td>\n",
       "      <td>...</td>\n",
       "    </tr>\n",
       "    <tr>\n",
       "      <td>3534</td>\n",
       "      <td>2020-03-29 3:00</td>\n",
       "      <td>-0.639614</td>\n",
       "      <td>-1.563968</td>\n",
       "      <td>-0.277684</td>\n",
       "      <td>-0.797087</td>\n",
       "      <td>-0.973308</td>\n",
       "      <td>1</td>\n",
       "      <td>0</td>\n",
       "      <td>0</td>\n",
       "      <td>1</td>\n",
       "      <td>0</td>\n",
       "    </tr>\n",
       "    <tr>\n",
       "      <td>3535</td>\n",
       "      <td>2020-03-29 5:00</td>\n",
       "      <td>-0.823010</td>\n",
       "      <td>-1.167179</td>\n",
       "      <td>-0.459468</td>\n",
       "      <td>-1.312941</td>\n",
       "      <td>0.436104</td>\n",
       "      <td>0</td>\n",
       "      <td>1</td>\n",
       "      <td>0</td>\n",
       "      <td>0</td>\n",
       "      <td>1</td>\n",
       "    </tr>\n",
       "    <tr>\n",
       "      <td>3536</td>\n",
       "      <td>2020-03-29 7:00</td>\n",
       "      <td>-1.060959</td>\n",
       "      <td>-0.733598</td>\n",
       "      <td>-0.762821</td>\n",
       "      <td>-1.010180</td>\n",
       "      <td>-0.384036</td>\n",
       "      <td>0</td>\n",
       "      <td>1</td>\n",
       "      <td>1</td>\n",
       "      <td>0</td>\n",
       "      <td>0</td>\n",
       "    </tr>\n",
       "    <tr>\n",
       "      <td>3537</td>\n",
       "      <td>2020-03-29 11:30</td>\n",
       "      <td>-0.313449</td>\n",
       "      <td>-1.554590</td>\n",
       "      <td>-0.402661</td>\n",
       "      <td>-0.098733</td>\n",
       "      <td>-1.613491</td>\n",
       "      <td>1</td>\n",
       "      <td>0</td>\n",
       "      <td>1</td>\n",
       "      <td>0</td>\n",
       "      <td>0</td>\n",
       "    </tr>\n",
       "    <tr>\n",
       "      <td>3538</td>\n",
       "      <td>2020-03-29 19:30</td>\n",
       "      <td>-0.235681</td>\n",
       "      <td>-1.486775</td>\n",
       "      <td>-0.337900</td>\n",
       "      <td>-0.417318</td>\n",
       "      <td>-1.094791</td>\n",
       "      <td>1</td>\n",
       "      <td>0</td>\n",
       "      <td>1</td>\n",
       "      <td>0</td>\n",
       "      <td>0</td>\n",
       "    </tr>\n",
       "  </tbody>\n",
       "</table>\n",
       "<p>3539 rows × 11 columns</p>\n",
       "</div>"
      ],
      "text/plain": [
       "              MEA_DDHR    TEM_IN    HUM_IN  TEM_COIL  TEM_OUT_LOC1  \\\n",
       "0      2019-04-01 0:00 -0.936761 -1.054636 -0.641253     -1.016510   \n",
       "1      2019-04-01 4:30 -0.720865 -0.449353 -0.562858     -0.817131   \n",
       "2     2019-04-01 10:30 -0.788188 -1.017843 -0.758277     -0.166248   \n",
       "3     2019-04-01 11:00 -0.455058 -1.508418 -0.554905     -0.159918   \n",
       "4     2019-04-01 13:30 -0.575774 -2.336624 -0.793497     -0.192621   \n",
       "...                ...       ...       ...       ...           ...   \n",
       "3534   2020-03-29 3:00 -0.639614 -1.563968 -0.277684     -0.797087   \n",
       "3535   2020-03-29 5:00 -0.823010 -1.167179 -0.459468     -1.312941   \n",
       "3536   2020-03-29 7:00 -1.060959 -0.733598 -0.762821     -1.010180   \n",
       "3537  2020-03-29 11:30 -0.313449 -1.554590 -0.402661     -0.098733   \n",
       "3538  2020-03-29 19:30 -0.235681 -1.486775 -0.337900     -0.417318   \n",
       "\n",
       "      HUM_OUT_LOC1  PLANT_1  PLANT_2  LOC_1  LOC_2  LOC_3  \n",
       "0        -0.547359        0        1      0      0      1  \n",
       "1        -0.319514        1        0      0      1      0  \n",
       "2        -1.690616        0        1      0      0      1  \n",
       "3        -1.885695        1        0      1      0      0  \n",
       "4        -2.310636        0        1      1      0      0  \n",
       "...            ...      ...      ...    ...    ...    ...  \n",
       "3534     -0.973308        1        0      0      1      0  \n",
       "3535      0.436104        0        1      0      0      1  \n",
       "3536     -0.384036        0        1      1      0      0  \n",
       "3537     -1.613491        1        0      1      0      0  \n",
       "3538     -1.094791        1        0      1      0      0  \n",
       "\n",
       "[3539 rows x 11 columns]"
      ]
     },
     "execution_count": 571,
     "metadata": {},
     "output_type": "execute_result"
    }
   ],
   "source": [
    "test_X = test.drop(['X24H_TMA','X24H_COND_LOC', 'X48H_TMA','X48H_COND_LOC'],axis=1)\n",
    "test_y = test.loc[:,['X24H_COND_LOC', 'X48H_COND_LOC']]\n",
    "test_X"
   ]
  },
  {
   "cell_type": "markdown",
   "metadata": {},
   "source": [
    "## Ramdom Forest"
   ]
  },
  {
   "cell_type": "code",
   "execution_count": 572,
   "metadata": {
    "ExecuteTime": {
     "end_time": "2020-06-10T05:14:34.035900Z",
     "start_time": "2020-06-10T05:13:59.305862Z"
    }
   },
   "outputs": [
    {
     "data": {
      "text/plain": [
       "RandomForestClassifier(bootstrap=True, ccp_alpha=0.0, class_weight=None,\n",
       "                       criterion='gini', max_depth=None, max_features='auto',\n",
       "                       max_leaf_nodes=None, max_samples=None,\n",
       "                       min_impurity_decrease=0.0, min_impurity_split=None,\n",
       "                       min_samples_leaf=1, min_samples_split=2,\n",
       "                       min_weight_fraction_leaf=0.0, n_estimators=100,\n",
       "                       n_jobs=None, oob_score=False, random_state=42, verbose=0,\n",
       "                       warm_start=False)"
      ]
     },
     "execution_count": 572,
     "metadata": {},
     "output_type": "execute_result"
    }
   ],
   "source": [
    "from sklearn.ensemble import RandomForestClassifier\n",
    "rf_model = RandomForestClassifier(n_estimators=100,random_state=42)\n",
    "rf_model.fit(train_X, train_y)"
   ]
  },
  {
   "cell_type": "code",
   "execution_count": 573,
   "metadata": {
    "ExecuteTime": {
     "end_time": "2020-06-10T05:14:34.052967Z",
     "start_time": "2020-06-10T05:14:34.036897Z"
    }
   },
   "outputs": [
    {
     "data": {
      "text/plain": [
       "array([0.20376239, 0.20267583, 0.19166131, 0.19080273, 0.19302634,\n",
       "       0.00580388, 0.00569545, 0.00245588, 0.00338698, 0.00072923])"
      ]
     },
     "execution_count": 573,
     "metadata": {},
     "output_type": "execute_result"
    }
   ],
   "source": [
    "rf_model.feature_importances_"
   ]
  },
  {
   "cell_type": "code",
   "execution_count": 574,
   "metadata": {
    "ExecuteTime": {
     "end_time": "2020-06-10T05:14:34.058863Z",
     "start_time": "2020-06-10T05:14:34.053874Z"
    }
   },
   "outputs": [
    {
     "data": {
      "text/plain": [
       "array(['TEM_IN', 'HUM_IN', 'TEM_COIL', 'TEM_OUT_LOC1', 'HUM_OUT_LOC1',\n",
       "       'PLANT_1', 'PLANT_2', 'LOC_1', 'LOC_2', 'LOC_3'], dtype=object)"
      ]
     },
     "execution_count": 574,
     "metadata": {},
     "output_type": "execute_result"
    }
   ],
   "source": [
    "train_X.columns.values"
   ]
  },
  {
   "cell_type": "code",
   "execution_count": 575,
   "metadata": {
    "ExecuteTime": {
     "end_time": "2020-06-10T05:14:34.073853Z",
     "start_time": "2020-06-10T05:14:34.059859Z"
    }
   },
   "outputs": [],
   "source": [
    "import numpy as np\n",
    "imp_df = pd.DataFrame(data=np.c_[train_X.columns.values,rf_model.feature_importances_],columns=[\"variable\", \"importance\"])"
   ]
  },
  {
   "cell_type": "code",
   "execution_count": 576,
   "metadata": {
    "ExecuteTime": {
     "end_time": "2020-06-10T05:14:34.078840Z",
     "start_time": "2020-06-10T05:14:34.074821Z"
    }
   },
   "outputs": [],
   "source": [
    "imp_df.sort_values(by=\"importance\", ascending=False, inplace=True)"
   ]
  },
  {
   "cell_type": "code",
   "execution_count": 577,
   "metadata": {
    "ExecuteTime": {
     "end_time": "2020-06-10T05:14:34.317480Z",
     "start_time": "2020-06-10T05:14:34.080803Z"
    }
   },
   "outputs": [
    {
     "data": {
      "image/png": "[encoded data removed]",
      "text/plain": [
       "<Figure size 2160x864 with 1 Axes>"
      ]
     },
     "metadata": {
      "needs_background": "light"
     },
     "output_type": "display_data"
    }
   ],
   "source": [
    "import matplotlib.pyplot as plt\n",
    "%matplotlib inline\n",
    "import matplotlib.font_manager as fm\n",
    "font_path = \"C:/Windows/Fonts/H2GTRM.TTF\" # HY중고딕\n",
    "font_prop = fm.FontProperties(fname=font_path, size=15)\n",
    "plt.figure(figsize=(30, 12))\n",
    "plt.bar(imp_df.variable, imp_df.importance)\n",
    "plt.xticks(rotation=90, fontproperties=font_prop)\n",
    "plt.show()"
   ]
  },
  {
   "cell_type": "code",
   "execution_count": 578,
   "metadata": {
    "ExecuteTime": {
     "end_time": "2020-06-10T05:14:34.322467Z",
     "start_time": "2020-06-10T05:14:34.318478Z"
    }
   },
   "outputs": [],
   "source": [
    "test_X.drop([\"MEA_DDHR\"], inplace=True, axis=1)"
   ]
  },
  {
   "cell_type": "code",
   "execution_count": 579,
   "metadata": {
    "ExecuteTime": {
     "end_time": "2020-06-10T05:14:34.402254Z",
     "start_time": "2020-06-10T05:14:34.323464Z"
    }
   },
   "outputs": [
    {
     "data": {
      "text/plain": [
       "[array([[1.  , 0.  ],\n",
       "        [0.98, 0.02],\n",
       "        [0.98, 0.02],\n",
       "        ...,\n",
       "        [0.98, 0.02],\n",
       "        [0.86, 0.14],\n",
       "        [0.67, 0.33]]), array([[0.99, 0.01],\n",
       "        [0.9 , 0.1 ],\n",
       "        [0.97, 0.03],\n",
       "        ...,\n",
       "        [0.96, 0.04],\n",
       "        [0.9 , 0.1 ],\n",
       "        [0.99, 0.01]])]"
      ]
     },
     "execution_count": 579,
     "metadata": {},
     "output_type": "execute_result"
    }
   ],
   "source": [
    "proba = rf_model.predict_proba(test_X)\n",
    "proba"
   ]
  },
  {
   "cell_type": "code",
   "execution_count": 580,
   "metadata": {
    "ExecuteTime": {
     "end_time": "2020-06-10T05:14:34.470072Z",
     "start_time": "2020-06-10T05:14:34.403250Z"
    }
   },
   "outputs": [
    {
     "data": {
      "text/plain": [
       "array([[0., 0.],\n",
       "       [0., 0.],\n",
       "       [0., 0.],\n",
       "       ...,\n",
       "       [0., 0.],\n",
       "       [0., 0.],\n",
       "       [0., 0.]])"
      ]
     },
     "execution_count": 580,
     "metadata": {},
     "output_type": "execute_result"
    }
   ],
   "source": [
    "y_pred = rf_model.predict(test_X)\n",
    "y_pred"
   ]
  },
  {
   "cell_type": "code",
   "execution_count": null,
   "metadata": {},
   "outputs": [],
   "source": []
  }
 ],
 "metadata": {
  "hide_input": false,
  "kernelspec": {
   "display_name": "Python 3",
   "language": "python",
   "name": "python3"
  },
  "language_info": {
   "codemirror_mode": {
    "name": "ipython",
    "version": 3
   },
   "file_extension": ".py",
   "mimetype": "text/x-python",
   "name": "python",
   "nbconvert_exporter": "python",
   "pygments_lexer": "ipython3",
   "version": "3.7.4"
  },
  "toc": {
   "base_numbering": 1,
   "nav_menu": {},
   "number_sections": true,
   "sideBar": true,
   "skip_h1_title": false,
   "title_cell": "Table of Contents",
   "title_sidebar": "Contents",
   "toc_cell": false,
   "toc_position": {
    "height": "calc(100% - 180px)",
    "left": "10px",
    "top": "150px",
    "width": "426.667px"
   },
   "toc_section_display": true,
   "toc_window_display": true
  }
 },
 "nbformat": 4,
 "nbformat_minor": 2
}
