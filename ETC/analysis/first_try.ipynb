{
 "cells": [
  {
   "cell_type": "markdown",
   "metadata": {},
   "source": [
    "# Random Forest"
   ]
  },
  {
   "cell_type": "code",
   "execution_count": 77,
   "metadata": {},
   "outputs": [],
   "source": [
    "from sklearn.ensemble import RandomForestClassifier\n",
    "from sklearn.metrics import accuracy_score\n",
    "from sklearn.model_selection import train_test_split\n",
    "\n",
    "import pandas as pd"
   ]
  },
  {
   "cell_type": "markdown",
   "metadata": {},
   "source": [
    "## 24시간"
   ]
  },
  {
   "cell_type": "code",
   "execution_count": 86,
   "metadata": {},
   "outputs": [],
   "source": [
    "def get_train_test_24( ):\n",
    "    \n",
    "    train = pd.read_csv('../data/plant_train_final.csv')\n",
    "    test = pd.read_csv('../data/plant_test.csv')\n",
    "    \n",
    "    X_train = train.iloc[:, 1:8]\n",
    "    X_test = test.iloc[:, 1:8]\n",
    "    y_train = train.iloc[:, 10]\n",
    "    y_test = test.iloc[:, 9]\n",
    "\n",
    "    return X_train, X_test, y_train, y_test\n",
    "\n",
    "X_train, X_test, y_train, y_test = get_train_test_24()\n",
    "\n",
    "# def get_train_test_24( ):\n",
    "    \n",
    "#     train = pd.read_csv('../data/plant_train_final.csv')\n",
    "    \n",
    "# #     train['MEA_DDHR'] = pd.to_datetime(train['MEA_DDHR'])\n",
    "    \n",
    "#     data = train.iloc[:, 1:8]\n",
    "#     target = train.iloc[:, 10]\n",
    "    \n",
    "#     X_train, X_test, y_train, y_test = train_test_split(data, target, \n",
    "#                                                     test_size=0.2 , random_state= 156)\n",
    "\n",
    "#     return X_train, X_test, y_train, y_test\n",
    "\n",
    "# X_train, X_test, y_train, y_test = get_train_test_24()"
   ]
  },
  {
   "cell_type": "code",
   "execution_count": 87,
   "metadata": {},
   "outputs": [
    {
     "data": {
      "text/html": [
       "<div>\n",
       "<style scoped>\n",
       "    .dataframe tbody tr th:only-of-type {\n",
       "        vertical-align: middle;\n",
       "    }\n",
       "\n",
       "    .dataframe tbody tr th {\n",
       "        vertical-align: top;\n",
       "    }\n",
       "\n",
       "    .dataframe thead th {\n",
       "        text-align: right;\n",
       "    }\n",
       "</style>\n",
       "<table border=\"1\" class=\"dataframe\">\n",
       "  <thead>\n",
       "    <tr style=\"text-align: right;\">\n",
       "      <th></th>\n",
       "      <th>PLANT</th>\n",
       "      <th>LOC</th>\n",
       "      <th>TEM_IN</th>\n",
       "      <th>HUM_IN</th>\n",
       "      <th>TEM_COIL</th>\n",
       "      <th>TEM_OUT_LOC1</th>\n",
       "      <th>HUM_OUT_LOC1</th>\n",
       "    </tr>\n",
       "  </thead>\n",
       "  <tbody>\n",
       "    <tr>\n",
       "      <th>0</th>\n",
       "      <td>1</td>\n",
       "      <td>1</td>\n",
       "      <td>16.0</td>\n",
       "      <td>24.0</td>\n",
       "      <td>10.0</td>\n",
       "      <td>13.0</td>\n",
       "      <td>32.0</td>\n",
       "    </tr>\n",
       "    <tr>\n",
       "      <th>1</th>\n",
       "      <td>1</td>\n",
       "      <td>2</td>\n",
       "      <td>11.0</td>\n",
       "      <td>14.0</td>\n",
       "      <td>9.0</td>\n",
       "      <td>13.0</td>\n",
       "      <td>32.0</td>\n",
       "    </tr>\n",
       "    <tr>\n",
       "      <th>2</th>\n",
       "      <td>1</td>\n",
       "      <td>3</td>\n",
       "      <td>23.0</td>\n",
       "      <td>11.0</td>\n",
       "      <td>42.0</td>\n",
       "      <td>13.0</td>\n",
       "      <td>32.0</td>\n",
       "    </tr>\n",
       "    <tr>\n",
       "      <th>3</th>\n",
       "      <td>1</td>\n",
       "      <td>1</td>\n",
       "      <td>16.0</td>\n",
       "      <td>28.0</td>\n",
       "      <td>9.0</td>\n",
       "      <td>14.0</td>\n",
       "      <td>30.0</td>\n",
       "    </tr>\n",
       "    <tr>\n",
       "      <th>4</th>\n",
       "      <td>1</td>\n",
       "      <td>2</td>\n",
       "      <td>10.0</td>\n",
       "      <td>15.0</td>\n",
       "      <td>18.0</td>\n",
       "      <td>14.0</td>\n",
       "      <td>30.0</td>\n",
       "    </tr>\n",
       "  </tbody>\n",
       "</table>\n",
       "</div>"
      ],
      "text/plain": [
       "   PLANT  LOC  TEM_IN  HUM_IN  TEM_COIL  TEM_OUT_LOC1  HUM_OUT_LOC1\n",
       "0      1    1    16.0    24.0      10.0          13.0          32.0\n",
       "1      1    2    11.0    14.0       9.0          13.0          32.0\n",
       "2      1    3    23.0    11.0      42.0          13.0          32.0\n",
       "3      1    1    16.0    28.0       9.0          14.0          30.0\n",
       "4      1    2    10.0    15.0      18.0          14.0          30.0"
      ]
     },
     "execution_count": 87,
     "metadata": {},
     "output_type": "execute_result"
    }
   ],
   "source": [
    "X_train.head()"
   ]
  },
  {
   "cell_type": "code",
   "execution_count": 88,
   "metadata": {},
   "outputs": [],
   "source": [
    "def get_prediction():\n",
    "    \n",
    "    rf_clf = RandomForestClassifier(random_state=0)\n",
    "    rf_clf.fit(X_train , y_train)\n",
    "    pred = rf_clf.predict(X_test)\n",
    "    \n",
    "    return pred"
   ]
  },
  {
   "cell_type": "code",
   "execution_count": 89,
   "metadata": {},
   "outputs": [],
   "source": [
    "pred_24 = get_prediction()"
   ]
  },
  {
   "cell_type": "code",
   "execution_count": 90,
   "metadata": {},
   "outputs": [],
   "source": [
    "pred_sr = pd.Series(pred_24)"
   ]
  },
  {
   "cell_type": "code",
   "execution_count": 91,
   "metadata": {},
   "outputs": [
    {
     "data": {
      "text/plain": [
       "0.0    3538\n",
       "1.0       1\n",
       "dtype: int64"
      ]
     },
     "execution_count": 91,
     "metadata": {},
     "output_type": "execute_result"
    }
   ],
   "source": [
    "pred_sr.value_counts()"
   ]
  },
  {
   "cell_type": "code",
   "execution_count": 84,
   "metadata": {},
   "outputs": [
    {
     "name": "stdout",
     "output_type": "stream",
     "text": [
      "정확도:  0.9962459880788629\n"
     ]
    }
   ],
   "source": [
    "accuracy = accuracy_score(y_test , pred_24)\n",
    "print(\"정확도: \", accuracy)"
   ]
  },
  {
   "cell_type": "code",
   "execution_count": 97,
   "metadata": {},
   "outputs": [],
   "source": [
    "# pred_24_prob = rf_clf.predict_proba(X_test)\n",
    "# pred_24_prob"
   ]
  },
  {
   "cell_type": "markdown",
   "metadata": {},
   "source": [
    "## 48시간"
   ]
  },
  {
   "cell_type": "code",
   "execution_count": 92,
   "metadata": {},
   "outputs": [],
   "source": [
    "def get_train_test_48( ):\n",
    "    \n",
    "    train = pd.read_csv('../data/plant_train_final.csv')\n",
    "    test = pd.read_csv('../data/plant_test.csv')\n",
    "    \n",
    "    X_train = train.iloc[:, 1:8]\n",
    "    X_test = test.iloc[:, 1:8]\n",
    "    y_train = train.iloc[:, 12]\n",
    "    y_test = test.iloc[:, 11]\n",
    "\n",
    "    return X_train, X_test, y_train, y_test\n",
    "\n",
    "X_train, X_test, y_train, y_test = get_train_test_48()"
   ]
  },
  {
   "cell_type": "code",
   "execution_count": 93,
   "metadata": {},
   "outputs": [],
   "source": [
    "pred_48 = get_prediction()"
   ]
  },
  {
   "cell_type": "code",
   "execution_count": 94,
   "metadata": {},
   "outputs": [
    {
     "data": {
      "text/plain": [
       "0.0    3539\n",
       "dtype: int64"
      ]
     },
     "execution_count": 94,
     "metadata": {},
     "output_type": "execute_result"
    }
   ],
   "source": [
    "pred_sr_48 = pd.Series(pred)\n",
    "pred_sr_48.value_counts()"
   ]
  },
  {
   "cell_type": "code",
   "execution_count": 57,
   "metadata": {},
   "outputs": [],
   "source": [
    "import matplotlib.pyplot as plt\n",
    "import numpy as np"
   ]
  },
  {
   "cell_type": "code",
   "execution_count": 85,
   "metadata": {},
   "outputs": [],
   "source": [
    "# X_train.columns.values\n",
    "# rf_clf = pd.DataFrame(data=np.c_[X_train.columns.values,rf_clf.feature_importances_],columns=[\"variable\", \"importance\"])\n",
    "# rf_clf.sort_values(by=\"importance\", ascending=False, inplace=True)\n",
    "# plt.figure(figsize=(30, 12))\n",
    "# plt.bar(rf_clf.variable, rf_clf.cum_sum)\n",
    "# plt.xticks(rotation=90, fontproperties=font_prop)\n",
    "# plt.show()"
   ]
  },
  {
   "cell_type": "markdown",
   "metadata": {},
   "source": [
    "# validation"
   ]
  },
  {
   "cell_type": "code",
   "execution_count": 63,
   "metadata": {
    "scrolled": true
   },
   "outputs": [
    {
     "data": {
      "text/html": [
       "<div>\n",
       "<style scoped>\n",
       "    .dataframe tbody tr th:only-of-type {\n",
       "        vertical-align: middle;\n",
       "    }\n",
       "\n",
       "    .dataframe tbody tr th {\n",
       "        vertical-align: top;\n",
       "    }\n",
       "\n",
       "    .dataframe thead th {\n",
       "        text-align: right;\n",
       "    }\n",
       "</style>\n",
       "<table border=\"1\" class=\"dataframe\">\n",
       "  <thead>\n",
       "    <tr style=\"text-align: right;\">\n",
       "      <th></th>\n",
       "      <th>MEA_DDHR</th>\n",
       "      <th>PLANT</th>\n",
       "      <th>LOC</th>\n",
       "      <th>X24H_TMA</th>\n",
       "      <th>X24H_COND_LOC</th>\n",
       "      <th>X24H_COND_LOC_PROB</th>\n",
       "      <th>X48H_TMA</th>\n",
       "      <th>X48H_COND_LOC</th>\n",
       "      <th>X48H_COND_LOC_PROB</th>\n",
       "    </tr>\n",
       "  </thead>\n",
       "  <tbody>\n",
       "    <tr>\n",
       "      <th>0</th>\n",
       "      <td>2019-04-01 0:00</td>\n",
       "      <td>2</td>\n",
       "      <td>3</td>\n",
       "      <td>2019-04-02 0:00</td>\n",
       "      <td>NaN</td>\n",
       "      <td>NaN</td>\n",
       "      <td>2019-04-03 0:00</td>\n",
       "      <td>NaN</td>\n",
       "      <td>NaN</td>\n",
       "    </tr>\n",
       "    <tr>\n",
       "      <th>1</th>\n",
       "      <td>2019-04-01 4:30</td>\n",
       "      <td>1</td>\n",
       "      <td>2</td>\n",
       "      <td>2019-04-02 4:30</td>\n",
       "      <td>NaN</td>\n",
       "      <td>NaN</td>\n",
       "      <td>2019-04-03 4:30</td>\n",
       "      <td>NaN</td>\n",
       "      <td>NaN</td>\n",
       "    </tr>\n",
       "    <tr>\n",
       "      <th>2</th>\n",
       "      <td>2019-04-01 10:30</td>\n",
       "      <td>2</td>\n",
       "      <td>3</td>\n",
       "      <td>2019-04-02 10:30</td>\n",
       "      <td>NaN</td>\n",
       "      <td>NaN</td>\n",
       "      <td>2019-04-03 10:30</td>\n",
       "      <td>NaN</td>\n",
       "      <td>NaN</td>\n",
       "    </tr>\n",
       "    <tr>\n",
       "      <th>3</th>\n",
       "      <td>2019-04-01 11:00</td>\n",
       "      <td>1</td>\n",
       "      <td>1</td>\n",
       "      <td>2019-04-02 11:00</td>\n",
       "      <td>NaN</td>\n",
       "      <td>NaN</td>\n",
       "      <td>2019-04-03 11:00</td>\n",
       "      <td>NaN</td>\n",
       "      <td>NaN</td>\n",
       "    </tr>\n",
       "    <tr>\n",
       "      <th>4</th>\n",
       "      <td>2019-04-01 13:30</td>\n",
       "      <td>2</td>\n",
       "      <td>1</td>\n",
       "      <td>2019-04-02 13:30</td>\n",
       "      <td>NaN</td>\n",
       "      <td>NaN</td>\n",
       "      <td>2019-04-03 13:30</td>\n",
       "      <td>NaN</td>\n",
       "      <td>NaN</td>\n",
       "    </tr>\n",
       "  </tbody>\n",
       "</table>\n",
       "</div>"
      ],
      "text/plain": [
       "           MEA_DDHR  PLANT  LOC          X24H_TMA  X24H_COND_LOC  \\\n",
       "0   2019-04-01 0:00      2    3   2019-04-02 0:00            NaN   \n",
       "1   2019-04-01 4:30      1    2   2019-04-02 4:30            NaN   \n",
       "2  2019-04-01 10:30      2    3  2019-04-02 10:30            NaN   \n",
       "3  2019-04-01 11:00      1    1  2019-04-02 11:00            NaN   \n",
       "4  2019-04-01 13:30      2    1  2019-04-02 13:30            NaN   \n",
       "\n",
       "   X24H_COND_LOC_PROB          X48H_TMA  X48H_COND_LOC  X48H_COND_LOC_PROB  \n",
       "0                 NaN   2019-04-03 0:00            NaN                 NaN  \n",
       "1                 NaN   2019-04-03 4:30            NaN                 NaN  \n",
       "2                 NaN  2019-04-03 10:30            NaN                 NaN  \n",
       "3                 NaN  2019-04-03 11:00            NaN                 NaN  \n",
       "4                 NaN  2019-04-03 13:30            NaN                 NaN  "
      ]
     },
     "execution_count": 63,
     "metadata": {},
     "output_type": "execute_result"
    }
   ],
   "source": [
    "val = pd.read_csv('../data/validation.csv')\n",
    "val.head()"
   ]
  },
  {
   "cell_type": "code",
   "execution_count": 74,
   "metadata": {},
   "outputs": [
    {
     "data": {
      "text/html": [
       "<div>\n",
       "<style scoped>\n",
       "    .dataframe tbody tr th:only-of-type {\n",
       "        vertical-align: middle;\n",
       "    }\n",
       "\n",
       "    .dataframe tbody tr th {\n",
       "        vertical-align: top;\n",
       "    }\n",
       "\n",
       "    .dataframe thead th {\n",
       "        text-align: right;\n",
       "    }\n",
       "</style>\n",
       "<table border=\"1\" class=\"dataframe\">\n",
       "  <thead>\n",
       "    <tr style=\"text-align: right;\">\n",
       "      <th></th>\n",
       "      <th>MEA_DDHR</th>\n",
       "      <th>PLANT</th>\n",
       "      <th>LOC</th>\n",
       "      <th>X24H_TMA</th>\n",
       "      <th>X24H_COND_LOC</th>\n",
       "      <th>X24H_COND_LOC_PROB</th>\n",
       "      <th>X48H_TMA</th>\n",
       "      <th>X48H_COND_LOC</th>\n",
       "      <th>X48H_COND_LOC_PROB</th>\n",
       "    </tr>\n",
       "  </thead>\n",
       "  <tbody>\n",
       "    <tr>\n",
       "      <th>0</th>\n",
       "      <td>2019-04-01 0:00</td>\n",
       "      <td>2</td>\n",
       "      <td>3</td>\n",
       "      <td>2019-04-02 0:00</td>\n",
       "      <td>0.0</td>\n",
       "      <td>NaN</td>\n",
       "      <td>2019-04-03 0:00</td>\n",
       "      <td>NaN</td>\n",
       "      <td>NaN</td>\n",
       "    </tr>\n",
       "    <tr>\n",
       "      <th>1</th>\n",
       "      <td>2019-04-01 4:30</td>\n",
       "      <td>1</td>\n",
       "      <td>2</td>\n",
       "      <td>2019-04-02 4:30</td>\n",
       "      <td>0.0</td>\n",
       "      <td>NaN</td>\n",
       "      <td>2019-04-03 4:30</td>\n",
       "      <td>NaN</td>\n",
       "      <td>NaN</td>\n",
       "    </tr>\n",
       "    <tr>\n",
       "      <th>2</th>\n",
       "      <td>2019-04-01 10:30</td>\n",
       "      <td>2</td>\n",
       "      <td>3</td>\n",
       "      <td>2019-04-02 10:30</td>\n",
       "      <td>0.0</td>\n",
       "      <td>NaN</td>\n",
       "      <td>2019-04-03 10:30</td>\n",
       "      <td>NaN</td>\n",
       "      <td>NaN</td>\n",
       "    </tr>\n",
       "    <tr>\n",
       "      <th>3</th>\n",
       "      <td>2019-04-01 11:00</td>\n",
       "      <td>1</td>\n",
       "      <td>1</td>\n",
       "      <td>2019-04-02 11:00</td>\n",
       "      <td>0.0</td>\n",
       "      <td>NaN</td>\n",
       "      <td>2019-04-03 11:00</td>\n",
       "      <td>NaN</td>\n",
       "      <td>NaN</td>\n",
       "    </tr>\n",
       "    <tr>\n",
       "      <th>4</th>\n",
       "      <td>2019-04-01 13:30</td>\n",
       "      <td>2</td>\n",
       "      <td>1</td>\n",
       "      <td>2019-04-02 13:30</td>\n",
       "      <td>0.0</td>\n",
       "      <td>NaN</td>\n",
       "      <td>2019-04-03 13:30</td>\n",
       "      <td>NaN</td>\n",
       "      <td>NaN</td>\n",
       "    </tr>\n",
       "  </tbody>\n",
       "</table>\n",
       "</div>"
      ],
      "text/plain": [
       "           MEA_DDHR  PLANT  LOC          X24H_TMA  X24H_COND_LOC  \\\n",
       "0   2019-04-01 0:00      2    3   2019-04-02 0:00            0.0   \n",
       "1   2019-04-01 4:30      1    2   2019-04-02 4:30            0.0   \n",
       "2  2019-04-01 10:30      2    3  2019-04-02 10:30            0.0   \n",
       "3  2019-04-01 11:00      1    1  2019-04-02 11:00            0.0   \n",
       "4  2019-04-01 13:30      2    1  2019-04-02 13:30            0.0   \n",
       "\n",
       "   X24H_COND_LOC_PROB          X48H_TMA  X48H_COND_LOC  X48H_COND_LOC_PROB  \n",
       "0                 NaN   2019-04-03 0:00            NaN                 NaN  \n",
       "1                 NaN   2019-04-03 4:30            NaN                 NaN  \n",
       "2                 NaN  2019-04-03 10:30            NaN                 NaN  \n",
       "3                 NaN  2019-04-03 11:00            NaN                 NaN  \n",
       "4                 NaN  2019-04-03 13:30            NaN                 NaN  "
      ]
     },
     "execution_count": 74,
     "metadata": {},
     "output_type": "execute_result"
    }
   ],
   "source": [
    "val['X24H_COND_LOC'] = pred_24\n",
    "val.head()"
   ]
  },
  {
   "cell_type": "code",
   "execution_count": 75,
   "metadata": {},
   "outputs": [
    {
     "data": {
      "text/html": [
       "<div>\n",
       "<style scoped>\n",
       "    .dataframe tbody tr th:only-of-type {\n",
       "        vertical-align: middle;\n",
       "    }\n",
       "\n",
       "    .dataframe tbody tr th {\n",
       "        vertical-align: top;\n",
       "    }\n",
       "\n",
       "    .dataframe thead th {\n",
       "        text-align: right;\n",
       "    }\n",
       "</style>\n",
       "<table border=\"1\" class=\"dataframe\">\n",
       "  <thead>\n",
       "    <tr style=\"text-align: right;\">\n",
       "      <th></th>\n",
       "      <th>MEA_DDHR</th>\n",
       "      <th>PLANT</th>\n",
       "      <th>LOC</th>\n",
       "      <th>X24H_TMA</th>\n",
       "      <th>X24H_COND_LOC</th>\n",
       "      <th>X24H_COND_LOC_PROB</th>\n",
       "      <th>X48H_TMA</th>\n",
       "      <th>X48H_COND_LOC</th>\n",
       "      <th>X48H_COND_LOC_PROB</th>\n",
       "    </tr>\n",
       "  </thead>\n",
       "  <tbody>\n",
       "    <tr>\n",
       "      <th>0</th>\n",
       "      <td>2019-04-01 0:00</td>\n",
       "      <td>2</td>\n",
       "      <td>3</td>\n",
       "      <td>2019-04-02 0:00</td>\n",
       "      <td>0.0</td>\n",
       "      <td>NaN</td>\n",
       "      <td>2019-04-03 0:00</td>\n",
       "      <td>0.0</td>\n",
       "      <td>NaN</td>\n",
       "    </tr>\n",
       "    <tr>\n",
       "      <th>1</th>\n",
       "      <td>2019-04-01 4:30</td>\n",
       "      <td>1</td>\n",
       "      <td>2</td>\n",
       "      <td>2019-04-02 4:30</td>\n",
       "      <td>0.0</td>\n",
       "      <td>NaN</td>\n",
       "      <td>2019-04-03 4:30</td>\n",
       "      <td>0.0</td>\n",
       "      <td>NaN</td>\n",
       "    </tr>\n",
       "    <tr>\n",
       "      <th>2</th>\n",
       "      <td>2019-04-01 10:30</td>\n",
       "      <td>2</td>\n",
       "      <td>3</td>\n",
       "      <td>2019-04-02 10:30</td>\n",
       "      <td>0.0</td>\n",
       "      <td>NaN</td>\n",
       "      <td>2019-04-03 10:30</td>\n",
       "      <td>0.0</td>\n",
       "      <td>NaN</td>\n",
       "    </tr>\n",
       "    <tr>\n",
       "      <th>3</th>\n",
       "      <td>2019-04-01 11:00</td>\n",
       "      <td>1</td>\n",
       "      <td>1</td>\n",
       "      <td>2019-04-02 11:00</td>\n",
       "      <td>0.0</td>\n",
       "      <td>NaN</td>\n",
       "      <td>2019-04-03 11:00</td>\n",
       "      <td>0.0</td>\n",
       "      <td>NaN</td>\n",
       "    </tr>\n",
       "    <tr>\n",
       "      <th>4</th>\n",
       "      <td>2019-04-01 13:30</td>\n",
       "      <td>2</td>\n",
       "      <td>1</td>\n",
       "      <td>2019-04-02 13:30</td>\n",
       "      <td>0.0</td>\n",
       "      <td>NaN</td>\n",
       "      <td>2019-04-03 13:30</td>\n",
       "      <td>0.0</td>\n",
       "      <td>NaN</td>\n",
       "    </tr>\n",
       "  </tbody>\n",
       "</table>\n",
       "</div>"
      ],
      "text/plain": [
       "           MEA_DDHR  PLANT  LOC          X24H_TMA  X24H_COND_LOC  \\\n",
       "0   2019-04-01 0:00      2    3   2019-04-02 0:00            0.0   \n",
       "1   2019-04-01 4:30      1    2   2019-04-02 4:30            0.0   \n",
       "2  2019-04-01 10:30      2    3  2019-04-02 10:30            0.0   \n",
       "3  2019-04-01 11:00      1    1  2019-04-02 11:00            0.0   \n",
       "4  2019-04-01 13:30      2    1  2019-04-02 13:30            0.0   \n",
       "\n",
       "   X24H_COND_LOC_PROB          X48H_TMA  X48H_COND_LOC  X48H_COND_LOC_PROB  \n",
       "0                 NaN   2019-04-03 0:00            0.0                 NaN  \n",
       "1                 NaN   2019-04-03 4:30            0.0                 NaN  \n",
       "2                 NaN  2019-04-03 10:30            0.0                 NaN  \n",
       "3                 NaN  2019-04-03 11:00            0.0                 NaN  \n",
       "4                 NaN  2019-04-03 13:30            0.0                 NaN  "
      ]
     },
     "execution_count": 75,
     "metadata": {},
     "output_type": "execute_result"
    }
   ],
   "source": [
    "val['X48H_COND_LOC'] = pred_48\n",
    "val.head()"
   ]
  },
  {
   "cell_type": "code",
   "execution_count": 1,
   "metadata": {},
   "outputs": [
    {
     "data": {
      "text/html": [
       "<div>\n",
       "<style scoped>\n",
       "    .dataframe tbody tr th:only-of-type {\n",
       "        vertical-align: middle;\n",
       "    }\n",
       "\n",
       "    .dataframe tbody tr th {\n",
       "        vertical-align: top;\n",
       "    }\n",
       "\n",
       "    .dataframe thead th {\n",
       "        text-align: right;\n",
       "    }\n",
       "</style>\n",
       "<table border=\"1\" class=\"dataframe\">\n",
       "  <thead>\n",
       "    <tr style=\"text-align: right;\">\n",
       "      <th></th>\n",
       "      <th>MEA_DDHR</th>\n",
       "      <th>PLANT</th>\n",
       "      <th>LOC</th>\n",
       "      <th>TEM_IN</th>\n",
       "      <th>HUM_IN</th>\n",
       "      <th>TEM_COIL</th>\n",
       "      <th>TEM_OUT_LOC1</th>\n",
       "      <th>HUM_OUT_LOC1</th>\n",
       "      <th>COND</th>\n",
       "      <th>X24_TMA</th>\n",
       "      <th>X24H_COND_LOC</th>\n",
       "      <th>X48_TMA</th>\n",
       "      <th>X48H_COND_LOC</th>\n",
       "    </tr>\n",
       "  </thead>\n",
       "  <tbody>\n",
       "    <tr>\n",
       "      <th>0</th>\n",
       "      <td>2016-04-01 00:00:00</td>\n",
       "      <td>1</td>\n",
       "      <td>1</td>\n",
       "      <td>16.0</td>\n",
       "      <td>24.0</td>\n",
       "      <td>10.0</td>\n",
       "      <td>13.0</td>\n",
       "      <td>32.0</td>\n",
       "      <td>0.0</td>\n",
       "      <td>2016-04-02 00:00:00</td>\n",
       "      <td>0.0</td>\n",
       "      <td>2016-04-03 00:00:00</td>\n",
       "      <td>0.0</td>\n",
       "    </tr>\n",
       "    <tr>\n",
       "      <th>1</th>\n",
       "      <td>2016-04-01 00:00:00</td>\n",
       "      <td>1</td>\n",
       "      <td>2</td>\n",
       "      <td>11.0</td>\n",
       "      <td>14.0</td>\n",
       "      <td>9.0</td>\n",
       "      <td>13.0</td>\n",
       "      <td>32.0</td>\n",
       "      <td>0.0</td>\n",
       "      <td>2016-04-02 00:00:00</td>\n",
       "      <td>0.0</td>\n",
       "      <td>2016-04-03 00:00:00</td>\n",
       "      <td>0.0</td>\n",
       "    </tr>\n",
       "    <tr>\n",
       "      <th>2</th>\n",
       "      <td>2016-04-01 00:00:00</td>\n",
       "      <td>1</td>\n",
       "      <td>3</td>\n",
       "      <td>23.0</td>\n",
       "      <td>11.0</td>\n",
       "      <td>42.0</td>\n",
       "      <td>13.0</td>\n",
       "      <td>32.0</td>\n",
       "      <td>0.0</td>\n",
       "      <td>2016-04-02 00:00:00</td>\n",
       "      <td>0.0</td>\n",
       "      <td>2016-04-03 00:00:00</td>\n",
       "      <td>0.0</td>\n",
       "    </tr>\n",
       "    <tr>\n",
       "      <th>3</th>\n",
       "      <td>2016-04-01 12:00:00</td>\n",
       "      <td>1</td>\n",
       "      <td>1</td>\n",
       "      <td>16.0</td>\n",
       "      <td>28.0</td>\n",
       "      <td>9.0</td>\n",
       "      <td>14.0</td>\n",
       "      <td>30.0</td>\n",
       "      <td>0.0</td>\n",
       "      <td>2016-04-02 12:00:00</td>\n",
       "      <td>0.0</td>\n",
       "      <td>2016-04-03 12:00:00</td>\n",
       "      <td>0.0</td>\n",
       "    </tr>\n",
       "    <tr>\n",
       "      <th>4</th>\n",
       "      <td>2016-04-01 12:00:00</td>\n",
       "      <td>1</td>\n",
       "      <td>2</td>\n",
       "      <td>10.0</td>\n",
       "      <td>15.0</td>\n",
       "      <td>18.0</td>\n",
       "      <td>14.0</td>\n",
       "      <td>30.0</td>\n",
       "      <td>0.0</td>\n",
       "      <td>2016-04-02 12:00:00</td>\n",
       "      <td>0.0</td>\n",
       "      <td>2016-04-03 12:00:00</td>\n",
       "      <td>0.0</td>\n",
       "    </tr>\n",
       "  </tbody>\n",
       "</table>\n",
       "</div>"
      ],
      "text/plain": [
       "              MEA_DDHR  PLANT  LOC  TEM_IN  HUM_IN  TEM_COIL  TEM_OUT_LOC1  \\\n",
       "0  2016-04-01 00:00:00      1    1    16.0    24.0      10.0          13.0   \n",
       "1  2016-04-01 00:00:00      1    2    11.0    14.0       9.0          13.0   \n",
       "2  2016-04-01 00:00:00      1    3    23.0    11.0      42.0          13.0   \n",
       "3  2016-04-01 12:00:00      1    1    16.0    28.0       9.0          14.0   \n",
       "4  2016-04-01 12:00:00      1    2    10.0    15.0      18.0          14.0   \n",
       "\n",
       "   HUM_OUT_LOC1  COND              X24_TMA  X24H_COND_LOC  \\\n",
       "0          32.0   0.0  2016-04-02 00:00:00            0.0   \n",
       "1          32.0   0.0  2016-04-02 00:00:00            0.0   \n",
       "2          32.0   0.0  2016-04-02 00:00:00            0.0   \n",
       "3          30.0   0.0  2016-04-02 12:00:00            0.0   \n",
       "4          30.0   0.0  2016-04-02 12:00:00            0.0   \n",
       "\n",
       "               X48_TMA  X48H_COND_LOC  \n",
       "0  2016-04-03 00:00:00            0.0  \n",
       "1  2016-04-03 00:00:00            0.0  \n",
       "2  2016-04-03 00:00:00            0.0  \n",
       "3  2016-04-03 12:00:00            0.0  \n",
       "4  2016-04-03 12:00:00            0.0  "
      ]
     },
     "execution_count": 1,
     "metadata": {},
     "output_type": "execute_result"
    }
   ],
   "source": [
    "import pandas as pd\n",
    "plant = pd.read_csv('../data/plant_train_final.csv')\n",
    "plant.head()"
   ]
  },
  {
   "cell_type": "code",
   "execution_count": 8,
   "metadata": {},
   "outputs": [
    {
     "data": {
      "text/plain": [
       "<matplotlib.axes._subplots.AxesSubplot at 0x2138acd3608>"
      ]
     },
     "execution_count": 8,
     "metadata": {},
     "output_type": "execute_result"
    },
    {
     "data": {
      "image/png": "[encoded data removed]",
      "text/plain": [
       "<Figure size 432x288 with 1 Axes>"
      ]
     },
     "metadata": {
      "needs_background": "light"
     },
     "output_type": "display_data"
    }
   ],
   "source": [
    "import seaborn as sns\n",
    "sns.distplot(plant[\"TEM_IN\"])"
   ]
  },
  {
   "cell_type": "code",
   "execution_count": null,
   "metadata": {},
   "outputs": [],
   "source": []
  }
 ],
 "metadata": {
  "kernelspec": {
   "display_name": "Python 3",
   "language": "python",
   "name": "python3"
  },
  "language_info": {
   "codemirror_mode": {
    "name": "ipython",
    "version": 3
   },
   "file_extension": ".py",
   "mimetype": "text/x-python",
   "name": "python",
   "nbconvert_exporter": "python",
   "pygments_lexer": "ipython3",
   "version": "3.7.6"
  },
  "toc": {
   "base_numbering": 1,
   "nav_menu": {},
   "number_sections": true,
   "sideBar": true,
   "skip_h1_title": false,
   "title_cell": "Table of Contents",
   "title_sidebar": "Contents",
   "toc_cell": false,
   "toc_position": {},
   "toc_section_display": true,
   "toc_window_display": false
  },
  "varInspector": {
   "cols": {
    "lenName": 16,
    "lenType": 16,
    "lenVar": 40
   },
   "kernels_config": {
    "python": {
     "delete_cmd_postfix": "",
     "delete_cmd_prefix": "del ",
     "library": "var_list.py",
     "varRefreshCmd": "print(var_dic_list())"
    },
    "r": {
     "delete_cmd_postfix": ") ",
     "delete_cmd_prefix": "rm(",
     "library": "var_list.r",
     "varRefreshCmd": "cat(var_dic_list()) "
    }
   },
   "types_to_exclude": [
    "module",
    "function",
    "builtin_function_or_method",
    "instance",
    "_Feature"
   ],
   "window_display": false
  }
 },
 "nbformat": 4,
 "nbformat_minor": 4
}
