{
 "cells": [
  {
   "cell_type": "markdown",
   "metadata": {},
   "source": [
    "# 함수"
   ]
  },
  {
   "cell_type": "code",
   "execution_count": 5,
   "metadata": {},
   "outputs": [],
   "source": [
    "def drop_cols(data):\n",
    "    drop_cols = data.columns[data.columns.str.contains('qcflg|crob|yn')]\n",
    "    data = data.drop(columns=drop_cols)\n",
    "    data = data.drop(columns=['Unnamed: 0', 'orgn_stn_id'])\n",
    "    return data"
   ]
  },
  {
   "cell_type": "code",
   "execution_count": 6,
   "metadata": {},
   "outputs": [],
   "source": [
    "def sort_by(data, colname):\n",
    "    data = data.sort_values(by=colname)\n",
    "    data = data.reset_index()\n",
    "    del data['index']\n",
    "    \n",
    "    return data"
   ]
  },
  {
   "cell_type": "code",
   "execution_count": 7,
   "metadata": {},
   "outputs": [],
   "source": [
    "def multi_distplot(data):\n",
    "    \n",
    "    col_n = data.shape[1] - 2\n",
    "    plt.figure(figsize=(15,20))\n",
    "\n",
    "    for i in range(col_n):\n",
    "        plt.subplot(6, 4, i+1)\n",
    "        sns.distplot(data.iloc[:,i+2], kde=False)"
   ]
  },
  {
   "cell_type": "markdown",
   "metadata": {},
   "source": [
    "# sea_buoy"
   ]
  },
  {
   "cell_type": "markdown",
   "metadata": {},
   "source": [
    "## 데이터 확인"
   ]
  },
  {
   "cell_type": "code",
   "execution_count": 2,
   "metadata": {},
   "outputs": [],
   "source": [
    "import pandas as pd\n",
    "import matplotlib.pyplot as plt\n",
    "import seaborn as sns"
   ]
  },
  {
   "cell_type": "code",
   "execution_count": 10,
   "metadata": {
    "scrolled": true
   },
   "outputs": [
    {
     "name": "stdout",
     "output_type": "stream",
     "text": [
      "<class 'pandas.core.frame.DataFrame'>\n",
      "RangeIndex: 69245 entries, 0 to 69244\n",
      "Data columns (total 69 columns):\n",
      " #   Column             Non-Null Count  Dtype  \n",
      "---  ------             --------------  -----  \n",
      " 0   Unnamed: 0         69245 non-null  int64  \n",
      " 1   tm                 69245 non-null  object \n",
      " 2   stn_id             69245 non-null  int64  \n",
      " 3   wd_n1              69175 non-null  float64\n",
      " 4   wd_n1_qcflg        29074 non-null  float64\n",
      " 5   wd_n1_crob         71 non-null     float64\n",
      " 6   ws_n1              69171 non-null  float64\n",
      " 7   ws_n1_qcflg        29076 non-null  float64\n",
      " 8   ws_n1_crob         75 non-null     float64\n",
      " 9   gust_ws_n1         69117 non-null  float64\n",
      " 10  gust_ws_n1_qcflg   29107 non-null  float64\n",
      " 11  gust_ws_n1_crob    128 non-null    float64\n",
      " 12  wd_n2              69076 non-null  float64\n",
      " 13  wd_n2_qcflg        29174 non-null  float64\n",
      " 14  wd_n2_crob         170 non-null    float64\n",
      " 15  ws_n2              69072 non-null  float64\n",
      " 16  ws_n2_qcflg        29176 non-null  float64\n",
      " 17  ws_n2_crob         174 non-null    float64\n",
      " 18  gust_ws_n2         69050 non-null  float64\n",
      " 19  gust_ws_n2_qcflg   29190 non-null  float64\n",
      " 20  gust_ws_n2_crob    195 non-null    float64\n",
      " 21  pa                 68652 non-null  float64\n",
      " 22  pa_qcflg           29597 non-null  float64\n",
      " 23  pa_crob            594 non-null    float64\n",
      " 24  hm                 68202 non-null  float64\n",
      " 25  hm_qcflg           29417 non-null  float64\n",
      " 26  hm_crob            1043 non-null   float64\n",
      " 27  ta                 68995 non-null  float64\n",
      " 28  ta_qcflg           29083 non-null  float64\n",
      " 29  ta_crob            250 non-null    float64\n",
      " 30  wrtm               69175 non-null  float64\n",
      " 31  wrtm_qcflg         29074 non-null  float64\n",
      " 32  wrtm_crob          73 non-null     float64\n",
      " 33  max_wh             69086 non-null  float64\n",
      " 34  max_wh_qcflg       29146 non-null  float64\n",
      " 35  max_wh_crob        132 non-null    float64\n",
      " 36  atent_wh           68523 non-null  float64\n",
      " 37  atent_wh_qcflg     29304 non-null  float64\n",
      " 38  atent_wh_crob      736 non-null    float64\n",
      " 39  avg_wh             66142 non-null  float64\n",
      " 40  avg_wh_qcflg       30078 non-null  float64\n",
      " 41  avg_wh_crob        3153 non-null   float64\n",
      " 42  wvprd              68878 non-null  float64\n",
      " 43  wvprd_qcflg        29320 non-null  float64\n",
      " 44  wvprd_crob         368 non-null    float64\n",
      " 45  wvdr               69169 non-null  float64\n",
      " 46  wvdr_qcflg         29075 non-null  float64\n",
      " 47  wvdr_crob          76 non-null     float64\n",
      " 48  rqmod_rslt         27128 non-null  object \n",
      " 49  m_qc_rslt          1781 non-null   float64\n",
      " 50  atent_wh_srv_yn    0 non-null      float64\n",
      " 51  avg_wh_srv_yn      0 non-null      float64\n",
      " 52  gust_ws_n1_srv_yn  0 non-null      float64\n",
      " 53  gust_ws_n2_srv_yn  0 non-null      float64\n",
      " 54  gust_ws_sen_cls    0 non-null      float64\n",
      " 55  hm_srv_yn          0 non-null      float64\n",
      " 56  max_wh_srv_yn      0 non-null      float64\n",
      " 57  orgn_stn_id        0 non-null      float64\n",
      " 58  pa_srv_yn          0 non-null      float64\n",
      " 59  ta_srv_yn          0 non-null      float64\n",
      " 60  wd_n1_srv_yn       0 non-null      float64\n",
      " 61  wd_n2_srv_yn       0 non-null      float64\n",
      " 62  wd_sen_cls         0 non-null      float64\n",
      " 63  wrtm_srv_yn        0 non-null      float64\n",
      " 64  ws_n1_srv_yn       0 non-null      float64\n",
      " 65  ws_n2_srv_yn       0 non-null      float64\n",
      " 66  ws_sen_cls         0 non-null      float64\n",
      " 67  wvdr_srv_yn        0 non-null      float64\n",
      " 68  wvprd_srv_yn       0 non-null      float64\n",
      "dtypes: float64(65), int64(2), object(2)\n",
      "memory usage: 36.5+ MB\n"
     ]
    },
    {
     "name": "stderr",
     "output_type": "stream",
     "text": [
      "C:\\Users\\B0113\\anaconda3\\lib\\site-packages\\IPython\\core\\interactiveshell.py:3063: DtypeWarning: Columns (48) have mixed types.Specify dtype option on import or set low_memory=False.\n",
      "  interactivity=interactivity, compiler=compiler, result=result)\n"
     ]
    }
   ],
   "source": [
    "bu = pd.read_csv('../data/weather/raw/sea_buoy.csv')\n",
    "bu.info()"
   ]
  },
  {
   "cell_type": "markdown",
   "metadata": {},
   "source": [
    "## 컬럼정리"
   ]
  },
  {
   "cell_type": "code",
   "execution_count": 11,
   "metadata": {},
   "outputs": [
    {
     "data": {
      "text/plain": [
       "tm                 0.000000\n",
       "stn_id             0.000000\n",
       "wd_n1              0.001011\n",
       "ws_n1              0.001069\n",
       "gust_ws_n1         0.001849\n",
       "wd_n2              0.002441\n",
       "ws_n2              0.002498\n",
       "gust_ws_n2         0.002816\n",
       "pa                 0.008564\n",
       "hm                 0.015062\n",
       "ta                 0.003610\n",
       "wrtm               0.001011\n",
       "max_wh             0.002296\n",
       "atent_wh           0.010427\n",
       "avg_wh             0.044812\n",
       "wvprd              0.005300\n",
       "wvdr               0.001098\n",
       "rqmod_rslt         0.608232\n",
       "m_qc_rslt          0.974280\n",
       "gust_ws_sen_cls    1.000000\n",
       "wd_sen_cls         1.000000\n",
       "ws_sen_cls         1.000000\n",
       "dtype: float64"
      ]
     },
     "execution_count": 11,
     "metadata": {},
     "output_type": "execute_result"
    }
   ],
   "source": [
    "bu = drop_cols(bu)\n",
    "bu.isnull().mean()"
   ]
  },
  {
   "cell_type": "code",
   "execution_count": 12,
   "metadata": {},
   "outputs": [
    {
     "data": {
      "text/plain": [
       "tm               0\n",
       "stn_id           0\n",
       "wd_n1           70\n",
       "ws_n1           74\n",
       "gust_ws_n1     128\n",
       "wd_n2          169\n",
       "ws_n2          173\n",
       "gust_ws_n2     195\n",
       "pa             593\n",
       "hm            1043\n",
       "ta             250\n",
       "wrtm            70\n",
       "max_wh         159\n",
       "atent_wh       722\n",
       "avg_wh        3103\n",
       "wvprd          367\n",
       "wvdr            76\n",
       "dtype: int64"
      ]
     },
     "execution_count": 12,
     "metadata": {},
     "output_type": "execute_result"
    }
   ],
   "source": [
    "bu = bu.drop(columns=['m_qc_rslt', 'rqmod_rslt', 'gust_ws_sen_cls', 'wd_sen_cls', 'ws_sen_cls'])\n",
    "bu.isnull().sum()"
   ]
  },
  {
   "cell_type": "code",
   "execution_count": 14,
   "metadata": {},
   "outputs": [
    {
     "data": {
      "text/plain": [
       "Index(['tm', 'stn_id', 'wd_n1', 'ws_n1', 'gust_ws_n1', 'wd_n2', 'ws_n2',\n",
       "       'gust_ws_n2', 'pa', 'hm', 'ta', 'wrtm', 'max_wh', 'atent_wh', 'avg_wh',\n",
       "       'wvprd', 'wvdr'],\n",
       "      dtype='object')"
      ]
     },
     "execution_count": 14,
     "metadata": {},
     "output_type": "execute_result"
    }
   ],
   "source": [
    "bu.columns"
   ]
  },
  {
   "cell_type": "code",
   "execution_count": 15,
   "metadata": {},
   "outputs": [],
   "source": [
    "bu.columns = ['tma', 'stn_id', 'wd_n1', 'ws_n1', 'gust_ws_n1', 'wd_n2', 'ws_n2',\n",
    "       'gust_ws_n2', 'pa', 'hm', 'ta', 'wrtm', 'max_wh', 'atent_wh', 'avg_wh',\n",
    "       'wvprd', 'wvdr']"
   ]
  },
  {
   "cell_type": "markdown",
   "metadata": {},
   "source": [
    "## 데이터타입 정리"
   ]
  },
  {
   "cell_type": "code",
   "execution_count": 16,
   "metadata": {},
   "outputs": [
    {
     "data": {
      "text/plain": [
       "tma           datetime64[ns]\n",
       "stn_id                 int64\n",
       "wd_n1                float64\n",
       "ws_n1                float64\n",
       "gust_ws_n1           float64\n",
       "wd_n2                float64\n",
       "ws_n2                float64\n",
       "gust_ws_n2           float64\n",
       "pa                   float64\n",
       "hm                   float64\n",
       "ta                   float64\n",
       "wrtm                 float64\n",
       "max_wh               float64\n",
       "atent_wh             float64\n",
       "avg_wh               float64\n",
       "wvprd                float64\n",
       "wvdr                 float64\n",
       "dtype: object"
      ]
     },
     "execution_count": 16,
     "metadata": {},
     "output_type": "execute_result"
    }
   ],
   "source": [
    "bu['tma'] = pd.to_datetime(bu['tma'])\n",
    "bu.dtypes"
   ]
  },
  {
   "cell_type": "markdown",
   "metadata": {},
   "source": [
    "## 정렬"
   ]
  },
  {
   "cell_type": "code",
   "execution_count": 17,
   "metadata": {},
   "outputs": [
    {
     "data": {
      "text/html": [
       "<div>\n",
       "<style scoped>\n",
       "    .dataframe tbody tr th:only-of-type {\n",
       "        vertical-align: middle;\n",
       "    }\n",
       "\n",
       "    .dataframe tbody tr th {\n",
       "        vertical-align: top;\n",
       "    }\n",
       "\n",
       "    .dataframe thead th {\n",
       "        text-align: right;\n",
       "    }\n",
       "</style>\n",
       "<table border=\"1\" class=\"dataframe\">\n",
       "  <thead>\n",
       "    <tr style=\"text-align: right;\">\n",
       "      <th></th>\n",
       "      <th>tma</th>\n",
       "      <th>stn_id</th>\n",
       "      <th>wd_n1</th>\n",
       "      <th>ws_n1</th>\n",
       "      <th>gust_ws_n1</th>\n",
       "      <th>wd_n2</th>\n",
       "      <th>ws_n2</th>\n",
       "      <th>gust_ws_n2</th>\n",
       "      <th>pa</th>\n",
       "      <th>hm</th>\n",
       "      <th>ta</th>\n",
       "      <th>wrtm</th>\n",
       "      <th>max_wh</th>\n",
       "      <th>atent_wh</th>\n",
       "      <th>avg_wh</th>\n",
       "      <th>wvprd</th>\n",
       "      <th>wvdr</th>\n",
       "    </tr>\n",
       "  </thead>\n",
       "  <tbody>\n",
       "    <tr>\n",
       "      <th>0</th>\n",
       "      <td>2016-03-31 23:30:00</td>\n",
       "      <td>22101</td>\n",
       "      <td>118.0</td>\n",
       "      <td>2.0</td>\n",
       "      <td>2.9</td>\n",
       "      <td>121.0</td>\n",
       "      <td>2.0</td>\n",
       "      <td>2.7</td>\n",
       "      <td>1015.6</td>\n",
       "      <td>42.0</td>\n",
       "      <td>9.6</td>\n",
       "      <td>5.6</td>\n",
       "      <td>0.0</td>\n",
       "      <td>0.0</td>\n",
       "      <td>0.0</td>\n",
       "      <td>4.0</td>\n",
       "      <td>304.0</td>\n",
       "    </tr>\n",
       "    <tr>\n",
       "      <th>1</th>\n",
       "      <td>2016-04-01 00:00:00</td>\n",
       "      <td>22101</td>\n",
       "      <td>143.0</td>\n",
       "      <td>2.0</td>\n",
       "      <td>2.6</td>\n",
       "      <td>146.0</td>\n",
       "      <td>1.0</td>\n",
       "      <td>2.3</td>\n",
       "      <td>1015.5</td>\n",
       "      <td>72.0</td>\n",
       "      <td>8.4</td>\n",
       "      <td>5.8</td>\n",
       "      <td>0.0</td>\n",
       "      <td>0.0</td>\n",
       "      <td>0.0</td>\n",
       "      <td>4.0</td>\n",
       "      <td>319.0</td>\n",
       "    </tr>\n",
       "    <tr>\n",
       "      <th>2</th>\n",
       "      <td>2016-04-01 00:30:00</td>\n",
       "      <td>22101</td>\n",
       "      <td>103.0</td>\n",
       "      <td>0.0</td>\n",
       "      <td>1.1</td>\n",
       "      <td>101.0</td>\n",
       "      <td>0.0</td>\n",
       "      <td>1.0</td>\n",
       "      <td>1015.3</td>\n",
       "      <td>67.0</td>\n",
       "      <td>8.8</td>\n",
       "      <td>5.6</td>\n",
       "      <td>0.0</td>\n",
       "      <td>0.0</td>\n",
       "      <td>0.0</td>\n",
       "      <td>4.0</td>\n",
       "      <td>314.0</td>\n",
       "    </tr>\n",
       "    <tr>\n",
       "      <th>3</th>\n",
       "      <td>2016-04-01 01:00:00</td>\n",
       "      <td>22101</td>\n",
       "      <td>72.0</td>\n",
       "      <td>0.0</td>\n",
       "      <td>0.7</td>\n",
       "      <td>64.0</td>\n",
       "      <td>0.0</td>\n",
       "      <td>0.3</td>\n",
       "      <td>1015.1</td>\n",
       "      <td>57.0</td>\n",
       "      <td>8.0</td>\n",
       "      <td>5.7</td>\n",
       "      <td>0.0</td>\n",
       "      <td>0.0</td>\n",
       "      <td>0.0</td>\n",
       "      <td>2.0</td>\n",
       "      <td>360.0</td>\n",
       "    </tr>\n",
       "    <tr>\n",
       "      <th>4</th>\n",
       "      <td>2016-04-01 01:30:00</td>\n",
       "      <td>22101</td>\n",
       "      <td>10.0</td>\n",
       "      <td>1.0</td>\n",
       "      <td>2.9</td>\n",
       "      <td>11.0</td>\n",
       "      <td>1.0</td>\n",
       "      <td>2.8</td>\n",
       "      <td>1015.2</td>\n",
       "      <td>44.0</td>\n",
       "      <td>8.9</td>\n",
       "      <td>5.7</td>\n",
       "      <td>0.0</td>\n",
       "      <td>0.0</td>\n",
       "      <td>0.0</td>\n",
       "      <td>4.0</td>\n",
       "      <td>308.0</td>\n",
       "    </tr>\n",
       "  </tbody>\n",
       "</table>\n",
       "</div>"
      ],
      "text/plain": [
       "                  tma  stn_id  wd_n1  ws_n1  gust_ws_n1  wd_n2  ws_n2  \\\n",
       "0 2016-03-31 23:30:00   22101  118.0    2.0         2.9  121.0    2.0   \n",
       "1 2016-04-01 00:00:00   22101  143.0    2.0         2.6  146.0    1.0   \n",
       "2 2016-04-01 00:30:00   22101  103.0    0.0         1.1  101.0    0.0   \n",
       "3 2016-04-01 01:00:00   22101   72.0    0.0         0.7   64.0    0.0   \n",
       "4 2016-04-01 01:30:00   22101   10.0    1.0         2.9   11.0    1.0   \n",
       "\n",
       "   gust_ws_n2      pa    hm   ta  wrtm  max_wh  atent_wh  avg_wh  wvprd   wvdr  \n",
       "0         2.7  1015.6  42.0  9.6   5.6     0.0       0.0     0.0    4.0  304.0  \n",
       "1         2.3  1015.5  72.0  8.4   5.8     0.0       0.0     0.0    4.0  319.0  \n",
       "2         1.0  1015.3  67.0  8.8   5.6     0.0       0.0     0.0    4.0  314.0  \n",
       "3         0.3  1015.1  57.0  8.0   5.7     0.0       0.0     0.0    2.0  360.0  \n",
       "4         2.8  1015.2  44.0  8.9   5.7     0.0       0.0     0.0    4.0  308.0  "
      ]
     },
     "execution_count": 17,
     "metadata": {},
     "output_type": "execute_result"
    }
   ],
   "source": [
    "bu = sort_by(bu, ['tma', 'stn_id'])\n",
    "bu.head()"
   ]
  },
  {
   "cell_type": "code",
   "execution_count": 18,
   "metadata": {
    "scrolled": true
   },
   "outputs": [
    {
     "data": {
      "text/html": [
       "<div>\n",
       "<style scoped>\n",
       "    .dataframe tbody tr th:only-of-type {\n",
       "        vertical-align: middle;\n",
       "    }\n",
       "\n",
       "    .dataframe tbody tr th {\n",
       "        vertical-align: top;\n",
       "    }\n",
       "\n",
       "    .dataframe thead th {\n",
       "        text-align: right;\n",
       "    }\n",
       "</style>\n",
       "<table border=\"1\" class=\"dataframe\">\n",
       "  <thead>\n",
       "    <tr style=\"text-align: right;\">\n",
       "      <th></th>\n",
       "      <th>tma</th>\n",
       "      <th>stn_id</th>\n",
       "      <th>wd_n1</th>\n",
       "      <th>ws_n1</th>\n",
       "      <th>gust_ws_n1</th>\n",
       "      <th>wd_n2</th>\n",
       "      <th>ws_n2</th>\n",
       "      <th>gust_ws_n2</th>\n",
       "      <th>pa</th>\n",
       "      <th>hm</th>\n",
       "      <th>ta</th>\n",
       "      <th>wrtm</th>\n",
       "      <th>max_wh</th>\n",
       "      <th>atent_wh</th>\n",
       "      <th>avg_wh</th>\n",
       "      <th>wvprd</th>\n",
       "      <th>wvdr</th>\n",
       "    </tr>\n",
       "  </thead>\n",
       "  <tbody>\n",
       "    <tr>\n",
       "      <th>1</th>\n",
       "      <td>2016-04-01 00:00:00</td>\n",
       "      <td>22101</td>\n",
       "      <td>143.0</td>\n",
       "      <td>2.0</td>\n",
       "      <td>2.6</td>\n",
       "      <td>146.0</td>\n",
       "      <td>1.0</td>\n",
       "      <td>2.3</td>\n",
       "      <td>1015.5</td>\n",
       "      <td>72.0</td>\n",
       "      <td>8.4</td>\n",
       "      <td>5.8</td>\n",
       "      <td>0.0</td>\n",
       "      <td>0.0</td>\n",
       "      <td>0.0</td>\n",
       "      <td>4.0</td>\n",
       "      <td>319.0</td>\n",
       "    </tr>\n",
       "    <tr>\n",
       "      <th>2</th>\n",
       "      <td>2016-04-01 00:30:00</td>\n",
       "      <td>22101</td>\n",
       "      <td>103.0</td>\n",
       "      <td>0.0</td>\n",
       "      <td>1.1</td>\n",
       "      <td>101.0</td>\n",
       "      <td>0.0</td>\n",
       "      <td>1.0</td>\n",
       "      <td>1015.3</td>\n",
       "      <td>67.0</td>\n",
       "      <td>8.8</td>\n",
       "      <td>5.6</td>\n",
       "      <td>0.0</td>\n",
       "      <td>0.0</td>\n",
       "      <td>0.0</td>\n",
       "      <td>4.0</td>\n",
       "      <td>314.0</td>\n",
       "    </tr>\n",
       "    <tr>\n",
       "      <th>3</th>\n",
       "      <td>2016-04-01 01:00:00</td>\n",
       "      <td>22101</td>\n",
       "      <td>72.0</td>\n",
       "      <td>0.0</td>\n",
       "      <td>0.7</td>\n",
       "      <td>64.0</td>\n",
       "      <td>0.0</td>\n",
       "      <td>0.3</td>\n",
       "      <td>1015.1</td>\n",
       "      <td>57.0</td>\n",
       "      <td>8.0</td>\n",
       "      <td>5.7</td>\n",
       "      <td>0.0</td>\n",
       "      <td>0.0</td>\n",
       "      <td>0.0</td>\n",
       "      <td>2.0</td>\n",
       "      <td>360.0</td>\n",
       "    </tr>\n",
       "    <tr>\n",
       "      <th>4</th>\n",
       "      <td>2016-04-01 01:30:00</td>\n",
       "      <td>22101</td>\n",
       "      <td>10.0</td>\n",
       "      <td>1.0</td>\n",
       "      <td>2.9</td>\n",
       "      <td>11.0</td>\n",
       "      <td>1.0</td>\n",
       "      <td>2.8</td>\n",
       "      <td>1015.2</td>\n",
       "      <td>44.0</td>\n",
       "      <td>8.9</td>\n",
       "      <td>5.7</td>\n",
       "      <td>0.0</td>\n",
       "      <td>0.0</td>\n",
       "      <td>0.0</td>\n",
       "      <td>4.0</td>\n",
       "      <td>308.0</td>\n",
       "    </tr>\n",
       "    <tr>\n",
       "      <th>5</th>\n",
       "      <td>2016-04-01 02:00:00</td>\n",
       "      <td>22101</td>\n",
       "      <td>46.0</td>\n",
       "      <td>3.0</td>\n",
       "      <td>4.6</td>\n",
       "      <td>49.0</td>\n",
       "      <td>3.0</td>\n",
       "      <td>4.7</td>\n",
       "      <td>1015.0</td>\n",
       "      <td>40.0</td>\n",
       "      <td>11.2</td>\n",
       "      <td>5.7</td>\n",
       "      <td>0.0</td>\n",
       "      <td>0.0</td>\n",
       "      <td>0.0</td>\n",
       "      <td>4.0</td>\n",
       "      <td>320.0</td>\n",
       "    </tr>\n",
       "  </tbody>\n",
       "</table>\n",
       "</div>"
      ],
      "text/plain": [
       "                  tma  stn_id  wd_n1  ws_n1  gust_ws_n1  wd_n2  ws_n2  \\\n",
       "1 2016-04-01 00:00:00   22101  143.0    2.0         2.6  146.0    1.0   \n",
       "2 2016-04-01 00:30:00   22101  103.0    0.0         1.1  101.0    0.0   \n",
       "3 2016-04-01 01:00:00   22101   72.0    0.0         0.7   64.0    0.0   \n",
       "4 2016-04-01 01:30:00   22101   10.0    1.0         2.9   11.0    1.0   \n",
       "5 2016-04-01 02:00:00   22101   46.0    3.0         4.6   49.0    3.0   \n",
       "\n",
       "   gust_ws_n2      pa    hm    ta  wrtm  max_wh  atent_wh  avg_wh  wvprd  \\\n",
       "1         2.3  1015.5  72.0   8.4   5.8     0.0       0.0     0.0    4.0   \n",
       "2         1.0  1015.3  67.0   8.8   5.6     0.0       0.0     0.0    4.0   \n",
       "3         0.3  1015.1  57.0   8.0   5.7     0.0       0.0     0.0    2.0   \n",
       "4         2.8  1015.2  44.0   8.9   5.7     0.0       0.0     0.0    4.0   \n",
       "5         4.7  1015.0  40.0  11.2   5.7     0.0       0.0     0.0    4.0   \n",
       "\n",
       "    wvdr  \n",
       "1  319.0  \n",
       "2  314.0  \n",
       "3  360.0  \n",
       "4  308.0  \n",
       "5  320.0  "
      ]
     },
     "execution_count": 18,
     "metadata": {},
     "output_type": "execute_result"
    }
   ],
   "source": [
    "bu = bu.iloc[1:, :]\n",
    "bu.head()"
   ]
  },
  {
   "cell_type": "code",
   "execution_count": 19,
   "metadata": {},
   "outputs": [
    {
     "data": {
      "text/html": [
       "<div>\n",
       "<style scoped>\n",
       "    .dataframe tbody tr th:only-of-type {\n",
       "        vertical-align: middle;\n",
       "    }\n",
       "\n",
       "    .dataframe tbody tr th {\n",
       "        vertical-align: top;\n",
       "    }\n",
       "\n",
       "    .dataframe thead th {\n",
       "        text-align: right;\n",
       "    }\n",
       "</style>\n",
       "<table border=\"1\" class=\"dataframe\">\n",
       "  <thead>\n",
       "    <tr style=\"text-align: right;\">\n",
       "      <th></th>\n",
       "      <th>tma</th>\n",
       "      <th>stn_id</th>\n",
       "      <th>wd_n1</th>\n",
       "      <th>ws_n1</th>\n",
       "      <th>gust_ws_n1</th>\n",
       "      <th>wd_n2</th>\n",
       "      <th>ws_n2</th>\n",
       "      <th>gust_ws_n2</th>\n",
       "      <th>pa</th>\n",
       "      <th>hm</th>\n",
       "      <th>ta</th>\n",
       "      <th>wrtm</th>\n",
       "      <th>max_wh</th>\n",
       "      <th>atent_wh</th>\n",
       "      <th>avg_wh</th>\n",
       "      <th>wvprd</th>\n",
       "      <th>wvdr</th>\n",
       "    </tr>\n",
       "  </thead>\n",
       "  <tbody>\n",
       "    <tr>\n",
       "      <th>0</th>\n",
       "      <td>2016-04-01 00:00:00</td>\n",
       "      <td>22101</td>\n",
       "      <td>143.0</td>\n",
       "      <td>2.0</td>\n",
       "      <td>2.6</td>\n",
       "      <td>146.0</td>\n",
       "      <td>1.0</td>\n",
       "      <td>2.3</td>\n",
       "      <td>1015.5</td>\n",
       "      <td>72.0</td>\n",
       "      <td>8.4</td>\n",
       "      <td>5.8</td>\n",
       "      <td>0.0</td>\n",
       "      <td>0.0</td>\n",
       "      <td>0.0</td>\n",
       "      <td>4.0</td>\n",
       "      <td>319.0</td>\n",
       "    </tr>\n",
       "    <tr>\n",
       "      <th>1</th>\n",
       "      <td>2016-04-01 00:30:00</td>\n",
       "      <td>22101</td>\n",
       "      <td>103.0</td>\n",
       "      <td>0.0</td>\n",
       "      <td>1.1</td>\n",
       "      <td>101.0</td>\n",
       "      <td>0.0</td>\n",
       "      <td>1.0</td>\n",
       "      <td>1015.3</td>\n",
       "      <td>67.0</td>\n",
       "      <td>8.8</td>\n",
       "      <td>5.6</td>\n",
       "      <td>0.0</td>\n",
       "      <td>0.0</td>\n",
       "      <td>0.0</td>\n",
       "      <td>4.0</td>\n",
       "      <td>314.0</td>\n",
       "    </tr>\n",
       "    <tr>\n",
       "      <th>2</th>\n",
       "      <td>2016-04-01 01:00:00</td>\n",
       "      <td>22101</td>\n",
       "      <td>72.0</td>\n",
       "      <td>0.0</td>\n",
       "      <td>0.7</td>\n",
       "      <td>64.0</td>\n",
       "      <td>0.0</td>\n",
       "      <td>0.3</td>\n",
       "      <td>1015.1</td>\n",
       "      <td>57.0</td>\n",
       "      <td>8.0</td>\n",
       "      <td>5.7</td>\n",
       "      <td>0.0</td>\n",
       "      <td>0.0</td>\n",
       "      <td>0.0</td>\n",
       "      <td>2.0</td>\n",
       "      <td>360.0</td>\n",
       "    </tr>\n",
       "    <tr>\n",
       "      <th>3</th>\n",
       "      <td>2016-04-01 01:30:00</td>\n",
       "      <td>22101</td>\n",
       "      <td>10.0</td>\n",
       "      <td>1.0</td>\n",
       "      <td>2.9</td>\n",
       "      <td>11.0</td>\n",
       "      <td>1.0</td>\n",
       "      <td>2.8</td>\n",
       "      <td>1015.2</td>\n",
       "      <td>44.0</td>\n",
       "      <td>8.9</td>\n",
       "      <td>5.7</td>\n",
       "      <td>0.0</td>\n",
       "      <td>0.0</td>\n",
       "      <td>0.0</td>\n",
       "      <td>4.0</td>\n",
       "      <td>308.0</td>\n",
       "    </tr>\n",
       "    <tr>\n",
       "      <th>4</th>\n",
       "      <td>2016-04-01 02:00:00</td>\n",
       "      <td>22101</td>\n",
       "      <td>46.0</td>\n",
       "      <td>3.0</td>\n",
       "      <td>4.6</td>\n",
       "      <td>49.0</td>\n",
       "      <td>3.0</td>\n",
       "      <td>4.7</td>\n",
       "      <td>1015.0</td>\n",
       "      <td>40.0</td>\n",
       "      <td>11.2</td>\n",
       "      <td>5.7</td>\n",
       "      <td>0.0</td>\n",
       "      <td>0.0</td>\n",
       "      <td>0.0</td>\n",
       "      <td>4.0</td>\n",
       "      <td>320.0</td>\n",
       "    </tr>\n",
       "  </tbody>\n",
       "</table>\n",
       "</div>"
      ],
      "text/plain": [
       "                  tma  stn_id  wd_n1  ws_n1  gust_ws_n1  wd_n2  ws_n2  \\\n",
       "0 2016-04-01 00:00:00   22101  143.0    2.0         2.6  146.0    1.0   \n",
       "1 2016-04-01 00:30:00   22101  103.0    0.0         1.1  101.0    0.0   \n",
       "2 2016-04-01 01:00:00   22101   72.0    0.0         0.7   64.0    0.0   \n",
       "3 2016-04-01 01:30:00   22101   10.0    1.0         2.9   11.0    1.0   \n",
       "4 2016-04-01 02:00:00   22101   46.0    3.0         4.6   49.0    3.0   \n",
       "\n",
       "   gust_ws_n2      pa    hm    ta  wrtm  max_wh  atent_wh  avg_wh  wvprd  \\\n",
       "0         2.3  1015.5  72.0   8.4   5.8     0.0       0.0     0.0    4.0   \n",
       "1         1.0  1015.3  67.0   8.8   5.6     0.0       0.0     0.0    4.0   \n",
       "2         0.3  1015.1  57.0   8.0   5.7     0.0       0.0     0.0    2.0   \n",
       "3         2.8  1015.2  44.0   8.9   5.7     0.0       0.0     0.0    4.0   \n",
       "4         4.7  1015.0  40.0  11.2   5.7     0.0       0.0     0.0    4.0   \n",
       "\n",
       "    wvdr  \n",
       "0  319.0  \n",
       "1  314.0  \n",
       "2  360.0  \n",
       "3  308.0  \n",
       "4  320.0  "
      ]
     },
     "execution_count": 19,
     "metadata": {},
     "output_type": "execute_result"
    }
   ],
   "source": [
    "bu = bu.reset_index()\n",
    "del bu['index']\n",
    "bu.head()"
   ]
  },
  {
   "cell_type": "markdown",
   "metadata": {},
   "source": [
    "## 결측치 & 이상치 처리"
   ]
  },
  {
   "cell_type": "code",
   "execution_count": 20,
   "metadata": {},
   "outputs": [
    {
     "data": {
      "image/png": "[encoded data removed]",
      "text/plain": [
       "<Figure size 1080x1440 with 15 Axes>"
      ]
     },
     "metadata": {
      "needs_background": "light"
     },
     "output_type": "display_data"
    }
   ],
   "source": [
    "multi_distplot(bu)"
   ]
  },
  {
   "cell_type": "code",
   "execution_count": 22,
   "metadata": {},
   "outputs": [
    {
     "data": {
      "text/plain": [
       "<matplotlib.axes._subplots.AxesSubplot at 0x2b6351f1b48>"
      ]
     },
     "execution_count": 22,
     "metadata": {},
     "output_type": "execute_result"
    },
    {
     "data": {
      "image/png": "[encoded data removed]",
      "text/plain": [
       "<Figure size 1080x720 with 2 Axes>"
      ]
     },
     "metadata": {
      "needs_background": "light"
     },
     "output_type": "display_data"
    }
   ],
   "source": [
    "plt.figure(figsize=(15, 10))\n",
    "\n",
    "sns.heatmap(bu.isnull(), cmap='Greys')"
   ]
  },
  {
   "cell_type": "code",
   "execution_count": 23,
   "metadata": {},
   "outputs": [
    {
     "data": {
      "text/plain": [
       "tma           0\n",
       "stn_id        0\n",
       "wd_n1         0\n",
       "ws_n1         0\n",
       "gust_ws_n1    0\n",
       "wd_n2         0\n",
       "ws_n2         0\n",
       "gust_ws_n2    0\n",
       "pa            0\n",
       "hm            0\n",
       "ta            0\n",
       "wrtm          0\n",
       "max_wh        0\n",
       "atent_wh      0\n",
       "avg_wh        0\n",
       "wvprd         0\n",
       "wvdr          0\n",
       "dtype: int64"
      ]
     },
     "execution_count": 23,
     "metadata": {},
     "output_type": "execute_result"
    }
   ],
   "source": [
    "bu = bu.fillna(method='ffill')\n",
    "bu.isnull().sum()"
   ]
  },
  {
   "cell_type": "code",
   "execution_count": 24,
   "metadata": {},
   "outputs": [],
   "source": [
    "bu.to_csv('../data/weather/sea_buoy.csv', encoding='utf-8', index=False)"
   ]
  },
  {
   "cell_type": "markdown",
   "metadata": {},
   "source": [
    "# sea_"
   ]
  }
 ],
 "metadata": {
  "kernelspec": {
   "display_name": "Python 3",
   "language": "python",
   "name": "python3"
  },
  "language_info": {
   "codemirror_mode": {
    "name": "ipython",
    "version": 3
   },
   "file_extension": ".py",
   "mimetype": "text/x-python",
   "name": "python",
   "nbconvert_exporter": "python",
   "pygments_lexer": "ipython3",
   "version": "3.7.6"
  },
  "toc": {
   "base_numbering": 1,
   "nav_menu": {},
   "number_sections": true,
   "sideBar": true,
   "skip_h1_title": false,
   "title_cell": "Table of Contents",
   "title_sidebar": "Contents",
   "toc_cell": false,
   "toc_position": {},
   "toc_section_display": true,
   "toc_window_display": true
  },
  "varInspector": {
   "cols": {
    "lenName": 16,
    "lenType": 16,
    "lenVar": 40
   },
   "kernels_config": {
    "python": {
     "delete_cmd_postfix": "",
     "delete_cmd_prefix": "del ",
     "library": "var_list.py",
     "varRefreshCmd": "print(var_dic_list())"
    },
    "r": {
     "delete_cmd_postfix": ") ",
     "delete_cmd_prefix": "rm(",
     "library": "var_list.r",
     "varRefreshCmd": "cat(var_dic_list()) "
    }
   },
   "types_to_exclude": [
    "module",
    "function",
    "builtin_function_or_method",
    "instance",
    "_Feature"
   ],
   "window_display": false
  }
 },
 "nbformat": 4,
 "nbformat_minor": 4
}
