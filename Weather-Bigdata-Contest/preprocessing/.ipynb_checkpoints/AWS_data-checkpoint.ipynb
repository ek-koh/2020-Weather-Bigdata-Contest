{
 "cells": [
  {
   "cell_type": "markdown",
   "metadata": {},
   "source": [
    "# aws_cloud"
   ]
  },
  {
   "cell_type": "markdown",
   "metadata": {},
   "source": [
    "## 데이터 확인"
   ]
  },
  {
   "cell_type": "code",
   "execution_count": 1,
   "metadata": {},
   "outputs": [],
   "source": [
    "import pandas as pd\n",
    "import matplotlib.pyplot as plt\n",
    "import seaborn as sns"
   ]
  },
  {
   "cell_type": "code",
   "execution_count": 2,
   "metadata": {},
   "outputs": [
    {
     "name": "stdout",
     "output_type": "stream",
     "text": [
      "<class 'pandas.core.frame.DataFrame'>\n",
      "RangeIndex: 139818 entries, 0 to 139817\n",
      "Data columns (total 9 columns):\n",
      " #   Column             Non-Null Count   Dtype  \n",
      "---  ------             --------------   -----  \n",
      " 0   Unnamed: 0         139818 non-null  int64  \n",
      " 1   tma                139818 non-null  object \n",
      " 2   stn_id             139818 non-null  int64  \n",
      " 3   avg_tca            84257 non-null   float64\n",
      " 4   avg_tca_qcflg      0 non-null       float64\n",
      " 5   avg_tca_crob       0 non-null       float64\n",
      " 6   avg_tca_calc_dtnb  139818 non-null  int64  \n",
      " 7   avg_tca_srv_yn     0 non-null       float64\n",
      " 8   orgn_stn_id        0 non-null       float64\n",
      "dtypes: float64(5), int64(3), object(1)\n",
      "memory usage: 9.6+ MB\n"
     ]
    }
   ],
   "source": [
    "cloud = pd.read_csv('../data/weather/raw/aws_cloud.csv')\n",
    "cloud.info()"
   ]
  },
  {
   "cell_type": "code",
   "execution_count": 3,
   "metadata": {},
   "outputs": [
    {
     "data": {
      "text/html": [
       "<div>\n",
       "<style scoped>\n",
       "    .dataframe tbody tr th:only-of-type {\n",
       "        vertical-align: middle;\n",
       "    }\n",
       "\n",
       "    .dataframe tbody tr th {\n",
       "        vertical-align: top;\n",
       "    }\n",
       "\n",
       "    .dataframe thead th {\n",
       "        text-align: right;\n",
       "    }\n",
       "</style>\n",
       "<table border=\"1\" class=\"dataframe\">\n",
       "  <thead>\n",
       "    <tr style=\"text-align: right;\">\n",
       "      <th></th>\n",
       "      <th>Unnamed: 0</th>\n",
       "      <th>tma</th>\n",
       "      <th>stn_id</th>\n",
       "      <th>avg_tca</th>\n",
       "      <th>avg_tca_qcflg</th>\n",
       "      <th>avg_tca_crob</th>\n",
       "      <th>avg_tca_calc_dtnb</th>\n",
       "      <th>avg_tca_srv_yn</th>\n",
       "      <th>orgn_stn_id</th>\n",
       "    </tr>\n",
       "  </thead>\n",
       "  <tbody>\n",
       "    <tr>\n",
       "      <th>0</th>\n",
       "      <td>1</td>\n",
       "      <td>2016-04-01 20:00:00.0</td>\n",
       "      <td>637</td>\n",
       "      <td>0.0</td>\n",
       "      <td>NaN</td>\n",
       "      <td>NaN</td>\n",
       "      <td>70</td>\n",
       "      <td>NaN</td>\n",
       "      <td>NaN</td>\n",
       "    </tr>\n",
       "    <tr>\n",
       "      <th>1</th>\n",
       "      <td>2</td>\n",
       "      <td>2016-04-02 14:00:00.0</td>\n",
       "      <td>637</td>\n",
       "      <td>0.0</td>\n",
       "      <td>NaN</td>\n",
       "      <td>NaN</td>\n",
       "      <td>70</td>\n",
       "      <td>NaN</td>\n",
       "      <td>NaN</td>\n",
       "    </tr>\n",
       "    <tr>\n",
       "      <th>2</th>\n",
       "      <td>3</td>\n",
       "      <td>2016-04-03 08:00:00.0</td>\n",
       "      <td>637</td>\n",
       "      <td>0.0</td>\n",
       "      <td>NaN</td>\n",
       "      <td>NaN</td>\n",
       "      <td>70</td>\n",
       "      <td>NaN</td>\n",
       "      <td>NaN</td>\n",
       "    </tr>\n",
       "    <tr>\n",
       "      <th>3</th>\n",
       "      <td>4</td>\n",
       "      <td>2016-04-04 00:00:00.0</td>\n",
       "      <td>616</td>\n",
       "      <td>0.0</td>\n",
       "      <td>NaN</td>\n",
       "      <td>NaN</td>\n",
       "      <td>70</td>\n",
       "      <td>NaN</td>\n",
       "      <td>NaN</td>\n",
       "    </tr>\n",
       "    <tr>\n",
       "      <th>4</th>\n",
       "      <td>5</td>\n",
       "      <td>2016-04-04 23:00:00.0</td>\n",
       "      <td>515</td>\n",
       "      <td>0.0</td>\n",
       "      <td>NaN</td>\n",
       "      <td>NaN</td>\n",
       "      <td>70</td>\n",
       "      <td>NaN</td>\n",
       "      <td>NaN</td>\n",
       "    </tr>\n",
       "  </tbody>\n",
       "</table>\n",
       "</div>"
      ],
      "text/plain": [
       "   Unnamed: 0                    tma  stn_id  avg_tca  avg_tca_qcflg  \\\n",
       "0           1  2016-04-01 20:00:00.0     637      0.0            NaN   \n",
       "1           2  2016-04-02 14:00:00.0     637      0.0            NaN   \n",
       "2           3  2016-04-03 08:00:00.0     637      0.0            NaN   \n",
       "3           4  2016-04-04 00:00:00.0     616      0.0            NaN   \n",
       "4           5  2016-04-04 23:00:00.0     515      0.0            NaN   \n",
       "\n",
       "   avg_tca_crob  avg_tca_calc_dtnb  avg_tca_srv_yn  orgn_stn_id  \n",
       "0           NaN                 70             NaN          NaN  \n",
       "1           NaN                 70             NaN          NaN  \n",
       "2           NaN                 70             NaN          NaN  \n",
       "3           NaN                 70             NaN          NaN  \n",
       "4           NaN                 70             NaN          NaN  "
      ]
     },
     "execution_count": 3,
     "metadata": {},
     "output_type": "execute_result"
    }
   ],
   "source": [
    "cloud.head()"
   ]
  },
  {
   "cell_type": "code",
   "execution_count": 4,
   "metadata": {},
   "outputs": [
    {
     "data": {
      "text/plain": [
       "Unnamed: 0                0\n",
       "tma                       0\n",
       "stn_id                    0\n",
       "avg_tca               55561\n",
       "avg_tca_qcflg        139818\n",
       "avg_tca_crob         139818\n",
       "avg_tca_calc_dtnb         0\n",
       "avg_tca_srv_yn       139818\n",
       "orgn_stn_id          139818\n",
       "dtype: int64"
      ]
     },
     "execution_count": 4,
     "metadata": {},
     "output_type": "execute_result"
    }
   ],
   "source": [
    "cloud.isnull().sum()"
   ]
  },
  {
   "cell_type": "markdown",
   "metadata": {},
   "source": [
    "## 컬럼 정리"
   ]
  },
  {
   "cell_type": "code",
   "execution_count": 5,
   "metadata": {},
   "outputs": [
    {
     "data": {
      "text/plain": [
       "Index(['tma', 'stn_id', 'avg_tca', 'avg_tca_calc_dtnb'], dtype='object')"
      ]
     },
     "execution_count": 5,
     "metadata": {},
     "output_type": "execute_result"
    }
   ],
   "source": [
    "cloud = cloud.drop(columns=['Unnamed: 0', 'avg_tca_qcflg', 'avg_tca_crob', 'avg_tca_srv_yn', 'orgn_stn_id'])\n",
    "cloud.columns"
   ]
  },
  {
   "cell_type": "code",
   "execution_count": 6,
   "metadata": {},
   "outputs": [
    {
     "data": {
      "text/html": [
       "<div>\n",
       "<style scoped>\n",
       "    .dataframe tbody tr th:only-of-type {\n",
       "        vertical-align: middle;\n",
       "    }\n",
       "\n",
       "    .dataframe tbody tr th {\n",
       "        vertical-align: top;\n",
       "    }\n",
       "\n",
       "    .dataframe thead th {\n",
       "        text-align: right;\n",
       "    }\n",
       "</style>\n",
       "<table border=\"1\" class=\"dataframe\">\n",
       "  <thead>\n",
       "    <tr style=\"text-align: right;\">\n",
       "      <th></th>\n",
       "      <th>tma</th>\n",
       "      <th>stn_id</th>\n",
       "      <th>avg_tca</th>\n",
       "      <th>avg_tca_calc_dtnb</th>\n",
       "    </tr>\n",
       "  </thead>\n",
       "  <tbody>\n",
       "    <tr>\n",
       "      <th>0</th>\n",
       "      <td>2016-04-01 20:00:00.0</td>\n",
       "      <td>637</td>\n",
       "      <td>0.0</td>\n",
       "      <td>70</td>\n",
       "    </tr>\n",
       "    <tr>\n",
       "      <th>1</th>\n",
       "      <td>2016-04-02 14:00:00.0</td>\n",
       "      <td>637</td>\n",
       "      <td>0.0</td>\n",
       "      <td>70</td>\n",
       "    </tr>\n",
       "    <tr>\n",
       "      <th>2</th>\n",
       "      <td>2016-04-03 08:00:00.0</td>\n",
       "      <td>637</td>\n",
       "      <td>0.0</td>\n",
       "      <td>70</td>\n",
       "    </tr>\n",
       "    <tr>\n",
       "      <th>3</th>\n",
       "      <td>2016-04-04 00:00:00.0</td>\n",
       "      <td>616</td>\n",
       "      <td>0.0</td>\n",
       "      <td>70</td>\n",
       "    </tr>\n",
       "    <tr>\n",
       "      <th>4</th>\n",
       "      <td>2016-04-04 23:00:00.0</td>\n",
       "      <td>515</td>\n",
       "      <td>0.0</td>\n",
       "      <td>70</td>\n",
       "    </tr>\n",
       "  </tbody>\n",
       "</table>\n",
       "</div>"
      ],
      "text/plain": [
       "                     tma  stn_id  avg_tca  avg_tca_calc_dtnb\n",
       "0  2016-04-01 20:00:00.0     637      0.0                 70\n",
       "1  2016-04-02 14:00:00.0     637      0.0                 70\n",
       "2  2016-04-03 08:00:00.0     637      0.0                 70\n",
       "3  2016-04-04 00:00:00.0     616      0.0                 70\n",
       "4  2016-04-04 23:00:00.0     515      0.0                 70"
      ]
     },
     "execution_count": 6,
     "metadata": {},
     "output_type": "execute_result"
    }
   ],
   "source": [
    "cloud.head()"
   ]
  },
  {
   "cell_type": "code",
   "execution_count": 7,
   "metadata": {},
   "outputs": [
    {
     "data": {
      "text/plain": [
       "<matplotlib.axes._subplots.AxesSubplot at 0x1e7ebfb6688>"
      ]
     },
     "execution_count": 7,
     "metadata": {},
     "output_type": "execute_result"
    },
    {
     "data": {
      "image/png": "[encoded data removed]",
      "text/plain": [
       "<Figure size 432x288 with 1 Axes>"
      ]
     },
     "metadata": {
      "needs_background": "light"
     },
     "output_type": "display_data"
    }
   ],
   "source": [
    "sns.distplot(cloud.avg_tca_calc_dtnb)"
   ]
  },
  {
   "cell_type": "code",
   "execution_count": 8,
   "metadata": {},
   "outputs": [
    {
     "data": {
      "text/html": [
       "<div>\n",
       "<style scoped>\n",
       "    .dataframe tbody tr th:only-of-type {\n",
       "        vertical-align: middle;\n",
       "    }\n",
       "\n",
       "    .dataframe tbody tr th {\n",
       "        vertical-align: top;\n",
       "    }\n",
       "\n",
       "    .dataframe thead th {\n",
       "        text-align: right;\n",
       "    }\n",
       "</style>\n",
       "<table border=\"1\" class=\"dataframe\">\n",
       "  <thead>\n",
       "    <tr style=\"text-align: right;\">\n",
       "      <th></th>\n",
       "      <th>tma</th>\n",
       "      <th>stn_id</th>\n",
       "      <th>avg_tca</th>\n",
       "      <th>avg_tca_calc_dtnb</th>\n",
       "    </tr>\n",
       "  </thead>\n",
       "  <tbody>\n",
       "    <tr>\n",
       "      <th>47</th>\n",
       "      <td>2016-04-30 18:00:00.0</td>\n",
       "      <td>616</td>\n",
       "      <td>NaN</td>\n",
       "      <td>0</td>\n",
       "    </tr>\n",
       "    <tr>\n",
       "      <th>97</th>\n",
       "      <td>2016-06-03 13:00:00.0</td>\n",
       "      <td>616</td>\n",
       "      <td>NaN</td>\n",
       "      <td>0</td>\n",
       "    </tr>\n",
       "    <tr>\n",
       "      <th>212</th>\n",
       "      <td>2016-08-24 18:00:00.0</td>\n",
       "      <td>616</td>\n",
       "      <td>NaN</td>\n",
       "      <td>0</td>\n",
       "    </tr>\n",
       "    <tr>\n",
       "      <th>218</th>\n",
       "      <td>2016-08-29 12:00:00.0</td>\n",
       "      <td>616</td>\n",
       "      <td>NaN</td>\n",
       "      <td>0</td>\n",
       "    </tr>\n",
       "    <tr>\n",
       "      <th>239</th>\n",
       "      <td>2016-09-09 18:00:00.0</td>\n",
       "      <td>616</td>\n",
       "      <td>NaN</td>\n",
       "      <td>0</td>\n",
       "    </tr>\n",
       "    <tr>\n",
       "      <th>...</th>\n",
       "      <td>...</td>\n",
       "      <td>...</td>\n",
       "      <td>...</td>\n",
       "      <td>...</td>\n",
       "    </tr>\n",
       "    <tr>\n",
       "      <th>139813</th>\n",
       "      <td>2020-03-30 01:00:00.0</td>\n",
       "      <td>637</td>\n",
       "      <td>NaN</td>\n",
       "      <td>0</td>\n",
       "    </tr>\n",
       "    <tr>\n",
       "      <th>139814</th>\n",
       "      <td>2020-03-30 08:00:00.0</td>\n",
       "      <td>515</td>\n",
       "      <td>NaN</td>\n",
       "      <td>0</td>\n",
       "    </tr>\n",
       "    <tr>\n",
       "      <th>139815</th>\n",
       "      <td>2020-03-30 16:00:00.0</td>\n",
       "      <td>634</td>\n",
       "      <td>NaN</td>\n",
       "      <td>0</td>\n",
       "    </tr>\n",
       "    <tr>\n",
       "      <th>139816</th>\n",
       "      <td>2020-03-30 20:00:00.0</td>\n",
       "      <td>634</td>\n",
       "      <td>NaN</td>\n",
       "      <td>0</td>\n",
       "    </tr>\n",
       "    <tr>\n",
       "      <th>139817</th>\n",
       "      <td>2020-03-31 14:00:00.0</td>\n",
       "      <td>634</td>\n",
       "      <td>NaN</td>\n",
       "      <td>0</td>\n",
       "    </tr>\n",
       "  </tbody>\n",
       "</table>\n",
       "<p>55561 rows × 4 columns</p>\n",
       "</div>"
      ],
      "text/plain": [
       "                          tma  stn_id  avg_tca  avg_tca_calc_dtnb\n",
       "47      2016-04-30 18:00:00.0     616      NaN                  0\n",
       "97      2016-06-03 13:00:00.0     616      NaN                  0\n",
       "212     2016-08-24 18:00:00.0     616      NaN                  0\n",
       "218     2016-08-29 12:00:00.0     616      NaN                  0\n",
       "239     2016-09-09 18:00:00.0     616      NaN                  0\n",
       "...                       ...     ...      ...                ...\n",
       "139813  2020-03-30 01:00:00.0     637      NaN                  0\n",
       "139814  2020-03-30 08:00:00.0     515      NaN                  0\n",
       "139815  2020-03-30 16:00:00.0     634      NaN                  0\n",
       "139816  2020-03-30 20:00:00.0     634      NaN                  0\n",
       "139817  2020-03-31 14:00:00.0     634      NaN                  0\n",
       "\n",
       "[55561 rows x 4 columns]"
      ]
     },
     "execution_count": 8,
     "metadata": {},
     "output_type": "execute_result"
    }
   ],
   "source": [
    "cloud[cloud.avg_tca_calc_dtnb == 0]"
   ]
  },
  {
   "cell_type": "markdown",
   "metadata": {},
   "source": [
    "## 데이터타입 정리"
   ]
  },
  {
   "cell_type": "code",
   "execution_count": 9,
   "metadata": {
    "scrolled": true
   },
   "outputs": [
    {
     "data": {
      "text/plain": [
       "tma                  datetime64[ns]\n",
       "stn_id                        int64\n",
       "avg_tca                     float64\n",
       "avg_tca_calc_dtnb             int64\n",
       "dtype: object"
      ]
     },
     "execution_count": 9,
     "metadata": {},
     "output_type": "execute_result"
    }
   ],
   "source": [
    "cloud['tma'] = pd.to_datetime(cloud['tma'])\n",
    "cloud.dtypes"
   ]
  },
  {
   "cell_type": "markdown",
   "metadata": {},
   "source": [
    "## 정렬"
   ]
  },
  {
   "cell_type": "markdown",
   "metadata": {},
   "source": [
    "### 정렬 함수 만들기"
   ]
  },
  {
   "cell_type": "code",
   "execution_count": 10,
   "metadata": {},
   "outputs": [],
   "source": [
    "def sort_by(data, colname):\n",
    "    data = data.sort_values(by=colname)\n",
    "    data = data.reset_index()\n",
    "    del data['index']\n",
    "    \n",
    "    return data"
   ]
  },
  {
   "cell_type": "code",
   "execution_count": 11,
   "metadata": {},
   "outputs": [
    {
     "data": {
      "text/html": [
       "<div>\n",
       "<style scoped>\n",
       "    .dataframe tbody tr th:only-of-type {\n",
       "        vertical-align: middle;\n",
       "    }\n",
       "\n",
       "    .dataframe tbody tr th {\n",
       "        vertical-align: top;\n",
       "    }\n",
       "\n",
       "    .dataframe thead th {\n",
       "        text-align: right;\n",
       "    }\n",
       "</style>\n",
       "<table border=\"1\" class=\"dataframe\">\n",
       "  <thead>\n",
       "    <tr style=\"text-align: right;\">\n",
       "      <th></th>\n",
       "      <th>tma</th>\n",
       "      <th>stn_id</th>\n",
       "      <th>avg_tca</th>\n",
       "      <th>avg_tca_calc_dtnb</th>\n",
       "    </tr>\n",
       "  </thead>\n",
       "  <tbody>\n",
       "    <tr>\n",
       "      <th>0</th>\n",
       "      <td>2016-04-01 00:00:00</td>\n",
       "      <td>515</td>\n",
       "      <td>0.0</td>\n",
       "      <td>70</td>\n",
       "    </tr>\n",
       "    <tr>\n",
       "      <th>1</th>\n",
       "      <td>2016-04-01 00:00:00</td>\n",
       "      <td>616</td>\n",
       "      <td>NaN</td>\n",
       "      <td>0</td>\n",
       "    </tr>\n",
       "    <tr>\n",
       "      <th>2</th>\n",
       "      <td>2016-04-01 00:00:00</td>\n",
       "      <td>634</td>\n",
       "      <td>0.0</td>\n",
       "      <td>70</td>\n",
       "    </tr>\n",
       "    <tr>\n",
       "      <th>3</th>\n",
       "      <td>2016-04-01 00:00:00</td>\n",
       "      <td>637</td>\n",
       "      <td>0.0</td>\n",
       "      <td>70</td>\n",
       "    </tr>\n",
       "    <tr>\n",
       "      <th>4</th>\n",
       "      <td>2016-04-01 01:00:00</td>\n",
       "      <td>515</td>\n",
       "      <td>0.0</td>\n",
       "      <td>70</td>\n",
       "    </tr>\n",
       "  </tbody>\n",
       "</table>\n",
       "</div>"
      ],
      "text/plain": [
       "                  tma  stn_id  avg_tca  avg_tca_calc_dtnb\n",
       "0 2016-04-01 00:00:00     515      0.0                 70\n",
       "1 2016-04-01 00:00:00     616      NaN                  0\n",
       "2 2016-04-01 00:00:00     634      0.0                 70\n",
       "3 2016-04-01 00:00:00     637      0.0                 70\n",
       "4 2016-04-01 01:00:00     515      0.0                 70"
      ]
     },
     "execution_count": 11,
     "metadata": {},
     "output_type": "execute_result"
    }
   ],
   "source": [
    "cloud = sort_by(cloud, ['tma', 'stn_id'])\n",
    "cloud.head()"
   ]
  },
  {
   "cell_type": "markdown",
   "metadata": {},
   "source": [
    "## 결측치 & 이상치 처리"
   ]
  },
  {
   "cell_type": "code",
   "execution_count": 12,
   "metadata": {},
   "outputs": [
    {
     "data": {
      "text/html": [
       "<div>\n",
       "<style scoped>\n",
       "    .dataframe tbody tr th:only-of-type {\n",
       "        vertical-align: middle;\n",
       "    }\n",
       "\n",
       "    .dataframe tbody tr th {\n",
       "        vertical-align: top;\n",
       "    }\n",
       "\n",
       "    .dataframe thead th {\n",
       "        text-align: right;\n",
       "    }\n",
       "</style>\n",
       "<table border=\"1\" class=\"dataframe\">\n",
       "  <thead>\n",
       "    <tr style=\"text-align: right;\">\n",
       "      <th></th>\n",
       "      <th>tma</th>\n",
       "      <th>stn_id</th>\n",
       "      <th>avg_tca</th>\n",
       "      <th>avg_tca_calc_dtnb</th>\n",
       "    </tr>\n",
       "  </thead>\n",
       "  <tbody>\n",
       "    <tr>\n",
       "      <th>139813</th>\n",
       "      <td>2020-03-31 22:00:00</td>\n",
       "      <td>637</td>\n",
       "      <td>NaN</td>\n",
       "      <td>0</td>\n",
       "    </tr>\n",
       "    <tr>\n",
       "      <th>139814</th>\n",
       "      <td>2020-03-31 23:00:00</td>\n",
       "      <td>515</td>\n",
       "      <td>NaN</td>\n",
       "      <td>0</td>\n",
       "    </tr>\n",
       "    <tr>\n",
       "      <th>139815</th>\n",
       "      <td>2020-03-31 23:00:00</td>\n",
       "      <td>616</td>\n",
       "      <td>NaN</td>\n",
       "      <td>0</td>\n",
       "    </tr>\n",
       "    <tr>\n",
       "      <th>139816</th>\n",
       "      <td>2020-03-31 23:00:00</td>\n",
       "      <td>634</td>\n",
       "      <td>NaN</td>\n",
       "      <td>0</td>\n",
       "    </tr>\n",
       "    <tr>\n",
       "      <th>139817</th>\n",
       "      <td>2020-03-31 23:00:00</td>\n",
       "      <td>637</td>\n",
       "      <td>NaN</td>\n",
       "      <td>0</td>\n",
       "    </tr>\n",
       "  </tbody>\n",
       "</table>\n",
       "</div>"
      ],
      "text/plain": [
       "                       tma  stn_id  avg_tca  avg_tca_calc_dtnb\n",
       "139813 2020-03-31 22:00:00     637      NaN                  0\n",
       "139814 2020-03-31 23:00:00     515      NaN                  0\n",
       "139815 2020-03-31 23:00:00     616      NaN                  0\n",
       "139816 2020-03-31 23:00:00     634      NaN                  0\n",
       "139817 2020-03-31 23:00:00     637      NaN                  0"
      ]
     },
     "execution_count": 12,
     "metadata": {},
     "output_type": "execute_result"
    }
   ],
   "source": [
    "cloud.tail()"
   ]
  },
  {
   "cell_type": "code",
   "execution_count": 13,
   "metadata": {
    "scrolled": true
   },
   "outputs": [
    {
     "data": {
      "text/plain": [
       " 2.6         1\n",
       " 2.4         1\n",
       " 2.8         1\n",
       "-59.4        1\n",
       " 3.1         1\n",
       " 3.2         1\n",
       " 2.9         1\n",
       " 3.3         1\n",
       " 2.2         1\n",
       " 3.8         2\n",
       " 2.1         3\n",
       " 1.6         4\n",
       " 1.8         4\n",
       " 0.9         5\n",
       " 0.8         5\n",
       " 0.4         5\n",
       " 2.3         5\n",
       " 2.0         5\n",
       " 1.9         6\n",
       " 0.5         6\n",
       " 1.2         6\n",
       " 1.0         6\n",
       " 1.7         7\n",
       " 1.3         7\n",
       " 1.5         8\n",
       " 1.4        11\n",
       " 1.1        13\n",
       " 0.7        14\n",
       " 0.3        14\n",
       " 0.6        17\n",
       " 0.1        17\n",
       " 0.2        22\n",
       " 0.0     84056\n",
       "Name: avg_tca, dtype: int64"
      ]
     },
     "execution_count": 13,
     "metadata": {},
     "output_type": "execute_result"
    }
   ],
   "source": [
    "cloud.avg_tca.value_counts().sort_values()"
   ]
  },
  {
   "cell_type": "markdown",
   "metadata": {},
   "source": [
    "-59.4 이상치: 평균 전운량 평균으로 대체"
   ]
  },
  {
   "cell_type": "code",
   "execution_count": 14,
   "metadata": {
    "scrolled": true
   },
   "outputs": [
    {
     "data": {
      "text/plain": [
       "0.0016995620541913428"
      ]
     },
     "execution_count": 14,
     "metadata": {},
     "output_type": "execute_result"
    }
   ],
   "source": [
    "cloud.avg_tca.mean()"
   ]
  },
  {
   "cell_type": "code",
   "execution_count": 15,
   "metadata": {},
   "outputs": [],
   "source": [
    "cloud.loc[cloud.avg_tca==-59.4, 'avg_tca'] = cloud.avg_tca.mean()"
   ]
  },
  {
   "cell_type": "code",
   "execution_count": 16,
   "metadata": {},
   "outputs": [
    {
     "data": {
      "text/plain": [
       "3.2000        1\n",
       "0.0017        1\n",
       "3.3000        1\n",
       "2.9000        1\n",
       "2.6000        1\n",
       "2.8000        1\n",
       "2.2000        1\n",
       "2.4000        1\n",
       "3.1000        1\n",
       "3.8000        2\n",
       "2.1000        3\n",
       "1.6000        4\n",
       "1.8000        4\n",
       "0.4000        5\n",
       "2.0000        5\n",
       "2.3000        5\n",
       "0.9000        5\n",
       "0.8000        5\n",
       "0.5000        6\n",
       "1.9000        6\n",
       "1.0000        6\n",
       "1.2000        6\n",
       "1.7000        7\n",
       "1.3000        7\n",
       "1.5000        8\n",
       "1.4000       11\n",
       "1.1000       13\n",
       "0.7000       14\n",
       "0.3000       14\n",
       "0.1000       17\n",
       "0.6000       17\n",
       "0.2000       22\n",
       "0.0000    84056\n",
       "Name: avg_tca, dtype: int64"
      ]
     },
     "execution_count": 16,
     "metadata": {},
     "output_type": "execute_result"
    }
   ],
   "source": [
    "cloud.avg_tca.value_counts().sort_values()"
   ]
  },
  {
   "cell_type": "code",
   "execution_count": 17,
   "metadata": {},
   "outputs": [
    {
     "data": {
      "text/plain": [
       "tma                      0\n",
       "stn_id                   0\n",
       "avg_tca              55561\n",
       "avg_tca_calc_dtnb        0\n",
       "dtype: int64"
      ]
     },
     "execution_count": 17,
     "metadata": {},
     "output_type": "execute_result"
    }
   ],
   "source": [
    "cloud.isnull().sum()"
   ]
  },
  {
   "cell_type": "code",
   "execution_count": 18,
   "metadata": {
    "scrolled": true
   },
   "outputs": [
    {
     "data": {
      "text/plain": [
       "tma                  0\n",
       "stn_id               0\n",
       "avg_tca              0\n",
       "avg_tca_calc_dtnb    0\n",
       "dtype: int64"
      ]
     },
     "execution_count": 18,
     "metadata": {},
     "output_type": "execute_result"
    }
   ],
   "source": [
    "cloud = cloud.fillna(0)\n",
    "cloud.isnull().sum()"
   ]
  },
  {
   "cell_type": "code",
   "execution_count": 19,
   "metadata": {},
   "outputs": [],
   "source": [
    "cloud.to_csv('../data/weather/aws_cloud.csv', index=False, encoding='utf-8')"
   ]
  },
  {
   "cell_type": "markdown",
   "metadata": {
    "scrolled": true
   },
   "source": [
    "# aws_icsr_ss\n",
    "## 데이터 확인"
   ]
  },
  {
   "cell_type": "code",
   "execution_count": 48,
   "metadata": {},
   "outputs": [
    {
     "name": "stdout",
     "output_type": "stream",
     "text": [
      "<class 'pandas.core.frame.DataFrame'>\n",
      "RangeIndex: 139818 entries, 0 to 139817\n",
      "Data columns (total 11 columns):\n",
      " #   Column               Non-Null Count   Dtype  \n",
      "---  ------               --------------   -----  \n",
      " 0   Unnamed: 0           139818 non-null  int64  \n",
      " 1   tma                  139818 non-null  object \n",
      " 2   stn_id               139818 non-null  int64  \n",
      " 3   sum_ss_hr            62332 non-null   float64\n",
      " 4   sum_ss_hr_qcflg      68422 non-null   float64\n",
      " 5   sum_ss_hr_crob       0 non-null       float64\n",
      " 6   ssrate               0 non-null       float64\n",
      " 7   sum_gsr              62333 non-null   float64\n",
      " 8   sum_ss_hr_calp_dtnb  139818 non-null  int64  \n",
      " 9   orgn_stn_id          0 non-null       float64\n",
      " 10  sum_ss_hr_srv_yn     0 non-null       float64\n",
      "dtypes: float64(7), int64(3), object(1)\n",
      "memory usage: 11.7+ MB\n"
     ]
    }
   ],
   "source": [
    "icsr = pd.read_csv('../data/weather/raw/aws_icsr_ss.csv')\n",
    "icsr.info()"
   ]
  },
  {
   "cell_type": "markdown",
   "metadata": {},
   "source": [
    "## 컬럼 정리"
   ]
  },
  {
   "cell_type": "code",
   "execution_count": 49,
   "metadata": {},
   "outputs": [
    {
     "data": {
      "text/plain": [
       "tma                        0\n",
       "stn_id                     0\n",
       "sum_ss_hr              77486\n",
       "sum_gsr                77485\n",
       "sum_ss_hr_calp_dtnb        0\n",
       "dtype: int64"
      ]
     },
     "execution_count": 49,
     "metadata": {},
     "output_type": "execute_result"
    }
   ],
   "source": [
    "icsr = icsr.drop(columns=['Unnamed: 0', 'sum_ss_hr_crob', 'ssrate', 'orgn_stn_id', 'sum_ss_hr_srv_yn', 'sum_ss_hr_qcflg'])\n",
    "icsr.isnull().sum()"
   ]
  },
  {
   "cell_type": "markdown",
   "metadata": {},
   "source": [
    "## 데이터타입 정리"
   ]
  },
  {
   "cell_type": "code",
   "execution_count": 50,
   "metadata": {
    "scrolled": true
   },
   "outputs": [
    {
     "data": {
      "text/plain": [
       "tma                    datetime64[ns]\n",
       "stn_id                          int64\n",
       "sum_ss_hr                     float64\n",
       "sum_gsr                       float64\n",
       "sum_ss_hr_calp_dtnb             int64\n",
       "dtype: object"
      ]
     },
     "execution_count": 50,
     "metadata": {},
     "output_type": "execute_result"
    }
   ],
   "source": [
    "icsr['tma'] = pd.to_datetime(icsr['tma'])\n",
    "icsr.dtypes"
   ]
  },
  {
   "cell_type": "markdown",
   "metadata": {},
   "source": [
    "## 정렬"
   ]
  },
  {
   "cell_type": "code",
   "execution_count": 51,
   "metadata": {},
   "outputs": [
    {
     "data": {
      "text/html": [
       "<div>\n",
       "<style scoped>\n",
       "    .dataframe tbody tr th:only-of-type {\n",
       "        vertical-align: middle;\n",
       "    }\n",
       "\n",
       "    .dataframe tbody tr th {\n",
       "        vertical-align: top;\n",
       "    }\n",
       "\n",
       "    .dataframe thead th {\n",
       "        text-align: right;\n",
       "    }\n",
       "</style>\n",
       "<table border=\"1\" class=\"dataframe\">\n",
       "  <thead>\n",
       "    <tr style=\"text-align: right;\">\n",
       "      <th></th>\n",
       "      <th>tma</th>\n",
       "      <th>stn_id</th>\n",
       "      <th>sum_ss_hr</th>\n",
       "      <th>sum_gsr</th>\n",
       "      <th>sum_ss_hr_calp_dtnb</th>\n",
       "    </tr>\n",
       "  </thead>\n",
       "  <tbody>\n",
       "    <tr>\n",
       "      <th>0</th>\n",
       "      <td>2016-04-01 20:00:00</td>\n",
       "      <td>634</td>\n",
       "      <td>0.0</td>\n",
       "      <td>0.0</td>\n",
       "      <td>70</td>\n",
       "    </tr>\n",
       "    <tr>\n",
       "      <th>1</th>\n",
       "      <td>2016-04-02 09:00:00</td>\n",
       "      <td>634</td>\n",
       "      <td>0.0</td>\n",
       "      <td>0.0</td>\n",
       "      <td>70</td>\n",
       "    </tr>\n",
       "    <tr>\n",
       "      <th>2</th>\n",
       "      <td>2016-04-02 20:00:00</td>\n",
       "      <td>515</td>\n",
       "      <td>0.0</td>\n",
       "      <td>0.0</td>\n",
       "      <td>70</td>\n",
       "    </tr>\n",
       "    <tr>\n",
       "      <th>3</th>\n",
       "      <td>2016-04-07 07:00:00</td>\n",
       "      <td>637</td>\n",
       "      <td>0.0</td>\n",
       "      <td>0.0</td>\n",
       "      <td>70</td>\n",
       "    </tr>\n",
       "    <tr>\n",
       "      <th>4</th>\n",
       "      <td>2016-04-07 11:00:00</td>\n",
       "      <td>616</td>\n",
       "      <td>0.0</td>\n",
       "      <td>0.0</td>\n",
       "      <td>70</td>\n",
       "    </tr>\n",
       "  </tbody>\n",
       "</table>\n",
       "</div>"
      ],
      "text/plain": [
       "                  tma  stn_id  sum_ss_hr  sum_gsr  sum_ss_hr_calp_dtnb\n",
       "0 2016-04-01 20:00:00     634        0.0      0.0                   70\n",
       "1 2016-04-02 09:00:00     634        0.0      0.0                   70\n",
       "2 2016-04-02 20:00:00     515        0.0      0.0                   70\n",
       "3 2016-04-07 07:00:00     637        0.0      0.0                   70\n",
       "4 2016-04-07 11:00:00     616        0.0      0.0                   70"
      ]
     },
     "execution_count": 51,
     "metadata": {},
     "output_type": "execute_result"
    }
   ],
   "source": [
    "icsr.head()"
   ]
  },
  {
   "cell_type": "code",
   "execution_count": 52,
   "metadata": {},
   "outputs": [
    {
     "data": {
      "text/html": [
       "<div>\n",
       "<style scoped>\n",
       "    .dataframe tbody tr th:only-of-type {\n",
       "        vertical-align: middle;\n",
       "    }\n",
       "\n",
       "    .dataframe tbody tr th {\n",
       "        vertical-align: top;\n",
       "    }\n",
       "\n",
       "    .dataframe thead th {\n",
       "        text-align: right;\n",
       "    }\n",
       "</style>\n",
       "<table border=\"1\" class=\"dataframe\">\n",
       "  <thead>\n",
       "    <tr style=\"text-align: right;\">\n",
       "      <th></th>\n",
       "      <th>tma</th>\n",
       "      <th>stn_id</th>\n",
       "      <th>sum_ss_hr</th>\n",
       "      <th>sum_gsr</th>\n",
       "      <th>sum_ss_hr_calp_dtnb</th>\n",
       "    </tr>\n",
       "  </thead>\n",
       "  <tbody>\n",
       "    <tr>\n",
       "      <th>0</th>\n",
       "      <td>2016-04-01 00:00:00</td>\n",
       "      <td>515</td>\n",
       "      <td>0.0</td>\n",
       "      <td>0.0</td>\n",
       "      <td>70</td>\n",
       "    </tr>\n",
       "    <tr>\n",
       "      <th>1</th>\n",
       "      <td>2016-04-01 00:00:00</td>\n",
       "      <td>616</td>\n",
       "      <td>0.0</td>\n",
       "      <td>0.0</td>\n",
       "      <td>10</td>\n",
       "    </tr>\n",
       "    <tr>\n",
       "      <th>2</th>\n",
       "      <td>2016-04-01 00:00:00</td>\n",
       "      <td>634</td>\n",
       "      <td>0.0</td>\n",
       "      <td>0.0</td>\n",
       "      <td>70</td>\n",
       "    </tr>\n",
       "    <tr>\n",
       "      <th>3</th>\n",
       "      <td>2016-04-01 00:00:00</td>\n",
       "      <td>637</td>\n",
       "      <td>0.0</td>\n",
       "      <td>0.0</td>\n",
       "      <td>70</td>\n",
       "    </tr>\n",
       "    <tr>\n",
       "      <th>4</th>\n",
       "      <td>2016-04-01 01:00:00</td>\n",
       "      <td>515</td>\n",
       "      <td>0.0</td>\n",
       "      <td>0.0</td>\n",
       "      <td>70</td>\n",
       "    </tr>\n",
       "  </tbody>\n",
       "</table>\n",
       "</div>"
      ],
      "text/plain": [
       "                  tma  stn_id  sum_ss_hr  sum_gsr  sum_ss_hr_calp_dtnb\n",
       "0 2016-04-01 00:00:00     515        0.0      0.0                   70\n",
       "1 2016-04-01 00:00:00     616        0.0      0.0                   10\n",
       "2 2016-04-01 00:00:00     634        0.0      0.0                   70\n",
       "3 2016-04-01 00:00:00     637        0.0      0.0                   70\n",
       "4 2016-04-01 01:00:00     515        0.0      0.0                   70"
      ]
     },
     "execution_count": 52,
     "metadata": {},
     "output_type": "execute_result"
    }
   ],
   "source": [
    "icsr = sort_by(icsr, ['tma', 'stn_id'])\n",
    "icsr.head()"
   ]
  },
  {
   "cell_type": "markdown",
   "metadata": {},
   "source": [
    "## 결측치 & 이상치 처리"
   ]
  },
  {
   "cell_type": "code",
   "execution_count": 53,
   "metadata": {},
   "outputs": [
    {
     "data": {
      "text/plain": [
       "tma                        0\n",
       "stn_id                     0\n",
       "sum_ss_hr              77486\n",
       "sum_gsr                77485\n",
       "sum_ss_hr_calp_dtnb        0\n",
       "dtype: int64"
      ]
     },
     "execution_count": 53,
     "metadata": {},
     "output_type": "execute_result"
    }
   ],
   "source": [
    "icsr.isnull().sum()"
   ]
  },
  {
   "cell_type": "code",
   "execution_count": 55,
   "metadata": {},
   "outputs": [
    {
     "data": {
      "image/png": "[encoded data removed]",
      "text/plain": [
       "<Figure size 720x720 with 2 Axes>"
      ]
     },
     "metadata": {
      "needs_background": "light"
     },
     "output_type": "display_data"
    }
   ],
   "source": [
    "plt.figure(figsize=(10,10))\n",
    "\n",
    "for i in range(2):\n",
    "    plt.subplot(3, 1, i+1)\n",
    "    sns.boxplot(icsr.iloc[:,i+2])"
   ]
  },
  {
   "cell_type": "code",
   "execution_count": 56,
   "metadata": {},
   "outputs": [
    {
     "data": {
      "image/png": "[encoded data removed]",
      "text/plain": [
       "<Figure size 720x720 with 2 Axes>"
      ]
     },
     "metadata": {
      "needs_background": "light"
     },
     "output_type": "display_data"
    }
   ],
   "source": [
    "plt.figure(figsize=(10,10))\n",
    "\n",
    "for i in range(2):\n",
    "    plt.subplot(3, 1, i+1)\n",
    "    sns.distplot(icsr.iloc[:,i+2], kde=False)"
   ]
  },
  {
   "cell_type": "code",
   "execution_count": 57,
   "metadata": {},
   "outputs": [
    {
     "data": {
      "text/plain": [
       " 0.0     62301\n",
       " 14.3        4\n",
       "-14.3        4\n",
       " 4.0         3\n",
       " 8.4         2\n",
       "-4.0         2\n",
       " 6.4         2\n",
       "-6.4         2\n",
       "-6.1         2\n",
       " 1.0         1\n",
       "-2.3         1\n",
       " 0.5         1\n",
       " 6.8         1\n",
       " 6.1         1\n",
       " 4.1         1\n",
       "-1.0         1\n",
       "-1.3         1\n",
       " 1.3         1\n",
       " 2.3         1\n",
       "Name: sum_ss_hr, dtype: int64"
      ]
     },
     "execution_count": 57,
     "metadata": {},
     "output_type": "execute_result"
    }
   ],
   "source": [
    "icsr.sum_ss_hr.value_counts()"
   ]
  },
  {
   "cell_type": "code",
   "execution_count": 58,
   "metadata": {},
   "outputs": [
    {
     "data": {
      "text/plain": [
       "tma                        0\n",
       "stn_id                     0\n",
       "sum_ss_hr                  0\n",
       "sum_gsr                77485\n",
       "sum_ss_hr_calp_dtnb        0\n",
       "dtype: int64"
      ]
     },
     "execution_count": 58,
     "metadata": {},
     "output_type": "execute_result"
    }
   ],
   "source": [
    "icsr['sum_ss_hr'] = icsr.sum_ss_hr.fillna(0)\n",
    "icsr.isnull().sum()"
   ]
  },
  {
   "cell_type": "code",
   "execution_count": 60,
   "metadata": {
    "scrolled": true
   },
   "outputs": [
    {
     "data": {
      "text/plain": [
       " 0.00     62302\n",
       "-30.56        4\n",
       " 30.56        4\n",
       " 5.37         3\n",
       " 19.84        3\n",
       "-5.37         2\n",
       "-6.00         2\n",
       "-13.42        2\n",
       " 13.42        2\n",
       "-1.10         1\n",
       "-6.71         1\n",
       " 7.16         1\n",
       " 6.71         1\n",
       " 1.10         1\n",
       " 6.40         1\n",
       " 4.17         1\n",
       "-9.99         1\n",
       "-4.17         1\n",
       "Name: sum_gsr, dtype: int64"
      ]
     },
     "execution_count": 60,
     "metadata": {},
     "output_type": "execute_result"
    }
   ],
   "source": [
    "icsr.sum_gsr.value_counts()"
   ]
  },
  {
   "cell_type": "code",
   "execution_count": 61,
   "metadata": {},
   "outputs": [
    {
     "data": {
      "text/plain": [
       "tma                    0\n",
       "stn_id                 0\n",
       "sum_ss_hr              0\n",
       "sum_gsr                0\n",
       "sum_ss_hr_calp_dtnb    0\n",
       "dtype: int64"
      ]
     },
     "execution_count": 61,
     "metadata": {},
     "output_type": "execute_result"
    }
   ],
   "source": [
    "icsr['sum_gsr'] = icsr.sum_gsr.fillna(0)\n",
    "icsr.isnull().sum()"
   ]
  },
  {
   "cell_type": "code",
   "execution_count": 65,
   "metadata": {},
   "outputs": [],
   "source": [
    "icsr.to_csv('../data/weather/aws_icsr_ss.csv', encoding='utf-8', index=False)"
   ]
  },
  {
   "cell_type": "markdown",
   "metadata": {},
   "source": [
    "# aws_lwt_tg"
   ]
  },
  {
   "cell_type": "markdown",
   "metadata": {},
   "source": [
    "## 데이터 확인"
   ]
  },
  {
   "cell_type": "code",
   "execution_count": 66,
   "metadata": {},
   "outputs": [
    {
     "name": "stdout",
     "output_type": "stream",
     "text": [
      "<class 'pandas.core.frame.DataFrame'>\n",
      "RangeIndex: 139818 entries, 0 to 139817\n",
      "Data columns (total 15 columns):\n",
      " #   Column                Non-Null Count   Dtype  \n",
      "---  ------                --------------   -----  \n",
      " 0   Unnamed: 0            139818 non-null  int64  \n",
      " 1   tma                   139818 non-null  object \n",
      " 2   stn_id                139818 non-null  int64  \n",
      " 3   avg_min_tg            0 non-null       float64\n",
      " 4   min_tg                0 non-null       float64\n",
      " 5   min_tg_hrmt           0 non-null       float64\n",
      " 6   min_tg_crob           0 non-null       float64\n",
      " 7   min_tg_qcflg          0 non-null       float64\n",
      " 8   avg_min_tg_qcflg      0 non-null       float64\n",
      " 9   avg_min_tg_crob       0 non-null       float64\n",
      " 10  avg_min_tg_calc_dtnb  139818 non-null  int64  \n",
      " 11  min_tg_calp_dtnb      139818 non-null  int64  \n",
      " 12  avg_min_tg_srv_yn     0 non-null       float64\n",
      " 13  min_tg_srv_yn         0 non-null       float64\n",
      " 14  orgn_stn_id           0 non-null       float64\n",
      "dtypes: float64(10), int64(4), object(1)\n",
      "memory usage: 16.0+ MB\n"
     ]
    }
   ],
   "source": [
    "lwt = pd.read_csv('../data/weather/raw/aws_lwt_tg.csv')\n",
    "lwt.info()"
   ]
  },
  {
   "cell_type": "markdown",
   "metadata": {},
   "source": [
    "## 컬럼 정리"
   ]
  },
  {
   "cell_type": "code",
   "execution_count": 67,
   "metadata": {
    "scrolled": true
   },
   "outputs": [
    {
     "data": {
      "text/plain": [
       "Index(['Unnamed: 0', 'tma', 'stn_id', 'avg_min_tg', 'min_tg', 'min_tg_hrmt',\n",
       "       'min_tg_crob', 'min_tg_qcflg', 'avg_min_tg_qcflg', 'avg_min_tg_crob',\n",
       "       'avg_min_tg_calc_dtnb', 'min_tg_calp_dtnb', 'avg_min_tg_srv_yn',\n",
       "       'min_tg_srv_yn', 'orgn_stn_id'],\n",
       "      dtype='object')"
      ]
     },
     "execution_count": 67,
     "metadata": {},
     "output_type": "execute_result"
    }
   ],
   "source": [
    "lwt.columns"
   ]
  },
  {
   "cell_type": "code",
   "execution_count": 68,
   "metadata": {},
   "outputs": [
    {
     "data": {
      "text/plain": [
       "tma                     0\n",
       "stn_id                  0\n",
       "avg_min_tg_calc_dtnb    0\n",
       "min_tg_calp_dtnb        0\n",
       "dtype: int64"
      ]
     },
     "execution_count": 68,
     "metadata": {},
     "output_type": "execute_result"
    }
   ],
   "source": [
    "lwt = lwt.drop(columns=['Unnamed: 0', 'avg_min_tg', 'min_tg', 'min_tg_hrmt',\n",
    "       'min_tg_crob', 'min_tg_qcflg', 'avg_min_tg_qcflg', 'avg_min_tg_crob',\n",
    "       'avg_min_tg_srv_yn', 'min_tg_srv_yn', 'orgn_stn_id'])\n",
    "lwt.isnull().sum()"
   ]
  },
  {
   "cell_type": "code",
   "execution_count": 70,
   "metadata": {},
   "outputs": [
    {
     "data": {
      "text/html": [
       "<div>\n",
       "<style scoped>\n",
       "    .dataframe tbody tr th:only-of-type {\n",
       "        vertical-align: middle;\n",
       "    }\n",
       "\n",
       "    .dataframe tbody tr th {\n",
       "        vertical-align: top;\n",
       "    }\n",
       "\n",
       "    .dataframe thead th {\n",
       "        text-align: right;\n",
       "    }\n",
       "</style>\n",
       "<table border=\"1\" class=\"dataframe\">\n",
       "  <thead>\n",
       "    <tr style=\"text-align: right;\">\n",
       "      <th></th>\n",
       "      <th>tma</th>\n",
       "      <th>stn_id</th>\n",
       "      <th>avg_min_tg_calc_dtnb</th>\n",
       "      <th>min_tg_calp_dtnb</th>\n",
       "    </tr>\n",
       "  </thead>\n",
       "  <tbody>\n",
       "    <tr>\n",
       "      <th>0</th>\n",
       "      <td>2016-04-02 14:00:00.0</td>\n",
       "      <td>515</td>\n",
       "      <td>0</td>\n",
       "      <td>0</td>\n",
       "    </tr>\n",
       "    <tr>\n",
       "      <th>1</th>\n",
       "      <td>2016-04-03 07:00:00.0</td>\n",
       "      <td>616</td>\n",
       "      <td>0</td>\n",
       "      <td>0</td>\n",
       "    </tr>\n",
       "    <tr>\n",
       "      <th>2</th>\n",
       "      <td>2016-04-03 08:00:00.0</td>\n",
       "      <td>637</td>\n",
       "      <td>0</td>\n",
       "      <td>0</td>\n",
       "    </tr>\n",
       "    <tr>\n",
       "      <th>3</th>\n",
       "      <td>2016-04-03 17:00:00.0</td>\n",
       "      <td>634</td>\n",
       "      <td>0</td>\n",
       "      <td>0</td>\n",
       "    </tr>\n",
       "    <tr>\n",
       "      <th>4</th>\n",
       "      <td>2016-04-04 11:00:00.0</td>\n",
       "      <td>515</td>\n",
       "      <td>0</td>\n",
       "      <td>0</td>\n",
       "    </tr>\n",
       "  </tbody>\n",
       "</table>\n",
       "</div>"
      ],
      "text/plain": [
       "                     tma  stn_id  avg_min_tg_calc_dtnb  min_tg_calp_dtnb\n",
       "0  2016-04-02 14:00:00.0     515                     0                 0\n",
       "1  2016-04-03 07:00:00.0     616                     0                 0\n",
       "2  2016-04-03 08:00:00.0     637                     0                 0\n",
       "3  2016-04-03 17:00:00.0     634                     0                 0\n",
       "4  2016-04-04 11:00:00.0     515                     0                 0"
      ]
     },
     "execution_count": 70,
     "metadata": {},
     "output_type": "execute_result"
    }
   ],
   "source": [
    "lwt.head()"
   ]
  },
  {
   "cell_type": "markdown",
   "metadata": {},
   "source": [
    "## 데이터타입 정리"
   ]
  },
  {
   "cell_type": "code",
   "execution_count": 71,
   "metadata": {},
   "outputs": [
    {
     "data": {
      "text/plain": [
       "tma                     datetime64[ns]\n",
       "stn_id                           int64\n",
       "avg_min_tg_calc_dtnb             int64\n",
       "min_tg_calp_dtnb                 int64\n",
       "dtype: object"
      ]
     },
     "execution_count": 71,
     "metadata": {},
     "output_type": "execute_result"
    }
   ],
   "source": [
    "lwt['tma'] = pd.to_datetime(lwt['tma'])\n",
    "lwt.dtypes"
   ]
  },
  {
   "cell_type": "markdown",
   "metadata": {},
   "source": [
    "## 정렬"
   ]
  },
  {
   "cell_type": "code",
   "execution_count": 72,
   "metadata": {},
   "outputs": [
    {
     "data": {
      "text/html": [
       "<div>\n",
       "<style scoped>\n",
       "    .dataframe tbody tr th:only-of-type {\n",
       "        vertical-align: middle;\n",
       "    }\n",
       "\n",
       "    .dataframe tbody tr th {\n",
       "        vertical-align: top;\n",
       "    }\n",
       "\n",
       "    .dataframe thead th {\n",
       "        text-align: right;\n",
       "    }\n",
       "</style>\n",
       "<table border=\"1\" class=\"dataframe\">\n",
       "  <thead>\n",
       "    <tr style=\"text-align: right;\">\n",
       "      <th></th>\n",
       "      <th>tma</th>\n",
       "      <th>stn_id</th>\n",
       "      <th>avg_min_tg_calc_dtnb</th>\n",
       "      <th>min_tg_calp_dtnb</th>\n",
       "    </tr>\n",
       "  </thead>\n",
       "  <tbody>\n",
       "    <tr>\n",
       "      <th>0</th>\n",
       "      <td>2016-04-01 00:00:00</td>\n",
       "      <td>515</td>\n",
       "      <td>0</td>\n",
       "      <td>0</td>\n",
       "    </tr>\n",
       "    <tr>\n",
       "      <th>1</th>\n",
       "      <td>2016-04-01 00:00:00</td>\n",
       "      <td>616</td>\n",
       "      <td>0</td>\n",
       "      <td>0</td>\n",
       "    </tr>\n",
       "    <tr>\n",
       "      <th>2</th>\n",
       "      <td>2016-04-01 00:00:00</td>\n",
       "      <td>634</td>\n",
       "      <td>0</td>\n",
       "      <td>0</td>\n",
       "    </tr>\n",
       "    <tr>\n",
       "      <th>3</th>\n",
       "      <td>2016-04-01 00:00:00</td>\n",
       "      <td>637</td>\n",
       "      <td>0</td>\n",
       "      <td>0</td>\n",
       "    </tr>\n",
       "    <tr>\n",
       "      <th>4</th>\n",
       "      <td>2016-04-01 01:00:00</td>\n",
       "      <td>515</td>\n",
       "      <td>0</td>\n",
       "      <td>0</td>\n",
       "    </tr>\n",
       "  </tbody>\n",
       "</table>\n",
       "</div>"
      ],
      "text/plain": [
       "                  tma  stn_id  avg_min_tg_calc_dtnb  min_tg_calp_dtnb\n",
       "0 2016-04-01 00:00:00     515                     0                 0\n",
       "1 2016-04-01 00:00:00     616                     0                 0\n",
       "2 2016-04-01 00:00:00     634                     0                 0\n",
       "3 2016-04-01 00:00:00     637                     0                 0\n",
       "4 2016-04-01 01:00:00     515                     0                 0"
      ]
     },
     "execution_count": 72,
     "metadata": {},
     "output_type": "execute_result"
    }
   ],
   "source": [
    "lwt = sort_by(lwt, ['tma', 'stn_id'])\n",
    "lwt.head()"
   ]
  },
  {
   "cell_type": "markdown",
   "metadata": {},
   "source": [
    "## 결측치 & 이상치 처리"
   ]
  },
  {
   "cell_type": "code",
   "execution_count": 76,
   "metadata": {},
   "outputs": [
    {
     "data": {
      "image/png": "[encoded data removed]",
      "text/plain": [
       "<Figure size 720x720 with 2 Axes>"
      ]
     },
     "metadata": {
      "needs_background": "light"
     },
     "output_type": "display_data"
    }
   ],
   "source": [
    "plt.figure(figsize=(10,10))\n",
    "\n",
    "for i in range(2):\n",
    "    plt.subplot(3, 1, i+1)\n",
    "    sns.distplot(icsr.iloc[:,i+2], kde=False)"
   ]
  },
  {
   "cell_type": "code",
   "execution_count": 73,
   "metadata": {},
   "outputs": [],
   "source": [
    "lwt.to_csv('../data/weather/aws_lwt_tg.csv', encoding='utf-8', index=False)"
   ]
  },
  {
   "cell_type": "markdown",
   "metadata": {},
   "source": [
    "# aws_prsr\n",
    "## 데이터 확인"
   ]
  },
  {
   "cell_type": "code",
   "execution_count": 116,
   "metadata": {},
   "outputs": [
    {
     "name": "stdout",
     "output_type": "stream",
     "text": [
      "<class 'pandas.core.frame.DataFrame'>\n",
      "RangeIndex: 139818 entries, 0 to 139817\n",
      "Data columns (total 46 columns):\n",
      " #   Column            Non-Null Count   Dtype  \n",
      "---  ------            --------------   -----  \n",
      " 0   Unnamed: 0        139818 non-null  int64  \n",
      " 1   tma               139818 non-null  object \n",
      " 2   stn_id            139818 non-null  int64  \n",
      " 3   avg_pa            35124 non-null   float64\n",
      " 4   avg_pa_qcflg      90034 non-null   float64\n",
      " 5   avg_pa_crob       214 non-null     float64\n",
      " 6   max_pa            35183 non-null   float64\n",
      " 7   max_pa_qcflg      0 non-null       float64\n",
      " 8   max_pa_crob       153 non-null     float64\n",
      " 9   max_pa_hrmt       35336 non-null   float64\n",
      " 10  min_pa            35183 non-null   float64\n",
      " 11  min_pa_qcflg      0 non-null       float64\n",
      " 12  min_pa_crob       153 non-null     float64\n",
      " 13  min_pa_hrmt       35336 non-null   float64\n",
      " 14  avg_pa_calc_dtnb  139816 non-null  float64\n",
      " 15  avg_ps            35124 non-null   float64\n",
      " 16  avg_ps_qcflg      90034 non-null   float64\n",
      " 17  avg_ps_crob       214 non-null     float64\n",
      " 18  max_ps            35183 non-null   float64\n",
      " 19  max_ps_qcflg      0 non-null       float64\n",
      " 20  max_ps_crob       153 non-null     float64\n",
      " 21  max_ps_hrmt       35336 non-null   float64\n",
      " 22  min_ps            35183 non-null   float64\n",
      " 23  min_ps_qcflg      0 non-null       float64\n",
      " 24  min_ps_crob       153 non-null     float64\n",
      " 25  min_ps_hrmt       35336 non-null   float64\n",
      " 26  avg_ps_calc_dtnb  139816 non-null  float64\n",
      " 27  rtm_pa            35238 non-null   float64\n",
      " 28  rtm_pa_qcflg      0 non-null       float64\n",
      " 29  rtm_pa_crob       0 non-null       float64\n",
      " 30  rtm_ps            35238 non-null   float64\n",
      " 31  rtm_ps_qcflg      0 non-null       float64\n",
      " 32  rtm_ps_crob       0 non-null       float64\n",
      " 33  rtm_pa_hrmt       35238 non-null   float64\n",
      " 34  rtm_ps_hrmt       35238 non-null   float64\n",
      " 35  avg_pa_srv_yn     0 non-null       float64\n",
      " 36  avg_ps_srv_yn     0 non-null       float64\n",
      " 37  max_pa_srv_yn     0 non-null       float64\n",
      " 38  max_ps_srv_yn     0 non-null       float64\n",
      " 39  min_pa_srv_yn     0 non-null       float64\n",
      " 40  min_ps_srv_yn     0 non-null       float64\n",
      " 41  orgn_stn_id       0 non-null       float64\n",
      " 42  pa_calp_dtnb      139816 non-null  float64\n",
      " 43  ps_calp_dtnb      139816 non-null  float64\n",
      " 44  rtm_pa_srv_yn     0 non-null       float64\n",
      " 45  rtm_ps_srv_yn     0 non-null       float64\n",
      "dtypes: float64(43), int64(2), object(1)\n",
      "memory usage: 49.1+ MB\n"
     ]
    }
   ],
   "source": [
    "prsr = pd.read_csv('../data/weather/raw/aws_prsr.csv')\n",
    "prsr.info()"
   ]
  },
  {
   "cell_type": "code",
   "execution_count": 117,
   "metadata": {},
   "outputs": [
    {
     "data": {
      "text/plain": [
       "Index(['Unnamed: 0', 'tma', 'stn_id', 'avg_pa', 'avg_pa_qcflg', 'avg_pa_crob',\n",
       "       'max_pa', 'max_pa_qcflg', 'max_pa_crob', 'max_pa_hrmt', 'min_pa',\n",
       "       'min_pa_qcflg', 'min_pa_crob', 'min_pa_hrmt', 'avg_pa_calc_dtnb',\n",
       "       'avg_ps', 'avg_ps_qcflg', 'avg_ps_crob', 'max_ps', 'max_ps_qcflg',\n",
       "       'max_ps_crob', 'max_ps_hrmt', 'min_ps', 'min_ps_qcflg', 'min_ps_crob',\n",
       "       'min_ps_hrmt', 'avg_ps_calc_dtnb', 'rtm_pa', 'rtm_pa_qcflg',\n",
       "       'rtm_pa_crob', 'rtm_ps', 'rtm_ps_qcflg', 'rtm_ps_crob', 'rtm_pa_hrmt',\n",
       "       'rtm_ps_hrmt', 'avg_pa_srv_yn', 'avg_ps_srv_yn', 'max_pa_srv_yn',\n",
       "       'max_ps_srv_yn', 'min_pa_srv_yn', 'min_ps_srv_yn', 'orgn_stn_id',\n",
       "       'pa_calp_dtnb', 'ps_calp_dtnb', 'rtm_pa_srv_yn', 'rtm_ps_srv_yn'],\n",
       "      dtype='object')"
      ]
     },
     "execution_count": 117,
     "metadata": {},
     "output_type": "execute_result"
    }
   ],
   "source": [
    "prsr.columns"
   ]
  },
  {
   "cell_type": "markdown",
   "metadata": {},
   "source": [
    "## 컬럼 정리"
   ]
  },
  {
   "cell_type": "code",
   "execution_count": 118,
   "metadata": {},
   "outputs": [
    {
     "name": "stdout",
     "output_type": "stream",
     "text": [
      "<class 'pandas.core.frame.DataFrame'>\n",
      "RangeIndex: 139818 entries, 0 to 139817\n",
      "Data columns (total 20 columns):\n",
      " #   Column            Non-Null Count   Dtype  \n",
      "---  ------            --------------   -----  \n",
      " 0   tma               139818 non-null  object \n",
      " 1   stn_id            139818 non-null  int64  \n",
      " 2   avg_pa            35124 non-null   float64\n",
      " 3   max_pa            35183 non-null   float64\n",
      " 4   max_pa_hrmt       35336 non-null   float64\n",
      " 5   min_pa            35183 non-null   float64\n",
      " 6   min_pa_hrmt       35336 non-null   float64\n",
      " 7   avg_pa_calc_dtnb  139816 non-null  float64\n",
      " 8   avg_ps            35124 non-null   float64\n",
      " 9   max_ps            35183 non-null   float64\n",
      " 10  max_ps_hrmt       35336 non-null   float64\n",
      " 11  min_ps            35183 non-null   float64\n",
      " 12  min_ps_hrmt       35336 non-null   float64\n",
      " 13  avg_ps_calc_dtnb  139816 non-null  float64\n",
      " 14  rtm_pa            35238 non-null   float64\n",
      " 15  rtm_ps            35238 non-null   float64\n",
      " 16  rtm_pa_hrmt       35238 non-null   float64\n",
      " 17  rtm_ps_hrmt       35238 non-null   float64\n",
      " 18  pa_calp_dtnb      139816 non-null  float64\n",
      " 19  ps_calp_dtnb      139816 non-null  float64\n",
      "dtypes: float64(18), int64(1), object(1)\n",
      "memory usage: 21.3+ MB\n"
     ]
    }
   ],
   "source": [
    "prsr = prsr.drop(columns=['Unnamed: 0', 'avg_pa_qcflg', 'avg_pa_crob', 'max_pa_qcflg', 'max_pa_crob', 'min_pa_qcflg', 'min_pa_crob',\n",
    "                         'avg_ps_qcflg', 'avg_ps_crob', 'max_ps_qcflg', 'max_ps_crob', 'min_ps_qcflg', 'min_ps_crob', 'rtm_pa_qcflg',\n",
    "                         'rtm_pa_crob', 'rtm_ps_qcflg', 'rtm_ps_crob', 'avg_pa_srv_yn', 'avg_ps_srv_yn', 'max_pa_srv_yn',\n",
    "                         'max_ps_srv_yn', 'min_pa_srv_yn', 'min_ps_srv_yn', 'orgn_stn_id', 'rtm_pa_srv_yn', 'rtm_ps_srv_yn'])\n",
    "prsr.info()"
   ]
  },
  {
   "cell_type": "code",
   "execution_count": 119,
   "metadata": {},
   "outputs": [
    {
     "data": {
      "text/html": [
       "<div>\n",
       "<style scoped>\n",
       "    .dataframe tbody tr th:only-of-type {\n",
       "        vertical-align: middle;\n",
       "    }\n",
       "\n",
       "    .dataframe tbody tr th {\n",
       "        vertical-align: top;\n",
       "    }\n",
       "\n",
       "    .dataframe thead th {\n",
       "        text-align: right;\n",
       "    }\n",
       "</style>\n",
       "<table border=\"1\" class=\"dataframe\">\n",
       "  <thead>\n",
       "    <tr style=\"text-align: right;\">\n",
       "      <th></th>\n",
       "      <th>tma</th>\n",
       "      <th>stn_id</th>\n",
       "      <th>avg_pa</th>\n",
       "      <th>max_pa</th>\n",
       "      <th>max_pa_hrmt</th>\n",
       "      <th>min_pa</th>\n",
       "      <th>min_pa_hrmt</th>\n",
       "      <th>avg_pa_calc_dtnb</th>\n",
       "      <th>avg_ps</th>\n",
       "      <th>max_ps</th>\n",
       "      <th>max_ps_hrmt</th>\n",
       "      <th>min_ps</th>\n",
       "      <th>min_ps_hrmt</th>\n",
       "      <th>avg_ps_calc_dtnb</th>\n",
       "      <th>rtm_pa</th>\n",
       "      <th>rtm_ps</th>\n",
       "      <th>rtm_pa_hrmt</th>\n",
       "      <th>rtm_ps_hrmt</th>\n",
       "      <th>pa_calp_dtnb</th>\n",
       "      <th>ps_calp_dtnb</th>\n",
       "    </tr>\n",
       "  </thead>\n",
       "  <tbody>\n",
       "    <tr>\n",
       "      <th>0</th>\n",
       "      <td>2016-04-01 13:00:00.0</td>\n",
       "      <td>515</td>\n",
       "      <td>NaN</td>\n",
       "      <td>NaN</td>\n",
       "      <td>NaN</td>\n",
       "      <td>NaN</td>\n",
       "      <td>NaN</td>\n",
       "      <td>0.0</td>\n",
       "      <td>NaN</td>\n",
       "      <td>NaN</td>\n",
       "      <td>NaN</td>\n",
       "      <td>NaN</td>\n",
       "      <td>NaN</td>\n",
       "      <td>0.0</td>\n",
       "      <td>NaN</td>\n",
       "      <td>NaN</td>\n",
       "      <td>NaN</td>\n",
       "      <td>NaN</td>\n",
       "      <td>0.0</td>\n",
       "      <td>0.0</td>\n",
       "    </tr>\n",
       "    <tr>\n",
       "      <th>1</th>\n",
       "      <td>2016-04-01 14:00:00.0</td>\n",
       "      <td>616</td>\n",
       "      <td>NaN</td>\n",
       "      <td>NaN</td>\n",
       "      <td>NaN</td>\n",
       "      <td>NaN</td>\n",
       "      <td>NaN</td>\n",
       "      <td>0.0</td>\n",
       "      <td>NaN</td>\n",
       "      <td>NaN</td>\n",
       "      <td>NaN</td>\n",
       "      <td>NaN</td>\n",
       "      <td>NaN</td>\n",
       "      <td>0.0</td>\n",
       "      <td>NaN</td>\n",
       "      <td>NaN</td>\n",
       "      <td>NaN</td>\n",
       "      <td>NaN</td>\n",
       "      <td>0.0</td>\n",
       "      <td>0.0</td>\n",
       "    </tr>\n",
       "    <tr>\n",
       "      <th>2</th>\n",
       "      <td>2016-04-01 17:00:00.0</td>\n",
       "      <td>515</td>\n",
       "      <td>NaN</td>\n",
       "      <td>NaN</td>\n",
       "      <td>NaN</td>\n",
       "      <td>NaN</td>\n",
       "      <td>NaN</td>\n",
       "      <td>0.0</td>\n",
       "      <td>NaN</td>\n",
       "      <td>NaN</td>\n",
       "      <td>NaN</td>\n",
       "      <td>NaN</td>\n",
       "      <td>NaN</td>\n",
       "      <td>0.0</td>\n",
       "      <td>NaN</td>\n",
       "      <td>NaN</td>\n",
       "      <td>NaN</td>\n",
       "      <td>NaN</td>\n",
       "      <td>0.0</td>\n",
       "      <td>0.0</td>\n",
       "    </tr>\n",
       "    <tr>\n",
       "      <th>3</th>\n",
       "      <td>2016-04-01 18:00:00.0</td>\n",
       "      <td>616</td>\n",
       "      <td>NaN</td>\n",
       "      <td>NaN</td>\n",
       "      <td>NaN</td>\n",
       "      <td>NaN</td>\n",
       "      <td>NaN</td>\n",
       "      <td>0.0</td>\n",
       "      <td>NaN</td>\n",
       "      <td>NaN</td>\n",
       "      <td>NaN</td>\n",
       "      <td>NaN</td>\n",
       "      <td>NaN</td>\n",
       "      <td>0.0</td>\n",
       "      <td>NaN</td>\n",
       "      <td>NaN</td>\n",
       "      <td>NaN</td>\n",
       "      <td>NaN</td>\n",
       "      <td>0.0</td>\n",
       "      <td>0.0</td>\n",
       "    </tr>\n",
       "    <tr>\n",
       "      <th>4</th>\n",
       "      <td>2016-04-04 13:00:00.0</td>\n",
       "      <td>637</td>\n",
       "      <td>1010.9</td>\n",
       "      <td>1011.2</td>\n",
       "      <td>1201.0</td>\n",
       "      <td>1010.5</td>\n",
       "      <td>1254.0</td>\n",
       "      <td>60.0</td>\n",
       "      <td>1013.5</td>\n",
       "      <td>1013.8</td>\n",
       "      <td>1201.0</td>\n",
       "      <td>1013.1</td>\n",
       "      <td>1254.0</td>\n",
       "      <td>60.0</td>\n",
       "      <td>1010.5</td>\n",
       "      <td>1013.1</td>\n",
       "      <td>1300.0</td>\n",
       "      <td>1300.0</td>\n",
       "      <td>60.0</td>\n",
       "      <td>60.0</td>\n",
       "    </tr>\n",
       "  </tbody>\n",
       "</table>\n",
       "</div>"
      ],
      "text/plain": [
       "                     tma  stn_id  avg_pa  max_pa  max_pa_hrmt  min_pa  \\\n",
       "0  2016-04-01 13:00:00.0     515     NaN     NaN          NaN     NaN   \n",
       "1  2016-04-01 14:00:00.0     616     NaN     NaN          NaN     NaN   \n",
       "2  2016-04-01 17:00:00.0     515     NaN     NaN          NaN     NaN   \n",
       "3  2016-04-01 18:00:00.0     616     NaN     NaN          NaN     NaN   \n",
       "4  2016-04-04 13:00:00.0     637  1010.9  1011.2       1201.0  1010.5   \n",
       "\n",
       "   min_pa_hrmt  avg_pa_calc_dtnb  avg_ps  max_ps  max_ps_hrmt  min_ps  \\\n",
       "0          NaN               0.0     NaN     NaN          NaN     NaN   \n",
       "1          NaN               0.0     NaN     NaN          NaN     NaN   \n",
       "2          NaN               0.0     NaN     NaN          NaN     NaN   \n",
       "3          NaN               0.0     NaN     NaN          NaN     NaN   \n",
       "4       1254.0              60.0  1013.5  1013.8       1201.0  1013.1   \n",
       "\n",
       "   min_ps_hrmt  avg_ps_calc_dtnb  rtm_pa  rtm_ps  rtm_pa_hrmt  rtm_ps_hrmt  \\\n",
       "0          NaN               0.0     NaN     NaN          NaN          NaN   \n",
       "1          NaN               0.0     NaN     NaN          NaN          NaN   \n",
       "2          NaN               0.0     NaN     NaN          NaN          NaN   \n",
       "3          NaN               0.0     NaN     NaN          NaN          NaN   \n",
       "4       1254.0              60.0  1010.5  1013.1       1300.0       1300.0   \n",
       "\n",
       "   pa_calp_dtnb  ps_calp_dtnb  \n",
       "0           0.0           0.0  \n",
       "1           0.0           0.0  \n",
       "2           0.0           0.0  \n",
       "3           0.0           0.0  \n",
       "4          60.0          60.0  "
      ]
     },
     "execution_count": 119,
     "metadata": {},
     "output_type": "execute_result"
    }
   ],
   "source": [
    "prsr.head()"
   ]
  },
  {
   "cell_type": "markdown",
   "metadata": {},
   "source": [
    "## 데이터타입 정리"
   ]
  },
  {
   "cell_type": "code",
   "execution_count": 120,
   "metadata": {},
   "outputs": [
    {
     "data": {
      "text/plain": [
       "tma                 datetime64[ns]\n",
       "stn_id                       int64\n",
       "avg_pa                     float64\n",
       "max_pa                     float64\n",
       "max_pa_hrmt                float64\n",
       "min_pa                     float64\n",
       "min_pa_hrmt                float64\n",
       "avg_pa_calc_dtnb           float64\n",
       "avg_ps                     float64\n",
       "max_ps                     float64\n",
       "max_ps_hrmt                float64\n",
       "min_ps                     float64\n",
       "min_ps_hrmt                float64\n",
       "avg_ps_calc_dtnb           float64\n",
       "rtm_pa                     float64\n",
       "rtm_ps                     float64\n",
       "rtm_pa_hrmt                float64\n",
       "rtm_ps_hrmt                float64\n",
       "pa_calp_dtnb               float64\n",
       "ps_calp_dtnb               float64\n",
       "dtype: object"
      ]
     },
     "execution_count": 120,
     "metadata": {},
     "output_type": "execute_result"
    }
   ],
   "source": [
    "prsr['tma'] = pd.to_datetime(prsr['tma'])\n",
    "prsr.dtypes"
   ]
  },
  {
   "cell_type": "markdown",
   "metadata": {},
   "source": [
    "## 정렬"
   ]
  },
  {
   "cell_type": "code",
   "execution_count": 135,
   "metadata": {},
   "outputs": [
    {
     "data": {
      "text/html": [
       "<div>\n",
       "<style scoped>\n",
       "    .dataframe tbody tr th:only-of-type {\n",
       "        vertical-align: middle;\n",
       "    }\n",
       "\n",
       "    .dataframe tbody tr th {\n",
       "        vertical-align: top;\n",
       "    }\n",
       "\n",
       "    .dataframe thead th {\n",
       "        text-align: right;\n",
       "    }\n",
       "</style>\n",
       "<table border=\"1\" class=\"dataframe\">\n",
       "  <thead>\n",
       "    <tr style=\"text-align: right;\">\n",
       "      <th></th>\n",
       "      <th>tma</th>\n",
       "      <th>stn_id</th>\n",
       "      <th>avg_pa</th>\n",
       "      <th>max_pa</th>\n",
       "      <th>max_pa_hrmt</th>\n",
       "      <th>min_pa</th>\n",
       "      <th>min_pa_hrmt</th>\n",
       "      <th>avg_pa_calc_dtnb</th>\n",
       "      <th>avg_ps</th>\n",
       "      <th>max_ps</th>\n",
       "      <th>max_ps_hrmt</th>\n",
       "      <th>min_ps</th>\n",
       "      <th>min_ps_hrmt</th>\n",
       "      <th>avg_ps_calc_dtnb</th>\n",
       "      <th>rtm_pa</th>\n",
       "      <th>rtm_ps</th>\n",
       "      <th>rtm_pa_hrmt</th>\n",
       "      <th>rtm_ps_hrmt</th>\n",
       "      <th>pa_calp_dtnb</th>\n",
       "      <th>ps_calp_dtnb</th>\n",
       "    </tr>\n",
       "  </thead>\n",
       "  <tbody>\n",
       "    <tr>\n",
       "      <th>0</th>\n",
       "      <td>2016-04-01 00:00:00</td>\n",
       "      <td>515</td>\n",
       "      <td>NaN</td>\n",
       "      <td>NaN</td>\n",
       "      <td>NaN</td>\n",
       "      <td>NaN</td>\n",
       "      <td>NaN</td>\n",
       "      <td>0.0</td>\n",
       "      <td>NaN</td>\n",
       "      <td>NaN</td>\n",
       "      <td>NaN</td>\n",
       "      <td>NaN</td>\n",
       "      <td>NaN</td>\n",
       "      <td>0.0</td>\n",
       "      <td>NaN</td>\n",
       "      <td>NaN</td>\n",
       "      <td>NaN</td>\n",
       "      <td>NaN</td>\n",
       "      <td>0.0</td>\n",
       "      <td>0.0</td>\n",
       "    </tr>\n",
       "    <tr>\n",
       "      <th>1</th>\n",
       "      <td>2016-04-01 00:00:00</td>\n",
       "      <td>616</td>\n",
       "      <td>NaN</td>\n",
       "      <td>NaN</td>\n",
       "      <td>NaN</td>\n",
       "      <td>NaN</td>\n",
       "      <td>NaN</td>\n",
       "      <td>0.0</td>\n",
       "      <td>NaN</td>\n",
       "      <td>NaN</td>\n",
       "      <td>NaN</td>\n",
       "      <td>NaN</td>\n",
       "      <td>NaN</td>\n",
       "      <td>0.0</td>\n",
       "      <td>NaN</td>\n",
       "      <td>NaN</td>\n",
       "      <td>NaN</td>\n",
       "      <td>NaN</td>\n",
       "      <td>0.0</td>\n",
       "      <td>0.0</td>\n",
       "    </tr>\n",
       "    <tr>\n",
       "      <th>2</th>\n",
       "      <td>2016-04-01 00:00:00</td>\n",
       "      <td>634</td>\n",
       "      <td>NaN</td>\n",
       "      <td>NaN</td>\n",
       "      <td>NaN</td>\n",
       "      <td>NaN</td>\n",
       "      <td>NaN</td>\n",
       "      <td>0.0</td>\n",
       "      <td>NaN</td>\n",
       "      <td>NaN</td>\n",
       "      <td>NaN</td>\n",
       "      <td>NaN</td>\n",
       "      <td>NaN</td>\n",
       "      <td>0.0</td>\n",
       "      <td>NaN</td>\n",
       "      <td>NaN</td>\n",
       "      <td>NaN</td>\n",
       "      <td>NaN</td>\n",
       "      <td>0.0</td>\n",
       "      <td>0.0</td>\n",
       "    </tr>\n",
       "    <tr>\n",
       "      <th>3</th>\n",
       "      <td>2016-04-01 00:00:00</td>\n",
       "      <td>637</td>\n",
       "      <td>1013.3</td>\n",
       "      <td>1013.5</td>\n",
       "      <td>2301.0</td>\n",
       "      <td>1013.0</td>\n",
       "      <td>2358.0</td>\n",
       "      <td>60.0</td>\n",
       "      <td>1016.0</td>\n",
       "      <td>1016.2</td>\n",
       "      <td>2301.0</td>\n",
       "      <td>1015.7</td>\n",
       "      <td>2358.0</td>\n",
       "      <td>60.0</td>\n",
       "      <td>1013.0</td>\n",
       "      <td>1015.7</td>\n",
       "      <td>0.0</td>\n",
       "      <td>0.0</td>\n",
       "      <td>60.0</td>\n",
       "      <td>60.0</td>\n",
       "    </tr>\n",
       "    <tr>\n",
       "      <th>4</th>\n",
       "      <td>2016-04-01 01:00:00</td>\n",
       "      <td>515</td>\n",
       "      <td>NaN</td>\n",
       "      <td>NaN</td>\n",
       "      <td>NaN</td>\n",
       "      <td>NaN</td>\n",
       "      <td>NaN</td>\n",
       "      <td>0.0</td>\n",
       "      <td>NaN</td>\n",
       "      <td>NaN</td>\n",
       "      <td>NaN</td>\n",
       "      <td>NaN</td>\n",
       "      <td>NaN</td>\n",
       "      <td>0.0</td>\n",
       "      <td>NaN</td>\n",
       "      <td>NaN</td>\n",
       "      <td>NaN</td>\n",
       "      <td>NaN</td>\n",
       "      <td>0.0</td>\n",
       "      <td>0.0</td>\n",
       "    </tr>\n",
       "  </tbody>\n",
       "</table>\n",
       "</div>"
      ],
      "text/plain": [
       "                  tma  stn_id  avg_pa  max_pa  max_pa_hrmt  min_pa  \\\n",
       "0 2016-04-01 00:00:00     515     NaN     NaN          NaN     NaN   \n",
       "1 2016-04-01 00:00:00     616     NaN     NaN          NaN     NaN   \n",
       "2 2016-04-01 00:00:00     634     NaN     NaN          NaN     NaN   \n",
       "3 2016-04-01 00:00:00     637  1013.3  1013.5       2301.0  1013.0   \n",
       "4 2016-04-01 01:00:00     515     NaN     NaN          NaN     NaN   \n",
       "\n",
       "   min_pa_hrmt  avg_pa_calc_dtnb  avg_ps  max_ps  max_ps_hrmt  min_ps  \\\n",
       "0          NaN               0.0     NaN     NaN          NaN     NaN   \n",
       "1          NaN               0.0     NaN     NaN          NaN     NaN   \n",
       "2          NaN               0.0     NaN     NaN          NaN     NaN   \n",
       "3       2358.0              60.0  1016.0  1016.2       2301.0  1015.7   \n",
       "4          NaN               0.0     NaN     NaN          NaN     NaN   \n",
       "\n",
       "   min_ps_hrmt  avg_ps_calc_dtnb  rtm_pa  rtm_ps  rtm_pa_hrmt  rtm_ps_hrmt  \\\n",
       "0          NaN               0.0     NaN     NaN          NaN          NaN   \n",
       "1          NaN               0.0     NaN     NaN          NaN          NaN   \n",
       "2          NaN               0.0     NaN     NaN          NaN          NaN   \n",
       "3       2358.0              60.0  1013.0  1015.7          0.0          0.0   \n",
       "4          NaN               0.0     NaN     NaN          NaN          NaN   \n",
       "\n",
       "   pa_calp_dtnb  ps_calp_dtnb  \n",
       "0           0.0           0.0  \n",
       "1           0.0           0.0  \n",
       "2           0.0           0.0  \n",
       "3          60.0          60.0  \n",
       "4           0.0           0.0  "
      ]
     },
     "execution_count": 135,
     "metadata": {},
     "output_type": "execute_result"
    }
   ],
   "source": [
    "prsr = sort_by(prsr, ['tma', 'stn_id'])\n",
    "prsr.head()"
   ]
  },
  {
   "cell_type": "markdown",
   "metadata": {},
   "source": [
    "## 결측치 & 이상치 처리"
   ]
  },
  {
   "cell_type": "code",
   "execution_count": 136,
   "metadata": {},
   "outputs": [
    {
     "data": {
      "text/plain": [
       "(139818, 20)"
      ]
     },
     "execution_count": 136,
     "metadata": {},
     "output_type": "execute_result"
    }
   ],
   "source": [
    "prsr.shape"
   ]
  },
  {
   "cell_type": "code",
   "execution_count": 137,
   "metadata": {},
   "outputs": [],
   "source": [
    "# plt.figure(figsize=(15,20))\n",
    "\n",
    "# for i in range(18):\n",
    "#     plt.subplot(5, 4, i+1)\n",
    "#     sns.distplot(prsr.iloc[:,i+2], kde=False)"
   ]
  },
  {
   "cell_type": "code",
   "execution_count": 138,
   "metadata": {
    "scrolled": false
   },
   "outputs": [
    {
     "data": {
      "text/plain": [
       "tma                 0.000000\n",
       "stn_id              0.000000\n",
       "avg_pa              0.748788\n",
       "max_pa              0.748366\n",
       "max_pa_hrmt         0.747271\n",
       "min_pa              0.748366\n",
       "min_pa_hrmt         0.747271\n",
       "avg_pa_calc_dtnb    0.000014\n",
       "avg_ps              0.748788\n",
       "max_ps              0.748366\n",
       "max_ps_hrmt         0.747271\n",
       "min_ps              0.748366\n",
       "min_ps_hrmt         0.747271\n",
       "avg_ps_calc_dtnb    0.000014\n",
       "rtm_pa              0.747972\n",
       "rtm_ps              0.747972\n",
       "rtm_pa_hrmt         0.747972\n",
       "rtm_ps_hrmt         0.747972\n",
       "pa_calp_dtnb        0.000014\n",
       "ps_calp_dtnb        0.000014\n",
       "dtype: float64"
      ]
     },
     "execution_count": 138,
     "metadata": {},
     "output_type": "execute_result"
    }
   ],
   "source": [
    "prsr.isnull().mean()"
   ]
  },
  {
   "cell_type": "markdown",
   "metadata": {},
   "source": [
    "결측치가 75%가량. 지점별로 차이가 있는지 확인"
   ]
  },
  {
   "cell_type": "code",
   "execution_count": 139,
   "metadata": {},
   "outputs": [
    {
     "data": {
      "text/html": [
       "<div>\n",
       "<style scoped>\n",
       "    .dataframe tbody tr th:only-of-type {\n",
       "        vertical-align: middle;\n",
       "    }\n",
       "\n",
       "    .dataframe tbody tr th {\n",
       "        vertical-align: top;\n",
       "    }\n",
       "\n",
       "    .dataframe thead th {\n",
       "        text-align: right;\n",
       "    }\n",
       "</style>\n",
       "<table border=\"1\" class=\"dataframe\">\n",
       "  <thead>\n",
       "    <tr style=\"text-align: right;\">\n",
       "      <th></th>\n",
       "      <th>tma</th>\n",
       "      <th>avg_pa</th>\n",
       "      <th>max_pa</th>\n",
       "      <th>max_pa_hrmt</th>\n",
       "      <th>min_pa</th>\n",
       "      <th>min_pa_hrmt</th>\n",
       "      <th>avg_pa_calc_dtnb</th>\n",
       "      <th>avg_ps</th>\n",
       "      <th>max_ps</th>\n",
       "      <th>max_ps_hrmt</th>\n",
       "      <th>min_ps</th>\n",
       "      <th>min_ps_hrmt</th>\n",
       "      <th>avg_ps_calc_dtnb</th>\n",
       "      <th>rtm_pa</th>\n",
       "      <th>rtm_ps</th>\n",
       "      <th>rtm_pa_hrmt</th>\n",
       "      <th>rtm_ps_hrmt</th>\n",
       "      <th>pa_calp_dtnb</th>\n",
       "      <th>ps_calp_dtnb</th>\n",
       "    </tr>\n",
       "    <tr>\n",
       "      <th>stn_id</th>\n",
       "      <th></th>\n",
       "      <th></th>\n",
       "      <th></th>\n",
       "      <th></th>\n",
       "      <th></th>\n",
       "      <th></th>\n",
       "      <th></th>\n",
       "      <th></th>\n",
       "      <th></th>\n",
       "      <th></th>\n",
       "      <th></th>\n",
       "      <th></th>\n",
       "      <th></th>\n",
       "      <th></th>\n",
       "      <th></th>\n",
       "      <th></th>\n",
       "      <th></th>\n",
       "      <th></th>\n",
       "      <th></th>\n",
       "    </tr>\n",
       "  </thead>\n",
       "  <tbody>\n",
       "    <tr>\n",
       "      <th>515</th>\n",
       "      <td>35017</td>\n",
       "      <td>75</td>\n",
       "      <td>93</td>\n",
       "      <td>177</td>\n",
       "      <td>93</td>\n",
       "      <td>177</td>\n",
       "      <td>35016</td>\n",
       "      <td>75</td>\n",
       "      <td>93</td>\n",
       "      <td>177</td>\n",
       "      <td>93</td>\n",
       "      <td>177</td>\n",
       "      <td>35016</td>\n",
       "      <td>111</td>\n",
       "      <td>111</td>\n",
       "      <td>111</td>\n",
       "      <td>111</td>\n",
       "      <td>35016</td>\n",
       "      <td>35016</td>\n",
       "    </tr>\n",
       "    <tr>\n",
       "      <th>616</th>\n",
       "      <td>34907</td>\n",
       "      <td>55</td>\n",
       "      <td>98</td>\n",
       "      <td>117</td>\n",
       "      <td>98</td>\n",
       "      <td>117</td>\n",
       "      <td>34907</td>\n",
       "      <td>55</td>\n",
       "      <td>98</td>\n",
       "      <td>117</td>\n",
       "      <td>98</td>\n",
       "      <td>117</td>\n",
       "      <td>34907</td>\n",
       "      <td>105</td>\n",
       "      <td>105</td>\n",
       "      <td>105</td>\n",
       "      <td>105</td>\n",
       "      <td>34907</td>\n",
       "      <td>34907</td>\n",
       "    </tr>\n",
       "    <tr>\n",
       "      <th>634</th>\n",
       "      <td>34896</td>\n",
       "      <td>35</td>\n",
       "      <td>35</td>\n",
       "      <td>45</td>\n",
       "      <td>35</td>\n",
       "      <td>45</td>\n",
       "      <td>34896</td>\n",
       "      <td>35</td>\n",
       "      <td>35</td>\n",
       "      <td>45</td>\n",
       "      <td>35</td>\n",
       "      <td>45</td>\n",
       "      <td>34896</td>\n",
       "      <td>39</td>\n",
       "      <td>39</td>\n",
       "      <td>39</td>\n",
       "      <td>39</td>\n",
       "      <td>34896</td>\n",
       "      <td>34896</td>\n",
       "    </tr>\n",
       "    <tr>\n",
       "      <th>637</th>\n",
       "      <td>34998</td>\n",
       "      <td>34959</td>\n",
       "      <td>34957</td>\n",
       "      <td>34997</td>\n",
       "      <td>34957</td>\n",
       "      <td>34997</td>\n",
       "      <td>34997</td>\n",
       "      <td>34959</td>\n",
       "      <td>34957</td>\n",
       "      <td>34997</td>\n",
       "      <td>34957</td>\n",
       "      <td>34997</td>\n",
       "      <td>34997</td>\n",
       "      <td>34983</td>\n",
       "      <td>34983</td>\n",
       "      <td>34983</td>\n",
       "      <td>34983</td>\n",
       "      <td>34997</td>\n",
       "      <td>34997</td>\n",
       "    </tr>\n",
       "  </tbody>\n",
       "</table>\n",
       "</div>"
      ],
      "text/plain": [
       "          tma  avg_pa  max_pa  max_pa_hrmt  min_pa  min_pa_hrmt  \\\n",
       "stn_id                                                            \n",
       "515     35017      75      93          177      93          177   \n",
       "616     34907      55      98          117      98          117   \n",
       "634     34896      35      35           45      35           45   \n",
       "637     34998   34959   34957        34997   34957        34997   \n",
       "\n",
       "        avg_pa_calc_dtnb  avg_ps  max_ps  max_ps_hrmt  min_ps  min_ps_hrmt  \\\n",
       "stn_id                                                                       \n",
       "515                35016      75      93          177      93          177   \n",
       "616                34907      55      98          117      98          117   \n",
       "634                34896      35      35           45      35           45   \n",
       "637                34997   34959   34957        34997   34957        34997   \n",
       "\n",
       "        avg_ps_calc_dtnb  rtm_pa  rtm_ps  rtm_pa_hrmt  rtm_ps_hrmt  \\\n",
       "stn_id                                                               \n",
       "515                35016     111     111          111          111   \n",
       "616                34907     105     105          105          105   \n",
       "634                34896      39      39           39           39   \n",
       "637                34997   34983   34983        34983        34983   \n",
       "\n",
       "        pa_calp_dtnb  ps_calp_dtnb  \n",
       "stn_id                              \n",
       "515            35016         35016  \n",
       "616            34907         34907  \n",
       "634            34896         34896  \n",
       "637            34997         34997  "
      ]
     },
     "execution_count": 139,
     "metadata": {},
     "output_type": "execute_result"
    }
   ],
   "source": [
    "prsr.groupby(by='stn_id').count()"
   ]
  },
  {
   "cell_type": "markdown",
   "metadata": {},
   "source": [
    "637번 관측소(신평 AWS)만 가져오기"
   ]
  },
  {
   "cell_type": "code",
   "execution_count": 140,
   "metadata": {},
   "outputs": [
    {
     "data": {
      "text/plain": [
       "tma                  0\n",
       "stn_id               0\n",
       "avg_pa              39\n",
       "max_pa              41\n",
       "max_pa_hrmt          1\n",
       "min_pa              41\n",
       "min_pa_hrmt          1\n",
       "avg_pa_calc_dtnb     1\n",
       "avg_ps              39\n",
       "max_ps              41\n",
       "max_ps_hrmt          1\n",
       "min_ps              41\n",
       "min_ps_hrmt          1\n",
       "avg_ps_calc_dtnb     1\n",
       "rtm_pa              15\n",
       "rtm_ps              15\n",
       "rtm_pa_hrmt         15\n",
       "rtm_ps_hrmt         15\n",
       "pa_calp_dtnb         1\n",
       "ps_calp_dtnb         1\n",
       "dtype: int64"
      ]
     },
     "execution_count": 140,
     "metadata": {},
     "output_type": "execute_result"
    }
   ],
   "source": [
    "prsr_637 = prsr[prsr['stn_id']==637]\n",
    "prsr_637.isnull().sum()"
   ]
  },
  {
   "cell_type": "code",
   "execution_count": 141,
   "metadata": {},
   "outputs": [
    {
     "data": {
      "text/plain": [
       "(34998, 20)"
      ]
     },
     "execution_count": 141,
     "metadata": {},
     "output_type": "execute_result"
    }
   ],
   "source": [
    "prsr_637.shape"
   ]
  },
  {
   "cell_type": "code",
   "execution_count": 142,
   "metadata": {},
   "outputs": [
    {
     "data": {
      "image/png": "[encoded data removed]",
      "text/plain": [
       "<Figure size 1080x1440 with 18 Axes>"
      ]
     },
     "metadata": {
      "needs_background": "light"
     },
     "output_type": "display_data"
    }
   ],
   "source": [
    "plt.figure(figsize=(15,20))\n",
    "\n",
    "for i in range(18):\n",
    "    plt.subplot(5, 4, i+1)\n",
    "    sns.distplot(prsr_637.iloc[:,i+2], kde=False)"
   ]
  },
  {
   "cell_type": "code",
   "execution_count": 143,
   "metadata": {},
   "outputs": [
    {
     "name": "stderr",
     "output_type": "stream",
     "text": [
      "C:\\Users\\B0113\\anaconda3\\lib\\site-packages\\pandas\\core\\indexing.py:965: SettingWithCopyWarning: \n",
      "A value is trying to be set on a copy of a slice from a DataFrame.\n",
      "Try using .loc[row_indexer,col_indexer] = value instead\n",
      "\n",
      "See the caveats in the documentation: https://pandas.pydata.org/pandas-docs/stable/user_guide/indexing.html#returning-a-view-versus-a-copy\n",
      "  self.obj[item] = s\n"
     ]
    },
    {
     "data": {
      "text/plain": [
       "tma                 0\n",
       "stn_id              0\n",
       "avg_pa              0\n",
       "max_pa              0\n",
       "max_pa_hrmt         0\n",
       "min_pa              0\n",
       "min_pa_hrmt         0\n",
       "avg_pa_calc_dtnb    0\n",
       "avg_ps              0\n",
       "max_ps              0\n",
       "max_ps_hrmt         0\n",
       "min_ps              0\n",
       "min_ps_hrmt         0\n",
       "avg_ps_calc_dtnb    0\n",
       "rtm_pa              0\n",
       "rtm_ps              0\n",
       "rtm_pa_hrmt         0\n",
       "rtm_ps_hrmt         0\n",
       "pa_calp_dtnb        0\n",
       "ps_calp_dtnb        0\n",
       "dtype: int64"
      ]
     },
     "execution_count": 143,
     "metadata": {},
     "output_type": "execute_result"
    }
   ],
   "source": [
    "for i in range(18):\n",
    "    prsr_637.iloc[:,i+2] = prsr_637.iloc[:,i+2].fillna(prsr_637.iloc[:,i+2].mean())\n",
    "prsr_637.isnull().sum()"
   ]
  },
  {
   "cell_type": "code",
   "execution_count": 144,
   "metadata": {},
   "outputs": [
    {
     "data": {
      "text/html": [
       "<div>\n",
       "<style scoped>\n",
       "    .dataframe tbody tr th:only-of-type {\n",
       "        vertical-align: middle;\n",
       "    }\n",
       "\n",
       "    .dataframe tbody tr th {\n",
       "        vertical-align: top;\n",
       "    }\n",
       "\n",
       "    .dataframe thead th {\n",
       "        text-align: right;\n",
       "    }\n",
       "</style>\n",
       "<table border=\"1\" class=\"dataframe\">\n",
       "  <thead>\n",
       "    <tr style=\"text-align: right;\">\n",
       "      <th></th>\n",
       "      <th>tma</th>\n",
       "      <th>stn_id</th>\n",
       "      <th>avg_pa</th>\n",
       "      <th>max_pa</th>\n",
       "      <th>max_pa_hrmt</th>\n",
       "      <th>min_pa</th>\n",
       "      <th>min_pa_hrmt</th>\n",
       "      <th>avg_pa_calc_dtnb</th>\n",
       "      <th>avg_ps</th>\n",
       "      <th>max_ps</th>\n",
       "      <th>max_ps_hrmt</th>\n",
       "      <th>min_ps</th>\n",
       "      <th>min_ps_hrmt</th>\n",
       "      <th>avg_ps_calc_dtnb</th>\n",
       "      <th>rtm_pa</th>\n",
       "      <th>rtm_ps</th>\n",
       "      <th>rtm_pa_hrmt</th>\n",
       "      <th>rtm_ps_hrmt</th>\n",
       "      <th>pa_calp_dtnb</th>\n",
       "      <th>ps_calp_dtnb</th>\n",
       "    </tr>\n",
       "  </thead>\n",
       "  <tbody>\n",
       "    <tr>\n",
       "      <th>3</th>\n",
       "      <td>2016-04-01 00:00:00</td>\n",
       "      <td>637</td>\n",
       "      <td>1013.3</td>\n",
       "      <td>1013.5</td>\n",
       "      <td>2301.0</td>\n",
       "      <td>1013.0</td>\n",
       "      <td>2358.0</td>\n",
       "      <td>60.0</td>\n",
       "      <td>1016.0</td>\n",
       "      <td>1016.2</td>\n",
       "      <td>2301.0</td>\n",
       "      <td>1015.7</td>\n",
       "      <td>2358.0</td>\n",
       "      <td>60.0</td>\n",
       "      <td>1013.0</td>\n",
       "      <td>1015.7</td>\n",
       "      <td>0.0</td>\n",
       "      <td>0.0</td>\n",
       "      <td>60.0</td>\n",
       "      <td>60.0</td>\n",
       "    </tr>\n",
       "    <tr>\n",
       "      <th>7</th>\n",
       "      <td>2016-04-01 01:00:00</td>\n",
       "      <td>637</td>\n",
       "      <td>1012.8</td>\n",
       "      <td>1013.0</td>\n",
       "      <td>1.0</td>\n",
       "      <td>1012.6</td>\n",
       "      <td>40.0</td>\n",
       "      <td>60.0</td>\n",
       "      <td>1015.5</td>\n",
       "      <td>1015.7</td>\n",
       "      <td>1.0</td>\n",
       "      <td>1015.3</td>\n",
       "      <td>40.0</td>\n",
       "      <td>60.0</td>\n",
       "      <td>1012.6</td>\n",
       "      <td>1015.3</td>\n",
       "      <td>100.0</td>\n",
       "      <td>100.0</td>\n",
       "      <td>60.0</td>\n",
       "      <td>60.0</td>\n",
       "    </tr>\n",
       "    <tr>\n",
       "      <th>11</th>\n",
       "      <td>2016-04-01 02:00:00</td>\n",
       "      <td>637</td>\n",
       "      <td>1012.5</td>\n",
       "      <td>1012.6</td>\n",
       "      <td>101.0</td>\n",
       "      <td>1012.2</td>\n",
       "      <td>155.0</td>\n",
       "      <td>60.0</td>\n",
       "      <td>1015.2</td>\n",
       "      <td>1015.3</td>\n",
       "      <td>101.0</td>\n",
       "      <td>1014.9</td>\n",
       "      <td>155.0</td>\n",
       "      <td>60.0</td>\n",
       "      <td>1012.2</td>\n",
       "      <td>1014.9</td>\n",
       "      <td>200.0</td>\n",
       "      <td>200.0</td>\n",
       "      <td>60.0</td>\n",
       "      <td>60.0</td>\n",
       "    </tr>\n",
       "    <tr>\n",
       "      <th>15</th>\n",
       "      <td>2016-04-01 03:00:00</td>\n",
       "      <td>637</td>\n",
       "      <td>1012.2</td>\n",
       "      <td>1012.3</td>\n",
       "      <td>203.0</td>\n",
       "      <td>1012.1</td>\n",
       "      <td>217.0</td>\n",
       "      <td>60.0</td>\n",
       "      <td>1014.9</td>\n",
       "      <td>1015.0</td>\n",
       "      <td>203.0</td>\n",
       "      <td>1014.8</td>\n",
       "      <td>217.0</td>\n",
       "      <td>60.0</td>\n",
       "      <td>1012.2</td>\n",
       "      <td>1014.9</td>\n",
       "      <td>300.0</td>\n",
       "      <td>300.0</td>\n",
       "      <td>60.0</td>\n",
       "      <td>60.0</td>\n",
       "    </tr>\n",
       "    <tr>\n",
       "      <th>19</th>\n",
       "      <td>2016-04-01 04:00:00</td>\n",
       "      <td>637</td>\n",
       "      <td>1012.3</td>\n",
       "      <td>1012.4</td>\n",
       "      <td>343.0</td>\n",
       "      <td>1012.2</td>\n",
       "      <td>301.0</td>\n",
       "      <td>60.0</td>\n",
       "      <td>1015.0</td>\n",
       "      <td>1015.1</td>\n",
       "      <td>343.0</td>\n",
       "      <td>1014.9</td>\n",
       "      <td>301.0</td>\n",
       "      <td>60.0</td>\n",
       "      <td>1012.4</td>\n",
       "      <td>1015.1</td>\n",
       "      <td>400.0</td>\n",
       "      <td>400.0</td>\n",
       "      <td>60.0</td>\n",
       "      <td>60.0</td>\n",
       "    </tr>\n",
       "  </tbody>\n",
       "</table>\n",
       "</div>"
      ],
      "text/plain": [
       "                   tma  stn_id  avg_pa  max_pa  max_pa_hrmt  min_pa  \\\n",
       "3  2016-04-01 00:00:00     637  1013.3  1013.5       2301.0  1013.0   \n",
       "7  2016-04-01 01:00:00     637  1012.8  1013.0          1.0  1012.6   \n",
       "11 2016-04-01 02:00:00     637  1012.5  1012.6        101.0  1012.2   \n",
       "15 2016-04-01 03:00:00     637  1012.2  1012.3        203.0  1012.1   \n",
       "19 2016-04-01 04:00:00     637  1012.3  1012.4        343.0  1012.2   \n",
       "\n",
       "    min_pa_hrmt  avg_pa_calc_dtnb  avg_ps  max_ps  max_ps_hrmt  min_ps  \\\n",
       "3        2358.0              60.0  1016.0  1016.2       2301.0  1015.7   \n",
       "7          40.0              60.0  1015.5  1015.7          1.0  1015.3   \n",
       "11        155.0              60.0  1015.2  1015.3        101.0  1014.9   \n",
       "15        217.0              60.0  1014.9  1015.0        203.0  1014.8   \n",
       "19        301.0              60.0  1015.0  1015.1        343.0  1014.9   \n",
       "\n",
       "    min_ps_hrmt  avg_ps_calc_dtnb  rtm_pa  rtm_ps  rtm_pa_hrmt  rtm_ps_hrmt  \\\n",
       "3        2358.0              60.0  1013.0  1015.7          0.0          0.0   \n",
       "7          40.0              60.0  1012.6  1015.3        100.0        100.0   \n",
       "11        155.0              60.0  1012.2  1014.9        200.0        200.0   \n",
       "15        217.0              60.0  1012.2  1014.9        300.0        300.0   \n",
       "19        301.0              60.0  1012.4  1015.1        400.0        400.0   \n",
       "\n",
       "    pa_calp_dtnb  ps_calp_dtnb  \n",
       "3           60.0          60.0  \n",
       "7           60.0          60.0  \n",
       "11          60.0          60.0  \n",
       "15          60.0          60.0  \n",
       "19          60.0          60.0  "
      ]
     },
     "execution_count": 144,
     "metadata": {},
     "output_type": "execute_result"
    }
   ],
   "source": [
    "prsr_637.head()"
   ]
  },
  {
   "cell_type": "code",
   "execution_count": 145,
   "metadata": {},
   "outputs": [],
   "source": [
    "prsr_637.to_csv('../data/weather/aws_prsr_637.csv', encoding='utf-8', index=False)"
   ]
  },
  {
   "cell_type": "markdown",
   "metadata": {},
   "source": [
    "# aws_rhm"
   ]
  },
  {
   "cell_type": "markdown",
   "metadata": {},
   "source": [
    "## 데이터 확인"
   ]
  },
  {
   "cell_type": "code",
   "execution_count": 146,
   "metadata": {},
   "outputs": [
    {
     "name": "stdout",
     "output_type": "stream",
     "text": [
      "<class 'pandas.core.frame.DataFrame'>\n",
      "RangeIndex: 139818 entries, 0 to 139817\n",
      "Data columns (total 25 columns):\n",
      " #   Column             Non-Null Count   Dtype  \n",
      "---  ------             --------------   -----  \n",
      " 0   Unnamed: 0         139818 non-null  int64  \n",
      " 1   tma                139818 non-null  object \n",
      " 2   stn_id             139818 non-null  int64  \n",
      " 3   avg_rhm            114337 non-null  float64\n",
      " 4   avg_rhm_qcflg      31753 non-null   float64\n",
      " 5   avg_rhm_crob       145 non-null     float64\n",
      " 6   min_rhm            114322 non-null  float64\n",
      " 7   min_rhm_qcflg      0 non-null       float64\n",
      " 8   min_rhm_crob       145 non-null     float64\n",
      " 9   min_rhm_hrmt       114467 non-null  float64\n",
      " 10  avg_rhm_calc_dtnb  139816 non-null  float64\n",
      " 11  rtm_rhm            114419 non-null  float64\n",
      " 12  rtm_rhm_qcflg      0 non-null       float64\n",
      " 13  rtm_rhm_crob       0 non-null       float64\n",
      " 14  rtm_rhm_hrmt       114419 non-null  float64\n",
      " 15  max_rhm            114322 non-null  float64\n",
      " 16  max_rhm_qcflg      0 non-null       float64\n",
      " 17  max_rhm_crob       145 non-null     float64\n",
      " 18  max_rhm_hrmt       114467 non-null  float64\n",
      " 19  avg_rhm_srv_yn     0 non-null       float64\n",
      " 20  max_rhm_srv_yn     0 non-null       float64\n",
      " 21  min_rhm_srv_yn     0 non-null       float64\n",
      " 22  orgn_stn_id        0 non-null       float64\n",
      " 23  rhm_calp_dtnb      139816 non-null  float64\n",
      " 24  rtm_rhm_srv_yn     0 non-null       float64\n",
      "dtypes: float64(22), int64(2), object(1)\n",
      "memory usage: 26.7+ MB\n"
     ]
    }
   ],
   "source": [
    "rhm = pd.read_csv('../data/weather/raw/aws_rhm.csv')\n",
    "rhm.info()"
   ]
  },
  {
   "cell_type": "code",
   "execution_count": 147,
   "metadata": {},
   "outputs": [
    {
     "data": {
      "text/plain": [
       "Index(['Unnamed: 0', 'tma', 'stn_id', 'avg_rhm', 'avg_rhm_qcflg',\n",
       "       'avg_rhm_crob', 'min_rhm', 'min_rhm_qcflg', 'min_rhm_crob',\n",
       "       'min_rhm_hrmt', 'avg_rhm_calc_dtnb', 'rtm_rhm', 'rtm_rhm_qcflg',\n",
       "       'rtm_rhm_crob', 'rtm_rhm_hrmt', 'max_rhm', 'max_rhm_qcflg',\n",
       "       'max_rhm_crob', 'max_rhm_hrmt', 'avg_rhm_srv_yn', 'max_rhm_srv_yn',\n",
       "       'min_rhm_srv_yn', 'orgn_stn_id', 'rhm_calp_dtnb', 'rtm_rhm_srv_yn'],\n",
       "      dtype='object')"
      ]
     },
     "execution_count": 147,
     "metadata": {},
     "output_type": "execute_result"
    }
   ],
   "source": [
    "rhm.columns"
   ]
  },
  {
   "cell_type": "markdown",
   "metadata": {},
   "source": [
    "## 컬럼 정리"
   ]
  },
  {
   "cell_type": "code",
   "execution_count": 148,
   "metadata": {},
   "outputs": [
    {
     "data": {
      "text/plain": [
       "tma                      0\n",
       "stn_id                   0\n",
       "avg_rhm              25481\n",
       "min_rhm              25496\n",
       "min_rhm_hrmt         25351\n",
       "avg_rhm_calc_dtnb        2\n",
       "rtm_rhm              25399\n",
       "rtm_rhm_hrmt         25399\n",
       "max_rhm              25496\n",
       "max_rhm_hrmt         25351\n",
       "rhm_calp_dtnb            2\n",
       "dtype: int64"
      ]
     },
     "execution_count": 148,
     "metadata": {},
     "output_type": "execute_result"
    }
   ],
   "source": [
    "rhm = rhm[['tma', 'stn_id', 'avg_rhm', 'min_rhm', 'min_rhm_hrmt', 'avg_rhm_calc_dtnb', 'rtm_rhm', \n",
    "                        'rtm_rhm_hrmt', 'max_rhm', 'max_rhm_hrmt', 'rhm_calp_dtnb']]\n",
    "rhm.isnull().sum()"
   ]
  },
  {
   "cell_type": "markdown",
   "metadata": {},
   "source": [
    "## 데이터타입 정리"
   ]
  },
  {
   "cell_type": "code",
   "execution_count": 149,
   "metadata": {},
   "outputs": [
    {
     "data": {
      "text/plain": [
       "tma                  datetime64[ns]\n",
       "stn_id                        int64\n",
       "avg_rhm                     float64\n",
       "min_rhm                     float64\n",
       "min_rhm_hrmt                float64\n",
       "avg_rhm_calc_dtnb           float64\n",
       "rtm_rhm                     float64\n",
       "rtm_rhm_hrmt                float64\n",
       "max_rhm                     float64\n",
       "max_rhm_hrmt                float64\n",
       "rhm_calp_dtnb               float64\n",
       "dtype: object"
      ]
     },
     "execution_count": 149,
     "metadata": {},
     "output_type": "execute_result"
    }
   ],
   "source": [
    "rhm['tma'] = pd.to_datetime(rhm['tma'])\n",
    "rhm.dtypes"
   ]
  },
  {
   "cell_type": "markdown",
   "metadata": {},
   "source": [
    "## 정렬"
   ]
  },
  {
   "cell_type": "code",
   "execution_count": 150,
   "metadata": {},
   "outputs": [
    {
     "data": {
      "text/html": [
       "<div>\n",
       "<style scoped>\n",
       "    .dataframe tbody tr th:only-of-type {\n",
       "        vertical-align: middle;\n",
       "    }\n",
       "\n",
       "    .dataframe tbody tr th {\n",
       "        vertical-align: top;\n",
       "    }\n",
       "\n",
       "    .dataframe thead th {\n",
       "        text-align: right;\n",
       "    }\n",
       "</style>\n",
       "<table border=\"1\" class=\"dataframe\">\n",
       "  <thead>\n",
       "    <tr style=\"text-align: right;\">\n",
       "      <th></th>\n",
       "      <th>tma</th>\n",
       "      <th>stn_id</th>\n",
       "      <th>avg_rhm</th>\n",
       "      <th>min_rhm</th>\n",
       "      <th>min_rhm_hrmt</th>\n",
       "      <th>avg_rhm_calc_dtnb</th>\n",
       "      <th>rtm_rhm</th>\n",
       "      <th>rtm_rhm_hrmt</th>\n",
       "      <th>max_rhm</th>\n",
       "      <th>max_rhm_hrmt</th>\n",
       "      <th>rhm_calp_dtnb</th>\n",
       "    </tr>\n",
       "  </thead>\n",
       "  <tbody>\n",
       "    <tr>\n",
       "      <th>0</th>\n",
       "      <td>2016-04-01 00:00:00</td>\n",
       "      <td>515</td>\n",
       "      <td>54.9</td>\n",
       "      <td>46.2</td>\n",
       "      <td>2324.0</td>\n",
       "      <td>60.0</td>\n",
       "      <td>58.5</td>\n",
       "      <td>0.0</td>\n",
       "      <td>62.4</td>\n",
       "      <td>2355.0</td>\n",
       "      <td>60.0</td>\n",
       "    </tr>\n",
       "    <tr>\n",
       "      <th>1</th>\n",
       "      <td>2016-04-01 00:00:00</td>\n",
       "      <td>616</td>\n",
       "      <td>42.4</td>\n",
       "      <td>37.9</td>\n",
       "      <td>2309.0</td>\n",
       "      <td>60.0</td>\n",
       "      <td>41.2</td>\n",
       "      <td>0.0</td>\n",
       "      <td>47.4</td>\n",
       "      <td>2339.0</td>\n",
       "      <td>60.0</td>\n",
       "    </tr>\n",
       "    <tr>\n",
       "      <th>2</th>\n",
       "      <td>2016-04-01 00:00:00</td>\n",
       "      <td>634</td>\n",
       "      <td>44.2</td>\n",
       "      <td>39.5</td>\n",
       "      <td>2338.0</td>\n",
       "      <td>60.0</td>\n",
       "      <td>50.3</td>\n",
       "      <td>0.0</td>\n",
       "      <td>50.3</td>\n",
       "      <td>0.0</td>\n",
       "      <td>60.0</td>\n",
       "    </tr>\n",
       "    <tr>\n",
       "      <th>3</th>\n",
       "      <td>2016-04-01 00:00:00</td>\n",
       "      <td>637</td>\n",
       "      <td>NaN</td>\n",
       "      <td>NaN</td>\n",
       "      <td>NaN</td>\n",
       "      <td>0.0</td>\n",
       "      <td>NaN</td>\n",
       "      <td>NaN</td>\n",
       "      <td>NaN</td>\n",
       "      <td>NaN</td>\n",
       "      <td>0.0</td>\n",
       "    </tr>\n",
       "    <tr>\n",
       "      <th>4</th>\n",
       "      <td>2016-04-01 01:00:00</td>\n",
       "      <td>515</td>\n",
       "      <td>61.3</td>\n",
       "      <td>54.2</td>\n",
       "      <td>4.0</td>\n",
       "      <td>60.0</td>\n",
       "      <td>65.1</td>\n",
       "      <td>100.0</td>\n",
       "      <td>65.5</td>\n",
       "      <td>57.0</td>\n",
       "      <td>60.0</td>\n",
       "    </tr>\n",
       "  </tbody>\n",
       "</table>\n",
       "</div>"
      ],
      "text/plain": [
       "                  tma  stn_id  avg_rhm  min_rhm  min_rhm_hrmt  \\\n",
       "0 2016-04-01 00:00:00     515     54.9     46.2        2324.0   \n",
       "1 2016-04-01 00:00:00     616     42.4     37.9        2309.0   \n",
       "2 2016-04-01 00:00:00     634     44.2     39.5        2338.0   \n",
       "3 2016-04-01 00:00:00     637      NaN      NaN           NaN   \n",
       "4 2016-04-01 01:00:00     515     61.3     54.2           4.0   \n",
       "\n",
       "   avg_rhm_calc_dtnb  rtm_rhm  rtm_rhm_hrmt  max_rhm  max_rhm_hrmt  \\\n",
       "0               60.0     58.5           0.0     62.4        2355.0   \n",
       "1               60.0     41.2           0.0     47.4        2339.0   \n",
       "2               60.0     50.3           0.0     50.3           0.0   \n",
       "3                0.0      NaN           NaN      NaN           NaN   \n",
       "4               60.0     65.1         100.0     65.5          57.0   \n",
       "\n",
       "   rhm_calp_dtnb  \n",
       "0           60.0  \n",
       "1           60.0  \n",
       "2           60.0  \n",
       "3            0.0  \n",
       "4           60.0  "
      ]
     },
     "execution_count": 150,
     "metadata": {},
     "output_type": "execute_result"
    }
   ],
   "source": [
    "rhm = sort_by(rhm, ['tma', 'stn_id'])\n",
    "rhm.head()"
   ]
  },
  {
   "cell_type": "markdown",
   "metadata": {},
   "source": [
    "## 결측치 & 이상치 처리"
   ]
  },
  {
   "cell_type": "code",
   "execution_count": 152,
   "metadata": {},
   "outputs": [
    {
     "data": {
      "text/plain": [
       "tma                  0.000000\n",
       "stn_id               0.000000\n",
       "avg_rhm              0.182244\n",
       "min_rhm              0.182351\n",
       "min_rhm_hrmt         0.181314\n",
       "avg_rhm_calc_dtnb    0.000014\n",
       "rtm_rhm              0.181658\n",
       "rtm_rhm_hrmt         0.181658\n",
       "max_rhm              0.182351\n",
       "max_rhm_hrmt         0.181314\n",
       "rhm_calp_dtnb        0.000014\n",
       "dtype: float64"
      ]
     },
     "execution_count": 152,
     "metadata": {},
     "output_type": "execute_result"
    }
   ],
   "source": [
    "rhm.isnull().mean()"
   ]
  },
  {
   "cell_type": "code",
   "execution_count": 155,
   "metadata": {},
   "outputs": [
    {
     "data": {
      "image/png": "[encoded data removed]",
      "text/plain": [
       "<Figure size 1080x720 with 9 Axes>"
      ]
     },
     "metadata": {
      "needs_background": "light"
     },
     "output_type": "display_data"
    }
   ],
   "source": [
    "plt.figure(figsize=(15,10))\n",
    "\n",
    "for i in range(9):\n",
    "    plt.subplot(3, 3, i+1)\n",
    "    sns.distplot(rhm.iloc[:,i+2], kde=False)"
   ]
  },
  {
   "cell_type": "code",
   "execution_count": 158,
   "metadata": {},
   "outputs": [
    {
     "data": {
      "text/plain": [
       "<matplotlib.axes._subplots.AxesSubplot at 0x1e7f1b77908>"
      ]
     },
     "execution_count": 158,
     "metadata": {},
     "output_type": "execute_result"
    },
    {
     "data": {
      "image/png": "[encoded data removed]",
      "text/plain": [
       "<Figure size 720x720 with 2 Axes>"
      ]
     },
     "metadata": {
      "needs_background": "light"
     },
     "output_type": "display_data"
    }
   ],
   "source": [
    "plt.figure(figsize=(10,10))\n",
    "sns.heatmap(rhm.isnull(), cmap=\"Greys\")"
   ]
  },
  {
   "cell_type": "code",
   "execution_count": 159,
   "metadata": {},
   "outputs": [
    {
     "data": {
      "text/plain": [
       "tma                  0\n",
       "stn_id               0\n",
       "avg_rhm              0\n",
       "min_rhm              0\n",
       "min_rhm_hrmt         0\n",
       "avg_rhm_calc_dtnb    0\n",
       "rtm_rhm              0\n",
       "rtm_rhm_hrmt         0\n",
       "max_rhm              0\n",
       "max_rhm_hrmt         0\n",
       "rhm_calp_dtnb        0\n",
       "dtype: int64"
      ]
     },
     "execution_count": 159,
     "metadata": {},
     "output_type": "execute_result"
    }
   ],
   "source": [
    "rhm = rhm.fillna(method='ffill')\n",
    "rhm.isnull().sum()"
   ]
  },
  {
   "cell_type": "code",
   "execution_count": 160,
   "metadata": {},
   "outputs": [],
   "source": [
    "rhm.to_csv('../data/weather/aws_rhm.csv', encoding='utf-8', index=False)"
   ]
  },
  {
   "cell_type": "markdown",
   "metadata": {},
   "source": [
    "# aws_rn"
   ]
  },
  {
   "cell_type": "markdown",
   "metadata": {},
   "source": [
    "## 데이터 확인"
   ]
  },
  {
   "cell_type": "code",
   "execution_count": 161,
   "metadata": {},
   "outputs": [
    {
     "name": "stdout",
     "output_type": "stream",
     "text": [
      "<class 'pandas.core.frame.DataFrame'>\n",
      "RangeIndex: 139820 entries, 0 to 139819\n",
      "Data columns (total 43 columns):\n",
      " #   Column                   Non-Null Count   Dtype  \n",
      "---  ------                   --------------   -----  \n",
      " 0   Unnamed: 0               139820 non-null  int64  \n",
      " 1   tma                      139820 non-null  object \n",
      " 2   stn_id                   139820 non-null  int64  \n",
      " 3   sum_rn                   139769 non-null  float64\n",
      " 4   sum_rn_qcflg             1827 non-null    float64\n",
      " 5   sum_rn_crob              0 non-null       float64\n",
      " 6   sum_rn_calp_dtnb         139816 non-null  float64\n",
      " 7   sum_rn_hrmt              139807 non-null  float64\n",
      " 8   mi1_rn_en_cnt            139820 non-null  int64  \n",
      " 9   mi1_rn_en_cnt_qcflg      0 non-null       float64\n",
      " 10  mi1_rn_en_cnt_crob       0 non-null       float64\n",
      " 11  mi1_rn_en_cnt_calc_dtnb  139820 non-null  int64  \n",
      " 12  hr1_rn                   139154 non-null  float64\n",
      " 13  hr1_rn_qcflg             0 non-null       float64\n",
      " 14  hr1_rn_crob              0 non-null       float64\n",
      " 15  hr1_rn_hrmt              139820 non-null  int64  \n",
      " 16  mi10_max_rn              139161 non-null  float64\n",
      " 17  mi10_max_rn_qcflg        0 non-null       float64\n",
      " 18  mi10_max_rn_crob         0 non-null       float64\n",
      " 19  mi10_max_rn_calp_dtnb    139816 non-null  float64\n",
      " 20  mi10_max_rn_hrmt         139816 non-null  float64\n",
      " 21  mi15_max_rn              139164 non-null  float64\n",
      " 22  mi15_max_rn_qcflg        0 non-null       float64\n",
      " 23  mi15_max_rn_crob         0 non-null       float64\n",
      " 24  mi15_max_rn_calc_dtnb    139820 non-null  int64  \n",
      " 25  mi15_max_rn_hrmt         139808 non-null  float64\n",
      " 26  hr1_max_rn               139196 non-null  float64\n",
      " 27  hr1_max_rn_qcflg         0 non-null       float64\n",
      " 28  hr1_max_rn_crob          0 non-null       float64\n",
      " 29  hr1_max_rn_calc_dtnb     139820 non-null  int64  \n",
      " 30  hr1_max_rn_hrmt          139808 non-null  float64\n",
      " 31  mm0_1_hr1_rn             54611 non-null   float64\n",
      " 32  mm0_1_hr1_rn_qcflg       0 non-null       float64\n",
      " 33  mm0_1_hr1_rn_crob        0 non-null       float64\n",
      " 34  mm0_1_hr1_rn_hrmt        139816 non-null  float64\n",
      " 35  hr1_max_rn_srv_yn        0 non-null       float64\n",
      " 36  hr1_rn_srv_yn            0 non-null       float64\n",
      " 37  mi10_max_rn_srv_yn       0 non-null       float64\n",
      " 38  mi15_max_rn_srv_yn       0 non-null       float64\n",
      " 39  mi1_rn_en_cnt_srv_yn     0 non-null       float64\n",
      " 40  mm0_1_hr1_rn_srv_yn      0 non-null       float64\n",
      " 41  orgn_stn_id              0 non-null       float64\n",
      " 42  sum_rn_srv_yn            0 non-null       float64\n",
      "dtypes: float64(35), int64(7), object(1)\n",
      "memory usage: 45.9+ MB\n"
     ]
    }
   ],
   "source": [
    "rain = pd.read_csv('../data/weather/raw/aws_rn.csv')\n",
    "rain.info()"
   ]
  },
  {
   "cell_type": "markdown",
   "metadata": {},
   "source": [
    "## 컬럼 정리"
   ]
  },
  {
   "cell_type": "code",
   "execution_count": 162,
   "metadata": {},
   "outputs": [
    {
     "data": {
      "text/plain": [
       "Index(['Unnamed: 0', 'tma', 'stn_id', 'sum_rn', 'sum_rn_qcflg', 'sum_rn_crob',\n",
       "       'sum_rn_calp_dtnb', 'sum_rn_hrmt', 'mi1_rn_en_cnt',\n",
       "       'mi1_rn_en_cnt_qcflg', 'mi1_rn_en_cnt_crob', 'mi1_rn_en_cnt_calc_dtnb',\n",
       "       'hr1_rn', 'hr1_rn_qcflg', 'hr1_rn_crob', 'hr1_rn_hrmt', 'mi10_max_rn',\n",
       "       'mi10_max_rn_qcflg', 'mi10_max_rn_crob', 'mi10_max_rn_calp_dtnb',\n",
       "       'mi10_max_rn_hrmt', 'mi15_max_rn', 'mi15_max_rn_qcflg',\n",
       "       'mi15_max_rn_crob', 'mi15_max_rn_calc_dtnb', 'mi15_max_rn_hrmt',\n",
       "       'hr1_max_rn', 'hr1_max_rn_qcflg', 'hr1_max_rn_crob',\n",
       "       'hr1_max_rn_calc_dtnb', 'hr1_max_rn_hrmt', 'mm0_1_hr1_rn',\n",
       "       'mm0_1_hr1_rn_qcflg', 'mm0_1_hr1_rn_crob', 'mm0_1_hr1_rn_hrmt',\n",
       "       'hr1_max_rn_srv_yn', 'hr1_rn_srv_yn', 'mi10_max_rn_srv_yn',\n",
       "       'mi15_max_rn_srv_yn', 'mi1_rn_en_cnt_srv_yn', 'mm0_1_hr1_rn_srv_yn',\n",
       "       'orgn_stn_id', 'sum_rn_srv_yn'],\n",
       "      dtype='object')"
      ]
     },
     "execution_count": 162,
     "metadata": {},
     "output_type": "execute_result"
    }
   ],
   "source": [
    "rain.columns"
   ]
  },
  {
   "cell_type": "code",
   "execution_count": 163,
   "metadata": {},
   "outputs": [],
   "source": [
    "import re"
   ]
  },
  {
   "cell_type": "code",
   "execution_count": 169,
   "metadata": {},
   "outputs": [
    {
     "data": {
      "text/plain": [
       "Index(['sum_rn_qcflg', 'sum_rn_crob', 'mi1_rn_en_cnt_qcflg',\n",
       "       'mi1_rn_en_cnt_crob', 'hr1_rn_qcflg', 'hr1_rn_crob',\n",
       "       'mi10_max_rn_qcflg', 'mi10_max_rn_crob', 'mi15_max_rn_qcflg',\n",
       "       'mi15_max_rn_crob', 'hr1_max_rn_qcflg', 'hr1_max_rn_crob',\n",
       "       'mm0_1_hr1_rn_qcflg', 'mm0_1_hr1_rn_crob', 'hr1_max_rn_srv_yn',\n",
       "       'hr1_rn_srv_yn', 'mi10_max_rn_srv_yn', 'mi15_max_rn_srv_yn',\n",
       "       'mi1_rn_en_cnt_srv_yn', 'mm0_1_hr1_rn_srv_yn', 'sum_rn_srv_yn'],\n",
       "      dtype='object')"
      ]
     },
     "execution_count": 169,
     "metadata": {},
     "output_type": "execute_result"
    }
   ],
   "source": [
    "drop_cols = rain.columns[rain.columns.str.contains('qcflg|crob|yn')]\n",
    "drop_cols"
   ]
  },
  {
   "cell_type": "code",
   "execution_count": 170,
   "metadata": {},
   "outputs": [],
   "source": [
    "def drop_cols(data):\n",
    "    drop_cols = data.columns[data.columns.str.contains('qcflg|crob|yn')]\n",
    "    data = data.drop(columns=drop_cols)\n",
    "    return data"
   ]
  },
  {
   "cell_type": "code",
   "execution_count": 172,
   "metadata": {},
   "outputs": [
    {
     "data": {
      "text/plain": [
       "Unnamed: 0                 0.000000\n",
       "tma                        0.000000\n",
       "stn_id                     0.000000\n",
       "sum_rn                     0.000365\n",
       "sum_rn_calp_dtnb           0.000029\n",
       "sum_rn_hrmt                0.000093\n",
       "mi1_rn_en_cnt              0.000000\n",
       "mi1_rn_en_cnt_calc_dtnb    0.000000\n",
       "hr1_rn                     0.004763\n",
       "hr1_rn_hrmt                0.000000\n",
       "mi10_max_rn                0.004713\n",
       "mi10_max_rn_calp_dtnb      0.000029\n",
       "mi10_max_rn_hrmt           0.000029\n",
       "mi15_max_rn                0.004692\n",
       "mi15_max_rn_calc_dtnb      0.000000\n",
       "mi15_max_rn_hrmt           0.000086\n",
       "hr1_max_rn                 0.004463\n",
       "hr1_max_rn_calc_dtnb       0.000000\n",
       "hr1_max_rn_hrmt            0.000086\n",
       "mm0_1_hr1_rn               0.609419\n",
       "mm0_1_hr1_rn_hrmt          0.000029\n",
       "orgn_stn_id                1.000000\n",
       "dtype: float64"
      ]
     },
     "execution_count": 172,
     "metadata": {},
     "output_type": "execute_result"
    }
   ],
   "source": [
    "rain = drop_cols(rain)\n",
    "rain.isnull().mean()"
   ]
  },
  {
   "cell_type": "code",
   "execution_count": 173,
   "metadata": {},
   "outputs": [
    {
     "data": {
      "text/plain": [
       "tma                          0\n",
       "stn_id                       0\n",
       "sum_rn                      51\n",
       "sum_rn_calp_dtnb             4\n",
       "sum_rn_hrmt                 13\n",
       "mi1_rn_en_cnt                0\n",
       "mi1_rn_en_cnt_calc_dtnb      0\n",
       "hr1_rn                     666\n",
       "hr1_rn_hrmt                  0\n",
       "mi10_max_rn                659\n",
       "mi10_max_rn_calp_dtnb        4\n",
       "mi10_max_rn_hrmt             4\n",
       "mi15_max_rn                656\n",
       "mi15_max_rn_calc_dtnb        0\n",
       "mi15_max_rn_hrmt            12\n",
       "hr1_max_rn                 624\n",
       "hr1_max_rn_calc_dtnb         0\n",
       "hr1_max_rn_hrmt             12\n",
       "dtype: int64"
      ]
     },
     "execution_count": 173,
     "metadata": {},
     "output_type": "execute_result"
    }
   ],
   "source": [
    "rain = rain.drop(columns=['Unnamed: 0', 'mm0_1_hr1_rn', 'mm0_1_hr1_rn_hrmt', 'orgn_stn_id'])\n",
    "rain.isnull().sum()"
   ]
  },
  {
   "cell_type": "markdown",
   "metadata": {},
   "source": [
    "## 데이터타입 정리"
   ]
  },
  {
   "cell_type": "code",
   "execution_count": 174,
   "metadata": {},
   "outputs": [
    {
     "data": {
      "text/plain": [
       "tma                        datetime64[ns]\n",
       "stn_id                              int64\n",
       "sum_rn                            float64\n",
       "sum_rn_calp_dtnb                  float64\n",
       "sum_rn_hrmt                       float64\n",
       "mi1_rn_en_cnt                       int64\n",
       "mi1_rn_en_cnt_calc_dtnb             int64\n",
       "hr1_rn                            float64\n",
       "hr1_rn_hrmt                         int64\n",
       "mi10_max_rn                       float64\n",
       "mi10_max_rn_calp_dtnb             float64\n",
       "mi10_max_rn_hrmt                  float64\n",
       "mi15_max_rn                       float64\n",
       "mi15_max_rn_calc_dtnb               int64\n",
       "mi15_max_rn_hrmt                  float64\n",
       "hr1_max_rn                        float64\n",
       "hr1_max_rn_calc_dtnb                int64\n",
       "hr1_max_rn_hrmt                   float64\n",
       "dtype: object"
      ]
     },
     "execution_count": 174,
     "metadata": {},
     "output_type": "execute_result"
    }
   ],
   "source": [
    "rain['tma'] = pd.to_datetime(rain['tma'])\n",
    "rain.dtypes"
   ]
  },
  {
   "cell_type": "markdown",
   "metadata": {},
   "source": [
    "## 정렬"
   ]
  },
  {
   "cell_type": "code",
   "execution_count": 175,
   "metadata": {},
   "outputs": [
    {
     "data": {
      "text/html": [
       "<div>\n",
       "<style scoped>\n",
       "    .dataframe tbody tr th:only-of-type {\n",
       "        vertical-align: middle;\n",
       "    }\n",
       "\n",
       "    .dataframe tbody tr th {\n",
       "        vertical-align: top;\n",
       "    }\n",
       "\n",
       "    .dataframe thead th {\n",
       "        text-align: right;\n",
       "    }\n",
       "</style>\n",
       "<table border=\"1\" class=\"dataframe\">\n",
       "  <thead>\n",
       "    <tr style=\"text-align: right;\">\n",
       "      <th></th>\n",
       "      <th>tma</th>\n",
       "      <th>stn_id</th>\n",
       "      <th>sum_rn</th>\n",
       "      <th>sum_rn_calp_dtnb</th>\n",
       "      <th>sum_rn_hrmt</th>\n",
       "      <th>mi1_rn_en_cnt</th>\n",
       "      <th>mi1_rn_en_cnt_calc_dtnb</th>\n",
       "      <th>hr1_rn</th>\n",
       "      <th>hr1_rn_hrmt</th>\n",
       "      <th>mi10_max_rn</th>\n",
       "      <th>mi10_max_rn_calp_dtnb</th>\n",
       "      <th>mi10_max_rn_hrmt</th>\n",
       "      <th>mi15_max_rn</th>\n",
       "      <th>mi15_max_rn_calc_dtnb</th>\n",
       "      <th>mi15_max_rn_hrmt</th>\n",
       "      <th>hr1_max_rn</th>\n",
       "      <th>hr1_max_rn_calc_dtnb</th>\n",
       "      <th>hr1_max_rn_hrmt</th>\n",
       "    </tr>\n",
       "  </thead>\n",
       "  <tbody>\n",
       "    <tr>\n",
       "      <th>0</th>\n",
       "      <td>2016-04-01 00:00:00</td>\n",
       "      <td>515</td>\n",
       "      <td>0.0</td>\n",
       "      <td>60.0</td>\n",
       "      <td>0.0</td>\n",
       "      <td>0</td>\n",
       "      <td>60</td>\n",
       "      <td>0.0</td>\n",
       "      <td>0</td>\n",
       "      <td>0.0</td>\n",
       "      <td>60.0</td>\n",
       "      <td>2301.0</td>\n",
       "      <td>0.0</td>\n",
       "      <td>60</td>\n",
       "      <td>2301.0</td>\n",
       "      <td>0.0</td>\n",
       "      <td>60</td>\n",
       "      <td>2301.0</td>\n",
       "    </tr>\n",
       "    <tr>\n",
       "      <th>1</th>\n",
       "      <td>2016-04-01 00:00:00</td>\n",
       "      <td>616</td>\n",
       "      <td>0.0</td>\n",
       "      <td>60.0</td>\n",
       "      <td>0.0</td>\n",
       "      <td>0</td>\n",
       "      <td>60</td>\n",
       "      <td>0.0</td>\n",
       "      <td>0</td>\n",
       "      <td>0.0</td>\n",
       "      <td>60.0</td>\n",
       "      <td>2301.0</td>\n",
       "      <td>0.0</td>\n",
       "      <td>60</td>\n",
       "      <td>2301.0</td>\n",
       "      <td>0.0</td>\n",
       "      <td>60</td>\n",
       "      <td>2301.0</td>\n",
       "    </tr>\n",
       "    <tr>\n",
       "      <th>2</th>\n",
       "      <td>2016-04-01 00:00:00</td>\n",
       "      <td>634</td>\n",
       "      <td>0.0</td>\n",
       "      <td>60.0</td>\n",
       "      <td>0.0</td>\n",
       "      <td>0</td>\n",
       "      <td>60</td>\n",
       "      <td>0.0</td>\n",
       "      <td>0</td>\n",
       "      <td>0.0</td>\n",
       "      <td>60.0</td>\n",
       "      <td>2301.0</td>\n",
       "      <td>0.0</td>\n",
       "      <td>60</td>\n",
       "      <td>2301.0</td>\n",
       "      <td>0.0</td>\n",
       "      <td>60</td>\n",
       "      <td>2301.0</td>\n",
       "    </tr>\n",
       "    <tr>\n",
       "      <th>3</th>\n",
       "      <td>2016-04-01 00:00:00</td>\n",
       "      <td>637</td>\n",
       "      <td>0.0</td>\n",
       "      <td>60.0</td>\n",
       "      <td>0.0</td>\n",
       "      <td>0</td>\n",
       "      <td>60</td>\n",
       "      <td>0.0</td>\n",
       "      <td>0</td>\n",
       "      <td>0.0</td>\n",
       "      <td>60.0</td>\n",
       "      <td>2301.0</td>\n",
       "      <td>0.0</td>\n",
       "      <td>60</td>\n",
       "      <td>2301.0</td>\n",
       "      <td>0.0</td>\n",
       "      <td>60</td>\n",
       "      <td>2301.0</td>\n",
       "    </tr>\n",
       "    <tr>\n",
       "      <th>4</th>\n",
       "      <td>2016-04-01 01:00:00</td>\n",
       "      <td>515</td>\n",
       "      <td>0.0</td>\n",
       "      <td>60.0</td>\n",
       "      <td>100.0</td>\n",
       "      <td>0</td>\n",
       "      <td>60</td>\n",
       "      <td>0.0</td>\n",
       "      <td>100</td>\n",
       "      <td>0.0</td>\n",
       "      <td>60.0</td>\n",
       "      <td>1.0</td>\n",
       "      <td>0.0</td>\n",
       "      <td>60</td>\n",
       "      <td>1.0</td>\n",
       "      <td>0.0</td>\n",
       "      <td>60</td>\n",
       "      <td>1.0</td>\n",
       "    </tr>\n",
       "  </tbody>\n",
       "</table>\n",
       "</div>"
      ],
      "text/plain": [
       "                  tma  stn_id  sum_rn  sum_rn_calp_dtnb  sum_rn_hrmt  \\\n",
       "0 2016-04-01 00:00:00     515     0.0              60.0          0.0   \n",
       "1 2016-04-01 00:00:00     616     0.0              60.0          0.0   \n",
       "2 2016-04-01 00:00:00     634     0.0              60.0          0.0   \n",
       "3 2016-04-01 00:00:00     637     0.0              60.0          0.0   \n",
       "4 2016-04-01 01:00:00     515     0.0              60.0        100.0   \n",
       "\n",
       "   mi1_rn_en_cnt  mi1_rn_en_cnt_calc_dtnb  hr1_rn  hr1_rn_hrmt  mi10_max_rn  \\\n",
       "0              0                       60     0.0            0          0.0   \n",
       "1              0                       60     0.0            0          0.0   \n",
       "2              0                       60     0.0            0          0.0   \n",
       "3              0                       60     0.0            0          0.0   \n",
       "4              0                       60     0.0          100          0.0   \n",
       "\n",
       "   mi10_max_rn_calp_dtnb  mi10_max_rn_hrmt  mi15_max_rn  \\\n",
       "0                   60.0            2301.0          0.0   \n",
       "1                   60.0            2301.0          0.0   \n",
       "2                   60.0            2301.0          0.0   \n",
       "3                   60.0            2301.0          0.0   \n",
       "4                   60.0               1.0          0.0   \n",
       "\n",
       "   mi15_max_rn_calc_dtnb  mi15_max_rn_hrmt  hr1_max_rn  hr1_max_rn_calc_dtnb  \\\n",
       "0                     60            2301.0         0.0                    60   \n",
       "1                     60            2301.0         0.0                    60   \n",
       "2                     60            2301.0         0.0                    60   \n",
       "3                     60            2301.0         0.0                    60   \n",
       "4                     60               1.0         0.0                    60   \n",
       "\n",
       "   hr1_max_rn_hrmt  \n",
       "0           2301.0  \n",
       "1           2301.0  \n",
       "2           2301.0  \n",
       "3           2301.0  \n",
       "4              1.0  "
      ]
     },
     "execution_count": 175,
     "metadata": {},
     "output_type": "execute_result"
    }
   ],
   "source": [
    "rain = sort_by(rain, ['tma', 'stn_id'])\n",
    "rain.head()"
   ]
  },
  {
   "cell_type": "markdown",
   "metadata": {},
   "source": [
    "## 결측치 & 이상치 처리"
   ]
  },
  {
   "cell_type": "code",
   "execution_count": 187,
   "metadata": {},
   "outputs": [],
   "source": [
    "def multi_distplot(data):\n",
    "    \n",
    "    col_n = data.shape[1] - 2\n",
    "    plt.figure(figsize=(15,20))\n",
    "\n",
    "    for i in range(col_n):\n",
    "        plt.subplot(6, 4, i+1)\n",
    "        sns.distplot(data.iloc[:,i+2], kde=False)"
   ]
  },
  {
   "cell_type": "code",
   "execution_count": 188,
   "metadata": {},
   "outputs": [
    {
     "data": {
      "text/plain": [
       "18"
      ]
     },
     "execution_count": 188,
     "metadata": {},
     "output_type": "execute_result"
    }
   ],
   "source": [
    "rain.shape[1]"
   ]
  },
  {
   "cell_type": "code",
   "execution_count": 189,
   "metadata": {},
   "outputs": [
    {
     "data": {
      "image/png": "[encoded data removed]",
      "text/plain": [
       "<Figure size 1080x1440 with 16 Axes>"
      ]
     },
     "metadata": {
      "needs_background": "light"
     },
     "output_type": "display_data"
    }
   ],
   "source": [
    "multi_distplot(rain)"
   ]
  },
  {
   "cell_type": "code",
   "execution_count": 191,
   "metadata": {},
   "outputs": [
    {
     "data": {
      "text/plain": [
       "<matplotlib.axes._subplots.AxesSubplot at 0x1e7828e0bc8>"
      ]
     },
     "execution_count": 191,
     "metadata": {},
     "output_type": "execute_result"
    },
    {
     "data": {
      "image/png": "[encoded data removed]",
      "text/plain": [
       "<Figure size 1080x720 with 2 Axes>"
      ]
     },
     "metadata": {
      "needs_background": "light"
     },
     "output_type": "display_data"
    }
   ],
   "source": [
    "plt.figure(figsize=(15, 10))\n",
    "\n",
    "sns.heatmap(rain.isnull(), cmap='Greys')"
   ]
  },
  {
   "cell_type": "code",
   "execution_count": 192,
   "metadata": {},
   "outputs": [
    {
     "data": {
      "text/plain": [
       "tma                        0\n",
       "stn_id                     0\n",
       "sum_rn                     0\n",
       "sum_rn_calp_dtnb           0\n",
       "sum_rn_hrmt                0\n",
       "mi1_rn_en_cnt              0\n",
       "mi1_rn_en_cnt_calc_dtnb    0\n",
       "hr1_rn                     0\n",
       "hr1_rn_hrmt                0\n",
       "mi10_max_rn                0\n",
       "mi10_max_rn_calp_dtnb      0\n",
       "mi10_max_rn_hrmt           0\n",
       "mi15_max_rn                0\n",
       "mi15_max_rn_calc_dtnb      0\n",
       "mi15_max_rn_hrmt           0\n",
       "hr1_max_rn                 0\n",
       "hr1_max_rn_calc_dtnb       0\n",
       "hr1_max_rn_hrmt            0\n",
       "dtype: int64"
      ]
     },
     "execution_count": 192,
     "metadata": {},
     "output_type": "execute_result"
    }
   ],
   "source": [
    "rain = rain.fillna(method='ffill')\n",
    "rain.isnull().sum()"
   ]
  },
  {
   "cell_type": "code",
   "execution_count": 194,
   "metadata": {},
   "outputs": [
    {
     "data": {
      "text/html": [
       "<div>\n",
       "<style scoped>\n",
       "    .dataframe tbody tr th:only-of-type {\n",
       "        vertical-align: middle;\n",
       "    }\n",
       "\n",
       "    .dataframe tbody tr th {\n",
       "        vertical-align: top;\n",
       "    }\n",
       "\n",
       "    .dataframe thead th {\n",
       "        text-align: right;\n",
       "    }\n",
       "</style>\n",
       "<table border=\"1\" class=\"dataframe\">\n",
       "  <thead>\n",
       "    <tr style=\"text-align: right;\">\n",
       "      <th></th>\n",
       "      <th>tma</th>\n",
       "      <th>stn_id</th>\n",
       "      <th>sum_rn</th>\n",
       "      <th>sum_rn_calp_dtnb</th>\n",
       "      <th>sum_rn_hrmt</th>\n",
       "      <th>mi1_rn_en_cnt</th>\n",
       "      <th>mi1_rn_en_cnt_calc_dtnb</th>\n",
       "      <th>hr1_rn</th>\n",
       "      <th>hr1_rn_hrmt</th>\n",
       "      <th>mi10_max_rn</th>\n",
       "      <th>mi10_max_rn_calp_dtnb</th>\n",
       "      <th>mi10_max_rn_hrmt</th>\n",
       "      <th>mi15_max_rn</th>\n",
       "      <th>mi15_max_rn_calc_dtnb</th>\n",
       "      <th>mi15_max_rn_hrmt</th>\n",
       "      <th>hr1_max_rn</th>\n",
       "      <th>hr1_max_rn_calc_dtnb</th>\n",
       "      <th>hr1_max_rn_hrmt</th>\n",
       "    </tr>\n",
       "  </thead>\n",
       "  <tbody>\n",
       "    <tr>\n",
       "      <th>0</th>\n",
       "      <td>2016-04-01 00:00:00</td>\n",
       "      <td>515</td>\n",
       "      <td>0.0</td>\n",
       "      <td>60.0</td>\n",
       "      <td>0.0</td>\n",
       "      <td>0</td>\n",
       "      <td>60</td>\n",
       "      <td>0.0</td>\n",
       "      <td>0</td>\n",
       "      <td>0.0</td>\n",
       "      <td>60.0</td>\n",
       "      <td>2301.0</td>\n",
       "      <td>0.0</td>\n",
       "      <td>60</td>\n",
       "      <td>2301.0</td>\n",
       "      <td>0.0</td>\n",
       "      <td>60</td>\n",
       "      <td>2301.0</td>\n",
       "    </tr>\n",
       "    <tr>\n",
       "      <th>1</th>\n",
       "      <td>2016-04-01 00:00:00</td>\n",
       "      <td>616</td>\n",
       "      <td>0.0</td>\n",
       "      <td>60.0</td>\n",
       "      <td>0.0</td>\n",
       "      <td>0</td>\n",
       "      <td>60</td>\n",
       "      <td>0.0</td>\n",
       "      <td>0</td>\n",
       "      <td>0.0</td>\n",
       "      <td>60.0</td>\n",
       "      <td>2301.0</td>\n",
       "      <td>0.0</td>\n",
       "      <td>60</td>\n",
       "      <td>2301.0</td>\n",
       "      <td>0.0</td>\n",
       "      <td>60</td>\n",
       "      <td>2301.0</td>\n",
       "    </tr>\n",
       "    <tr>\n",
       "      <th>2</th>\n",
       "      <td>2016-04-01 00:00:00</td>\n",
       "      <td>634</td>\n",
       "      <td>0.0</td>\n",
       "      <td>60.0</td>\n",
       "      <td>0.0</td>\n",
       "      <td>0</td>\n",
       "      <td>60</td>\n",
       "      <td>0.0</td>\n",
       "      <td>0</td>\n",
       "      <td>0.0</td>\n",
       "      <td>60.0</td>\n",
       "      <td>2301.0</td>\n",
       "      <td>0.0</td>\n",
       "      <td>60</td>\n",
       "      <td>2301.0</td>\n",
       "      <td>0.0</td>\n",
       "      <td>60</td>\n",
       "      <td>2301.0</td>\n",
       "    </tr>\n",
       "    <tr>\n",
       "      <th>3</th>\n",
       "      <td>2016-04-01 00:00:00</td>\n",
       "      <td>637</td>\n",
       "      <td>0.0</td>\n",
       "      <td>60.0</td>\n",
       "      <td>0.0</td>\n",
       "      <td>0</td>\n",
       "      <td>60</td>\n",
       "      <td>0.0</td>\n",
       "      <td>0</td>\n",
       "      <td>0.0</td>\n",
       "      <td>60.0</td>\n",
       "      <td>2301.0</td>\n",
       "      <td>0.0</td>\n",
       "      <td>60</td>\n",
       "      <td>2301.0</td>\n",
       "      <td>0.0</td>\n",
       "      <td>60</td>\n",
       "      <td>2301.0</td>\n",
       "    </tr>\n",
       "    <tr>\n",
       "      <th>4</th>\n",
       "      <td>2016-04-01 01:00:00</td>\n",
       "      <td>515</td>\n",
       "      <td>0.0</td>\n",
       "      <td>60.0</td>\n",
       "      <td>100.0</td>\n",
       "      <td>0</td>\n",
       "      <td>60</td>\n",
       "      <td>0.0</td>\n",
       "      <td>100</td>\n",
       "      <td>0.0</td>\n",
       "      <td>60.0</td>\n",
       "      <td>1.0</td>\n",
       "      <td>0.0</td>\n",
       "      <td>60</td>\n",
       "      <td>1.0</td>\n",
       "      <td>0.0</td>\n",
       "      <td>60</td>\n",
       "      <td>1.0</td>\n",
       "    </tr>\n",
       "  </tbody>\n",
       "</table>\n",
       "</div>"
      ],
      "text/plain": [
       "                  tma  stn_id  sum_rn  sum_rn_calp_dtnb  sum_rn_hrmt  \\\n",
       "0 2016-04-01 00:00:00     515     0.0              60.0          0.0   \n",
       "1 2016-04-01 00:00:00     616     0.0              60.0          0.0   \n",
       "2 2016-04-01 00:00:00     634     0.0              60.0          0.0   \n",
       "3 2016-04-01 00:00:00     637     0.0              60.0          0.0   \n",
       "4 2016-04-01 01:00:00     515     0.0              60.0        100.0   \n",
       "\n",
       "   mi1_rn_en_cnt  mi1_rn_en_cnt_calc_dtnb  hr1_rn  hr1_rn_hrmt  mi10_max_rn  \\\n",
       "0              0                       60     0.0            0          0.0   \n",
       "1              0                       60     0.0            0          0.0   \n",
       "2              0                       60     0.0            0          0.0   \n",
       "3              0                       60     0.0            0          0.0   \n",
       "4              0                       60     0.0          100          0.0   \n",
       "\n",
       "   mi10_max_rn_calp_dtnb  mi10_max_rn_hrmt  mi15_max_rn  \\\n",
       "0                   60.0            2301.0          0.0   \n",
       "1                   60.0            2301.0          0.0   \n",
       "2                   60.0            2301.0          0.0   \n",
       "3                   60.0            2301.0          0.0   \n",
       "4                   60.0               1.0          0.0   \n",
       "\n",
       "   mi15_max_rn_calc_dtnb  mi15_max_rn_hrmt  hr1_max_rn  hr1_max_rn_calc_dtnb  \\\n",
       "0                     60            2301.0         0.0                    60   \n",
       "1                     60            2301.0         0.0                    60   \n",
       "2                     60            2301.0         0.0                    60   \n",
       "3                     60            2301.0         0.0                    60   \n",
       "4                     60               1.0         0.0                    60   \n",
       "\n",
       "   hr1_max_rn_hrmt  \n",
       "0           2301.0  \n",
       "1           2301.0  \n",
       "2           2301.0  \n",
       "3           2301.0  \n",
       "4              1.0  "
      ]
     },
     "execution_count": 194,
     "metadata": {},
     "output_type": "execute_result"
    }
   ],
   "source": [
    "rain.head()"
   ]
  },
  {
   "cell_type": "code",
   "execution_count": 195,
   "metadata": {},
   "outputs": [],
   "source": [
    "rain.to_csv('../data/weather/aws_rn.csv', encoding='utf-8', index=False)"
   ]
  },
  {
   "cell_type": "code",
   "execution_count": null,
   "metadata": {},
   "outputs": [],
   "source": []
  }
 ],
 "metadata": {
  "kernelspec": {
   "display_name": "Python 3",
   "language": "python",
   "name": "python3"
  },
  "language_info": {
   "codemirror_mode": {
    "name": "ipython",
    "version": 3
   },
   "file_extension": ".py",
   "mimetype": "text/x-python",
   "name": "python",
   "nbconvert_exporter": "python",
   "pygments_lexer": "ipython3",
   "version": "3.7.6"
  },
  "toc": {
   "base_numbering": 1,
   "nav_menu": {},
   "number_sections": true,
   "sideBar": true,
   "skip_h1_title": false,
   "title_cell": "Table of Contents",
   "title_sidebar": "Contents",
   "toc_cell": false,
   "toc_position": {
    "height": "calc(100% - 180px)",
    "left": "10px",
    "top": "150px",
    "width": "384px"
   },
   "toc_section_display": true,
   "toc_window_display": true
  },
  "varInspector": {
   "cols": {
    "lenName": 16,
    "lenType": 16,
    "lenVar": 40
   },
   "kernels_config": {
    "python": {
     "delete_cmd_postfix": "",
     "delete_cmd_prefix": "del ",
     "library": "var_list.py",
     "varRefreshCmd": "print(var_dic_list())"
    },
    "r": {
     "delete_cmd_postfix": ") ",
     "delete_cmd_prefix": "rm(",
     "library": "var_list.r",
     "varRefreshCmd": "cat(var_dic_list()) "
    }
   },
   "position": {
    "height": "307px",
    "left": "1550px",
    "right": "20px",
    "top": "120px",
    "width": "350px"
   },
   "types_to_exclude": [
    "module",
    "function",
    "builtin_function_or_method",
    "instance",
    "_Feature"
   ],
   "window_display": false
  }
 },
 "nbformat": 4,
 "nbformat_minor": 4
}
