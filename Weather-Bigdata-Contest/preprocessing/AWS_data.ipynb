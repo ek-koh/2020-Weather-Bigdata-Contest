{
 "cells": [
  {
   "cell_type": "markdown",
   "metadata": {},
   "source": [
    "# aws_cloud"
   ]
  },
  {
   "cell_type": "markdown",
   "metadata": {},
   "source": [
    "## 데이터 확인"
   ]
  },
  {
   "cell_type": "code",
   "execution_count": 1,
   "metadata": {},
   "outputs": [],
   "source": [
    "import pandas as pd\n",
    "import matplotlib.pyplot as plt\n",
    "import seaborn as sns"
   ]
  },
  {
   "cell_type": "code",
   "execution_count": 75,
   "metadata": {},
   "outputs": [
    {
     "name": "stdout",
     "output_type": "stream",
     "text": [
      "<class 'pandas.core.frame.DataFrame'>\n",
      "RangeIndex: 139818 entries, 0 to 139817\n",
      "Data columns (total 9 columns):\n",
      " #   Column             Non-Null Count   Dtype  \n",
      "---  ------             --------------   -----  \n",
      " 0   Unnamed: 0         139818 non-null  int64  \n",
      " 1   tma                139818 non-null  object \n",
      " 2   stn_id             139818 non-null  int64  \n",
      " 3   avg_tca            84257 non-null   float64\n",
      " 4   avg_tca_qcflg      0 non-null       float64\n",
      " 5   avg_tca_crob       0 non-null       float64\n",
      " 6   avg_tca_calc_dtnb  139818 non-null  int64  \n",
      " 7   avg_tca_srv_yn     0 non-null       float64\n",
      " 8   orgn_stn_id        0 non-null       float64\n",
      "dtypes: float64(5), int64(3), object(1)\n",
      "memory usage: 9.6+ MB\n"
     ]
    }
   ],
   "source": [
    "cloud = pd.read_csv('../data/weather/raw/aws_cloud.csv')\n",
    "cloud.info()"
   ]
  },
  {
   "cell_type": "code",
   "execution_count": 76,
   "metadata": {},
   "outputs": [
    {
     "data": {
      "text/html": [
       "<div>\n",
       "<style scoped>\n",
       "    .dataframe tbody tr th:only-of-type {\n",
       "        vertical-align: middle;\n",
       "    }\n",
       "\n",
       "    .dataframe tbody tr th {\n",
       "        vertical-align: top;\n",
       "    }\n",
       "\n",
       "    .dataframe thead th {\n",
       "        text-align: right;\n",
       "    }\n",
       "</style>\n",
       "<table border=\"1\" class=\"dataframe\">\n",
       "  <thead>\n",
       "    <tr style=\"text-align: right;\">\n",
       "      <th></th>\n",
       "      <th>Unnamed: 0</th>\n",
       "      <th>tma</th>\n",
       "      <th>stn_id</th>\n",
       "      <th>avg_tca</th>\n",
       "      <th>avg_tca_qcflg</th>\n",
       "      <th>avg_tca_crob</th>\n",
       "      <th>avg_tca_calc_dtnb</th>\n",
       "      <th>avg_tca_srv_yn</th>\n",
       "      <th>orgn_stn_id</th>\n",
       "    </tr>\n",
       "  </thead>\n",
       "  <tbody>\n",
       "    <tr>\n",
       "      <th>0</th>\n",
       "      <td>1</td>\n",
       "      <td>2016-04-01 20:00:00.0</td>\n",
       "      <td>637</td>\n",
       "      <td>0.0</td>\n",
       "      <td>NaN</td>\n",
       "      <td>NaN</td>\n",
       "      <td>70</td>\n",
       "      <td>NaN</td>\n",
       "      <td>NaN</td>\n",
       "    </tr>\n",
       "    <tr>\n",
       "      <th>1</th>\n",
       "      <td>2</td>\n",
       "      <td>2016-04-02 14:00:00.0</td>\n",
       "      <td>637</td>\n",
       "      <td>0.0</td>\n",
       "      <td>NaN</td>\n",
       "      <td>NaN</td>\n",
       "      <td>70</td>\n",
       "      <td>NaN</td>\n",
       "      <td>NaN</td>\n",
       "    </tr>\n",
       "    <tr>\n",
       "      <th>2</th>\n",
       "      <td>3</td>\n",
       "      <td>2016-04-03 08:00:00.0</td>\n",
       "      <td>637</td>\n",
       "      <td>0.0</td>\n",
       "      <td>NaN</td>\n",
       "      <td>NaN</td>\n",
       "      <td>70</td>\n",
       "      <td>NaN</td>\n",
       "      <td>NaN</td>\n",
       "    </tr>\n",
       "    <tr>\n",
       "      <th>3</th>\n",
       "      <td>4</td>\n",
       "      <td>2016-04-04 00:00:00.0</td>\n",
       "      <td>616</td>\n",
       "      <td>0.0</td>\n",
       "      <td>NaN</td>\n",
       "      <td>NaN</td>\n",
       "      <td>70</td>\n",
       "      <td>NaN</td>\n",
       "      <td>NaN</td>\n",
       "    </tr>\n",
       "    <tr>\n",
       "      <th>4</th>\n",
       "      <td>5</td>\n",
       "      <td>2016-04-04 23:00:00.0</td>\n",
       "      <td>515</td>\n",
       "      <td>0.0</td>\n",
       "      <td>NaN</td>\n",
       "      <td>NaN</td>\n",
       "      <td>70</td>\n",
       "      <td>NaN</td>\n",
       "      <td>NaN</td>\n",
       "    </tr>\n",
       "  </tbody>\n",
       "</table>\n",
       "</div>"
      ],
      "text/plain": [
       "   Unnamed: 0                    tma  stn_id  avg_tca  avg_tca_qcflg  \\\n",
       "0           1  2016-04-01 20:00:00.0     637      0.0            NaN   \n",
       "1           2  2016-04-02 14:00:00.0     637      0.0            NaN   \n",
       "2           3  2016-04-03 08:00:00.0     637      0.0            NaN   \n",
       "3           4  2016-04-04 00:00:00.0     616      0.0            NaN   \n",
       "4           5  2016-04-04 23:00:00.0     515      0.0            NaN   \n",
       "\n",
       "   avg_tca_crob  avg_tca_calc_dtnb  avg_tca_srv_yn  orgn_stn_id  \n",
       "0           NaN                 70             NaN          NaN  \n",
       "1           NaN                 70             NaN          NaN  \n",
       "2           NaN                 70             NaN          NaN  \n",
       "3           NaN                 70             NaN          NaN  \n",
       "4           NaN                 70             NaN          NaN  "
      ]
     },
     "execution_count": 76,
     "metadata": {},
     "output_type": "execute_result"
    }
   ],
   "source": [
    "cloud.head()"
   ]
  },
  {
   "cell_type": "code",
   "execution_count": 77,
   "metadata": {},
   "outputs": [
    {
     "data": {
      "text/plain": [
       "Unnamed: 0                0\n",
       "tma                       0\n",
       "stn_id                    0\n",
       "avg_tca               55561\n",
       "avg_tca_qcflg        139818\n",
       "avg_tca_crob         139818\n",
       "avg_tca_calc_dtnb         0\n",
       "avg_tca_srv_yn       139818\n",
       "orgn_stn_id          139818\n",
       "dtype: int64"
      ]
     },
     "execution_count": 77,
     "metadata": {},
     "output_type": "execute_result"
    }
   ],
   "source": [
    "cloud.isnull().sum()"
   ]
  },
  {
   "cell_type": "markdown",
   "metadata": {},
   "source": [
    "## 컬럼 정리"
   ]
  },
  {
   "cell_type": "code",
   "execution_count": 78,
   "metadata": {},
   "outputs": [
    {
     "data": {
      "text/plain": [
       "Index(['tma', 'stn_id', 'avg_tca', 'avg_tca_calc_dtnb'], dtype='object')"
      ]
     },
     "execution_count": 78,
     "metadata": {},
     "output_type": "execute_result"
    }
   ],
   "source": [
    "cloud = cloud.drop(columns=['Unnamed: 0', 'avg_tca_qcflg', 'avg_tca_crob', 'avg_tca_srv_yn', 'orgn_stn_id'])\n",
    "cloud.columns"
   ]
  },
  {
   "cell_type": "code",
   "execution_count": 79,
   "metadata": {},
   "outputs": [
    {
     "data": {
      "text/html": [
       "<div>\n",
       "<style scoped>\n",
       "    .dataframe tbody tr th:only-of-type {\n",
       "        vertical-align: middle;\n",
       "    }\n",
       "\n",
       "    .dataframe tbody tr th {\n",
       "        vertical-align: top;\n",
       "    }\n",
       "\n",
       "    .dataframe thead th {\n",
       "        text-align: right;\n",
       "    }\n",
       "</style>\n",
       "<table border=\"1\" class=\"dataframe\">\n",
       "  <thead>\n",
       "    <tr style=\"text-align: right;\">\n",
       "      <th></th>\n",
       "      <th>tma</th>\n",
       "      <th>stn_id</th>\n",
       "      <th>avg_tca</th>\n",
       "      <th>avg_tca_calc_dtnb</th>\n",
       "    </tr>\n",
       "  </thead>\n",
       "  <tbody>\n",
       "    <tr>\n",
       "      <th>0</th>\n",
       "      <td>2016-04-01 20:00:00.0</td>\n",
       "      <td>637</td>\n",
       "      <td>0.0</td>\n",
       "      <td>70</td>\n",
       "    </tr>\n",
       "    <tr>\n",
       "      <th>1</th>\n",
       "      <td>2016-04-02 14:00:00.0</td>\n",
       "      <td>637</td>\n",
       "      <td>0.0</td>\n",
       "      <td>70</td>\n",
       "    </tr>\n",
       "    <tr>\n",
       "      <th>2</th>\n",
       "      <td>2016-04-03 08:00:00.0</td>\n",
       "      <td>637</td>\n",
       "      <td>0.0</td>\n",
       "      <td>70</td>\n",
       "    </tr>\n",
       "    <tr>\n",
       "      <th>3</th>\n",
       "      <td>2016-04-04 00:00:00.0</td>\n",
       "      <td>616</td>\n",
       "      <td>0.0</td>\n",
       "      <td>70</td>\n",
       "    </tr>\n",
       "    <tr>\n",
       "      <th>4</th>\n",
       "      <td>2016-04-04 23:00:00.0</td>\n",
       "      <td>515</td>\n",
       "      <td>0.0</td>\n",
       "      <td>70</td>\n",
       "    </tr>\n",
       "  </tbody>\n",
       "</table>\n",
       "</div>"
      ],
      "text/plain": [
       "                     tma  stn_id  avg_tca  avg_tca_calc_dtnb\n",
       "0  2016-04-01 20:00:00.0     637      0.0                 70\n",
       "1  2016-04-02 14:00:00.0     637      0.0                 70\n",
       "2  2016-04-03 08:00:00.0     637      0.0                 70\n",
       "3  2016-04-04 00:00:00.0     616      0.0                 70\n",
       "4  2016-04-04 23:00:00.0     515      0.0                 70"
      ]
     },
     "execution_count": 79,
     "metadata": {},
     "output_type": "execute_result"
    }
   ],
   "source": [
    "cloud.head()"
   ]
  },
  {
   "cell_type": "code",
   "execution_count": 80,
   "metadata": {},
   "outputs": [
    {
     "data": {
      "text/plain": [
       "<matplotlib.axes._subplots.AxesSubplot at 0x2d6b0cf9c48>"
      ]
     },
     "execution_count": 80,
     "metadata": {},
     "output_type": "execute_result"
    },
    {
     "data": {
      "image/png": "[encoded data removed]",
      "text/plain": [
       "<Figure size 432x288 with 1 Axes>"
      ]
     },
     "metadata": {
      "needs_background": "light"
     },
     "output_type": "display_data"
    }
   ],
   "source": [
    "sns.distplot(cloud.avg_tca_calc_dtnb)"
   ]
  },
  {
   "cell_type": "code",
   "execution_count": 81,
   "metadata": {},
   "outputs": [
    {
     "data": {
      "text/html": [
       "<div>\n",
       "<style scoped>\n",
       "    .dataframe tbody tr th:only-of-type {\n",
       "        vertical-align: middle;\n",
       "    }\n",
       "\n",
       "    .dataframe tbody tr th {\n",
       "        vertical-align: top;\n",
       "    }\n",
       "\n",
       "    .dataframe thead th {\n",
       "        text-align: right;\n",
       "    }\n",
       "</style>\n",
       "<table border=\"1\" class=\"dataframe\">\n",
       "  <thead>\n",
       "    <tr style=\"text-align: right;\">\n",
       "      <th></th>\n",
       "      <th>tma</th>\n",
       "      <th>stn_id</th>\n",
       "      <th>avg_tca</th>\n",
       "      <th>avg_tca_calc_dtnb</th>\n",
       "    </tr>\n",
       "  </thead>\n",
       "  <tbody>\n",
       "    <tr>\n",
       "      <th>47</th>\n",
       "      <td>2016-04-30 18:00:00.0</td>\n",
       "      <td>616</td>\n",
       "      <td>NaN</td>\n",
       "      <td>0</td>\n",
       "    </tr>\n",
       "    <tr>\n",
       "      <th>97</th>\n",
       "      <td>2016-06-03 13:00:00.0</td>\n",
       "      <td>616</td>\n",
       "      <td>NaN</td>\n",
       "      <td>0</td>\n",
       "    </tr>\n",
       "    <tr>\n",
       "      <th>212</th>\n",
       "      <td>2016-08-24 18:00:00.0</td>\n",
       "      <td>616</td>\n",
       "      <td>NaN</td>\n",
       "      <td>0</td>\n",
       "    </tr>\n",
       "    <tr>\n",
       "      <th>218</th>\n",
       "      <td>2016-08-29 12:00:00.0</td>\n",
       "      <td>616</td>\n",
       "      <td>NaN</td>\n",
       "      <td>0</td>\n",
       "    </tr>\n",
       "    <tr>\n",
       "      <th>239</th>\n",
       "      <td>2016-09-09 18:00:00.0</td>\n",
       "      <td>616</td>\n",
       "      <td>NaN</td>\n",
       "      <td>0</td>\n",
       "    </tr>\n",
       "    <tr>\n",
       "      <th>...</th>\n",
       "      <td>...</td>\n",
       "      <td>...</td>\n",
       "      <td>...</td>\n",
       "      <td>...</td>\n",
       "    </tr>\n",
       "    <tr>\n",
       "      <th>139813</th>\n",
       "      <td>2020-03-30 01:00:00.0</td>\n",
       "      <td>637</td>\n",
       "      <td>NaN</td>\n",
       "      <td>0</td>\n",
       "    </tr>\n",
       "    <tr>\n",
       "      <th>139814</th>\n",
       "      <td>2020-03-30 08:00:00.0</td>\n",
       "      <td>515</td>\n",
       "      <td>NaN</td>\n",
       "      <td>0</td>\n",
       "    </tr>\n",
       "    <tr>\n",
       "      <th>139815</th>\n",
       "      <td>2020-03-30 16:00:00.0</td>\n",
       "      <td>634</td>\n",
       "      <td>NaN</td>\n",
       "      <td>0</td>\n",
       "    </tr>\n",
       "    <tr>\n",
       "      <th>139816</th>\n",
       "      <td>2020-03-30 20:00:00.0</td>\n",
       "      <td>634</td>\n",
       "      <td>NaN</td>\n",
       "      <td>0</td>\n",
       "    </tr>\n",
       "    <tr>\n",
       "      <th>139817</th>\n",
       "      <td>2020-03-31 14:00:00.0</td>\n",
       "      <td>634</td>\n",
       "      <td>NaN</td>\n",
       "      <td>0</td>\n",
       "    </tr>\n",
       "  </tbody>\n",
       "</table>\n",
       "<p>55561 rows × 4 columns</p>\n",
       "</div>"
      ],
      "text/plain": [
       "                          tma  stn_id  avg_tca  avg_tca_calc_dtnb\n",
       "47      2016-04-30 18:00:00.0     616      NaN                  0\n",
       "97      2016-06-03 13:00:00.0     616      NaN                  0\n",
       "212     2016-08-24 18:00:00.0     616      NaN                  0\n",
       "218     2016-08-29 12:00:00.0     616      NaN                  0\n",
       "239     2016-09-09 18:00:00.0     616      NaN                  0\n",
       "...                       ...     ...      ...                ...\n",
       "139813  2020-03-30 01:00:00.0     637      NaN                  0\n",
       "139814  2020-03-30 08:00:00.0     515      NaN                  0\n",
       "139815  2020-03-30 16:00:00.0     634      NaN                  0\n",
       "139816  2020-03-30 20:00:00.0     634      NaN                  0\n",
       "139817  2020-03-31 14:00:00.0     634      NaN                  0\n",
       "\n",
       "[55561 rows x 4 columns]"
      ]
     },
     "execution_count": 81,
     "metadata": {},
     "output_type": "execute_result"
    }
   ],
   "source": [
    "cloud[cloud.avg_tca_calc_dtnb == 0]"
   ]
  },
  {
   "cell_type": "markdown",
   "metadata": {},
   "source": [
    "## 정렬"
   ]
  },
  {
   "cell_type": "markdown",
   "metadata": {},
   "source": [
    "### to_datetime"
   ]
  },
  {
   "cell_type": "code",
   "execution_count": 82,
   "metadata": {},
   "outputs": [
    {
     "data": {
      "text/plain": [
       "tma                  datetime64[ns]\n",
       "stn_id                        int64\n",
       "avg_tca                     float64\n",
       "avg_tca_calc_dtnb             int64\n",
       "dtype: object"
      ]
     },
     "execution_count": 82,
     "metadata": {},
     "output_type": "execute_result"
    }
   ],
   "source": [
    "cloud['tma'] = pd.to_datetime(cloud['tma'])\n",
    "cloud.dtypes"
   ]
  },
  {
   "cell_type": "markdown",
   "metadata": {},
   "source": [
    "### 정렬 함수 만들기"
   ]
  },
  {
   "cell_type": "code",
   "execution_count": 83,
   "metadata": {},
   "outputs": [],
   "source": [
    "def sort_by(data, colname):\n",
    "    data = data.sort_values(by=colname)\n",
    "    data = data.reset_index()\n",
    "    del data['index']\n",
    "    \n",
    "    return data"
   ]
  },
  {
   "cell_type": "code",
   "execution_count": 84,
   "metadata": {},
   "outputs": [
    {
     "data": {
      "text/html": [
       "<div>\n",
       "<style scoped>\n",
       "    .dataframe tbody tr th:only-of-type {\n",
       "        vertical-align: middle;\n",
       "    }\n",
       "\n",
       "    .dataframe tbody tr th {\n",
       "        vertical-align: top;\n",
       "    }\n",
       "\n",
       "    .dataframe thead th {\n",
       "        text-align: right;\n",
       "    }\n",
       "</style>\n",
       "<table border=\"1\" class=\"dataframe\">\n",
       "  <thead>\n",
       "    <tr style=\"text-align: right;\">\n",
       "      <th></th>\n",
       "      <th>tma</th>\n",
       "      <th>stn_id</th>\n",
       "      <th>avg_tca</th>\n",
       "      <th>avg_tca_calc_dtnb</th>\n",
       "    </tr>\n",
       "  </thead>\n",
       "  <tbody>\n",
       "    <tr>\n",
       "      <th>0</th>\n",
       "      <td>2016-04-01 00:00:00</td>\n",
       "      <td>515</td>\n",
       "      <td>0.0</td>\n",
       "      <td>70</td>\n",
       "    </tr>\n",
       "    <tr>\n",
       "      <th>1</th>\n",
       "      <td>2016-04-01 00:00:00</td>\n",
       "      <td>616</td>\n",
       "      <td>NaN</td>\n",
       "      <td>0</td>\n",
       "    </tr>\n",
       "    <tr>\n",
       "      <th>2</th>\n",
       "      <td>2016-04-01 00:00:00</td>\n",
       "      <td>634</td>\n",
       "      <td>0.0</td>\n",
       "      <td>70</td>\n",
       "    </tr>\n",
       "    <tr>\n",
       "      <th>3</th>\n",
       "      <td>2016-04-01 00:00:00</td>\n",
       "      <td>637</td>\n",
       "      <td>0.0</td>\n",
       "      <td>70</td>\n",
       "    </tr>\n",
       "    <tr>\n",
       "      <th>4</th>\n",
       "      <td>2016-04-01 01:00:00</td>\n",
       "      <td>515</td>\n",
       "      <td>0.0</td>\n",
       "      <td>70</td>\n",
       "    </tr>\n",
       "  </tbody>\n",
       "</table>\n",
       "</div>"
      ],
      "text/plain": [
       "                  tma  stn_id  avg_tca  avg_tca_calc_dtnb\n",
       "0 2016-04-01 00:00:00     515      0.0                 70\n",
       "1 2016-04-01 00:00:00     616      NaN                  0\n",
       "2 2016-04-01 00:00:00     634      0.0                 70\n",
       "3 2016-04-01 00:00:00     637      0.0                 70\n",
       "4 2016-04-01 01:00:00     515      0.0                 70"
      ]
     },
     "execution_count": 84,
     "metadata": {},
     "output_type": "execute_result"
    }
   ],
   "source": [
    "cloud = sort_by(cloud, ['tma', 'stn_id'])\n",
    "cloud.head()"
   ]
  },
  {
   "cell_type": "markdown",
   "metadata": {},
   "source": [
    "## 결측치 & 이상치 처리"
   ]
  },
  {
   "cell_type": "code",
   "execution_count": 85,
   "metadata": {},
   "outputs": [
    {
     "data": {
      "text/html": [
       "<div>\n",
       "<style scoped>\n",
       "    .dataframe tbody tr th:only-of-type {\n",
       "        vertical-align: middle;\n",
       "    }\n",
       "\n",
       "    .dataframe tbody tr th {\n",
       "        vertical-align: top;\n",
       "    }\n",
       "\n",
       "    .dataframe thead th {\n",
       "        text-align: right;\n",
       "    }\n",
       "</style>\n",
       "<table border=\"1\" class=\"dataframe\">\n",
       "  <thead>\n",
       "    <tr style=\"text-align: right;\">\n",
       "      <th></th>\n",
       "      <th>tma</th>\n",
       "      <th>stn_id</th>\n",
       "      <th>avg_tca</th>\n",
       "      <th>avg_tca_calc_dtnb</th>\n",
       "    </tr>\n",
       "  </thead>\n",
       "  <tbody>\n",
       "    <tr>\n",
       "      <th>139813</th>\n",
       "      <td>2020-03-31 22:00:00</td>\n",
       "      <td>637</td>\n",
       "      <td>NaN</td>\n",
       "      <td>0</td>\n",
       "    </tr>\n",
       "    <tr>\n",
       "      <th>139814</th>\n",
       "      <td>2020-03-31 23:00:00</td>\n",
       "      <td>515</td>\n",
       "      <td>NaN</td>\n",
       "      <td>0</td>\n",
       "    </tr>\n",
       "    <tr>\n",
       "      <th>139815</th>\n",
       "      <td>2020-03-31 23:00:00</td>\n",
       "      <td>616</td>\n",
       "      <td>NaN</td>\n",
       "      <td>0</td>\n",
       "    </tr>\n",
       "    <tr>\n",
       "      <th>139816</th>\n",
       "      <td>2020-03-31 23:00:00</td>\n",
       "      <td>634</td>\n",
       "      <td>NaN</td>\n",
       "      <td>0</td>\n",
       "    </tr>\n",
       "    <tr>\n",
       "      <th>139817</th>\n",
       "      <td>2020-03-31 23:00:00</td>\n",
       "      <td>637</td>\n",
       "      <td>NaN</td>\n",
       "      <td>0</td>\n",
       "    </tr>\n",
       "  </tbody>\n",
       "</table>\n",
       "</div>"
      ],
      "text/plain": [
       "                       tma  stn_id  avg_tca  avg_tca_calc_dtnb\n",
       "139813 2020-03-31 22:00:00     637      NaN                  0\n",
       "139814 2020-03-31 23:00:00     515      NaN                  0\n",
       "139815 2020-03-31 23:00:00     616      NaN                  0\n",
       "139816 2020-03-31 23:00:00     634      NaN                  0\n",
       "139817 2020-03-31 23:00:00     637      NaN                  0"
      ]
     },
     "execution_count": 85,
     "metadata": {},
     "output_type": "execute_result"
    }
   ],
   "source": [
    "cloud.tail()"
   ]
  },
  {
   "cell_type": "code",
   "execution_count": 86,
   "metadata": {
    "scrolled": true
   },
   "outputs": [
    {
     "data": {
      "text/plain": [
       " 2.6         1\n",
       " 2.4         1\n",
       " 2.8         1\n",
       "-59.4        1\n",
       " 3.1         1\n",
       " 3.2         1\n",
       " 2.9         1\n",
       " 3.3         1\n",
       " 2.2         1\n",
       " 3.8         2\n",
       " 2.1         3\n",
       " 1.6         4\n",
       " 1.8         4\n",
       " 0.9         5\n",
       " 0.8         5\n",
       " 0.4         5\n",
       " 2.3         5\n",
       " 2.0         5\n",
       " 1.9         6\n",
       " 0.5         6\n",
       " 1.2         6\n",
       " 1.0         6\n",
       " 1.7         7\n",
       " 1.3         7\n",
       " 1.5         8\n",
       " 1.4        11\n",
       " 1.1        13\n",
       " 0.7        14\n",
       " 0.3        14\n",
       " 0.6        17\n",
       " 0.1        17\n",
       " 0.2        22\n",
       " 0.0     84056\n",
       "Name: avg_tca, dtype: int64"
      ]
     },
     "execution_count": 86,
     "metadata": {},
     "output_type": "execute_result"
    }
   ],
   "source": [
    "cloud.avg_tca.value_counts().sort_values()"
   ]
  },
  {
   "cell_type": "markdown",
   "metadata": {},
   "source": [
    "-59.4 이상치: 평균 전운량 평균으로 대체"
   ]
  },
  {
   "cell_type": "code",
   "execution_count": 87,
   "metadata": {
    "scrolled": true
   },
   "outputs": [
    {
     "data": {
      "text/plain": [
       "0.0016995620541913428"
      ]
     },
     "execution_count": 87,
     "metadata": {},
     "output_type": "execute_result"
    }
   ],
   "source": [
    "cloud.avg_tca.mean()"
   ]
  },
  {
   "cell_type": "code",
   "execution_count": 88,
   "metadata": {},
   "outputs": [],
   "source": [
    "cloud.loc[cloud.avg_tca==-59.4, 'avg_tca'] = cloud.avg_tca.mean()"
   ]
  },
  {
   "cell_type": "code",
   "execution_count": 89,
   "metadata": {},
   "outputs": [
    {
     "data": {
      "text/plain": [
       "3.2000        1\n",
       "0.0017        1\n",
       "3.3000        1\n",
       "2.9000        1\n",
       "2.6000        1\n",
       "2.8000        1\n",
       "2.2000        1\n",
       "2.4000        1\n",
       "3.1000        1\n",
       "3.8000        2\n",
       "2.1000        3\n",
       "1.6000        4\n",
       "1.8000        4\n",
       "0.4000        5\n",
       "2.0000        5\n",
       "2.3000        5\n",
       "0.9000        5\n",
       "0.8000        5\n",
       "0.5000        6\n",
       "1.9000        6\n",
       "1.0000        6\n",
       "1.2000        6\n",
       "1.7000        7\n",
       "1.3000        7\n",
       "1.5000        8\n",
       "1.4000       11\n",
       "1.1000       13\n",
       "0.7000       14\n",
       "0.3000       14\n",
       "0.1000       17\n",
       "0.6000       17\n",
       "0.2000       22\n",
       "0.0000    84056\n",
       "Name: avg_tca, dtype: int64"
      ]
     },
     "execution_count": 89,
     "metadata": {},
     "output_type": "execute_result"
    }
   ],
   "source": [
    "cloud.avg_tca.value_counts().sort_values()"
   ]
  },
  {
   "cell_type": "code",
   "execution_count": 90,
   "metadata": {},
   "outputs": [
    {
     "data": {
      "text/plain": [
       "tma                      0\n",
       "stn_id                   0\n",
       "avg_tca              55561\n",
       "avg_tca_calc_dtnb        0\n",
       "dtype: int64"
      ]
     },
     "execution_count": 90,
     "metadata": {},
     "output_type": "execute_result"
    }
   ],
   "source": [
    "cloud.isnull().sum()"
   ]
  },
  {
   "cell_type": "code",
   "execution_count": 91,
   "metadata": {},
   "outputs": [
    {
     "data": {
      "text/plain": [
       "tma                  0\n",
       "stn_id               0\n",
       "avg_tca              0\n",
       "avg_tca_calc_dtnb    0\n",
       "dtype: int64"
      ]
     },
     "execution_count": 91,
     "metadata": {},
     "output_type": "execute_result"
    }
   ],
   "source": [
    "cloud = cloud.fillna(0)\n",
    "cloud.isnull().sum()"
   ]
  },
  {
   "cell_type": "code",
   "execution_count": null,
   "metadata": {
    "scrolled": true
   },
   "outputs": [],
   "source": []
  },
  {
   "cell_type": "code",
   "execution_count": null,
   "metadata": {},
   "outputs": [],
   "source": []
  }
 ],
 "metadata": {
  "kernelspec": {
   "display_name": "Python 3",
   "language": "python",
   "name": "python3"
  },
  "language_info": {
   "codemirror_mode": {
    "name": "ipython",
    "version": 3
   },
   "file_extension": ".py",
   "mimetype": "text/x-python",
   "name": "python",
   "nbconvert_exporter": "python",
   "pygments_lexer": "ipython3",
   "version": "3.7.6"
  },
  "toc": {
   "base_numbering": 1,
   "nav_menu": {},
   "number_sections": true,
   "sideBar": true,
   "skip_h1_title": false,
   "title_cell": "Table of Contents",
   "title_sidebar": "Contents",
   "toc_cell": false,
   "toc_position": {
    "height": "calc(100% - 180px)",
    "left": "10px",
    "top": "150px",
    "width": "384px"
   },
   "toc_section_display": true,
   "toc_window_display": true
  },
  "varInspector": {
   "cols": {
    "lenName": 16,
    "lenType": 16,
    "lenVar": 40
   },
   "kernels_config": {
    "python": {
     "delete_cmd_postfix": "",
     "delete_cmd_prefix": "del ",
     "library": "var_list.py",
     "varRefreshCmd": "print(var_dic_list())"
    },
    "r": {
     "delete_cmd_postfix": ") ",
     "delete_cmd_prefix": "rm(",
     "library": "var_list.r",
     "varRefreshCmd": "cat(var_dic_list()) "
    }
   },
   "types_to_exclude": [
    "module",
    "function",
    "builtin_function_or_method",
    "instance",
    "_Feature"
   ],
   "window_display": false
  }
 },
 "nbformat": 4,
 "nbformat_minor": 4
}
