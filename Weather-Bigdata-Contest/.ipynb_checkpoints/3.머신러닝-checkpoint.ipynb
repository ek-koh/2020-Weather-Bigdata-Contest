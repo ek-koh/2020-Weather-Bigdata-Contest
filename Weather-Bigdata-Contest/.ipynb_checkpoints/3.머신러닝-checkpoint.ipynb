{
 "cells": [
  {
   "cell_type": "markdown",
   "metadata": {},
   "source": [
    "# 정규화(원핫 인코딩 + 표준화)\n",
    "## plant 데이터 prepocessing"
   ]
  },
  {
   "cell_type": "code",
   "execution_count": 11,
   "metadata": {
    "ExecuteTime": {
     "end_time": "2020-06-15T04:39:24.067641Z",
     "start_time": "2020-06-15T04:39:24.064648Z"
    }
   },
   "outputs": [],
   "source": [
    "import pandas as pd\n",
    "import missingno\n",
    "import matplotlib.pyplot as plt\n",
    "import seaborn as sns\n",
    "import numpy as np\n",
    "pd.options.display.max_columns = 999"
   ]
  },
  {
   "cell_type": "code",
   "execution_count": 12,
   "metadata": {
    "ExecuteTime": {
     "end_time": "2020-06-15T04:39:24.791753Z",
     "start_time": "2020-06-15T04:39:24.070599Z"
    }
   },
   "outputs": [
    {
     "data": {
      "text/html": [
       "<div>\n",
       "<style scoped>\n",
       "    .dataframe tbody tr th:only-of-type {\n",
       "        vertical-align: middle;\n",
       "    }\n",
       "\n",
       "    .dataframe tbody tr th {\n",
       "        vertical-align: top;\n",
       "    }\n",
       "\n",
       "    .dataframe thead th {\n",
       "        text-align: right;\n",
       "    }\n",
       "</style>\n",
       "<table border=\"1\" class=\"dataframe\">\n",
       "  <thead>\n",
       "    <tr style=\"text-align: right;\">\n",
       "      <th></th>\n",
       "      <th>MEA_DDHR</th>\n",
       "      <th>PLANT</th>\n",
       "      <th>LOC</th>\n",
       "      <th>TEM_IN</th>\n",
       "      <th>HUM_IN</th>\n",
       "      <th>TEM_COIL</th>\n",
       "      <th>TEM_OUT_LOC1</th>\n",
       "      <th>HUM_OUT_LOC1</th>\n",
       "      <th>X24H_TMA</th>\n",
       "      <th>X24H_COND_LOC</th>\n",
       "      <th>X48H_TMA</th>\n",
       "      <th>X48H_COND_LOC</th>\n",
       "      <th>DEW_POINT_IN</th>\n",
       "    </tr>\n",
       "  </thead>\n",
       "  <tbody>\n",
       "    <tr>\n",
       "      <td>0</td>\n",
       "      <td>2016-04-01 00:00:00</td>\n",
       "      <td>1</td>\n",
       "      <td>1</td>\n",
       "      <td>16.00</td>\n",
       "      <td>24.00</td>\n",
       "      <td>11.00</td>\n",
       "      <td>9.00</td>\n",
       "      <td>42.00</td>\n",
       "      <td>2016-04-02 00:00:00</td>\n",
       "      <td>0.0</td>\n",
       "      <td>2016-04-03 00:00:00</td>\n",
       "      <td>0.0</td>\n",
       "      <td>-4.561169</td>\n",
       "    </tr>\n",
       "    <tr>\n",
       "      <td>1</td>\n",
       "      <td>2016-04-01 03:00:00</td>\n",
       "      <td>1</td>\n",
       "      <td>1</td>\n",
       "      <td>14.00</td>\n",
       "      <td>28.00</td>\n",
       "      <td>10.00</td>\n",
       "      <td>7.00</td>\n",
       "      <td>59.00</td>\n",
       "      <td>2016-04-02 03:00:00</td>\n",
       "      <td>0.0</td>\n",
       "      <td>2016-04-03 03:00:00</td>\n",
       "      <td>0.0</td>\n",
       "      <td>-4.222123</td>\n",
       "    </tr>\n",
       "    <tr>\n",
       "      <td>2</td>\n",
       "      <td>2016-04-01 06:00:00</td>\n",
       "      <td>1</td>\n",
       "      <td>1</td>\n",
       "      <td>13.00</td>\n",
       "      <td>33.00</td>\n",
       "      <td>10.00</td>\n",
       "      <td>6.00</td>\n",
       "      <td>56.00</td>\n",
       "      <td>2016-04-02 06:00:00</td>\n",
       "      <td>0.0</td>\n",
       "      <td>2016-04-03 06:00:00</td>\n",
       "      <td>0.0</td>\n",
       "      <td>-2.896847</td>\n",
       "    </tr>\n",
       "    <tr>\n",
       "      <td>3</td>\n",
       "      <td>2016-04-01 09:00:00</td>\n",
       "      <td>1</td>\n",
       "      <td>1</td>\n",
       "      <td>13.00</td>\n",
       "      <td>33.00</td>\n",
       "      <td>10.00</td>\n",
       "      <td>18.00</td>\n",
       "      <td>30.00</td>\n",
       "      <td>2016-04-02 09:00:00</td>\n",
       "      <td>0.0</td>\n",
       "      <td>2016-04-03 09:00:00</td>\n",
       "      <td>0.0</td>\n",
       "      <td>-2.896847</td>\n",
       "    </tr>\n",
       "    <tr>\n",
       "      <td>4</td>\n",
       "      <td>2016-04-01 12:00:00</td>\n",
       "      <td>1</td>\n",
       "      <td>1</td>\n",
       "      <td>16.00</td>\n",
       "      <td>28.00</td>\n",
       "      <td>10.00</td>\n",
       "      <td>18.00</td>\n",
       "      <td>20.00</td>\n",
       "      <td>2016-04-02 12:00:00</td>\n",
       "      <td>0.0</td>\n",
       "      <td>2016-04-03 12:00:00</td>\n",
       "      <td>0.0</td>\n",
       "      <td>-2.502215</td>\n",
       "    </tr>\n",
       "    <tr>\n",
       "      <td>...</td>\n",
       "      <td>...</td>\n",
       "      <td>...</td>\n",
       "      <td>...</td>\n",
       "      <td>...</td>\n",
       "      <td>...</td>\n",
       "      <td>...</td>\n",
       "      <td>...</td>\n",
       "      <td>...</td>\n",
       "      <td>...</td>\n",
       "      <td>...</td>\n",
       "      <td>...</td>\n",
       "      <td>...</td>\n",
       "      <td>...</td>\n",
       "    </tr>\n",
       "    <tr>\n",
       "      <td>349312</td>\n",
       "      <td>2019-03-31 23:00:00</td>\n",
       "      <td>2</td>\n",
       "      <td>3</td>\n",
       "      <td>8.29</td>\n",
       "      <td>37.82</td>\n",
       "      <td>9.53</td>\n",
       "      <td>4.72</td>\n",
       "      <td>50.98</td>\n",
       "      <td>2019-04-01 23:00:00</td>\n",
       "      <td>0.0</td>\n",
       "      <td>2019-04-02 23:00:00</td>\n",
       "      <td>0.0</td>\n",
       "      <td>-5.252838</td>\n",
       "    </tr>\n",
       "    <tr>\n",
       "      <td>349313</td>\n",
       "      <td>2019-03-31 23:10:00</td>\n",
       "      <td>2</td>\n",
       "      <td>3</td>\n",
       "      <td>8.26</td>\n",
       "      <td>38.34</td>\n",
       "      <td>9.57</td>\n",
       "      <td>4.72</td>\n",
       "      <td>52.11</td>\n",
       "      <td>2019-04-01 23:10:00</td>\n",
       "      <td>0.0</td>\n",
       "      <td>2019-04-02 23:10:00</td>\n",
       "      <td>0.0</td>\n",
       "      <td>-5.099800</td>\n",
       "    </tr>\n",
       "    <tr>\n",
       "      <td>349314</td>\n",
       "      <td>2019-03-31 23:20:00</td>\n",
       "      <td>2</td>\n",
       "      <td>3</td>\n",
       "      <td>8.29</td>\n",
       "      <td>38.92</td>\n",
       "      <td>9.60</td>\n",
       "      <td>4.66</td>\n",
       "      <td>51.01</td>\n",
       "      <td>2019-04-01 23:20:00</td>\n",
       "      <td>0.0</td>\n",
       "      <td>2019-04-02 23:20:00</td>\n",
       "      <td>0.0</td>\n",
       "      <td>-4.874884</td>\n",
       "    </tr>\n",
       "    <tr>\n",
       "      <td>349315</td>\n",
       "      <td>2019-03-31 23:30:00</td>\n",
       "      <td>2</td>\n",
       "      <td>3</td>\n",
       "      <td>8.32</td>\n",
       "      <td>39.13</td>\n",
       "      <td>9.49</td>\n",
       "      <td>4.57</td>\n",
       "      <td>51.47</td>\n",
       "      <td>2019-04-01 23:30:00</td>\n",
       "      <td>0.0</td>\n",
       "      <td>2019-04-02 23:30:00</td>\n",
       "      <td>0.0</td>\n",
       "      <td>-4.776917</td>\n",
       "    </tr>\n",
       "    <tr>\n",
       "      <td>349316</td>\n",
       "      <td>2019-03-31 23:40:00</td>\n",
       "      <td>2</td>\n",
       "      <td>3</td>\n",
       "      <td>8.26</td>\n",
       "      <td>39.62</td>\n",
       "      <td>9.57</td>\n",
       "      <td>4.47</td>\n",
       "      <td>53.14</td>\n",
       "      <td>2019-04-01 23:40:00</td>\n",
       "      <td>0.0</td>\n",
       "      <td>2019-04-02 23:40:00</td>\n",
       "      <td>0.0</td>\n",
       "      <td>-4.666200</td>\n",
       "    </tr>\n",
       "  </tbody>\n",
       "</table>\n",
       "<p>349317 rows × 13 columns</p>\n",
       "</div>"
      ],
      "text/plain": [
       "                   MEA_DDHR  PLANT  LOC  TEM_IN  HUM_IN  TEM_COIL  \\\n",
       "0       2016-04-01 00:00:00      1    1   16.00   24.00     11.00   \n",
       "1       2016-04-01 03:00:00      1    1   14.00   28.00     10.00   \n",
       "2       2016-04-01 06:00:00      1    1   13.00   33.00     10.00   \n",
       "3       2016-04-01 09:00:00      1    1   13.00   33.00     10.00   \n",
       "4       2016-04-01 12:00:00      1    1   16.00   28.00     10.00   \n",
       "...                     ...    ...  ...     ...     ...       ...   \n",
       "349312  2019-03-31 23:00:00      2    3    8.29   37.82      9.53   \n",
       "349313  2019-03-31 23:10:00      2    3    8.26   38.34      9.57   \n",
       "349314  2019-03-31 23:20:00      2    3    8.29   38.92      9.60   \n",
       "349315  2019-03-31 23:30:00      2    3    8.32   39.13      9.49   \n",
       "349316  2019-03-31 23:40:00      2    3    8.26   39.62      9.57   \n",
       "\n",
       "        TEM_OUT_LOC1  HUM_OUT_LOC1             X24H_TMA  X24H_COND_LOC  \\\n",
       "0               9.00         42.00  2016-04-02 00:00:00            0.0   \n",
       "1               7.00         59.00  2016-04-02 03:00:00            0.0   \n",
       "2               6.00         56.00  2016-04-02 06:00:00            0.0   \n",
       "3              18.00         30.00  2016-04-02 09:00:00            0.0   \n",
       "4              18.00         20.00  2016-04-02 12:00:00            0.0   \n",
       "...              ...           ...                  ...            ...   \n",
       "349312          4.72         50.98  2019-04-01 23:00:00            0.0   \n",
       "349313          4.72         52.11  2019-04-01 23:10:00            0.0   \n",
       "349314          4.66         51.01  2019-04-01 23:20:00            0.0   \n",
       "349315          4.57         51.47  2019-04-01 23:30:00            0.0   \n",
       "349316          4.47         53.14  2019-04-01 23:40:00            0.0   \n",
       "\n",
       "                   X48H_TMA  X48H_COND_LOC  DEW_POINT_IN  \n",
       "0       2016-04-03 00:00:00            0.0     -4.561169  \n",
       "1       2016-04-03 03:00:00            0.0     -4.222123  \n",
       "2       2016-04-03 06:00:00            0.0     -2.896847  \n",
       "3       2016-04-03 09:00:00            0.0     -2.896847  \n",
       "4       2016-04-03 12:00:00            0.0     -2.502215  \n",
       "...                     ...            ...           ...  \n",
       "349312  2019-04-02 23:00:00            0.0     -5.252838  \n",
       "349313  2019-04-02 23:10:00            0.0     -5.099800  \n",
       "349314  2019-04-02 23:20:00            0.0     -4.874884  \n",
       "349315  2019-04-02 23:30:00            0.0     -4.776917  \n",
       "349316  2019-04-02 23:40:00            0.0     -4.666200  \n",
       "\n",
       "[349317 rows x 13 columns]"
      ]
     },
     "execution_count": 12,
     "metadata": {},
     "output_type": "execute_result"
    }
   ],
   "source": [
    "plant = pd.read_csv(\"data/31.finaldata_plant/plant.csv\")\n",
    "plant"
   ]
  },
  {
   "cell_type": "markdown",
   "metadata": {},
   "source": [
    "## test_data validation &정규화 preprosessing"
   ]
  },
  {
   "cell_type": "code",
   "execution_count": 13,
   "metadata": {
    "ExecuteTime": {
     "end_time": "2020-06-15T04:39:24.834657Z",
     "start_time": "2020-06-15T04:39:24.792750Z"
    }
   },
   "outputs": [
    {
     "data": {
      "text/html": [
       "<div>\n",
       "<style scoped>\n",
       "    .dataframe tbody tr th:only-of-type {\n",
       "        vertical-align: middle;\n",
       "    }\n",
       "\n",
       "    .dataframe tbody tr th {\n",
       "        vertical-align: top;\n",
       "    }\n",
       "\n",
       "    .dataframe thead th {\n",
       "        text-align: right;\n",
       "    }\n",
       "</style>\n",
       "<table border=\"1\" class=\"dataframe\">\n",
       "  <thead>\n",
       "    <tr style=\"text-align: right;\">\n",
       "      <th></th>\n",
       "      <th>MEA_DDHR</th>\n",
       "      <th>PLANT</th>\n",
       "      <th>LOC</th>\n",
       "      <th>TEM_IN</th>\n",
       "      <th>HUM_IN</th>\n",
       "      <th>TEM_COIL</th>\n",
       "      <th>TEM_OUT_LOC1</th>\n",
       "      <th>HUM_OUT_LOC1</th>\n",
       "      <th>X24H_TMA</th>\n",
       "      <th>X24H_COND_LOC</th>\n",
       "      <th>X48H_TMA</th>\n",
       "      <th>X48H_COND_LOC</th>\n",
       "      <th>DEW_POINT_IN</th>\n",
       "    </tr>\n",
       "  </thead>\n",
       "  <tbody>\n",
       "    <tr>\n",
       "      <td>0</td>\n",
       "      <td>2019-04-01 00:00:00</td>\n",
       "      <td>2</td>\n",
       "      <td>3</td>\n",
       "      <td>8.17</td>\n",
       "      <td>40.42</td>\n",
       "      <td>10.10</td>\n",
       "      <td>4.20</td>\n",
       "      <td>54.82</td>\n",
       "      <td>2019-04-02 00:00:00</td>\n",
       "      <td>NaN</td>\n",
       "      <td>2019-04-03 00:00:00</td>\n",
       "      <td>NaN</td>\n",
       "      <td>-4.482439</td>\n",
       "    </tr>\n",
       "    <tr>\n",
       "      <td>1</td>\n",
       "      <td>2019-04-01 04:30:00</td>\n",
       "      <td>1</td>\n",
       "      <td>2</td>\n",
       "      <td>10.03</td>\n",
       "      <td>48.81</td>\n",
       "      <td>10.79</td>\n",
       "      <td>6.09</td>\n",
       "      <td>59.34</td>\n",
       "      <td>2019-04-02 04:30:00</td>\n",
       "      <td>NaN</td>\n",
       "      <td>2019-04-03 04:30:00</td>\n",
       "      <td>NaN</td>\n",
       "      <td>-0.247107</td>\n",
       "    </tr>\n",
       "    <tr>\n",
       "      <td>2</td>\n",
       "      <td>2019-04-01 10:30:00</td>\n",
       "      <td>2</td>\n",
       "      <td>3</td>\n",
       "      <td>9.45</td>\n",
       "      <td>40.93</td>\n",
       "      <td>9.07</td>\n",
       "      <td>12.26</td>\n",
       "      <td>32.14</td>\n",
       "      <td>2019-04-02 10:30:00</td>\n",
       "      <td>NaN</td>\n",
       "      <td>2019-04-03 10:30:00</td>\n",
       "      <td>NaN</td>\n",
       "      <td>-3.163210</td>\n",
       "    </tr>\n",
       "    <tr>\n",
       "      <td>3</td>\n",
       "      <td>2019-04-01 11:00:00</td>\n",
       "      <td>1</td>\n",
       "      <td>1</td>\n",
       "      <td>12.32</td>\n",
       "      <td>34.13</td>\n",
       "      <td>10.86</td>\n",
       "      <td>12.32</td>\n",
       "      <td>28.27</td>\n",
       "      <td>2019-04-02 11:00:00</td>\n",
       "      <td>NaN</td>\n",
       "      <td>2019-04-03 11:00:00</td>\n",
       "      <td>NaN</td>\n",
       "      <td>-3.042714</td>\n",
       "    </tr>\n",
       "    <tr>\n",
       "      <td>4</td>\n",
       "      <td>2019-04-01 13:30:00</td>\n",
       "      <td>2</td>\n",
       "      <td>1</td>\n",
       "      <td>11.28</td>\n",
       "      <td>22.65</td>\n",
       "      <td>8.76</td>\n",
       "      <td>12.01</td>\n",
       "      <td>19.84</td>\n",
       "      <td>2019-04-02 13:30:00</td>\n",
       "      <td>NaN</td>\n",
       "      <td>2019-04-03 13:30:00</td>\n",
       "      <td>NaN</td>\n",
       "      <td>-9.291221</td>\n",
       "    </tr>\n",
       "    <tr>\n",
       "      <td>...</td>\n",
       "      <td>...</td>\n",
       "      <td>...</td>\n",
       "      <td>...</td>\n",
       "      <td>...</td>\n",
       "      <td>...</td>\n",
       "      <td>...</td>\n",
       "      <td>...</td>\n",
       "      <td>...</td>\n",
       "      <td>...</td>\n",
       "      <td>...</td>\n",
       "      <td>...</td>\n",
       "      <td>...</td>\n",
       "      <td>...</td>\n",
       "    </tr>\n",
       "    <tr>\n",
       "      <td>3534</td>\n",
       "      <td>2020-03-29 03:00:00</td>\n",
       "      <td>1</td>\n",
       "      <td>2</td>\n",
       "      <td>10.73</td>\n",
       "      <td>33.36</td>\n",
       "      <td>13.30</td>\n",
       "      <td>6.28</td>\n",
       "      <td>46.37</td>\n",
       "      <td>2020-03-30 03:00:00</td>\n",
       "      <td>NaN</td>\n",
       "      <td>2020-03-31 03:00:00</td>\n",
       "      <td>NaN</td>\n",
       "      <td>-4.745901</td>\n",
       "    </tr>\n",
       "    <tr>\n",
       "      <td>3535</td>\n",
       "      <td>2020-03-29 05:00:00</td>\n",
       "      <td>2</td>\n",
       "      <td>3</td>\n",
       "      <td>9.15</td>\n",
       "      <td>38.86</td>\n",
       "      <td>11.70</td>\n",
       "      <td>1.39</td>\n",
       "      <td>74.33</td>\n",
       "      <td>2020-03-30 05:00:00</td>\n",
       "      <td>NaN</td>\n",
       "      <td>2020-03-31 05:00:00</td>\n",
       "      <td>NaN</td>\n",
       "      <td>-4.125121</td>\n",
       "    </tr>\n",
       "    <tr>\n",
       "      <td>3536</td>\n",
       "      <td>2020-03-29 07:00:00</td>\n",
       "      <td>2</td>\n",
       "      <td>1</td>\n",
       "      <td>7.10</td>\n",
       "      <td>44.87</td>\n",
       "      <td>9.03</td>\n",
       "      <td>4.26</td>\n",
       "      <td>58.06</td>\n",
       "      <td>2020-03-30 07:00:00</td>\n",
       "      <td>NaN</td>\n",
       "      <td>2020-03-31 07:00:00</td>\n",
       "      <td>NaN</td>\n",
       "      <td>-4.064845</td>\n",
       "    </tr>\n",
       "    <tr>\n",
       "      <td>3537</td>\n",
       "      <td>2020-03-29 11:30:00</td>\n",
       "      <td>1</td>\n",
       "      <td>1</td>\n",
       "      <td>13.54</td>\n",
       "      <td>33.49</td>\n",
       "      <td>12.20</td>\n",
       "      <td>12.90</td>\n",
       "      <td>33.67</td>\n",
       "      <td>2020-03-30 11:30:00</td>\n",
       "      <td>NaN</td>\n",
       "      <td>2020-03-31 11:30:00</td>\n",
       "      <td>NaN</td>\n",
       "      <td>-2.224313</td>\n",
       "    </tr>\n",
       "    <tr>\n",
       "      <td>3538</td>\n",
       "      <td>2020-03-29 19:30:00</td>\n",
       "      <td>1</td>\n",
       "      <td>1</td>\n",
       "      <td>14.21</td>\n",
       "      <td>34.43</td>\n",
       "      <td>12.77</td>\n",
       "      <td>9.88</td>\n",
       "      <td>43.96</td>\n",
       "      <td>2020-03-30 19:30:00</td>\n",
       "      <td>NaN</td>\n",
       "      <td>2020-03-31 19:30:00</td>\n",
       "      <td>NaN</td>\n",
       "      <td>-1.259503</td>\n",
       "    </tr>\n",
       "  </tbody>\n",
       "</table>\n",
       "<p>3539 rows × 13 columns</p>\n",
       "</div>"
      ],
      "text/plain": [
       "                 MEA_DDHR  PLANT  LOC  TEM_IN  HUM_IN  TEM_COIL  TEM_OUT_LOC1  \\\n",
       "0     2019-04-01 00:00:00      2    3    8.17   40.42     10.10          4.20   \n",
       "1     2019-04-01 04:30:00      1    2   10.03   48.81     10.79          6.09   \n",
       "2     2019-04-01 10:30:00      2    3    9.45   40.93      9.07         12.26   \n",
       "3     2019-04-01 11:00:00      1    1   12.32   34.13     10.86         12.32   \n",
       "4     2019-04-01 13:30:00      2    1   11.28   22.65      8.76         12.01   \n",
       "...                   ...    ...  ...     ...     ...       ...           ...   \n",
       "3534  2020-03-29 03:00:00      1    2   10.73   33.36     13.30          6.28   \n",
       "3535  2020-03-29 05:00:00      2    3    9.15   38.86     11.70          1.39   \n",
       "3536  2020-03-29 07:00:00      2    1    7.10   44.87      9.03          4.26   \n",
       "3537  2020-03-29 11:30:00      1    1   13.54   33.49     12.20         12.90   \n",
       "3538  2020-03-29 19:30:00      1    1   14.21   34.43     12.77          9.88   \n",
       "\n",
       "      HUM_OUT_LOC1             X24H_TMA  X24H_COND_LOC             X48H_TMA  \\\n",
       "0            54.82  2019-04-02 00:00:00            NaN  2019-04-03 00:00:00   \n",
       "1            59.34  2019-04-02 04:30:00            NaN  2019-04-03 04:30:00   \n",
       "2            32.14  2019-04-02 10:30:00            NaN  2019-04-03 10:30:00   \n",
       "3            28.27  2019-04-02 11:00:00            NaN  2019-04-03 11:00:00   \n",
       "4            19.84  2019-04-02 13:30:00            NaN  2019-04-03 13:30:00   \n",
       "...            ...                  ...            ...                  ...   \n",
       "3534         46.37  2020-03-30 03:00:00            NaN  2020-03-31 03:00:00   \n",
       "3535         74.33  2020-03-30 05:00:00            NaN  2020-03-31 05:00:00   \n",
       "3536         58.06  2020-03-30 07:00:00            NaN  2020-03-31 07:00:00   \n",
       "3537         33.67  2020-03-30 11:30:00            NaN  2020-03-31 11:30:00   \n",
       "3538         43.96  2020-03-30 19:30:00            NaN  2020-03-31 19:30:00   \n",
       "\n",
       "      X48H_COND_LOC  DEW_POINT_IN  \n",
       "0               NaN     -4.482439  \n",
       "1               NaN     -0.247107  \n",
       "2               NaN     -3.163210  \n",
       "3               NaN     -3.042714  \n",
       "4               NaN     -9.291221  \n",
       "...             ...           ...  \n",
       "3534            NaN     -4.745901  \n",
       "3535            NaN     -4.125121  \n",
       "3536            NaN     -4.064845  \n",
       "3537            NaN     -2.224313  \n",
       "3538            NaN     -1.259503  \n",
       "\n",
       "[3539 rows x 13 columns]"
      ]
     },
     "execution_count": 13,
     "metadata": {},
     "output_type": "execute_result"
    }
   ],
   "source": [
    "test_data = pd.read_csv(\"data/31.finaldata_plant/test_data.csv\")\n",
    "test_data"
   ]
  },
  {
   "cell_type": "code",
   "execution_count": 14,
   "metadata": {
    "ExecuteTime": {
     "end_time": "2020-06-15T04:39:24.843634Z",
     "start_time": "2020-06-15T04:39:24.836653Z"
    }
   },
   "outputs": [],
   "source": [
    "from sklearn.preprocessing import StandardScaler\n",
    "def preprosess(data):\n",
    "    # 파생변수를 스케줄링 해줌(표준화)\n",
    "    scaling_features = data[['TEM_IN', 'HUM_IN', \"TEM_COIL\", \"TEM_OUT_LOC1\", \"HUM_OUT_LOC1\", \"DEW_POINT_IN\"]]\n",
    "    scaler = StandardScaler()\n",
    "    scaled_nd = scaler.fit_transform(scaling_features)\n",
    "    scaled_df = pd.DataFrame(scaled_nd, columns=scaling_features.columns)\n",
    "    data.drop(['TEM_IN', 'HUM_IN', \"TEM_COIL\", \"TEM_OUT_LOC1\", \"HUM_OUT_LOC1\", \"DEW_POINT_IN\"], axis=1, inplace=True)\n",
    "    data = pd.concat([data,scaled_df ], axis=1)\n",
    "    # 원-핫 인코딩\n",
    "#     category = [\"PLANT\", \"LOC\", \"MONTH\", \"WEEK\",\"HOUR\"]\n",
    "    category = [\"PLANT\", \"LOC\"]\n",
    "    data = pd.get_dummies(data , columns=category)\n",
    "\n",
    "    return data"
   ]
  },
  {
   "cell_type": "code",
   "execution_count": 15,
   "metadata": {
    "ExecuteTime": {
     "end_time": "2020-06-15T04:39:24.970295Z",
     "start_time": "2020-06-15T04:39:24.845629Z"
    }
   },
   "outputs": [
    {
     "ename": "KeyError",
     "evalue": "\"['WEEK', 'HOUR', 'MONTH'] not in index\"",
     "output_type": "error",
     "traceback": [
      "\u001b[1;31m---------------------------------------------------------------------------\u001b[0m",
      "\u001b[1;31mKeyError\u001b[0m                                  Traceback (most recent call last)",
      "\u001b[1;32m<ipython-input-15-dbc911d49e25>\u001b[0m in \u001b[0;36m<module>\u001b[1;34m\u001b[0m\n\u001b[1;32m----> 1\u001b[1;33m \u001b[0mplant\u001b[0m \u001b[1;33m=\u001b[0m \u001b[0mpreprosess\u001b[0m\u001b[1;33m(\u001b[0m\u001b[0mplant\u001b[0m\u001b[1;33m)\u001b[0m\u001b[1;33m\u001b[0m\u001b[1;33m\u001b[0m\u001b[0m\n\u001b[0m\u001b[0;32m      2\u001b[0m \u001b[0mplant\u001b[0m\u001b[1;33m.\u001b[0m\u001b[0mhead\u001b[0m\u001b[1;33m(\u001b[0m\u001b[1;33m)\u001b[0m\u001b[1;33m\u001b[0m\u001b[1;33m\u001b[0m\u001b[0m\n",
      "\u001b[1;32m<ipython-input-14-d7add0755852>\u001b[0m in \u001b[0;36mpreprosess\u001b[1;34m(data)\u001b[0m\n\u001b[0;32m     10\u001b[0m     \u001b[1;31m# 원-핫 인코딩\u001b[0m\u001b[1;33m\u001b[0m\u001b[1;33m\u001b[0m\u001b[1;33m\u001b[0m\u001b[0m\n\u001b[0;32m     11\u001b[0m     \u001b[0mcategory\u001b[0m \u001b[1;33m=\u001b[0m \u001b[1;33m[\u001b[0m\u001b[1;34m\"PLANT\"\u001b[0m\u001b[1;33m,\u001b[0m \u001b[1;34m\"LOC\"\u001b[0m\u001b[1;33m,\u001b[0m \u001b[1;34m\"MONTH\"\u001b[0m\u001b[1;33m,\u001b[0m \u001b[1;34m\"WEEK\"\u001b[0m\u001b[1;33m,\u001b[0m\u001b[1;34m\"HOUR\"\u001b[0m\u001b[1;33m]\u001b[0m\u001b[1;33m\u001b[0m\u001b[1;33m\u001b[0m\u001b[0m\n\u001b[1;32m---> 12\u001b[1;33m     \u001b[0mdata\u001b[0m \u001b[1;33m=\u001b[0m \u001b[0mpd\u001b[0m\u001b[1;33m.\u001b[0m\u001b[0mget_dummies\u001b[0m\u001b[1;33m(\u001b[0m\u001b[0mdata\u001b[0m \u001b[1;33m,\u001b[0m \u001b[0mcolumns\u001b[0m\u001b[1;33m=\u001b[0m\u001b[0mcategory\u001b[0m\u001b[1;33m)\u001b[0m\u001b[1;33m\u001b[0m\u001b[1;33m\u001b[0m\u001b[0m\n\u001b[0m\u001b[0;32m     13\u001b[0m \u001b[1;33m\u001b[0m\u001b[0m\n\u001b[0;32m     14\u001b[0m     \u001b[1;32mreturn\u001b[0m \u001b[0mdata\u001b[0m\u001b[1;33m\u001b[0m\u001b[1;33m\u001b[0m\u001b[0m\n",
      "\u001b[1;32m~\\Anaconda3\\lib\\site-packages\\pandas\\core\\reshape\\reshape.py\u001b[0m in \u001b[0;36mget_dummies\u001b[1;34m(data, prefix, prefix_sep, dummy_na, columns, sparse, drop_first, dtype)\u001b[0m\n\u001b[0;32m    870\u001b[0m             \u001b[0mdata_to_encode\u001b[0m \u001b[1;33m=\u001b[0m \u001b[0mdata\u001b[0m\u001b[1;33m.\u001b[0m\u001b[0mselect_dtypes\u001b[0m\u001b[1;33m(\u001b[0m\u001b[0minclude\u001b[0m\u001b[1;33m=\u001b[0m\u001b[0mdtypes_to_encode\u001b[0m\u001b[1;33m)\u001b[0m\u001b[1;33m\u001b[0m\u001b[1;33m\u001b[0m\u001b[0m\n\u001b[0;32m    871\u001b[0m         \u001b[1;32melse\u001b[0m\u001b[1;33m:\u001b[0m\u001b[1;33m\u001b[0m\u001b[1;33m\u001b[0m\u001b[0m\n\u001b[1;32m--> 872\u001b[1;33m             \u001b[0mdata_to_encode\u001b[0m \u001b[1;33m=\u001b[0m \u001b[0mdata\u001b[0m\u001b[1;33m[\u001b[0m\u001b[0mcolumns\u001b[0m\u001b[1;33m]\u001b[0m\u001b[1;33m\u001b[0m\u001b[1;33m\u001b[0m\u001b[0m\n\u001b[0m\u001b[0;32m    873\u001b[0m \u001b[1;33m\u001b[0m\u001b[0m\n\u001b[0;32m    874\u001b[0m         \u001b[1;31m# validate prefixes and separator to avoid silently dropping cols\u001b[0m\u001b[1;33m\u001b[0m\u001b[1;33m\u001b[0m\u001b[1;33m\u001b[0m\u001b[0m\n",
      "\u001b[1;32m~\\Anaconda3\\lib\\site-packages\\pandas\\core\\frame.py\u001b[0m in \u001b[0;36m__getitem__\u001b[1;34m(self, key)\u001b[0m\n\u001b[0;32m   2984\u001b[0m             \u001b[1;32mif\u001b[0m \u001b[0mis_iterator\u001b[0m\u001b[1;33m(\u001b[0m\u001b[0mkey\u001b[0m\u001b[1;33m)\u001b[0m\u001b[1;33m:\u001b[0m\u001b[1;33m\u001b[0m\u001b[1;33m\u001b[0m\u001b[0m\n\u001b[0;32m   2985\u001b[0m                 \u001b[0mkey\u001b[0m \u001b[1;33m=\u001b[0m \u001b[0mlist\u001b[0m\u001b[1;33m(\u001b[0m\u001b[0mkey\u001b[0m\u001b[1;33m)\u001b[0m\u001b[1;33m\u001b[0m\u001b[1;33m\u001b[0m\u001b[0m\n\u001b[1;32m-> 2986\u001b[1;33m             \u001b[0mindexer\u001b[0m \u001b[1;33m=\u001b[0m \u001b[0mself\u001b[0m\u001b[1;33m.\u001b[0m\u001b[0mloc\u001b[0m\u001b[1;33m.\u001b[0m\u001b[0m_convert_to_indexer\u001b[0m\u001b[1;33m(\u001b[0m\u001b[0mkey\u001b[0m\u001b[1;33m,\u001b[0m \u001b[0maxis\u001b[0m\u001b[1;33m=\u001b[0m\u001b[1;36m1\u001b[0m\u001b[1;33m,\u001b[0m \u001b[0mraise_missing\u001b[0m\u001b[1;33m=\u001b[0m\u001b[1;32mTrue\u001b[0m\u001b[1;33m)\u001b[0m\u001b[1;33m\u001b[0m\u001b[1;33m\u001b[0m\u001b[0m\n\u001b[0m\u001b[0;32m   2987\u001b[0m \u001b[1;33m\u001b[0m\u001b[0m\n\u001b[0;32m   2988\u001b[0m         \u001b[1;31m# take() does not accept boolean indexers\u001b[0m\u001b[1;33m\u001b[0m\u001b[1;33m\u001b[0m\u001b[1;33m\u001b[0m\u001b[0m\n",
      "\u001b[1;32m~\\Anaconda3\\lib\\site-packages\\pandas\\core\\indexing.py\u001b[0m in \u001b[0;36m_convert_to_indexer\u001b[1;34m(self, obj, axis, is_setter, raise_missing)\u001b[0m\n\u001b[0;32m   1283\u001b[0m                 \u001b[1;31m# When setting, missing keys are not allowed, even with .loc:\u001b[0m\u001b[1;33m\u001b[0m\u001b[1;33m\u001b[0m\u001b[1;33m\u001b[0m\u001b[0m\n\u001b[0;32m   1284\u001b[0m                 \u001b[0mkwargs\u001b[0m \u001b[1;33m=\u001b[0m \u001b[1;33m{\u001b[0m\u001b[1;34m\"raise_missing\"\u001b[0m\u001b[1;33m:\u001b[0m \u001b[1;32mTrue\u001b[0m \u001b[1;32mif\u001b[0m \u001b[0mis_setter\u001b[0m \u001b[1;32melse\u001b[0m \u001b[0mraise_missing\u001b[0m\u001b[1;33m}\u001b[0m\u001b[1;33m\u001b[0m\u001b[1;33m\u001b[0m\u001b[0m\n\u001b[1;32m-> 1285\u001b[1;33m                 \u001b[1;32mreturn\u001b[0m \u001b[0mself\u001b[0m\u001b[1;33m.\u001b[0m\u001b[0m_get_listlike_indexer\u001b[0m\u001b[1;33m(\u001b[0m\u001b[0mobj\u001b[0m\u001b[1;33m,\u001b[0m \u001b[0maxis\u001b[0m\u001b[1;33m,\u001b[0m \u001b[1;33m**\u001b[0m\u001b[0mkwargs\u001b[0m\u001b[1;33m)\u001b[0m\u001b[1;33m[\u001b[0m\u001b[1;36m1\u001b[0m\u001b[1;33m]\u001b[0m\u001b[1;33m\u001b[0m\u001b[1;33m\u001b[0m\u001b[0m\n\u001b[0m\u001b[0;32m   1286\u001b[0m         \u001b[1;32melse\u001b[0m\u001b[1;33m:\u001b[0m\u001b[1;33m\u001b[0m\u001b[1;33m\u001b[0m\u001b[0m\n\u001b[0;32m   1287\u001b[0m             \u001b[1;32mtry\u001b[0m\u001b[1;33m:\u001b[0m\u001b[1;33m\u001b[0m\u001b[1;33m\u001b[0m\u001b[0m\n",
      "\u001b[1;32m~\\Anaconda3\\lib\\site-packages\\pandas\\core\\indexing.py\u001b[0m in \u001b[0;36m_get_listlike_indexer\u001b[1;34m(self, key, axis, raise_missing)\u001b[0m\n\u001b[0;32m   1090\u001b[0m \u001b[1;33m\u001b[0m\u001b[0m\n\u001b[0;32m   1091\u001b[0m         self._validate_read_indexer(\n\u001b[1;32m-> 1092\u001b[1;33m             \u001b[0mkeyarr\u001b[0m\u001b[1;33m,\u001b[0m \u001b[0mindexer\u001b[0m\u001b[1;33m,\u001b[0m \u001b[0mo\u001b[0m\u001b[1;33m.\u001b[0m\u001b[0m_get_axis_number\u001b[0m\u001b[1;33m(\u001b[0m\u001b[0maxis\u001b[0m\u001b[1;33m)\u001b[0m\u001b[1;33m,\u001b[0m \u001b[0mraise_missing\u001b[0m\u001b[1;33m=\u001b[0m\u001b[0mraise_missing\u001b[0m\u001b[1;33m\u001b[0m\u001b[1;33m\u001b[0m\u001b[0m\n\u001b[0m\u001b[0;32m   1093\u001b[0m         )\n\u001b[0;32m   1094\u001b[0m         \u001b[1;32mreturn\u001b[0m \u001b[0mkeyarr\u001b[0m\u001b[1;33m,\u001b[0m \u001b[0mindexer\u001b[0m\u001b[1;33m\u001b[0m\u001b[1;33m\u001b[0m\u001b[0m\n",
      "\u001b[1;32m~\\Anaconda3\\lib\\site-packages\\pandas\\core\\indexing.py\u001b[0m in \u001b[0;36m_validate_read_indexer\u001b[1;34m(self, key, indexer, axis, raise_missing)\u001b[0m\n\u001b[0;32m   1183\u001b[0m             \u001b[1;32mif\u001b[0m \u001b[1;32mnot\u001b[0m \u001b[1;33m(\u001b[0m\u001b[0mself\u001b[0m\u001b[1;33m.\u001b[0m\u001b[0mname\u001b[0m \u001b[1;33m==\u001b[0m \u001b[1;34m\"loc\"\u001b[0m \u001b[1;32mand\u001b[0m \u001b[1;32mnot\u001b[0m \u001b[0mraise_missing\u001b[0m\u001b[1;33m)\u001b[0m\u001b[1;33m:\u001b[0m\u001b[1;33m\u001b[0m\u001b[1;33m\u001b[0m\u001b[0m\n\u001b[0;32m   1184\u001b[0m                 \u001b[0mnot_found\u001b[0m \u001b[1;33m=\u001b[0m \u001b[0mlist\u001b[0m\u001b[1;33m(\u001b[0m\u001b[0mset\u001b[0m\u001b[1;33m(\u001b[0m\u001b[0mkey\u001b[0m\u001b[1;33m)\u001b[0m \u001b[1;33m-\u001b[0m \u001b[0mset\u001b[0m\u001b[1;33m(\u001b[0m\u001b[0max\u001b[0m\u001b[1;33m)\u001b[0m\u001b[1;33m)\u001b[0m\u001b[1;33m\u001b[0m\u001b[1;33m\u001b[0m\u001b[0m\n\u001b[1;32m-> 1185\u001b[1;33m                 \u001b[1;32mraise\u001b[0m \u001b[0mKeyError\u001b[0m\u001b[1;33m(\u001b[0m\u001b[1;34m\"{} not in index\"\u001b[0m\u001b[1;33m.\u001b[0m\u001b[0mformat\u001b[0m\u001b[1;33m(\u001b[0m\u001b[0mnot_found\u001b[0m\u001b[1;33m)\u001b[0m\u001b[1;33m)\u001b[0m\u001b[1;33m\u001b[0m\u001b[1;33m\u001b[0m\u001b[0m\n\u001b[0m\u001b[0;32m   1186\u001b[0m \u001b[1;33m\u001b[0m\u001b[0m\n\u001b[0;32m   1187\u001b[0m             \u001b[1;31m# we skip the warning on Categorical/Interval\u001b[0m\u001b[1;33m\u001b[0m\u001b[1;33m\u001b[0m\u001b[1;33m\u001b[0m\u001b[0m\n",
      "\u001b[1;31mKeyError\u001b[0m: \"['WEEK', 'HOUR', 'MONTH'] not in index\""
     ]
    }
   ],
   "source": [
    "plant = preprosess(plant)\n",
    "plant.head()"
   ]
  },
  {
   "cell_type": "code",
   "execution_count": null,
   "metadata": {
    "ExecuteTime": {
     "end_time": "2020-06-15T04:39:24.990242Z",
     "start_time": "2020-06-15T04:39:24.114Z"
    }
   },
   "outputs": [],
   "source": [
    "plant.to_csv('data/21.savedata_plant/pre_palnt.csv',index=False)"
   ]
  },
  {
   "cell_type": "code",
   "execution_count": null,
   "metadata": {
    "ExecuteTime": {
     "end_time": "2020-06-15T04:39:24.991239Z",
     "start_time": "2020-06-15T04:39:24.118Z"
    }
   },
   "outputs": [],
   "source": [
    "test = preprosess(test_data)\n",
    "test.head()"
   ]
  },
  {
   "cell_type": "code",
   "execution_count": null,
   "metadata": {
    "ExecuteTime": {
     "end_time": "2020-06-15T04:39:24.992237Z",
     "start_time": "2020-06-15T04:39:24.120Z"
    }
   },
   "outputs": [],
   "source": [
    "test.to_csv('data/21.savedata_plant/pre_test.csv',index=False)"
   ]
  },
  {
   "cell_type": "markdown",
   "metadata": {},
   "source": [
    "# 데이터 분류\n",
    "## plant_train 데이터\n",
    "### train, test 데이터 분리"
   ]
  },
  {
   "cell_type": "code",
   "execution_count": null,
   "metadata": {
    "ExecuteTime": {
     "end_time": "2020-06-15T04:39:24.994231Z",
     "start_time": "2020-06-15T04:39:24.148Z"
    }
   },
   "outputs": [],
   "source": [
    "timeList = ['MEA_DDHR', 'X24H_TMA', 'X48H_TMA']\n",
    "plant = plant.drop(timeList, axis=1)\n"
   ]
  },
  {
   "cell_type": "code",
   "execution_count": null,
   "metadata": {
    "ExecuteTime": {
     "end_time": "2020-06-15T04:39:24.994231Z",
     "start_time": "2020-06-15T04:39:24.153Z"
    }
   },
   "outputs": [],
   "source": [
    "plant.head()"
   ]
  },
  {
   "cell_type": "code",
   "execution_count": null,
   "metadata": {
    "ExecuteTime": {
     "end_time": "2020-06-15T04:39:24.995229Z",
     "start_time": "2020-06-15T04:39:24.155Z"
    }
   },
   "outputs": [],
   "source": [
    "train_X = plant.drop(['X24H_COND_LOC', 'X48H_COND_LOC'], axis=1)\n",
    "train24_y = plant[['X24H_COND_LOC']]\n",
    "train48_y = plant[['X48H_COND_LOC']]"
   ]
  },
  {
   "cell_type": "markdown",
   "metadata": {},
   "source": [
    "### 24시간 후 결로 예상 분류"
   ]
  },
  {
   "cell_type": "code",
   "execution_count": null,
   "metadata": {
    "ExecuteTime": {
     "end_time": "2020-06-15T04:39:24.996226Z",
     "start_time": "2020-06-15T04:39:24.183Z"
    }
   },
   "outputs": [],
   "source": [
    "from sklearn.model_selection import train_test_split\n",
    "X_train24, X_val24, y_train24, y_val24 = train_test_split(train_X, train24_y, test_size=0.3, shuffle=True, random_state=42)"
   ]
  },
  {
   "cell_type": "markdown",
   "metadata": {},
   "source": [
    "### 48시간 후 결로 예상 분류"
   ]
  },
  {
   "cell_type": "code",
   "execution_count": null,
   "metadata": {
    "ExecuteTime": {
     "end_time": "2020-06-15T04:39:24.997223Z",
     "start_time": "2020-06-15T04:39:24.211Z"
    }
   },
   "outputs": [],
   "source": [
    "from sklearn.model_selection import train_test_split\n",
    "X_train48, X_val48, y_train48, y_val48 = train_test_split(train_X, train48_y, test_size=0.3, shuffle=True, random_state=42)"
   ]
  },
  {
   "cell_type": "markdown",
   "metadata": {},
   "source": [
    "## test_data 만들기"
   ]
  },
  {
   "cell_type": "code",
   "execution_count": null,
   "metadata": {
    "ExecuteTime": {
     "end_time": "2020-06-15T04:39:24.998221Z",
     "start_time": "2020-06-15T04:39:24.239Z"
    }
   },
   "outputs": [],
   "source": [
    "timeList = ['MEA_DDHR', 'X24H_TMA', 'X48H_TMA']\n",
    "test = test.drop(timeList, axis=1)\n",
    "test_X = test.drop(['X24H_COND_LOC', 'X48H_COND_LOC'], axis=1)\n",
    "test24_y = test[['X24H_COND_LOC']]\n",
    "test48_y = test[['X48H_COND_LOC']]"
   ]
  },
  {
   "cell_type": "markdown",
   "metadata": {},
   "source": [
    "## Valiation  함수 만들기"
   ]
  },
  {
   "cell_type": "code",
   "execution_count": null,
   "metadata": {
    "ExecuteTime": {
     "end_time": "2020-06-15T04:39:24.999218Z",
     "start_time": "2020-06-15T04:39:24.268Z"
    }
   },
   "outputs": [],
   "source": [
    "def makeValiation(model24,model48):\n",
    "    \"\"\" 검증 데이터를 만들기 위한 함수입니다. 24후 모델,48후 모델값을 넣어 주어야 합니다.\"\"\"\n",
    "    validation = test_data[[\"MEA_DDHR\",\"PLANT\", \"LOC\", \"X24H_TMA\", \"X48H_TMA\"]]\n",
    "    # 24시간 후 예측하기, 확률로 나누기\n",
    "    predict24 = model24.predict(test_X)\n",
    "    predict24_proba = model24.predict_proba(test_X)\n",
    "    # 48시간 후 예측하기, 확률로 나누기\n",
    "    predict48 = model48.predict(test_X)\n",
    "    predict48_proba  = model48.predict_proba(test_X)\n",
    "    # X24H_COND_LOC, X24H_COND_LOC_PROB, X48H_COND_LOC, X48H_COND_LOC_PROB\n",
    "    validation[\"X24H_COND_LOC\"] = predict24.astype(int)\n",
    "    validation[\"X24H_COND_LOC_PROB\"] = (predict24_proba[:,1]*100).astype(int)\n",
    "    validation[\"X48H_COND_LOC\"] = (predict48).astype(int)\n",
    "    validation[\"X48H_COND_LOC_PROB\"] = (predict48_proba[:,1]*100).astype(int)\n",
    "    # 검증 형식 맞춰주기\n",
    "    validation = validation[[\"MEA_DDHR\",\"PLANT\", \"LOC\", \"X24H_TMA\",\"X24H_COND_LOC\", \"X24H_COND_LOC_PROB\", \"X48H_TMA\", \"X48H_COND_LOC\", \"X48H_COND_LOC_PROB\"]]\n",
    "    return validation"
   ]
  },
  {
   "cell_type": "markdown",
   "metadata": {},
   "source": [
    "# Random Forest\n",
    "## 24 시간 결로 예측"
   ]
  },
  {
   "cell_type": "code",
   "execution_count": null,
   "metadata": {
    "ExecuteTime": {
     "end_time": "2020-06-15T04:39:25.000215Z",
     "start_time": "2020-06-15T04:39:24.310Z"
    }
   },
   "outputs": [],
   "source": [
    "from sklearn.ensemble import RandomForestClassifier\n",
    "rf_model24 = RandomForestClassifier(n_estimators=100, random_state=42)\n",
    "rf_model24.fit(X_train24, y_train24)"
   ]
  },
  {
   "cell_type": "code",
   "execution_count": null,
   "metadata": {
    "ExecuteTime": {
     "end_time": "2020-06-15T04:39:25.001212Z",
     "start_time": "2020-06-15T04:39:24.314Z"
    }
   },
   "outputs": [],
   "source": [
    "y_pred24 = rf_model24.predict(X_val24)\n",
    "from sklearn.metrics import classification_report\n",
    "print(classification_report(y_val24, y_pred24))"
   ]
  },
  {
   "cell_type": "code",
   "execution_count": null,
   "metadata": {
    "ExecuteTime": {
     "end_time": "2020-06-15T04:39:25.002210Z",
     "start_time": "2020-06-15T04:39:24.317Z"
    }
   },
   "outputs": [],
   "source": [
    "imp_rf24_df = pd.DataFrame(data=np.c_[train_X.columns.values, rf_model24.feature_importances_], columns=['variable', 'importance'])\n",
    "imp_rf24_df.sort_values(by='importance', ascending=False, inplace=True)"
   ]
  },
  {
   "cell_type": "code",
   "execution_count": null,
   "metadata": {
    "ExecuteTime": {
     "end_time": "2020-06-15T04:39:25.003207Z",
     "start_time": "2020-06-15T04:39:24.319Z"
    }
   },
   "outputs": [],
   "source": [
    "import matplotlib.pyplot as plt\n",
    "%matplotlib inline\n",
    "import matplotlib.font_manager as fm\n",
    "font_path = \"C:/Windows/Fonts/H2GTRE.TTF\"\n",
    "font_prop = fm.FontProperties(fname=font_path, size=15)\n",
    "\n",
    "plt.figure(figsize=(30,12))\n",
    "plt.bar(imp_rf24_df.variable, imp_rf24_df.importance)\n",
    "plt.xticks(rotation=90, fontproperties=font_prop)\n",
    "plt.show()"
   ]
  },
  {
   "cell_type": "markdown",
   "metadata": {},
   "source": [
    "## 48시간 결로 예측"
   ]
  },
  {
   "cell_type": "code",
   "execution_count": null,
   "metadata": {
    "ExecuteTime": {
     "end_time": "2020-06-15T04:39:25.004205Z",
     "start_time": "2020-06-15T04:39:24.360Z"
    }
   },
   "outputs": [],
   "source": [
    "from sklearn.ensemble import RandomForestClassifier\n",
    "rf_model48 = RandomForestClassifier(n_estimators=100, random_state=42)\n",
    "rf_model48.fit(X_train48, y_train48)"
   ]
  },
  {
   "cell_type": "code",
   "execution_count": null,
   "metadata": {
    "ExecuteTime": {
     "end_time": "2020-06-15T04:39:25.006200Z",
     "start_time": "2020-06-15T04:39:24.363Z"
    }
   },
   "outputs": [],
   "source": [
    "y_pred48 = rf_model48.predict(X_val48)\n",
    "from sklearn.metrics import classification_report\n",
    "print(classification_report(y_val48, y_pred48))"
   ]
  },
  {
   "cell_type": "code",
   "execution_count": null,
   "metadata": {
    "ExecuteTime": {
     "end_time": "2020-06-15T04:39:25.007197Z",
     "start_time": "2020-06-15T04:39:24.366Z"
    }
   },
   "outputs": [],
   "source": [
    "imp_rf48_df = pd.DataFrame(data=np.c_[train_X.columns.values, rf_model48.feature_importances_], columns=['variable', 'importance'])\n",
    "imp_rf48_df.sort_values(by='importance', ascending=False, inplace=True)\n",
    "import matplotlib.pyplot as plt\n",
    "%matplotlib inline\n",
    "import matplotlib.font_manager as fm\n",
    "font_path = \"C:/Windows/Fonts/H2GTRE.TTF\"\n",
    "font_prop = fm.FontProperties(fname=font_path, size=15)\n",
    "\n",
    "plt.figure(figsize=(30,12))\n",
    "plt.bar(imp_rf48_df.variable, imp_rf48_df.importance)\n",
    "plt.xticks(rotation=90, fontproperties=font_prop)\n",
    "plt.show()"
   ]
  },
  {
   "cell_type": "markdown",
   "metadata": {},
   "source": [
    "## 검증값 만들기"
   ]
  },
  {
   "cell_type": "code",
   "execution_count": null,
   "metadata": {
    "ExecuteTime": {
     "end_time": "2020-06-15T04:39:25.008194Z",
     "start_time": "2020-06-15T04:39:24.418Z"
    }
   },
   "outputs": [],
   "source": [
    "validation = makeValiation(rf_model24, rf_model48)\n",
    "validation"
   ]
  },
  {
   "cell_type": "code",
   "execution_count": null,
   "metadata": {
    "ExecuteTime": {
     "end_time": "2020-06-15T04:39:25.009192Z",
     "start_time": "2020-06-15T04:39:24.421Z"
    }
   },
   "outputs": [],
   "source": [
    "def findCondRow24(validation):\n",
    "    data = validation.loc[validation[\"X24H_COND_LOC\"] == 1]\n",
    "    return data\n",
    "def findCondRow48(validation):\n",
    "    data = validation.loc[validation[\"X48H_COND_LOC\"] == 1]\n",
    "    return data    "
   ]
  },
  {
   "cell_type": "code",
   "execution_count": null,
   "metadata": {
    "ExecuteTime": {
     "end_time": "2020-06-15T04:39:25.010188Z",
     "start_time": "2020-06-15T04:39:24.423Z"
    }
   },
   "outputs": [],
   "source": [
    "findCondRow24(validation)"
   ]
  },
  {
   "cell_type": "code",
   "execution_count": null,
   "metadata": {
    "ExecuteTime": {
     "end_time": "2020-06-15T04:39:25.011186Z",
     "start_time": "2020-06-15T04:39:24.426Z"
    }
   },
   "outputs": [],
   "source": [
    "findCondRow48(validation)"
   ]
  },
  {
   "cell_type": "markdown",
   "metadata": {},
   "source": [
    "# LightGBM\n",
    "## 24시간 결로 예측"
   ]
  },
  {
   "cell_type": "code",
   "execution_count": null,
   "metadata": {
    "ExecuteTime": {
     "end_time": "2020-06-15T04:39:25.012183Z",
     "start_time": "2020-06-15T04:39:24.481Z"
    }
   },
   "outputs": [],
   "source": [
    "from lightgbm import LGBMClassifier\n",
    "lgbm_model24 = LGBMClassifier(n_estimators=100, random_state=42)\n",
    "lgbm_model24.fit(X_train24, y_train24)"
   ]
  },
  {
   "cell_type": "code",
   "execution_count": null,
   "metadata": {
    "ExecuteTime": {
     "end_time": "2020-06-15T04:39:25.013181Z",
     "start_time": "2020-06-15T04:39:24.484Z"
    }
   },
   "outputs": [],
   "source": [
    "y_pred24 = lgbm_model24.predict(X_val24)\n",
    "from sklearn.metrics import classification_report\n",
    "print(classification_report(y_val24, y_pred24))"
   ]
  },
  {
   "cell_type": "markdown",
   "metadata": {},
   "source": [
    "## 48시간 결로 예측"
   ]
  },
  {
   "cell_type": "code",
   "execution_count": null,
   "metadata": {
    "ExecuteTime": {
     "end_time": "2020-06-15T04:39:25.014178Z",
     "start_time": "2020-06-15T04:39:24.543Z"
    }
   },
   "outputs": [],
   "source": [
    "from lightgbm import LGBMClassifier\n",
    "lgbm_model48 = LGBMClassifier(n_estimators=100, random_state=42)\n",
    "lgbm_model48.fit(X_train48, y_train48)"
   ]
  },
  {
   "cell_type": "code",
   "execution_count": null,
   "metadata": {
    "ExecuteTime": {
     "end_time": "2020-06-15T04:39:25.015175Z",
     "start_time": "2020-06-15T04:39:24.545Z"
    }
   },
   "outputs": [],
   "source": [
    "y_pred48 = lgbm_model48.predict(X_val48)\n",
    "from sklearn.metrics import classification_report\n",
    "print(classification_report(y_val48, y_pred48))"
   ]
  },
  {
   "cell_type": "markdown",
   "metadata": {},
   "source": [
    "## 검증값 만들기"
   ]
  },
  {
   "cell_type": "code",
   "execution_count": null,
   "metadata": {
    "ExecuteTime": {
     "end_time": "2020-06-15T04:39:25.017169Z",
     "start_time": "2020-06-15T04:39:24.578Z"
    },
    "scrolled": false
   },
   "outputs": [],
   "source": [
    "lgValiation =makeValiation(lgbm_model24,lgbm_model48)\n",
    "lgValiation"
   ]
  },
  {
   "cell_type": "code",
   "execution_count": null,
   "metadata": {
    "ExecuteTime": {
     "end_time": "2020-06-15T04:39:25.018166Z",
     "start_time": "2020-06-15T04:39:24.582Z"
    },
    "scrolled": false
   },
   "outputs": [],
   "source": [
    "findCondRow24(lgValiation)"
   ]
  },
  {
   "cell_type": "code",
   "execution_count": null,
   "metadata": {
    "ExecuteTime": {
     "end_time": "2020-06-15T04:39:25.019165Z",
     "start_time": "2020-06-15T04:39:24.584Z"
    }
   },
   "outputs": [],
   "source": [
    "findCondRow48(lgValiation)"
   ]
  },
  {
   "cell_type": "code",
   "execution_count": null,
   "metadata": {
    "ExecuteTime": {
     "end_time": "2020-06-15T04:39:25.020162Z",
     "start_time": "2020-06-15T04:39:24.586Z"
    }
   },
   "outputs": [],
   "source": [
    "lgValiation.to_csv('data/41.validation/lgbm/203545.csv',index=False)"
   ]
  },
  {
   "cell_type": "markdown",
   "metadata": {},
   "source": [
    "# XGBOOST\n",
    "## 24시간 결로 예측"
   ]
  },
  {
   "cell_type": "code",
   "execution_count": null,
   "metadata": {
    "ExecuteTime": {
     "end_time": "2020-06-15T04:39:25.021160Z",
     "start_time": "2020-06-15T04:39:24.623Z"
    }
   },
   "outputs": [],
   "source": [
    "from xgboost import XGBClassifier\n",
    "xgb_model24 = XGBClassifier(max_depth=10, learning_rate=0.01, n_estimators=100, random_state=42)\n",
    "xgb_model24.fit(X_train24, y_train24)"
   ]
  },
  {
   "cell_type": "code",
   "execution_count": null,
   "metadata": {
    "ExecuteTime": {
     "end_time": "2020-06-15T04:39:25.021160Z",
     "start_time": "2020-06-15T04:39:24.625Z"
    }
   },
   "outputs": [],
   "source": [
    "y_pred24 = xgb_model24.predict(X_val24)\n",
    "from sklearn.metrics import classification_report\n",
    "print(classification_report(y_val24, y_pred24))"
   ]
  },
  {
   "cell_type": "markdown",
   "metadata": {},
   "source": [
    "## 48시간 결로 예측"
   ]
  },
  {
   "cell_type": "code",
   "execution_count": null,
   "metadata": {
    "ExecuteTime": {
     "end_time": "2020-06-15T04:39:25.022157Z",
     "start_time": "2020-06-15T04:39:24.662Z"
    }
   },
   "outputs": [],
   "source": [
    "from xgboost import XGBClassifier\n",
    "xgb_model48 = XGBClassifier(max_depth=10, learning_rate=0.01, n_estimators=100, random_state=42)\n",
    "xgb_model48.fit(X_train48, y_train48)"
   ]
  },
  {
   "cell_type": "code",
   "execution_count": null,
   "metadata": {
    "ExecuteTime": {
     "end_time": "2020-06-15T04:39:25.023153Z",
     "start_time": "2020-06-15T04:39:24.665Z"
    }
   },
   "outputs": [],
   "source": [
    "y_pred48 = xgb_model48.predict(X_val48)\n",
    "from sklearn.metrics import classification_report\n",
    "print(classification_report(y_val48, y_pred48))"
   ]
  },
  {
   "cell_type": "markdown",
   "metadata": {},
   "source": [
    "## 검증 값 만들기"
   ]
  },
  {
   "cell_type": "code",
   "execution_count": null,
   "metadata": {
    "ExecuteTime": {
     "end_time": "2020-06-15T04:39:25.025149Z",
     "start_time": "2020-06-15T04:39:24.701Z"
    }
   },
   "outputs": [],
   "source": [
    "xgValiation=makeValiation(xgb_model24,xgb_model48)\n",
    "xgValiation"
   ]
  },
  {
   "cell_type": "code",
   "execution_count": null,
   "metadata": {
    "ExecuteTime": {
     "end_time": "2020-06-15T04:39:25.026146Z",
     "start_time": "2020-06-15T04:39:24.704Z"
    }
   },
   "outputs": [],
   "source": [
    "findCondRow24(xgValiation)"
   ]
  },
  {
   "cell_type": "code",
   "execution_count": null,
   "metadata": {
    "ExecuteTime": {
     "end_time": "2020-06-15T04:39:25.027144Z",
     "start_time": "2020-06-15T04:39:24.706Z"
    }
   },
   "outputs": [],
   "source": [
    "findCondRow48(xgValiation)"
   ]
  },
  {
   "cell_type": "code",
   "execution_count": null,
   "metadata": {
    "ExecuteTime": {
     "end_time": "2020-06-15T04:39:25.028140Z",
     "start_time": "2020-06-15T04:39:24.708Z"
    }
   },
   "outputs": [],
   "source": [
    "xgValiation.to_csv('data/41.validation/xgboost/203545.csv',index=False)"
   ]
  },
  {
   "cell_type": "markdown",
   "metadata": {},
   "source": [
    "# KNN\n",
    "## 24시간 결로 예측"
   ]
  },
  {
   "cell_type": "code",
   "execution_count": null,
   "metadata": {
    "ExecuteTime": {
     "end_time": "2020-06-15T04:39:25.029138Z",
     "start_time": "2020-06-15T04:39:24.759Z"
    }
   },
   "outputs": [],
   "source": [
    "from sklearn.neighbors import KNeighborsClassifier\n",
    "neigh24 = KNeighborsClassifier(n_neighbors=3)\n",
    "neigh24.fit(X_train24, y_train24)"
   ]
  },
  {
   "cell_type": "code",
   "execution_count": null,
   "metadata": {
    "ExecuteTime": {
     "end_time": "2020-06-15T04:39:25.030135Z",
     "start_time": "2020-06-15T04:39:24.762Z"
    }
   },
   "outputs": [],
   "source": [
    "y_pred24 = neigh24.predict(X_val24)\n",
    "from sklearn.metrics import classification_report\n",
    "print(classification_report(y_val24, y_pred24))"
   ]
  },
  {
   "cell_type": "markdown",
   "metadata": {},
   "source": [
    "## 48시간 결로 예측"
   ]
  },
  {
   "cell_type": "code",
   "execution_count": null,
   "metadata": {
    "ExecuteTime": {
     "end_time": "2020-06-15T04:39:25.031133Z",
     "start_time": "2020-06-15T04:39:24.815Z"
    }
   },
   "outputs": [],
   "source": [
    "from sklearn.neighbors import KNeighborsClassifier\n",
    "neigh48 = KNeighborsClassifier(n_neighbors=3)\n",
    "neigh48.fit(X_train48, y_train48)"
   ]
  },
  {
   "cell_type": "code",
   "execution_count": null,
   "metadata": {
    "ExecuteTime": {
     "end_time": "2020-06-15T04:39:25.032130Z",
     "start_time": "2020-06-15T04:39:24.818Z"
    }
   },
   "outputs": [],
   "source": [
    "y_pred48 = neigh48.predict(X_val48)\n",
    "from sklearn.metrics import classification_report\n",
    "print(classification_report(y_val48, y_pred48))"
   ]
  },
  {
   "cell_type": "markdown",
   "metadata": {},
   "source": [
    "## 검증값 만들기"
   ]
  },
  {
   "cell_type": "code",
   "execution_count": null,
   "metadata": {
    "ExecuteTime": {
     "end_time": "2020-06-15T04:39:25.033127Z",
     "start_time": "2020-06-15T04:39:24.870Z"
    }
   },
   "outputs": [],
   "source": [
    "knnValiation=makeValiation(neigh24,neigh48)\n",
    "knnValiation"
   ]
  },
  {
   "cell_type": "code",
   "execution_count": null,
   "metadata": {
    "ExecuteTime": {
     "end_time": "2020-06-15T04:39:25.034124Z",
     "start_time": "2020-06-15T04:39:24.874Z"
    }
   },
   "outputs": [],
   "source": [
    "findCondRow24(knnValiation)"
   ]
  },
  {
   "cell_type": "code",
   "execution_count": null,
   "metadata": {
    "ExecuteTime": {
     "end_time": "2020-06-15T04:39:25.035121Z",
     "start_time": "2020-06-15T04:39:24.878Z"
    }
   },
   "outputs": [],
   "source": [
    "findCondRow48(knnValiation)"
   ]
  },
  {
   "cell_type": "code",
   "execution_count": null,
   "metadata": {
    "ExecuteTime": {
     "end_time": "2020-06-15T04:39:25.035121Z",
     "start_time": "2020-06-15T04:39:24.880Z"
    }
   },
   "outputs": [],
   "source": [
    "xgValiation.to_csv('data/41.validation/knn/203545.csv',index=False)"
   ]
  },
  {
   "cell_type": "code",
   "execution_count": null,
   "metadata": {},
   "outputs": [],
   "source": []
  }
 ],
 "metadata": {
  "hide_input": false,
  "kernelspec": {
   "display_name": "Python 3",
   "language": "python",
   "name": "python3"
  },
  "language_info": {
   "codemirror_mode": {
    "name": "ipython",
    "version": 3
   },
   "file_extension": ".py",
   "mimetype": "text/x-python",
   "name": "python",
   "nbconvert_exporter": "python",
   "pygments_lexer": "ipython3",
   "version": "3.7.4"
  },
  "toc": {
   "base_numbering": 1,
   "nav_menu": {},
   "number_sections": true,
   "sideBar": true,
   "skip_h1_title": false,
   "title_cell": "Table of Contents",
   "title_sidebar": "Contents",
   "toc_cell": false,
   "toc_position": {
    "height": "calc(100% - 180px)",
    "left": "10px",
    "top": "150px",
    "width": "303.438px"
   },
   "toc_section_display": true,
   "toc_window_display": true
  }
 },
 "nbformat": 4,
 "nbformat_minor": 2
}
