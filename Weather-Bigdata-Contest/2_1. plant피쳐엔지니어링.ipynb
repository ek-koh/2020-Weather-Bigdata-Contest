{
 "cells": [
  {
   "cell_type": "markdown",
   "metadata": {},
   "source": [
    "# 함수"
   ]
  },
  {
   "cell_type": "markdown",
   "metadata": {},
   "source": [
    "## get_outlier: 이상치 인덱스 반환"
   ]
  },
  {
   "cell_type": "code",
   "execution_count": 1,
   "metadata": {},
   "outputs": [],
   "source": [
    "import numpy as np\n",
    "\n",
    "def get_outlier(df, label, feature):\n",
    "    # 결로발생인 feature 데이터만 추출, 1/4 분위와 3/4 분위 지점을 np.percentile로 구함\n",
    "    cond = df[df[label]==1][feature]\n",
    "    q_25 = np.percentile(cond.values, 25)\n",
    "    q_75 = np.percentile(cond.values, 75)\n",
    "    \n",
    "    # IQR, 최대값과 최소값 지점 구함\n",
    "    iqr = q_75 - q_25\n",
    "    lowest = q_25 - 1.5*iqr\n",
    "    highest = q_75 + 1.5*iqr\n",
    "    \n",
    "    # 아웃라이어에 대한 DataFrame index 반환\n",
    "    outlier_index = cond[(cond < lowest) | (cond > highest)].index\n",
    "    \n",
    "    return outlier_index"
   ]
  },
  {
   "cell_type": "markdown",
   "metadata": {},
   "source": [
    "## get_preprocessed_df: 이상치 제거한 새 데이터프레임 반환"
   ]
  },
  {
   "cell_type": "code",
   "execution_count": 2,
   "metadata": {},
   "outputs": [],
   "source": [
    "def get_preprocessed_df(df, label, feature):\n",
    "    df_copy = df.copy()\n",
    "\n",
    "    outlier_index = get_outlier(df_copy, label, feature)\n",
    "\n",
    "    df_copy.drop(outlier_index, axis=0, inplace=True)\n",
    "    \n",
    "    return df_copy"
   ]
  },
  {
   "cell_type": "markdown",
   "metadata": {},
   "source": [
    "# 데이터 로드"
   ]
  },
  {
   "cell_type": "code",
   "execution_count": 3,
   "metadata": {},
   "outputs": [],
   "source": [
    "import pandas as pd\n",
    "import matplotlib.pyplot as plt\n",
    "import seaborn as sns\n",
    "import numpy as np"
   ]
  },
  {
   "cell_type": "code",
   "execution_count": 5,
   "metadata": {},
   "outputs": [
    {
     "name": "stdout",
     "output_type": "stream",
     "text": [
      "<class 'pandas.core.frame.DataFrame'>\n",
      "RangeIndex: 349317 entries, 0 to 349316\n",
      "Data columns (total 40 columns):\n",
      " #   Column         Non-Null Count   Dtype  \n",
      "---  ------         --------------   -----  \n",
      " 0   MEA_DDHR       349317 non-null  object \n",
      " 1   PLANT          349317 non-null  int64  \n",
      " 2   LOC            349317 non-null  int64  \n",
      " 3   TEM_IN         349317 non-null  float64\n",
      " 4   HUM_IN         349317 non-null  float64\n",
      " 5   TEM_COIL       349317 non-null  float64\n",
      " 6   TEM_OUT_LOC1   349317 non-null  float64\n",
      " 7   HUM_OUT_LOC1   349317 non-null  float64\n",
      " 8   X24H_TMA       349317 non-null  object \n",
      " 9   X24H_COND_LOC  349317 non-null  float64\n",
      " 10  X48H_TMA       349317 non-null  object \n",
      " 11  X48H_COND_LOC  349317 non-null  float64\n",
      " 12  DEW_POINT_IN   349317 non-null  float64\n",
      " 13  MONTH          349317 non-null  int64  \n",
      " 14  WEEK           349317 non-null  int64  \n",
      " 15  HOUR           349317 non-null  int64  \n",
      " 16  AVG_PA         349317 non-null  float64\n",
      " 17  AVG_PS         349317 non-null  float64\n",
      " 18  HR1_RN         349317 non-null  float64\n",
      " 19  AVG_TA         349317 non-null  float64\n",
      " 20  AVG_WS         349317 non-null  float64\n",
      " 21  MAX_WS         349317 non-null  float64\n",
      " 22  MAX_WS_WD      349317 non-null  float64\n",
      " 23  MAX_INS_WS     349317 non-null  float64\n",
      " 24  MAX_INS_WS_WD  349317 non-null  float64\n",
      " 25  WD_N1          349317 non-null  float64\n",
      " 26  WS_N1          349317 non-null  float64\n",
      " 27  GUST_WS_N1     349317 non-null  float64\n",
      " 28  PA             349317 non-null  float64\n",
      " 29  BUOY_HM        349317 non-null  float64\n",
      " 30  BUOY_TA        349317 non-null  float64\n",
      " 31  MAX_WH         349317 non-null  float64\n",
      " 32  AVG_WH         349317 non-null  float64\n",
      " 33  LB_WD          349317 non-null  float64\n",
      " 34  LB_WS          349317 non-null  float64\n",
      " 35  LB_MAX_INS_WD  349317 non-null  float64\n",
      " 36  LB_MAX_IWS     349317 non-null  float64\n",
      " 37  LB_TA          349317 non-null  float64\n",
      " 38  LB_PS          349317 non-null  float64\n",
      " 39  LB_HM          349317 non-null  float64\n",
      "dtypes: float64(32), int64(5), object(3)\n",
      "memory usage: 106.6+ MB\n"
     ]
    }
   ],
   "source": [
    "plant = pd.read_csv('data/31.finaldata_plant/plant_weather_sea.csv')\n",
    "plant.info()"
   ]
  },
  {
   "cell_type": "markdown",
   "metadata": {},
   "source": [
    "# 이상치 제거"
   ]
  },
  {
   "cell_type": "markdown",
   "metadata": {},
   "source": [
    "## 레이블과 상관관계 높은 변수 찾기"
   ]
  },
  {
   "cell_type": "code",
   "execution_count": 22,
   "metadata": {
    "scrolled": true
   },
   "outputs": [
    {
     "data": {
      "text/html": [
       "<div>\n",
       "<style scoped>\n",
       "    .dataframe tbody tr th:only-of-type {\n",
       "        vertical-align: middle;\n",
       "    }\n",
       "\n",
       "    .dataframe tbody tr th {\n",
       "        vertical-align: top;\n",
       "    }\n",
       "\n",
       "    .dataframe thead th {\n",
       "        text-align: right;\n",
       "    }\n",
       "</style>\n",
       "<table border=\"1\" class=\"dataframe\">\n",
       "  <thead>\n",
       "    <tr style=\"text-align: right;\">\n",
       "      <th></th>\n",
       "      <th>X24H_COND_LOC</th>\n",
       "      <th>X48H_COND_LOC</th>\n",
       "    </tr>\n",
       "  </thead>\n",
       "  <tbody>\n",
       "    <tr>\n",
       "      <th>LB_WD</th>\n",
       "      <td>-0.062606</td>\n",
       "      <td>-0.022037</td>\n",
       "    </tr>\n",
       "    <tr>\n",
       "      <th>TEM_COIL</th>\n",
       "      <td>-0.056952</td>\n",
       "      <td>-0.061465</td>\n",
       "    </tr>\n",
       "    <tr>\n",
       "      <th>MAX_WS_WD</th>\n",
       "      <td>-0.055715</td>\n",
       "      <td>-0.019422</td>\n",
       "    </tr>\n",
       "    <tr>\n",
       "      <th>LB_MAX_INS_WD</th>\n",
       "      <td>-0.052507</td>\n",
       "      <td>-0.007316</td>\n",
       "    </tr>\n",
       "    <tr>\n",
       "      <th>MAX_INS_WS_WD</th>\n",
       "      <td>-0.050607</td>\n",
       "      <td>-0.021480</td>\n",
       "    </tr>\n",
       "  </tbody>\n",
       "</table>\n",
       "</div>"
      ],
      "text/plain": [
       "               X24H_COND_LOC  X48H_COND_LOC\n",
       "LB_WD              -0.062606      -0.022037\n",
       "TEM_COIL           -0.056952      -0.061465\n",
       "MAX_WS_WD          -0.055715      -0.019422\n",
       "LB_MAX_INS_WD      -0.052507      -0.007316\n",
       "MAX_INS_WS_WD      -0.050607      -0.021480"
      ]
     },
     "execution_count": 22,
     "metadata": {},
     "output_type": "execute_result"
    },
    {
     "data": {
      "text/plain": [
       "<Figure size 1440x1080 with 0 Axes>"
      ]
     },
     "metadata": {},
     "output_type": "display_data"
    }
   ],
   "source": [
    "plt.figure(figsize=(20,15))\n",
    "\n",
    "corr = plant.corr()\n",
    "corr_select = corr.iloc[:,7:9]\n",
    "# sns.heatmap(corr_select, cmap=\"RdBu\", annot=True)\n",
    "corr_select.sort_values(by='X24H_COND_LOC')[:5]"
   ]
  },
  {
   "cell_type": "code",
   "execution_count": 23,
   "metadata": {},
   "outputs": [
    {
     "data": {
      "text/html": [
       "<div>\n",
       "<style scoped>\n",
       "    .dataframe tbody tr th:only-of-type {\n",
       "        vertical-align: middle;\n",
       "    }\n",
       "\n",
       "    .dataframe tbody tr th {\n",
       "        vertical-align: top;\n",
       "    }\n",
       "\n",
       "    .dataframe thead th {\n",
       "        text-align: right;\n",
       "    }\n",
       "</style>\n",
       "<table border=\"1\" class=\"dataframe\">\n",
       "  <thead>\n",
       "    <tr style=\"text-align: right;\">\n",
       "      <th></th>\n",
       "      <th>X24H_COND_LOC</th>\n",
       "      <th>X48H_COND_LOC</th>\n",
       "    </tr>\n",
       "  </thead>\n",
       "  <tbody>\n",
       "    <tr>\n",
       "      <th>TEM_COIL</th>\n",
       "      <td>-0.056952</td>\n",
       "      <td>-0.061465</td>\n",
       "    </tr>\n",
       "    <tr>\n",
       "      <th>TEM_IN</th>\n",
       "      <td>-0.041580</td>\n",
       "      <td>-0.054785</td>\n",
       "    </tr>\n",
       "    <tr>\n",
       "      <th>TEM_OUT_LOC1</th>\n",
       "      <td>-0.023079</td>\n",
       "      <td>-0.046738</td>\n",
       "    </tr>\n",
       "    <tr>\n",
       "      <th>BUOY_TA</th>\n",
       "      <td>-0.023058</td>\n",
       "      <td>-0.045690</td>\n",
       "    </tr>\n",
       "    <tr>\n",
       "      <th>LB_TA</th>\n",
       "      <td>-0.023043</td>\n",
       "      <td>-0.045243</td>\n",
       "    </tr>\n",
       "  </tbody>\n",
       "</table>\n",
       "</div>"
      ],
      "text/plain": [
       "              X24H_COND_LOC  X48H_COND_LOC\n",
       "TEM_COIL          -0.056952      -0.061465\n",
       "TEM_IN            -0.041580      -0.054785\n",
       "TEM_OUT_LOC1      -0.023079      -0.046738\n",
       "BUOY_TA           -0.023058      -0.045690\n",
       "LB_TA             -0.023043      -0.045243"
      ]
     },
     "execution_count": 23,
     "metadata": {},
     "output_type": "execute_result"
    }
   ],
   "source": [
    "corr_select.sort_values(by='X48H_COND_LOC')[:5]"
   ]
  },
  {
   "cell_type": "markdown",
   "metadata": {},
   "source": [
    "## X24_COND_LOC\n",
    "### TEM_COIL 이상치 제거"
   ]
  },
  {
   "cell_type": "code",
   "execution_count": 24,
   "metadata": {},
   "outputs": [
    {
     "name": "stdout",
     "output_type": "stream",
     "text": [
      "이상치 데이터 인덱스: Int64Index([  1052,   1594,   1712,   1800,   1803,   1806,   2273,   6196,\n",
      "              6197,   6202,\n",
      "            ...\n",
      "             90025, 114437, 114443, 114449, 114461, 114485, 163583, 163601,\n",
      "            163607, 163613],\n",
      "           dtype='int64', length=196)\n"
     ]
    }
   ],
   "source": [
    "outlier_index = get_outlier(plant, 'X24H_COND_LOC', 'TEM_COIL')\n",
    "print('이상치 데이터 인덱스:', outlier_index)"
   ]
  },
  {
   "cell_type": "code",
   "execution_count": 25,
   "metadata": {},
   "outputs": [
    {
     "data": {
      "text/plain": [
       "<matplotlib.axes._subplots.AxesSubplot at 0x229d040dd88>"
      ]
     },
     "execution_count": 25,
     "metadata": {},
     "output_type": "execute_result"
    },
    {
     "data": {
      "image/png": "[encoded data removed]",
      "text/plain": [
       "<Figure size 432x288 with 1 Axes>"
      ]
     },
     "metadata": {
      "needs_background": "light"
     },
     "output_type": "display_data"
    }
   ],
   "source": [
    "cond1_tem_coil = plant.loc[plant['X24H_COND_LOC']==1, 'TEM_COIL']\n",
    "sns.boxplot(cond1_tem_coil)"
   ]
  },
  {
   "cell_type": "code",
   "execution_count": 26,
   "metadata": {},
   "outputs": [
    {
     "name": "stdout",
     "output_type": "stream",
     "text": [
      "(349317, 40)\n"
     ]
    },
    {
     "data": {
      "text/plain": [
       "(349121, 40)"
      ]
     },
     "execution_count": 26,
     "metadata": {},
     "output_type": "execute_result"
    }
   ],
   "source": [
    "print(plant.shape)\n",
    "new_plant = get_preprocessed_df(plant, 'X24H_COND_LOC', 'TEM_COIL')\n",
    "new_plant.shape"
   ]
  },
  {
   "cell_type": "markdown",
   "metadata": {},
   "source": [
    "## X48_COND_LOC\n",
    "### TEM_COIL 이상치 제거"
   ]
  },
  {
   "cell_type": "code",
   "execution_count": 27,
   "metadata": {},
   "outputs": [
    {
     "name": "stdout",
     "output_type": "stream",
     "text": [
      "Int64Index([  1028,   1570,   1688,   1776,   1779,   1782,   2249,   6148,\n",
      "              6149,   6154,\n",
      "            ...\n",
      "             89737, 113573, 113579, 113585, 113597, 113621, 162719, 162737,\n",
      "            162743, 162749],\n",
      "           dtype='int64', length=179)\n"
     ]
    }
   ],
   "source": [
    "outlier_index_48 = get_outlier(plant, 'X48H_COND_LOC', 'TEM_COIL')\n",
    "print(outlier_index_48)"
   ]
  },
  {
   "cell_type": "code",
   "execution_count": 28,
   "metadata": {},
   "outputs": [
    {
     "data": {
      "text/plain": [
       "[1052,\n",
       " 1594,\n",
       " 1712,\n",
       " 1800,\n",
       " 1803,\n",
       " 1806,\n",
       " 2273,\n",
       " 6196,\n",
       " 6197,\n",
       " 6202,\n",
       " 89622,\n",
       " 89637,\n",
       " 89638,\n",
       " 89643,\n",
       " 89644,\n",
       " 89647,\n",
       " 89650,\n",
       " 89652,\n",
       " 89655,\n",
       " 89656,\n",
       " 89658,\n",
       " 89659,\n",
       " 89661,\n",
       " 89662,\n",
       " 89664,\n",
       " 89665,\n",
       " 89667,\n",
       " 89668,\n",
       " 89670,\n",
       " 89671,\n",
       " 89673,\n",
       " 89674,\n",
       " 89676,\n",
       " 89677,\n",
       " 89679,\n",
       " 89680,\n",
       " 89682,\n",
       " 89683,\n",
       " 89685,\n",
       " 89686,\n",
       " 89688,\n",
       " 89689,\n",
       " 89691,\n",
       " 89692,\n",
       " 89694,\n",
       " 89695,\n",
       " 89697,\n",
       " 89698,\n",
       " 89700,\n",
       " 89701,\n",
       " 89703,\n",
       " 89704,\n",
       " 89706,\n",
       " 89707,\n",
       " 89709,\n",
       " 89710,\n",
       " 89712,\n",
       " 89713,\n",
       " 89715,\n",
       " 89716,\n",
       " 89719,\n",
       " 89721,\n",
       " 89722,\n",
       " 89724,\n",
       " 89725,\n",
       " 89727,\n",
       " 89728,\n",
       " 89730,\n",
       " 89731,\n",
       " 89733,\n",
       " 89734,\n",
       " 89736,\n",
       " 89737,\n",
       " 89739,\n",
       " 89740,\n",
       " 89742,\n",
       " 89743,\n",
       " 89746,\n",
       " 89748,\n",
       " 89749,\n",
       " 89752,\n",
       " 89755,\n",
       " 89757,\n",
       " 89758,\n",
       " 89759,\n",
       " 89760,\n",
       " 89761,\n",
       " 89763,\n",
       " 89764,\n",
       " 89765,\n",
       " 89767,\n",
       " 89769,\n",
       " 89770,\n",
       " 89771,\n",
       " 89772,\n",
       " 89773,\n",
       " 89775,\n",
       " 89776,\n",
       " 89777,\n",
       " 89778,\n",
       " 89779,\n",
       " 89781,\n",
       " 89782,\n",
       " 89783,\n",
       " 89784,\n",
       " 89785,\n",
       " 89787,\n",
       " 89788,\n",
       " 89789,\n",
       " 89790,\n",
       " 89791,\n",
       " 89793,\n",
       " 89794,\n",
       " 89795,\n",
       " 89796,\n",
       " 89797,\n",
       " 89799,\n",
       " 89800,\n",
       " 89801,\n",
       " 89803,\n",
       " 89806,\n",
       " 89807,\n",
       " 89809,\n",
       " 89812,\n",
       " 89813,\n",
       " 89815,\n",
       " 89817,\n",
       " 89818,\n",
       " 89819,\n",
       " 89821,\n",
       " 89823,\n",
       " 89824,\n",
       " 89825,\n",
       " 89827,\n",
       " 89829,\n",
       " 89830,\n",
       " 89831,\n",
       " 89833,\n",
       " 89836,\n",
       " 89837,\n",
       " 89839,\n",
       " 89842,\n",
       " 89843,\n",
       " 89921,\n",
       " 89923,\n",
       " 89927,\n",
       " 89929,\n",
       " 89932,\n",
       " 89933,\n",
       " 89935,\n",
       " 89939,\n",
       " 89941,\n",
       " 89945,\n",
       " 89947,\n",
       " 89951,\n",
       " 89953,\n",
       " 89956,\n",
       " 89957,\n",
       " 89959,\n",
       " 89963,\n",
       " 89965,\n",
       " 89969,\n",
       " 89971,\n",
       " 89975,\n",
       " 89977,\n",
       " 89981,\n",
       " 89983,\n",
       " 89986,\n",
       " 89987,\n",
       " 89989,\n",
       " 89992,\n",
       " 89993,\n",
       " 89995,\n",
       " 89998,\n",
       " 89999,\n",
       " 90001,\n",
       " 90004,\n",
       " 90005,\n",
       " 90007,\n",
       " 90010,\n",
       " 90011,\n",
       " 90013,\n",
       " 90017,\n",
       " 90019,\n",
       " 90022,\n",
       " 90023,\n",
       " 90025,\n",
       " 114437,\n",
       " 114443,\n",
       " 114449,\n",
       " 114461,\n",
       " 114485,\n",
       " 163583,\n",
       " 163601,\n",
       " 163607,\n",
       " 163613,\n",
       " 1028,\n",
       " 1570,\n",
       " 1688,\n",
       " 1776,\n",
       " 1779,\n",
       " 1782,\n",
       " 2249,\n",
       " 6148,\n",
       " 6149,\n",
       " 6154,\n",
       " 89341,\n",
       " 89353,\n",
       " 89356,\n",
       " 89359,\n",
       " 89362,\n",
       " 89364,\n",
       " 89365,\n",
       " 89368,\n",
       " 89370,\n",
       " 89371,\n",
       " 89373,\n",
       " 89374,\n",
       " 89376,\n",
       " 89377,\n",
       " 89379,\n",
       " 89380,\n",
       " 89382,\n",
       " 89383,\n",
       " 89385,\n",
       " 89386,\n",
       " 89388,\n",
       " 89389,\n",
       " 89391,\n",
       " 89392,\n",
       " 89394,\n",
       " 89395,\n",
       " 89397,\n",
       " 89398,\n",
       " 89400,\n",
       " 89401,\n",
       " 89403,\n",
       " 89404,\n",
       " 89406,\n",
       " 89407,\n",
       " 89409,\n",
       " 89410,\n",
       " 89412,\n",
       " 89413,\n",
       " 89415,\n",
       " 89416,\n",
       " 89418,\n",
       " 89419,\n",
       " 89421,\n",
       " 89422,\n",
       " 89424,\n",
       " 89425,\n",
       " 89427,\n",
       " 89428,\n",
       " 89431,\n",
       " 89433,\n",
       " 89434,\n",
       " 89436,\n",
       " 89437,\n",
       " 89439,\n",
       " 89440,\n",
       " 89442,\n",
       " 89443,\n",
       " 89445,\n",
       " 89446,\n",
       " 89448,\n",
       " 89449,\n",
       " 89451,\n",
       " 89452,\n",
       " 89454,\n",
       " 89455,\n",
       " 89458,\n",
       " 89460,\n",
       " 89461,\n",
       " 89464,\n",
       " 89467,\n",
       " 89469,\n",
       " 89470,\n",
       " 89472,\n",
       " 89473,\n",
       " 89475,\n",
       " 89476,\n",
       " 89479,\n",
       " 89481,\n",
       " 89482,\n",
       " 89484,\n",
       " 89485,\n",
       " 89487,\n",
       " 89488,\n",
       " 89490,\n",
       " 89491,\n",
       " 89493,\n",
       " 89494,\n",
       " 89496,\n",
       " 89497,\n",
       " 89499,\n",
       " 89500,\n",
       " 89502,\n",
       " 89503,\n",
       " 89505,\n",
       " 89506,\n",
       " 89508,\n",
       " 89509,\n",
       " 89511,\n",
       " 89512,\n",
       " 89515,\n",
       " 89518,\n",
       " 89521,\n",
       " 89524,\n",
       " 89527,\n",
       " 89529,\n",
       " 89530,\n",
       " 89533,\n",
       " 89535,\n",
       " 89536,\n",
       " 89539,\n",
       " 89541,\n",
       " 89542,\n",
       " 89545,\n",
       " 89548,\n",
       " 89551,\n",
       " 89554,\n",
       " 89633,\n",
       " 89635,\n",
       " 89639,\n",
       " 89641,\n",
       " 89644,\n",
       " 89645,\n",
       " 89647,\n",
       " 89651,\n",
       " 89653,\n",
       " 89657,\n",
       " 89659,\n",
       " 89663,\n",
       " 89665,\n",
       " 89668,\n",
       " 89669,\n",
       " 89671,\n",
       " 89675,\n",
       " 89677,\n",
       " 89681,\n",
       " 89683,\n",
       " 89687,\n",
       " 89689,\n",
       " 89693,\n",
       " 89695,\n",
       " 89698,\n",
       " 89699,\n",
       " 89701,\n",
       " 89704,\n",
       " 89705,\n",
       " 89707,\n",
       " 89710,\n",
       " 89711,\n",
       " 89713,\n",
       " 89716,\n",
       " 89717,\n",
       " 89719,\n",
       " 89722,\n",
       " 89723,\n",
       " 89725,\n",
       " 89729,\n",
       " 89731,\n",
       " 89734,\n",
       " 89735,\n",
       " 89737,\n",
       " 113573,\n",
       " 113579,\n",
       " 113585,\n",
       " 113597,\n",
       " 113621,\n",
       " 162719,\n",
       " 162737,\n",
       " 162743,\n",
       " 162749]"
      ]
     },
     "execution_count": 28,
     "metadata": {},
     "output_type": "execute_result"
    }
   ],
   "source": [
    "outlier_idx_list = list(outlier_index)\n",
    "outlier_idx_list.extend(list(outlier_index_48))\n",
    "outlier_idx_list"
   ]
  },
  {
   "cell_type": "code",
   "execution_count": 29,
   "metadata": {},
   "outputs": [
    {
     "name": "stdout",
     "output_type": "stream",
     "text": [
      "375\n",
      "352\n"
     ]
    }
   ],
   "source": [
    "print(len(outlier_idx_list))\n",
    "print(len(set(outlier_idx_list)))"
   ]
  },
  {
   "cell_type": "markdown",
   "metadata": {},
   "source": [
    "48시간까지 제거하려면 352개를 제거해야 함. 우선 24시간만 해보기"
   ]
  },
  {
   "cell_type": "markdown",
   "metadata": {},
   "source": [
    "# 데이터 저장"
   ]
  },
  {
   "cell_type": "code",
   "execution_count": 30,
   "metadata": {},
   "outputs": [],
   "source": [
    "new_plant.to_csv('data/31.finaldata_plant/new_plant.csv', encoding='utf-8', index=False)"
   ]
  },
  {
   "cell_type": "code",
   "execution_count": null,
   "metadata": {},
   "outputs": [],
   "source": []
  }
 ],
 "metadata": {
  "hide_input": false,
  "kernelspec": {
   "display_name": "Python 3",
   "language": "python",
   "name": "python3"
  },
  "language_info": {
   "codemirror_mode": {
    "name": "ipython",
    "version": 3
   },
   "file_extension": ".py",
   "mimetype": "text/x-python",
   "name": "python",
   "nbconvert_exporter": "python",
   "pygments_lexer": "ipython3",
   "version": "3.7.4"
  },
  "toc": {
   "base_numbering": 1,
   "nav_menu": {},
   "number_sections": true,
   "sideBar": true,
   "skip_h1_title": false,
   "title_cell": "Table of Contents",
   "title_sidebar": "Contents",
   "toc_cell": false,
   "toc_position": {},
   "toc_section_display": true,
   "toc_window_display": true
  },
  "varInspector": {
   "cols": {
    "lenName": 16,
    "lenType": 16,
    "lenVar": 40
   },
   "kernels_config": {
    "python": {
     "delete_cmd_postfix": "",
     "delete_cmd_prefix": "del ",
     "library": "var_list.py",
     "varRefreshCmd": "print(var_dic_list())"
    },
    "r": {
     "delete_cmd_postfix": ") ",
     "delete_cmd_prefix": "rm(",
     "library": "var_list.r",
     "varRefreshCmd": "cat(var_dic_list()) "
    }
   },
   "position": {
    "height": "216px",
    "left": "1550px",
    "right": "20px",
    "top": "120px",
    "width": "350px"
   },
   "types_to_exclude": [
    "module",
    "function",
    "builtin_function_or_method",
    "instance",
    "_Feature"
   ],
   "window_display": true
  }
 },
 "nbformat": 4,
 "nbformat_minor": 4
}
