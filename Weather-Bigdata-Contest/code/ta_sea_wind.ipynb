{
 "cells": [
  {
   "cell_type": "markdown",
   "metadata": {},
   "source": [
    "# 함수"
   ]
  },
  {
   "cell_type": "markdown",
   "metadata": {},
   "source": [
    "## 000n 형태 만들기"
   ]
  },
  {
   "cell_type": "code",
   "execution_count": 119,
   "metadata": {},
   "outputs": [],
   "source": [
    "def plus_0s(value):\n",
    "    \n",
    "    if len(value) == 4:\n",
    "        pass\n",
    "    elif len(value) == 3:\n",
    "        value = '0' + value\n",
    "    elif len(value) == 2:\n",
    "        value = '00' + value\n",
    "    else:\n",
    "        value = '000' + value\n",
    "    \n",
    "    return value"
   ]
  },
  {
   "cell_type": "markdown",
   "metadata": {},
   "source": [
    "## split_hour_minute"
   ]
  },
  {
   "cell_type": "code",
   "execution_count": 123,
   "metadata": {},
   "outputs": [],
   "source": [
    "def split_hour_minute(data):\n",
    "    \n",
    "    # hrmt가 들어간 컬럼 리스트 가져오기\n",
    "    hrmt_list = list(data.columns[data.columns.str.contains('hrmt')])\n",
    "    \n",
    "    for i in hrmt_list:\n",
    "        # 컬럼별 round(), str 변환\n",
    "        data[i] = tem[i].apply(round)\n",
    "        data[i] = data[i].astype(str)\n",
    "        \n",
    "        # 유효자리 4자리\n",
    "        data[i] = data[i].apply(plus_0s)\n",
    "        \n",
    "        # hr. mt 분리\n",
    "        hr_name = i[:-2]\n",
    "        mt_name = i[:-4] + 'mt'\n",
    "        data[hr_name] = data[i].str.slice(start = 0, stop = 2)\n",
    "        data[mt_name] = data[i].str.slice(start = 2, stop = 4)\n",
    "    \n",
    "    return data"
   ]
  },
  {
   "cell_type": "markdown",
   "metadata": {},
   "source": [
    "# aws_ta"
   ]
  },
  {
   "cell_type": "code",
   "execution_count": 1,
   "metadata": {},
   "outputs": [],
   "source": [
    "import pandas as pd\n",
    "import matplotlib.pyplot as plt\n",
    "import seaborn as sns\n",
    "import numpy as np"
   ]
  },
  {
   "cell_type": "code",
   "execution_count": 9,
   "metadata": {},
   "outputs": [],
   "source": [
    "pd.set_option('display.max_columns', 30)"
   ]
  },
  {
   "cell_type": "code",
   "execution_count": 124,
   "metadata": {
    "scrolled": true
   },
   "outputs": [
    {
     "data": {
      "text/html": [
       "<div>\n",
       "<style scoped>\n",
       "    .dataframe tbody tr th:only-of-type {\n",
       "        vertical-align: middle;\n",
       "    }\n",
       "\n",
       "    .dataframe tbody tr th {\n",
       "        vertical-align: top;\n",
       "    }\n",
       "\n",
       "    .dataframe thead th {\n",
       "        text-align: right;\n",
       "    }\n",
       "</style>\n",
       "<table border=\"1\" class=\"dataframe\">\n",
       "  <thead>\n",
       "    <tr style=\"text-align: right;\">\n",
       "      <th></th>\n",
       "      <th>tma</th>\n",
       "      <th>stn_id</th>\n",
       "      <th>avg_ta</th>\n",
       "      <th>avg_ta_calc_dtnb</th>\n",
       "      <th>max_ta</th>\n",
       "      <th>max_ta_hrmt</th>\n",
       "      <th>min_ta</th>\n",
       "      <th>min_ta_hrmt</th>\n",
       "      <th>ta_calp_dtnb</th>\n",
       "      <th>rtm_ta</th>\n",
       "      <th>rtm_ta_hrmt</th>\n",
       "    </tr>\n",
       "  </thead>\n",
       "  <tbody>\n",
       "    <tr>\n",
       "      <th>0</th>\n",
       "      <td>2016-04-01 00:00:00</td>\n",
       "      <td>515</td>\n",
       "      <td>8.0</td>\n",
       "      <td>60.0</td>\n",
       "      <td>8.9</td>\n",
       "      <td>2328.0</td>\n",
       "      <td>7.3</td>\n",
       "      <td>2354.0</td>\n",
       "      <td>60.0</td>\n",
       "      <td>7.5</td>\n",
       "      <td>0.0</td>\n",
       "    </tr>\n",
       "    <tr>\n",
       "      <th>1</th>\n",
       "      <td>2016-04-01 00:00:00</td>\n",
       "      <td>616</td>\n",
       "      <td>7.2</td>\n",
       "      <td>60.0</td>\n",
       "      <td>7.8</td>\n",
       "      <td>2303.0</td>\n",
       "      <td>6.6</td>\n",
       "      <td>2337.0</td>\n",
       "      <td>60.0</td>\n",
       "      <td>6.8</td>\n",
       "      <td>0.0</td>\n",
       "    </tr>\n",
       "    <tr>\n",
       "      <th>2</th>\n",
       "      <td>2016-04-01 00:00:00</td>\n",
       "      <td>634</td>\n",
       "      <td>8.7</td>\n",
       "      <td>60.0</td>\n",
       "      <td>9.1</td>\n",
       "      <td>2326.0</td>\n",
       "      <td>8.2</td>\n",
       "      <td>0.0</td>\n",
       "      <td>60.0</td>\n",
       "      <td>8.2</td>\n",
       "      <td>0.0</td>\n",
       "    </tr>\n",
       "    <tr>\n",
       "      <th>3</th>\n",
       "      <td>2016-04-01 00:00:00</td>\n",
       "      <td>637</td>\n",
       "      <td>7.1</td>\n",
       "      <td>60.0</td>\n",
       "      <td>8.1</td>\n",
       "      <td>2309.0</td>\n",
       "      <td>6.4</td>\n",
       "      <td>2323.0</td>\n",
       "      <td>60.0</td>\n",
       "      <td>7.2</td>\n",
       "      <td>0.0</td>\n",
       "    </tr>\n",
       "    <tr>\n",
       "      <th>4</th>\n",
       "      <td>2016-04-01 01:00:00</td>\n",
       "      <td>515</td>\n",
       "      <td>6.6</td>\n",
       "      <td>60.0</td>\n",
       "      <td>7.7</td>\n",
       "      <td>3.0</td>\n",
       "      <td>5.8</td>\n",
       "      <td>54.0</td>\n",
       "      <td>60.0</td>\n",
       "      <td>5.9</td>\n",
       "      <td>100.0</td>\n",
       "    </tr>\n",
       "  </tbody>\n",
       "</table>\n",
       "</div>"
      ],
      "text/plain": [
       "                   tma  stn_id  avg_ta  avg_ta_calc_dtnb  max_ta  max_ta_hrmt  \\\n",
       "0  2016-04-01 00:00:00     515     8.0              60.0     8.9       2328.0   \n",
       "1  2016-04-01 00:00:00     616     7.2              60.0     7.8       2303.0   \n",
       "2  2016-04-01 00:00:00     634     8.7              60.0     9.1       2326.0   \n",
       "3  2016-04-01 00:00:00     637     7.1              60.0     8.1       2309.0   \n",
       "4  2016-04-01 01:00:00     515     6.6              60.0     7.7          3.0   \n",
       "\n",
       "   min_ta  min_ta_hrmt  ta_calp_dtnb  rtm_ta  rtm_ta_hrmt  \n",
       "0     7.3       2354.0          60.0     7.5          0.0  \n",
       "1     6.6       2337.0          60.0     6.8          0.0  \n",
       "2     8.2          0.0          60.0     8.2          0.0  \n",
       "3     6.4       2323.0          60.0     7.2          0.0  \n",
       "4     5.8         54.0          60.0     5.9        100.0  "
      ]
     },
     "execution_count": 124,
     "metadata": {},
     "output_type": "execute_result"
    }
   ],
   "source": [
    "tem = pd.read_csv('../data/22.savedata_weather/aws_ta.csv')\n",
    "tem.head()"
   ]
  },
  {
   "cell_type": "code",
   "execution_count": 125,
   "metadata": {},
   "outputs": [],
   "source": [
    "def multi_distplot(data):\n",
    "    \n",
    "    col_n = data.shape[1] - 2\n",
    "    plt.figure(figsize=(15,20))\n",
    "\n",
    "    for i in range(col_n):\n",
    "        plt.subplot(6, 4, i+1)\n",
    "        sns.distplot(data.iloc[:,i+2], kde=False)"
   ]
  },
  {
   "cell_type": "code",
   "execution_count": 126,
   "metadata": {},
   "outputs": [
    {
     "data": {
      "image/png": "[encoded data removed]",
      "text/plain": [
       "<Figure size 1080x1440 with 9 Axes>"
      ]
     },
     "metadata": {
      "needs_background": "light"
     },
     "output_type": "display_data"
    }
   ],
   "source": [
    "multi_distplot(tem)"
   ]
  },
  {
   "cell_type": "code",
   "execution_count": 127,
   "metadata": {
    "scrolled": true
   },
   "outputs": [
    {
     "data": {
      "text/plain": [
       "60.0    137588\n",
       "59.0      1426\n",
       "58.0       207\n",
       "57.0       102\n",
       "0.0         69\n",
       "56.0        64\n",
       "55.0        50\n",
       "54.0        32\n",
       "53.0        22\n",
       "49.0        18\n",
       "48.0        17\n",
       "50.0        16\n",
       "45.0        14\n",
       "52.0        12\n",
       "46.0        10\n",
       "41.0         9\n",
       "39.0         8\n",
       "51.0         8\n",
       "31.0         8\n",
       "44.0         8\n",
       "43.0         7\n",
       "30.0         7\n",
       "23.0         7\n",
       "47.0         7\n",
       "2.0          6\n",
       "42.0         6\n",
       "35.0         5\n",
       "27.0         5\n",
       "9.0          5\n",
       "37.0         5\n",
       "1.0          5\n",
       "29.0         5\n",
       "3.0          4\n",
       "10.0         4\n",
       "11.0         4\n",
       "20.0         4\n",
       "33.0         4\n",
       "34.0         4\n",
       "25.0         3\n",
       "19.0         3\n",
       "5.0          3\n",
       "21.0         3\n",
       "4.0          3\n",
       "40.0         3\n",
       "14.0         2\n",
       "28.0         2\n",
       "16.0         2\n",
       "13.0         2\n",
       "32.0         2\n",
       "22.0         2\n",
       "26.0         1\n",
       "36.0         1\n",
       "6.0          1\n",
       "38.0         1\n",
       "8.0          1\n",
       "12.0         1\n",
       "Name: avg_ta_calc_dtnb, dtype: int64"
      ]
     },
     "execution_count": 127,
     "metadata": {},
     "output_type": "execute_result"
    }
   ],
   "source": [
    "tem['avg_ta_calc_dtnb'].value_counts()"
   ]
  },
  {
   "cell_type": "code",
   "execution_count": 128,
   "metadata": {},
   "outputs": [
    {
     "data": {
      "text/plain": [
       "array([2328., 2303., 2326., ..., 1948., 2053.,  810.])"
      ]
     },
     "execution_count": 128,
     "metadata": {},
     "output_type": "execute_result"
    }
   ],
   "source": [
    "tem['max_ta_hrmt'].unique()"
   ]
  },
  {
   "cell_type": "code",
   "execution_count": 129,
   "metadata": {},
   "outputs": [
    {
     "data": {
      "text/html": [
       "<div>\n",
       "<style scoped>\n",
       "    .dataframe tbody tr th:only-of-type {\n",
       "        vertical-align: middle;\n",
       "    }\n",
       "\n",
       "    .dataframe tbody tr th {\n",
       "        vertical-align: top;\n",
       "    }\n",
       "\n",
       "    .dataframe thead th {\n",
       "        text-align: right;\n",
       "    }\n",
       "</style>\n",
       "<table border=\"1\" class=\"dataframe\">\n",
       "  <thead>\n",
       "    <tr style=\"text-align: right;\">\n",
       "      <th></th>\n",
       "      <th>tma</th>\n",
       "      <th>stn_id</th>\n",
       "      <th>avg_ta</th>\n",
       "      <th>avg_ta_calc_dtnb</th>\n",
       "      <th>max_ta</th>\n",
       "      <th>max_ta_hrmt</th>\n",
       "      <th>min_ta</th>\n",
       "      <th>min_ta_hrmt</th>\n",
       "      <th>ta_calp_dtnb</th>\n",
       "      <th>rtm_ta</th>\n",
       "      <th>rtm_ta_hrmt</th>\n",
       "    </tr>\n",
       "  </thead>\n",
       "  <tbody>\n",
       "    <tr>\n",
       "      <th>0</th>\n",
       "      <td>2016-04-01 00:00:00</td>\n",
       "      <td>515</td>\n",
       "      <td>8.0</td>\n",
       "      <td>60.0</td>\n",
       "      <td>8.9</td>\n",
       "      <td>2328.0</td>\n",
       "      <td>7.3</td>\n",
       "      <td>2354.0</td>\n",
       "      <td>60.0</td>\n",
       "      <td>7.5</td>\n",
       "      <td>0.0</td>\n",
       "    </tr>\n",
       "    <tr>\n",
       "      <th>1</th>\n",
       "      <td>2016-04-01 00:00:00</td>\n",
       "      <td>616</td>\n",
       "      <td>7.2</td>\n",
       "      <td>60.0</td>\n",
       "      <td>7.8</td>\n",
       "      <td>2303.0</td>\n",
       "      <td>6.6</td>\n",
       "      <td>2337.0</td>\n",
       "      <td>60.0</td>\n",
       "      <td>6.8</td>\n",
       "      <td>0.0</td>\n",
       "    </tr>\n",
       "    <tr>\n",
       "      <th>2</th>\n",
       "      <td>2016-04-01 00:00:00</td>\n",
       "      <td>634</td>\n",
       "      <td>8.7</td>\n",
       "      <td>60.0</td>\n",
       "      <td>9.1</td>\n",
       "      <td>2326.0</td>\n",
       "      <td>8.2</td>\n",
       "      <td>0.0</td>\n",
       "      <td>60.0</td>\n",
       "      <td>8.2</td>\n",
       "      <td>0.0</td>\n",
       "    </tr>\n",
       "    <tr>\n",
       "      <th>3</th>\n",
       "      <td>2016-04-01 00:00:00</td>\n",
       "      <td>637</td>\n",
       "      <td>7.1</td>\n",
       "      <td>60.0</td>\n",
       "      <td>8.1</td>\n",
       "      <td>2309.0</td>\n",
       "      <td>6.4</td>\n",
       "      <td>2323.0</td>\n",
       "      <td>60.0</td>\n",
       "      <td>7.2</td>\n",
       "      <td>0.0</td>\n",
       "    </tr>\n",
       "    <tr>\n",
       "      <th>4</th>\n",
       "      <td>2016-04-01 01:00:00</td>\n",
       "      <td>515</td>\n",
       "      <td>6.6</td>\n",
       "      <td>60.0</td>\n",
       "      <td>7.7</td>\n",
       "      <td>3.0</td>\n",
       "      <td>5.8</td>\n",
       "      <td>54.0</td>\n",
       "      <td>60.0</td>\n",
       "      <td>5.9</td>\n",
       "      <td>100.0</td>\n",
       "    </tr>\n",
       "  </tbody>\n",
       "</table>\n",
       "</div>"
      ],
      "text/plain": [
       "                   tma  stn_id  avg_ta  avg_ta_calc_dtnb  max_ta  max_ta_hrmt  \\\n",
       "0  2016-04-01 00:00:00     515     8.0              60.0     8.9       2328.0   \n",
       "1  2016-04-01 00:00:00     616     7.2              60.0     7.8       2303.0   \n",
       "2  2016-04-01 00:00:00     634     8.7              60.0     9.1       2326.0   \n",
       "3  2016-04-01 00:00:00     637     7.1              60.0     8.1       2309.0   \n",
       "4  2016-04-01 01:00:00     515     6.6              60.0     7.7          3.0   \n",
       "\n",
       "   min_ta  min_ta_hrmt  ta_calp_dtnb  rtm_ta  rtm_ta_hrmt  \n",
       "0     7.3       2354.0          60.0     7.5          0.0  \n",
       "1     6.6       2337.0          60.0     6.8          0.0  \n",
       "2     8.2          0.0          60.0     8.2          0.0  \n",
       "3     6.4       2323.0          60.0     7.2          0.0  \n",
       "4     5.8         54.0          60.0     5.9        100.0  "
      ]
     },
     "execution_count": 129,
     "metadata": {},
     "output_type": "execute_result"
    }
   ],
   "source": [
    "tem.head()"
   ]
  },
  {
   "cell_type": "code",
   "execution_count": 130,
   "metadata": {},
   "outputs": [
    {
     "data": {
      "text/html": [
       "<div>\n",
       "<style scoped>\n",
       "    .dataframe tbody tr th:only-of-type {\n",
       "        vertical-align: middle;\n",
       "    }\n",
       "\n",
       "    .dataframe tbody tr th {\n",
       "        vertical-align: top;\n",
       "    }\n",
       "\n",
       "    .dataframe thead th {\n",
       "        text-align: right;\n",
       "    }\n",
       "</style>\n",
       "<table border=\"1\" class=\"dataframe\">\n",
       "  <thead>\n",
       "    <tr style=\"text-align: right;\">\n",
       "      <th></th>\n",
       "      <th>tma</th>\n",
       "      <th>stn_id</th>\n",
       "      <th>avg_ta</th>\n",
       "      <th>avg_ta_calc_dtnb</th>\n",
       "      <th>max_ta</th>\n",
       "      <th>max_ta_hrmt</th>\n",
       "      <th>min_ta</th>\n",
       "      <th>min_ta_hrmt</th>\n",
       "      <th>ta_calp_dtnb</th>\n",
       "      <th>rtm_ta</th>\n",
       "      <th>rtm_ta_hrmt</th>\n",
       "      <th>max_ta_hr</th>\n",
       "      <th>max_ta_mt</th>\n",
       "      <th>min_ta_hr</th>\n",
       "      <th>min_ta_mt</th>\n",
       "      <th>rtm_ta_hr</th>\n",
       "      <th>rtm_ta_mt</th>\n",
       "    </tr>\n",
       "  </thead>\n",
       "  <tbody>\n",
       "    <tr>\n",
       "      <th>0</th>\n",
       "      <td>2016-04-01 00:00:00</td>\n",
       "      <td>515</td>\n",
       "      <td>8.0</td>\n",
       "      <td>60.0</td>\n",
       "      <td>8.9</td>\n",
       "      <td>2328</td>\n",
       "      <td>7.3</td>\n",
       "      <td>2354</td>\n",
       "      <td>60.0</td>\n",
       "      <td>7.5</td>\n",
       "      <td>0000</td>\n",
       "      <td>23</td>\n",
       "      <td>28</td>\n",
       "      <td>23</td>\n",
       "      <td>54</td>\n",
       "      <td>00</td>\n",
       "      <td>00</td>\n",
       "    </tr>\n",
       "    <tr>\n",
       "      <th>1</th>\n",
       "      <td>2016-04-01 00:00:00</td>\n",
       "      <td>616</td>\n",
       "      <td>7.2</td>\n",
       "      <td>60.0</td>\n",
       "      <td>7.8</td>\n",
       "      <td>2303</td>\n",
       "      <td>6.6</td>\n",
       "      <td>2337</td>\n",
       "      <td>60.0</td>\n",
       "      <td>6.8</td>\n",
       "      <td>0000</td>\n",
       "      <td>23</td>\n",
       "      <td>03</td>\n",
       "      <td>23</td>\n",
       "      <td>37</td>\n",
       "      <td>00</td>\n",
       "      <td>00</td>\n",
       "    </tr>\n",
       "    <tr>\n",
       "      <th>2</th>\n",
       "      <td>2016-04-01 00:00:00</td>\n",
       "      <td>634</td>\n",
       "      <td>8.7</td>\n",
       "      <td>60.0</td>\n",
       "      <td>9.1</td>\n",
       "      <td>2326</td>\n",
       "      <td>8.2</td>\n",
       "      <td>0000</td>\n",
       "      <td>60.0</td>\n",
       "      <td>8.2</td>\n",
       "      <td>0000</td>\n",
       "      <td>23</td>\n",
       "      <td>26</td>\n",
       "      <td>00</td>\n",
       "      <td>00</td>\n",
       "      <td>00</td>\n",
       "      <td>00</td>\n",
       "    </tr>\n",
       "    <tr>\n",
       "      <th>3</th>\n",
       "      <td>2016-04-01 00:00:00</td>\n",
       "      <td>637</td>\n",
       "      <td>7.1</td>\n",
       "      <td>60.0</td>\n",
       "      <td>8.1</td>\n",
       "      <td>2309</td>\n",
       "      <td>6.4</td>\n",
       "      <td>2323</td>\n",
       "      <td>60.0</td>\n",
       "      <td>7.2</td>\n",
       "      <td>0000</td>\n",
       "      <td>23</td>\n",
       "      <td>09</td>\n",
       "      <td>23</td>\n",
       "      <td>23</td>\n",
       "      <td>00</td>\n",
       "      <td>00</td>\n",
       "    </tr>\n",
       "    <tr>\n",
       "      <th>4</th>\n",
       "      <td>2016-04-01 01:00:00</td>\n",
       "      <td>515</td>\n",
       "      <td>6.6</td>\n",
       "      <td>60.0</td>\n",
       "      <td>7.7</td>\n",
       "      <td>0003</td>\n",
       "      <td>5.8</td>\n",
       "      <td>0054</td>\n",
       "      <td>60.0</td>\n",
       "      <td>5.9</td>\n",
       "      <td>0100</td>\n",
       "      <td>00</td>\n",
       "      <td>03</td>\n",
       "      <td>00</td>\n",
       "      <td>54</td>\n",
       "      <td>01</td>\n",
       "      <td>00</td>\n",
       "    </tr>\n",
       "  </tbody>\n",
       "</table>\n",
       "</div>"
      ],
      "text/plain": [
       "                   tma  stn_id  avg_ta  avg_ta_calc_dtnb  max_ta max_ta_hrmt  \\\n",
       "0  2016-04-01 00:00:00     515     8.0              60.0     8.9        2328   \n",
       "1  2016-04-01 00:00:00     616     7.2              60.0     7.8        2303   \n",
       "2  2016-04-01 00:00:00     634     8.7              60.0     9.1        2326   \n",
       "3  2016-04-01 00:00:00     637     7.1              60.0     8.1        2309   \n",
       "4  2016-04-01 01:00:00     515     6.6              60.0     7.7        0003   \n",
       "\n",
       "   min_ta min_ta_hrmt  ta_calp_dtnb  rtm_ta rtm_ta_hrmt max_ta_hr max_ta_mt  \\\n",
       "0     7.3        2354          60.0     7.5        0000        23        28   \n",
       "1     6.6        2337          60.0     6.8        0000        23        03   \n",
       "2     8.2        0000          60.0     8.2        0000        23        26   \n",
       "3     6.4        2323          60.0     7.2        0000        23        09   \n",
       "4     5.8        0054          60.0     5.9        0100        00        03   \n",
       "\n",
       "  min_ta_hr min_ta_mt rtm_ta_hr rtm_ta_mt  \n",
       "0        23        54        00        00  \n",
       "1        23        37        00        00  \n",
       "2        00        00        00        00  \n",
       "3        23        23        00        00  \n",
       "4        00        54        01        00  "
      ]
     },
     "execution_count": 130,
     "metadata": {},
     "output_type": "execute_result"
    }
   ],
   "source": [
    "tem = split_hour_minute(tem)\n",
    "tem.head()"
   ]
  },
  {
   "cell_type": "code",
   "execution_count": 68,
   "metadata": {},
   "outputs": [
    {
     "data": {
      "text/plain": [
       "10    9389\n",
       "20    9000\n",
       "11    6817\n",
       "12    6662\n",
       "21    6633\n",
       "      ... \n",
       "27      42\n",
       "39      42\n",
       "46      41\n",
       "48      36\n",
       "49      35\n",
       "Name: max_ta_hr, Length: 84, dtype: int64"
      ]
     },
     "execution_count": 68,
     "metadata": {},
     "output_type": "execute_result"
    }
   ],
   "source": [
    "tem['max_ta_hr'].value_counts()"
   ]
  },
  {
   "cell_type": "markdown",
   "metadata": {},
   "source": [
    "# aws_wind"
   ]
  },
  {
   "cell_type": "code",
   "execution_count": 10,
   "metadata": {},
   "outputs": [
    {
     "data": {
      "text/html": [
       "<div>\n",
       "<style scoped>\n",
       "    .dataframe tbody tr th:only-of-type {\n",
       "        vertical-align: middle;\n",
       "    }\n",
       "\n",
       "    .dataframe tbody tr th {\n",
       "        vertical-align: top;\n",
       "    }\n",
       "\n",
       "    .dataframe thead th {\n",
       "        text-align: right;\n",
       "    }\n",
       "</style>\n",
       "<table border=\"1\" class=\"dataframe\">\n",
       "  <thead>\n",
       "    <tr style=\"text-align: right;\">\n",
       "      <th></th>\n",
       "      <th>tma</th>\n",
       "      <th>stn_id</th>\n",
       "      <th>avg_ws</th>\n",
       "      <th>mix_ws</th>\n",
       "      <th>mix_wd</th>\n",
       "      <th>max_ws</th>\n",
       "      <th>max_ws_hrmt</th>\n",
       "      <th>avg_ws_calc_dtnb</th>\n",
       "      <th>max_wd</th>\n",
       "      <th>max_ws_wd</th>\n",
       "      <th>avg_mi1_ws</th>\n",
       "      <th>max_mi1_ws</th>\n",
       "      <th>max_mi1_ws_hrmt</th>\n",
       "      <th>mi1_ws_calc_dtnb</th>\n",
       "      <th>max_mi1_ws_wd</th>\n",
       "      <th>max_ins_ws</th>\n",
       "      <th>max_ins_ws_hrmt</th>\n",
       "      <th>max_ins_ws_wd</th>\n",
       "      <th>ins_ws_calp_dtnb</th>\n",
       "      <th>rtm_mi10_avg_ws</th>\n",
       "      <th>rtm_mi10_avg_wd</th>\n",
       "      <th>rtm_mi10_avg_ws_hrmt</th>\n",
       "      <th>ws_calp_dtnb</th>\n",
       "    </tr>\n",
       "  </thead>\n",
       "  <tbody>\n",
       "    <tr>\n",
       "      <th>0</th>\n",
       "      <td>2016-04-01 00:00:00</td>\n",
       "      <td>515</td>\n",
       "      <td>0.5</td>\n",
       "      <td>0.5</td>\n",
       "      <td>99.3</td>\n",
       "      <td>0.9</td>\n",
       "      <td>2328.0</td>\n",
       "      <td>60</td>\n",
       "      <td>90.0</td>\n",
       "      <td>94.0</td>\n",
       "      <td>0.6</td>\n",
       "      <td>1.1</td>\n",
       "      <td>2322.0</td>\n",
       "      <td>60</td>\n",
       "      <td>84.2</td>\n",
       "      <td>1.4</td>\n",
       "      <td>2322.0</td>\n",
       "      <td>98.4</td>\n",
       "      <td>60</td>\n",
       "      <td>0.8</td>\n",
       "      <td>112.5</td>\n",
       "      <td>0.0</td>\n",
       "      <td>60</td>\n",
       "    </tr>\n",
       "    <tr>\n",
       "      <th>1</th>\n",
       "      <td>2016-04-01 00:00:00</td>\n",
       "      <td>616</td>\n",
       "      <td>0.3</td>\n",
       "      <td>0.3</td>\n",
       "      <td>166.0</td>\n",
       "      <td>0.7</td>\n",
       "      <td>2333.0</td>\n",
       "      <td>60</td>\n",
       "      <td>157.5</td>\n",
       "      <td>152.3</td>\n",
       "      <td>0.3</td>\n",
       "      <td>1.0</td>\n",
       "      <td>2330.0</td>\n",
       "      <td>60</td>\n",
       "      <td>141.4</td>\n",
       "      <td>1.1</td>\n",
       "      <td>2330.0</td>\n",
       "      <td>137.8</td>\n",
       "      <td>60</td>\n",
       "      <td>0.3</td>\n",
       "      <td>0.0</td>\n",
       "      <td>0.0</td>\n",
       "      <td>60</td>\n",
       "    </tr>\n",
       "    <tr>\n",
       "      <th>2</th>\n",
       "      <td>2016-04-01 00:00:00</td>\n",
       "      <td>634</td>\n",
       "      <td>0.4</td>\n",
       "      <td>0.3</td>\n",
       "      <td>127.3</td>\n",
       "      <td>1.1</td>\n",
       "      <td>2309.0</td>\n",
       "      <td>60</td>\n",
       "      <td>112.5</td>\n",
       "      <td>119.6</td>\n",
       "      <td>0.3</td>\n",
       "      <td>1.2</td>\n",
       "      <td>2305.0</td>\n",
       "      <td>60</td>\n",
       "      <td>115.4</td>\n",
       "      <td>1.2</td>\n",
       "      <td>2304.0</td>\n",
       "      <td>120.9</td>\n",
       "      <td>60</td>\n",
       "      <td>0.0</td>\n",
       "      <td>0.0</td>\n",
       "      <td>0.0</td>\n",
       "      <td>60</td>\n",
       "    </tr>\n",
       "    <tr>\n",
       "      <th>3</th>\n",
       "      <td>2016-04-01 00:00:00</td>\n",
       "      <td>637</td>\n",
       "      <td>0.7</td>\n",
       "      <td>0.6</td>\n",
       "      <td>210.6</td>\n",
       "      <td>0.9</td>\n",
       "      <td>2303.0</td>\n",
       "      <td>60</td>\n",
       "      <td>225.0</td>\n",
       "      <td>147.3</td>\n",
       "      <td>0.7</td>\n",
       "      <td>1.1</td>\n",
       "      <td>0.0</td>\n",
       "      <td>60</td>\n",
       "      <td>216.9</td>\n",
       "      <td>1.1</td>\n",
       "      <td>2351.0</td>\n",
       "      <td>213.8</td>\n",
       "      <td>60</td>\n",
       "      <td>0.9</td>\n",
       "      <td>225.2</td>\n",
       "      <td>0.0</td>\n",
       "      <td>60</td>\n",
       "    </tr>\n",
       "    <tr>\n",
       "      <th>4</th>\n",
       "      <td>2016-04-01 01:00:00</td>\n",
       "      <td>515</td>\n",
       "      <td>0.5</td>\n",
       "      <td>0.2</td>\n",
       "      <td>141.4</td>\n",
       "      <td>0.9</td>\n",
       "      <td>1.0</td>\n",
       "      <td>60</td>\n",
       "      <td>112.5</td>\n",
       "      <td>110.3</td>\n",
       "      <td>0.4</td>\n",
       "      <td>1.0</td>\n",
       "      <td>12.0</td>\n",
       "      <td>60</td>\n",
       "      <td>121.4</td>\n",
       "      <td>1.2</td>\n",
       "      <td>13.0</td>\n",
       "      <td>115.3</td>\n",
       "      <td>60</td>\n",
       "      <td>0.2</td>\n",
       "      <td>0.0</td>\n",
       "      <td>100.0</td>\n",
       "      <td>60</td>\n",
       "    </tr>\n",
       "  </tbody>\n",
       "</table>\n",
       "</div>"
      ],
      "text/plain": [
       "                   tma  stn_id  avg_ws  mix_ws  mix_wd  max_ws  max_ws_hrmt  \\\n",
       "0  2016-04-01 00:00:00     515     0.5     0.5    99.3     0.9       2328.0   \n",
       "1  2016-04-01 00:00:00     616     0.3     0.3   166.0     0.7       2333.0   \n",
       "2  2016-04-01 00:00:00     634     0.4     0.3   127.3     1.1       2309.0   \n",
       "3  2016-04-01 00:00:00     637     0.7     0.6   210.6     0.9       2303.0   \n",
       "4  2016-04-01 01:00:00     515     0.5     0.2   141.4     0.9          1.0   \n",
       "\n",
       "   avg_ws_calc_dtnb  max_wd  max_ws_wd  avg_mi1_ws  max_mi1_ws  \\\n",
       "0                60    90.0       94.0         0.6         1.1   \n",
       "1                60   157.5      152.3         0.3         1.0   \n",
       "2                60   112.5      119.6         0.3         1.2   \n",
       "3                60   225.0      147.3         0.7         1.1   \n",
       "4                60   112.5      110.3         0.4         1.0   \n",
       "\n",
       "   max_mi1_ws_hrmt  mi1_ws_calc_dtnb  max_mi1_ws_wd  max_ins_ws  \\\n",
       "0           2322.0                60           84.2         1.4   \n",
       "1           2330.0                60          141.4         1.1   \n",
       "2           2305.0                60          115.4         1.2   \n",
       "3              0.0                60          216.9         1.1   \n",
       "4             12.0                60          121.4         1.2   \n",
       "\n",
       "   max_ins_ws_hrmt  max_ins_ws_wd  ins_ws_calp_dtnb  rtm_mi10_avg_ws  \\\n",
       "0           2322.0           98.4                60              0.8   \n",
       "1           2330.0          137.8                60              0.3   \n",
       "2           2304.0          120.9                60              0.0   \n",
       "3           2351.0          213.8                60              0.9   \n",
       "4             13.0          115.3                60              0.2   \n",
       "\n",
       "   rtm_mi10_avg_wd  rtm_mi10_avg_ws_hrmt  ws_calp_dtnb  \n",
       "0            112.5                   0.0            60  \n",
       "1              0.0                   0.0            60  \n",
       "2              0.0                   0.0            60  \n",
       "3            225.2                   0.0            60  \n",
       "4              0.0                 100.0            60  "
      ]
     },
     "execution_count": 10,
     "metadata": {},
     "output_type": "execute_result"
    }
   ],
   "source": [
    "wind = pd.read_csv('../data/22.savedata_weather/aws_wind.csv')\n",
    "wind.head()"
   ]
  },
  {
   "cell_type": "code",
   "execution_count": 5,
   "metadata": {},
   "outputs": [
    {
     "data": {
      "text/plain": [
       "Index(['tma', 'stn_id', 'avg_ws', 'mix_ws', 'mix_wd', 'max_ws', 'max_ws_hrmt',\n",
       "       'avg_ws_calc_dtnb', 'max_wd', 'max_ws_wd', 'avg_mi1_ws', 'max_mi1_ws',\n",
       "       'max_mi1_ws_hrmt', 'mi1_ws_calc_dtnb', 'max_mi1_ws_wd', 'max_ins_ws',\n",
       "       'max_ins_ws_hrmt', 'max_ins_ws_wd', 'ins_ws_calp_dtnb',\n",
       "       'rtm_mi10_avg_ws', 'rtm_mi10_avg_wd', 'rtm_mi10_avg_ws_hrmt',\n",
       "       'ws_calp_dtnb'],\n",
       "      dtype='object')"
      ]
     },
     "execution_count": 5,
     "metadata": {},
     "output_type": "execute_result"
    }
   ],
   "source": [
    "wind.columns"
   ]
  },
  {
   "cell_type": "code",
   "execution_count": null,
   "metadata": {},
   "outputs": [],
   "source": []
  },
  {
   "cell_type": "code",
   "execution_count": 12,
   "metadata": {},
   "outputs": [
    {
     "data": {
      "image/png": "[encoded data removed]",
      "text/plain": [
       "<Figure size 1080x1440 with 21 Axes>"
      ]
     },
     "metadata": {
      "needs_background": "light"
     },
     "output_type": "display_data"
    }
   ],
   "source": [
    "multi_distplot(wind)"
   ]
  },
  {
   "cell_type": "code",
   "execution_count": 13,
   "metadata": {},
   "outputs": [
    {
     "data": {
      "text/plain": [
       "<matplotlib.axes._subplots.AxesSubplot at 0x20403f30fc8>"
      ]
     },
     "execution_count": 13,
     "metadata": {},
     "output_type": "execute_result"
    },
    {
     "data": {
      "image/png": "[encoded data removed]",
      "text/plain": [
       "<Figure size 432x288 with 1 Axes>"
      ]
     },
     "metadata": {
      "needs_background": "light"
     },
     "output_type": "display_data"
    }
   ],
   "source": [
    "sns.boxplot(wind['avg_ws'])"
   ]
  },
  {
   "cell_type": "markdown",
   "metadata": {},
   "source": [
    "# aws_"
   ]
  }
 ],
 "metadata": {
  "kernelspec": {
   "display_name": "Python 3",
   "language": "python",
   "name": "python3"
  },
  "language_info": {
   "codemirror_mode": {
    "name": "ipython",
    "version": 3
   },
   "file_extension": ".py",
   "mimetype": "text/x-python",
   "name": "python",
   "nbconvert_exporter": "python",
   "pygments_lexer": "ipython3",
   "version": "3.7.6"
  },
  "toc": {
   "base_numbering": 1,
   "nav_menu": {},
   "number_sections": true,
   "sideBar": true,
   "skip_h1_title": false,
   "title_cell": "Table of Contents",
   "title_sidebar": "Contents",
   "toc_cell": false,
   "toc_position": {
    "height": "calc(100% - 180px)",
    "left": "10px",
    "top": "150px",
    "width": "165px"
   },
   "toc_section_display": true,
   "toc_window_display": true
  },
  "varInspector": {
   "cols": {
    "lenName": 16,
    "lenType": 16,
    "lenVar": 40
   },
   "kernels_config": {
    "python": {
     "delete_cmd_postfix": "",
     "delete_cmd_prefix": "del ",
     "library": "var_list.py",
     "varRefreshCmd": "print(var_dic_list())"
    },
    "r": {
     "delete_cmd_postfix": ") ",
     "delete_cmd_prefix": "rm(",
     "library": "var_list.r",
     "varRefreshCmd": "cat(var_dic_list()) "
    }
   },
   "position": {
    "height": "245px",
    "left": "1550px",
    "right": "20px",
    "top": "120px",
    "width": "350px"
   },
   "types_to_exclude": [
    "module",
    "function",
    "builtin_function_or_method",
    "instance",
    "_Feature"
   ],
   "window_display": true
  }
 },
 "nbformat": 4,
 "nbformat_minor": 4
}
