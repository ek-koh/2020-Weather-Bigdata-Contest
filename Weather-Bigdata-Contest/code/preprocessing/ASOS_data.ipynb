{
 "cells": [
  {
   "cell_type": "markdown",
   "metadata": {},
   "source": [
    "# 데이터 로드"
   ]
  },
  {
   "cell_type": "code",
   "execution_count": 2,
   "metadata": {},
   "outputs": [],
   "source": [
    "import pandas as pd\n",
    "import matplotlib.pyplot as plt\n",
    "import seaborn as sns\n",
    "import numpy as np\n",
    "import glob\n",
    "import os"
   ]
  },
  {
   "cell_type": "code",
   "execution_count": 3,
   "metadata": {},
   "outputs": [],
   "source": [
    "input_file = r'../../data/12.rawdata_weather/ASOS'\n",
    "output_file = r'../../data/22.savedata_weather/ASOS_merge.csv'"
   ]
  },
  {
   "cell_type": "code",
   "execution_count": 4,
   "metadata": {},
   "outputs": [
    {
     "name": "stdout",
     "output_type": "stream",
     "text": [
      "['../../data/12.rawdata_weather/ASOS\\\\SURFACE_ASOS_129_MI_2016-04_2016-04_2017.csv', '../../data/12.rawdata_weather/ASOS\\\\SURFACE_ASOS_129_MI_2016-05_2016-05_2017.csv', '../../data/12.rawdata_weather/ASOS\\\\SURFACE_ASOS_129_MI_2016-06_2016-06_2017.csv', '../../data/12.rawdata_weather/ASOS\\\\SURFACE_ASOS_129_MI_2016-07_2016-07_2017.csv', '../../data/12.rawdata_weather/ASOS\\\\SURFACE_ASOS_129_MI_2016-08_2016-08_2017.csv', '../../data/12.rawdata_weather/ASOS\\\\SURFACE_ASOS_129_MI_2016-09_2016-09_2018.csv', '../../data/12.rawdata_weather/ASOS\\\\SURFACE_ASOS_129_MI_2016-10_2016-10_2018.csv', '../../data/12.rawdata_weather/ASOS\\\\SURFACE_ASOS_129_MI_2016-11_2016-11_2018.csv', '../../data/12.rawdata_weather/ASOS\\\\SURFACE_ASOS_129_MI_2016-12_2016-12_2018.csv', '../../data/12.rawdata_weather/ASOS\\\\SURFACE_ASOS_129_MI_2017-01_2017-01_2017.csv', '../../data/12.rawdata_weather/ASOS\\\\SURFACE_ASOS_129_MI_2017-02_2017-02_2017.csv', '../../data/12.rawdata_weather/ASOS\\\\SURFACE_ASOS_129_MI_2017-03_2017-03_2017.csv', '../../data/12.rawdata_weather/ASOS\\\\SURFACE_ASOS_129_MI_2017-04_2017-04_2017.csv', '../../data/12.rawdata_weather/ASOS\\\\SURFACE_ASOS_129_MI_2017-05_2017-05_2017.csv', '../../data/12.rawdata_weather/ASOS\\\\SURFACE_ASOS_129_MI_2017-06_2017-06_2017.csv', '../../data/12.rawdata_weather/ASOS\\\\SURFACE_ASOS_129_MI_2017-07_2017-07_2017.csv', '../../data/12.rawdata_weather/ASOS\\\\SURFACE_ASOS_129_MI_2017-08_2017-08_2017.csv', '../../data/12.rawdata_weather/ASOS\\\\SURFACE_ASOS_129_MI_2017-09_2017-09_2017.csv', '../../data/12.rawdata_weather/ASOS\\\\SURFACE_ASOS_129_MI_2017-10_2017-10_2017.csv', '../../data/12.rawdata_weather/ASOS\\\\SURFACE_ASOS_129_MI_2017-11_2017-11_2017.csv', '../../data/12.rawdata_weather/ASOS\\\\SURFACE_ASOS_129_MI_2017-12_2017-12_2018.csv', '../../data/12.rawdata_weather/ASOS\\\\SURFACE_ASOS_129_MI_2018-01_2018-01_2018.csv', '../../data/12.rawdata_weather/ASOS\\\\SURFACE_ASOS_129_MI_2018-02_2018-02_2018.csv', '../../data/12.rawdata_weather/ASOS\\\\SURFACE_ASOS_129_MI_2018-03_2018-03_2018.csv', '../../data/12.rawdata_weather/ASOS\\\\SURFACE_ASOS_129_MI_2018-04_2018-04_2018.csv', '../../data/12.rawdata_weather/ASOS\\\\SURFACE_ASOS_129_MI_2018-05_2018-05_2018.csv', '../../data/12.rawdata_weather/ASOS\\\\SURFACE_ASOS_129_MI_2018-06_2018-06_2018.csv', '../../data/12.rawdata_weather/ASOS\\\\SURFACE_ASOS_129_MI_2018-07_2018-07_2018.csv', '../../data/12.rawdata_weather/ASOS\\\\SURFACE_ASOS_129_MI_2018-08_2018-08_2018.csv', '../../data/12.rawdata_weather/ASOS\\\\SURFACE_ASOS_129_MI_2018-09_2018-09_2018.csv', '../../data/12.rawdata_weather/ASOS\\\\SURFACE_ASOS_129_MI_2018-10_2018-10_2018.csv', '../../data/12.rawdata_weather/ASOS\\\\SURFACE_ASOS_129_MI_2018-11_2018-11_2018.csv', '../../data/12.rawdata_weather/ASOS\\\\SURFACE_ASOS_129_MI_2018-12_2018-12_2019.csv', '../../data/12.rawdata_weather/ASOS\\\\SURFACE_ASOS_129_MI_2019-01_2019-01_2019.csv', '../../data/12.rawdata_weather/ASOS\\\\SURFACE_ASOS_129_MI_2019-02_2019-02_2019.csv', '../../data/12.rawdata_weather/ASOS\\\\SURFACE_ASOS_129_MI_2019-03_2019-03_2019.csv', '../../data/12.rawdata_weather/ASOS\\\\SURFACE_ASOS_129_MI_2019-04_2019-04_2019.csv', '../../data/12.rawdata_weather/ASOS\\\\SURFACE_ASOS_129_MI_2019-05_2019-05_2019.csv', '../../data/12.rawdata_weather/ASOS\\\\SURFACE_ASOS_129_MI_2019-06_2019-06_2019.csv', '../../data/12.rawdata_weather/ASOS\\\\SURFACE_ASOS_129_MI_2019-07_2019-07_2019.csv', '../../data/12.rawdata_weather/ASOS\\\\SURFACE_ASOS_129_MI_2019-08_2019-08_2019.csv', '../../data/12.rawdata_weather/ASOS\\\\SURFACE_ASOS_129_MI_2019-09_2019-09_2019.csv', '../../data/12.rawdata_weather/ASOS\\\\SURFACE_ASOS_129_MI_2019-10_2019-10_2019.csv', '../../data/12.rawdata_weather/ASOS\\\\SURFACE_ASOS_129_MI_2019-11_2019-11_2019.csv', '../../data/12.rawdata_weather/ASOS\\\\SURFACE_ASOS_129_MI_2019-12_2019-12_2020.csv', '../../data/12.rawdata_weather/ASOS\\\\SURFACE_ASOS_129_MI_2020-01_2020-01_2020.csv', '../../data/12.rawdata_weather/ASOS\\\\SURFACE_ASOS_129_MI_2020-02_2020-02_2020.csv', '../../data/12.rawdata_weather/ASOS\\\\SURFACE_ASOS_129_MI_2020-03_2020-03_2020.csv']\n"
     ]
    }
   ],
   "source": [
    "all_file_list = glob.glob(os.path.join(input_file, 'SURFACE_ASOS_129_MI_*'))\n",
    "print(all_file_list)"
   ]
  },
  {
   "cell_type": "code",
   "execution_count": 5,
   "metadata": {},
   "outputs": [],
   "source": [
    "all_data = []\n",
    "for file in all_file_list:\n",
    "    df = pd.read_csv(file, engine='python')\n",
    "    all_data.append(df)"
   ]
  },
  {
   "cell_type": "markdown",
   "metadata": {},
   "source": [
    "# concat"
   ]
  },
  {
   "cell_type": "code",
   "execution_count": 40,
   "metadata": {},
   "outputs": [
    {
     "data": {
      "text/html": [
       "<div>\n",
       "<style scoped>\n",
       "    .dataframe tbody tr th:only-of-type {\n",
       "        vertical-align: middle;\n",
       "    }\n",
       "\n",
       "    .dataframe tbody tr th {\n",
       "        vertical-align: top;\n",
       "    }\n",
       "\n",
       "    .dataframe thead th {\n",
       "        text-align: right;\n",
       "    }\n",
       "</style>\n",
       "<table border=\"1\" class=\"dataframe\">\n",
       "  <thead>\n",
       "    <tr style=\"text-align: right;\">\n",
       "      <th></th>\n",
       "      <th>지점</th>\n",
       "      <th>시간</th>\n",
       "      <th>기온(°C)</th>\n",
       "      <th>누적강수량(mm)</th>\n",
       "      <th>풍향(deg)</th>\n",
       "      <th>풍속(m/s)</th>\n",
       "      <th>현지기압(hPa)</th>\n",
       "      <th>해면기압(hPa)</th>\n",
       "      <th>습도(%)</th>\n",
       "      <th>일사(MJ/m^2)</th>\n",
       "      <th>일조(Sec)</th>\n",
       "      <th>일시</th>\n",
       "    </tr>\n",
       "  </thead>\n",
       "  <tbody>\n",
       "    <tr>\n",
       "      <th>0</th>\n",
       "      <td>129</td>\n",
       "      <td>2016-04-01 00:01</td>\n",
       "      <td>8.9</td>\n",
       "      <td>0.0</td>\n",
       "      <td>50.1</td>\n",
       "      <td>1.5</td>\n",
       "      <td>1012.1</td>\n",
       "      <td>1015.6</td>\n",
       "      <td>40.9</td>\n",
       "      <td>0.0</td>\n",
       "      <td>0.0</td>\n",
       "      <td>NaN</td>\n",
       "    </tr>\n",
       "    <tr>\n",
       "      <th>1</th>\n",
       "      <td>129</td>\n",
       "      <td>2016-04-01 00:02</td>\n",
       "      <td>8.9</td>\n",
       "      <td>0.0</td>\n",
       "      <td>50.9</td>\n",
       "      <td>1.4</td>\n",
       "      <td>1012.1</td>\n",
       "      <td>1015.6</td>\n",
       "      <td>41.1</td>\n",
       "      <td>0.0</td>\n",
       "      <td>0.0</td>\n",
       "      <td>NaN</td>\n",
       "    </tr>\n",
       "    <tr>\n",
       "      <th>2</th>\n",
       "      <td>129</td>\n",
       "      <td>2016-04-01 00:03</td>\n",
       "      <td>8.8</td>\n",
       "      <td>0.0</td>\n",
       "      <td>51.9</td>\n",
       "      <td>1.4</td>\n",
       "      <td>1012.1</td>\n",
       "      <td>1015.6</td>\n",
       "      <td>41.2</td>\n",
       "      <td>0.0</td>\n",
       "      <td>0.0</td>\n",
       "      <td>NaN</td>\n",
       "    </tr>\n",
       "    <tr>\n",
       "      <th>3</th>\n",
       "      <td>129</td>\n",
       "      <td>2016-04-01 00:04</td>\n",
       "      <td>8.8</td>\n",
       "      <td>0.0</td>\n",
       "      <td>53.1</td>\n",
       "      <td>1.4</td>\n",
       "      <td>1012.0</td>\n",
       "      <td>1015.5</td>\n",
       "      <td>41.6</td>\n",
       "      <td>0.0</td>\n",
       "      <td>0.0</td>\n",
       "      <td>NaN</td>\n",
       "    </tr>\n",
       "    <tr>\n",
       "      <th>4</th>\n",
       "      <td>129</td>\n",
       "      <td>2016-04-01 00:05</td>\n",
       "      <td>8.9</td>\n",
       "      <td>0.0</td>\n",
       "      <td>53.0</td>\n",
       "      <td>1.3</td>\n",
       "      <td>1012.0</td>\n",
       "      <td>1015.5</td>\n",
       "      <td>41.6</td>\n",
       "      <td>0.0</td>\n",
       "      <td>0.0</td>\n",
       "      <td>NaN</td>\n",
       "    </tr>\n",
       "  </tbody>\n",
       "</table>\n",
       "</div>"
      ],
      "text/plain": [
       "    지점                시간  기온(°C)  누적강수량(mm)  풍향(deg)  풍속(m/s)  현지기압(hPa)  \\\n",
       "0  129  2016-04-01 00:01     8.9        0.0     50.1      1.5     1012.1   \n",
       "1  129  2016-04-01 00:02     8.9        0.0     50.9      1.4     1012.1   \n",
       "2  129  2016-04-01 00:03     8.8        0.0     51.9      1.4     1012.1   \n",
       "3  129  2016-04-01 00:04     8.8        0.0     53.1      1.4     1012.0   \n",
       "4  129  2016-04-01 00:05     8.9        0.0     53.0      1.3     1012.0   \n",
       "\n",
       "   해면기압(hPa)  습도(%)  일사(MJ/m^2)  일조(Sec)   일시  \n",
       "0     1015.6   40.9         0.0      0.0  NaN  \n",
       "1     1015.6   41.1         0.0      0.0  NaN  \n",
       "2     1015.6   41.2         0.0      0.0  NaN  \n",
       "3     1015.5   41.6         0.0      0.0  NaN  \n",
       "4     1015.5   41.6         0.0      0.0  NaN  "
      ]
     },
     "execution_count": 40,
     "metadata": {},
     "output_type": "execute_result"
    }
   ],
   "source": [
    "df_concat = pd.concat(all_data, ignore_index=True)\n",
    "df_concat.head()"
   ]
  },
  {
   "cell_type": "code",
   "execution_count": 41,
   "metadata": {},
   "outputs": [
    {
     "data": {
      "text/plain": [
       "(2056302, 12)"
      ]
     },
     "execution_count": 41,
     "metadata": {},
     "output_type": "execute_result"
    }
   ],
   "source": [
    "df_concat.shape"
   ]
  },
  {
   "cell_type": "code",
   "execution_count": 42,
   "metadata": {
    "scrolled": true
   },
   "outputs": [
    {
     "data": {
      "text/html": [
       "<div>\n",
       "<style scoped>\n",
       "    .dataframe tbody tr th:only-of-type {\n",
       "        vertical-align: middle;\n",
       "    }\n",
       "\n",
       "    .dataframe tbody tr th {\n",
       "        vertical-align: top;\n",
       "    }\n",
       "\n",
       "    .dataframe thead th {\n",
       "        text-align: right;\n",
       "    }\n",
       "</style>\n",
       "<table border=\"1\" class=\"dataframe\">\n",
       "  <thead>\n",
       "    <tr style=\"text-align: right;\">\n",
       "      <th></th>\n",
       "      <th>지점</th>\n",
       "      <th>시간</th>\n",
       "      <th>기온(°C)</th>\n",
       "      <th>누적강수량(mm)</th>\n",
       "      <th>풍향(deg)</th>\n",
       "      <th>풍속(m/s)</th>\n",
       "      <th>현지기압(hPa)</th>\n",
       "      <th>해면기압(hPa)</th>\n",
       "      <th>습도(%)</th>\n",
       "      <th>일사(MJ/m^2)</th>\n",
       "      <th>일조(Sec)</th>\n",
       "      <th>일시</th>\n",
       "    </tr>\n",
       "  </thead>\n",
       "  <tbody>\n",
       "    <tr>\n",
       "      <th>2056297</th>\n",
       "      <td>129</td>\n",
       "      <td>NaN</td>\n",
       "      <td>8.5</td>\n",
       "      <td>0.0</td>\n",
       "      <td>35.2</td>\n",
       "      <td>1.2</td>\n",
       "      <td>1012.8</td>\n",
       "      <td>1015.9</td>\n",
       "      <td>51.2</td>\n",
       "      <td>22.01</td>\n",
       "      <td>34800.0</td>\n",
       "      <td>2020-03-31 23:56</td>\n",
       "    </tr>\n",
       "    <tr>\n",
       "      <th>2056298</th>\n",
       "      <td>129</td>\n",
       "      <td>NaN</td>\n",
       "      <td>8.5</td>\n",
       "      <td>0.0</td>\n",
       "      <td>52.8</td>\n",
       "      <td>1.8</td>\n",
       "      <td>1012.7</td>\n",
       "      <td>1015.8</td>\n",
       "      <td>51.4</td>\n",
       "      <td>22.01</td>\n",
       "      <td>34800.0</td>\n",
       "      <td>2020-03-31 23:57</td>\n",
       "    </tr>\n",
       "    <tr>\n",
       "      <th>2056299</th>\n",
       "      <td>129</td>\n",
       "      <td>NaN</td>\n",
       "      <td>8.4</td>\n",
       "      <td>0.0</td>\n",
       "      <td>61.3</td>\n",
       "      <td>0.9</td>\n",
       "      <td>1012.7</td>\n",
       "      <td>1015.8</td>\n",
       "      <td>51.5</td>\n",
       "      <td>22.01</td>\n",
       "      <td>34800.0</td>\n",
       "      <td>2020-03-31 23:58</td>\n",
       "    </tr>\n",
       "    <tr>\n",
       "      <th>2056300</th>\n",
       "      <td>129</td>\n",
       "      <td>NaN</td>\n",
       "      <td>8.4</td>\n",
       "      <td>0.0</td>\n",
       "      <td>58.5</td>\n",
       "      <td>0.9</td>\n",
       "      <td>1012.7</td>\n",
       "      <td>1015.8</td>\n",
       "      <td>51.5</td>\n",
       "      <td>22.01</td>\n",
       "      <td>34800.0</td>\n",
       "      <td>2020-03-31 23:59</td>\n",
       "    </tr>\n",
       "    <tr>\n",
       "      <th>2056301</th>\n",
       "      <td>129</td>\n",
       "      <td>NaN</td>\n",
       "      <td>8.4</td>\n",
       "      <td>0.0</td>\n",
       "      <td>45.4</td>\n",
       "      <td>0.8</td>\n",
       "      <td>1012.7</td>\n",
       "      <td>1015.8</td>\n",
       "      <td>52.0</td>\n",
       "      <td>22.01</td>\n",
       "      <td>34800.0</td>\n",
       "      <td>2020-04-01 00:00</td>\n",
       "    </tr>\n",
       "  </tbody>\n",
       "</table>\n",
       "</div>"
      ],
      "text/plain": [
       "          지점   시간  기온(°C)  누적강수량(mm)  풍향(deg)  풍속(m/s)  현지기압(hPa)  해면기압(hPa)  \\\n",
       "2056297  129  NaN     8.5        0.0     35.2      1.2     1012.8     1015.9   \n",
       "2056298  129  NaN     8.5        0.0     52.8      1.8     1012.7     1015.8   \n",
       "2056299  129  NaN     8.4        0.0     61.3      0.9     1012.7     1015.8   \n",
       "2056300  129  NaN     8.4        0.0     58.5      0.9     1012.7     1015.8   \n",
       "2056301  129  NaN     8.4        0.0     45.4      0.8     1012.7     1015.8   \n",
       "\n",
       "         습도(%)  일사(MJ/m^2)  일조(Sec)                일시  \n",
       "2056297   51.2       22.01  34800.0  2020-03-31 23:56  \n",
       "2056298   51.4       22.01  34800.0  2020-03-31 23:57  \n",
       "2056299   51.5       22.01  34800.0  2020-03-31 23:58  \n",
       "2056300   51.5       22.01  34800.0  2020-03-31 23:59  \n",
       "2056301   52.0       22.01  34800.0  2020-04-01 00:00  "
      ]
     },
     "execution_count": 42,
     "metadata": {},
     "output_type": "execute_result"
    }
   ],
   "source": [
    "df_concat.tail()"
   ]
  },
  {
   "cell_type": "markdown",
   "metadata": {},
   "source": [
    "# 컬럼 정리"
   ]
  },
  {
   "cell_type": "code",
   "execution_count": 43,
   "metadata": {},
   "outputs": [],
   "source": [
    "df_concat.columns = ['지점', '시간', 'ASOS_TEMP', 'ASOS_RAIN_CUM', 'ASOS_WIND_DIR', 'ASOS_WIND_SPD', 'ASOS_PRESS', 'ASOS_SEA_PRESS',\n",
    "       'ASOS_HUMID', 'ASOS_SOLAR_RAD', 'ASOS_SUNSHINE', 'MEA_DDHR']"
   ]
  },
  {
   "cell_type": "code",
   "execution_count": 44,
   "metadata": {},
   "outputs": [
    {
     "data": {
      "text/html": [
       "<div>\n",
       "<style scoped>\n",
       "    .dataframe tbody tr th:only-of-type {\n",
       "        vertical-align: middle;\n",
       "    }\n",
       "\n",
       "    .dataframe tbody tr th {\n",
       "        vertical-align: top;\n",
       "    }\n",
       "\n",
       "    .dataframe thead th {\n",
       "        text-align: right;\n",
       "    }\n",
       "</style>\n",
       "<table border=\"1\" class=\"dataframe\">\n",
       "  <thead>\n",
       "    <tr style=\"text-align: right;\">\n",
       "      <th></th>\n",
       "      <th>지점</th>\n",
       "      <th>시간</th>\n",
       "      <th>ASOS_TEMP</th>\n",
       "      <th>ASOS_RAIN_CUM</th>\n",
       "      <th>ASOS_WIND_DIR</th>\n",
       "      <th>ASOS_WIND_SPD</th>\n",
       "      <th>ASOS_PRESS</th>\n",
       "      <th>ASOS_SEA_PRESS</th>\n",
       "      <th>ASOS_HUMID</th>\n",
       "      <th>ASOS_SOLAR_RAD</th>\n",
       "      <th>ASOS_SUNSHINE</th>\n",
       "      <th>MEA_DDHR</th>\n",
       "    </tr>\n",
       "  </thead>\n",
       "  <tbody>\n",
       "    <tr>\n",
       "      <th>0</th>\n",
       "      <td>129</td>\n",
       "      <td>2016-04-01 00:01</td>\n",
       "      <td>8.9</td>\n",
       "      <td>0.0</td>\n",
       "      <td>50.1</td>\n",
       "      <td>1.5</td>\n",
       "      <td>1012.1</td>\n",
       "      <td>1015.6</td>\n",
       "      <td>40.9</td>\n",
       "      <td>0.0</td>\n",
       "      <td>0.0</td>\n",
       "      <td>NaN</td>\n",
       "    </tr>\n",
       "    <tr>\n",
       "      <th>1</th>\n",
       "      <td>129</td>\n",
       "      <td>2016-04-01 00:02</td>\n",
       "      <td>8.9</td>\n",
       "      <td>0.0</td>\n",
       "      <td>50.9</td>\n",
       "      <td>1.4</td>\n",
       "      <td>1012.1</td>\n",
       "      <td>1015.6</td>\n",
       "      <td>41.1</td>\n",
       "      <td>0.0</td>\n",
       "      <td>0.0</td>\n",
       "      <td>NaN</td>\n",
       "    </tr>\n",
       "    <tr>\n",
       "      <th>2</th>\n",
       "      <td>129</td>\n",
       "      <td>2016-04-01 00:03</td>\n",
       "      <td>8.8</td>\n",
       "      <td>0.0</td>\n",
       "      <td>51.9</td>\n",
       "      <td>1.4</td>\n",
       "      <td>1012.1</td>\n",
       "      <td>1015.6</td>\n",
       "      <td>41.2</td>\n",
       "      <td>0.0</td>\n",
       "      <td>0.0</td>\n",
       "      <td>NaN</td>\n",
       "    </tr>\n",
       "    <tr>\n",
       "      <th>3</th>\n",
       "      <td>129</td>\n",
       "      <td>2016-04-01 00:04</td>\n",
       "      <td>8.8</td>\n",
       "      <td>0.0</td>\n",
       "      <td>53.1</td>\n",
       "      <td>1.4</td>\n",
       "      <td>1012.0</td>\n",
       "      <td>1015.5</td>\n",
       "      <td>41.6</td>\n",
       "      <td>0.0</td>\n",
       "      <td>0.0</td>\n",
       "      <td>NaN</td>\n",
       "    </tr>\n",
       "    <tr>\n",
       "      <th>4</th>\n",
       "      <td>129</td>\n",
       "      <td>2016-04-01 00:05</td>\n",
       "      <td>8.9</td>\n",
       "      <td>0.0</td>\n",
       "      <td>53.0</td>\n",
       "      <td>1.3</td>\n",
       "      <td>1012.0</td>\n",
       "      <td>1015.5</td>\n",
       "      <td>41.6</td>\n",
       "      <td>0.0</td>\n",
       "      <td>0.0</td>\n",
       "      <td>NaN</td>\n",
       "    </tr>\n",
       "  </tbody>\n",
       "</table>\n",
       "</div>"
      ],
      "text/plain": [
       "    지점                시간  ASOS_TEMP  ASOS_RAIN_CUM  ASOS_WIND_DIR  \\\n",
       "0  129  2016-04-01 00:01        8.9            0.0           50.1   \n",
       "1  129  2016-04-01 00:02        8.9            0.0           50.9   \n",
       "2  129  2016-04-01 00:03        8.8            0.0           51.9   \n",
       "3  129  2016-04-01 00:04        8.8            0.0           53.1   \n",
       "4  129  2016-04-01 00:05        8.9            0.0           53.0   \n",
       "\n",
       "   ASOS_WIND_SPD  ASOS_PRESS  ASOS_SEA_PRESS  ASOS_HUMID  ASOS_SOLAR_RAD  \\\n",
       "0            1.5      1012.1          1015.6        40.9             0.0   \n",
       "1            1.4      1012.1          1015.6        41.1             0.0   \n",
       "2            1.4      1012.1          1015.6        41.2             0.0   \n",
       "3            1.4      1012.0          1015.5        41.6             0.0   \n",
       "4            1.3      1012.0          1015.5        41.6             0.0   \n",
       "\n",
       "   ASOS_SUNSHINE MEA_DDHR  \n",
       "0            0.0      NaN  \n",
       "1            0.0      NaN  \n",
       "2            0.0      NaN  \n",
       "3            0.0      NaN  \n",
       "4            0.0      NaN  "
      ]
     },
     "execution_count": 44,
     "metadata": {},
     "output_type": "execute_result"
    }
   ],
   "source": [
    "df_concat.head()"
   ]
  },
  {
   "cell_type": "code",
   "execution_count": 45,
   "metadata": {
    "scrolled": true
   },
   "outputs": [
    {
     "data": {
      "text/plain": [
       "지점                      0\n",
       "시간                1836557\n",
       "ASOS_TEMP             960\n",
       "ASOS_RAIN_CUM       56196\n",
       "ASOS_WIND_DIR        1392\n",
       "ASOS_WIND_SPD        1303\n",
       "ASOS_PRESS            746\n",
       "ASOS_SEA_PRESS        755\n",
       "ASOS_HUMID            468\n",
       "ASOS_SOLAR_RAD       5286\n",
       "ASOS_SUNSHINE        4864\n",
       "MEA_DDHR           219745\n",
       "dtype: int64"
      ]
     },
     "execution_count": 45,
     "metadata": {},
     "output_type": "execute_result"
    }
   ],
   "source": [
    "df_concat.isnull().sum()"
   ]
  },
  {
   "cell_type": "code",
   "execution_count": 46,
   "metadata": {},
   "outputs": [],
   "source": [
    "df_concat.loc[df_concat['MEA_DDHR'].isnull(), 'MEA_DDHR'] = df_concat.loc[df_concat['MEA_DDHR'].isnull(), '시간']"
   ]
  },
  {
   "cell_type": "code",
   "execution_count": 47,
   "metadata": {},
   "outputs": [],
   "source": [
    "del df_concat['시간']"
   ]
  },
  {
   "cell_type": "code",
   "execution_count": 48,
   "metadata": {},
   "outputs": [],
   "source": [
    "del df_concat['지점']"
   ]
  },
  {
   "cell_type": "code",
   "execution_count": 49,
   "metadata": {},
   "outputs": [
    {
     "data": {
      "text/plain": [
       "ASOS_TEMP           960\n",
       "ASOS_RAIN_CUM     56196\n",
       "ASOS_WIND_DIR      1392\n",
       "ASOS_WIND_SPD      1303\n",
       "ASOS_PRESS          746\n",
       "ASOS_SEA_PRESS      755\n",
       "ASOS_HUMID          468\n",
       "ASOS_SOLAR_RAD     5286\n",
       "ASOS_SUNSHINE      4864\n",
       "MEA_DDHR              0\n",
       "dtype: int64"
      ]
     },
     "execution_count": 49,
     "metadata": {},
     "output_type": "execute_result"
    }
   ],
   "source": [
    "df_concat.isnull().sum()"
   ]
  },
  {
   "cell_type": "code",
   "execution_count": 50,
   "metadata": {},
   "outputs": [
    {
     "data": {
      "text/plain": [
       "Index(['ASOS_TEMP', 'ASOS_RAIN_CUM', 'ASOS_WIND_DIR', 'ASOS_WIND_SPD',\n",
       "       'ASOS_PRESS', 'ASOS_SEA_PRESS', 'ASOS_HUMID', 'ASOS_SOLAR_RAD',\n",
       "       'ASOS_SUNSHINE', 'MEA_DDHR'],\n",
       "      dtype='object')"
      ]
     },
     "execution_count": 50,
     "metadata": {},
     "output_type": "execute_result"
    }
   ],
   "source": [
    "df_concat.columns"
   ]
  },
  {
   "cell_type": "code",
   "execution_count": 52,
   "metadata": {},
   "outputs": [
    {
     "data": {
      "text/html": [
       "<div>\n",
       "<style scoped>\n",
       "    .dataframe tbody tr th:only-of-type {\n",
       "        vertical-align: middle;\n",
       "    }\n",
       "\n",
       "    .dataframe tbody tr th {\n",
       "        vertical-align: top;\n",
       "    }\n",
       "\n",
       "    .dataframe thead th {\n",
       "        text-align: right;\n",
       "    }\n",
       "</style>\n",
       "<table border=\"1\" class=\"dataframe\">\n",
       "  <thead>\n",
       "    <tr style=\"text-align: right;\">\n",
       "      <th></th>\n",
       "      <th>MEA_DDHR</th>\n",
       "      <th>ASOS_TEMP</th>\n",
       "      <th>ASOS_RAIN_CUM</th>\n",
       "      <th>ASOS_WIND_DIR</th>\n",
       "      <th>ASOS_WIND_SPD</th>\n",
       "      <th>ASOS_PRESS</th>\n",
       "      <th>ASOS_SEA_PRESS</th>\n",
       "      <th>ASOS_HUMID</th>\n",
       "      <th>ASOS_SOLAR_RAD</th>\n",
       "      <th>ASOS_SUNSHINE</th>\n",
       "    </tr>\n",
       "  </thead>\n",
       "  <tbody>\n",
       "    <tr>\n",
       "      <th>0</th>\n",
       "      <td>2016-04-01 00:01</td>\n",
       "      <td>8.9</td>\n",
       "      <td>0.0</td>\n",
       "      <td>50.1</td>\n",
       "      <td>1.5</td>\n",
       "      <td>1012.1</td>\n",
       "      <td>1015.6</td>\n",
       "      <td>40.9</td>\n",
       "      <td>0.0</td>\n",
       "      <td>0.0</td>\n",
       "    </tr>\n",
       "    <tr>\n",
       "      <th>1</th>\n",
       "      <td>2016-04-01 00:02</td>\n",
       "      <td>8.9</td>\n",
       "      <td>0.0</td>\n",
       "      <td>50.9</td>\n",
       "      <td>1.4</td>\n",
       "      <td>1012.1</td>\n",
       "      <td>1015.6</td>\n",
       "      <td>41.1</td>\n",
       "      <td>0.0</td>\n",
       "      <td>0.0</td>\n",
       "    </tr>\n",
       "    <tr>\n",
       "      <th>2</th>\n",
       "      <td>2016-04-01 00:03</td>\n",
       "      <td>8.8</td>\n",
       "      <td>0.0</td>\n",
       "      <td>51.9</td>\n",
       "      <td>1.4</td>\n",
       "      <td>1012.1</td>\n",
       "      <td>1015.6</td>\n",
       "      <td>41.2</td>\n",
       "      <td>0.0</td>\n",
       "      <td>0.0</td>\n",
       "    </tr>\n",
       "    <tr>\n",
       "      <th>3</th>\n",
       "      <td>2016-04-01 00:04</td>\n",
       "      <td>8.8</td>\n",
       "      <td>0.0</td>\n",
       "      <td>53.1</td>\n",
       "      <td>1.4</td>\n",
       "      <td>1012.0</td>\n",
       "      <td>1015.5</td>\n",
       "      <td>41.6</td>\n",
       "      <td>0.0</td>\n",
       "      <td>0.0</td>\n",
       "    </tr>\n",
       "    <tr>\n",
       "      <th>4</th>\n",
       "      <td>2016-04-01 00:05</td>\n",
       "      <td>8.9</td>\n",
       "      <td>0.0</td>\n",
       "      <td>53.0</td>\n",
       "      <td>1.3</td>\n",
       "      <td>1012.0</td>\n",
       "      <td>1015.5</td>\n",
       "      <td>41.6</td>\n",
       "      <td>0.0</td>\n",
       "      <td>0.0</td>\n",
       "    </tr>\n",
       "  </tbody>\n",
       "</table>\n",
       "</div>"
      ],
      "text/plain": [
       "           MEA_DDHR  ASOS_TEMP  ASOS_RAIN_CUM  ASOS_WIND_DIR  ASOS_WIND_SPD  \\\n",
       "0  2016-04-01 00:01        8.9            0.0           50.1            1.5   \n",
       "1  2016-04-01 00:02        8.9            0.0           50.9            1.4   \n",
       "2  2016-04-01 00:03        8.8            0.0           51.9            1.4   \n",
       "3  2016-04-01 00:04        8.8            0.0           53.1            1.4   \n",
       "4  2016-04-01 00:05        8.9            0.0           53.0            1.3   \n",
       "\n",
       "   ASOS_PRESS  ASOS_SEA_PRESS  ASOS_HUMID  ASOS_SOLAR_RAD  ASOS_SUNSHINE  \n",
       "0      1012.1          1015.6        40.9             0.0            0.0  \n",
       "1      1012.1          1015.6        41.1             0.0            0.0  \n",
       "2      1012.1          1015.6        41.2             0.0            0.0  \n",
       "3      1012.0          1015.5        41.6             0.0            0.0  \n",
       "4      1012.0          1015.5        41.6             0.0            0.0  "
      ]
     },
     "execution_count": 52,
     "metadata": {},
     "output_type": "execute_result"
    }
   ],
   "source": [
    "df_concat = df_concat[['MEA_DDHR', 'ASOS_TEMP', 'ASOS_RAIN_CUM', 'ASOS_WIND_DIR', 'ASOS_WIND_SPD',\n",
    "       'ASOS_PRESS', 'ASOS_SEA_PRESS', 'ASOS_HUMID', 'ASOS_SOLAR_RAD',\n",
    "       'ASOS_SUNSHINE']].copy()\n",
    "df_concat.head()"
   ]
  },
  {
   "cell_type": "markdown",
   "metadata": {},
   "source": [
    "# 데이터타입 변환"
   ]
  },
  {
   "cell_type": "code",
   "execution_count": 53,
   "metadata": {
    "scrolled": false
   },
   "outputs": [
    {
     "data": {
      "text/plain": [
       "MEA_DDHR           object\n",
       "ASOS_TEMP         float64\n",
       "ASOS_RAIN_CUM     float64\n",
       "ASOS_WIND_DIR     float64\n",
       "ASOS_WIND_SPD     float64\n",
       "ASOS_PRESS        float64\n",
       "ASOS_SEA_PRESS    float64\n",
       "ASOS_HUMID        float64\n",
       "ASOS_SOLAR_RAD    float64\n",
       "ASOS_SUNSHINE     float64\n",
       "dtype: object"
      ]
     },
     "execution_count": 53,
     "metadata": {},
     "output_type": "execute_result"
    }
   ],
   "source": [
    "df_concat.dtypes"
   ]
  },
  {
   "cell_type": "code",
   "execution_count": 54,
   "metadata": {},
   "outputs": [
    {
     "data": {
      "text/html": [
       "<div>\n",
       "<style scoped>\n",
       "    .dataframe tbody tr th:only-of-type {\n",
       "        vertical-align: middle;\n",
       "    }\n",
       "\n",
       "    .dataframe tbody tr th {\n",
       "        vertical-align: top;\n",
       "    }\n",
       "\n",
       "    .dataframe thead th {\n",
       "        text-align: right;\n",
       "    }\n",
       "</style>\n",
       "<table border=\"1\" class=\"dataframe\">\n",
       "  <thead>\n",
       "    <tr style=\"text-align: right;\">\n",
       "      <th></th>\n",
       "      <th>MEA_DDHR</th>\n",
       "      <th>ASOS_TEMP</th>\n",
       "      <th>ASOS_RAIN_CUM</th>\n",
       "      <th>ASOS_WIND_DIR</th>\n",
       "      <th>ASOS_WIND_SPD</th>\n",
       "      <th>ASOS_PRESS</th>\n",
       "      <th>ASOS_SEA_PRESS</th>\n",
       "      <th>ASOS_HUMID</th>\n",
       "      <th>ASOS_SOLAR_RAD</th>\n",
       "      <th>ASOS_SUNSHINE</th>\n",
       "    </tr>\n",
       "  </thead>\n",
       "  <tbody>\n",
       "    <tr>\n",
       "      <th>0</th>\n",
       "      <td>2016-04-01 00:01:00</td>\n",
       "      <td>8.9</td>\n",
       "      <td>0.0</td>\n",
       "      <td>50.1</td>\n",
       "      <td>1.5</td>\n",
       "      <td>1012.1</td>\n",
       "      <td>1015.6</td>\n",
       "      <td>40.9</td>\n",
       "      <td>0.0</td>\n",
       "      <td>0.0</td>\n",
       "    </tr>\n",
       "    <tr>\n",
       "      <th>1</th>\n",
       "      <td>2016-04-01 00:02:00</td>\n",
       "      <td>8.9</td>\n",
       "      <td>0.0</td>\n",
       "      <td>50.9</td>\n",
       "      <td>1.4</td>\n",
       "      <td>1012.1</td>\n",
       "      <td>1015.6</td>\n",
       "      <td>41.1</td>\n",
       "      <td>0.0</td>\n",
       "      <td>0.0</td>\n",
       "    </tr>\n",
       "    <tr>\n",
       "      <th>2</th>\n",
       "      <td>2016-04-01 00:03:00</td>\n",
       "      <td>8.8</td>\n",
       "      <td>0.0</td>\n",
       "      <td>51.9</td>\n",
       "      <td>1.4</td>\n",
       "      <td>1012.1</td>\n",
       "      <td>1015.6</td>\n",
       "      <td>41.2</td>\n",
       "      <td>0.0</td>\n",
       "      <td>0.0</td>\n",
       "    </tr>\n",
       "    <tr>\n",
       "      <th>3</th>\n",
       "      <td>2016-04-01 00:04:00</td>\n",
       "      <td>8.8</td>\n",
       "      <td>0.0</td>\n",
       "      <td>53.1</td>\n",
       "      <td>1.4</td>\n",
       "      <td>1012.0</td>\n",
       "      <td>1015.5</td>\n",
       "      <td>41.6</td>\n",
       "      <td>0.0</td>\n",
       "      <td>0.0</td>\n",
       "    </tr>\n",
       "    <tr>\n",
       "      <th>4</th>\n",
       "      <td>2016-04-01 00:05:00</td>\n",
       "      <td>8.9</td>\n",
       "      <td>0.0</td>\n",
       "      <td>53.0</td>\n",
       "      <td>1.3</td>\n",
       "      <td>1012.0</td>\n",
       "      <td>1015.5</td>\n",
       "      <td>41.6</td>\n",
       "      <td>0.0</td>\n",
       "      <td>0.0</td>\n",
       "    </tr>\n",
       "  </tbody>\n",
       "</table>\n",
       "</div>"
      ],
      "text/plain": [
       "             MEA_DDHR  ASOS_TEMP  ASOS_RAIN_CUM  ASOS_WIND_DIR  ASOS_WIND_SPD  \\\n",
       "0 2016-04-01 00:01:00        8.9            0.0           50.1            1.5   \n",
       "1 2016-04-01 00:02:00        8.9            0.0           50.9            1.4   \n",
       "2 2016-04-01 00:03:00        8.8            0.0           51.9            1.4   \n",
       "3 2016-04-01 00:04:00        8.8            0.0           53.1            1.4   \n",
       "4 2016-04-01 00:05:00        8.9            0.0           53.0            1.3   \n",
       "\n",
       "   ASOS_PRESS  ASOS_SEA_PRESS  ASOS_HUMID  ASOS_SOLAR_RAD  ASOS_SUNSHINE  \n",
       "0      1012.1          1015.6        40.9             0.0            0.0  \n",
       "1      1012.1          1015.6        41.1             0.0            0.0  \n",
       "2      1012.1          1015.6        41.2             0.0            0.0  \n",
       "3      1012.0          1015.5        41.6             0.0            0.0  \n",
       "4      1012.0          1015.5        41.6             0.0            0.0  "
      ]
     },
     "execution_count": 54,
     "metadata": {},
     "output_type": "execute_result"
    }
   ],
   "source": [
    "df_concat['MEA_DDHR'] = pd.to_datetime(df_concat['MEA_DDHR'])\n",
    "df_concat.head()"
   ]
  },
  {
   "cell_type": "markdown",
   "metadata": {},
   "source": [
    "# 정렬"
   ]
  },
  {
   "cell_type": "code",
   "execution_count": 55,
   "metadata": {},
   "outputs": [],
   "source": [
    "def sort_by(data):\n",
    "    data = data.sort_values(by='MEA_DDHR')\n",
    "    data = data.reset_index()\n",
    "    del data['index']\n",
    "    \n",
    "    return data"
   ]
  },
  {
   "cell_type": "code",
   "execution_count": 56,
   "metadata": {},
   "outputs": [
    {
     "data": {
      "text/html": [
       "<div>\n",
       "<style scoped>\n",
       "    .dataframe tbody tr th:only-of-type {\n",
       "        vertical-align: middle;\n",
       "    }\n",
       "\n",
       "    .dataframe tbody tr th {\n",
       "        vertical-align: top;\n",
       "    }\n",
       "\n",
       "    .dataframe thead th {\n",
       "        text-align: right;\n",
       "    }\n",
       "</style>\n",
       "<table border=\"1\" class=\"dataframe\">\n",
       "  <thead>\n",
       "    <tr style=\"text-align: right;\">\n",
       "      <th></th>\n",
       "      <th>MEA_DDHR</th>\n",
       "      <th>ASOS_TEMP</th>\n",
       "      <th>ASOS_RAIN_CUM</th>\n",
       "      <th>ASOS_WIND_DIR</th>\n",
       "      <th>ASOS_WIND_SPD</th>\n",
       "      <th>ASOS_PRESS</th>\n",
       "      <th>ASOS_SEA_PRESS</th>\n",
       "      <th>ASOS_HUMID</th>\n",
       "      <th>ASOS_SOLAR_RAD</th>\n",
       "      <th>ASOS_SUNSHINE</th>\n",
       "    </tr>\n",
       "  </thead>\n",
       "  <tbody>\n",
       "    <tr>\n",
       "      <th>2056297</th>\n",
       "      <td>2020-03-31 23:56:00</td>\n",
       "      <td>8.5</td>\n",
       "      <td>0.0</td>\n",
       "      <td>35.2</td>\n",
       "      <td>1.2</td>\n",
       "      <td>1012.8</td>\n",
       "      <td>1015.9</td>\n",
       "      <td>51.2</td>\n",
       "      <td>22.01</td>\n",
       "      <td>34800.0</td>\n",
       "    </tr>\n",
       "    <tr>\n",
       "      <th>2056298</th>\n",
       "      <td>2020-03-31 23:57:00</td>\n",
       "      <td>8.5</td>\n",
       "      <td>0.0</td>\n",
       "      <td>52.8</td>\n",
       "      <td>1.8</td>\n",
       "      <td>1012.7</td>\n",
       "      <td>1015.8</td>\n",
       "      <td>51.4</td>\n",
       "      <td>22.01</td>\n",
       "      <td>34800.0</td>\n",
       "    </tr>\n",
       "    <tr>\n",
       "      <th>2056299</th>\n",
       "      <td>2020-03-31 23:58:00</td>\n",
       "      <td>8.4</td>\n",
       "      <td>0.0</td>\n",
       "      <td>61.3</td>\n",
       "      <td>0.9</td>\n",
       "      <td>1012.7</td>\n",
       "      <td>1015.8</td>\n",
       "      <td>51.5</td>\n",
       "      <td>22.01</td>\n",
       "      <td>34800.0</td>\n",
       "    </tr>\n",
       "    <tr>\n",
       "      <th>2056300</th>\n",
       "      <td>2020-03-31 23:59:00</td>\n",
       "      <td>8.4</td>\n",
       "      <td>0.0</td>\n",
       "      <td>58.5</td>\n",
       "      <td>0.9</td>\n",
       "      <td>1012.7</td>\n",
       "      <td>1015.8</td>\n",
       "      <td>51.5</td>\n",
       "      <td>22.01</td>\n",
       "      <td>34800.0</td>\n",
       "    </tr>\n",
       "    <tr>\n",
       "      <th>2056301</th>\n",
       "      <td>2020-04-01 00:00:00</td>\n",
       "      <td>8.4</td>\n",
       "      <td>0.0</td>\n",
       "      <td>45.4</td>\n",
       "      <td>0.8</td>\n",
       "      <td>1012.7</td>\n",
       "      <td>1015.8</td>\n",
       "      <td>52.0</td>\n",
       "      <td>22.01</td>\n",
       "      <td>34800.0</td>\n",
       "    </tr>\n",
       "  </tbody>\n",
       "</table>\n",
       "</div>"
      ],
      "text/plain": [
       "                   MEA_DDHR  ASOS_TEMP  ASOS_RAIN_CUM  ASOS_WIND_DIR  \\\n",
       "2056297 2020-03-31 23:56:00        8.5            0.0           35.2   \n",
       "2056298 2020-03-31 23:57:00        8.5            0.0           52.8   \n",
       "2056299 2020-03-31 23:58:00        8.4            0.0           61.3   \n",
       "2056300 2020-03-31 23:59:00        8.4            0.0           58.5   \n",
       "2056301 2020-04-01 00:00:00        8.4            0.0           45.4   \n",
       "\n",
       "         ASOS_WIND_SPD  ASOS_PRESS  ASOS_SEA_PRESS  ASOS_HUMID  \\\n",
       "2056297            1.2      1012.8          1015.9        51.2   \n",
       "2056298            1.8      1012.7          1015.8        51.4   \n",
       "2056299            0.9      1012.7          1015.8        51.5   \n",
       "2056300            0.9      1012.7          1015.8        51.5   \n",
       "2056301            0.8      1012.7          1015.8        52.0   \n",
       "\n",
       "         ASOS_SOLAR_RAD  ASOS_SUNSHINE  \n",
       "2056297           22.01        34800.0  \n",
       "2056298           22.01        34800.0  \n",
       "2056299           22.01        34800.0  \n",
       "2056300           22.01        34800.0  \n",
       "2056301           22.01        34800.0  "
      ]
     },
     "execution_count": 56,
     "metadata": {},
     "output_type": "execute_result"
    }
   ],
   "source": [
    "df_concat = sort_by(df_concat)\n",
    "df_concat.tail()"
   ]
  },
  {
   "cell_type": "code",
   "execution_count": 57,
   "metadata": {},
   "outputs": [
    {
     "data": {
      "text/html": [
       "<div>\n",
       "<style scoped>\n",
       "    .dataframe tbody tr th:only-of-type {\n",
       "        vertical-align: middle;\n",
       "    }\n",
       "\n",
       "    .dataframe tbody tr th {\n",
       "        vertical-align: top;\n",
       "    }\n",
       "\n",
       "    .dataframe thead th {\n",
       "        text-align: right;\n",
       "    }\n",
       "</style>\n",
       "<table border=\"1\" class=\"dataframe\">\n",
       "  <thead>\n",
       "    <tr style=\"text-align: right;\">\n",
       "      <th></th>\n",
       "      <th>MEA_DDHR</th>\n",
       "      <th>ASOS_TEMP</th>\n",
       "      <th>ASOS_RAIN_CUM</th>\n",
       "      <th>ASOS_WIND_DIR</th>\n",
       "      <th>ASOS_WIND_SPD</th>\n",
       "      <th>ASOS_PRESS</th>\n",
       "      <th>ASOS_SEA_PRESS</th>\n",
       "      <th>ASOS_HUMID</th>\n",
       "      <th>ASOS_SOLAR_RAD</th>\n",
       "      <th>ASOS_SUNSHINE</th>\n",
       "    </tr>\n",
       "  </thead>\n",
       "  <tbody>\n",
       "    <tr>\n",
       "      <th>0</th>\n",
       "      <td>2016-04-01 00:01:00</td>\n",
       "      <td>8.9</td>\n",
       "      <td>0.0</td>\n",
       "      <td>50.1</td>\n",
       "      <td>1.5</td>\n",
       "      <td>1012.1</td>\n",
       "      <td>1015.6</td>\n",
       "      <td>40.9</td>\n",
       "      <td>0.0</td>\n",
       "      <td>0.0</td>\n",
       "    </tr>\n",
       "    <tr>\n",
       "      <th>1</th>\n",
       "      <td>2016-04-01 00:02:00</td>\n",
       "      <td>8.9</td>\n",
       "      <td>0.0</td>\n",
       "      <td>50.9</td>\n",
       "      <td>1.4</td>\n",
       "      <td>1012.1</td>\n",
       "      <td>1015.6</td>\n",
       "      <td>41.1</td>\n",
       "      <td>0.0</td>\n",
       "      <td>0.0</td>\n",
       "    </tr>\n",
       "    <tr>\n",
       "      <th>2</th>\n",
       "      <td>2016-04-01 00:03:00</td>\n",
       "      <td>8.8</td>\n",
       "      <td>0.0</td>\n",
       "      <td>51.9</td>\n",
       "      <td>1.4</td>\n",
       "      <td>1012.1</td>\n",
       "      <td>1015.6</td>\n",
       "      <td>41.2</td>\n",
       "      <td>0.0</td>\n",
       "      <td>0.0</td>\n",
       "    </tr>\n",
       "    <tr>\n",
       "      <th>3</th>\n",
       "      <td>2016-04-01 00:04:00</td>\n",
       "      <td>8.8</td>\n",
       "      <td>0.0</td>\n",
       "      <td>53.1</td>\n",
       "      <td>1.4</td>\n",
       "      <td>1012.0</td>\n",
       "      <td>1015.5</td>\n",
       "      <td>41.6</td>\n",
       "      <td>0.0</td>\n",
       "      <td>0.0</td>\n",
       "    </tr>\n",
       "    <tr>\n",
       "      <th>4</th>\n",
       "      <td>2016-04-01 00:05:00</td>\n",
       "      <td>8.9</td>\n",
       "      <td>0.0</td>\n",
       "      <td>53.0</td>\n",
       "      <td>1.3</td>\n",
       "      <td>1012.0</td>\n",
       "      <td>1015.5</td>\n",
       "      <td>41.6</td>\n",
       "      <td>0.0</td>\n",
       "      <td>0.0</td>\n",
       "    </tr>\n",
       "  </tbody>\n",
       "</table>\n",
       "</div>"
      ],
      "text/plain": [
       "             MEA_DDHR  ASOS_TEMP  ASOS_RAIN_CUM  ASOS_WIND_DIR  ASOS_WIND_SPD  \\\n",
       "0 2016-04-01 00:01:00        8.9            0.0           50.1            1.5   \n",
       "1 2016-04-01 00:02:00        8.9            0.0           50.9            1.4   \n",
       "2 2016-04-01 00:03:00        8.8            0.0           51.9            1.4   \n",
       "3 2016-04-01 00:04:00        8.8            0.0           53.1            1.4   \n",
       "4 2016-04-01 00:05:00        8.9            0.0           53.0            1.3   \n",
       "\n",
       "   ASOS_PRESS  ASOS_SEA_PRESS  ASOS_HUMID  ASOS_SOLAR_RAD  ASOS_SUNSHINE  \n",
       "0      1012.1          1015.6        40.9             0.0            0.0  \n",
       "1      1012.1          1015.6        41.1             0.0            0.0  \n",
       "2      1012.1          1015.6        41.2             0.0            0.0  \n",
       "3      1012.0          1015.5        41.6             0.0            0.0  \n",
       "4      1012.0          1015.5        41.6             0.0            0.0  "
      ]
     },
     "execution_count": 57,
     "metadata": {},
     "output_type": "execute_result"
    }
   ],
   "source": [
    "df_concat.head()"
   ]
  },
  {
   "cell_type": "code",
   "execution_count": 58,
   "metadata": {},
   "outputs": [
    {
     "data": {
      "text/html": [
       "<div>\n",
       "<style scoped>\n",
       "    .dataframe tbody tr th:only-of-type {\n",
       "        vertical-align: middle;\n",
       "    }\n",
       "\n",
       "    .dataframe tbody tr th {\n",
       "        vertical-align: top;\n",
       "    }\n",
       "\n",
       "    .dataframe thead th {\n",
       "        text-align: right;\n",
       "    }\n",
       "</style>\n",
       "<table border=\"1\" class=\"dataframe\">\n",
       "  <thead>\n",
       "    <tr style=\"text-align: right;\">\n",
       "      <th></th>\n",
       "      <th>MEA_DDHR</th>\n",
       "      <th>ASOS_TEMP</th>\n",
       "      <th>ASOS_RAIN_CUM</th>\n",
       "      <th>ASOS_WIND_DIR</th>\n",
       "      <th>ASOS_WIND_SPD</th>\n",
       "      <th>ASOS_PRESS</th>\n",
       "      <th>ASOS_SEA_PRESS</th>\n",
       "      <th>ASOS_HUMID</th>\n",
       "      <th>ASOS_SOLAR_RAD</th>\n",
       "      <th>ASOS_SUNSHINE</th>\n",
       "    </tr>\n",
       "  </thead>\n",
       "  <tbody>\n",
       "    <tr>\n",
       "      <th>2056296</th>\n",
       "      <td>2020-03-31 23:55:00</td>\n",
       "      <td>8.6</td>\n",
       "      <td>0.0</td>\n",
       "      <td>40.7</td>\n",
       "      <td>0.9</td>\n",
       "      <td>1012.7</td>\n",
       "      <td>1015.8</td>\n",
       "      <td>49.9</td>\n",
       "      <td>22.01</td>\n",
       "      <td>34800.0</td>\n",
       "    </tr>\n",
       "    <tr>\n",
       "      <th>2056297</th>\n",
       "      <td>2020-03-31 23:56:00</td>\n",
       "      <td>8.5</td>\n",
       "      <td>0.0</td>\n",
       "      <td>35.2</td>\n",
       "      <td>1.2</td>\n",
       "      <td>1012.8</td>\n",
       "      <td>1015.9</td>\n",
       "      <td>51.2</td>\n",
       "      <td>22.01</td>\n",
       "      <td>34800.0</td>\n",
       "    </tr>\n",
       "    <tr>\n",
       "      <th>2056298</th>\n",
       "      <td>2020-03-31 23:57:00</td>\n",
       "      <td>8.5</td>\n",
       "      <td>0.0</td>\n",
       "      <td>52.8</td>\n",
       "      <td>1.8</td>\n",
       "      <td>1012.7</td>\n",
       "      <td>1015.8</td>\n",
       "      <td>51.4</td>\n",
       "      <td>22.01</td>\n",
       "      <td>34800.0</td>\n",
       "    </tr>\n",
       "    <tr>\n",
       "      <th>2056299</th>\n",
       "      <td>2020-03-31 23:58:00</td>\n",
       "      <td>8.4</td>\n",
       "      <td>0.0</td>\n",
       "      <td>61.3</td>\n",
       "      <td>0.9</td>\n",
       "      <td>1012.7</td>\n",
       "      <td>1015.8</td>\n",
       "      <td>51.5</td>\n",
       "      <td>22.01</td>\n",
       "      <td>34800.0</td>\n",
       "    </tr>\n",
       "    <tr>\n",
       "      <th>2056300</th>\n",
       "      <td>2020-03-31 23:59:00</td>\n",
       "      <td>8.4</td>\n",
       "      <td>0.0</td>\n",
       "      <td>58.5</td>\n",
       "      <td>0.9</td>\n",
       "      <td>1012.7</td>\n",
       "      <td>1015.8</td>\n",
       "      <td>51.5</td>\n",
       "      <td>22.01</td>\n",
       "      <td>34800.0</td>\n",
       "    </tr>\n",
       "  </tbody>\n",
       "</table>\n",
       "</div>"
      ],
      "text/plain": [
       "                   MEA_DDHR  ASOS_TEMP  ASOS_RAIN_CUM  ASOS_WIND_DIR  \\\n",
       "2056296 2020-03-31 23:55:00        8.6            0.0           40.7   \n",
       "2056297 2020-03-31 23:56:00        8.5            0.0           35.2   \n",
       "2056298 2020-03-31 23:57:00        8.5            0.0           52.8   \n",
       "2056299 2020-03-31 23:58:00        8.4            0.0           61.3   \n",
       "2056300 2020-03-31 23:59:00        8.4            0.0           58.5   \n",
       "\n",
       "         ASOS_WIND_SPD  ASOS_PRESS  ASOS_SEA_PRESS  ASOS_HUMID  \\\n",
       "2056296            0.9      1012.7          1015.8        49.9   \n",
       "2056297            1.2      1012.8          1015.9        51.2   \n",
       "2056298            1.8      1012.7          1015.8        51.4   \n",
       "2056299            0.9      1012.7          1015.8        51.5   \n",
       "2056300            0.9      1012.7          1015.8        51.5   \n",
       "\n",
       "         ASOS_SOLAR_RAD  ASOS_SUNSHINE  \n",
       "2056296           22.01        34800.0  \n",
       "2056297           22.01        34800.0  \n",
       "2056298           22.01        34800.0  \n",
       "2056299           22.01        34800.0  \n",
       "2056300           22.01        34800.0  "
      ]
     },
     "execution_count": 58,
     "metadata": {},
     "output_type": "execute_result"
    }
   ],
   "source": [
    "df_concat = df_concat.iloc[:-1, :]\n",
    "df_concat.tail()"
   ]
  },
  {
   "cell_type": "markdown",
   "metadata": {},
   "source": [
    "# 결측치 처리"
   ]
  },
  {
   "cell_type": "code",
   "execution_count": 59,
   "metadata": {},
   "outputs": [
    {
     "data": {
      "text/plain": [
       "MEA_DDHR              0\n",
       "ASOS_TEMP           960\n",
       "ASOS_RAIN_CUM     56196\n",
       "ASOS_WIND_DIR      1392\n",
       "ASOS_WIND_SPD      1303\n",
       "ASOS_PRESS          746\n",
       "ASOS_SEA_PRESS      755\n",
       "ASOS_HUMID          468\n",
       "ASOS_SOLAR_RAD     5286\n",
       "ASOS_SUNSHINE      4864\n",
       "dtype: int64"
      ]
     },
     "execution_count": 59,
     "metadata": {},
     "output_type": "execute_result"
    }
   ],
   "source": [
    "df_concat.isnull().sum()"
   ]
  },
  {
   "cell_type": "code",
   "execution_count": 60,
   "metadata": {},
   "outputs": [
    {
     "data": {
      "text/plain": [
       "<matplotlib.axes._subplots.AxesSubplot at 0x27aadd05ac8>"
      ]
     },
     "execution_count": 60,
     "metadata": {},
     "output_type": "execute_result"
    },
    {
     "data": {
      "image/png": "[encoded data removed]",
      "text/plain": [
       "<Figure size 1080x720 with 2 Axes>"
      ]
     },
     "metadata": {
      "needs_background": "light"
     },
     "output_type": "display_data"
    }
   ],
   "source": [
    "plt.figure(figsize=(15,10))\n",
    "sns.heatmap(df_concat.isnull(), cmap=\"Greys\")"
   ]
  },
  {
   "cell_type": "code",
   "execution_count": 61,
   "metadata": {},
   "outputs": [
    {
     "data": {
      "text/plain": [
       "MEA_DDHR          0\n",
       "ASOS_TEMP         0\n",
       "ASOS_RAIN_CUM     0\n",
       "ASOS_WIND_DIR     0\n",
       "ASOS_WIND_SPD     0\n",
       "ASOS_PRESS        0\n",
       "ASOS_SEA_PRESS    0\n",
       "ASOS_HUMID        0\n",
       "ASOS_SOLAR_RAD    0\n",
       "ASOS_SUNSHINE     0\n",
       "dtype: int64"
      ]
     },
     "execution_count": 61,
     "metadata": {},
     "output_type": "execute_result"
    }
   ],
   "source": [
    "df_concat = df_concat.fillna(method='ffill')\n",
    "df_concat.isnull().sum()"
   ]
  },
  {
   "cell_type": "code",
   "execution_count": 62,
   "metadata": {},
   "outputs": [],
   "source": [
    "df_concat.to_csv(output_file, encoding='utf-8', index=False)"
   ]
  },
  {
   "cell_type": "code",
   "execution_count": 63,
   "metadata": {},
   "outputs": [
    {
     "data": {
      "text/plain": [
       "(2056301, 10)"
      ]
     },
     "execution_count": 63,
     "metadata": {},
     "output_type": "execute_result"
    }
   ],
   "source": [
    "asos_merge = pd.read_csv('../../data/22.savedata_weather/ASOS_merge.csv')\n",
    "asos_merge.shape"
   ]
  },
  {
   "cell_type": "code",
   "execution_count": null,
   "metadata": {},
   "outputs": [],
   "source": []
  }
 ],
 "metadata": {
  "kernelspec": {
   "display_name": "Python 3",
   "language": "python",
   "name": "python3"
  },
  "language_info": {
   "codemirror_mode": {
    "name": "ipython",
    "version": 3
   },
   "file_extension": ".py",
   "mimetype": "text/x-python",
   "name": "python",
   "nbconvert_exporter": "python",
   "pygments_lexer": "ipython3",
   "version": "3.7.6"
  },
  "toc": {
   "base_numbering": 1,
   "nav_menu": {},
   "number_sections": true,
   "sideBar": true,
   "skip_h1_title": false,
   "title_cell": "Table of Contents",
   "title_sidebar": "Contents",
   "toc_cell": false,
   "toc_position": {},
   "toc_section_display": true,
   "toc_window_display": true
  },
  "varInspector": {
   "cols": {
    "lenName": 16,
    "lenType": 16,
    "lenVar": 40
   },
   "kernels_config": {
    "python": {
     "delete_cmd_postfix": "",
     "delete_cmd_prefix": "del ",
     "library": "var_list.py",
     "varRefreshCmd": "print(var_dic_list())"
    },
    "r": {
     "delete_cmd_postfix": ") ",
     "delete_cmd_prefix": "rm(",
     "library": "var_list.r",
     "varRefreshCmd": "cat(var_dic_list()) "
    }
   },
   "position": {
    "height": "199px",
    "left": "1550px",
    "right": "20px",
    "top": "120px",
    "width": "350px"
   },
   "types_to_exclude": [
    "module",
    "function",
    "builtin_function_or_method",
    "instance",
    "_Feature"
   ],
   "window_display": true
  }
 },
 "nbformat": 4,
 "nbformat_minor": 4
}
