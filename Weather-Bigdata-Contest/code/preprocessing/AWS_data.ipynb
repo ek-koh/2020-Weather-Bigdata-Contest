{
 "cells": [
  {
   "cell_type": "markdown",
   "metadata": {},
   "source": [
    "# Preview"
   ]
  },
  {
   "cell_type": "markdown",
   "metadata": {},
   "source": [
    "## 전처리 대상 데이터"
   ]
  },
  {
   "cell_type": "markdown",
   "metadata": {},
   "source": [
    "- aws_cloud(구름)\n",
    "- aws_icsr_ss(일사/일조)\n",
    "- aws_lwt_tg(초상온도)\n",
    "    - <사용불가>\n",
    "- aws_prsr(기압)\n",
    "- aws_rhm(상대습도)\n",
    "- aws_rn(강수)\n",
    "- aws_ta(기온)\n",
    "- aws_ts(지면온도)\n",
    "    - <사용불가>\n",
    "- aws_wind(바람)"
   ]
  },
  {
   "cell_type": "markdown",
   "metadata": {},
   "source": [
    "## 최종 데이터\n",
    "**저장형태**: `aws_0000_save.csv`\n",
    "- aws_cloud(구름)\n",
    "- aws_icsr_ss(일사/일조)\n",
    "- aws_prsr(기압)\n",
    "    - 일부 관측지점 데이터(637)만 선택\n",
    "- aws_rhm(상대습도)\n",
    "    - 일부 관측지점 데이터(637 제외)만 선택\n",
    "- aws_rn(강수)\n",
    "- aws_ta(기온)\n",
    "- aws_wind(바람)"
   ]
  },
  {
   "cell_type": "markdown",
   "metadata": {},
   "source": [
    "## 활용 함수"
   ]
  },
  {
   "cell_type": "markdown",
   "metadata": {},
   "source": [
    "### drop_cols : 컬럼 정리에 활용"
   ]
  },
  {
   "cell_type": "code",
   "execution_count": 29,
   "metadata": {},
   "outputs": [],
   "source": [
    "def drop_cols(data):\n",
    "    drop_cols = data.columns[data.columns.str.contains('qcflg|crob|yn|dtnb')]\n",
    "    data = data.drop(columns=drop_cols)\n",
    "    data = data.drop(columns=['Unnamed: 0', 'orgn_stn_id'])\n",
    "    return data"
   ]
  },
  {
   "cell_type": "markdown",
   "metadata": {},
   "source": [
    "### sort_by : 날짜별, stn_id별 정렬"
   ]
  },
  {
   "cell_type": "code",
   "execution_count": 30,
   "metadata": {},
   "outputs": [],
   "source": [
    "def sort_by(data, colname = ['tma', 'stn_id']):\n",
    "    data = data.sort_values(by=colname)\n",
    "    data = data.reset_index()\n",
    "    del data['index']\n",
    "    \n",
    "    return data"
   ]
  },
  {
   "cell_type": "markdown",
   "metadata": {},
   "source": [
    "### multi_distplot : 결측치 & 이상치 확인에 활용"
   ]
  },
  {
   "cell_type": "code",
   "execution_count": 31,
   "metadata": {},
   "outputs": [],
   "source": [
    "def multi_distplot(data):\n",
    "    \n",
    "    col_n = data.shape[1] - 2\n",
    "    plt.figure(figsize=(15,20))\n",
    "\n",
    "    for i in range(col_n):\n",
    "        plt.subplot(6, 4, i+1)\n",
    "        sns.distplot(data.iloc[:,i+2], kde=False)"
   ]
  },
  {
   "cell_type": "markdown",
   "metadata": {},
   "source": [
    "# aws_cloud"
   ]
  },
  {
   "cell_type": "markdown",
   "metadata": {},
   "source": [
    "## 데이터 확인"
   ]
  },
  {
   "cell_type": "code",
   "execution_count": 32,
   "metadata": {},
   "outputs": [],
   "source": [
    "import pandas as pd\n",
    "import matplotlib.pyplot as plt\n",
    "import seaborn as sns"
   ]
  },
  {
   "cell_type": "code",
   "execution_count": 33,
   "metadata": {},
   "outputs": [
    {
     "name": "stdout",
     "output_type": "stream",
     "text": [
      "<class 'pandas.core.frame.DataFrame'>\n",
      "RangeIndex: 139818 entries, 0 to 139817\n",
      "Data columns (total 9 columns):\n",
      " #   Column             Non-Null Count   Dtype  \n",
      "---  ------             --------------   -----  \n",
      " 0   Unnamed: 0         139818 non-null  int64  \n",
      " 1   tma                139818 non-null  object \n",
      " 2   stn_id             139818 non-null  int64  \n",
      " 3   avg_tca            84257 non-null   float64\n",
      " 4   avg_tca_qcflg      0 non-null       float64\n",
      " 5   avg_tca_crob       0 non-null       float64\n",
      " 6   avg_tca_calc_dtnb  139818 non-null  int64  \n",
      " 7   avg_tca_srv_yn     0 non-null       float64\n",
      " 8   orgn_stn_id        0 non-null       float64\n",
      "dtypes: float64(5), int64(3), object(1)\n",
      "memory usage: 9.6+ MB\n"
     ]
    }
   ],
   "source": [
    "cloud = pd.read_csv('../../data/12.rawdata_weather/aws_cloud.csv')\n",
    "cloud.info()"
   ]
  },
  {
   "cell_type": "code",
   "execution_count": 34,
   "metadata": {},
   "outputs": [
    {
     "data": {
      "text/html": [
       "<div>\n",
       "<style scoped>\n",
       "    .dataframe tbody tr th:only-of-type {\n",
       "        vertical-align: middle;\n",
       "    }\n",
       "\n",
       "    .dataframe tbody tr th {\n",
       "        vertical-align: top;\n",
       "    }\n",
       "\n",
       "    .dataframe thead th {\n",
       "        text-align: right;\n",
       "    }\n",
       "</style>\n",
       "<table border=\"1\" class=\"dataframe\">\n",
       "  <thead>\n",
       "    <tr style=\"text-align: right;\">\n",
       "      <th></th>\n",
       "      <th>Unnamed: 0</th>\n",
       "      <th>tma</th>\n",
       "      <th>stn_id</th>\n",
       "      <th>avg_tca</th>\n",
       "      <th>avg_tca_qcflg</th>\n",
       "      <th>avg_tca_crob</th>\n",
       "      <th>avg_tca_calc_dtnb</th>\n",
       "      <th>avg_tca_srv_yn</th>\n",
       "      <th>orgn_stn_id</th>\n",
       "    </tr>\n",
       "  </thead>\n",
       "  <tbody>\n",
       "    <tr>\n",
       "      <th>0</th>\n",
       "      <td>1</td>\n",
       "      <td>2016-04-01 20:00:00.0</td>\n",
       "      <td>637</td>\n",
       "      <td>0.0</td>\n",
       "      <td>NaN</td>\n",
       "      <td>NaN</td>\n",
       "      <td>70</td>\n",
       "      <td>NaN</td>\n",
       "      <td>NaN</td>\n",
       "    </tr>\n",
       "    <tr>\n",
       "      <th>1</th>\n",
       "      <td>2</td>\n",
       "      <td>2016-04-02 14:00:00.0</td>\n",
       "      <td>637</td>\n",
       "      <td>0.0</td>\n",
       "      <td>NaN</td>\n",
       "      <td>NaN</td>\n",
       "      <td>70</td>\n",
       "      <td>NaN</td>\n",
       "      <td>NaN</td>\n",
       "    </tr>\n",
       "    <tr>\n",
       "      <th>2</th>\n",
       "      <td>3</td>\n",
       "      <td>2016-04-03 08:00:00.0</td>\n",
       "      <td>637</td>\n",
       "      <td>0.0</td>\n",
       "      <td>NaN</td>\n",
       "      <td>NaN</td>\n",
       "      <td>70</td>\n",
       "      <td>NaN</td>\n",
       "      <td>NaN</td>\n",
       "    </tr>\n",
       "    <tr>\n",
       "      <th>3</th>\n",
       "      <td>4</td>\n",
       "      <td>2016-04-04 00:00:00.0</td>\n",
       "      <td>616</td>\n",
       "      <td>0.0</td>\n",
       "      <td>NaN</td>\n",
       "      <td>NaN</td>\n",
       "      <td>70</td>\n",
       "      <td>NaN</td>\n",
       "      <td>NaN</td>\n",
       "    </tr>\n",
       "    <tr>\n",
       "      <th>4</th>\n",
       "      <td>5</td>\n",
       "      <td>2016-04-04 23:00:00.0</td>\n",
       "      <td>515</td>\n",
       "      <td>0.0</td>\n",
       "      <td>NaN</td>\n",
       "      <td>NaN</td>\n",
       "      <td>70</td>\n",
       "      <td>NaN</td>\n",
       "      <td>NaN</td>\n",
       "    </tr>\n",
       "  </tbody>\n",
       "</table>\n",
       "</div>"
      ],
      "text/plain": [
       "   Unnamed: 0                    tma  stn_id  avg_tca  avg_tca_qcflg  \\\n",
       "0           1  2016-04-01 20:00:00.0     637      0.0            NaN   \n",
       "1           2  2016-04-02 14:00:00.0     637      0.0            NaN   \n",
       "2           3  2016-04-03 08:00:00.0     637      0.0            NaN   \n",
       "3           4  2016-04-04 00:00:00.0     616      0.0            NaN   \n",
       "4           5  2016-04-04 23:00:00.0     515      0.0            NaN   \n",
       "\n",
       "   avg_tca_crob  avg_tca_calc_dtnb  avg_tca_srv_yn  orgn_stn_id  \n",
       "0           NaN                 70             NaN          NaN  \n",
       "1           NaN                 70             NaN          NaN  \n",
       "2           NaN                 70             NaN          NaN  \n",
       "3           NaN                 70             NaN          NaN  \n",
       "4           NaN                 70             NaN          NaN  "
      ]
     },
     "execution_count": 34,
     "metadata": {},
     "output_type": "execute_result"
    }
   ],
   "source": [
    "cloud.head()"
   ]
  },
  {
   "cell_type": "code",
   "execution_count": 35,
   "metadata": {},
   "outputs": [
    {
     "data": {
      "text/plain": [
       "Unnamed: 0                0\n",
       "tma                       0\n",
       "stn_id                    0\n",
       "avg_tca               55561\n",
       "avg_tca_qcflg        139818\n",
       "avg_tca_crob         139818\n",
       "avg_tca_calc_dtnb         0\n",
       "avg_tca_srv_yn       139818\n",
       "orgn_stn_id          139818\n",
       "dtype: int64"
      ]
     },
     "execution_count": 35,
     "metadata": {},
     "output_type": "execute_result"
    }
   ],
   "source": [
    "cloud.isnull().sum()"
   ]
  },
  {
   "cell_type": "markdown",
   "metadata": {},
   "source": [
    "## 컬럼 정리"
   ]
  },
  {
   "cell_type": "code",
   "execution_count": 36,
   "metadata": {},
   "outputs": [],
   "source": [
    "cloud = drop_cols(cloud)"
   ]
  },
  {
   "cell_type": "code",
   "execution_count": 37,
   "metadata": {},
   "outputs": [
    {
     "data": {
      "text/html": [
       "<div>\n",
       "<style scoped>\n",
       "    .dataframe tbody tr th:only-of-type {\n",
       "        vertical-align: middle;\n",
       "    }\n",
       "\n",
       "    .dataframe tbody tr th {\n",
       "        vertical-align: top;\n",
       "    }\n",
       "\n",
       "    .dataframe thead th {\n",
       "        text-align: right;\n",
       "    }\n",
       "</style>\n",
       "<table border=\"1\" class=\"dataframe\">\n",
       "  <thead>\n",
       "    <tr style=\"text-align: right;\">\n",
       "      <th></th>\n",
       "      <th>tma</th>\n",
       "      <th>stn_id</th>\n",
       "      <th>avg_tca</th>\n",
       "    </tr>\n",
       "  </thead>\n",
       "  <tbody>\n",
       "    <tr>\n",
       "      <th>0</th>\n",
       "      <td>2016-04-01 20:00:00.0</td>\n",
       "      <td>637</td>\n",
       "      <td>0.0</td>\n",
       "    </tr>\n",
       "    <tr>\n",
       "      <th>1</th>\n",
       "      <td>2016-04-02 14:00:00.0</td>\n",
       "      <td>637</td>\n",
       "      <td>0.0</td>\n",
       "    </tr>\n",
       "    <tr>\n",
       "      <th>2</th>\n",
       "      <td>2016-04-03 08:00:00.0</td>\n",
       "      <td>637</td>\n",
       "      <td>0.0</td>\n",
       "    </tr>\n",
       "    <tr>\n",
       "      <th>3</th>\n",
       "      <td>2016-04-04 00:00:00.0</td>\n",
       "      <td>616</td>\n",
       "      <td>0.0</td>\n",
       "    </tr>\n",
       "    <tr>\n",
       "      <th>4</th>\n",
       "      <td>2016-04-04 23:00:00.0</td>\n",
       "      <td>515</td>\n",
       "      <td>0.0</td>\n",
       "    </tr>\n",
       "  </tbody>\n",
       "</table>\n",
       "</div>"
      ],
      "text/plain": [
       "                     tma  stn_id  avg_tca\n",
       "0  2016-04-01 20:00:00.0     637      0.0\n",
       "1  2016-04-02 14:00:00.0     637      0.0\n",
       "2  2016-04-03 08:00:00.0     637      0.0\n",
       "3  2016-04-04 00:00:00.0     616      0.0\n",
       "4  2016-04-04 23:00:00.0     515      0.0"
      ]
     },
     "execution_count": 37,
     "metadata": {},
     "output_type": "execute_result"
    }
   ],
   "source": [
    "cloud.head()"
   ]
  },
  {
   "cell_type": "markdown",
   "metadata": {},
   "source": [
    "## 데이터타입 정리"
   ]
  },
  {
   "cell_type": "code",
   "execution_count": 38,
   "metadata": {
    "scrolled": true
   },
   "outputs": [
    {
     "data": {
      "text/plain": [
       "tma        datetime64[ns]\n",
       "stn_id              int64\n",
       "avg_tca           float64\n",
       "dtype: object"
      ]
     },
     "execution_count": 38,
     "metadata": {},
     "output_type": "execute_result"
    }
   ],
   "source": [
    "cloud['tma'] = pd.to_datetime(cloud['tma'])\n",
    "cloud.dtypes"
   ]
  },
  {
   "cell_type": "markdown",
   "metadata": {},
   "source": [
    "## 정렬"
   ]
  },
  {
   "cell_type": "code",
   "execution_count": 39,
   "metadata": {},
   "outputs": [
    {
     "data": {
      "text/html": [
       "<div>\n",
       "<style scoped>\n",
       "    .dataframe tbody tr th:only-of-type {\n",
       "        vertical-align: middle;\n",
       "    }\n",
       "\n",
       "    .dataframe tbody tr th {\n",
       "        vertical-align: top;\n",
       "    }\n",
       "\n",
       "    .dataframe thead th {\n",
       "        text-align: right;\n",
       "    }\n",
       "</style>\n",
       "<table border=\"1\" class=\"dataframe\">\n",
       "  <thead>\n",
       "    <tr style=\"text-align: right;\">\n",
       "      <th></th>\n",
       "      <th>tma</th>\n",
       "      <th>stn_id</th>\n",
       "      <th>avg_tca</th>\n",
       "    </tr>\n",
       "  </thead>\n",
       "  <tbody>\n",
       "    <tr>\n",
       "      <th>0</th>\n",
       "      <td>2016-04-01 00:00:00</td>\n",
       "      <td>515</td>\n",
       "      <td>0.0</td>\n",
       "    </tr>\n",
       "    <tr>\n",
       "      <th>1</th>\n",
       "      <td>2016-04-01 00:00:00</td>\n",
       "      <td>616</td>\n",
       "      <td>NaN</td>\n",
       "    </tr>\n",
       "    <tr>\n",
       "      <th>2</th>\n",
       "      <td>2016-04-01 00:00:00</td>\n",
       "      <td>634</td>\n",
       "      <td>0.0</td>\n",
       "    </tr>\n",
       "    <tr>\n",
       "      <th>3</th>\n",
       "      <td>2016-04-01 00:00:00</td>\n",
       "      <td>637</td>\n",
       "      <td>0.0</td>\n",
       "    </tr>\n",
       "    <tr>\n",
       "      <th>4</th>\n",
       "      <td>2016-04-01 01:00:00</td>\n",
       "      <td>515</td>\n",
       "      <td>0.0</td>\n",
       "    </tr>\n",
       "  </tbody>\n",
       "</table>\n",
       "</div>"
      ],
      "text/plain": [
       "                  tma  stn_id  avg_tca\n",
       "0 2016-04-01 00:00:00     515      0.0\n",
       "1 2016-04-01 00:00:00     616      NaN\n",
       "2 2016-04-01 00:00:00     634      0.0\n",
       "3 2016-04-01 00:00:00     637      0.0\n",
       "4 2016-04-01 01:00:00     515      0.0"
      ]
     },
     "execution_count": 39,
     "metadata": {},
     "output_type": "execute_result"
    }
   ],
   "source": [
    "cloud = sort_by(cloud)\n",
    "cloud.head()"
   ]
  },
  {
   "cell_type": "markdown",
   "metadata": {},
   "source": [
    "## 결측치 & 이상치 처리"
   ]
  },
  {
   "cell_type": "code",
   "execution_count": 40,
   "metadata": {},
   "outputs": [
    {
     "data": {
      "image/png": "[encoded data removed]",
      "text/plain": [
       "<Figure size 1080x1440 with 1 Axes>"
      ]
     },
     "metadata": {
      "needs_background": "light"
     },
     "output_type": "display_data"
    }
   ],
   "source": [
    "multi_distplot(cloud)"
   ]
  },
  {
   "cell_type": "code",
   "execution_count": 41,
   "metadata": {
    "scrolled": true
   },
   "outputs": [
    {
     "data": {
      "text/plain": [
       " 2.6         1\n",
       " 2.4         1\n",
       " 2.8         1\n",
       "-59.4        1\n",
       " 3.1         1\n",
       " 3.2         1\n",
       " 2.9         1\n",
       " 3.3         1\n",
       " 2.2         1\n",
       " 3.8         2\n",
       " 2.1         3\n",
       " 1.6         4\n",
       " 1.8         4\n",
       " 0.9         5\n",
       " 0.8         5\n",
       " 0.4         5\n",
       " 2.3         5\n",
       " 2.0         5\n",
       " 1.9         6\n",
       " 0.5         6\n",
       " 1.2         6\n",
       " 1.0         6\n",
       " 1.7         7\n",
       " 1.3         7\n",
       " 1.5         8\n",
       " 1.4        11\n",
       " 1.1        13\n",
       " 0.7        14\n",
       " 0.3        14\n",
       " 0.6        17\n",
       " 0.1        17\n",
       " 0.2        22\n",
       " 0.0     84056\n",
       "Name: avg_tca, dtype: int64"
      ]
     },
     "execution_count": 41,
     "metadata": {},
     "output_type": "execute_result"
    }
   ],
   "source": [
    "cloud.avg_tca.value_counts().sort_values()"
   ]
  },
  {
   "cell_type": "markdown",
   "metadata": {},
   "source": [
    "-59.4 이상치: avg_tca(평균 전운량) 컬럼의 평균으로 대체"
   ]
  },
  {
   "cell_type": "code",
   "execution_count": 42,
   "metadata": {
    "scrolled": true
   },
   "outputs": [
    {
     "data": {
      "text/plain": [
       "0.0016995620541913428"
      ]
     },
     "execution_count": 42,
     "metadata": {},
     "output_type": "execute_result"
    }
   ],
   "source": [
    "cloud.avg_tca.mean()"
   ]
  },
  {
   "cell_type": "code",
   "execution_count": 43,
   "metadata": {},
   "outputs": [],
   "source": [
    "cloud.loc[cloud.avg_tca==-59.4, 'avg_tca'] = cloud.avg_tca.mean()"
   ]
  },
  {
   "cell_type": "code",
   "execution_count": 44,
   "metadata": {
    "scrolled": true
   },
   "outputs": [
    {
     "data": {
      "text/plain": [
       "3.2000        1\n",
       "0.0017        1\n",
       "3.3000        1\n",
       "2.9000        1\n",
       "2.6000        1\n",
       "2.8000        1\n",
       "2.2000        1\n",
       "2.4000        1\n",
       "3.1000        1\n",
       "3.8000        2\n",
       "2.1000        3\n",
       "1.6000        4\n",
       "1.8000        4\n",
       "0.4000        5\n",
       "2.0000        5\n",
       "2.3000        5\n",
       "0.9000        5\n",
       "0.8000        5\n",
       "0.5000        6\n",
       "1.9000        6\n",
       "1.0000        6\n",
       "1.2000        6\n",
       "1.7000        7\n",
       "1.3000        7\n",
       "1.5000        8\n",
       "1.4000       11\n",
       "1.1000       13\n",
       "0.7000       14\n",
       "0.3000       14\n",
       "0.1000       17\n",
       "0.6000       17\n",
       "0.2000       22\n",
       "0.0000    84056\n",
       "Name: avg_tca, dtype: int64"
      ]
     },
     "execution_count": 44,
     "metadata": {},
     "output_type": "execute_result"
    }
   ],
   "source": [
    "cloud.avg_tca.value_counts().sort_values()"
   ]
  },
  {
   "cell_type": "code",
   "execution_count": 45,
   "metadata": {},
   "outputs": [
    {
     "data": {
      "text/plain": [
       "tma            0\n",
       "stn_id         0\n",
       "avg_tca    55561\n",
       "dtype: int64"
      ]
     },
     "execution_count": 45,
     "metadata": {},
     "output_type": "execute_result"
    }
   ],
   "source": [
    "cloud.isnull().sum()"
   ]
  },
  {
   "cell_type": "code",
   "execution_count": 46,
   "metadata": {
    "scrolled": true
   },
   "outputs": [
    {
     "data": {
      "text/plain": [
       "tma        0\n",
       "stn_id     0\n",
       "avg_tca    0\n",
       "dtype: int64"
      ]
     },
     "execution_count": 46,
     "metadata": {},
     "output_type": "execute_result"
    }
   ],
   "source": [
    "cloud = cloud.fillna(0)\n",
    "cloud.isnull().sum()"
   ]
  },
  {
   "cell_type": "code",
   "execution_count": 47,
   "metadata": {},
   "outputs": [
    {
     "data": {
      "image/png": "[encoded data removed]",
      "text/plain": [
       "<Figure size 1080x1440 with 1 Axes>"
      ]
     },
     "metadata": {
      "needs_background": "light"
     },
     "output_type": "display_data"
    }
   ],
   "source": [
    "multi_distplot(cloud)"
   ]
  },
  {
   "cell_type": "code",
   "execution_count": 48,
   "metadata": {},
   "outputs": [],
   "source": [
    "cloud.to_csv('../../data/22.savedata_weather/aws_cloud_save.csv', index=False, encoding='utf-8')"
   ]
  },
  {
   "cell_type": "markdown",
   "metadata": {
    "scrolled": true
   },
   "source": [
    "# aws_icsr_ss\n",
    "## 데이터 확인"
   ]
  },
  {
   "cell_type": "code",
   "execution_count": 65,
   "metadata": {},
   "outputs": [
    {
     "name": "stdout",
     "output_type": "stream",
     "text": [
      "<class 'pandas.core.frame.DataFrame'>\n",
      "RangeIndex: 139818 entries, 0 to 139817\n",
      "Data columns (total 11 columns):\n",
      " #   Column               Non-Null Count   Dtype  \n",
      "---  ------               --------------   -----  \n",
      " 0   Unnamed: 0           139818 non-null  int64  \n",
      " 1   tma                  139818 non-null  object \n",
      " 2   stn_id               139818 non-null  int64  \n",
      " 3   sum_ss_hr            62332 non-null   float64\n",
      " 4   sum_ss_hr_qcflg      68422 non-null   float64\n",
      " 5   sum_ss_hr_crob       0 non-null       float64\n",
      " 6   ssrate               0 non-null       float64\n",
      " 7   sum_gsr              62333 non-null   float64\n",
      " 8   sum_ss_hr_calp_dtnb  139818 non-null  int64  \n",
      " 9   orgn_stn_id          0 non-null       float64\n",
      " 10  sum_ss_hr_srv_yn     0 non-null       float64\n",
      "dtypes: float64(7), int64(3), object(1)\n",
      "memory usage: 11.7+ MB\n"
     ]
    }
   ],
   "source": [
    "icsr = pd.read_csv('../../data/12.rawdata_weather/aws_icsr_ss.csv')\n",
    "icsr.info()"
   ]
  },
  {
   "cell_type": "markdown",
   "metadata": {},
   "source": [
    "## 컬럼 정리"
   ]
  },
  {
   "cell_type": "code",
   "execution_count": 66,
   "metadata": {},
   "outputs": [],
   "source": [
    "icsr = drop_cols(icsr)"
   ]
  },
  {
   "cell_type": "code",
   "execution_count": 67,
   "metadata": {},
   "outputs": [
    {
     "name": "stdout",
     "output_type": "stream",
     "text": [
      "<class 'pandas.core.frame.DataFrame'>\n",
      "RangeIndex: 139818 entries, 0 to 139817\n",
      "Data columns (total 5 columns):\n",
      " #   Column     Non-Null Count   Dtype  \n",
      "---  ------     --------------   -----  \n",
      " 0   tma        139818 non-null  object \n",
      " 1   stn_id     139818 non-null  int64  \n",
      " 2   sum_ss_hr  62332 non-null   float64\n",
      " 3   ssrate     0 non-null       float64\n",
      " 4   sum_gsr    62333 non-null   float64\n",
      "dtypes: float64(3), int64(1), object(1)\n",
      "memory usage: 5.3+ MB\n"
     ]
    }
   ],
   "source": [
    "icsr.info()"
   ]
  },
  {
   "cell_type": "code",
   "execution_count": 68,
   "metadata": {},
   "outputs": [
    {
     "data": {
      "text/plain": [
       "tma              0\n",
       "stn_id           0\n",
       "sum_ss_hr    77486\n",
       "sum_gsr      77485\n",
       "dtype: int64"
      ]
     },
     "execution_count": 68,
     "metadata": {},
     "output_type": "execute_result"
    }
   ],
   "source": [
    "icsr = icsr.drop(columns='ssrate')\n",
    "icsr.isnull().sum()"
   ]
  },
  {
   "cell_type": "markdown",
   "metadata": {},
   "source": [
    "## 데이터타입 정리"
   ]
  },
  {
   "cell_type": "code",
   "execution_count": 69,
   "metadata": {
    "scrolled": true
   },
   "outputs": [
    {
     "data": {
      "text/plain": [
       "tma          datetime64[ns]\n",
       "stn_id                int64\n",
       "sum_ss_hr           float64\n",
       "sum_gsr             float64\n",
       "dtype: object"
      ]
     },
     "execution_count": 69,
     "metadata": {},
     "output_type": "execute_result"
    }
   ],
   "source": [
    "icsr['tma'] = pd.to_datetime(icsr['tma'])\n",
    "icsr.dtypes"
   ]
  },
  {
   "cell_type": "markdown",
   "metadata": {},
   "source": [
    "## 정렬"
   ]
  },
  {
   "cell_type": "code",
   "execution_count": 70,
   "metadata": {},
   "outputs": [
    {
     "data": {
      "text/html": [
       "<div>\n",
       "<style scoped>\n",
       "    .dataframe tbody tr th:only-of-type {\n",
       "        vertical-align: middle;\n",
       "    }\n",
       "\n",
       "    .dataframe tbody tr th {\n",
       "        vertical-align: top;\n",
       "    }\n",
       "\n",
       "    .dataframe thead th {\n",
       "        text-align: right;\n",
       "    }\n",
       "</style>\n",
       "<table border=\"1\" class=\"dataframe\">\n",
       "  <thead>\n",
       "    <tr style=\"text-align: right;\">\n",
       "      <th></th>\n",
       "      <th>tma</th>\n",
       "      <th>stn_id</th>\n",
       "      <th>sum_ss_hr</th>\n",
       "      <th>sum_gsr</th>\n",
       "    </tr>\n",
       "  </thead>\n",
       "  <tbody>\n",
       "    <tr>\n",
       "      <th>0</th>\n",
       "      <td>2016-04-01 20:00:00</td>\n",
       "      <td>634</td>\n",
       "      <td>0.0</td>\n",
       "      <td>0.0</td>\n",
       "    </tr>\n",
       "    <tr>\n",
       "      <th>1</th>\n",
       "      <td>2016-04-02 09:00:00</td>\n",
       "      <td>634</td>\n",
       "      <td>0.0</td>\n",
       "      <td>0.0</td>\n",
       "    </tr>\n",
       "    <tr>\n",
       "      <th>2</th>\n",
       "      <td>2016-04-02 20:00:00</td>\n",
       "      <td>515</td>\n",
       "      <td>0.0</td>\n",
       "      <td>0.0</td>\n",
       "    </tr>\n",
       "    <tr>\n",
       "      <th>3</th>\n",
       "      <td>2016-04-07 07:00:00</td>\n",
       "      <td>637</td>\n",
       "      <td>0.0</td>\n",
       "      <td>0.0</td>\n",
       "    </tr>\n",
       "    <tr>\n",
       "      <th>4</th>\n",
       "      <td>2016-04-07 11:00:00</td>\n",
       "      <td>616</td>\n",
       "      <td>0.0</td>\n",
       "      <td>0.0</td>\n",
       "    </tr>\n",
       "  </tbody>\n",
       "</table>\n",
       "</div>"
      ],
      "text/plain": [
       "                  tma  stn_id  sum_ss_hr  sum_gsr\n",
       "0 2016-04-01 20:00:00     634        0.0      0.0\n",
       "1 2016-04-02 09:00:00     634        0.0      0.0\n",
       "2 2016-04-02 20:00:00     515        0.0      0.0\n",
       "3 2016-04-07 07:00:00     637        0.0      0.0\n",
       "4 2016-04-07 11:00:00     616        0.0      0.0"
      ]
     },
     "execution_count": 70,
     "metadata": {},
     "output_type": "execute_result"
    }
   ],
   "source": [
    "icsr.head()"
   ]
  },
  {
   "cell_type": "code",
   "execution_count": 71,
   "metadata": {},
   "outputs": [
    {
     "data": {
      "text/html": [
       "<div>\n",
       "<style scoped>\n",
       "    .dataframe tbody tr th:only-of-type {\n",
       "        vertical-align: middle;\n",
       "    }\n",
       "\n",
       "    .dataframe tbody tr th {\n",
       "        vertical-align: top;\n",
       "    }\n",
       "\n",
       "    .dataframe thead th {\n",
       "        text-align: right;\n",
       "    }\n",
       "</style>\n",
       "<table border=\"1\" class=\"dataframe\">\n",
       "  <thead>\n",
       "    <tr style=\"text-align: right;\">\n",
       "      <th></th>\n",
       "      <th>tma</th>\n",
       "      <th>stn_id</th>\n",
       "      <th>sum_ss_hr</th>\n",
       "      <th>sum_gsr</th>\n",
       "    </tr>\n",
       "  </thead>\n",
       "  <tbody>\n",
       "    <tr>\n",
       "      <th>0</th>\n",
       "      <td>2016-04-01 00:00:00</td>\n",
       "      <td>515</td>\n",
       "      <td>0.0</td>\n",
       "      <td>0.0</td>\n",
       "    </tr>\n",
       "    <tr>\n",
       "      <th>1</th>\n",
       "      <td>2016-04-01 00:00:00</td>\n",
       "      <td>616</td>\n",
       "      <td>0.0</td>\n",
       "      <td>0.0</td>\n",
       "    </tr>\n",
       "    <tr>\n",
       "      <th>2</th>\n",
       "      <td>2016-04-01 00:00:00</td>\n",
       "      <td>634</td>\n",
       "      <td>0.0</td>\n",
       "      <td>0.0</td>\n",
       "    </tr>\n",
       "    <tr>\n",
       "      <th>3</th>\n",
       "      <td>2016-04-01 00:00:00</td>\n",
       "      <td>637</td>\n",
       "      <td>0.0</td>\n",
       "      <td>0.0</td>\n",
       "    </tr>\n",
       "    <tr>\n",
       "      <th>4</th>\n",
       "      <td>2016-04-01 01:00:00</td>\n",
       "      <td>515</td>\n",
       "      <td>0.0</td>\n",
       "      <td>0.0</td>\n",
       "    </tr>\n",
       "  </tbody>\n",
       "</table>\n",
       "</div>"
      ],
      "text/plain": [
       "                  tma  stn_id  sum_ss_hr  sum_gsr\n",
       "0 2016-04-01 00:00:00     515        0.0      0.0\n",
       "1 2016-04-01 00:00:00     616        0.0      0.0\n",
       "2 2016-04-01 00:00:00     634        0.0      0.0\n",
       "3 2016-04-01 00:00:00     637        0.0      0.0\n",
       "4 2016-04-01 01:00:00     515        0.0      0.0"
      ]
     },
     "execution_count": 71,
     "metadata": {},
     "output_type": "execute_result"
    }
   ],
   "source": [
    "icsr = sort_by(icsr)\n",
    "icsr.head()"
   ]
  },
  {
   "cell_type": "markdown",
   "metadata": {},
   "source": [
    "## 결측치 & 이상치 처리"
   ]
  },
  {
   "cell_type": "code",
   "execution_count": 72,
   "metadata": {},
   "outputs": [
    {
     "data": {
      "text/plain": [
       "tma              0\n",
       "stn_id           0\n",
       "sum_ss_hr    77486\n",
       "sum_gsr      77485\n",
       "dtype: int64"
      ]
     },
     "execution_count": 72,
     "metadata": {},
     "output_type": "execute_result"
    }
   ],
   "source": [
    "icsr.isnull().sum()"
   ]
  },
  {
   "cell_type": "code",
   "execution_count": 73,
   "metadata": {},
   "outputs": [
    {
     "data": {
      "image/png": "[encoded data removed]",
      "text/plain": [
       "<Figure size 1080x1440 with 2 Axes>"
      ]
     },
     "metadata": {
      "needs_background": "light"
     },
     "output_type": "display_data"
    }
   ],
   "source": [
    "multi_distplot(icsr)"
   ]
  },
  {
   "cell_type": "code",
   "execution_count": 74,
   "metadata": {},
   "outputs": [
    {
     "data": {
      "image/png": "[encoded data removed]",
      "text/plain": [
       "<Figure size 720x720 with 2 Axes>"
      ]
     },
     "metadata": {
      "needs_background": "light"
     },
     "output_type": "display_data"
    }
   ],
   "source": [
    "plt.figure(figsize=(10,10))\n",
    "\n",
    "for i in range(2):\n",
    "    plt.subplot(3, 1, i+1)\n",
    "    sns.boxplot(icsr.iloc[:,i+2])"
   ]
  },
  {
   "cell_type": "code",
   "execution_count": 75,
   "metadata": {},
   "outputs": [
    {
     "data": {
      "text/plain": [
       " 0.0     62301\n",
       " 14.3        4\n",
       "-14.3        4\n",
       " 4.0         3\n",
       " 8.4         2\n",
       "-4.0         2\n",
       " 6.4         2\n",
       "-6.4         2\n",
       "-6.1         2\n",
       " 1.0         1\n",
       "-2.3         1\n",
       " 0.5         1\n",
       " 6.8         1\n",
       " 6.1         1\n",
       " 4.1         1\n",
       "-1.0         1\n",
       "-1.3         1\n",
       " 1.3         1\n",
       " 2.3         1\n",
       "Name: sum_ss_hr, dtype: int64"
      ]
     },
     "execution_count": 75,
     "metadata": {},
     "output_type": "execute_result"
    }
   ],
   "source": [
    "icsr.sum_ss_hr.value_counts()"
   ]
  },
  {
   "cell_type": "code",
   "execution_count": 76,
   "metadata": {},
   "outputs": [
    {
     "data": {
      "text/plain": [
       "tma              0\n",
       "stn_id           0\n",
       "sum_ss_hr        0\n",
       "sum_gsr      77485\n",
       "dtype: int64"
      ]
     },
     "execution_count": 76,
     "metadata": {},
     "output_type": "execute_result"
    }
   ],
   "source": [
    "icsr['sum_ss_hr'] = icsr.sum_ss_hr.fillna(0)\n",
    "icsr.isnull().sum()"
   ]
  },
  {
   "cell_type": "code",
   "execution_count": 77,
   "metadata": {
    "scrolled": true
   },
   "outputs": [
    {
     "data": {
      "text/plain": [
       " 0.00     62302\n",
       "-30.56        4\n",
       " 30.56        4\n",
       " 5.37         3\n",
       " 19.84        3\n",
       "-5.37         2\n",
       "-6.00         2\n",
       "-13.42        2\n",
       " 13.42        2\n",
       "-1.10         1\n",
       "-6.71         1\n",
       " 7.16         1\n",
       " 6.71         1\n",
       " 1.10         1\n",
       " 6.40         1\n",
       " 4.17         1\n",
       "-9.99         1\n",
       "-4.17         1\n",
       "Name: sum_gsr, dtype: int64"
      ]
     },
     "execution_count": 77,
     "metadata": {},
     "output_type": "execute_result"
    }
   ],
   "source": [
    "icsr.sum_gsr.value_counts()"
   ]
  },
  {
   "cell_type": "code",
   "execution_count": 78,
   "metadata": {},
   "outputs": [
    {
     "data": {
      "text/plain": [
       "tma          0\n",
       "stn_id       0\n",
       "sum_ss_hr    0\n",
       "sum_gsr      0\n",
       "dtype: int64"
      ]
     },
     "execution_count": 78,
     "metadata": {},
     "output_type": "execute_result"
    }
   ],
   "source": [
    "icsr['sum_gsr'] = icsr.sum_gsr.fillna(0)\n",
    "icsr.isnull().sum()"
   ]
  },
  {
   "cell_type": "code",
   "execution_count": 79,
   "metadata": {},
   "outputs": [],
   "source": [
    "icsr.to_csv('../../data/22.savedata_weather/aws_icsr_ss_save.csv', encoding='utf-8', index=False)"
   ]
  },
  {
   "cell_type": "markdown",
   "metadata": {},
   "source": [
    "# aws_lwt_tg <사용불가>"
   ]
  },
  {
   "cell_type": "markdown",
   "metadata": {},
   "source": [
    "## 데이터 확인"
   ]
  },
  {
   "cell_type": "code",
   "execution_count": 80,
   "metadata": {},
   "outputs": [
    {
     "name": "stdout",
     "output_type": "stream",
     "text": [
      "<class 'pandas.core.frame.DataFrame'>\n",
      "RangeIndex: 139818 entries, 0 to 139817\n",
      "Data columns (total 15 columns):\n",
      " #   Column                Non-Null Count   Dtype  \n",
      "---  ------                --------------   -----  \n",
      " 0   Unnamed: 0            139818 non-null  int64  \n",
      " 1   tma                   139818 non-null  object \n",
      " 2   stn_id                139818 non-null  int64  \n",
      " 3   avg_min_tg            0 non-null       float64\n",
      " 4   min_tg                0 non-null       float64\n",
      " 5   min_tg_hrmt           0 non-null       float64\n",
      " 6   min_tg_crob           0 non-null       float64\n",
      " 7   min_tg_qcflg          0 non-null       float64\n",
      " 8   avg_min_tg_qcflg      0 non-null       float64\n",
      " 9   avg_min_tg_crob       0 non-null       float64\n",
      " 10  avg_min_tg_calc_dtnb  139818 non-null  int64  \n",
      " 11  min_tg_calp_dtnb      139818 non-null  int64  \n",
      " 12  avg_min_tg_srv_yn     0 non-null       float64\n",
      " 13  min_tg_srv_yn         0 non-null       float64\n",
      " 14  orgn_stn_id           0 non-null       float64\n",
      "dtypes: float64(10), int64(4), object(1)\n",
      "memory usage: 16.0+ MB\n"
     ]
    }
   ],
   "source": [
    "lwt = pd.read_csv('../../data/12.rawdata_weather/aws_lwt_tg.csv')\n",
    "lwt.info()"
   ]
  },
  {
   "cell_type": "markdown",
   "metadata": {},
   "source": [
    "## 컬럼 정리"
   ]
  },
  {
   "cell_type": "code",
   "execution_count": 81,
   "metadata": {
    "scrolled": false
   },
   "outputs": [
    {
     "data": {
      "text/plain": [
       "tma                 0\n",
       "stn_id              0\n",
       "avg_min_tg     139818\n",
       "min_tg         139818\n",
       "min_tg_hrmt    139818\n",
       "dtype: int64"
      ]
     },
     "execution_count": 81,
     "metadata": {},
     "output_type": "execute_result"
    }
   ],
   "source": [
    "lwt = drop_cols(lwt)\n",
    "lwt.isnull().sum()"
   ]
  },
  {
   "cell_type": "markdown",
   "metadata": {},
   "source": [
    "# aws_prsr\n",
    "## 데이터 확인"
   ]
  },
  {
   "cell_type": "code",
   "execution_count": 92,
   "metadata": {},
   "outputs": [
    {
     "name": "stdout",
     "output_type": "stream",
     "text": [
      "<class 'pandas.core.frame.DataFrame'>\n",
      "RangeIndex: 139818 entries, 0 to 139817\n",
      "Data columns (total 46 columns):\n",
      " #   Column            Non-Null Count   Dtype  \n",
      "---  ------            --------------   -----  \n",
      " 0   Unnamed: 0        139818 non-null  int64  \n",
      " 1   tma               139818 non-null  object \n",
      " 2   stn_id            139818 non-null  int64  \n",
      " 3   avg_pa            35124 non-null   float64\n",
      " 4   avg_pa_qcflg      90034 non-null   float64\n",
      " 5   avg_pa_crob       214 non-null     float64\n",
      " 6   max_pa            35183 non-null   float64\n",
      " 7   max_pa_qcflg      0 non-null       float64\n",
      " 8   max_pa_crob       153 non-null     float64\n",
      " 9   max_pa_hrmt       35336 non-null   float64\n",
      " 10  min_pa            35183 non-null   float64\n",
      " 11  min_pa_qcflg      0 non-null       float64\n",
      " 12  min_pa_crob       153 non-null     float64\n",
      " 13  min_pa_hrmt       35336 non-null   float64\n",
      " 14  avg_pa_calc_dtnb  139816 non-null  float64\n",
      " 15  avg_ps            35124 non-null   float64\n",
      " 16  avg_ps_qcflg      90034 non-null   float64\n",
      " 17  avg_ps_crob       214 non-null     float64\n",
      " 18  max_ps            35183 non-null   float64\n",
      " 19  max_ps_qcflg      0 non-null       float64\n",
      " 20  max_ps_crob       153 non-null     float64\n",
      " 21  max_ps_hrmt       35336 non-null   float64\n",
      " 22  min_ps            35183 non-null   float64\n",
      " 23  min_ps_qcflg      0 non-null       float64\n",
      " 24  min_ps_crob       153 non-null     float64\n",
      " 25  min_ps_hrmt       35336 non-null   float64\n",
      " 26  avg_ps_calc_dtnb  139816 non-null  float64\n",
      " 27  rtm_pa            35238 non-null   float64\n",
      " 28  rtm_pa_qcflg      0 non-null       float64\n",
      " 29  rtm_pa_crob       0 non-null       float64\n",
      " 30  rtm_ps            35238 non-null   float64\n",
      " 31  rtm_ps_qcflg      0 non-null       float64\n",
      " 32  rtm_ps_crob       0 non-null       float64\n",
      " 33  rtm_pa_hrmt       35238 non-null   float64\n",
      " 34  rtm_ps_hrmt       35238 non-null   float64\n",
      " 35  avg_pa_srv_yn     0 non-null       float64\n",
      " 36  avg_ps_srv_yn     0 non-null       float64\n",
      " 37  max_pa_srv_yn     0 non-null       float64\n",
      " 38  max_ps_srv_yn     0 non-null       float64\n",
      " 39  min_pa_srv_yn     0 non-null       float64\n",
      " 40  min_ps_srv_yn     0 non-null       float64\n",
      " 41  orgn_stn_id       0 non-null       float64\n",
      " 42  pa_calp_dtnb      139816 non-null  float64\n",
      " 43  ps_calp_dtnb      139816 non-null  float64\n",
      " 44  rtm_pa_srv_yn     0 non-null       float64\n",
      " 45  rtm_ps_srv_yn     0 non-null       float64\n",
      "dtypes: float64(43), int64(2), object(1)\n",
      "memory usage: 49.1+ MB\n"
     ]
    }
   ],
   "source": [
    "prsr = pd.read_csv('../../data/12.rawdata_weather/aws_prsr.csv')\n",
    "prsr.info()"
   ]
  },
  {
   "cell_type": "markdown",
   "metadata": {},
   "source": [
    "## 컬럼 정리"
   ]
  },
  {
   "cell_type": "code",
   "execution_count": 93,
   "metadata": {},
   "outputs": [
    {
     "data": {
      "text/plain": [
       "tma                 0\n",
       "stn_id              0\n",
       "avg_pa         104694\n",
       "max_pa         104635\n",
       "max_pa_hrmt    104482\n",
       "min_pa         104635\n",
       "min_pa_hrmt    104482\n",
       "avg_ps         104694\n",
       "max_ps         104635\n",
       "max_ps_hrmt    104482\n",
       "min_ps         104635\n",
       "min_ps_hrmt    104482\n",
       "rtm_pa         104580\n",
       "rtm_ps         104580\n",
       "rtm_pa_hrmt    104580\n",
       "rtm_ps_hrmt    104580\n",
       "dtype: int64"
      ]
     },
     "execution_count": 93,
     "metadata": {},
     "output_type": "execute_result"
    }
   ],
   "source": [
    "prsr = drop_cols(prsr)\n",
    "prsr.isnull().sum()"
   ]
  },
  {
   "cell_type": "code",
   "execution_count": 94,
   "metadata": {},
   "outputs": [
    {
     "data": {
      "text/plain": [
       "tma                 0\n",
       "stn_id              0\n",
       "avg_pa         104694\n",
       "max_pa         104635\n",
       "max_pa_hrmt    104482\n",
       "min_pa         104635\n",
       "min_pa_hrmt    104482\n",
       "avg_ps         104694\n",
       "max_ps         104635\n",
       "max_ps_hrmt    104482\n",
       "min_ps         104635\n",
       "min_ps_hrmt    104482\n",
       "dtype: int64"
      ]
     },
     "execution_count": 94,
     "metadata": {},
     "output_type": "execute_result"
    }
   ],
   "source": [
    "prsr = prsr.drop(columns=['rtm_pa', 'rtm_ps', 'rtm_pa_hrmt', 'rtm_ps_hrmt'])\n",
    "prsr.isnull().sum()"
   ]
  },
  {
   "cell_type": "markdown",
   "metadata": {},
   "source": [
    "## 데이터타입 정리"
   ]
  },
  {
   "cell_type": "code",
   "execution_count": 95,
   "metadata": {},
   "outputs": [
    {
     "data": {
      "text/plain": [
       "tma            datetime64[ns]\n",
       "stn_id                  int64\n",
       "avg_pa                float64\n",
       "max_pa                float64\n",
       "max_pa_hrmt           float64\n",
       "min_pa                float64\n",
       "min_pa_hrmt           float64\n",
       "avg_ps                float64\n",
       "max_ps                float64\n",
       "max_ps_hrmt           float64\n",
       "min_ps                float64\n",
       "min_ps_hrmt           float64\n",
       "dtype: object"
      ]
     },
     "execution_count": 95,
     "metadata": {},
     "output_type": "execute_result"
    }
   ],
   "source": [
    "prsr['tma'] = pd.to_datetime(prsr['tma'])\n",
    "prsr.dtypes"
   ]
  },
  {
   "cell_type": "markdown",
   "metadata": {},
   "source": [
    "## 정렬"
   ]
  },
  {
   "cell_type": "code",
   "execution_count": 96,
   "metadata": {},
   "outputs": [
    {
     "data": {
      "text/html": [
       "<div>\n",
       "<style scoped>\n",
       "    .dataframe tbody tr th:only-of-type {\n",
       "        vertical-align: middle;\n",
       "    }\n",
       "\n",
       "    .dataframe tbody tr th {\n",
       "        vertical-align: top;\n",
       "    }\n",
       "\n",
       "    .dataframe thead th {\n",
       "        text-align: right;\n",
       "    }\n",
       "</style>\n",
       "<table border=\"1\" class=\"dataframe\">\n",
       "  <thead>\n",
       "    <tr style=\"text-align: right;\">\n",
       "      <th></th>\n",
       "      <th>tma</th>\n",
       "      <th>stn_id</th>\n",
       "      <th>avg_pa</th>\n",
       "      <th>max_pa</th>\n",
       "      <th>max_pa_hrmt</th>\n",
       "      <th>min_pa</th>\n",
       "      <th>min_pa_hrmt</th>\n",
       "      <th>avg_ps</th>\n",
       "      <th>max_ps</th>\n",
       "      <th>max_ps_hrmt</th>\n",
       "      <th>min_ps</th>\n",
       "      <th>min_ps_hrmt</th>\n",
       "    </tr>\n",
       "  </thead>\n",
       "  <tbody>\n",
       "    <tr>\n",
       "      <th>0</th>\n",
       "      <td>2016-04-01 00:00:00</td>\n",
       "      <td>515</td>\n",
       "      <td>NaN</td>\n",
       "      <td>NaN</td>\n",
       "      <td>NaN</td>\n",
       "      <td>NaN</td>\n",
       "      <td>NaN</td>\n",
       "      <td>NaN</td>\n",
       "      <td>NaN</td>\n",
       "      <td>NaN</td>\n",
       "      <td>NaN</td>\n",
       "      <td>NaN</td>\n",
       "    </tr>\n",
       "    <tr>\n",
       "      <th>1</th>\n",
       "      <td>2016-04-01 00:00:00</td>\n",
       "      <td>616</td>\n",
       "      <td>NaN</td>\n",
       "      <td>NaN</td>\n",
       "      <td>NaN</td>\n",
       "      <td>NaN</td>\n",
       "      <td>NaN</td>\n",
       "      <td>NaN</td>\n",
       "      <td>NaN</td>\n",
       "      <td>NaN</td>\n",
       "      <td>NaN</td>\n",
       "      <td>NaN</td>\n",
       "    </tr>\n",
       "    <tr>\n",
       "      <th>2</th>\n",
       "      <td>2016-04-01 00:00:00</td>\n",
       "      <td>634</td>\n",
       "      <td>NaN</td>\n",
       "      <td>NaN</td>\n",
       "      <td>NaN</td>\n",
       "      <td>NaN</td>\n",
       "      <td>NaN</td>\n",
       "      <td>NaN</td>\n",
       "      <td>NaN</td>\n",
       "      <td>NaN</td>\n",
       "      <td>NaN</td>\n",
       "      <td>NaN</td>\n",
       "    </tr>\n",
       "    <tr>\n",
       "      <th>3</th>\n",
       "      <td>2016-04-01 00:00:00</td>\n",
       "      <td>637</td>\n",
       "      <td>1013.3</td>\n",
       "      <td>1013.5</td>\n",
       "      <td>2301.0</td>\n",
       "      <td>1013.0</td>\n",
       "      <td>2358.0</td>\n",
       "      <td>1016.0</td>\n",
       "      <td>1016.2</td>\n",
       "      <td>2301.0</td>\n",
       "      <td>1015.7</td>\n",
       "      <td>2358.0</td>\n",
       "    </tr>\n",
       "    <tr>\n",
       "      <th>4</th>\n",
       "      <td>2016-04-01 01:00:00</td>\n",
       "      <td>515</td>\n",
       "      <td>NaN</td>\n",
       "      <td>NaN</td>\n",
       "      <td>NaN</td>\n",
       "      <td>NaN</td>\n",
       "      <td>NaN</td>\n",
       "      <td>NaN</td>\n",
       "      <td>NaN</td>\n",
       "      <td>NaN</td>\n",
       "      <td>NaN</td>\n",
       "      <td>NaN</td>\n",
       "    </tr>\n",
       "  </tbody>\n",
       "</table>\n",
       "</div>"
      ],
      "text/plain": [
       "                  tma  stn_id  avg_pa  max_pa  max_pa_hrmt  min_pa  \\\n",
       "0 2016-04-01 00:00:00     515     NaN     NaN          NaN     NaN   \n",
       "1 2016-04-01 00:00:00     616     NaN     NaN          NaN     NaN   \n",
       "2 2016-04-01 00:00:00     634     NaN     NaN          NaN     NaN   \n",
       "3 2016-04-01 00:00:00     637  1013.3  1013.5       2301.0  1013.0   \n",
       "4 2016-04-01 01:00:00     515     NaN     NaN          NaN     NaN   \n",
       "\n",
       "   min_pa_hrmt  avg_ps  max_ps  max_ps_hrmt  min_ps  min_ps_hrmt  \n",
       "0          NaN     NaN     NaN          NaN     NaN          NaN  \n",
       "1          NaN     NaN     NaN          NaN     NaN          NaN  \n",
       "2          NaN     NaN     NaN          NaN     NaN          NaN  \n",
       "3       2358.0  1016.0  1016.2       2301.0  1015.7       2358.0  \n",
       "4          NaN     NaN     NaN          NaN     NaN          NaN  "
      ]
     },
     "execution_count": 96,
     "metadata": {},
     "output_type": "execute_result"
    }
   ],
   "source": [
    "prsr = sort_by(prsr)\n",
    "prsr.head()"
   ]
  },
  {
   "cell_type": "markdown",
   "metadata": {},
   "source": [
    "## 결측치 & 이상치 처리"
   ]
  },
  {
   "cell_type": "code",
   "execution_count": 97,
   "metadata": {},
   "outputs": [
    {
     "data": {
      "text/plain": [
       "(139818, 12)"
      ]
     },
     "execution_count": 97,
     "metadata": {},
     "output_type": "execute_result"
    }
   ],
   "source": [
    "prsr.shape"
   ]
  },
  {
   "cell_type": "code",
   "execution_count": 98,
   "metadata": {
    "scrolled": false
   },
   "outputs": [
    {
     "data": {
      "text/plain": [
       "tma            0.000000\n",
       "stn_id         0.000000\n",
       "avg_pa         0.748788\n",
       "max_pa         0.748366\n",
       "max_pa_hrmt    0.747271\n",
       "min_pa         0.748366\n",
       "min_pa_hrmt    0.747271\n",
       "avg_ps         0.748788\n",
       "max_ps         0.748366\n",
       "max_ps_hrmt    0.747271\n",
       "min_ps         0.748366\n",
       "min_ps_hrmt    0.747271\n",
       "dtype: float64"
      ]
     },
     "execution_count": 98,
     "metadata": {},
     "output_type": "execute_result"
    }
   ],
   "source": [
    "prsr.isnull().mean()"
   ]
  },
  {
   "cell_type": "markdown",
   "metadata": {},
   "source": [
    "결측치가 75%가량. 지점별로 차이가 있는지 확인"
   ]
  },
  {
   "cell_type": "code",
   "execution_count": 99,
   "metadata": {},
   "outputs": [
    {
     "data": {
      "text/html": [
       "<div>\n",
       "<style scoped>\n",
       "    .dataframe tbody tr th:only-of-type {\n",
       "        vertical-align: middle;\n",
       "    }\n",
       "\n",
       "    .dataframe tbody tr th {\n",
       "        vertical-align: top;\n",
       "    }\n",
       "\n",
       "    .dataframe thead th {\n",
       "        text-align: right;\n",
       "    }\n",
       "</style>\n",
       "<table border=\"1\" class=\"dataframe\">\n",
       "  <thead>\n",
       "    <tr style=\"text-align: right;\">\n",
       "      <th></th>\n",
       "      <th>tma</th>\n",
       "      <th>avg_pa</th>\n",
       "      <th>max_pa</th>\n",
       "      <th>max_pa_hrmt</th>\n",
       "      <th>min_pa</th>\n",
       "      <th>min_pa_hrmt</th>\n",
       "      <th>avg_ps</th>\n",
       "      <th>max_ps</th>\n",
       "      <th>max_ps_hrmt</th>\n",
       "      <th>min_ps</th>\n",
       "      <th>min_ps_hrmt</th>\n",
       "    </tr>\n",
       "    <tr>\n",
       "      <th>stn_id</th>\n",
       "      <th></th>\n",
       "      <th></th>\n",
       "      <th></th>\n",
       "      <th></th>\n",
       "      <th></th>\n",
       "      <th></th>\n",
       "      <th></th>\n",
       "      <th></th>\n",
       "      <th></th>\n",
       "      <th></th>\n",
       "      <th></th>\n",
       "    </tr>\n",
       "  </thead>\n",
       "  <tbody>\n",
       "    <tr>\n",
       "      <th>515</th>\n",
       "      <td>35017</td>\n",
       "      <td>75</td>\n",
       "      <td>93</td>\n",
       "      <td>177</td>\n",
       "      <td>93</td>\n",
       "      <td>177</td>\n",
       "      <td>75</td>\n",
       "      <td>93</td>\n",
       "      <td>177</td>\n",
       "      <td>93</td>\n",
       "      <td>177</td>\n",
       "    </tr>\n",
       "    <tr>\n",
       "      <th>616</th>\n",
       "      <td>34907</td>\n",
       "      <td>55</td>\n",
       "      <td>98</td>\n",
       "      <td>117</td>\n",
       "      <td>98</td>\n",
       "      <td>117</td>\n",
       "      <td>55</td>\n",
       "      <td>98</td>\n",
       "      <td>117</td>\n",
       "      <td>98</td>\n",
       "      <td>117</td>\n",
       "    </tr>\n",
       "    <tr>\n",
       "      <th>634</th>\n",
       "      <td>34896</td>\n",
       "      <td>35</td>\n",
       "      <td>35</td>\n",
       "      <td>45</td>\n",
       "      <td>35</td>\n",
       "      <td>45</td>\n",
       "      <td>35</td>\n",
       "      <td>35</td>\n",
       "      <td>45</td>\n",
       "      <td>35</td>\n",
       "      <td>45</td>\n",
       "    </tr>\n",
       "    <tr>\n",
       "      <th>637</th>\n",
       "      <td>34998</td>\n",
       "      <td>34959</td>\n",
       "      <td>34957</td>\n",
       "      <td>34997</td>\n",
       "      <td>34957</td>\n",
       "      <td>34997</td>\n",
       "      <td>34959</td>\n",
       "      <td>34957</td>\n",
       "      <td>34997</td>\n",
       "      <td>34957</td>\n",
       "      <td>34997</td>\n",
       "    </tr>\n",
       "  </tbody>\n",
       "</table>\n",
       "</div>"
      ],
      "text/plain": [
       "          tma  avg_pa  max_pa  max_pa_hrmt  min_pa  min_pa_hrmt  avg_ps  \\\n",
       "stn_id                                                                    \n",
       "515     35017      75      93          177      93          177      75   \n",
       "616     34907      55      98          117      98          117      55   \n",
       "634     34896      35      35           45      35           45      35   \n",
       "637     34998   34959   34957        34997   34957        34997   34959   \n",
       "\n",
       "        max_ps  max_ps_hrmt  min_ps  min_ps_hrmt  \n",
       "stn_id                                            \n",
       "515         93          177      93          177  \n",
       "616         98          117      98          117  \n",
       "634         35           45      35           45  \n",
       "637      34957        34997   34957        34997  "
      ]
     },
     "execution_count": 99,
     "metadata": {},
     "output_type": "execute_result"
    }
   ],
   "source": [
    "prsr.groupby(by='stn_id').count()"
   ]
  },
  {
   "cell_type": "markdown",
   "metadata": {},
   "source": [
    "637번 관측소(신평 AWS)만 가져오기"
   ]
  },
  {
   "cell_type": "code",
   "execution_count": 100,
   "metadata": {},
   "outputs": [
    {
     "data": {
      "text/plain": [
       "tma             0\n",
       "stn_id          0\n",
       "avg_pa         39\n",
       "max_pa         41\n",
       "max_pa_hrmt     1\n",
       "min_pa         41\n",
       "min_pa_hrmt     1\n",
       "avg_ps         39\n",
       "max_ps         41\n",
       "max_ps_hrmt     1\n",
       "min_ps         41\n",
       "min_ps_hrmt     1\n",
       "dtype: int64"
      ]
     },
     "execution_count": 100,
     "metadata": {},
     "output_type": "execute_result"
    }
   ],
   "source": [
    "prsr_637 = prsr[prsr['stn_id']==637].copy()\n",
    "prsr_637.isnull().sum()"
   ]
  },
  {
   "cell_type": "code",
   "execution_count": 101,
   "metadata": {},
   "outputs": [
    {
     "data": {
      "text/plain": [
       "(34998, 12)"
      ]
     },
     "execution_count": 101,
     "metadata": {},
     "output_type": "execute_result"
    }
   ],
   "source": [
    "prsr_637.shape"
   ]
  },
  {
   "cell_type": "code",
   "execution_count": 102,
   "metadata": {},
   "outputs": [
    {
     "data": {
      "image/png": "[encoded data removed]",
      "text/plain": [
       "<Figure size 1080x1440 with 10 Axes>"
      ]
     },
     "metadata": {
      "needs_background": "light"
     },
     "output_type": "display_data"
    }
   ],
   "source": [
    "multi_distplot(prsr_637)"
   ]
  },
  {
   "cell_type": "code",
   "execution_count": 103,
   "metadata": {},
   "outputs": [
    {
     "data": {
      "text/plain": [
       "tma            0\n",
       "stn_id         0\n",
       "avg_pa         0\n",
       "max_pa         0\n",
       "max_pa_hrmt    0\n",
       "min_pa         0\n",
       "min_pa_hrmt    0\n",
       "avg_ps         0\n",
       "max_ps         0\n",
       "max_ps_hrmt    0\n",
       "min_ps         0\n",
       "min_ps_hrmt    0\n",
       "dtype: int64"
      ]
     },
     "execution_count": 103,
     "metadata": {},
     "output_type": "execute_result"
    }
   ],
   "source": [
    "for i in range(10):\n",
    "    prsr_637.iloc[:,i+2] = prsr_637.iloc[:,i+2].fillna(method='ffill')\n",
    "prsr_637.isnull().sum()"
   ]
  },
  {
   "cell_type": "code",
   "execution_count": 104,
   "metadata": {},
   "outputs": [
    {
     "data": {
      "text/html": [
       "<div>\n",
       "<style scoped>\n",
       "    .dataframe tbody tr th:only-of-type {\n",
       "        vertical-align: middle;\n",
       "    }\n",
       "\n",
       "    .dataframe tbody tr th {\n",
       "        vertical-align: top;\n",
       "    }\n",
       "\n",
       "    .dataframe thead th {\n",
       "        text-align: right;\n",
       "    }\n",
       "</style>\n",
       "<table border=\"1\" class=\"dataframe\">\n",
       "  <thead>\n",
       "    <tr style=\"text-align: right;\">\n",
       "      <th></th>\n",
       "      <th>tma</th>\n",
       "      <th>stn_id</th>\n",
       "      <th>avg_pa</th>\n",
       "      <th>max_pa</th>\n",
       "      <th>max_pa_hrmt</th>\n",
       "      <th>min_pa</th>\n",
       "      <th>min_pa_hrmt</th>\n",
       "      <th>avg_ps</th>\n",
       "      <th>max_ps</th>\n",
       "      <th>max_ps_hrmt</th>\n",
       "      <th>min_ps</th>\n",
       "      <th>min_ps_hrmt</th>\n",
       "    </tr>\n",
       "  </thead>\n",
       "  <tbody>\n",
       "    <tr>\n",
       "      <th>3</th>\n",
       "      <td>2016-04-01 00:00:00</td>\n",
       "      <td>637</td>\n",
       "      <td>1013.3</td>\n",
       "      <td>1013.5</td>\n",
       "      <td>2301.0</td>\n",
       "      <td>1013.0</td>\n",
       "      <td>2358.0</td>\n",
       "      <td>1016.0</td>\n",
       "      <td>1016.2</td>\n",
       "      <td>2301.0</td>\n",
       "      <td>1015.7</td>\n",
       "      <td>2358.0</td>\n",
       "    </tr>\n",
       "    <tr>\n",
       "      <th>7</th>\n",
       "      <td>2016-04-01 01:00:00</td>\n",
       "      <td>637</td>\n",
       "      <td>1012.8</td>\n",
       "      <td>1013.0</td>\n",
       "      <td>1.0</td>\n",
       "      <td>1012.6</td>\n",
       "      <td>40.0</td>\n",
       "      <td>1015.5</td>\n",
       "      <td>1015.7</td>\n",
       "      <td>1.0</td>\n",
       "      <td>1015.3</td>\n",
       "      <td>40.0</td>\n",
       "    </tr>\n",
       "    <tr>\n",
       "      <th>11</th>\n",
       "      <td>2016-04-01 02:00:00</td>\n",
       "      <td>637</td>\n",
       "      <td>1012.5</td>\n",
       "      <td>1012.6</td>\n",
       "      <td>101.0</td>\n",
       "      <td>1012.2</td>\n",
       "      <td>155.0</td>\n",
       "      <td>1015.2</td>\n",
       "      <td>1015.3</td>\n",
       "      <td>101.0</td>\n",
       "      <td>1014.9</td>\n",
       "      <td>155.0</td>\n",
       "    </tr>\n",
       "    <tr>\n",
       "      <th>15</th>\n",
       "      <td>2016-04-01 03:00:00</td>\n",
       "      <td>637</td>\n",
       "      <td>1012.2</td>\n",
       "      <td>1012.3</td>\n",
       "      <td>203.0</td>\n",
       "      <td>1012.1</td>\n",
       "      <td>217.0</td>\n",
       "      <td>1014.9</td>\n",
       "      <td>1015.0</td>\n",
       "      <td>203.0</td>\n",
       "      <td>1014.8</td>\n",
       "      <td>217.0</td>\n",
       "    </tr>\n",
       "    <tr>\n",
       "      <th>19</th>\n",
       "      <td>2016-04-01 04:00:00</td>\n",
       "      <td>637</td>\n",
       "      <td>1012.3</td>\n",
       "      <td>1012.4</td>\n",
       "      <td>343.0</td>\n",
       "      <td>1012.2</td>\n",
       "      <td>301.0</td>\n",
       "      <td>1015.0</td>\n",
       "      <td>1015.1</td>\n",
       "      <td>343.0</td>\n",
       "      <td>1014.9</td>\n",
       "      <td>301.0</td>\n",
       "    </tr>\n",
       "  </tbody>\n",
       "</table>\n",
       "</div>"
      ],
      "text/plain": [
       "                   tma  stn_id  avg_pa  max_pa  max_pa_hrmt  min_pa  \\\n",
       "3  2016-04-01 00:00:00     637  1013.3  1013.5       2301.0  1013.0   \n",
       "7  2016-04-01 01:00:00     637  1012.8  1013.0          1.0  1012.6   \n",
       "11 2016-04-01 02:00:00     637  1012.5  1012.6        101.0  1012.2   \n",
       "15 2016-04-01 03:00:00     637  1012.2  1012.3        203.0  1012.1   \n",
       "19 2016-04-01 04:00:00     637  1012.3  1012.4        343.0  1012.2   \n",
       "\n",
       "    min_pa_hrmt  avg_ps  max_ps  max_ps_hrmt  min_ps  min_ps_hrmt  \n",
       "3        2358.0  1016.0  1016.2       2301.0  1015.7       2358.0  \n",
       "7          40.0  1015.5  1015.7          1.0  1015.3         40.0  \n",
       "11        155.0  1015.2  1015.3        101.0  1014.9        155.0  \n",
       "15        217.0  1014.9  1015.0        203.0  1014.8        217.0  \n",
       "19        301.0  1015.0  1015.1        343.0  1014.9        301.0  "
      ]
     },
     "execution_count": 104,
     "metadata": {},
     "output_type": "execute_result"
    }
   ],
   "source": [
    "prsr_637.head()"
   ]
  },
  {
   "cell_type": "code",
   "execution_count": 105,
   "metadata": {},
   "outputs": [],
   "source": [
    "prsr_637.to_csv('../../data/22.savedata_weather/aws_prsr_637_save.csv', encoding='utf-8', index=False)"
   ]
  },
  {
   "cell_type": "markdown",
   "metadata": {},
   "source": [
    "# aws_rhm"
   ]
  },
  {
   "cell_type": "markdown",
   "metadata": {},
   "source": [
    "## 데이터 확인"
   ]
  },
  {
   "cell_type": "code",
   "execution_count": 158,
   "metadata": {},
   "outputs": [
    {
     "name": "stdout",
     "output_type": "stream",
     "text": [
      "<class 'pandas.core.frame.DataFrame'>\n",
      "RangeIndex: 139818 entries, 0 to 139817\n",
      "Data columns (total 25 columns):\n",
      " #   Column             Non-Null Count   Dtype  \n",
      "---  ------             --------------   -----  \n",
      " 0   Unnamed: 0         139818 non-null  int64  \n",
      " 1   tma                139818 non-null  object \n",
      " 2   stn_id             139818 non-null  int64  \n",
      " 3   avg_rhm            114337 non-null  float64\n",
      " 4   avg_rhm_qcflg      31753 non-null   float64\n",
      " 5   avg_rhm_crob       145 non-null     float64\n",
      " 6   min_rhm            114322 non-null  float64\n",
      " 7   min_rhm_qcflg      0 non-null       float64\n",
      " 8   min_rhm_crob       145 non-null     float64\n",
      " 9   min_rhm_hrmt       114467 non-null  float64\n",
      " 10  avg_rhm_calc_dtnb  139816 non-null  float64\n",
      " 11  rtm_rhm            114419 non-null  float64\n",
      " 12  rtm_rhm_qcflg      0 non-null       float64\n",
      " 13  rtm_rhm_crob       0 non-null       float64\n",
      " 14  rtm_rhm_hrmt       114419 non-null  float64\n",
      " 15  max_rhm            114322 non-null  float64\n",
      " 16  max_rhm_qcflg      0 non-null       float64\n",
      " 17  max_rhm_crob       145 non-null     float64\n",
      " 18  max_rhm_hrmt       114467 non-null  float64\n",
      " 19  avg_rhm_srv_yn     0 non-null       float64\n",
      " 20  max_rhm_srv_yn     0 non-null       float64\n",
      " 21  min_rhm_srv_yn     0 non-null       float64\n",
      " 22  orgn_stn_id        0 non-null       float64\n",
      " 23  rhm_calp_dtnb      139816 non-null  float64\n",
      " 24  rtm_rhm_srv_yn     0 non-null       float64\n",
      "dtypes: float64(22), int64(2), object(1)\n",
      "memory usage: 26.7+ MB\n"
     ]
    }
   ],
   "source": [
    "rhm = pd.read_csv('../../data/12.rawdata_weather/aws_rhm.csv')\n",
    "rhm.info()"
   ]
  },
  {
   "cell_type": "markdown",
   "metadata": {},
   "source": [
    "## 컬럼 정리"
   ]
  },
  {
   "cell_type": "code",
   "execution_count": 159,
   "metadata": {},
   "outputs": [
    {
     "data": {
      "text/plain": [
       "tma                 0\n",
       "stn_id              0\n",
       "avg_rhm         25481\n",
       "min_rhm         25496\n",
       "min_rhm_hrmt    25351\n",
       "rtm_rhm         25399\n",
       "rtm_rhm_hrmt    25399\n",
       "max_rhm         25496\n",
       "max_rhm_hrmt    25351\n",
       "dtype: int64"
      ]
     },
     "execution_count": 159,
     "metadata": {},
     "output_type": "execute_result"
    }
   ],
   "source": [
    "rhm = drop_cols(rhm)\n",
    "rhm.isnull().sum()"
   ]
  },
  {
   "cell_type": "code",
   "execution_count": 160,
   "metadata": {},
   "outputs": [
    {
     "data": {
      "text/plain": [
       "tma                 0\n",
       "stn_id              0\n",
       "avg_rhm         25481\n",
       "min_rhm         25496\n",
       "min_rhm_hrmt    25351\n",
       "max_rhm         25496\n",
       "max_rhm_hrmt    25351\n",
       "dtype: int64"
      ]
     },
     "execution_count": 160,
     "metadata": {},
     "output_type": "execute_result"
    }
   ],
   "source": [
    "rhm = rhm.drop(columns=['rtm_rhm', 'rtm_rhm_hrmt'])\n",
    "rhm.isnull().sum()"
   ]
  },
  {
   "cell_type": "markdown",
   "metadata": {},
   "source": [
    "## 데이터타입 정리"
   ]
  },
  {
   "cell_type": "code",
   "execution_count": 161,
   "metadata": {},
   "outputs": [
    {
     "data": {
      "text/plain": [
       "tma             datetime64[ns]\n",
       "stn_id                   int64\n",
       "avg_rhm                float64\n",
       "min_rhm                float64\n",
       "min_rhm_hrmt           float64\n",
       "max_rhm                float64\n",
       "max_rhm_hrmt           float64\n",
       "dtype: object"
      ]
     },
     "execution_count": 161,
     "metadata": {},
     "output_type": "execute_result"
    }
   ],
   "source": [
    "rhm['tma'] = pd.to_datetime(rhm['tma'])\n",
    "rhm.dtypes"
   ]
  },
  {
   "cell_type": "markdown",
   "metadata": {},
   "source": [
    "## 정렬"
   ]
  },
  {
   "cell_type": "code",
   "execution_count": 162,
   "metadata": {},
   "outputs": [
    {
     "data": {
      "text/html": [
       "<div>\n",
       "<style scoped>\n",
       "    .dataframe tbody tr th:only-of-type {\n",
       "        vertical-align: middle;\n",
       "    }\n",
       "\n",
       "    .dataframe tbody tr th {\n",
       "        vertical-align: top;\n",
       "    }\n",
       "\n",
       "    .dataframe thead th {\n",
       "        text-align: right;\n",
       "    }\n",
       "</style>\n",
       "<table border=\"1\" class=\"dataframe\">\n",
       "  <thead>\n",
       "    <tr style=\"text-align: right;\">\n",
       "      <th></th>\n",
       "      <th>tma</th>\n",
       "      <th>stn_id</th>\n",
       "      <th>avg_rhm</th>\n",
       "      <th>min_rhm</th>\n",
       "      <th>min_rhm_hrmt</th>\n",
       "      <th>max_rhm</th>\n",
       "      <th>max_rhm_hrmt</th>\n",
       "    </tr>\n",
       "  </thead>\n",
       "  <tbody>\n",
       "    <tr>\n",
       "      <th>0</th>\n",
       "      <td>2016-04-01 00:00:00</td>\n",
       "      <td>515</td>\n",
       "      <td>54.9</td>\n",
       "      <td>46.2</td>\n",
       "      <td>2324.0</td>\n",
       "      <td>62.4</td>\n",
       "      <td>2355.0</td>\n",
       "    </tr>\n",
       "    <tr>\n",
       "      <th>1</th>\n",
       "      <td>2016-04-01 00:00:00</td>\n",
       "      <td>616</td>\n",
       "      <td>42.4</td>\n",
       "      <td>37.9</td>\n",
       "      <td>2309.0</td>\n",
       "      <td>47.4</td>\n",
       "      <td>2339.0</td>\n",
       "    </tr>\n",
       "    <tr>\n",
       "      <th>2</th>\n",
       "      <td>2016-04-01 00:00:00</td>\n",
       "      <td>634</td>\n",
       "      <td>44.2</td>\n",
       "      <td>39.5</td>\n",
       "      <td>2338.0</td>\n",
       "      <td>50.3</td>\n",
       "      <td>0.0</td>\n",
       "    </tr>\n",
       "    <tr>\n",
       "      <th>3</th>\n",
       "      <td>2016-04-01 00:00:00</td>\n",
       "      <td>637</td>\n",
       "      <td>NaN</td>\n",
       "      <td>NaN</td>\n",
       "      <td>NaN</td>\n",
       "      <td>NaN</td>\n",
       "      <td>NaN</td>\n",
       "    </tr>\n",
       "    <tr>\n",
       "      <th>4</th>\n",
       "      <td>2016-04-01 01:00:00</td>\n",
       "      <td>515</td>\n",
       "      <td>61.3</td>\n",
       "      <td>54.2</td>\n",
       "      <td>4.0</td>\n",
       "      <td>65.5</td>\n",
       "      <td>57.0</td>\n",
       "    </tr>\n",
       "  </tbody>\n",
       "</table>\n",
       "</div>"
      ],
      "text/plain": [
       "                  tma  stn_id  avg_rhm  min_rhm  min_rhm_hrmt  max_rhm  \\\n",
       "0 2016-04-01 00:00:00     515     54.9     46.2        2324.0     62.4   \n",
       "1 2016-04-01 00:00:00     616     42.4     37.9        2309.0     47.4   \n",
       "2 2016-04-01 00:00:00     634     44.2     39.5        2338.0     50.3   \n",
       "3 2016-04-01 00:00:00     637      NaN      NaN           NaN      NaN   \n",
       "4 2016-04-01 01:00:00     515     61.3     54.2           4.0     65.5   \n",
       "\n",
       "   max_rhm_hrmt  \n",
       "0        2355.0  \n",
       "1        2339.0  \n",
       "2           0.0  \n",
       "3           NaN  \n",
       "4          57.0  "
      ]
     },
     "execution_count": 162,
     "metadata": {},
     "output_type": "execute_result"
    }
   ],
   "source": [
    "rhm = sort_by(rhm)\n",
    "rhm.head()"
   ]
  },
  {
   "cell_type": "markdown",
   "metadata": {},
   "source": [
    "## 결측치 & 이상치 처리"
   ]
  },
  {
   "cell_type": "code",
   "execution_count": 163,
   "metadata": {},
   "outputs": [
    {
     "data": {
      "text/plain": [
       "tma             0.000000\n",
       "stn_id          0.000000\n",
       "avg_rhm         0.182244\n",
       "min_rhm         0.182351\n",
       "min_rhm_hrmt    0.181314\n",
       "max_rhm         0.182351\n",
       "max_rhm_hrmt    0.181314\n",
       "dtype: float64"
      ]
     },
     "execution_count": 163,
     "metadata": {},
     "output_type": "execute_result"
    }
   ],
   "source": [
    "rhm.isnull().mean()"
   ]
  },
  {
   "cell_type": "code",
   "execution_count": 164,
   "metadata": {},
   "outputs": [
    {
     "data": {
      "image/png": "[encoded data removed]",
      "text/plain": [
       "<Figure size 1080x1440 with 5 Axes>"
      ]
     },
     "metadata": {
      "needs_background": "light"
     },
     "output_type": "display_data"
    }
   ],
   "source": [
    "multi_distplot(rhm)"
   ]
  },
  {
   "cell_type": "code",
   "execution_count": 165,
   "metadata": {},
   "outputs": [
    {
     "data": {
      "text/plain": [
       "<matplotlib.axes._subplots.AxesSubplot at 0x18a0035b648>"
      ]
     },
     "execution_count": 165,
     "metadata": {},
     "output_type": "execute_result"
    },
    {
     "data": {
      "image/png": "[encoded data removed]",
      "text/plain": [
       "<Figure size 720x720 with 2 Axes>"
      ]
     },
     "metadata": {
      "needs_background": "light"
     },
     "output_type": "display_data"
    }
   ],
   "source": [
    "plt.figure(figsize=(10,10))\n",
    "sns.heatmap(rhm.isnull(), cmap=\"Greys\")"
   ]
  },
  {
   "cell_type": "code",
   "execution_count": 166,
   "metadata": {},
   "outputs": [
    {
     "data": {
      "text/html": [
       "<div>\n",
       "<style scoped>\n",
       "    .dataframe tbody tr th:only-of-type {\n",
       "        vertical-align: middle;\n",
       "    }\n",
       "\n",
       "    .dataframe tbody tr th {\n",
       "        vertical-align: top;\n",
       "    }\n",
       "\n",
       "    .dataframe thead th {\n",
       "        text-align: right;\n",
       "    }\n",
       "</style>\n",
       "<table border=\"1\" class=\"dataframe\">\n",
       "  <thead>\n",
       "    <tr style=\"text-align: right;\">\n",
       "      <th></th>\n",
       "      <th>tma</th>\n",
       "      <th>avg_rhm</th>\n",
       "      <th>min_rhm</th>\n",
       "      <th>min_rhm_hrmt</th>\n",
       "      <th>max_rhm</th>\n",
       "      <th>max_rhm_hrmt</th>\n",
       "    </tr>\n",
       "    <tr>\n",
       "      <th>stn_id</th>\n",
       "      <th></th>\n",
       "      <th></th>\n",
       "      <th></th>\n",
       "      <th></th>\n",
       "      <th></th>\n",
       "      <th></th>\n",
       "    </tr>\n",
       "  </thead>\n",
       "  <tbody>\n",
       "    <tr>\n",
       "      <th>515</th>\n",
       "      <td>35017</td>\n",
       "      <td>34991</td>\n",
       "      <td>34990</td>\n",
       "      <td>35016</td>\n",
       "      <td>34990</td>\n",
       "      <td>35016</td>\n",
       "    </tr>\n",
       "    <tr>\n",
       "      <th>616</th>\n",
       "      <td>34907</td>\n",
       "      <td>34855</td>\n",
       "      <td>34848</td>\n",
       "      <td>34907</td>\n",
       "      <td>34848</td>\n",
       "      <td>34907</td>\n",
       "    </tr>\n",
       "    <tr>\n",
       "      <th>634</th>\n",
       "      <td>34896</td>\n",
       "      <td>34849</td>\n",
       "      <td>34846</td>\n",
       "      <td>34894</td>\n",
       "      <td>34846</td>\n",
       "      <td>34894</td>\n",
       "    </tr>\n",
       "    <tr>\n",
       "      <th>637</th>\n",
       "      <td>34998</td>\n",
       "      <td>9642</td>\n",
       "      <td>9638</td>\n",
       "      <td>9650</td>\n",
       "      <td>9638</td>\n",
       "      <td>9650</td>\n",
       "    </tr>\n",
       "  </tbody>\n",
       "</table>\n",
       "</div>"
      ],
      "text/plain": [
       "          tma  avg_rhm  min_rhm  min_rhm_hrmt  max_rhm  max_rhm_hrmt\n",
       "stn_id                                                              \n",
       "515     35017    34991    34990         35016    34990         35016\n",
       "616     34907    34855    34848         34907    34848         34907\n",
       "634     34896    34849    34846         34894    34846         34894\n",
       "637     34998     9642     9638          9650     9638          9650"
      ]
     },
     "execution_count": 166,
     "metadata": {},
     "output_type": "execute_result"
    }
   ],
   "source": [
    "rhm.groupby(by='stn_id').count()"
   ]
  },
  {
   "cell_type": "markdown",
   "metadata": {},
   "source": [
    "637 지점에서 결측치가 많이 발생함"
   ]
  },
  {
   "cell_type": "code",
   "execution_count": 167,
   "metadata": {},
   "outputs": [],
   "source": [
    "rhm_637 = rhm[rhm['stn_id']==637].copy()"
   ]
  },
  {
   "cell_type": "code",
   "execution_count": 168,
   "metadata": {},
   "outputs": [
    {
     "data": {
      "text/plain": [
       "tma             0.000000\n",
       "stn_id          0.000000\n",
       "avg_rhm         0.724499\n",
       "min_rhm         0.724613\n",
       "min_rhm_hrmt    0.724270\n",
       "max_rhm         0.724613\n",
       "max_rhm_hrmt    0.724270\n",
       "dtype: float64"
      ]
     },
     "execution_count": 168,
     "metadata": {},
     "output_type": "execute_result"
    }
   ],
   "source": [
    "rhm_637.isnull().mean()"
   ]
  },
  {
   "cell_type": "markdown",
   "metadata": {},
   "source": [
    "637 지점의 결측치가 70% 이상이므로 637 데이터 제외하기"
   ]
  },
  {
   "cell_type": "code",
   "execution_count": 169,
   "metadata": {},
   "outputs": [
    {
     "data": {
      "text/html": [
       "<div>\n",
       "<style scoped>\n",
       "    .dataframe tbody tr th:only-of-type {\n",
       "        vertical-align: middle;\n",
       "    }\n",
       "\n",
       "    .dataframe tbody tr th {\n",
       "        vertical-align: top;\n",
       "    }\n",
       "\n",
       "    .dataframe thead th {\n",
       "        text-align: right;\n",
       "    }\n",
       "</style>\n",
       "<table border=\"1\" class=\"dataframe\">\n",
       "  <thead>\n",
       "    <tr style=\"text-align: right;\">\n",
       "      <th></th>\n",
       "      <th>tma</th>\n",
       "      <th>stn_id</th>\n",
       "      <th>avg_rhm</th>\n",
       "      <th>min_rhm</th>\n",
       "      <th>min_rhm_hrmt</th>\n",
       "      <th>max_rhm</th>\n",
       "      <th>max_rhm_hrmt</th>\n",
       "    </tr>\n",
       "  </thead>\n",
       "  <tbody>\n",
       "    <tr>\n",
       "      <th>0</th>\n",
       "      <td>2016-04-01 00:00:00</td>\n",
       "      <td>515</td>\n",
       "      <td>54.9</td>\n",
       "      <td>46.2</td>\n",
       "      <td>2324.0</td>\n",
       "      <td>62.4</td>\n",
       "      <td>2355.0</td>\n",
       "    </tr>\n",
       "    <tr>\n",
       "      <th>1</th>\n",
       "      <td>2016-04-01 00:00:00</td>\n",
       "      <td>616</td>\n",
       "      <td>42.4</td>\n",
       "      <td>37.9</td>\n",
       "      <td>2309.0</td>\n",
       "      <td>47.4</td>\n",
       "      <td>2339.0</td>\n",
       "    </tr>\n",
       "    <tr>\n",
       "      <th>2</th>\n",
       "      <td>2016-04-01 00:00:00</td>\n",
       "      <td>634</td>\n",
       "      <td>44.2</td>\n",
       "      <td>39.5</td>\n",
       "      <td>2338.0</td>\n",
       "      <td>50.3</td>\n",
       "      <td>0.0</td>\n",
       "    </tr>\n",
       "    <tr>\n",
       "      <th>4</th>\n",
       "      <td>2016-04-01 01:00:00</td>\n",
       "      <td>515</td>\n",
       "      <td>61.3</td>\n",
       "      <td>54.2</td>\n",
       "      <td>4.0</td>\n",
       "      <td>65.5</td>\n",
       "      <td>57.0</td>\n",
       "    </tr>\n",
       "    <tr>\n",
       "      <th>5</th>\n",
       "      <td>2016-04-01 01:00:00</td>\n",
       "      <td>616</td>\n",
       "      <td>42.9</td>\n",
       "      <td>39.4</td>\n",
       "      <td>32.0</td>\n",
       "      <td>47.4</td>\n",
       "      <td>42.0</td>\n",
       "    </tr>\n",
       "  </tbody>\n",
       "</table>\n",
       "</div>"
      ],
      "text/plain": [
       "                  tma  stn_id  avg_rhm  min_rhm  min_rhm_hrmt  max_rhm  \\\n",
       "0 2016-04-01 00:00:00     515     54.9     46.2        2324.0     62.4   \n",
       "1 2016-04-01 00:00:00     616     42.4     37.9        2309.0     47.4   \n",
       "2 2016-04-01 00:00:00     634     44.2     39.5        2338.0     50.3   \n",
       "4 2016-04-01 01:00:00     515     61.3     54.2           4.0     65.5   \n",
       "5 2016-04-01 01:00:00     616     42.9     39.4          32.0     47.4   \n",
       "\n",
       "   max_rhm_hrmt  \n",
       "0        2355.0  \n",
       "1        2339.0  \n",
       "2           0.0  \n",
       "4          57.0  \n",
       "5          42.0  "
      ]
     },
     "execution_count": 169,
     "metadata": {},
     "output_type": "execute_result"
    }
   ],
   "source": [
    "rhm_no637 = rhm[rhm['stn_id']!=637].copy()\n",
    "rhm_no637.head()"
   ]
  },
  {
   "cell_type": "code",
   "execution_count": 170,
   "metadata": {},
   "outputs": [
    {
     "data": {
      "text/plain": [
       "tma             0.000000\n",
       "stn_id          0.000000\n",
       "avg_rhm         0.001193\n",
       "min_rhm         0.001297\n",
       "min_rhm_hrmt    0.000029\n",
       "max_rhm         0.001297\n",
       "max_rhm_hrmt    0.000029\n",
       "dtype: float64"
      ]
     },
     "execution_count": 170,
     "metadata": {},
     "output_type": "execute_result"
    }
   ],
   "source": [
    "rhm_no637.isnull().mean()"
   ]
  },
  {
   "cell_type": "code",
   "execution_count": 171,
   "metadata": {
    "scrolled": false
   },
   "outputs": [
    {
     "data": {
      "text/plain": [
       "tma             0\n",
       "stn_id          0\n",
       "avg_rhm         0\n",
       "min_rhm         0\n",
       "min_rhm_hrmt    0\n",
       "max_rhm         0\n",
       "max_rhm_hrmt    0\n",
       "dtype: int64"
      ]
     },
     "execution_count": 171,
     "metadata": {},
     "output_type": "execute_result"
    }
   ],
   "source": [
    "rhm_no637 = rhm_no637.fillna(method='ffill')\n",
    "rhm_no637.isnull().sum()"
   ]
  },
  {
   "cell_type": "code",
   "execution_count": 172,
   "metadata": {},
   "outputs": [],
   "source": [
    "rhm_no637.to_csv('../../data/22.savedata_weather/aws_rhm_no637_save.csv', encoding='utf-8', index=False)"
   ]
  },
  {
   "cell_type": "markdown",
   "metadata": {},
   "source": [
    "# aws_rn"
   ]
  },
  {
   "cell_type": "markdown",
   "metadata": {},
   "source": [
    "## 데이터 확인"
   ]
  },
  {
   "cell_type": "code",
   "execution_count": 125,
   "metadata": {},
   "outputs": [
    {
     "name": "stdout",
     "output_type": "stream",
     "text": [
      "<class 'pandas.core.frame.DataFrame'>\n",
      "RangeIndex: 139820 entries, 0 to 139819\n",
      "Data columns (total 43 columns):\n",
      " #   Column                   Non-Null Count   Dtype  \n",
      "---  ------                   --------------   -----  \n",
      " 0   Unnamed: 0               139820 non-null  int64  \n",
      " 1   tma                      139820 non-null  object \n",
      " 2   stn_id                   139820 non-null  int64  \n",
      " 3   sum_rn                   139769 non-null  float64\n",
      " 4   sum_rn_qcflg             1827 non-null    float64\n",
      " 5   sum_rn_crob              0 non-null       float64\n",
      " 6   sum_rn_calp_dtnb         139816 non-null  float64\n",
      " 7   sum_rn_hrmt              139807 non-null  float64\n",
      " 8   mi1_rn_en_cnt            139820 non-null  int64  \n",
      " 9   mi1_rn_en_cnt_qcflg      0 non-null       float64\n",
      " 10  mi1_rn_en_cnt_crob       0 non-null       float64\n",
      " 11  mi1_rn_en_cnt_calc_dtnb  139820 non-null  int64  \n",
      " 12  hr1_rn                   139154 non-null  float64\n",
      " 13  hr1_rn_qcflg             0 non-null       float64\n",
      " 14  hr1_rn_crob              0 non-null       float64\n",
      " 15  hr1_rn_hrmt              139820 non-null  int64  \n",
      " 16  mi10_max_rn              139161 non-null  float64\n",
      " 17  mi10_max_rn_qcflg        0 non-null       float64\n",
      " 18  mi10_max_rn_crob         0 non-null       float64\n",
      " 19  mi10_max_rn_calp_dtnb    139816 non-null  float64\n",
      " 20  mi10_max_rn_hrmt         139816 non-null  float64\n",
      " 21  mi15_max_rn              139164 non-null  float64\n",
      " 22  mi15_max_rn_qcflg        0 non-null       float64\n",
      " 23  mi15_max_rn_crob         0 non-null       float64\n",
      " 24  mi15_max_rn_calc_dtnb    139820 non-null  int64  \n",
      " 25  mi15_max_rn_hrmt         139808 non-null  float64\n",
      " 26  hr1_max_rn               139196 non-null  float64\n",
      " 27  hr1_max_rn_qcflg         0 non-null       float64\n",
      " 28  hr1_max_rn_crob          0 non-null       float64\n",
      " 29  hr1_max_rn_calc_dtnb     139820 non-null  int64  \n",
      " 30  hr1_max_rn_hrmt          139808 non-null  float64\n",
      " 31  mm0_1_hr1_rn             54611 non-null   float64\n",
      " 32  mm0_1_hr1_rn_qcflg       0 non-null       float64\n",
      " 33  mm0_1_hr1_rn_crob        0 non-null       float64\n",
      " 34  mm0_1_hr1_rn_hrmt        139816 non-null  float64\n",
      " 35  hr1_max_rn_srv_yn        0 non-null       float64\n",
      " 36  hr1_rn_srv_yn            0 non-null       float64\n",
      " 37  mi10_max_rn_srv_yn       0 non-null       float64\n",
      " 38  mi15_max_rn_srv_yn       0 non-null       float64\n",
      " 39  mi1_rn_en_cnt_srv_yn     0 non-null       float64\n",
      " 40  mm0_1_hr1_rn_srv_yn      0 non-null       float64\n",
      " 41  orgn_stn_id              0 non-null       float64\n",
      " 42  sum_rn_srv_yn            0 non-null       float64\n",
      "dtypes: float64(35), int64(7), object(1)\n",
      "memory usage: 45.9+ MB\n"
     ]
    }
   ],
   "source": [
    "rain = pd.read_csv('../../data/12.rawdata_weather/aws_rn.csv')\n",
    "rain.info()"
   ]
  },
  {
   "cell_type": "markdown",
   "metadata": {},
   "source": [
    "## 컬럼 정리"
   ]
  },
  {
   "cell_type": "code",
   "execution_count": 126,
   "metadata": {},
   "outputs": [
    {
     "data": {
      "text/plain": [
       "tma                  0.000000\n",
       "stn_id               0.000000\n",
       "sum_rn               0.000365\n",
       "sum_rn_hrmt          0.000093\n",
       "mi1_rn_en_cnt        0.000000\n",
       "hr1_rn               0.004763\n",
       "hr1_rn_hrmt          0.000000\n",
       "mi10_max_rn          0.004713\n",
       "mi10_max_rn_hrmt     0.000029\n",
       "mi15_max_rn          0.004692\n",
       "mi15_max_rn_hrmt     0.000086\n",
       "hr1_max_rn           0.004463\n",
       "hr1_max_rn_hrmt      0.000086\n",
       "mm0_1_hr1_rn         0.609419\n",
       "mm0_1_hr1_rn_hrmt    0.000029\n",
       "dtype: float64"
      ]
     },
     "execution_count": 126,
     "metadata": {},
     "output_type": "execute_result"
    }
   ],
   "source": [
    "rain = drop_cols(rain)\n",
    "rain.isnull().mean()"
   ]
  },
  {
   "cell_type": "code",
   "execution_count": 127,
   "metadata": {},
   "outputs": [
    {
     "data": {
      "text/plain": [
       "tma                   0\n",
       "stn_id                0\n",
       "sum_rn               51\n",
       "sum_rn_hrmt          13\n",
       "mi1_rn_en_cnt         0\n",
       "hr1_rn              666\n",
       "hr1_rn_hrmt           0\n",
       "mi10_max_rn         659\n",
       "mi10_max_rn_hrmt      4\n",
       "mi15_max_rn         656\n",
       "mi15_max_rn_hrmt     12\n",
       "hr1_max_rn          624\n",
       "hr1_max_rn_hrmt      12\n",
       "dtype: int64"
      ]
     },
     "execution_count": 127,
     "metadata": {},
     "output_type": "execute_result"
    }
   ],
   "source": [
    "rain = rain.drop(columns=['mm0_1_hr1_rn', 'mm0_1_hr1_rn_hrmt'])\n",
    "rain.isnull().sum()"
   ]
  },
  {
   "cell_type": "markdown",
   "metadata": {},
   "source": [
    "## 데이터타입 정리"
   ]
  },
  {
   "cell_type": "code",
   "execution_count": 128,
   "metadata": {},
   "outputs": [
    {
     "data": {
      "text/plain": [
       "tma                 datetime64[ns]\n",
       "stn_id                       int64\n",
       "sum_rn                     float64\n",
       "sum_rn_hrmt                float64\n",
       "mi1_rn_en_cnt                int64\n",
       "hr1_rn                     float64\n",
       "hr1_rn_hrmt                  int64\n",
       "mi10_max_rn                float64\n",
       "mi10_max_rn_hrmt           float64\n",
       "mi15_max_rn                float64\n",
       "mi15_max_rn_hrmt           float64\n",
       "hr1_max_rn                 float64\n",
       "hr1_max_rn_hrmt            float64\n",
       "dtype: object"
      ]
     },
     "execution_count": 128,
     "metadata": {},
     "output_type": "execute_result"
    }
   ],
   "source": [
    "rain['tma'] = pd.to_datetime(rain['tma'])\n",
    "rain.dtypes"
   ]
  },
  {
   "cell_type": "markdown",
   "metadata": {},
   "source": [
    "## 정렬"
   ]
  },
  {
   "cell_type": "code",
   "execution_count": 129,
   "metadata": {},
   "outputs": [
    {
     "data": {
      "text/html": [
       "<div>\n",
       "<style scoped>\n",
       "    .dataframe tbody tr th:only-of-type {\n",
       "        vertical-align: middle;\n",
       "    }\n",
       "\n",
       "    .dataframe tbody tr th {\n",
       "        vertical-align: top;\n",
       "    }\n",
       "\n",
       "    .dataframe thead th {\n",
       "        text-align: right;\n",
       "    }\n",
       "</style>\n",
       "<table border=\"1\" class=\"dataframe\">\n",
       "  <thead>\n",
       "    <tr style=\"text-align: right;\">\n",
       "      <th></th>\n",
       "      <th>tma</th>\n",
       "      <th>stn_id</th>\n",
       "      <th>sum_rn</th>\n",
       "      <th>sum_rn_hrmt</th>\n",
       "      <th>mi1_rn_en_cnt</th>\n",
       "      <th>hr1_rn</th>\n",
       "      <th>hr1_rn_hrmt</th>\n",
       "      <th>mi10_max_rn</th>\n",
       "      <th>mi10_max_rn_hrmt</th>\n",
       "      <th>mi15_max_rn</th>\n",
       "      <th>mi15_max_rn_hrmt</th>\n",
       "      <th>hr1_max_rn</th>\n",
       "      <th>hr1_max_rn_hrmt</th>\n",
       "    </tr>\n",
       "  </thead>\n",
       "  <tbody>\n",
       "    <tr>\n",
       "      <th>0</th>\n",
       "      <td>2016-04-01 00:00:00</td>\n",
       "      <td>515</td>\n",
       "      <td>0.0</td>\n",
       "      <td>0.0</td>\n",
       "      <td>0</td>\n",
       "      <td>0.0</td>\n",
       "      <td>0</td>\n",
       "      <td>0.0</td>\n",
       "      <td>2301.0</td>\n",
       "      <td>0.0</td>\n",
       "      <td>2301.0</td>\n",
       "      <td>0.0</td>\n",
       "      <td>2301.0</td>\n",
       "    </tr>\n",
       "    <tr>\n",
       "      <th>1</th>\n",
       "      <td>2016-04-01 00:00:00</td>\n",
       "      <td>616</td>\n",
       "      <td>0.0</td>\n",
       "      <td>0.0</td>\n",
       "      <td>0</td>\n",
       "      <td>0.0</td>\n",
       "      <td>0</td>\n",
       "      <td>0.0</td>\n",
       "      <td>2301.0</td>\n",
       "      <td>0.0</td>\n",
       "      <td>2301.0</td>\n",
       "      <td>0.0</td>\n",
       "      <td>2301.0</td>\n",
       "    </tr>\n",
       "    <tr>\n",
       "      <th>2</th>\n",
       "      <td>2016-04-01 00:00:00</td>\n",
       "      <td>634</td>\n",
       "      <td>0.0</td>\n",
       "      <td>0.0</td>\n",
       "      <td>0</td>\n",
       "      <td>0.0</td>\n",
       "      <td>0</td>\n",
       "      <td>0.0</td>\n",
       "      <td>2301.0</td>\n",
       "      <td>0.0</td>\n",
       "      <td>2301.0</td>\n",
       "      <td>0.0</td>\n",
       "      <td>2301.0</td>\n",
       "    </tr>\n",
       "    <tr>\n",
       "      <th>3</th>\n",
       "      <td>2016-04-01 00:00:00</td>\n",
       "      <td>637</td>\n",
       "      <td>0.0</td>\n",
       "      <td>0.0</td>\n",
       "      <td>0</td>\n",
       "      <td>0.0</td>\n",
       "      <td>0</td>\n",
       "      <td>0.0</td>\n",
       "      <td>2301.0</td>\n",
       "      <td>0.0</td>\n",
       "      <td>2301.0</td>\n",
       "      <td>0.0</td>\n",
       "      <td>2301.0</td>\n",
       "    </tr>\n",
       "    <tr>\n",
       "      <th>4</th>\n",
       "      <td>2016-04-01 01:00:00</td>\n",
       "      <td>515</td>\n",
       "      <td>0.0</td>\n",
       "      <td>100.0</td>\n",
       "      <td>0</td>\n",
       "      <td>0.0</td>\n",
       "      <td>100</td>\n",
       "      <td>0.0</td>\n",
       "      <td>1.0</td>\n",
       "      <td>0.0</td>\n",
       "      <td>1.0</td>\n",
       "      <td>0.0</td>\n",
       "      <td>1.0</td>\n",
       "    </tr>\n",
       "  </tbody>\n",
       "</table>\n",
       "</div>"
      ],
      "text/plain": [
       "                  tma  stn_id  sum_rn  sum_rn_hrmt  mi1_rn_en_cnt  hr1_rn  \\\n",
       "0 2016-04-01 00:00:00     515     0.0          0.0              0     0.0   \n",
       "1 2016-04-01 00:00:00     616     0.0          0.0              0     0.0   \n",
       "2 2016-04-01 00:00:00     634     0.0          0.0              0     0.0   \n",
       "3 2016-04-01 00:00:00     637     0.0          0.0              0     0.0   \n",
       "4 2016-04-01 01:00:00     515     0.0        100.0              0     0.0   \n",
       "\n",
       "   hr1_rn_hrmt  mi10_max_rn  mi10_max_rn_hrmt  mi15_max_rn  mi15_max_rn_hrmt  \\\n",
       "0            0          0.0            2301.0          0.0            2301.0   \n",
       "1            0          0.0            2301.0          0.0            2301.0   \n",
       "2            0          0.0            2301.0          0.0            2301.0   \n",
       "3            0          0.0            2301.0          0.0            2301.0   \n",
       "4          100          0.0               1.0          0.0               1.0   \n",
       "\n",
       "   hr1_max_rn  hr1_max_rn_hrmt  \n",
       "0         0.0           2301.0  \n",
       "1         0.0           2301.0  \n",
       "2         0.0           2301.0  \n",
       "3         0.0           2301.0  \n",
       "4         0.0              1.0  "
      ]
     },
     "execution_count": 129,
     "metadata": {},
     "output_type": "execute_result"
    }
   ],
   "source": [
    "rain = sort_by(rain)\n",
    "rain.head()"
   ]
  },
  {
   "cell_type": "markdown",
   "metadata": {},
   "source": [
    "## 결측치 & 이상치 처리"
   ]
  },
  {
   "cell_type": "code",
   "execution_count": 130,
   "metadata": {},
   "outputs": [
    {
     "data": {
      "image/png": "[encoded data removed]",
      "text/plain": [
       "<Figure size 1080x1440 with 11 Axes>"
      ]
     },
     "metadata": {
      "needs_background": "light"
     },
     "output_type": "display_data"
    }
   ],
   "source": [
    "multi_distplot(rain)"
   ]
  },
  {
   "cell_type": "code",
   "execution_count": 131,
   "metadata": {},
   "outputs": [
    {
     "data": {
      "text/plain": [
       "<matplotlib.axes._subplots.AxesSubplot at 0x18a68e60fc8>"
      ]
     },
     "execution_count": 131,
     "metadata": {},
     "output_type": "execute_result"
    },
    {
     "data": {
      "image/png": "[encoded data removed]",
      "text/plain": [
       "<Figure size 1080x720 with 2 Axes>"
      ]
     },
     "metadata": {
      "needs_background": "light"
     },
     "output_type": "display_data"
    }
   ],
   "source": [
    "plt.figure(figsize=(15, 10))\n",
    "\n",
    "sns.heatmap(rain.isnull(), cmap='Greys')"
   ]
  },
  {
   "cell_type": "code",
   "execution_count": 132,
   "metadata": {},
   "outputs": [
    {
     "data": {
      "text/html": [
       "<div>\n",
       "<style scoped>\n",
       "    .dataframe tbody tr th:only-of-type {\n",
       "        vertical-align: middle;\n",
       "    }\n",
       "\n",
       "    .dataframe tbody tr th {\n",
       "        vertical-align: top;\n",
       "    }\n",
       "\n",
       "    .dataframe thead th {\n",
       "        text-align: right;\n",
       "    }\n",
       "</style>\n",
       "<table border=\"1\" class=\"dataframe\">\n",
       "  <thead>\n",
       "    <tr style=\"text-align: right;\">\n",
       "      <th></th>\n",
       "      <th>tma</th>\n",
       "      <th>sum_rn</th>\n",
       "      <th>sum_rn_hrmt</th>\n",
       "      <th>mi1_rn_en_cnt</th>\n",
       "      <th>hr1_rn</th>\n",
       "      <th>hr1_rn_hrmt</th>\n",
       "      <th>mi10_max_rn</th>\n",
       "      <th>mi10_max_rn_hrmt</th>\n",
       "      <th>mi15_max_rn</th>\n",
       "      <th>mi15_max_rn_hrmt</th>\n",
       "      <th>hr1_max_rn</th>\n",
       "      <th>hr1_max_rn_hrmt</th>\n",
       "    </tr>\n",
       "    <tr>\n",
       "      <th>stn_id</th>\n",
       "      <th></th>\n",
       "      <th></th>\n",
       "      <th></th>\n",
       "      <th></th>\n",
       "      <th></th>\n",
       "      <th></th>\n",
       "      <th></th>\n",
       "      <th></th>\n",
       "      <th></th>\n",
       "      <th></th>\n",
       "      <th></th>\n",
       "      <th></th>\n",
       "    </tr>\n",
       "  </thead>\n",
       "  <tbody>\n",
       "    <tr>\n",
       "      <th>515</th>\n",
       "      <td>35016</td>\n",
       "      <td>35002</td>\n",
       "      <td>35016</td>\n",
       "      <td>35016</td>\n",
       "      <td>34695</td>\n",
       "      <td>35016</td>\n",
       "      <td>34697</td>\n",
       "      <td>35016</td>\n",
       "      <td>34699</td>\n",
       "      <td>35016</td>\n",
       "      <td>34716</td>\n",
       "      <td>35016</td>\n",
       "    </tr>\n",
       "    <tr>\n",
       "      <th>616</th>\n",
       "      <td>34911</td>\n",
       "      <td>34898</td>\n",
       "      <td>34898</td>\n",
       "      <td>34911</td>\n",
       "      <td>34799</td>\n",
       "      <td>34911</td>\n",
       "      <td>34801</td>\n",
       "      <td>34907</td>\n",
       "      <td>34801</td>\n",
       "      <td>34899</td>\n",
       "      <td>34805</td>\n",
       "      <td>34899</td>\n",
       "    </tr>\n",
       "    <tr>\n",
       "      <th>634</th>\n",
       "      <td>34896</td>\n",
       "      <td>34872</td>\n",
       "      <td>34896</td>\n",
       "      <td>34896</td>\n",
       "      <td>34790</td>\n",
       "      <td>34896</td>\n",
       "      <td>34791</td>\n",
       "      <td>34896</td>\n",
       "      <td>34791</td>\n",
       "      <td>34896</td>\n",
       "      <td>34796</td>\n",
       "      <td>34896</td>\n",
       "    </tr>\n",
       "    <tr>\n",
       "      <th>637</th>\n",
       "      <td>34997</td>\n",
       "      <td>34997</td>\n",
       "      <td>34997</td>\n",
       "      <td>34997</td>\n",
       "      <td>34870</td>\n",
       "      <td>34997</td>\n",
       "      <td>34872</td>\n",
       "      <td>34997</td>\n",
       "      <td>34873</td>\n",
       "      <td>34997</td>\n",
       "      <td>34879</td>\n",
       "      <td>34997</td>\n",
       "    </tr>\n",
       "  </tbody>\n",
       "</table>\n",
       "</div>"
      ],
      "text/plain": [
       "          tma  sum_rn  sum_rn_hrmt  mi1_rn_en_cnt  hr1_rn  hr1_rn_hrmt  \\\n",
       "stn_id                                                                   \n",
       "515     35016   35002        35016          35016   34695        35016   \n",
       "616     34911   34898        34898          34911   34799        34911   \n",
       "634     34896   34872        34896          34896   34790        34896   \n",
       "637     34997   34997        34997          34997   34870        34997   \n",
       "\n",
       "        mi10_max_rn  mi10_max_rn_hrmt  mi15_max_rn  mi15_max_rn_hrmt  \\\n",
       "stn_id                                                                 \n",
       "515           34697             35016        34699             35016   \n",
       "616           34801             34907        34801             34899   \n",
       "634           34791             34896        34791             34896   \n",
       "637           34872             34997        34873             34997   \n",
       "\n",
       "        hr1_max_rn  hr1_max_rn_hrmt  \n",
       "stn_id                               \n",
       "515          34716            35016  \n",
       "616          34805            34899  \n",
       "634          34796            34896  \n",
       "637          34879            34997  "
      ]
     },
     "execution_count": 132,
     "metadata": {},
     "output_type": "execute_result"
    }
   ],
   "source": [
    "rain.groupby(by='stn_id').count()"
   ]
  },
  {
   "cell_type": "code",
   "execution_count": 133,
   "metadata": {},
   "outputs": [
    {
     "data": {
      "text/plain": [
       "tma                 0\n",
       "stn_id              0\n",
       "sum_rn              0\n",
       "sum_rn_hrmt         0\n",
       "mi1_rn_en_cnt       0\n",
       "hr1_rn              0\n",
       "hr1_rn_hrmt         0\n",
       "mi10_max_rn         0\n",
       "mi10_max_rn_hrmt    0\n",
       "mi15_max_rn         0\n",
       "mi15_max_rn_hrmt    0\n",
       "hr1_max_rn          0\n",
       "hr1_max_rn_hrmt     0\n",
       "dtype: int64"
      ]
     },
     "execution_count": 133,
     "metadata": {},
     "output_type": "execute_result"
    }
   ],
   "source": [
    "rain = rain.fillna(method='ffill')\n",
    "rain.isnull().sum()"
   ]
  },
  {
   "cell_type": "code",
   "execution_count": 134,
   "metadata": {},
   "outputs": [
    {
     "data": {
      "image/png": "[encoded data removed]",
      "text/plain": [
       "<Figure size 1080x1440 with 11 Axes>"
      ]
     },
     "metadata": {
      "needs_background": "light"
     },
     "output_type": "display_data"
    }
   ],
   "source": [
    "multi_distplot(rain)"
   ]
  },
  {
   "cell_type": "code",
   "execution_count": 135,
   "metadata": {},
   "outputs": [],
   "source": [
    "rain.to_csv('../../data/22.savedata_weather/aws_rn_save.csv', encoding='utf-8', index=False)"
   ]
  },
  {
   "cell_type": "markdown",
   "metadata": {},
   "source": [
    "# aws_ta\n",
    "## 데이터 확인"
   ]
  },
  {
   "cell_type": "code",
   "execution_count": 136,
   "metadata": {},
   "outputs": [
    {
     "name": "stdout",
     "output_type": "stream",
     "text": [
      "<class 'pandas.core.frame.DataFrame'>\n",
      "RangeIndex: 139818 entries, 0 to 139817\n",
      "Data columns (total 25 columns):\n",
      " #   Column            Non-Null Count   Dtype  \n",
      "---  ------            --------------   -----  \n",
      " 0   Unnamed: 0        139818 non-null  int64  \n",
      " 1   tma               139818 non-null  object \n",
      " 2   stn_id            139818 non-null  int64  \n",
      " 3   avg_ta            139560 non-null  float64\n",
      " 4   avg_ta_qcflg      12896 non-null   float64\n",
      " 5   avg_ta_crob       187 non-null     float64\n",
      " 6   avg_ta_calc_dtnb  139816 non-null  float64\n",
      " 7   max_ta            139560 non-null  float64\n",
      " 8   max_ta_qcflg      0 non-null       float64\n",
      " 9   max_ta_crob       187 non-null     float64\n",
      " 10  max_ta_hrmt       139747 non-null  float64\n",
      " 11  min_ta            139560 non-null  float64\n",
      " 12  min_ta_qcflg      0 non-null       float64\n",
      " 13  min_ta_crob       187 non-null     float64\n",
      " 14  min_ta_hrmt       139747 non-null  float64\n",
      " 15  ta_calp_dtnb      139816 non-null  float64\n",
      " 16  rtm_ta            139681 non-null  float64\n",
      " 17  rtm_ta_qcflg      0 non-null       float64\n",
      " 18  rtm_ta_crob       0 non-null       float64\n",
      " 19  rtm_ta_hrmt       139681 non-null  float64\n",
      " 20  avg_ta_srv_yn     0 non-null       float64\n",
      " 21  max_ta_srv_yn     0 non-null       float64\n",
      " 22  min_ta_srv_yn     0 non-null       float64\n",
      " 23  orgn_stn_id       0 non-null       float64\n",
      " 24  rtm_ta_srv_yn     0 non-null       float64\n",
      "dtypes: float64(22), int64(2), object(1)\n",
      "memory usage: 26.7+ MB\n"
     ]
    }
   ],
   "source": [
    "tem = pd.read_csv('../../data/12.rawdata_weather/aws_ta.csv')\n",
    "tem.info()"
   ]
  },
  {
   "cell_type": "markdown",
   "metadata": {},
   "source": [
    "## 컬럼 정리"
   ]
  },
  {
   "cell_type": "code",
   "execution_count": 137,
   "metadata": {},
   "outputs": [
    {
     "data": {
      "text/plain": [
       "tma              0\n",
       "stn_id           0\n",
       "avg_ta         258\n",
       "max_ta         258\n",
       "max_ta_hrmt     71\n",
       "min_ta         258\n",
       "min_ta_hrmt     71\n",
       "rtm_ta         137\n",
       "rtm_ta_hrmt    137\n",
       "dtype: int64"
      ]
     },
     "execution_count": 137,
     "metadata": {},
     "output_type": "execute_result"
    }
   ],
   "source": [
    "tem = drop_cols(tem)\n",
    "tem.isnull().sum()"
   ]
  },
  {
   "cell_type": "code",
   "execution_count": 138,
   "metadata": {},
   "outputs": [
    {
     "name": "stdout",
     "output_type": "stream",
     "text": [
      "<class 'pandas.core.frame.DataFrame'>\n",
      "RangeIndex: 139818 entries, 0 to 139817\n",
      "Data columns (total 7 columns):\n",
      " #   Column       Non-Null Count   Dtype  \n",
      "---  ------       --------------   -----  \n",
      " 0   tma          139818 non-null  object \n",
      " 1   stn_id       139818 non-null  int64  \n",
      " 2   avg_ta       139560 non-null  float64\n",
      " 3   max_ta       139560 non-null  float64\n",
      " 4   max_ta_hrmt  139747 non-null  float64\n",
      " 5   min_ta       139560 non-null  float64\n",
      " 6   min_ta_hrmt  139747 non-null  float64\n",
      "dtypes: float64(5), int64(1), object(1)\n",
      "memory usage: 7.5+ MB\n"
     ]
    }
   ],
   "source": [
    "tem = tem.drop(columns=['rtm_ta', 'rtm_ta_hrmt'])\n",
    "tem.info()"
   ]
  },
  {
   "cell_type": "markdown",
   "metadata": {},
   "source": [
    "## 데이터타입 정리"
   ]
  },
  {
   "cell_type": "code",
   "execution_count": 139,
   "metadata": {},
   "outputs": [
    {
     "data": {
      "text/plain": [
       "tma            datetime64[ns]\n",
       "stn_id                  int64\n",
       "avg_ta                float64\n",
       "max_ta                float64\n",
       "max_ta_hrmt           float64\n",
       "min_ta                float64\n",
       "min_ta_hrmt           float64\n",
       "dtype: object"
      ]
     },
     "execution_count": 139,
     "metadata": {},
     "output_type": "execute_result"
    }
   ],
   "source": [
    "tem['tma'] = pd.to_datetime(tem['tma'])\n",
    "tem.dtypes"
   ]
  },
  {
   "cell_type": "markdown",
   "metadata": {},
   "source": [
    "## 정렬"
   ]
  },
  {
   "cell_type": "code",
   "execution_count": 140,
   "metadata": {},
   "outputs": [
    {
     "data": {
      "text/html": [
       "<div>\n",
       "<style scoped>\n",
       "    .dataframe tbody tr th:only-of-type {\n",
       "        vertical-align: middle;\n",
       "    }\n",
       "\n",
       "    .dataframe tbody tr th {\n",
       "        vertical-align: top;\n",
       "    }\n",
       "\n",
       "    .dataframe thead th {\n",
       "        text-align: right;\n",
       "    }\n",
       "</style>\n",
       "<table border=\"1\" class=\"dataframe\">\n",
       "  <thead>\n",
       "    <tr style=\"text-align: right;\">\n",
       "      <th></th>\n",
       "      <th>tma</th>\n",
       "      <th>stn_id</th>\n",
       "      <th>avg_ta</th>\n",
       "      <th>max_ta</th>\n",
       "      <th>max_ta_hrmt</th>\n",
       "      <th>min_ta</th>\n",
       "      <th>min_ta_hrmt</th>\n",
       "    </tr>\n",
       "  </thead>\n",
       "  <tbody>\n",
       "    <tr>\n",
       "      <th>0</th>\n",
       "      <td>2016-04-01 00:00:00</td>\n",
       "      <td>515</td>\n",
       "      <td>8.0</td>\n",
       "      <td>8.9</td>\n",
       "      <td>2328.0</td>\n",
       "      <td>7.3</td>\n",
       "      <td>2354.0</td>\n",
       "    </tr>\n",
       "    <tr>\n",
       "      <th>1</th>\n",
       "      <td>2016-04-01 00:00:00</td>\n",
       "      <td>616</td>\n",
       "      <td>7.2</td>\n",
       "      <td>7.8</td>\n",
       "      <td>2303.0</td>\n",
       "      <td>6.6</td>\n",
       "      <td>2337.0</td>\n",
       "    </tr>\n",
       "    <tr>\n",
       "      <th>2</th>\n",
       "      <td>2016-04-01 00:00:00</td>\n",
       "      <td>634</td>\n",
       "      <td>8.7</td>\n",
       "      <td>9.1</td>\n",
       "      <td>2326.0</td>\n",
       "      <td>8.2</td>\n",
       "      <td>0.0</td>\n",
       "    </tr>\n",
       "    <tr>\n",
       "      <th>3</th>\n",
       "      <td>2016-04-01 00:00:00</td>\n",
       "      <td>637</td>\n",
       "      <td>7.1</td>\n",
       "      <td>8.1</td>\n",
       "      <td>2309.0</td>\n",
       "      <td>6.4</td>\n",
       "      <td>2323.0</td>\n",
       "    </tr>\n",
       "    <tr>\n",
       "      <th>4</th>\n",
       "      <td>2016-04-01 01:00:00</td>\n",
       "      <td>515</td>\n",
       "      <td>6.6</td>\n",
       "      <td>7.7</td>\n",
       "      <td>3.0</td>\n",
       "      <td>5.8</td>\n",
       "      <td>54.0</td>\n",
       "    </tr>\n",
       "  </tbody>\n",
       "</table>\n",
       "</div>"
      ],
      "text/plain": [
       "                  tma  stn_id  avg_ta  max_ta  max_ta_hrmt  min_ta  \\\n",
       "0 2016-04-01 00:00:00     515     8.0     8.9       2328.0     7.3   \n",
       "1 2016-04-01 00:00:00     616     7.2     7.8       2303.0     6.6   \n",
       "2 2016-04-01 00:00:00     634     8.7     9.1       2326.0     8.2   \n",
       "3 2016-04-01 00:00:00     637     7.1     8.1       2309.0     6.4   \n",
       "4 2016-04-01 01:00:00     515     6.6     7.7          3.0     5.8   \n",
       "\n",
       "   min_ta_hrmt  \n",
       "0       2354.0  \n",
       "1       2337.0  \n",
       "2          0.0  \n",
       "3       2323.0  \n",
       "4         54.0  "
      ]
     },
     "execution_count": 140,
     "metadata": {},
     "output_type": "execute_result"
    }
   ],
   "source": [
    "tem = sort_by(tem)\n",
    "tem.head()"
   ]
  },
  {
   "cell_type": "markdown",
   "metadata": {},
   "source": [
    "## 결측치 & 이상치 처리"
   ]
  },
  {
   "cell_type": "code",
   "execution_count": 141,
   "metadata": {},
   "outputs": [
    {
     "data": {
      "image/png": "[encoded data removed]",
      "text/plain": [
       "<Figure size 1080x1440 with 5 Axes>"
      ]
     },
     "metadata": {
      "needs_background": "light"
     },
     "output_type": "display_data"
    }
   ],
   "source": [
    "multi_distplot(tem)"
   ]
  },
  {
   "cell_type": "code",
   "execution_count": 142,
   "metadata": {},
   "outputs": [
    {
     "data": {
      "text/plain": [
       "<matplotlib.axes._subplots.AxesSubplot at 0x18a6ff9f748>"
      ]
     },
     "execution_count": 142,
     "metadata": {},
     "output_type": "execute_result"
    },
    {
     "data": {
      "image/png": "[encoded data removed]",
      "text/plain": [
       "<Figure size 1080x720 with 2 Axes>"
      ]
     },
     "metadata": {
      "needs_background": "light"
     },
     "output_type": "display_data"
    }
   ],
   "source": [
    "plt.figure(figsize=(15,10))\n",
    "sns.heatmap(tem.isnull(), cmap='Greys')"
   ]
  },
  {
   "cell_type": "code",
   "execution_count": 143,
   "metadata": {},
   "outputs": [
    {
     "data": {
      "text/html": [
       "<div>\n",
       "<style scoped>\n",
       "    .dataframe tbody tr th:only-of-type {\n",
       "        vertical-align: middle;\n",
       "    }\n",
       "\n",
       "    .dataframe tbody tr th {\n",
       "        vertical-align: top;\n",
       "    }\n",
       "\n",
       "    .dataframe thead th {\n",
       "        text-align: right;\n",
       "    }\n",
       "</style>\n",
       "<table border=\"1\" class=\"dataframe\">\n",
       "  <thead>\n",
       "    <tr style=\"text-align: right;\">\n",
       "      <th></th>\n",
       "      <th>tma</th>\n",
       "      <th>avg_ta</th>\n",
       "      <th>max_ta</th>\n",
       "      <th>max_ta_hrmt</th>\n",
       "      <th>min_ta</th>\n",
       "      <th>min_ta_hrmt</th>\n",
       "    </tr>\n",
       "    <tr>\n",
       "      <th>stn_id</th>\n",
       "      <th></th>\n",
       "      <th></th>\n",
       "      <th></th>\n",
       "      <th></th>\n",
       "      <th></th>\n",
       "      <th></th>\n",
       "    </tr>\n",
       "  </thead>\n",
       "  <tbody>\n",
       "    <tr>\n",
       "      <th>515</th>\n",
       "      <td>35017</td>\n",
       "      <td>34990</td>\n",
       "      <td>34990</td>\n",
       "      <td>35016</td>\n",
       "      <td>34990</td>\n",
       "      <td>35016</td>\n",
       "    </tr>\n",
       "    <tr>\n",
       "      <th>616</th>\n",
       "      <td>34907</td>\n",
       "      <td>34800</td>\n",
       "      <td>34800</td>\n",
       "      <td>34871</td>\n",
       "      <td>34800</td>\n",
       "      <td>34871</td>\n",
       "    </tr>\n",
       "    <tr>\n",
       "      <th>634</th>\n",
       "      <td>34896</td>\n",
       "      <td>34846</td>\n",
       "      <td>34846</td>\n",
       "      <td>34894</td>\n",
       "      <td>34846</td>\n",
       "      <td>34894</td>\n",
       "    </tr>\n",
       "    <tr>\n",
       "      <th>637</th>\n",
       "      <td>34998</td>\n",
       "      <td>34924</td>\n",
       "      <td>34924</td>\n",
       "      <td>34966</td>\n",
       "      <td>34924</td>\n",
       "      <td>34966</td>\n",
       "    </tr>\n",
       "  </tbody>\n",
       "</table>\n",
       "</div>"
      ],
      "text/plain": [
       "          tma  avg_ta  max_ta  max_ta_hrmt  min_ta  min_ta_hrmt\n",
       "stn_id                                                         \n",
       "515     35017   34990   34990        35016   34990        35016\n",
       "616     34907   34800   34800        34871   34800        34871\n",
       "634     34896   34846   34846        34894   34846        34894\n",
       "637     34998   34924   34924        34966   34924        34966"
      ]
     },
     "execution_count": 143,
     "metadata": {},
     "output_type": "execute_result"
    }
   ],
   "source": [
    "tem.groupby(by='stn_id').count()"
   ]
  },
  {
   "cell_type": "code",
   "execution_count": 144,
   "metadata": {},
   "outputs": [
    {
     "data": {
      "text/plain": [
       "tma            0\n",
       "stn_id         0\n",
       "avg_ta         0\n",
       "max_ta         0\n",
       "max_ta_hrmt    0\n",
       "min_ta         0\n",
       "min_ta_hrmt    0\n",
       "dtype: int64"
      ]
     },
     "execution_count": 144,
     "metadata": {},
     "output_type": "execute_result"
    }
   ],
   "source": [
    "tem = tem.fillna(method='ffill')\n",
    "tem.isnull().sum()"
   ]
  },
  {
   "cell_type": "code",
   "execution_count": 145,
   "metadata": {},
   "outputs": [],
   "source": [
    "tem.to_csv('../../data/22.savedata_weather/aws_ta_save.csv', encoding='utf-8', index=False)"
   ]
  },
  {
   "cell_type": "markdown",
   "metadata": {},
   "source": [
    "# aws_ts <사용불가>"
   ]
  },
  {
   "cell_type": "markdown",
   "metadata": {},
   "source": [
    "## 데이터 확인"
   ]
  },
  {
   "cell_type": "code",
   "execution_count": 146,
   "metadata": {},
   "outputs": [
    {
     "name": "stdout",
     "output_type": "stream",
     "text": [
      "<class 'pandas.core.frame.DataFrame'>\n",
      "RangeIndex: 139818 entries, 0 to 139817\n",
      "Data columns (total 20 columns):\n",
      " #   Column            Non-Null Count   Dtype  \n",
      "---  ------            --------------   -----  \n",
      " 0   Unnamed: 0        139818 non-null  int64  \n",
      " 1   tma               139818 non-null  object \n",
      " 2   stn_id            139818 non-null  int64  \n",
      " 3   avg_ts            0 non-null       float64\n",
      " 4   max_ts            0 non-null       float64\n",
      " 5   max_ts_hrmt       0 non-null       float64\n",
      " 6   min_ts            0 non-null       float64\n",
      " 7   min_ts_hrmt       0 non-null       float64\n",
      " 8   avg_ts_calc_dtnb  139818 non-null  int64  \n",
      " 9   avg_ts_qcflg      0 non-null       float64\n",
      " 10  avg_ts_crob       0 non-null       float64\n",
      " 11  max_ts_qcflg      0 non-null       float64\n",
      " 12  max_ts_crob       0 non-null       float64\n",
      " 13  min_ts_qcflg      0 non-null       float64\n",
      " 14  min_ts_crob       0 non-null       float64\n",
      " 15  avg_ts_srv_yn     0 non-null       float64\n",
      " 16  max_ts_srv_yn     0 non-null       float64\n",
      " 17  min_ts_srv_yn     0 non-null       float64\n",
      " 18  orgn_stn_id       0 non-null       float64\n",
      " 19  ts_calp_dtnb      139818 non-null  int64  \n",
      "dtypes: float64(15), int64(4), object(1)\n",
      "memory usage: 21.3+ MB\n"
     ]
    }
   ],
   "source": [
    "ts = pd.read_csv('../../data/12.rawdata_weather/aws_ts.csv')\n",
    "ts.info()"
   ]
  },
  {
   "cell_type": "markdown",
   "metadata": {},
   "source": [
    "## 컬럼 정리"
   ]
  },
  {
   "cell_type": "code",
   "execution_count": 147,
   "metadata": {},
   "outputs": [
    {
     "data": {
      "text/plain": [
       "tma            0.0\n",
       "stn_id         0.0\n",
       "avg_ts         1.0\n",
       "max_ts         1.0\n",
       "max_ts_hrmt    1.0\n",
       "min_ts         1.0\n",
       "min_ts_hrmt    1.0\n",
       "dtype: float64"
      ]
     },
     "execution_count": 147,
     "metadata": {},
     "output_type": "execute_result"
    }
   ],
   "source": [
    "ts = drop_cols(ts)\n",
    "ts.isnull().mean()"
   ]
  },
  {
   "cell_type": "markdown",
   "metadata": {},
   "source": [
    "# aws_wind"
   ]
  },
  {
   "cell_type": "markdown",
   "metadata": {},
   "source": [
    "## 데이터 확인"
   ]
  },
  {
   "cell_type": "code",
   "execution_count": 148,
   "metadata": {},
   "outputs": [
    {
     "name": "stdout",
     "output_type": "stream",
     "text": [
      "<class 'pandas.core.frame.DataFrame'>\n",
      "RangeIndex: 139818 entries, 0 to 139817\n",
      "Data columns (total 61 columns):\n",
      " #   Column                  Non-Null Count   Dtype  \n",
      "---  ------                  --------------   -----  \n",
      " 0   Unnamed: 0              139818 non-null  int64  \n",
      " 1   tma                     139818 non-null  object \n",
      " 2   stn_id                  139818 non-null  int64  \n",
      " 3   avg_ws                  139326 non-null  float64\n",
      " 4   avg_ws_qcflg            13262 non-null   float64\n",
      " 5   avg_ws_crob             0 non-null       float64\n",
      " 6   mix_ws                  139610 non-null  float64\n",
      " 7   mix_ws_qcflg            0 non-null       float64\n",
      " 8   mix_ws_crob             0 non-null       float64\n",
      " 9   mix_wd                  139610 non-null  float64\n",
      " 10  mix_wd_qcflg            0 non-null       float64\n",
      " 11  mix_wd_crob             0 non-null       float64\n",
      " 12  max_ws                  139326 non-null  float64\n",
      " 13  max_ws_qcflg            0 non-null       float64\n",
      " 14  max_ws_crob             0 non-null       float64\n",
      " 15  max_ws_hrmt             139326 non-null  float64\n",
      " 16  avg_ws_calc_dtnb        139818 non-null  int64  \n",
      " 17  max_wd                  139468 non-null  float64\n",
      " 18  max_ws_wd               139293 non-null  float64\n",
      " 19  max_ws_wd_qcflg         0 non-null       float64\n",
      " 20  max_ws_wd_crob          0 non-null       float64\n",
      " 21  avg_mi1_ws              139457 non-null  float64\n",
      " 22  avg_mi1_ws_qcflg        0 non-null       float64\n",
      " 23  avg_mi1_ws_crob         0 non-null       float64\n",
      " 24  max_mi1_ws              139457 non-null  float64\n",
      " 25  max_mi1_ws_qcflg        0 non-null       float64\n",
      " 26  max_mi1_ws_crob         0 non-null       float64\n",
      " 27  max_mi1_ws_hrmt         139457 non-null  float64\n",
      " 28  mi1_ws_calc_dtnb        139818 non-null  int64  \n",
      " 29  max_mi1_ws_wd           139432 non-null  float64\n",
      " 30  max_mi1_ws_wd_qcflg     0 non-null       float64\n",
      " 31  max_mi1_ws_wd_crob      0 non-null       float64\n",
      " 32  max_ins_ws              139457 non-null  float64\n",
      " 33  max_ins_ws_qcflg        13163 non-null   float64\n",
      " 34  max_ins_ws_crob         0 non-null       float64\n",
      " 35  max_ins_ws_hrmt         139457 non-null  float64\n",
      " 36  max_ins_ws_wd           139432 non-null  float64\n",
      " 37  max_ins_ws_wd_qcflg     13188 non-null   float64\n",
      " 38  max_ins_ws_wd_crob      0 non-null       float64\n",
      " 39  ins_ws_calp_dtnb        139818 non-null  int64  \n",
      " 40  rtm_mi10_avg_ws         139499 non-null  float64\n",
      " 41  rtm_mi10_avg_ws_qcflg   13133 non-null   float64\n",
      " 42  rtm_mi10_avg_ws_crob    0 non-null       float64\n",
      " 43  rtm_mi10_avg_wd         139474 non-null  float64\n",
      " 44  rtm_mi10_avg_wd_qcflg   115846 non-null  float64\n",
      " 45  rtm_mi10_avg_wd_crob    0 non-null       float64\n",
      " 46  rtm_mi10_avg_ws_hrmt    139582 non-null  float64\n",
      " 47  avg_mi1_ws_srv_yn       0 non-null       float64\n",
      " 48  avg_ws_srv_yn           0 non-null       float64\n",
      " 49  max_ins_ws_srv_yn       0 non-null       float64\n",
      " 50  max_ins_ws_wd_srv_yn    0 non-null       float64\n",
      " 51  max_mi1_ws_srv_yn       0 non-null       float64\n",
      " 52  max_mi1_ws_wd_srv_yn    0 non-null       float64\n",
      " 53  max_ws_srv_yn           0 non-null       float64\n",
      " 54  max_ws_wd_srv_yn        0 non-null       float64\n",
      " 55  mix_wd_srv_yn           0 non-null       float64\n",
      " 56  mix_ws_srv_yn           0 non-null       float64\n",
      " 57  orgn_stn_id             0 non-null       float64\n",
      " 58  rtm_mi10_avg_wd_srv_yn  0 non-null       float64\n",
      " 59  rtm_mi10_avg_ws_srv_yn  0 non-null       float64\n",
      " 60  ws_calp_dtnb            139818 non-null  int64  \n",
      "dtypes: float64(54), int64(6), object(1)\n",
      "memory usage: 65.1+ MB\n"
     ]
    }
   ],
   "source": [
    "wind = pd.read_csv('../../data/12.rawdata_weather/aws_wind.csv')\n",
    "wind.info()"
   ]
  },
  {
   "cell_type": "markdown",
   "metadata": {},
   "source": [
    "## 컬럼 정리"
   ]
  },
  {
   "cell_type": "code",
   "execution_count": 149,
   "metadata": {},
   "outputs": [
    {
     "data": {
      "text/plain": [
       "tma                     0.000000\n",
       "stn_id                  0.000000\n",
       "avg_ws                  0.003519\n",
       "mix_ws                  0.001488\n",
       "mix_wd                  0.001488\n",
       "max_ws                  0.003519\n",
       "max_ws_hrmt             0.003519\n",
       "max_wd                  0.002503\n",
       "max_ws_wd               0.003755\n",
       "avg_mi1_ws              0.002582\n",
       "max_mi1_ws              0.002582\n",
       "max_mi1_ws_hrmt         0.002582\n",
       "max_mi1_ws_wd           0.002761\n",
       "max_ins_ws              0.002582\n",
       "max_ins_ws_hrmt         0.002582\n",
       "max_ins_ws_wd           0.002761\n",
       "rtm_mi10_avg_ws         0.002282\n",
       "rtm_mi10_avg_wd         0.002460\n",
       "rtm_mi10_avg_ws_hrmt    0.001688\n",
       "dtype: float64"
      ]
     },
     "execution_count": 149,
     "metadata": {},
     "output_type": "execute_result"
    }
   ],
   "source": [
    "wind = drop_cols(wind)\n",
    "wind.isnull().mean()"
   ]
  },
  {
   "cell_type": "code",
   "execution_count": 150,
   "metadata": {},
   "outputs": [
    {
     "data": {
      "text/plain": [
       "tma                  0\n",
       "stn_id               0\n",
       "avg_ws             492\n",
       "mix_ws             208\n",
       "mix_wd             208\n",
       "max_ws             492\n",
       "max_ws_hrmt        492\n",
       "max_wd             350\n",
       "max_ws_wd          525\n",
       "avg_mi1_ws         361\n",
       "max_mi1_ws         361\n",
       "max_mi1_ws_hrmt    361\n",
       "max_mi1_ws_wd      386\n",
       "max_ins_ws         361\n",
       "max_ins_ws_hrmt    361\n",
       "max_ins_ws_wd      386\n",
       "dtype: int64"
      ]
     },
     "execution_count": 150,
     "metadata": {},
     "output_type": "execute_result"
    }
   ],
   "source": [
    "wind = wind.drop(columns=['rtm_mi10_avg_ws', 'rtm_mi10_avg_wd', 'rtm_mi10_avg_ws_hrmt'])\n",
    "wind.isnull().sum()"
   ]
  },
  {
   "cell_type": "markdown",
   "metadata": {},
   "source": [
    "## 데이터타입 정리"
   ]
  },
  {
   "cell_type": "code",
   "execution_count": 151,
   "metadata": {},
   "outputs": [
    {
     "data": {
      "text/plain": [
       "tma                datetime64[ns]\n",
       "stn_id                      int64\n",
       "avg_ws                    float64\n",
       "mix_ws                    float64\n",
       "mix_wd                    float64\n",
       "max_ws                    float64\n",
       "max_ws_hrmt               float64\n",
       "max_wd                    float64\n",
       "max_ws_wd                 float64\n",
       "avg_mi1_ws                float64\n",
       "max_mi1_ws                float64\n",
       "max_mi1_ws_hrmt           float64\n",
       "max_mi1_ws_wd             float64\n",
       "max_ins_ws                float64\n",
       "max_ins_ws_hrmt           float64\n",
       "max_ins_ws_wd             float64\n",
       "dtype: object"
      ]
     },
     "execution_count": 151,
     "metadata": {},
     "output_type": "execute_result"
    }
   ],
   "source": [
    "wind['tma'] = pd.to_datetime(wind['tma'])\n",
    "wind.dtypes"
   ]
  },
  {
   "cell_type": "markdown",
   "metadata": {},
   "source": [
    "## 정렬"
   ]
  },
  {
   "cell_type": "code",
   "execution_count": 152,
   "metadata": {},
   "outputs": [
    {
     "data": {
      "text/html": [
       "<div>\n",
       "<style scoped>\n",
       "    .dataframe tbody tr th:only-of-type {\n",
       "        vertical-align: middle;\n",
       "    }\n",
       "\n",
       "    .dataframe tbody tr th {\n",
       "        vertical-align: top;\n",
       "    }\n",
       "\n",
       "    .dataframe thead th {\n",
       "        text-align: right;\n",
       "    }\n",
       "</style>\n",
       "<table border=\"1\" class=\"dataframe\">\n",
       "  <thead>\n",
       "    <tr style=\"text-align: right;\">\n",
       "      <th></th>\n",
       "      <th>tma</th>\n",
       "      <th>stn_id</th>\n",
       "      <th>avg_ws</th>\n",
       "      <th>mix_ws</th>\n",
       "      <th>mix_wd</th>\n",
       "      <th>max_ws</th>\n",
       "      <th>max_ws_hrmt</th>\n",
       "      <th>max_wd</th>\n",
       "      <th>max_ws_wd</th>\n",
       "      <th>avg_mi1_ws</th>\n",
       "      <th>max_mi1_ws</th>\n",
       "      <th>max_mi1_ws_hrmt</th>\n",
       "      <th>max_mi1_ws_wd</th>\n",
       "      <th>max_ins_ws</th>\n",
       "      <th>max_ins_ws_hrmt</th>\n",
       "      <th>max_ins_ws_wd</th>\n",
       "    </tr>\n",
       "  </thead>\n",
       "  <tbody>\n",
       "    <tr>\n",
       "      <th>0</th>\n",
       "      <td>2016-04-01 00:00:00</td>\n",
       "      <td>515</td>\n",
       "      <td>0.5</td>\n",
       "      <td>0.5</td>\n",
       "      <td>99.3</td>\n",
       "      <td>0.9</td>\n",
       "      <td>2328.0</td>\n",
       "      <td>90.0</td>\n",
       "      <td>94.0</td>\n",
       "      <td>0.6</td>\n",
       "      <td>1.1</td>\n",
       "      <td>2322.0</td>\n",
       "      <td>84.2</td>\n",
       "      <td>1.4</td>\n",
       "      <td>2322.0</td>\n",
       "      <td>98.4</td>\n",
       "    </tr>\n",
       "    <tr>\n",
       "      <th>1</th>\n",
       "      <td>2016-04-01 00:00:00</td>\n",
       "      <td>616</td>\n",
       "      <td>0.3</td>\n",
       "      <td>0.3</td>\n",
       "      <td>166.0</td>\n",
       "      <td>0.7</td>\n",
       "      <td>2333.0</td>\n",
       "      <td>157.5</td>\n",
       "      <td>152.3</td>\n",
       "      <td>0.3</td>\n",
       "      <td>1.0</td>\n",
       "      <td>2330.0</td>\n",
       "      <td>141.4</td>\n",
       "      <td>1.1</td>\n",
       "      <td>2330.0</td>\n",
       "      <td>137.8</td>\n",
       "    </tr>\n",
       "    <tr>\n",
       "      <th>2</th>\n",
       "      <td>2016-04-01 00:00:00</td>\n",
       "      <td>634</td>\n",
       "      <td>0.4</td>\n",
       "      <td>0.3</td>\n",
       "      <td>127.3</td>\n",
       "      <td>1.1</td>\n",
       "      <td>2309.0</td>\n",
       "      <td>112.5</td>\n",
       "      <td>119.6</td>\n",
       "      <td>0.3</td>\n",
       "      <td>1.2</td>\n",
       "      <td>2305.0</td>\n",
       "      <td>115.4</td>\n",
       "      <td>1.2</td>\n",
       "      <td>2304.0</td>\n",
       "      <td>120.9</td>\n",
       "    </tr>\n",
       "    <tr>\n",
       "      <th>3</th>\n",
       "      <td>2016-04-01 00:00:00</td>\n",
       "      <td>637</td>\n",
       "      <td>0.7</td>\n",
       "      <td>0.6</td>\n",
       "      <td>210.6</td>\n",
       "      <td>0.9</td>\n",
       "      <td>2303.0</td>\n",
       "      <td>225.0</td>\n",
       "      <td>147.3</td>\n",
       "      <td>0.7</td>\n",
       "      <td>1.1</td>\n",
       "      <td>0.0</td>\n",
       "      <td>216.9</td>\n",
       "      <td>1.1</td>\n",
       "      <td>2351.0</td>\n",
       "      <td>213.8</td>\n",
       "    </tr>\n",
       "    <tr>\n",
       "      <th>4</th>\n",
       "      <td>2016-04-01 01:00:00</td>\n",
       "      <td>515</td>\n",
       "      <td>0.5</td>\n",
       "      <td>0.2</td>\n",
       "      <td>141.4</td>\n",
       "      <td>0.9</td>\n",
       "      <td>1.0</td>\n",
       "      <td>112.5</td>\n",
       "      <td>110.3</td>\n",
       "      <td>0.4</td>\n",
       "      <td>1.0</td>\n",
       "      <td>12.0</td>\n",
       "      <td>121.4</td>\n",
       "      <td>1.2</td>\n",
       "      <td>13.0</td>\n",
       "      <td>115.3</td>\n",
       "    </tr>\n",
       "  </tbody>\n",
       "</table>\n",
       "</div>"
      ],
      "text/plain": [
       "                  tma  stn_id  avg_ws  mix_ws  mix_wd  max_ws  max_ws_hrmt  \\\n",
       "0 2016-04-01 00:00:00     515     0.5     0.5    99.3     0.9       2328.0   \n",
       "1 2016-04-01 00:00:00     616     0.3     0.3   166.0     0.7       2333.0   \n",
       "2 2016-04-01 00:00:00     634     0.4     0.3   127.3     1.1       2309.0   \n",
       "3 2016-04-01 00:00:00     637     0.7     0.6   210.6     0.9       2303.0   \n",
       "4 2016-04-01 01:00:00     515     0.5     0.2   141.4     0.9          1.0   \n",
       "\n",
       "   max_wd  max_ws_wd  avg_mi1_ws  max_mi1_ws  max_mi1_ws_hrmt  max_mi1_ws_wd  \\\n",
       "0    90.0       94.0         0.6         1.1           2322.0           84.2   \n",
       "1   157.5      152.3         0.3         1.0           2330.0          141.4   \n",
       "2   112.5      119.6         0.3         1.2           2305.0          115.4   \n",
       "3   225.0      147.3         0.7         1.1              0.0          216.9   \n",
       "4   112.5      110.3         0.4         1.0             12.0          121.4   \n",
       "\n",
       "   max_ins_ws  max_ins_ws_hrmt  max_ins_ws_wd  \n",
       "0         1.4           2322.0           98.4  \n",
       "1         1.1           2330.0          137.8  \n",
       "2         1.2           2304.0          120.9  \n",
       "3         1.1           2351.0          213.8  \n",
       "4         1.2             13.0          115.3  "
      ]
     },
     "execution_count": 152,
     "metadata": {},
     "output_type": "execute_result"
    }
   ],
   "source": [
    "wind = sort_by(wind)\n",
    "wind.head()"
   ]
  },
  {
   "cell_type": "markdown",
   "metadata": {},
   "source": [
    "## 결측치 & 이상치 처리"
   ]
  },
  {
   "cell_type": "code",
   "execution_count": 153,
   "metadata": {},
   "outputs": [
    {
     "data": {
      "image/png": "[encoded data removed]",
      "text/plain": [
       "<Figure size 1080x1440 with 14 Axes>"
      ]
     },
     "metadata": {
      "needs_background": "light"
     },
     "output_type": "display_data"
    }
   ],
   "source": [
    "multi_distplot(wind)"
   ]
  },
  {
   "cell_type": "code",
   "execution_count": 154,
   "metadata": {},
   "outputs": [
    {
     "data": {
      "text/plain": [
       "<matplotlib.axes._subplots.AxesSubplot at 0x18a01b10cc8>"
      ]
     },
     "execution_count": 154,
     "metadata": {},
     "output_type": "execute_result"
    },
    {
     "data": {
      "image/png": "[encoded data removed]",
      "text/plain": [
       "<Figure size 1080x720 with 2 Axes>"
      ]
     },
     "metadata": {
      "needs_background": "light"
     },
     "output_type": "display_data"
    }
   ],
   "source": [
    "plt.figure(figsize=(15, 10))\n",
    "sns.heatmap(wind.isnull(), cmap='Greys')"
   ]
  },
  {
   "cell_type": "code",
   "execution_count": 155,
   "metadata": {},
   "outputs": [
    {
     "data": {
      "text/html": [
       "<div>\n",
       "<style scoped>\n",
       "    .dataframe tbody tr th:only-of-type {\n",
       "        vertical-align: middle;\n",
       "    }\n",
       "\n",
       "    .dataframe tbody tr th {\n",
       "        vertical-align: top;\n",
       "    }\n",
       "\n",
       "    .dataframe thead th {\n",
       "        text-align: right;\n",
       "    }\n",
       "</style>\n",
       "<table border=\"1\" class=\"dataframe\">\n",
       "  <thead>\n",
       "    <tr style=\"text-align: right;\">\n",
       "      <th></th>\n",
       "      <th>tma</th>\n",
       "      <th>avg_ws</th>\n",
       "      <th>mix_ws</th>\n",
       "      <th>mix_wd</th>\n",
       "      <th>max_ws</th>\n",
       "      <th>max_ws_hrmt</th>\n",
       "      <th>max_wd</th>\n",
       "      <th>max_ws_wd</th>\n",
       "      <th>avg_mi1_ws</th>\n",
       "      <th>max_mi1_ws</th>\n",
       "      <th>max_mi1_ws_hrmt</th>\n",
       "      <th>max_mi1_ws_wd</th>\n",
       "      <th>max_ins_ws</th>\n",
       "      <th>max_ins_ws_hrmt</th>\n",
       "      <th>max_ins_ws_wd</th>\n",
       "    </tr>\n",
       "    <tr>\n",
       "      <th>stn_id</th>\n",
       "      <th></th>\n",
       "      <th></th>\n",
       "      <th></th>\n",
       "      <th></th>\n",
       "      <th></th>\n",
       "      <th></th>\n",
       "      <th></th>\n",
       "      <th></th>\n",
       "      <th></th>\n",
       "      <th></th>\n",
       "      <th></th>\n",
       "      <th></th>\n",
       "      <th></th>\n",
       "      <th></th>\n",
       "      <th></th>\n",
       "    </tr>\n",
       "  </thead>\n",
       "  <tbody>\n",
       "    <tr>\n",
       "      <th>515</th>\n",
       "      <td>35017</td>\n",
       "      <td>34958</td>\n",
       "      <td>34992</td>\n",
       "      <td>34992</td>\n",
       "      <td>34958</td>\n",
       "      <td>34958</td>\n",
       "      <td>34947</td>\n",
       "      <td>34925</td>\n",
       "      <td>34990</td>\n",
       "      <td>34990</td>\n",
       "      <td>34990</td>\n",
       "      <td>34965</td>\n",
       "      <td>34990</td>\n",
       "      <td>34990</td>\n",
       "      <td>34965</td>\n",
       "    </tr>\n",
       "    <tr>\n",
       "      <th>616</th>\n",
       "      <td>34907</td>\n",
       "      <td>34810</td>\n",
       "      <td>34895</td>\n",
       "      <td>34895</td>\n",
       "      <td>34810</td>\n",
       "      <td>34810</td>\n",
       "      <td>34817</td>\n",
       "      <td>34810</td>\n",
       "      <td>34835</td>\n",
       "      <td>34835</td>\n",
       "      <td>34835</td>\n",
       "      <td>34835</td>\n",
       "      <td>34834</td>\n",
       "      <td>34834</td>\n",
       "      <td>34834</td>\n",
       "    </tr>\n",
       "    <tr>\n",
       "      <th>634</th>\n",
       "      <td>34896</td>\n",
       "      <td>34637</td>\n",
       "      <td>34726</td>\n",
       "      <td>34726</td>\n",
       "      <td>34637</td>\n",
       "      <td>34637</td>\n",
       "      <td>34716</td>\n",
       "      <td>34637</td>\n",
       "      <td>34676</td>\n",
       "      <td>34676</td>\n",
       "      <td>34676</td>\n",
       "      <td>34676</td>\n",
       "      <td>34676</td>\n",
       "      <td>34676</td>\n",
       "      <td>34676</td>\n",
       "    </tr>\n",
       "    <tr>\n",
       "      <th>637</th>\n",
       "      <td>34998</td>\n",
       "      <td>34921</td>\n",
       "      <td>34997</td>\n",
       "      <td>34997</td>\n",
       "      <td>34921</td>\n",
       "      <td>34921</td>\n",
       "      <td>34988</td>\n",
       "      <td>34921</td>\n",
       "      <td>34956</td>\n",
       "      <td>34956</td>\n",
       "      <td>34956</td>\n",
       "      <td>34956</td>\n",
       "      <td>34957</td>\n",
       "      <td>34957</td>\n",
       "      <td>34957</td>\n",
       "    </tr>\n",
       "  </tbody>\n",
       "</table>\n",
       "</div>"
      ],
      "text/plain": [
       "          tma  avg_ws  mix_ws  mix_wd  max_ws  max_ws_hrmt  max_wd  max_ws_wd  \\\n",
       "stn_id                                                                          \n",
       "515     35017   34958   34992   34992   34958        34958   34947      34925   \n",
       "616     34907   34810   34895   34895   34810        34810   34817      34810   \n",
       "634     34896   34637   34726   34726   34637        34637   34716      34637   \n",
       "637     34998   34921   34997   34997   34921        34921   34988      34921   \n",
       "\n",
       "        avg_mi1_ws  max_mi1_ws  max_mi1_ws_hrmt  max_mi1_ws_wd  max_ins_ws  \\\n",
       "stn_id                                                                       \n",
       "515          34990       34990            34990          34965       34990   \n",
       "616          34835       34835            34835          34835       34834   \n",
       "634          34676       34676            34676          34676       34676   \n",
       "637          34956       34956            34956          34956       34957   \n",
       "\n",
       "        max_ins_ws_hrmt  max_ins_ws_wd  \n",
       "stn_id                                  \n",
       "515               34990          34965  \n",
       "616               34834          34834  \n",
       "634               34676          34676  \n",
       "637               34957          34957  "
      ]
     },
     "execution_count": 155,
     "metadata": {},
     "output_type": "execute_result"
    }
   ],
   "source": [
    "wind.groupby(by='stn_id').count()"
   ]
  },
  {
   "cell_type": "code",
   "execution_count": 156,
   "metadata": {},
   "outputs": [
    {
     "data": {
      "text/plain": [
       "tma                0\n",
       "stn_id             0\n",
       "avg_ws             0\n",
       "mix_ws             0\n",
       "mix_wd             0\n",
       "max_ws             0\n",
       "max_ws_hrmt        0\n",
       "max_wd             0\n",
       "max_ws_wd          0\n",
       "avg_mi1_ws         0\n",
       "max_mi1_ws         0\n",
       "max_mi1_ws_hrmt    0\n",
       "max_mi1_ws_wd      0\n",
       "max_ins_ws         0\n",
       "max_ins_ws_hrmt    0\n",
       "max_ins_ws_wd      0\n",
       "dtype: int64"
      ]
     },
     "execution_count": 156,
     "metadata": {},
     "output_type": "execute_result"
    }
   ],
   "source": [
    "wind = wind.fillna(method='ffill')\n",
    "wind.isnull().sum()"
   ]
  },
  {
   "cell_type": "code",
   "execution_count": 157,
   "metadata": {},
   "outputs": [],
   "source": [
    "wind.to_csv('../../data/22.savedata_weather/aws_wind_save.csv', encoding='utf-8', index=False)"
   ]
  },
  {
   "cell_type": "code",
   "execution_count": null,
   "metadata": {},
   "outputs": [],
   "source": []
  }
 ],
 "metadata": {
  "kernelspec": {
   "display_name": "Python 3",
   "language": "python",
   "name": "python3"
  },
  "language_info": {
   "codemirror_mode": {
    "name": "ipython",
    "version": 3
   },
   "file_extension": ".py",
   "mimetype": "text/x-python",
   "name": "python",
   "nbconvert_exporter": "python",
   "pygments_lexer": "ipython3",
   "version": "3.7.6"
  },
  "toc": {
   "base_numbering": 1,
   "nav_menu": {},
   "number_sections": true,
   "sideBar": true,
   "skip_h1_title": false,
   "title_cell": "Table of Contents",
   "title_sidebar": "Contents",
   "toc_cell": false,
   "toc_position": {
    "height": "calc(100% - 180px)",
    "left": "10px",
    "top": "150px",
    "width": "384px"
   },
   "toc_section_display": true,
   "toc_window_display": true
  },
  "varInspector": {
   "cols": {
    "lenName": 16,
    "lenType": 16,
    "lenVar": 40
   },
   "kernels_config": {
    "python": {
     "delete_cmd_postfix": "",
     "delete_cmd_prefix": "del ",
     "library": "var_list.py",
     "varRefreshCmd": "print(var_dic_list())"
    },
    "r": {
     "delete_cmd_postfix": ") ",
     "delete_cmd_prefix": "rm(",
     "library": "var_list.r",
     "varRefreshCmd": "cat(var_dic_list()) "
    }
   },
   "position": {
    "height": "307px",
    "left": "1550px",
    "right": "20px",
    "top": "120px",
    "width": "350px"
   },
   "types_to_exclude": [
    "module",
    "function",
    "builtin_function_or_method",
    "instance",
    "_Feature"
   ],
   "window_display": false
  }
 },
 "nbformat": 4,
 "nbformat_minor": 4
}
