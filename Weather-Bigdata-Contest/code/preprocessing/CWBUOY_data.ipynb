{
 "cells": [
  {
   "cell_type": "code",
   "execution_count": 1,
   "metadata": {},
   "outputs": [],
   "source": [
    "import pandas as pd\n",
    "import matplotlib.pyplot as plt\n",
    "import seaborn as sns\n",
    "import numpy as np\n",
    "import glob\n",
    "import os"
   ]
  },
  {
   "cell_type": "code",
   "execution_count": 18,
   "metadata": {},
   "outputs": [],
   "source": [
    "input_file = './data/12.rawdata_weather/CWBUOY'\n",
    "output_file = './data/22.savedata_weather/CWBUOY_merge.csv'"
   ]
  },
  {
   "cell_type": "code",
   "execution_count": 19,
   "metadata": {},
   "outputs": [
    {
     "name": "stdout",
     "output_type": "stream",
     "text": [
      "['./data/12.rawdata_weather/CWBUOY\\\\OBS_CWBUOY_TIM_20200619105922.csv', './data/12.rawdata_weather/CWBUOY\\\\OBS_CWBUOY_TIM_20200619110114.csv', './data/12.rawdata_weather/CWBUOY\\\\OBS_CWBUOY_TIM_20200619110229.csv', './data/12.rawdata_weather/CWBUOY\\\\OBS_CWBUOY_TIM_20200619110355.csv']\n"
     ]
    }
   ],
   "source": [
    "all_file_list = glob.glob(os.path.join(input_file, 'OBS_CWBUOY_TIM_*'))\n",
    "print(all_file_list)"
   ]
  },
  {
   "cell_type": "code",
   "execution_count": 20,
   "metadata": {},
   "outputs": [],
   "source": [
    "all_data = []\n",
    "for file in all_file_list:\n",
    "    df = pd.read_csv(file, engine='python')\n",
    "    all_data.append(df)"
   ]
  },
  {
   "cell_type": "code",
   "execution_count": 24,
   "metadata": {},
   "outputs": [
    {
     "data": {
      "text/html": [
       "<div>\n",
       "<style scoped>\n",
       "    .dataframe tbody tr th:only-of-type {\n",
       "        vertical-align: middle;\n",
       "    }\n",
       "\n",
       "    .dataframe tbody tr th {\n",
       "        vertical-align: top;\n",
       "    }\n",
       "\n",
       "    .dataframe thead th {\n",
       "        text-align: right;\n",
       "    }\n",
       "</style>\n",
       "<table border=\"1\" class=\"dataframe\">\n",
       "  <thead>\n",
       "    <tr style=\"text-align: right;\">\n",
       "      <th></th>\n",
       "      <th>지점</th>\n",
       "      <th>일시</th>\n",
       "      <th>수온(°C)</th>\n",
       "      <th>최대파고(m)</th>\n",
       "      <th>유의파고(m)</th>\n",
       "      <th>평균파고(m)</th>\n",
       "      <th>파주기(sec)</th>\n",
       "    </tr>\n",
       "  </thead>\n",
       "  <tbody>\n",
       "    <tr>\n",
       "      <td>0</td>\n",
       "      <td>22470</td>\n",
       "      <td>2016-04-01 00:00</td>\n",
       "      <td>6.3</td>\n",
       "      <td>0.1</td>\n",
       "      <td>0.1</td>\n",
       "      <td>0.1</td>\n",
       "      <td>6.6</td>\n",
       "    </tr>\n",
       "    <tr>\n",
       "      <td>1</td>\n",
       "      <td>22470</td>\n",
       "      <td>2016-04-01 01:00</td>\n",
       "      <td>6.4</td>\n",
       "      <td>0.2</td>\n",
       "      <td>0.1</td>\n",
       "      <td>0.1</td>\n",
       "      <td>7.1</td>\n",
       "    </tr>\n",
       "    <tr>\n",
       "      <td>2</td>\n",
       "      <td>22470</td>\n",
       "      <td>2016-04-01 02:00</td>\n",
       "      <td>6.5</td>\n",
       "      <td>0.2</td>\n",
       "      <td>0.1</td>\n",
       "      <td>0.1</td>\n",
       "      <td>6.6</td>\n",
       "    </tr>\n",
       "    <tr>\n",
       "      <td>3</td>\n",
       "      <td>22470</td>\n",
       "      <td>2016-04-01 03:00</td>\n",
       "      <td>6.4</td>\n",
       "      <td>0.1</td>\n",
       "      <td>0.1</td>\n",
       "      <td>0.1</td>\n",
       "      <td>4.3</td>\n",
       "    </tr>\n",
       "    <tr>\n",
       "      <td>4</td>\n",
       "      <td>22470</td>\n",
       "      <td>2016-04-01 04:00</td>\n",
       "      <td>6.4</td>\n",
       "      <td>0.2</td>\n",
       "      <td>0.1</td>\n",
       "      <td>0.1</td>\n",
       "      <td>4.2</td>\n",
       "    </tr>\n",
       "  </tbody>\n",
       "</table>\n",
       "</div>"
      ],
      "text/plain": [
       "      지점                일시  수온(°C)  최대파고(m)  유의파고(m)  평균파고(m)  파주기(sec)\n",
       "0  22470  2016-04-01 00:00     6.3      0.1      0.1      0.1       6.6\n",
       "1  22470  2016-04-01 01:00     6.4      0.2      0.1      0.1       7.1\n",
       "2  22470  2016-04-01 02:00     6.5      0.2      0.1      0.1       6.6\n",
       "3  22470  2016-04-01 03:00     6.4      0.1      0.1      0.1       4.3\n",
       "4  22470  2016-04-01 04:00     6.4      0.2      0.1      0.1       4.2"
      ]
     },
     "execution_count": 24,
     "metadata": {},
     "output_type": "execute_result"
    }
   ],
   "source": [
    "df_concat = pd.concat(all_data, ignore_index=True)\n",
    "df_concat.head()"
   ]
  },
  {
   "cell_type": "code",
   "execution_count": 25,
   "metadata": {},
   "outputs": [
    {
     "data": {
      "text/plain": [
       "(34306, 7)"
      ]
     },
     "execution_count": 25,
     "metadata": {},
     "output_type": "execute_result"
    }
   ],
   "source": [
    "df_concat.shape"
   ]
  },
  {
   "cell_type": "code",
   "execution_count": 27,
   "metadata": {},
   "outputs": [],
   "source": [
    "df_concat.columns = ['지점', 'MEA_DDHR', 'CWBUOY_WRTM', 'CWBUOY_WH', 'CWBUOY_ATENT_WH', \n",
    "                     'CWBUOY_AVG_WH', 'CWBUOY_WVPRD']"
   ]
  },
  {
   "cell_type": "code",
   "execution_count": 28,
   "metadata": {},
   "outputs": [
    {
     "data": {
      "text/html": [
       "<div>\n",
       "<style scoped>\n",
       "    .dataframe tbody tr th:only-of-type {\n",
       "        vertical-align: middle;\n",
       "    }\n",
       "\n",
       "    .dataframe tbody tr th {\n",
       "        vertical-align: top;\n",
       "    }\n",
       "\n",
       "    .dataframe thead th {\n",
       "        text-align: right;\n",
       "    }\n",
       "</style>\n",
       "<table border=\"1\" class=\"dataframe\">\n",
       "  <thead>\n",
       "    <tr style=\"text-align: right;\">\n",
       "      <th></th>\n",
       "      <th>지점</th>\n",
       "      <th>MEA_DDHR</th>\n",
       "      <th>CWBUOY_WRTM</th>\n",
       "      <th>CWBUOY_WH</th>\n",
       "      <th>CWBUOY_ATENT_WH</th>\n",
       "      <th>CWBUOY_AVG_WH</th>\n",
       "      <th>CWBUOY_WVPRD</th>\n",
       "    </tr>\n",
       "  </thead>\n",
       "  <tbody>\n",
       "    <tr>\n",
       "      <td>0</td>\n",
       "      <td>22470</td>\n",
       "      <td>2016-04-01 00:00</td>\n",
       "      <td>6.3</td>\n",
       "      <td>0.1</td>\n",
       "      <td>0.1</td>\n",
       "      <td>0.1</td>\n",
       "      <td>6.6</td>\n",
       "    </tr>\n",
       "    <tr>\n",
       "      <td>1</td>\n",
       "      <td>22470</td>\n",
       "      <td>2016-04-01 01:00</td>\n",
       "      <td>6.4</td>\n",
       "      <td>0.2</td>\n",
       "      <td>0.1</td>\n",
       "      <td>0.1</td>\n",
       "      <td>7.1</td>\n",
       "    </tr>\n",
       "    <tr>\n",
       "      <td>2</td>\n",
       "      <td>22470</td>\n",
       "      <td>2016-04-01 02:00</td>\n",
       "      <td>6.5</td>\n",
       "      <td>0.2</td>\n",
       "      <td>0.1</td>\n",
       "      <td>0.1</td>\n",
       "      <td>6.6</td>\n",
       "    </tr>\n",
       "    <tr>\n",
       "      <td>3</td>\n",
       "      <td>22470</td>\n",
       "      <td>2016-04-01 03:00</td>\n",
       "      <td>6.4</td>\n",
       "      <td>0.1</td>\n",
       "      <td>0.1</td>\n",
       "      <td>0.1</td>\n",
       "      <td>4.3</td>\n",
       "    </tr>\n",
       "    <tr>\n",
       "      <td>4</td>\n",
       "      <td>22470</td>\n",
       "      <td>2016-04-01 04:00</td>\n",
       "      <td>6.4</td>\n",
       "      <td>0.2</td>\n",
       "      <td>0.1</td>\n",
       "      <td>0.1</td>\n",
       "      <td>4.2</td>\n",
       "    </tr>\n",
       "  </tbody>\n",
       "</table>\n",
       "</div>"
      ],
      "text/plain": [
       "      지점          MEA_DDHR  CWBUOY_WRTM  CWBUOY_WH  CWBUOY_ATENT_WH  \\\n",
       "0  22470  2016-04-01 00:00          6.3        0.1              0.1   \n",
       "1  22470  2016-04-01 01:00          6.4        0.2              0.1   \n",
       "2  22470  2016-04-01 02:00          6.5        0.2              0.1   \n",
       "3  22470  2016-04-01 03:00          6.4        0.1              0.1   \n",
       "4  22470  2016-04-01 04:00          6.4        0.2              0.1   \n",
       "\n",
       "   CWBUOY_AVG_WH  CWBUOY_WVPRD  \n",
       "0            0.1           6.6  \n",
       "1            0.1           7.1  \n",
       "2            0.1           6.6  \n",
       "3            0.1           4.3  \n",
       "4            0.1           4.2  "
      ]
     },
     "execution_count": 28,
     "metadata": {},
     "output_type": "execute_result"
    }
   ],
   "source": [
    "df_concat.head()"
   ]
  },
  {
   "cell_type": "code",
   "execution_count": 29,
   "metadata": {},
   "outputs": [
    {
     "data": {
      "text/plain": [
       "지점                   0\n",
       "MEA_DDHR             0\n",
       "CWBUOY_WRTM        496\n",
       "CWBUOY_WH           92\n",
       "CWBUOY_ATENT_WH     91\n",
       "CWBUOY_AVG_WH       90\n",
       "CWBUOY_WVPRD       413\n",
       "dtype: int64"
      ]
     },
     "execution_count": 29,
     "metadata": {},
     "output_type": "execute_result"
    }
   ],
   "source": [
    "df_concat.isnull().sum()"
   ]
  },
  {
   "cell_type": "code",
   "execution_count": 30,
   "metadata": {},
   "outputs": [],
   "source": [
    "del df_concat['지점']"
   ]
  },
  {
   "cell_type": "code",
   "execution_count": 31,
   "metadata": {},
   "outputs": [
    {
     "data": {
      "text/plain": [
       "MEA_DDHR            object\n",
       "CWBUOY_WRTM        float64\n",
       "CWBUOY_WH          float64\n",
       "CWBUOY_ATENT_WH    float64\n",
       "CWBUOY_AVG_WH      float64\n",
       "CWBUOY_WVPRD       float64\n",
       "dtype: object"
      ]
     },
     "execution_count": 31,
     "metadata": {},
     "output_type": "execute_result"
    }
   ],
   "source": [
    "df_concat.dtypes"
   ]
  },
  {
   "cell_type": "code",
   "execution_count": 32,
   "metadata": {},
   "outputs": [
    {
     "data": {
      "text/plain": [
       "<matplotlib.axes._subplots.AxesSubplot at 0x21db85bfb88>"
      ]
     },
     "execution_count": 32,
     "metadata": {},
     "output_type": "execute_result"
    },
    {
     "data": {
      "image/png": "[encoded data removed]",
      "text/plain": [
       "<Figure size 1080x720 with 2 Axes>"
      ]
     },
     "metadata": {
      "needs_background": "light"
     },
     "output_type": "display_data"
    }
   ],
   "source": [
    "plt.figure(figsize=(15,10))\n",
    "sns.heatmap(df_concat.isnull(), cmap=\"Greys\")"
   ]
  },
  {
   "cell_type": "code",
   "execution_count": 33,
   "metadata": {},
   "outputs": [
    {
     "data": {
      "text/plain": [
       "MEA_DDHR           0\n",
       "CWBUOY_WRTM        0\n",
       "CWBUOY_WH          0\n",
       "CWBUOY_ATENT_WH    0\n",
       "CWBUOY_AVG_WH      0\n",
       "CWBUOY_WVPRD       0\n",
       "dtype: int64"
      ]
     },
     "execution_count": 33,
     "metadata": {},
     "output_type": "execute_result"
    }
   ],
   "source": [
    "df_concat = df_concat.interpolate(method='linear')\n",
    "df_concat.isnull().sum()"
   ]
  },
  {
   "cell_type": "code",
   "execution_count": 34,
   "metadata": {},
   "outputs": [],
   "source": [
    "df_concat.to_csv(output_file, encoding='utf-8', index=False)"
   ]
  },
  {
   "cell_type": "code",
   "execution_count": 36,
   "metadata": {},
   "outputs": [
    {
     "data": {
      "text/plain": [
       "(34306, 6)"
      ]
     },
     "execution_count": 36,
     "metadata": {},
     "output_type": "execute_result"
    }
   ],
   "source": [
    "cwbuoy_merge = pd.read_csv('./data/22.savedata_weather/CWBUOY_merge.csv')\n",
    "cwbuoy_merge.shape"
   ]
  },
  {
   "cell_type": "code",
   "execution_count": null,
   "metadata": {},
   "outputs": [],
   "source": []
  }
 ],
 "metadata": {
  "kernelspec": {
   "display_name": "Python 3",
   "language": "python",
   "name": "python3"
  },
  "language_info": {
   "codemirror_mode": {
    "name": "ipython",
    "version": 3
   },
   "file_extension": ".py",
   "mimetype": "text/x-python",
   "name": "python",
   "nbconvert_exporter": "python",
   "pygments_lexer": "ipython3",
   "version": "3.7.4"
  },
  "toc": {
   "base_numbering": 1,
   "nav_menu": {},
   "number_sections": true,
   "sideBar": true,
   "skip_h1_title": false,
   "title_cell": "Table of Contents",
   "title_sidebar": "Contents",
   "toc_cell": false,
   "toc_position": {},
   "toc_section_display": true,
   "toc_window_display": false
  }
 },
 "nbformat": 4,
 "nbformat_minor": 2
}
