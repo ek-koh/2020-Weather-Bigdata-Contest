{
 "cells": [
  {
   "cell_type": "code",
   "execution_count": 24,
   "metadata": {
    "ExecuteTime": {
     "end_time": "2020-06-15T05:37:50.274593Z",
     "start_time": "2020-06-15T05:37:50.189829Z"
    }
   },
   "outputs": [],
   "source": [
    "import pandas as pd\n",
    "import missingno\n",
    "import matplotlib.pyplot as plt\n",
    "import seaborn as sns\n",
    "import numpy as np\n",
    "plant1 = pd.read_csv(\"data/11.rawdata_plant/plant1_train.csv\", encoding=\"utf-8\")"
   ]
  },
  {
   "cell_type": "code",
   "execution_count": 2,
   "metadata": {
    "ExecuteTime": {
     "end_time": "2020-06-15T05:05:43.129091Z",
     "start_time": "2020-06-15T05:05:43.123107Z"
    }
   },
   "outputs": [],
   "source": [
    "def upperData(data):\n",
    "    if data == \"plant_test\":\n",
    "        data = data.iloc[:,1:].copy()\n",
    "        data.columns = data.columns.str.replace(str(data)+\"_test\", \"\")\n",
    "        data.columns = data.columns.str.upper()\n",
    "        return data\n",
    "    else:\n",
    "        data = data.iloc[:,1:].copy()\n",
    "        data.columns = data.columns.str.replace(str(data)+\"_train\", \"\")\n",
    "        data.columns = data.columns.str.upper()\n",
    "        return data"
   ]
  },
  {
   "cell_type": "code",
   "execution_count": 3,
   "metadata": {
    "ExecuteTime": {
     "end_time": "2020-06-15T05:05:43.142564Z",
     "start_time": "2020-06-15T05:05:43.130643Z"
    }
   },
   "outputs": [],
   "source": [
    "def upperData(data):\n",
    "    data = data.iloc[:,1:].copy()\n",
    "    data.columns = data.columns.str.replace(str(data)+\"_train\", \"\")\n",
    "    data.columns = data.columns.str.upper()\n",
    "    return data\n"
   ]
  },
  {
   "cell_type": "code",
   "execution_count": 4,
   "metadata": {
    "ExecuteTime": {
     "end_time": "2020-06-15T05:05:43.626745Z",
     "start_time": "2020-06-15T05:05:43.589825Z"
    }
   },
   "outputs": [],
   "source": [
    "plant1 = upperData(plant1)"
   ]
  },
  {
   "cell_type": "code",
   "execution_count": 5,
   "metadata": {
    "ExecuteTime": {
     "end_time": "2020-06-15T05:05:43.990445Z",
     "start_time": "2020-06-15T05:05:43.969772Z"
    }
   },
   "outputs": [
    {
     "data": {
      "text/html": [
       "<div>\n",
       "<style scoped>\n",
       "    .dataframe tbody tr th:only-of-type {\n",
       "        vertical-align: middle;\n",
       "    }\n",
       "\n",
       "    .dataframe tbody tr th {\n",
       "        vertical-align: top;\n",
       "    }\n",
       "\n",
       "    .dataframe thead th {\n",
       "        text-align: right;\n",
       "    }\n",
       "</style>\n",
       "<table border=\"1\" class=\"dataframe\">\n",
       "  <thead>\n",
       "    <tr style=\"text-align: right;\">\n",
       "      <th></th>\n",
       "      <th>PLANT1_TRAIN.MEA_DDHR</th>\n",
       "      <th>PLANT1_TRAIN.TEM_IN_LOC1</th>\n",
       "      <th>PLANT1_TRAIN.HUM_IN_LOC1</th>\n",
       "      <th>PLANT1_TRAIN.TEM_COIL_LOC1</th>\n",
       "      <th>PLANT1_TRAIN.TEM_IN_LOC2</th>\n",
       "      <th>PLANT1_TRAIN.HUM_IN_LOC2</th>\n",
       "      <th>PLANT1_TRAIN.TEM_COIL_LOC2</th>\n",
       "      <th>PLANT1_TRAIN.TEM_IN_LOC3</th>\n",
       "      <th>PLANT1_TRAIN.HUM_IN_LOC3</th>\n",
       "      <th>PLANT1_TRAIN.TEM_COIL_LOC3</th>\n",
       "      <th>PLANT1_TRAIN.TEM_OUT_LOC1</th>\n",
       "      <th>PLANT1_TRAIN.HUM_OUT_LOC1</th>\n",
       "      <th>PLANT1_TRAIN.COND_LOC1</th>\n",
       "      <th>PLANT1_TRAIN.COND_LOC2</th>\n",
       "      <th>PLANT1_TRAIN.COND_LOC3</th>\n",
       "    </tr>\n",
       "  </thead>\n",
       "  <tbody>\n",
       "    <tr>\n",
       "      <td>0</td>\n",
       "      <td>2016-04-01 0:00</td>\n",
       "      <td>16.00</td>\n",
       "      <td>24.00</td>\n",
       "      <td>11.00</td>\n",
       "      <td>14.00</td>\n",
       "      <td>23.00</td>\n",
       "      <td>11.00</td>\n",
       "      <td>13.00</td>\n",
       "      <td>32.00</td>\n",
       "      <td>10.00</td>\n",
       "      <td>9.00</td>\n",
       "      <td>42.00</td>\n",
       "      <td>0.0</td>\n",
       "      <td>0.0</td>\n",
       "      <td>0.0</td>\n",
       "    </tr>\n",
       "    <tr>\n",
       "      <td>1</td>\n",
       "      <td>2016-04-01 3:00</td>\n",
       "      <td>14.00</td>\n",
       "      <td>28.00</td>\n",
       "      <td>10.00</td>\n",
       "      <td>12.00</td>\n",
       "      <td>32.00</td>\n",
       "      <td>9.00</td>\n",
       "      <td>11.00</td>\n",
       "      <td>42.00</td>\n",
       "      <td>7.00</td>\n",
       "      <td>7.00</td>\n",
       "      <td>59.00</td>\n",
       "      <td>0.0</td>\n",
       "      <td>0.0</td>\n",
       "      <td>0.0</td>\n",
       "    </tr>\n",
       "    <tr>\n",
       "      <td>2</td>\n",
       "      <td>2016-04-01 6:00</td>\n",
       "      <td>13.00</td>\n",
       "      <td>33.00</td>\n",
       "      <td>10.00</td>\n",
       "      <td>11.00</td>\n",
       "      <td>37.00</td>\n",
       "      <td>9.00</td>\n",
       "      <td>10.00</td>\n",
       "      <td>44.00</td>\n",
       "      <td>7.00</td>\n",
       "      <td>6.00</td>\n",
       "      <td>56.00</td>\n",
       "      <td>0.0</td>\n",
       "      <td>0.0</td>\n",
       "      <td>0.0</td>\n",
       "    </tr>\n",
       "    <tr>\n",
       "      <td>3</td>\n",
       "      <td>2016-04-01 9:00</td>\n",
       "      <td>13.00</td>\n",
       "      <td>33.00</td>\n",
       "      <td>10.00</td>\n",
       "      <td>11.00</td>\n",
       "      <td>35.00</td>\n",
       "      <td>9.00</td>\n",
       "      <td>10.00</td>\n",
       "      <td>41.00</td>\n",
       "      <td>8.00</td>\n",
       "      <td>18.00</td>\n",
       "      <td>30.00</td>\n",
       "      <td>0.0</td>\n",
       "      <td>0.0</td>\n",
       "      <td>0.0</td>\n",
       "    </tr>\n",
       "    <tr>\n",
       "      <td>4</td>\n",
       "      <td>2016-04-01 12:00</td>\n",
       "      <td>16.00</td>\n",
       "      <td>28.00</td>\n",
       "      <td>10.00</td>\n",
       "      <td>15.00</td>\n",
       "      <td>27.00</td>\n",
       "      <td>11.00</td>\n",
       "      <td>14.00</td>\n",
       "      <td>30.00</td>\n",
       "      <td>9.00</td>\n",
       "      <td>18.00</td>\n",
       "      <td>20.00</td>\n",
       "      <td>0.0</td>\n",
       "      <td>0.0</td>\n",
       "      <td>0.0</td>\n",
       "    </tr>\n",
       "    <tr>\n",
       "      <td>...</td>\n",
       "      <td>...</td>\n",
       "      <td>...</td>\n",
       "      <td>...</td>\n",
       "      <td>...</td>\n",
       "      <td>...</td>\n",
       "      <td>...</td>\n",
       "      <td>...</td>\n",
       "      <td>...</td>\n",
       "      <td>...</td>\n",
       "      <td>...</td>\n",
       "      <td>...</td>\n",
       "      <td>...</td>\n",
       "      <td>...</td>\n",
       "      <td>...</td>\n",
       "      <td>...</td>\n",
       "    </tr>\n",
       "    <tr>\n",
       "      <td>58744</td>\n",
       "      <td>2019-03-31 23:10</td>\n",
       "      <td>10.52</td>\n",
       "      <td>36.39</td>\n",
       "      <td>10.52</td>\n",
       "      <td>10.55</td>\n",
       "      <td>35.20</td>\n",
       "      <td>11.17</td>\n",
       "      <td>9.85</td>\n",
       "      <td>37.88</td>\n",
       "      <td>9.79</td>\n",
       "      <td>6.40</td>\n",
       "      <td>43.86</td>\n",
       "      <td>0.0</td>\n",
       "      <td>0.0</td>\n",
       "      <td>0.0</td>\n",
       "    </tr>\n",
       "    <tr>\n",
       "      <td>58745</td>\n",
       "      <td>2019-03-31 23:20</td>\n",
       "      <td>10.52</td>\n",
       "      <td>37.09</td>\n",
       "      <td>10.44</td>\n",
       "      <td>10.55</td>\n",
       "      <td>35.53</td>\n",
       "      <td>11.09</td>\n",
       "      <td>9.88</td>\n",
       "      <td>38.40</td>\n",
       "      <td>9.72</td>\n",
       "      <td>6.34</td>\n",
       "      <td>44.02</td>\n",
       "      <td>0.0</td>\n",
       "      <td>0.0</td>\n",
       "      <td>0.0</td>\n",
       "    </tr>\n",
       "    <tr>\n",
       "      <td>58746</td>\n",
       "      <td>2019-03-31 23:30</td>\n",
       "      <td>10.43</td>\n",
       "      <td>37.18</td>\n",
       "      <td>10.56</td>\n",
       "      <td>10.49</td>\n",
       "      <td>35.65</td>\n",
       "      <td>11.21</td>\n",
       "      <td>9.85</td>\n",
       "      <td>38.22</td>\n",
       "      <td>9.91</td>\n",
       "      <td>6.40</td>\n",
       "      <td>43.04</td>\n",
       "      <td>0.0</td>\n",
       "      <td>0.0</td>\n",
       "      <td>0.0</td>\n",
       "    </tr>\n",
       "    <tr>\n",
       "      <td>58747</td>\n",
       "      <td>2019-03-31 23:40</td>\n",
       "      <td>10.49</td>\n",
       "      <td>38.00</td>\n",
       "      <td>10.56</td>\n",
       "      <td>10.55</td>\n",
       "      <td>36.08</td>\n",
       "      <td>11.21</td>\n",
       "      <td>9.82</td>\n",
       "      <td>38.95</td>\n",
       "      <td>9.83</td>\n",
       "      <td>6.31</td>\n",
       "      <td>45.33</td>\n",
       "      <td>0.0</td>\n",
       "      <td>0.0</td>\n",
       "      <td>0.0</td>\n",
       "    </tr>\n",
       "    <tr>\n",
       "      <td>58748</td>\n",
       "      <td>2019-03-31 23:50</td>\n",
       "      <td>10.49</td>\n",
       "      <td>38.74</td>\n",
       "      <td>10.52</td>\n",
       "      <td>10.55</td>\n",
       "      <td>36.69</td>\n",
       "      <td>11.01</td>\n",
       "      <td>9.82</td>\n",
       "      <td>39.35</td>\n",
       "      <td>9.83</td>\n",
       "      <td>6.34</td>\n",
       "      <td>45.94</td>\n",
       "      <td>0.0</td>\n",
       "      <td>0.0</td>\n",
       "      <td>0.0</td>\n",
       "    </tr>\n",
       "  </tbody>\n",
       "</table>\n",
       "<p>58749 rows × 15 columns</p>\n",
       "</div>"
      ],
      "text/plain": [
       "      PLANT1_TRAIN.MEA_DDHR  PLANT1_TRAIN.TEM_IN_LOC1  \\\n",
       "0           2016-04-01 0:00                     16.00   \n",
       "1           2016-04-01 3:00                     14.00   \n",
       "2           2016-04-01 6:00                     13.00   \n",
       "3           2016-04-01 9:00                     13.00   \n",
       "4          2016-04-01 12:00                     16.00   \n",
       "...                     ...                       ...   \n",
       "58744      2019-03-31 23:10                     10.52   \n",
       "58745      2019-03-31 23:20                     10.52   \n",
       "58746      2019-03-31 23:30                     10.43   \n",
       "58747      2019-03-31 23:40                     10.49   \n",
       "58748      2019-03-31 23:50                     10.49   \n",
       "\n",
       "       PLANT1_TRAIN.HUM_IN_LOC1  PLANT1_TRAIN.TEM_COIL_LOC1  \\\n",
       "0                         24.00                       11.00   \n",
       "1                         28.00                       10.00   \n",
       "2                         33.00                       10.00   \n",
       "3                         33.00                       10.00   \n",
       "4                         28.00                       10.00   \n",
       "...                         ...                         ...   \n",
       "58744                     36.39                       10.52   \n",
       "58745                     37.09                       10.44   \n",
       "58746                     37.18                       10.56   \n",
       "58747                     38.00                       10.56   \n",
       "58748                     38.74                       10.52   \n",
       "\n",
       "       PLANT1_TRAIN.TEM_IN_LOC2  PLANT1_TRAIN.HUM_IN_LOC2  \\\n",
       "0                         14.00                     23.00   \n",
       "1                         12.00                     32.00   \n",
       "2                         11.00                     37.00   \n",
       "3                         11.00                     35.00   \n",
       "4                         15.00                     27.00   \n",
       "...                         ...                       ...   \n",
       "58744                     10.55                     35.20   \n",
       "58745                     10.55                     35.53   \n",
       "58746                     10.49                     35.65   \n",
       "58747                     10.55                     36.08   \n",
       "58748                     10.55                     36.69   \n",
       "\n",
       "       PLANT1_TRAIN.TEM_COIL_LOC2  PLANT1_TRAIN.TEM_IN_LOC3  \\\n",
       "0                           11.00                     13.00   \n",
       "1                            9.00                     11.00   \n",
       "2                            9.00                     10.00   \n",
       "3                            9.00                     10.00   \n",
       "4                           11.00                     14.00   \n",
       "...                           ...                       ...   \n",
       "58744                       11.17                      9.85   \n",
       "58745                       11.09                      9.88   \n",
       "58746                       11.21                      9.85   \n",
       "58747                       11.21                      9.82   \n",
       "58748                       11.01                      9.82   \n",
       "\n",
       "       PLANT1_TRAIN.HUM_IN_LOC3  PLANT1_TRAIN.TEM_COIL_LOC3  \\\n",
       "0                         32.00                       10.00   \n",
       "1                         42.00                        7.00   \n",
       "2                         44.00                        7.00   \n",
       "3                         41.00                        8.00   \n",
       "4                         30.00                        9.00   \n",
       "...                         ...                         ...   \n",
       "58744                     37.88                        9.79   \n",
       "58745                     38.40                        9.72   \n",
       "58746                     38.22                        9.91   \n",
       "58747                     38.95                        9.83   \n",
       "58748                     39.35                        9.83   \n",
       "\n",
       "       PLANT1_TRAIN.TEM_OUT_LOC1  PLANT1_TRAIN.HUM_OUT_LOC1  \\\n",
       "0                           9.00                      42.00   \n",
       "1                           7.00                      59.00   \n",
       "2                           6.00                      56.00   \n",
       "3                          18.00                      30.00   \n",
       "4                          18.00                      20.00   \n",
       "...                          ...                        ...   \n",
       "58744                       6.40                      43.86   \n",
       "58745                       6.34                      44.02   \n",
       "58746                       6.40                      43.04   \n",
       "58747                       6.31                      45.33   \n",
       "58748                       6.34                      45.94   \n",
       "\n",
       "       PLANT1_TRAIN.COND_LOC1  PLANT1_TRAIN.COND_LOC2  PLANT1_TRAIN.COND_LOC3  \n",
       "0                         0.0                     0.0                     0.0  \n",
       "1                         0.0                     0.0                     0.0  \n",
       "2                         0.0                     0.0                     0.0  \n",
       "3                         0.0                     0.0                     0.0  \n",
       "4                         0.0                     0.0                     0.0  \n",
       "...                       ...                     ...                     ...  \n",
       "58744                     0.0                     0.0                     0.0  \n",
       "58745                     0.0                     0.0                     0.0  \n",
       "58746                     0.0                     0.0                     0.0  \n",
       "58747                     0.0                     0.0                     0.0  \n",
       "58748                     0.0                     0.0                     0.0  \n",
       "\n",
       "[58749 rows x 15 columns]"
      ]
     },
     "execution_count": 5,
     "metadata": {},
     "output_type": "execute_result"
    }
   ],
   "source": [
    "plant1"
   ]
  },
  {
   "cell_type": "code",
   "execution_count": 56,
   "metadata": {
    "ExecuteTime": {
     "end_time": "2020-06-15T05:46:06.597217Z",
     "start_time": "2020-06-15T05:46:06.593601Z"
    }
   },
   "outputs": [],
   "source": [
    "import os\n",
    "from datetime import datetime as dt\n",
    "def save_validation_csv():\n",
    "    save_path = \"data/41.validation/rforest/\"+str(dt.today().strftime(\"%Y%m%d-%H:%M:%S\"))\n",
    "    if not os.path.isdir(save_path):\n",
    "        os.mkdir(save_path)"
   ]
  },
  {
   "cell_type": "code",
   "execution_count": 57,
   "metadata": {
    "ExecuteTime": {
     "end_time": "2020-06-15T05:46:07.007191Z",
     "start_time": "2020-06-15T05:46:06.996860Z"
    }
   },
   "outputs": [
    {
     "ename": "OSError",
     "evalue": "[WinError 123] 파일 이름, 디렉터리 이름 또는 볼륨 레이블 구문이 잘못되었습니다: 'data/41.validation/rforest/20200615-14:46:06'",
     "output_type": "error",
     "traceback": [
      "\u001b[1;31m---------------------------------------------------------------------------\u001b[0m",
      "\u001b[1;31mOSError\u001b[0m                                   Traceback (most recent call last)",
      "\u001b[1;32m<ipython-input-57-cedb13752a51>\u001b[0m in \u001b[0;36m<module>\u001b[1;34m\u001b[0m\n\u001b[0;32m      1\u001b[0m \u001b[0mrforest\u001b[0m\u001b[1;33m=\u001b[0m \u001b[1;34m\"rforest\"\u001b[0m\u001b[1;33m\u001b[0m\u001b[1;33m\u001b[0m\u001b[0m\n\u001b[1;32m----> 2\u001b[1;33m \u001b[0msave_validation_csv\u001b[0m\u001b[1;33m(\u001b[0m\u001b[1;33m)\u001b[0m\u001b[1;33m\u001b[0m\u001b[1;33m\u001b[0m\u001b[0m\n\u001b[0m",
      "\u001b[1;32m<ipython-input-56-3ce3c2b39336>\u001b[0m in \u001b[0;36msave_validation_csv\u001b[1;34m()\u001b[0m\n\u001b[0;32m      4\u001b[0m     \u001b[0msave_path\u001b[0m \u001b[1;33m=\u001b[0m \u001b[1;34m\"data/41.validation/rforest/\"\u001b[0m\u001b[1;33m+\u001b[0m\u001b[0mstr\u001b[0m\u001b[1;33m(\u001b[0m\u001b[0mdt\u001b[0m\u001b[1;33m.\u001b[0m\u001b[0mtoday\u001b[0m\u001b[1;33m(\u001b[0m\u001b[1;33m)\u001b[0m\u001b[1;33m.\u001b[0m\u001b[0mstrftime\u001b[0m\u001b[1;33m(\u001b[0m\u001b[1;34m\"%Y%m%d-%H:%M:%S\"\u001b[0m\u001b[1;33m)\u001b[0m\u001b[1;33m)\u001b[0m\u001b[1;33m\u001b[0m\u001b[1;33m\u001b[0m\u001b[0m\n\u001b[0;32m      5\u001b[0m     \u001b[1;32mif\u001b[0m \u001b[1;32mnot\u001b[0m \u001b[0mos\u001b[0m\u001b[1;33m.\u001b[0m\u001b[0mpath\u001b[0m\u001b[1;33m.\u001b[0m\u001b[0misdir\u001b[0m\u001b[1;33m(\u001b[0m\u001b[0msave_path\u001b[0m\u001b[1;33m)\u001b[0m\u001b[1;33m:\u001b[0m\u001b[1;33m\u001b[0m\u001b[1;33m\u001b[0m\u001b[0m\n\u001b[1;32m----> 6\u001b[1;33m         \u001b[0mos\u001b[0m\u001b[1;33m.\u001b[0m\u001b[0mmkdir\u001b[0m\u001b[1;33m(\u001b[0m\u001b[0msave_path\u001b[0m\u001b[1;33m)\u001b[0m\u001b[1;33m\u001b[0m\u001b[1;33m\u001b[0m\u001b[0m\n\u001b[0m",
      "\u001b[1;31mOSError\u001b[0m: [WinError 123] 파일 이름, 디렉터리 이름 또는 볼륨 레이블 구문이 잘못되었습니다: 'data/41.validation/rforest/20200615-14:46:06'"
     ]
    }
   ],
   "source": [
    "rforest= \"rforest\"\n",
    "save_validation_csv()"
   ]
  },
  {
   "cell_type": "code",
   "execution_count": 60,
   "metadata": {
    "ExecuteTime": {
     "end_time": "2020-06-15T05:47:34.303407Z",
     "start_time": "2020-06-15T05:47:34.299422Z"
    }
   },
   "outputs": [],
   "source": [
    "save_path = \"data/41.validation/rforest/\"+str(dt.today().strftime(\"%Y%m%d%H%M%S\"))\n",
    "if not os.path.isdir(save_path):\n",
    "    os.mkdir(save_path)"
   ]
  },
  {
   "cell_type": "code",
   "execution_count": 68,
   "metadata": {
    "ExecuteTime": {
     "end_time": "2020-06-15T05:50:51.520781Z",
     "start_time": "2020-06-15T05:50:51.516358Z"
    }
   },
   "outputs": [],
   "source": [
    "import os\n",
    "from datetime import datetime as dt\n",
    "def save_validation_csv(data, model_name):\n",
    "    \"\"\"모델 별로 저장해주는 함수 data 값과 저장 모델 명을 넣으면 된다\"\"\"\n",
    "    print(model_name)\n",
    "    save_path = \"data/41.validation/\"+model_name+\"/\"+str(dt.today().strftime(\"%Y%m%d%H%M%S\"))\n",
    "    if not os.path.isdir(save_path):\n",
    "        os.mkdir(save_path)\n",
    "    data.to_csv(save_path+\"/203545.csv\",index=False)"
   ]
  },
  {
   "cell_type": "code",
   "execution_count": 40,
   "metadata": {
    "ExecuteTime": {
     "end_time": "2020-06-15T05:42:17.914168Z",
     "start_time": "2020-06-15T05:42:17.909190Z"
    }
   },
   "outputs": [
    {
     "data": {
      "text/plain": [
       "'20200615-14:42:17'"
      ]
     },
     "execution_count": 40,
     "metadata": {},
     "output_type": "execute_result"
    }
   ],
   "source": [
    "datetime.today().strftime(\"%Y%m%d-%H:%M:%S\")"
   ]
  },
  {
   "cell_type": "code",
   "execution_count": 67,
   "metadata": {
    "ExecuteTime": {
     "end_time": "2020-06-15T05:49:11.962047Z",
     "start_time": "2020-06-15T05:49:11.296645Z"
    }
   },
   "outputs": [
    {
     "name": "stdout",
     "output_type": "stream",
     "text": [
      "rforest\n"
     ]
    }
   ],
   "source": [
    "rforest= \"rforest\"\n",
    "save_validation_csv(plant1,\"rforest\")"
   ]
  },
  {
   "cell_type": "code",
   "execution_count": 27,
   "metadata": {
    "ExecuteTime": {
     "end_time": "2020-06-15T05:39:23.999251Z",
     "start_time": "2020-06-15T05:39:23.994265Z"
    }
   },
   "outputs": [
    {
     "data": {
      "text/plain": [
       "'rforest'"
      ]
     },
     "execution_count": 27,
     "metadata": {},
     "output_type": "execute_result"
    }
   ],
   "source": [
    "\"rforest\""
   ]
  },
  {
   "cell_type": "code",
   "execution_count": null,
   "metadata": {},
   "outputs": [],
   "source": []
  }
 ],
 "metadata": {
  "hide_input": false,
  "kernelspec": {
   "display_name": "Python 3",
   "language": "python",
   "name": "python3"
  },
  "language_info": {
   "codemirror_mode": {
    "name": "ipython",
    "version": 3
   },
   "file_extension": ".py",
   "mimetype": "text/x-python",
   "name": "python",
   "nbconvert_exporter": "python",
   "pygments_lexer": "ipython3",
   "version": "3.7.4"
  },
  "toc": {
   "base_numbering": 1,
   "nav_menu": {},
   "number_sections": true,
   "sideBar": true,
   "skip_h1_title": false,
   "title_cell": "Table of Contents",
   "title_sidebar": "Contents",
   "toc_cell": false,
   "toc_position": {},
   "toc_section_display": true,
   "toc_window_display": false
  }
 },
 "nbformat": 4,
 "nbformat_minor": 2
}
